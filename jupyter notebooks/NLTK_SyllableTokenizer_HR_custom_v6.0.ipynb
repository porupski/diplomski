{
 "cells": [
  {
   "cell_type": "code",
   "execution_count": 13,
   "id": "a1a91377-a581-4313-bd92-bfe75f9f92ed",
   "metadata": {},
   "outputs": [
    {
     "name": "stderr",
     "output_type": "stream",
     "text": [
      "[nltk_data] Downloading package omw-1.4 to C:\\Users\\Mr Cab\n",
      "[nltk_data]     Driver\\AppData\\Roaming\\nltk_data...\n"
     ]
    },
    {
     "data": {
      "text/plain": [
       "True"
      ]
     },
     "execution_count": 13,
     "metadata": {},
     "output_type": "execute_result"
    }
   ],
   "source": [
    "#import nltk\n",
    "#nltk.download('punkt')\n",
    "# import nltk\n",
    "# nltk.download('wordnet')\n",
    "# import nltk\n",
    "# nltk.download('omw-1.4')"
   ]
  },
  {
   "cell_type": "markdown",
   "id": "14e7e0ff-54d5-49c6-8094-024a606b81e6",
   "metadata": {},
   "source": [
    "# Jezični alat za analizu slogova korpusa\n",
    "## Opojančivanje na slogove te generiranje govornog materijala | Ivan Porupski 2024(c)\n",
    "\n",
    "Ovaj jezični alat uzima korpus teksta, tokenizerom odvaja prvo riječi iz rečenica, zatim svaku riječ na slogove prema hierarhiji sonornosti (NLTK).\n",
    "Dobivene slogove analizira:\n",
    "- Koliko jedinstvenih slogova postoji?\n",
    "- Koliko svakog jedinstvenog sloga ima često?\n",
    "- Koliko slogova ima u svakoj pojedinoj riječi teksta?\n",
    "- Koliko svaki slog ima fonema?\n",
    "- Koliko ima n-fonemskih slogova?\n"
   ]
  },
  {
   "cell_type": "markdown",
   "id": "dee3a408-49fe-4b75-a4f0-30ef55f7b735",
   "metadata": {
    "execution": {
     "iopub.execute_input": "2024-05-12T21:45:14.947968Z",
     "iopub.status.busy": "2024-05-12T21:45:14.947968Z",
     "iopub.status.idle": "2024-05-12T21:45:14.950315Z",
     "shell.execute_reply": "2024-05-12T21:45:14.950315Z",
     "shell.execute_reply.started": "2024-05-12T21:45:14.947968Z"
    }
   },
   "source": [
    "# [0.] START THE MACHINE"
   ]
  },
  {
   "cell_type": "code",
   "execution_count": 1,
   "id": "3196c9cc-69eb-4946-a10f-063a0a89535d",
   "metadata": {
    "execution": {
     "iopub.execute_input": "2024-05-23T19:31:10.914388Z",
     "iopub.status.busy": "2024-05-23T19:31:10.914388Z",
     "iopub.status.idle": "2024-05-23T19:31:14.145547Z",
     "shell.execute_reply": "2024-05-23T19:31:14.145547Z",
     "shell.execute_reply.started": "2024-05-23T19:31:10.914388Z"
    }
   },
   "outputs": [
    {
     "name": "stdout",
     "output_type": "stream",
     "text": [
      "NLTK version: 3.8.1\n",
      "CPU times: total: 938 ms\n",
      "Wall time: 3.22 s\n"
     ]
    }
   ],
   "source": [
    "%%time\n",
    "import nltk\n",
    "\n",
    "# Check if NLTK is installed\n",
    "try:\n",
    "    import nltk\n",
    "    nltk_installed = True\n",
    "except ImportError:\n",
    "    nltk_installed = False\n",
    "\n",
    "if nltk_installed:\n",
    "    # Print NLTK version\n",
    "    print(\"NLTK version:\", nltk.__version__)\n",
    "else:\n",
    "    print(\"NLTK is not installed.\")\n"
   ]
  },
  {
   "cell_type": "code",
   "execution_count": 2,
   "id": "8a0d68e4-5703-41a8-b419-6b8a83ecb4bb",
   "metadata": {
    "execution": {
     "iopub.execute_input": "2024-05-23T19:31:14.147537Z",
     "iopub.status.busy": "2024-05-23T19:31:14.146541Z",
     "iopub.status.idle": "2024-05-23T19:31:14.166489Z",
     "shell.execute_reply": "2024-05-23T19:31:14.162498Z",
     "shell.execute_reply.started": "2024-05-23T19:31:14.147537Z"
    }
   },
   "outputs": [
    {
     "name": "stdout",
     "output_type": "stream",
     "text": [
      "Tokenizer aktivan:\n",
      " <__main__.CroatianSyllableTokenizer object at 0x000001BD67744F10>\n",
      "\n",
      "Primjer rastavljanja na slogove:\n",
      "do bar dan ka ko smo da nas \n",
      "što si jeo što si \n",
      "ra dio ka da je pa da la tu ča \n",
      "me ni ra vno u džep o vo \n",
      "je prim jer teks ta za to ke ni za ci ju \n",
      "na slo go ve i de ja je pos ti ći \n",
      "neš to što će raz bi ti ri je či \n",
      "pa ti me i mo ći sla ga ti \n",
      "la žne ri je či ko je zvu če hr vats ki \n",
      "CPU times: total: 15.6 ms\n",
      "Wall time: 7.98 ms\n"
     ]
    }
   ],
   "source": [
    "%%time\n",
    "\n",
    "import re\n",
    "import warnings\n",
    "from string import punctuation\n",
    "from nltk.tokenize import word_tokenize, SyllableTokenizer\n",
    "\n",
    "class CroatianSyllableTokenizer:\n",
    "    def __init__(self, lang=\"hr\", sonority_hierarchy=None):\n",
    "        if not sonority_hierarchy and lang == \"hr\":\n",
    "            sonority_hierarchy = [\n",
    "                \"aeiour\",   # vowels in Croatian\n",
    "                \"lmnj\",     # nasals\n",
    "                #\"r\",       # rhotic\n",
    "                \"zžvsšf\",    # fricatives\n",
    "                \"bcćčdđgtkpqxh\",  # stops\n",
    "                \" \",        # Space\n",
    "            ]\n",
    "        self.syllable_tokenizer = SyllableTokenizer(sonority_hierarchy=sonority_hierarchy)\n",
    "\n",
    "    def tokenize(self, text):\n",
    "        words = word_tokenize(text)  # Tokenize the text into words\n",
    "        words = [word for word in words if word not in [' ']]  # Remove empty spaces\n",
    "        syllables = [self.syllable_tokenizer.tokenize(word) for word in words]  # Tokenize each word into syllables\n",
    "        return syllables\n",
    "\n",
    "# DISPLAY SLOGOVA U OUTPUTU\n",
    "def print_syllables(syllables, words_per_row=5, rows_to_display=5):\n",
    "    words_count = 0\n",
    "    rows_count = 0\n",
    "    for word_syllables in syllables:\n",
    "        word = ' '.join(word_syllables)\n",
    "        print(word, end=' ')\n",
    "        words_count += 1\n",
    "        if words_count >= words_per_row:\n",
    "            print()  # Empty line to separate rows\n",
    "            words_count = 0\n",
    "            rows_count += 1\n",
    "            if rows_count >= rows_to_display:\n",
    "                return\n",
    "\n",
    "# Example usage\n",
    "tokenizer = CroatianSyllableTokenizer()\n",
    "print(f\"Tokenizer aktivan:\\n {tokenizer}\\n\")\n",
    "text_npr = \"dobar dan kako smo danas što si jeo što si radio kada je padala tuča meni ravno u džep ovo je primjer teksta za tokenizaciju na slogove ideja je postići nešto što će razbiti riječi pa time i moći slagati lažne riječi koje zvuče hrvatski\"\n",
    "syllables = tokenizer.tokenize(text_npr)\n",
    "\n",
    "print(\"Primjer rastavljanja na slogove:\")\n",
    "print_syllables(syllables, words_per_row=5, rows_to_display=10)\n"
   ]
  },
  {
   "cell_type": "code",
   "execution_count": 3,
   "id": "2ede4f83-a3b7-48f6-9850-1dc0d9845980",
   "metadata": {
    "execution": {
     "iopub.execute_input": "2024-05-23T19:31:14.170477Z",
     "iopub.status.busy": "2024-05-23T19:31:14.168482Z",
     "iopub.status.idle": "2024-05-23T19:31:18.843491Z",
     "shell.execute_reply": "2024-05-23T19:31:18.843491Z",
     "shell.execute_reply.started": "2024-05-23T19:31:14.170477Z"
    },
    "scrolled": true
   },
   "outputs": [
    {
     "name": "stdout",
     "output_type": "stream",
     "text": [
      "Broj fonema: 27 plus razmak \n",
      " (fonemi /nj, lj, dž/ se broje kao kombinaciju n+j itd.)\n",
      "\n",
      "Prvih 100 znakova:\n",
      "lijepo kolegice i kolege nemojte se vi varda hihotat prije g ste izdali birače sad jedva čekam da vi ...\n",
      "CPU times: total: 4.5 s\n",
      "Wall time: 4.67 s\n"
     ]
    }
   ],
   "source": [
    "%%time\n",
    "# LOAD CUSTOM TEXT CORPORA\n",
    "# Clean text from characters not found within the sonority hierarchy\n",
    "\n",
    "# Tokenizer has custom-made HR default:\n",
    "# sonority_hierarchy = [\n",
    "#      \"aeiour\",   # vowels in Croatian\n",
    "#      \"lmnj\",     # nasals\n",
    "#      #\"r\",       # rhotic\n",
    "#      \"zžvsšf\",    # fricatives\n",
    "#      \"bcćčdđgtkpqxh\",  # stops\n",
    "#      \" \",        # Space\n",
    "#  ]\n",
    "\n",
    "import re\n",
    "\n",
    "# FILE TXT LOCATION\n",
    "corpus_txt_file = \"blok_teksta_jedan_ParlaSpeech-HR.v1.2.txt\"\n",
    "\n",
    "with open(corpus_txt_file, \"r\", encoding=\"utf-8\") as file:\n",
    "    corpus_text = file.read()\n",
    "\n",
    "\n",
    "# Cleaning text from everything but sonority elements\n",
    "def clean_text(corpus_text, valid_chars):\n",
    "    # Define regex pattern to match characters not in the sonority hierarchy\n",
    "    pattern = f\"[^{valid_chars}]\"\n",
    "    \n",
    "    # Remove characters not in the sonority hierarchy\n",
    "    cleaned_corpus_text = re.sub(pattern, '', corpus_text)\n",
    "    \n",
    "    # Normalize consecutive spaces to a single space\n",
    "    cleaned_corpus_text = re.sub(r'\\s+', ' ', cleaned_corpus_text)\n",
    "    \n",
    "    return cleaned_corpus_text\n",
    "\n",
    "# GLAVNA VARIJABLA SADA JE cleaned_corpus_text\n",
    "valid_chars = \"aeiourlmnjzžvsšfbcćčdđgtkph \"\n",
    "print(f\"Broj fonema: {len(valid_chars)-1} plus razmak \\n (fonemi /nj, lj, dž/ se broje kao kombinaciju n+j itd.)\\n\")\n",
    "\n",
    "cleaned_corpus_text = clean_text(corpus_text, valid_chars)\n",
    "print(f\"Prvih 100 znakova:\\n{cleaned_corpus_text[:100]} ...\")\n",
    "\n",
    "# syllables_txt = tokenizer.tokenize(text)\n",
    "# print_syllables(syllables_txt, words_per_row=5, rows_to_display=10)"
   ]
  },
  {
   "cell_type": "markdown",
   "id": "7dbf1be7-c3b8-4517-a76c-3a6611c6642e",
   "metadata": {},
   "source": [
    "## TOKENIZE A CORPUS"
   ]
  },
  {
   "cell_type": "code",
   "execution_count": 4,
   "id": "d39864ac-8d0d-4344-8ce5-57bcd8ee17e3",
   "metadata": {
    "execution": {
     "iopub.execute_input": "2024-05-12T14:41:55.104433Z",
     "iopub.status.busy": "2024-05-12T14:41:55.103439Z",
     "iopub.status.idle": "2024-05-12T14:43:35.081770Z",
     "shell.execute_reply": "2024-05-12T14:43:35.081770Z",
     "shell.execute_reply.started": "2024-05-12T14:41:55.104433Z"
    }
   },
   "outputs": [
    {
     "name": "stdout",
     "output_type": "stream",
     "text": [
      "Tokenizer aktivan: <__main__.CroatianSyllableTokenizer object at 0x0000023F89BDE250>\n",
      "\n",
      "li je po ko le gi ce i ko le ge ne moj te \n",
      "se vi var da hi ho tat pri je \n",
      "g ste iz da li bir a če sad \n",
      "je dva če kam da vi dim ka ko \n",
      "će vas na gra dit je dva če kam \n",
      "hva la li je po ko le gi ce i ko le ga \n",
      "ko le ge zas tu pni ci g pot pre dsje dni če hdz \n",
      "že li po ku ša ti da ti o be ćan je za \n",
      "mje se ci da će ne ki gra đa ni \n",
      "do bi ti sto ti na ku na i je di na \n",
      "CPU times: total: 1min 39s\n",
      "Wall time: 1min 39s\n"
     ]
    }
   ],
   "source": [
    "%%time\n",
    "\n",
    "\n",
    "# TOKENIZE CORPUS INTO SYLLABLES (Time intensive, rather LOAD the 134MB file)\n",
    "\n",
    "\n",
    "tokenizer = CroatianSyllableTokenizer()\n",
    "print(f\"Tokenizer aktivan: {tokenizer}\\n\")\n",
    "\n",
    "# SLOGOVI cleaned_corpus_text-a\n",
    "syllables = tokenizer.tokenize(cleaned_corpus_text)\n",
    "print_syllables(syllables, words_per_row=5, rows_to_display=10)"
   ]
  },
  {
   "cell_type": "markdown",
   "id": "a0869838-b84d-4569-92e9-b8963aff7dbe",
   "metadata": {},
   "source": [
    "## SAVE TOKENIZED CORPUS"
   ]
  },
  {
   "cell_type": "code",
   "execution_count": 5,
   "id": "d3a007b2-51cf-473d-8b76-57f882bceae1",
   "metadata": {
    "execution": {
     "iopub.execute_input": "2024-05-12T14:43:41.680054Z",
     "iopub.status.busy": "2024-05-12T14:43:41.680054Z",
     "iopub.status.idle": "2024-05-12T14:43:44.963235Z",
     "shell.execute_reply": "2024-05-12T14:43:44.962240Z",
     "shell.execute_reply.started": "2024-05-12T14:43:41.680054Z"
    }
   },
   "outputs": [
    {
     "name": "stdout",
     "output_type": "stream",
     "text": [
      "CVS named blok_ociscen_ParlaSpeechHR_syllables_v1.csv has been SAVED.\n"
     ]
    }
   ],
   "source": [
    "# SAVE SYLLABLIZED CORPUS TEXT as CSV\n",
    "# UTF-8 encoding\n",
    "\n",
    "import csv\n",
    "\n",
    "def save_syllables_to_csv(syllables, file_path):\n",
    "    with open(file_path, 'w', newline='', encoding='utf-8') as f:\n",
    "        writer = csv.writer(f)\n",
    "        for sublist in syllables:\n",
    "            writer.writerow(sublist)\n",
    "\n",
    "#syllables = tokenizer.tokenize(cleaned_corpus_text)\n",
    "save_syllables_to_csv(syllables, 'blok_ociscen_ParlaSpeechHR_syllables_v1.csv')\n",
    "print(f\"CVS named blok_ociscen_ParlaSpeechHR_syllables_v1.csv has been SAVED.\")\n"
   ]
  },
  {
   "cell_type": "markdown",
   "id": "5b64f56a-6e89-4013-83c7-26c51bfd2fc8",
   "metadata": {},
   "source": [
    "# [1.] LOAD TOKENIZED CORPUS"
   ]
  },
  {
   "cell_type": "code",
   "execution_count": 4,
   "id": "06b38da9-1d13-459e-886f-4e22d9cdb320",
   "metadata": {
    "execution": {
     "iopub.execute_input": "2024-05-23T19:31:27.393278Z",
     "iopub.status.busy": "2024-05-23T19:31:27.392279Z",
     "iopub.status.idle": "2024-05-23T19:31:39.498935Z",
     "shell.execute_reply": "2024-05-23T19:31:39.498935Z",
     "shell.execute_reply.started": "2024-05-23T19:31:27.392279Z"
    }
   },
   "outputs": [
    {
     "name": "stdout",
     "output_type": "stream",
     "text": [
      "Function load_syllables_from_csv has been successful!\n",
      "\n",
      "Printing loaded CVS: 5 words each row, for 10 rows\n",
      "\n",
      "li je po ko le gi ce i ko le ge ne moj te \n",
      "se vi var da hi ho tat pri je \n",
      "g ste iz da li bir a če sad \n",
      "je dva če kam da vi dim ka ko \n",
      "će vas na gra dit je dva če kam \n",
      "hva la li je po ko le gi ce i ko le ga \n",
      "ko le ge zas tu pni ci g pot pre dsje dni če hdz \n",
      "že li po ku ša ti da ti o be ćan je za \n",
      "mje se ci da će ne ki gra đa ni \n",
      "do bi ti sto ti na ku na i je di na \n"
     ]
    }
   ],
   "source": [
    "# LOAD SYLLABLIZED CORPUS TEXT from CSV\n",
    "# UTF-8 encoding\n",
    "\n",
    "import csv\n",
    "\n",
    "def load_syllables_from_csv(file_path):\n",
    "    with open(file_path, 'r', encoding='utf-8') as f:\n",
    "        reader = csv.reader(f)\n",
    "        syllables = [row for row in reader]\n",
    "    return syllables\n",
    "\n",
    "# Example usage:\n",
    "syllables_load = load_syllables_from_csv('blok_ociscen_ParlaSpeechHR_syllables_v1.csv')\n",
    "print(f\"Function load_syllables_from_csv has been successful!\\n\")\n",
    "#print(syllables[:10])\n",
    "\n",
    "# DISPLAY SLOGOVA U OUTPUTU\n",
    "def print_syllables(syllables, words_per_row=5, rows_to_display=5):\n",
    "    words_count = 0\n",
    "    rows_count = 0\n",
    "    for word_syllables in syllables:\n",
    "        word = ' '.join(word_syllables)\n",
    "        print(word, end=' ')\n",
    "        words_count += 1\n",
    "        if words_count >= words_per_row:\n",
    "            print()  # Empty line to separate rows\n",
    "            words_count = 0\n",
    "            rows_count += 1\n",
    "            if rows_count >= rows_to_display:\n",
    "                return\n",
    "\n",
    "words_per_row=5\n",
    "rows_to_display=10\n",
    "print(f\"Printing loaded CVS: {words_per_row} words each row, for {rows_to_display} rows\\n\")\n",
    "\n",
    "print_syllables(syllables_load, words_per_row=5, rows_to_display=10)\n",
    "syllables = syllables_load"
   ]
  },
  {
   "cell_type": "code",
   "execution_count": 5,
   "id": "224ee858-de98-487d-b57e-7089cbd6517c",
   "metadata": {
    "execution": {
     "iopub.execute_input": "2024-05-23T19:31:39.499930Z",
     "iopub.status.busy": "2024-05-23T19:31:39.499930Z",
     "iopub.status.idle": "2024-05-23T19:31:39.503405Z",
     "shell.execute_reply": "2024-05-23T19:31:39.503405Z",
     "shell.execute_reply.started": "2024-05-23T19:31:39.499930Z"
    }
   },
   "outputs": [
    {
     "name": "stdout",
     "output_type": "stream",
     "text": [
      "type: <class 'list'>, len: 14250653 words\n",
      "[['li', 'je', 'po'], ['ko', 'le', 'gi', 'ce'], ['i']]\n",
      "3 4 1\n"
     ]
    }
   ],
   "source": [
    "print(f\"type: {type(syllables)}, len: {len(syllables)} words\")\n",
    "print(syllables[:3])\n",
    "print(len(syllables[0]), len(syllables[1]), len(syllables[2]))"
   ]
  },
  {
   "cell_type": "markdown",
   "id": "2ca0f7c9-cd5c-49a2-a992-6cdc01480943",
   "metadata": {},
   "source": [
    "# [2.] VAR MACHINE Output"
   ]
  },
  {
   "cell_type": "code",
   "execution_count": 8,
   "id": "4fef4516-9b03-40ea-91b9-9fcbb9d171f7",
   "metadata": {
    "execution": {
     "iopub.execute_input": "2024-05-23T19:33:25.218053Z",
     "iopub.status.busy": "2024-05-23T19:33:25.217055Z",
     "iopub.status.idle": "2024-05-23T19:33:25.226090Z",
     "shell.execute_reply": "2024-05-23T19:33:25.226090Z",
     "shell.execute_reply.started": "2024-05-23T19:33:25.218053Z"
    }
   },
   "outputs": [
    {
     "name": "stdout",
     "output_type": "stream",
     "text": [
      "CPU times: total: 0 ns\n",
      "Wall time: 0 ns\n"
     ]
    }
   ],
   "source": [
    "%%time\n",
    "from collections import Counter\n",
    "from collections import defaultdict\n",
    "\n",
    "def dig_in_stats(syllables):\n",
    "\n",
    "    # syllables is a list like:\n",
    "    # [['li', 'je', 'po'], ['ko', 'le', 'gi', 'ce'], ['i']...]\n",
    "    # where it contains each word's syllables in a list within.\n",
    "\n",
    "    # Corpora size WORDS / Opseg korpusa RIJEČI\n",
    "    #VAR1\n",
    "    total_words = len(syllables)\n",
    "    print(f\"VAR1 Corpora size WORDS / Opseg korpusa RIJEČI: {total_words}\\n\")\n",
    "\n",
    "    \n",
    "    # Count of unique WORDS / Broj jedinstvenih RIJEČI\n",
    "    #VAR2\n",
    "    unique_words = Counter(tuple(slogo) for slogo in syllables)\n",
    "    print(f\"VAR2 Count of unique WORDS / Broj jedinstvenih RIJEČI: {len(unique_words)}\\n\")\n",
    "    # Distribution of unique WORDS / Čestotna frekvencija jedinsvenih RIJEČI\n",
    "    ### Irrelevant for semantically empty material\n",
    "\n",
    "    \n",
    "    #VAR3 Corpora size SYLLABLES / Opseg korpusa SLOG\n",
    "    total_syllables = sum(len(sublist) for sublist in syllables)\n",
    "    print(f\"VAR3 Corpora size SYLLABLES / Opseg korpusa SLOGOVI: {total_syllables}\\n\")\n",
    "    \n",
    "    \n",
    "    # Count of unique SYLLABLES / Broj jedinstvenih SLOGOVA\n",
    "    unique_syllables = {}\n",
    "    for word_syllables in syllables:\n",
    "        for syllable in word_syllables:\n",
    "            if syllable in unique_syllables:\n",
    "                unique_syllables[syllable] += 1\n",
    "            else:\n",
    "                unique_syllables[syllable] = 1\n",
    "    \n",
    "    #VAR4 Distribution of unique SYLLABLES / Čestotna frekvencija jedinsvenih SYLLABLES\n",
    "    unique_syllables_sorted = sorted(unique_syllables.items(), key=lambda x: x[1], reverse=True)\n",
    "    unique_syllables_sorted = [list(t) for t in unique_syllables_sorted]\n",
    "    print(f\"VAR4 Count of unique SYLLABLES / Broj jedinstvenih SLOGOVI: {len(unique_syllables_sorted)}\\n\")\n",
    "\n",
    "    \n",
    "    #VAR5 Count of SYLLABLES PER WORD / Broj SLOGOVA U svakoj RIJEČI\n",
    "    syllables_per_word = [len(word_syllables) for word_syllables in syllables]\n",
    "   \n",
    "    # Distribution of SYLLABLES PER WORD / Čestotna frekvencija broja SLOGOVA U svakoj RIJEČI\n",
    "    # SPW = syllables per word\n",
    "    SPW_frequency = Counter(syllables_per_word)\n",
    "    sorted_SPW_frequency = sorted(SPW_frequency.items(), key=lambda x: x[0])\n",
    "    sorted_SPW_frequency = [list(t) for t in sorted_SPW_frequency]\n",
    "\n",
    "    # PRINT SPW FREQUENCY\n",
    "    print(f\"VAR5 Syllables per word frequencies / Broj slogova po riječi: \\n\")\n",
    "    for syllable_count, frequency in sorted_SPW_frequency:\n",
    "        syllable_string = f\"{syllable_count}-složne riječi\"\n",
    "        print(f\"{syllable_string}: {frequency}\")\n",
    "    print(f\"\\n\")\n",
    "\n",
    "\n",
    "    \n",
    "    \n",
    "    #VAR6.1 Corpora size PHONEMES / Opseg korpusa FONEMA\n",
    "    phoneme_counts = defaultdict(int)\n",
    "    for p_sublist in syllables:\n",
    "        for word in p_sublist:\n",
    "            for char in word:\n",
    "                phoneme_counts[char] += 1\n",
    "\n",
    "    phoneme_counts = dict(sorted(phoneme_counts.items(), key=lambda item: item[1], reverse=True))\n",
    "    \n",
    "\n",
    "    total_phonemes = sum(phoneme_counts.values())\n",
    "    print(f\"VAR6 Corpora size PHONEMES / Opseg korpusa FONEMI: {total_phonemes}\\n\")\n",
    "\n",
    "    #VAR6.2 Count of unique PHONEMES / Broj jedinstvenih FONEMA\n",
    "    print(f\"VAR7 Count of unique PHONEMES / Broj jedinstvenih FONEMA: {len(phoneme_counts)}\\n\")\n",
    "    for char, count in phoneme_counts.items():\n",
    "        print(f\"{char}: {count}\")\n",
    "    print(f\"\\n\")\n",
    "    \n",
    "    phoneme_counts = [[key, value] for key, value in phoneme_counts.items()]\n",
    "\n",
    "\n",
    "    #VAR7 Count of PHONEMES PER SYLLABLE / Broj FONEMA U svakom SLOGU\n",
    "    syllable_counts = defaultdict(int)\n",
    "    \n",
    "    for sublist in syllables:\n",
    "        for word in sublist:\n",
    "            syllable_counts[len(word)] += 1\n",
    "    \n",
    "    # PPS = PHONEMES PER SYLLABLE\n",
    "    sorted_PPS_counts = sorted(syllable_counts.items(), key=lambda x: x[0], reverse=False)\n",
    "    sorted_PPS_counts = [[item[0], item[1]] for item in sorted_PPS_counts]\n",
    "    \n",
    "    # PRINT SPC FREQUENCY\n",
    "    print(f\"VAR8 Phonemes per syllable / Fonema po slogu:\\n\")\n",
    "    for length, count in sorted_PPS_counts:\n",
    "        print(f\"{length}-fonski: {count}\")\n",
    "\n",
    "    \n",
    "    print(f\"\\n\")\n",
    "    print(f\"endo frendo \")\n",
    "\n",
    "\n",
    "    return total_words, unique_words, total_syllables, unique_syllables_sorted, syllables_per_word, phoneme_counts, sorted_SPW_frequency, sorted_PPS_counts\n",
    " "
   ]
  },
  {
   "cell_type": "code",
   "execution_count": 10,
   "id": "f1d5f167-6252-42fa-bb1a-b19b3b7ae0ec",
   "metadata": {
    "execution": {
     "iopub.execute_input": "2024-05-23T19:33:28.552078Z",
     "iopub.status.busy": "2024-05-23T19:33:28.552078Z",
     "iopub.status.idle": "2024-05-23T19:33:46.011738Z",
     "shell.execute_reply": "2024-05-23T19:33:46.011738Z",
     "shell.execute_reply.started": "2024-05-23T19:33:28.552078Z"
    }
   },
   "outputs": [
    {
     "name": "stdout",
     "output_type": "stream",
     "text": [
      "VAR1 Corpora size WORDS / Opseg korpusa RIJEČI: 14250653\n",
      "\n",
      "VAR2 Count of unique WORDS / Broj jedinstvenih RIJEČI: 173225\n",
      "\n",
      "VAR3 Corpora size SYLLABLES / Opseg korpusa SLOGOVI: 31675582\n",
      "\n",
      "VAR4 Count of unique SYLLABLES / Broj jedinstvenih SLOGOVI: 9207\n",
      "\n",
      "VAR5 Syllables per word frequencies / Broj slogova po riječi: \n",
      "\n",
      "1-složne riječi: 5061426\n",
      "2-složne riječi: 3950650\n",
      "3-složne riječi: 2979291\n",
      "4-složne riječi: 1672845\n",
      "5-složne riječi: 462241\n",
      "6-složne riječi: 102219\n",
      "7-složne riječi: 18440\n",
      "8-složne riječi: 2614\n",
      "9-složne riječi: 533\n",
      "10-složne riječi: 91\n",
      "11-složne riječi: 267\n",
      "12-složne riječi: 31\n",
      "13-složne riječi: 1\n",
      "15-složne riječi: 1\n",
      "16-složne riječi: 3\n",
      "\n",
      "\n",
      "VAR6 Corpora size PHONEMES / Opseg korpusa FONEMI: 71666748\n",
      "\n",
      "VAR7 Count of unique PHONEMES / Broj jedinstvenih FONEMA: 27\n",
      "\n",
      "a: 8473320\n",
      "o: 7134726\n",
      "i: 7050533\n",
      "e: 6080196\n",
      "n: 4648748\n",
      "t: 3651668\n",
      "r: 3511665\n",
      "j: 3419250\n",
      "s: 3255595\n",
      "d: 2834497\n",
      "u: 2828080\n",
      "v: 2702877\n",
      "m: 2543126\n",
      "k: 2461565\n",
      "l: 2239951\n",
      "p: 2027631\n",
      "z: 1281364\n",
      "g: 1117595\n",
      "b: 952252\n",
      "š: 681802\n",
      "č: 565108\n",
      "h: 519356\n",
      "c: 512317\n",
      "ć: 477359\n",
      "ž: 410163\n",
      "đ: 163320\n",
      "f: 122684\n",
      "\n",
      "\n",
      "VAR8 Phonemes per syllable / Fonema po slogu:\n",
      "\n",
      "1-fonski: 3270564\n",
      "2-fonski: 18773689\n",
      "3-fonski: 7901801\n",
      "4-fonski: 1518970\n",
      "5-fonski: 195945\n",
      "6-fonski: 14556\n",
      "7-fonski: 42\n",
      "8-fonski: 3\n",
      "9-fonski: 2\n",
      "10-fonski: 1\n",
      "12-fonski: 1\n",
      "13-fonski: 8\n",
      "\n",
      "\n",
      "endo frendo \n",
      "CPU times: total: 17.3 s\n",
      "Wall time: 17.5 s\n"
     ]
    }
   ],
   "source": [
    "%%time\n",
    "total_words, unique_words, total_syllables, unique_syllables_sorted, syllables_per_word, phoneme_counts, sorted_SPW_frequency, sorted_PPS_counts = dig_in_stats(syllables)"
   ]
  },
  {
   "cell_type": "code",
   "execution_count": 11,
   "id": "9c1bd906-f9ab-4f43-ae5b-408bfe6345c1",
   "metadata": {
    "execution": {
     "iopub.execute_input": "2024-05-23T19:33:49.000400Z",
     "iopub.status.busy": "2024-05-23T19:33:49.000400Z",
     "iopub.status.idle": "2024-05-23T19:33:49.002892Z",
     "shell.execute_reply": "2024-05-23T19:33:49.002892Z",
     "shell.execute_reply.started": "2024-05-23T19:33:49.000400Z"
    }
   },
   "outputs": [
    {
     "name": "stdout",
     "output_type": "stream",
     "text": [
      "[['a', 8473320], ['o', 7134726], ['i', 7050533], ['e', 6080196], ['n', 4648748], ['t', 3651668], ['r', 3511665], ['j', 3419250], ['s', 3255595], ['d', 2834497], ['u', 2828080], ['v', 2702877], ['m', 2543126], ['k', 2461565], ['l', 2239951], ['p', 2027631], ['z', 1281364], ['g', 1117595], ['b', 952252], ['š', 681802], ['č', 565108], ['h', 519356], ['c', 512317], ['ć', 477359], ['ž', 410163], ['đ', 163320], ['f', 122684]]\n"
     ]
    }
   ],
   "source": [
    "print(phoneme_counts)"
   ]
  },
  {
   "cell_type": "markdown",
   "id": "3a104413-1500-40ff-a748-6341c37130f4",
   "metadata": {},
   "source": [
    "## Određivanje vjerojatnosti za izradu govornog materijala\n",
    "Za N rečenica, svaka po M riječi:\n",
    "- RNG Broj slogova po riječi, distribucija\n",
    "- RNG Broj fonema po slogu, distribucija\n",
    "- RNG Jedinstven slog tog broja fonema, distribucija"
   ]
  },
  {
   "cell_type": "code",
   "execution_count": 12,
   "id": "040e1cc5-ef9b-466d-8a64-b543aad2fc72",
   "metadata": {
    "execution": {
     "iopub.execute_input": "2024-05-23T19:33:51.440228Z",
     "iopub.status.busy": "2024-05-23T19:33:51.440228Z",
     "iopub.status.idle": "2024-05-23T19:33:51.443337Z",
     "shell.execute_reply": "2024-05-23T19:33:51.443337Z",
     "shell.execute_reply.started": "2024-05-23T19:33:51.440228Z"
    }
   },
   "outputs": [
    {
     "name": "stdout",
     "output_type": "stream",
     "text": [
      "[[1, 3270564], [2, 18773689], [3, 7901801], [4, 1518970], [5, 195945], [6, 14556], [7, 42], [8, 3], [9, 2], [10, 1], [12, 1], [13, 8]]\n"
     ]
    }
   ],
   "source": [
    "print(sorted_PPS_counts)"
   ]
  },
  {
   "cell_type": "code",
   "execution_count": 13,
   "id": "ec66b621-afba-48ed-b065-7954f09a20c7",
   "metadata": {
    "execution": {
     "iopub.execute_input": "2024-05-23T19:33:51.959938Z",
     "iopub.status.busy": "2024-05-23T19:33:51.958941Z",
     "iopub.status.idle": "2024-05-23T19:33:51.962814Z",
     "shell.execute_reply": "2024-05-23T19:33:51.962814Z",
     "shell.execute_reply.started": "2024-05-23T19:33:51.959938Z"
    }
   },
   "outputs": [
    {
     "name": "stdout",
     "output_type": "stream",
     "text": [
      "[[1, 5061426], [2, 3950650], [3, 2979291], [4, 1672845], [5, 462241], [6, 102219], [7, 18440], [8, 2614], [9, 533], [10, 91], [11, 267], [12, 31], [13, 1], [15, 1], [16, 3]]\n"
     ]
    }
   ],
   "source": [
    "print(sorted_SPW_frequency)"
   ]
  },
  {
   "cell_type": "code",
   "execution_count": 14,
   "id": "e999b3fd-dbd0-4dbe-ba86-b0cd1f712647",
   "metadata": {
    "execution": {
     "iopub.execute_input": "2024-05-23T19:33:52.944079Z",
     "iopub.status.busy": "2024-05-23T19:33:52.943080Z",
     "iopub.status.idle": "2024-05-23T19:33:53.031661Z",
     "shell.execute_reply": "2024-05-23T19:33:53.031661Z",
     "shell.execute_reply.started": "2024-05-23T19:33:52.944079Z"
    }
   },
   "outputs": [
    {
     "name": "stdout",
     "output_type": "stream",
     "text": [
      "[['je', 1239968, 2], ['i', 990473, 1], ['o', 820551, 1], ['da', 764537, 2], ['ko', 727848, 2], ['na', 715544, 2], ['ti', 681299, 2], ['u', 664127, 1], ['a', 523374, 1], ['ne', 520557, 2], ['li', 502407, 2], ['po', 457849, 2], ['ni', 453717, 2], ['ma', 442325, 2], ['za', 436560, 2], ['to', 428449, 2], ['ja', 404643, 2], ['mo', 404034, 2], ['ta', 363511, 2], ['ka', 358946, 2], ['se', 342439, 2], ['vi', 295350, 2], ['di', 295232, 2], ['va', 288727, 2], ['te', 275250, 2], ['do', 261165, 2], ['ju', 252175, 2], ['bi', 246787, 2], ['no', 244793, 2], ['ci', 242588, 2]]\n"
     ]
    }
   ],
   "source": [
    "#print(unique_syllables_sorted[:30])\n",
    "#unique_syllables_sorted_dict = {key: value for key, value in unique_syllables_sorted}\n",
    "#len(unique_syllables_sorted_dict)\n",
    "#print(unique_syllables_sorted_dict)\n",
    "unique_syllables_sorted2 = [sublist + [len(sublist[0])] for sublist in unique_syllables_sorted]\n",
    "print(unique_syllables_sorted2[:30])"
   ]
  },
  {
   "cell_type": "code",
   "execution_count": 15,
   "id": "97664faf-67c8-4dcf-be39-8719ae0d221d",
   "metadata": {
    "execution": {
     "iopub.execute_input": "2024-05-23T19:33:54.543314Z",
     "iopub.status.busy": "2024-05-23T19:33:54.543314Z",
     "iopub.status.idle": "2024-05-23T19:33:54.547312Z",
     "shell.execute_reply": "2024-05-23T19:33:54.547312Z",
     "shell.execute_reply.started": "2024-05-23T19:33:54.543314Z"
    }
   },
   "outputs": [
    {
     "name": "stdout",
     "output_type": "stream",
     "text": [
      "[['a', 8473320], ['o', 7134726], ['i', 7050533], ['e', 6080196], ['n', 4648748], ['t', 3651668], ['r', 3511665], ['j', 3419250], ['s', 3255595], ['d', 2834497], ['u', 2828080], ['v', 2702877], ['m', 2543126], ['k', 2461565], ['l', 2239951], ['p', 2027631], ['z', 1281364], ['g', 1117595], ['b', 952252], ['š', 681802], ['č', 565108], ['h', 519356], ['c', 512317], ['ć', 477359], ['ž', 410163], ['đ', 163320], ['f', 122684]]\n"
     ]
    }
   ],
   "source": [
    "print(phoneme_counts)"
   ]
  },
  {
   "cell_type": "markdown",
   "id": "602008fb-9ef9-4374-9f1e-6fe882116046",
   "metadata": {},
   "source": [
    "# [3.] RANDOM SENTENCE CORE GEN\n",
    "## SPW = syllables per word\n",
    "## PPS = phonemes per syllable\n",
    "## UQS = unique syllables"
   ]
  },
  {
   "cell_type": "code",
   "execution_count": 16,
   "id": "f910e095-7686-4d33-928b-fadb55989c1b",
   "metadata": {
    "execution": {
     "iopub.execute_input": "2024-05-23T19:33:59.177021Z",
     "iopub.status.busy": "2024-05-23T19:33:59.177021Z",
     "iopub.status.idle": "2024-05-23T19:33:59.186045Z",
     "shell.execute_reply": "2024-05-23T19:33:59.186045Z",
     "shell.execute_reply.started": "2024-05-23T19:33:59.177021Z"
    }
   },
   "outputs": [
    {
     "name": "stdout",
     "output_type": "stream",
     "text": [
      "SPW: [2]\n",
      "PPS: [2, 3]\n",
      "UQS: ['ju', 'cio']\n"
     ]
    }
   ],
   "source": [
    "import random\n",
    "\n",
    "def normalize_func(data_list):\n",
    "    total = sum(item[1] for item in data_list)\n",
    "    return [[item[0], item[1] / total] for item in data_list]\n",
    "\n",
    "# Normalize frequencies\n",
    "probs_SPW = normalize_func(sorted_SPW_frequency)\n",
    "probs_SPW_items = [item[0] for item in probs_SPW]\n",
    "probs_SPW_weights = [item[1] for item in probs_SPW]\n",
    "\n",
    "probs_PPS = normalize_func(sorted_PPS_counts)\n",
    "probs_PPS_items = [item[0] for item in probs_PPS]\n",
    "probs_PPS_weights = [item[1] for item in probs_PPS]\n",
    "\n",
    "probs_UQS = normalize_func(unique_syllables_sorted)\n",
    "probs_UQS_items = [item[0] for item in probs_UQS]\n",
    "probs_UQS_weights = [item[1] for item in probs_UQS]\n",
    "# print(probs_PPS)\n",
    "# print(probs_SPW)\n",
    "# print(probs_UQS[:10])\n",
    "\n",
    "# Pick a value with the specified distribution\n",
    "# picked_value = pick_with_distribution(items, probabilities)\n",
    "# print(\"Picked value:\", picked_value)\n",
    "\n",
    "\n",
    "SPW_pick = random.choices(probs_SPW_items, weights=probs_SPW_weights, k=1)\n",
    "print(f\"SPW: {SPW_pick}\")\n",
    "\n",
    "PPS_pick = random.choices(probs_PPS_items, weights=probs_PPS_weights, k=int(SPW_pick[0]))\n",
    "print(f\"PPS: {PPS_pick}\")\n",
    "\n",
    "UQS_pick = random.choices(probs_UQS_items, weights=probs_UQS_weights, k=int(SPW_pick[0]))\n",
    "print(f\"UQS: {UQS_pick}\")"
   ]
  },
  {
   "cell_type": "markdown",
   "id": "6bd76332-51dd-4324-b41b-d70e2bea45d4",
   "metadata": {},
   "source": [
    "## Normalize probs SPW, PPS, UQS, Items and weights"
   ]
  },
  {
   "cell_type": "code",
   "execution_count": 17,
   "id": "af4aa913-14a7-4b0e-bf0b-7b6e7b535c80",
   "metadata": {
    "execution": {
     "iopub.execute_input": "2024-05-23T19:34:03.361014Z",
     "iopub.status.busy": "2024-05-23T19:34:03.360028Z",
     "iopub.status.idle": "2024-05-23T19:34:03.370423Z",
     "shell.execute_reply": "2024-05-23T19:34:03.370423Z",
     "shell.execute_reply.started": "2024-05-23T19:34:03.361014Z"
    }
   },
   "outputs": [
    {
     "name": "stdout",
     "output_type": "stream",
     "text": [
      "SPW: [1]\n",
      "PPS: [3]\n",
      "UQS picks: ['rad']\n",
      "UQS word: rad\n"
     ]
    }
   ],
   "source": [
    "import random\n",
    "\n",
    "def normalize_func(data_list):\n",
    "    total = sum(item[1] for item in data_list)\n",
    "    return [[item[0], item[1] / total] for item in data_list]\n",
    "\n",
    "# Normalize frequencies\n",
    "probs_SPW = normalize_func(sorted_SPW_frequency)\n",
    "probs_SPW_items = [item[0] for item in probs_SPW]\n",
    "probs_SPW_weights = [item[1] for item in probs_SPW]\n",
    "\n",
    "probs_PPS = normalize_func(sorted_PPS_counts)\n",
    "probs_PPS_items = [item[0] for item in probs_PPS]\n",
    "probs_PPS_weights = [item[1] for item in probs_PPS]\n",
    "\n",
    "probs_UQS = normalize_func(unique_syllables_sorted)\n",
    "probs_UQS_items = [item[0] for item in probs_UQS]\n",
    "probs_UQS_weights = [item[1] for item in probs_UQS]\n",
    "\n",
    "\n",
    "SPW_pick = random.choices(probs_SPW_items, weights=probs_SPW_weights, k=1)\n",
    "print(f\"SPW: {SPW_pick}\")\n",
    "\n",
    "PPS_pick = random.choices(probs_PPS_items, weights=probs_PPS_weights, k=int(SPW_pick[0]))\n",
    "print(f\"PPS: {PPS_pick}\")\n",
    "\n",
    "\n",
    "def select_UQS(probs_UQS_items, probs_UQS_weights, PPS_pick):\n",
    "    UQS_picks = []\n",
    "    for count in PPS_pick:\n",
    "        for _ in range(1000):  # Maximum 1000 iterations\n",
    "            UQS_pick = random.choices(probs_UQS_items, weights=probs_UQS_weights, k=1)[0]\n",
    "            if len(UQS_pick) == count:\n",
    "                UQS_picks.append(UQS_pick)\n",
    "                break\n",
    "        else:\n",
    "            raise ValueError(\"Could not find a matching syllable within 1000 iterations.\")\n",
    "    return UQS_picks\n",
    "\n",
    "UQS_picks = select_UQS(probs_UQS_items, probs_UQS_weights, PPS_pick)\n",
    "print(f\"UQS picks: {UQS_picks}\")\n",
    "\n",
    "# Combine all elements into a single string\n",
    "combined_string = ''.join(UQS_picks)\n",
    "print(f\"UQS word: {combined_string}\")"
   ]
  },
  {
   "cell_type": "code",
   "execution_count": 18,
   "id": "c82eac52-ee5c-463f-bf19-28957559790a",
   "metadata": {
    "execution": {
     "iopub.execute_input": "2024-05-23T19:34:06.168297Z",
     "iopub.status.busy": "2024-05-23T19:34:06.168297Z",
     "iopub.status.idle": "2024-05-23T19:34:06.173536Z",
     "shell.execute_reply": "2024-05-23T19:34:06.173536Z",
     "shell.execute_reply.started": "2024-05-23T19:34:06.168297Z"
    }
   },
   "outputs": [
    {
     "name": "stdout",
     "output_type": "stream",
     "text": [
      "probs_SPW_weights, len: 15 \n",
      "[0.355171513894837, 0.27722589273628373, 0.2090634723896512, 0.11738725235959363, 0.032436478524878826, 0.00717293446131907]\n",
      "probs_PPS_weights, len: 12 \n",
      "[0.1032518992074084, 0.5926864737639232, 0.24946032562243056, 0.04795397287412115, 0.00618599525653546]\n",
      "probs_UQS_weights, len: 9207 \n",
      "[0.0391458632078173, 0.03126929127932045, 0.02590484367422199, 0.024136478376308917, 0.022978204473085923]\n",
      "\n",
      "\n",
      "probs_SPW_items_cut, len: 5 \n",
      "[1, 2, 3, 4, 5]\n",
      "probs_PPS_items_cut, len: 4 \n",
      "[1, 2, 3, 4]\n",
      "probs_UQS_items_cut, len: 7000 \n",
      "['je', 'i', 'o', 'da', 'ko']\n",
      "\n",
      "\n"
     ]
    }
   ],
   "source": [
    "print(f'probs_SPW_weights, len: {len(probs_SPW_weights)} \\n{probs_SPW_weights[:6]}')\n",
    "\n",
    "print(f'probs_PPS_weights, len: {len(probs_PPS_weights)} \\n{probs_PPS_weights[:5]}')\n",
    "\n",
    "print(f'probs_UQS_weights, len: {len(probs_UQS_weights)} \\n{probs_UQS_weights[:5]}\\n\\n')\n",
    "\n",
    "# Function to cut down the list\n",
    "def cut_weights(weights, max_length=None):\n",
    "    if max_length is None:\n",
    "        max_length = len(weights)\n",
    "    return weights[:max_length]\n",
    "\n",
    "# Define the desired lengths, setting them to None to use default lengths\n",
    "max_SPW_length = 5  # Or set to a specific value like 5 if desired\n",
    "max_PPS_length = 4  # Or set to a specific value like 5 if desired\n",
    "max_UQS_length = 7000  # Or set to a specific value like 5 if desired\n",
    "\n",
    "# Cut the weights lists\n",
    "probs_SPW_weights_cut = cut_weights(probs_SPW_weights, max_SPW_length)\n",
    "probs_PPS_weights_cut = cut_weights(probs_PPS_weights, max_PPS_length)\n",
    "probs_UQS_weights_cut = cut_weights(probs_UQS_weights, max_UQS_length)\n",
    "\n",
    "# Cut the items lists\n",
    "probs_SPW_items_cut = cut_weights(probs_SPW_items, max_SPW_length)\n",
    "probs_PPS_items_cut = cut_weights(probs_PPS_items, max_PPS_length)\n",
    "probs_UQS_items_cut = cut_weights(probs_UQS_items, max_UQS_length)\n",
    "\n",
    "# Print the results\n",
    "print(f'probs_SPW_items_cut, len: {len(probs_SPW_items_cut)} \\n{probs_SPW_items_cut[:6]}')\n",
    "\n",
    "print(f'probs_PPS_items_cut, len: {len(probs_PPS_items_cut)} \\n{probs_PPS_items_cut[:5]}')\n",
    "\n",
    "print(f'probs_UQS_items_cut, len: {len(probs_UQS_items_cut)} \\n{probs_UQS_items_cut[:5]}\\n\\n')\n"
   ]
  },
  {
   "cell_type": "markdown",
   "id": "9d1edc25-5d25-4ee3-91ea-91ae4b55b416",
   "metadata": {},
   "source": [
    "# RNG SPEECH MATERIAL GENERATOR FOR REAL v2\n",
    "## Generated full words based on syllable distribution and frequencies"
   ]
  },
  {
   "cell_type": "code",
   "execution_count": 19,
   "id": "1d1a857e-51bf-4d7a-b90a-2898b5f3a753",
   "metadata": {
    "execution": {
     "iopub.execute_input": "2024-05-23T19:34:10.383370Z",
     "iopub.status.busy": "2024-05-23T19:34:10.383370Z",
     "iopub.status.idle": "2024-05-23T19:34:10.393376Z",
     "shell.execute_reply": "2024-05-23T19:34:10.393376Z",
     "shell.execute_reply.started": "2024-05-23T19:34:10.383370Z"
    }
   },
   "outputs": [
    {
     "name": "stdout",
     "output_type": "stream",
     "text": [
      "{'a': 8473320, 'o': 7134726, 'i': 7050533, 'e': 6080196, 'n': 4218185, 't': 3651668, 'r': 3511665, 's': 3255595, 'd': 2831100, 'u': 2828080, 'v': 2702877, 'j': 2634376, 'm': 2543126, 'k': 2461565, 'p': 2027631, 'l': 1885640, 'z': 1281364, 'g': 1117595, 'b': 952252, 'š': 681802, 'č': 565108, 'h': 519356, 'c': 512317, 'ć': 477359, 'nj': 430563, 'ž': 406766, 'lj': 354311, 'đ': 163320, 'f': 122684, 'dž': 3397}\n"
     ]
    }
   ],
   "source": [
    "def load_phoneme_frequencies(file_path):\n",
    "    phoneme_frequencies = {}\n",
    "    with open(file_path, 'r', encoding='utf-8') as file:\n",
    "        for line in file:\n",
    "            phoneme, frequency, probability = line.strip().split('\\t')\n",
    "            phoneme_frequencies[phoneme] = int(frequency)\n",
    "    return phoneme_frequencies\n",
    "\n",
    "# Example usage:\n",
    "phon_freq_file_path = 'frek_fonema_v3.0.txt' \n",
    "phoneme_frequencies = load_phoneme_frequencies(phon_freq_file_path)\n",
    "print(phoneme_frequencies)"
   ]
  },
  {
   "cell_type": "markdown",
   "id": "c2eef630-ed24-466f-a9ea-4f723937d4e7",
   "metadata": {},
   "source": [
    "## STIMULUS govornog materijala"
   ]
  },
  {
   "cell_type": "code",
   "execution_count": 20,
   "id": "69a7c2af-5af9-484c-ad97-f6c906d30991",
   "metadata": {
    "execution": {
     "iopub.execute_input": "2024-05-23T19:34:16.351842Z",
     "iopub.status.busy": "2024-05-23T19:34:16.351842Z",
     "iopub.status.idle": "2024-05-23T19:34:16.354939Z",
     "shell.execute_reply": "2024-05-23T19:34:16.354939Z",
     "shell.execute_reply.started": "2024-05-23T19:34:16.351842Z"
    }
   },
   "outputs": [
    {
     "name": "stdout",
     "output_type": "stream",
     "text": [
      "Total: 21\n",
      " ['p', 't', 'k', 'b', 'd', 'g', 's', 'š', 'z', 'ž', 'f', 'h', 'c', 'č', 'đ', 'j', 'n', 'm', 'r', 'l', 'v']\n"
     ]
    }
   ],
   "source": [
    "phons_string = \"ptkbdgsšzžfhcčđjnmrlv\"\n",
    "phons = [phon for phon in phons_string]\n",
    "phons_length = len(phons)\n",
    "print(f\"Total: {len(phons)}\\n {phons}\")"
   ]
  },
  {
   "cell_type": "code",
   "execution_count": 21,
   "id": "ac407d5f-934e-42a4-bf94-1354c5a61714",
   "metadata": {
    "execution": {
     "iopub.execute_input": "2024-05-23T19:34:20.815974Z",
     "iopub.status.busy": "2024-05-23T19:34:20.815974Z",
     "iopub.status.idle": "2024-05-23T19:34:20.824495Z",
     "shell.execute_reply": "2024-05-23T19:34:20.824495Z",
     "shell.execute_reply.started": "2024-05-23T19:34:20.815974Z"
    }
   },
   "outputs": [],
   "source": [
    "import random\n",
    "from scipy.stats import linregress\n",
    "\n",
    "class TextGenerator:\n",
    "    def __init__(self, probs_SPW_weights, unique_syllables_sorted, max_syllables):\n",
    "        self.probs_SPW_weights = probs_SPW_weights\n",
    "        self.unique_syllables_sorted = unique_syllables_sorted\n",
    "        self.max_syllables = max_syllables\n",
    "\n",
    "    def generate_random_word(self, probs_SPW_items, probs_SPW_weights, probs_PPS_items, probs_PPS_weights, probs_UQS_items, probs_UQS_weights):\n",
    "        # Determine the number of syllables in the word\n",
    "        SPW_pick = random.choices(probs_SPW_items, weights=probs_SPW_weights, k=1)[0]\n",
    "        if SPW_pick > max_syllables:\n",
    "            SPW_pick = max_syllables\n",
    "        #print(f\"SPW_pick: {SPW_pick}\")\n",
    "        \n",
    "        PPS_pick = random.choices(probs_PPS_items, weights=probs_PPS_weights, k=SPW_pick)\n",
    "        #print(f\"PPS_pick: {PPS_pick}\")\n",
    "\n",
    "        # Select unique syllables for the word\n",
    "        UQS_picks = []\n",
    "        for count in PPS_pick:\n",
    "            for _ in range(1000000):  # Maximum 1000 iterations\n",
    "                UQS_pick = random.choices(probs_UQS_items, weights=probs_UQS_weights, k=1)[0]\n",
    "                if len(UQS_pick) == count:\n",
    "                    UQS_picks.append(UQS_pick)\n",
    "                    break\n",
    "            else:\n",
    "                raise ValueError(\"Could not find a matching syllable within 1000 iterations.\")\n",
    "        #print(f\"UQS_picks: {UQS_picks}\")\n",
    "        # Combine syllables into a single word\n",
    "        word = ''.join(UQS_picks)\n",
    "        return word\n",
    "\n",
    "    def generate_text(self, \n",
    "                      n_sentences, \n",
    "                      n_words_per_sentence, \n",
    "                      probs_SPW_items, \n",
    "                      probs_SPW_weights, \n",
    "                      probs_PPS_items, \n",
    "                      probs_PPS_weights, \n",
    "                      probs_UQS_items, \n",
    "                      probs_UQS_weights):\n",
    "        \n",
    "        # Generate text by joining multiple words into sentences\n",
    "        sentences = []\n",
    "        for _ in range(n_sentences):\n",
    "            sentence = ' '.join(self.generate_random_word(probs_SPW_items, \n",
    "                                                          probs_SPW_weights, \n",
    "                                                          probs_PPS_items, \n",
    "                                                          probs_PPS_weights, \n",
    "                                                          probs_UQS_items, \n",
    "                                                          probs_UQS_weights) for _ in range(n_words_per_sentence))\n",
    "\n",
    "            ### DODAVANJE STIMULUSA OVĐE\n",
    "            \n",
    "            if phons:  # Check if phons list is not empty\n",
    "                phon_index = _ % phons_length  # Calculate the index of the current phoneme\n",
    "                sentence += \" a\" + phons[phon_index] + \"a\"  # Append the phoneme to the sentence\n",
    "\n",
    "            sentences.append(sentence)\n",
    "\n",
    "        text = '\\n'.join(sentences)  # Join sentences with new lines\n",
    "        return text\n",
    "\n",
    "\n",
    "    def calculate_r_squared(self, target_frequencies, generated_text):\n",
    "        # Count phoneme frequencies in the generated text\n",
    "        generated_frequencies = {}\n",
    "        for phoneme in target_frequencies:\n",
    "            generated_frequencies[phoneme] = generated_text.count(phoneme)\n",
    "\n",
    "        # Calculate R-squared value\n",
    "        x = [target_frequencies[phoneme] for phoneme in target_frequencies]\n",
    "        y = [generated_frequencies.get(phoneme, 0) for phoneme in target_frequencies]\n",
    "        slope, intercept, r_value, p_value, std_err = linregress(x, y)\n",
    "        r_squared = r_value ** 2\n",
    "        return r_squared\n",
    "\n"
   ]
  },
  {
   "cell_type": "markdown",
   "id": "cd9a0a70-5c38-4967-ac81-d87f37fc4b87",
   "metadata": {},
   "source": [
    "# THE BIG GEN"
   ]
  },
  {
   "cell_type": "code",
   "execution_count": 22,
   "id": "4252f109-ce3c-41b4-bc7e-fe6c7f0948fb",
   "metadata": {
    "execution": {
     "iopub.execute_input": "2024-05-23T19:34:22.393079Z",
     "iopub.status.busy": "2024-05-23T19:34:22.393079Z",
     "iopub.status.idle": "2024-05-23T19:34:22.395829Z",
     "shell.execute_reply": "2024-05-23T19:34:22.395829Z",
     "shell.execute_reply.started": "2024-05-23T19:34:22.393079Z"
    }
   },
   "outputs": [
    {
     "name": "stdout",
     "output_type": "stream",
     "text": [
      "[1, 2, 3, 4, 5, 6, 7, 8, 9, 10, 11, 12, 13, 15, 16]\n"
     ]
    }
   ],
   "source": [
    "print(probs_SPW_items)"
   ]
  },
  {
   "cell_type": "code",
   "execution_count": 23,
   "id": "aa1fc8dd-119c-4b97-861d-ff9762c3fd75",
   "metadata": {
    "execution": {
     "iopub.execute_input": "2024-05-23T19:34:24.568056Z",
     "iopub.status.busy": "2024-05-23T19:34:24.568056Z",
     "iopub.status.idle": "2024-05-23T19:34:24.931992Z",
     "shell.execute_reply": "2024-05-23T19:34:24.931992Z",
     "shell.execute_reply.started": "2024-05-23T19:34:24.568056Z"
    }
   },
   "outputs": [
    {
     "name": "stdout",
     "output_type": "stream",
     "text": [
      "RNG GENERIRANJE REČENICA | max_syllables(2), n_sentences(84), n_words_per_sentence(4) \n",
      "\n",
      "RNG GENERIRANJE REČENICA | max_SPW_length (5), max_PPS_length (4), max_UQS_length (7000) \n",
      "\n",
      "R-squared value: 0.80548\n",
      "\n",
      "Generated text:\n",
      " zas teu vomči te apa\n",
      "a strasi di o ata\n",
      "kou tibi to dus aka\n",
      "ase drudo vao dio aba\n",
      "i va ziti polbu ada\n",
      "naži kićfon damgo vlagle aga\n",
      "zuja tredi ii kokra asa\n",
      "mena ba đatu da aša\n",
      "pose seo netr do aza\n",
      "zraže zai ninor dlo aža\n",
      "aji na mamor teljnim afa\n",
      "mao vljahva tire ti aha\n",
      "kalžno jeće vnimće nase aca\n",
      "va sus jene lui ača\n",
      "turpra ov toih naje ađa\n",
      "kavoj što kojer ne aja\n",
      "gojzna go go bnoa ana\n",
      "žnitre va vapa si ama\n",
      "štosu suzas ja moji ara\n",
      "dako o udi metot ala\n",
      "ve vam dao kao ava\n",
      "dinis uda tipos iapo apa\n",
      "pri vor sviti dili ata\n",
      "revnik tisad to lie aka\n",
      "manos bu se vostan aba\n",
      "tve pra maa kodje ada\n",
      "timan aja sin lisvr aga\n",
      "odse dnomda dosku tuis asa\n",
      "ta daod šte vika aša\n",
      "mobez sezna o tadr aza\n",
      "idi bnable tuni no aža\n",
      "mati noma oni zna afa\n",
      "kotan ne što mipro aha\n",
      "kednom nadi dija gokor aca\n",
      "dali jaje danše vasu ača\n",
      "misti dnou čak ste ađa\n",
      "ka ne vamče toke aja\n",
      "udin mema vnikri vamle ana\n",
      "se noj akva dnepi ama\n",
      "daje sutaj bi loše ara\n",
      "dihr potjem va prodal ala\n",
      "napa taće tuko struli ava\n",
      "didje mipr navješ lu apa\n",
      "je juse ne ome ata\n",
      "li vigih produs nopi aka\n",
      "že napri čoci ogi aba\n",
      "izrad koi je vii ada\n",
      "jani o drten smoče aga\n",
      "svika gdjepre druji nani asa\n",
      "ha mo ji zas aša\n",
      "lina sdpa kone stan aza\n",
      "de to livats dars aža\n",
      "prada nisre vladnom tau afa\n",
      "opi bibio lidvi jukroz aha\n",
      "je va drupo sa aca\n",
      "otre lipi une zače ača\n",
      "pria čase vor pro ađa\n",
      "zabu tače po veti aja\n",
      "zaš žuda znodru tom ana\n",
      "medred di ža bra ama\n",
      "ne cio privo zame ara\n",
      "sen tup pro hr ala\n",
      "da počan kliu kupo ava\n",
      "svih re o zeovu apa\n",
      "ku vatsja a pros ata\n",
      "ični hva članda po aka\n",
      "le tih kozna jitars aba\n",
      "jamo tvea ije mosmo ada\n",
      "kane đu maim danti aga\n",
      "je kinkom čjana karfor asa\n",
      "teta ozbog lek gar aša\n",
      "biće jedu ju žajta aza\n",
      "nisko juna g prapi aža\n",
      "punji tegran lepo vi afa\n",
      "ka go hvalbulj nii aha\n",
      "jifir rhti zeis tvari aca\n",
      "ko to drpred hvana ača\n",
      "jeje jedsje jektna adru ađa\n",
      "navnim ta borpe semo aja\n",
      "je me prena mara ana\n",
      "bare nidvo nas is ama\n",
      "trosve bitre dea ar ara\n",
      "ceje ja jete ije ala\n",
      "fe fai vis ste ava\n"
     ]
    }
   ],
   "source": [
    "max_syllables = 2\n",
    "# n_sentences = 50\n",
    "n_sentences = 4 * len(phons) # 4 govornika po 21 rečenicu\n",
    "n_words_per_sentence = 4\n",
    "\n",
    "# koliko fonema po slogu, vjerojatnosti\n",
    "#custom_length_probs = [0.3, 0.4, 0.2, 0.1]\n",
    "\n",
    "print(f\"RNG GENERIRANJE REČENICA | max_syllables({max_syllables}), n_sentences({n_sentences}), n_words_per_sentence({n_words_per_sentence}) \\n\")\n",
    "print(f\"RNG GENERIRANJE REČENICA | max_SPW_length ({max_SPW_length }), max_PPS_length ({max_PPS_length }), max_UQS_length ({max_UQS_length }) \\n\")\n",
    "\n",
    "text_generator = TextGenerator(probs_SPW_weights, unique_syllables_sorted, max_syllables)\n",
    "\n",
    "# Generate text\n",
    "generated_text = text_generator.generate_text(n_sentences,\n",
    "                                              n_words_per_sentence,\n",
    "                                              probs_SPW_items_cut,\n",
    "                                              probs_SPW_weights_cut,\n",
    "                                              probs_PPS_items_cut,\n",
    "                                              probs_PPS_weights_cut, \n",
    "                                              probs_UQS_items_cut, \n",
    "                                              probs_UQS_weights_cut)\n",
    "\n",
    "r_squared = text_generator.calculate_r_squared(phoneme_frequencies, generated_text)\n",
    "\n",
    "print(f\"R-squared value: {r_squared:.5f}\\n\")\n",
    "\n",
    "print(\"Generated text:\\n\", generated_text)"
   ]
  },
  {
   "cell_type": "code",
   "execution_count": 68,
   "id": "a8d65ec0-b217-42cc-ba9b-60bc5b90b3f1",
   "metadata": {
    "execution": {
     "iopub.execute_input": "2024-05-19T12:11:28.827772Z",
     "iopub.status.busy": "2024-05-19T12:11:28.827772Z",
     "iopub.status.idle": "2024-05-19T12:11:34.124309Z",
     "shell.execute_reply": "2024-05-19T12:11:34.124309Z",
     "shell.execute_reply.started": "2024-05-19T12:11:28.827772Z"
    }
   },
   "outputs": [
    {
     "name": "stdout",
     "output_type": "stream",
     "text": [
      "Iterated for 20 iterations \n",
      "\n",
      "RNG GENERIRANJE REČENICA | max_syllables(2), n_sentences(84), n_words_per_sentence(4) \n",
      "\n",
      "RNG GENERIRANJE REČENICA | max_SPW_length (5), max_PPS_length (4), max_UQS_length (7000) \n",
      "\n",
      "Highest R-squared value: 0.85221\n",
      "\n",
      "Best generated text:\n",
      " \n",
      "ji pri diti kom apa\n",
      "seti ku ni di ata\n",
      "nas vašbe be ona aka\n",
      "eji ko kovi jumi aba\n",
      "daje nia invač ža ada\n",
      "alju rod jaje tui aga\n",
      "brojor bi li modrš asa\n",
      "oza bislo ti koćen aša\n",
      "navom vatsnu bol suko aza\n",
      "ci todni bivi ćeđe aža\n",
      "uu sente isje jeza afa\n",
      "innog ti ido tosus aha\n",
      "čnenje nosna oli toza aca\n",
      "svoj mepo gotro vistal ača\n",
      "toja jui oa ćešto ađa\n",
      "čišto tu na loku aja\n",
      "ku ni uiš cika ana\n",
      "vniđe rastu pos tene ama\n",
      "kostčin tio dog jek ara\n",
      "kono pris skloka jes ala\n",
      "vičla na priko kune ava\n",
      "amžje sevo pode kimko apa\n",
      "neo vi kasli nake ata\n",
      "modi une viko niko aka\n",
      "nau na uveć nati aba\n",
      "o ov pr i ada\n",
      "prijoj uba su pra aga\n",
      "dnota getsja na vnibra asa\n",
      "zatri seze bor deve aša\n",
      "vom čajpla no piza aza\n",
      "kor jigle to tovan aža\n",
      "virpra e vreči udo afa\n",
      "to vjeno kotram cidi aha\n",
      "kvimve htioci rža poho aca\n",
      "tone tavše vra podo ača\n",
      "ko pota vnomiz dje ađa\n",
      "pra prati zma doko aja\n",
      "no ko vi ja ana\n",
      "nisbli te nisto uje ama\n",
      "ve dije vakno vanpo ara\n",
      "i suidr tedo pojen ala\n",
      "bu nog pa oddi ava\n",
      "za snišni ma ona apa\n",
      "okal babra ravins dnak ata\n",
      "ste e avlas da aka\n",
      "na bi vjetje va aba\n",
      "srps njevni ji ida ada\n",
      "korje berđe pretu ti aga\n",
      "nani o sladru viće asa\n",
      "šendi i is li aša\n",
      "za djelo ža ra aza\n",
      "đusno itit ida go aža\n",
      "klubkva koj klevor slgov afa\n",
      "svimto muvre sao velo aha\n",
      "zbog gor vace unu aca\n",
      "đoo prakka o je ača\n",
      "pona pakri tizo neje ađa\n",
      "duste tibu vi na aja\n",
      "sveva će propos zah ana\n",
      "svimko pi karsi pu ama\n",
      "ci vats tajte por ara\n",
      "zlogci tur melu tako ala\n",
      "ćnime isi u žeti ava\n",
      "ce ase tevnim zor apa\n",
      "dao zaže stanje vablo ata\n",
      "dra por doti jepro aka\n",
      "rime tnemi niod neva aba\n",
      "dre kljuće mae kaho ada\n",
      "bavan na je juzna aga\n",
      "jeu nini če no asa\n",
      "pra vnovu jina manzo aša\n",
      "tigos tnišin de lo aza\n",
      "e mibi nudi ce aža\n",
      "glasiz pr vlas kažiš afa\n",
      "u produr njuvla žnigo aha\n",
      "davo kata dao jeka aca\n",
      "ako jem nao če ača\n",
      "uno bzirne fa jiko ađa\n",
      "slode vreži su de aja\n",
      "sta ko voru prasvat ana\n",
      "zašvi surjih ču prosje ama\n",
      "to zi či juji ara\n",
      "vre žuje sute toje ala\n",
      "da jevins dadan zašti ava\n",
      "\n",
      "CPU times: total: 5.3 s\n",
      "Wall time: 5.29 s\n"
     ]
    }
   ],
   "source": [
    "%%time\n",
    "\n",
    "# Variables to keep track of the best result\n",
    "best_r_squared = -float('inf')\n",
    "best_generated_text = \"\"\n",
    "\n",
    "# 100 iterations, Highest R-squared value: 0.85969, 25 s\n",
    "# 200 iterations, Highest R-squared value: 0.86928, 52.8 s\n",
    "# 1000 iterations, Highest R-squared value: 0.87544, 4min 32s\n",
    "# 2000 iterations, Highest R-squared value: 0.88040, 8min 50s\n",
    "\n",
    "# Iterate n times to find the best R-squared value and corresponding text\n",
    "\n",
    "n_iterate = 20\n",
    "\n",
    "for _ in range(n_iterate):\n",
    "    # Generate text\n",
    "    generated_text = text_generator.generate_text(n_sentences,\n",
    "                                                  n_words_per_sentence,\n",
    "                                                  probs_SPW_items_cut,\n",
    "                                                  probs_SPW_weights_cut,\n",
    "                                                  probs_PPS_items_cut,\n",
    "                                                  probs_PPS_weights_cut, \n",
    "                                                  probs_UQS_items_cut, \n",
    "                                                  probs_UQS_weights_cut)\n",
    "    \n",
    "    # Calculate R-squared value\n",
    "    r_squared = text_generator.calculate_r_squared(phoneme_frequencies, generated_text)\n",
    "    \n",
    "    # Update the best result if current R-squared is higher\n",
    "    if r_squared > best_r_squared:\n",
    "        best_r_squared = r_squared\n",
    "        best_generated_text = generated_text\n",
    "\n",
    "# Print the best result\n",
    "print(f\"Iterated for {n_iterate} iterations \\n\")\n",
    "print(f\"RNG GENERIRANJE REČENICA | max_syllables({max_syllables}), n_sentences({n_sentences}), n_words_per_sentence({n_words_per_sentence}) \\n\")\n",
    "print(f\"RNG GENERIRANJE REČENICA | max_SPW_length ({max_SPW_length }), max_PPS_length ({max_PPS_length }), max_UQS_length ({max_UQS_length }) \\n\")\n",
    "print(f\"Highest R-squared value: {best_r_squared:.5f}\\n\")\n",
    "print(f\"Best generated text:\\n \\n{best_generated_text}\\n\")"
   ]
  },
  {
   "cell_type": "markdown",
   "id": "7207e480-32f7-4585-8470-998b1386c9dd",
   "metadata": {},
   "source": [
    "# Working material generator above!!\n",
    "good luck"
   ]
  },
  {
   "cell_type": "code",
   "execution_count": 32,
   "id": "d854e456-fb83-4601-a827-644e8fbaeaf4",
   "metadata": {
    "execution": {
     "iopub.execute_input": "2024-05-23T20:48:13.940141Z",
     "iopub.status.busy": "2024-05-23T20:48:13.939144Z",
     "iopub.status.idle": "2024-05-23T20:48:13.944663Z",
     "shell.execute_reply": "2024-05-23T20:48:13.944663Z",
     "shell.execute_reply.started": "2024-05-23T20:48:13.940141Z"
    }
   },
   "outputs": [
    {
     "name": "stdout",
     "output_type": "stream",
     "text": [
      "Individual SNR values (dB): ['0.0000', '-2.0000', '-4.0000']\n",
      "Average SNR (dB): -2.0000\n"
     ]
    }
   ],
   "source": [
    "import math\n",
    "\n",
    "# Mean intensity values in dB for the signal and noise\n",
    "mean_intensities_signal_db = [68, 68, 68]  # Add the fourth value when available\n",
    "mean_intensities_noise_db = [68, 70, 72]\n",
    "\n",
    "# Check if both lists have the same length\n",
    "if len(mean_intensities_signal_db) != len(mean_intensities_noise_db):\n",
    "    raise ValueError(\"Signal and noise lists must have the same length\")\n",
    "\n",
    "# Function to calculate SNR for a pair of dB values\n",
    "def calculate_snr(signal_db, noise_db):\n",
    "    power_signal = 10 ** (signal_db / 10)\n",
    "    power_noise = 10 ** (noise_db / 10)\n",
    "    snr_db = 10 * math.log10(power_signal / power_noise)\n",
    "    return snr_db\n",
    "\n",
    "# Calculate SNR for each pair and store the results in a list\n",
    "snr_values = []\n",
    "for signal_db, noise_db in zip(mean_intensities_signal_db, mean_intensities_noise_db):\n",
    "    snr_db = calculate_snr(signal_db, noise_db)\n",
    "    snr_values.append(snr_db)\n",
    "\n",
    "# Calculate the average SNR\n",
    "average_snr_db = sum(snr_values) / len(snr_values)\n",
    "\n",
    "# Print individual SNR values with four decimal places\n",
    "formatted_snr_values = [f\"{snr_db:.4f}\" for snr_db in snr_values]\n",
    "print(f\"Individual SNR values (dB): {formatted_snr_values}\")\n",
    "\n",
    "# Print the average SNR with four decimal places\n",
    "print(f\"Average SNR (dB): {average_snr_db:.4f}\")\n",
    "\n",
    "\n"
   ]
  },
  {
   "cell_type": "code",
   "execution_count": null,
   "id": "301f1a9a-bb0f-4856-b3e6-5083a6b5a2a6",
   "metadata": {},
   "outputs": [],
   "source": []
  },
  {
   "cell_type": "code",
   "execution_count": null,
   "id": "26ecf6e2-73d3-4932-9bd1-0aeb79795666",
   "metadata": {},
   "outputs": [],
   "source": []
  },
  {
   "cell_type": "code",
   "execution_count": null,
   "id": "d93506ea-186c-472a-a461-d9323b947283",
   "metadata": {},
   "outputs": [],
   "source": []
  },
  {
   "cell_type": "code",
   "execution_count": null,
   "id": "7254f084-adc8-4512-9055-3afb38377f2f",
   "metadata": {},
   "outputs": [],
   "source": []
  },
  {
   "cell_type": "code",
   "execution_count": 40,
   "id": "79f5ece9-f954-4527-bb80-16a263d8a5e2",
   "metadata": {
    "execution": {
     "iopub.execute_input": "2024-05-12T15:12:43.365011Z",
     "iopub.status.busy": "2024-05-12T15:12:43.365011Z",
     "iopub.status.idle": "2024-05-12T15:12:43.913124Z",
     "shell.execute_reply": "2024-05-12T15:12:43.913124Z",
     "shell.execute_reply.started": "2024-05-12T15:12:43.365011Z"
    }
   },
   "outputs": [
    {
     "name": "stdout",
     "output_type": "stream",
     "text": [
      "RNG GENERIRANJE REČENICA | max_syllables(6), n_sentences(50), n_words_per_sentence(6) \n",
      "\n",
      "R-squared value: 0.91857\n",
      "\n",
      "o gu ko da šnje split\n",
      "ne zbog u nar kvih tro\n",
      "a gos sreds ble vo dnog\n",
      "funk vom da ćem jem dan\n",
      "su u u vanjs te vješ\n",
      "o i ja vi o r\n",
      "u je đan znog u so\n",
      "brin u bro o a vats\n",
      "je i sno e ma pa\n",
      "s ge ta tus u bzir\n",
      "sa grads po gos dnih pri\n",
      "i či da funk pre po\n",
      "me ops dnje u u je\n",
      "a ći gal di kvog dru\n",
      "pre zbog tra služ je u\n",
      "dsje nit sli o poš dje\n",
      "u sta blem ga ki e\n",
      "zna ja a lič je dzir\n",
      "čer po sam vjer tvu i\n",
      "o u u sve zme mi\n",
      "i baš a najs a o\n",
      "i ev hdz i vo da\n",
      "gih au a u pres i\n",
      "u go na šlja o đe\n",
      "ment teš stru o a i\n",
      "klju i ve šu vnom r\n",
      "u mos i i u go\n",
      "dlji bra e u li zaš\n",
      "o ke čak g a o\n",
      "sjed en u i je vjer\n",
      "o snik man ra li o\n",
      "tre je u bzir tnič i\n",
      "i gro u si što i\n",
      "i bor ma i ka ga\n",
      "i ne a no a cit\n",
      "u za kom vi di tno\n",
      "o go a a druš vats\n",
      "tars i dnos i a pre\n",
      "o vor i o je dnom\n",
      "o čnja o a is o\n",
      "vri pre da ins o svje\n",
      "o e šnjom u i g\n",
      "ni o i struk a van\n",
      "mor ne can is i o\n",
      "hva ne ner u dnje u\n",
      "a o troš uz i blo\n",
      "o kroz u ta zeml o\n",
      "i li ho sni na cil\n",
      "si i prem tual dru o\n",
      "dr u a vlju ko e\n"
     ]
    }
   ],
   "source": [
    "import random\n",
    "from scipy.stats import linregress\n",
    "\n",
    "class TextGenerator:\n",
    "    def __init__(self, sorted_frequency_probs, unique_syllables_sorted, max_syllables):\n",
    "        self.sorted_frequency_probs = sorted_frequency_probs\n",
    "        self.unique_syllables_sorted = unique_syllables_sorted\n",
    "        self.max_syllables = max_syllables\n",
    "\n",
    "    def generate_random_word(self, custom_length_probs=None, custom_syllable_probs=None):\n",
    "\n",
    "        # CUSTOM FREQUENCY OF CHARS IN SYLLABLES custom_length_probs\n",
    "        if custom_length_probs:\n",
    "            num_syllables = random.choices(range(1, self.max_syllables + 1), weights=custom_length_probs)[0]\n",
    "        else:\n",
    "            num_syllables = random.choices([syllable_length for syllable_length, _ in self.sorted_frequency_probs],\n",
    "                                           weights=[prob for _, prob in self.sorted_frequency_probs])[0]\n",
    "            #print([prob for _, prob in self.sorted_frequency_probs])\n",
    "            #print(num_syllables)\n",
    "        \n",
    "        \n",
    "        # CUSTOM FREQUENCY OF UNIQUE SYLLABLES custom_syllable_probs\n",
    "        if custom_syllable_probs:\n",
    "            syllable_probs = custom_syllable_probs\n",
    "        else:            \n",
    "            syllable_probs = [prob for syllable, prob in self.unique_syllables_sorted if len(syllable) == num_syllables]\n",
    "            #print(syllable_probs)\n",
    "\n",
    "        # Choose syllables for the word based on their frequencies\n",
    "        syllables_with_length = [syllable for syllable, _ in self.unique_syllables_sorted if len(syllable) == num_syllables]\n",
    "        #print(syllables_with_length)\n",
    "\n",
    "        # Choose a word syllable based on their frequencies\n",
    "        word_syllables = random.choices(syllables_with_length, weights=syllable_probs)[0]\n",
    "        #word_syllables = random.choices(syllables_with_length)[0] #podjednaka distribucija daje mnogo manji R2 (oko 0.6)\n",
    "\n",
    "        return word_syllables\n",
    "\n",
    "    def generate_random_sentence(self, n_words):\n",
    "        # Generate random words to construct a sentence\n",
    "        sentence = ' '.join(self.generate_random_word() for _ in range(n_words))\n",
    "        return sentence\n",
    "\n",
    "    def generate_text(self, n_sentences, n_words_per_sentence):\n",
    "        # Generate multiple sentences to create a text\n",
    "        text = '\\n'.join(self.generate_random_sentence(n_words_per_sentence) for _ in range(n_sentences))\n",
    "        return text\n",
    "\n",
    "    def calculate_r_squared(self, target_frequencies, generated_text):\n",
    "        # Count phoneme frequencies in the generated text\n",
    "        generated_frequencies = {}\n",
    "        for phoneme in target_frequencies:\n",
    "            generated_frequencies[phoneme] = generated_text.count(phoneme)\n",
    "\n",
    "        # Calculate R-squared value\n",
    "        x = [target_frequencies[phoneme] for phoneme in target_frequencies]\n",
    "        y = [generated_frequencies.get(phoneme, 0) for phoneme in target_frequencies]\n",
    "        slope, intercept, r_value, p_value, std_err = linregress(x, y)\n",
    "        r_squared = r_value ** 2\n",
    "        return r_squared\n",
    "\n",
    "max_syllables = 6\n",
    "n_sentences = 50\n",
    "n_words_per_sentence = 6\n",
    "\n",
    "# koliko fonema po slogu, vjerojatnosti\n",
    "custom_length_probs = [0.3, 0.4, 0.2, 0.1]\n",
    "\n",
    "print(f\"RNG GENERIRANJE REČENICA | max_syllables({max_syllables}), n_sentences({n_sentences}), n_words_per_sentence({n_words_per_sentence}) \\n\")\n",
    "\n",
    "\n",
    "# Example usage:\n",
    "text_generator = TextGenerator(sorted_SPW_frequency, unique_syllables_sorted, max_syllables)\n",
    "generated_text = text_generator.generate_text(n_sentences, n_words_per_sentence)\n",
    "r_squared = text_generator.calculate_r_squared(phoneme_frequencies, generated_text)\n",
    "print(f\"R-squared value: {r_squared:.5f}\\n\")\n",
    "print(generated_text)\n"
   ]
  },
  {
   "cell_type": "code",
   "execution_count": null,
   "id": "56b32657-1d32-4894-8403-3fa2cebec8d5",
   "metadata": {},
   "outputs": [],
   "source": []
  },
  {
   "cell_type": "code",
   "execution_count": null,
   "id": "193d9cef-b44f-4c31-9d41-1329c715d612",
   "metadata": {},
   "outputs": [],
   "source": []
  },
  {
   "cell_type": "code",
   "execution_count": null,
   "id": "db60b5fd-59c4-40ae-8647-bcd04f5b4a5d",
   "metadata": {},
   "outputs": [],
   "source": []
  },
  {
   "cell_type": "code",
   "execution_count": null,
   "id": "f13e6d4f-dd37-40e9-bfce-2cf8dfba190e",
   "metadata": {},
   "outputs": [],
   "source": []
  },
  {
   "cell_type": "code",
   "execution_count": null,
   "id": "5b6a0fb8-8b63-421e-b054-4194e6647e5b",
   "metadata": {},
   "outputs": [],
   "source": []
  },
  {
   "cell_type": "code",
   "execution_count": null,
   "id": "ab8ab77b-613c-46eb-bb7e-4b526696b410",
   "metadata": {},
   "outputs": [],
   "source": []
  },
  {
   "cell_type": "markdown",
   "id": "c32ec122-59d1-45c1-978b-330af8434dab",
   "metadata": {},
   "source": [
    "# Big Science here (analysis)"
   ]
  },
  {
   "cell_type": "code",
   "execution_count": 64,
   "id": "edeaa78a-8cc4-4a91-a3d5-b327953b69a0",
   "metadata": {
    "execution": {
     "iopub.execute_input": "2024-04-08T00:04:18.692559Z",
     "iopub.status.busy": "2024-04-08T00:04:18.692559Z",
     "iopub.status.idle": "2024-04-08T00:04:19.289544Z",
     "shell.execute_reply": "2024-04-08T00:04:19.289544Z",
     "shell.execute_reply.started": "2024-04-08T00:04:18.692559Z"
    }
   },
   "outputs": [
    {
     "name": "stdout",
     "output_type": "stream",
     "text": [
      "Words with 12 or more syllables, total hits: 36 \n",
      "\n",
      "edukacijskorehabilitacijskog\n",
      "edukacijskorehabilitacijskih\n",
      "edukacijskorehabilitacijski\n",
      "edukacijskorehabilitacijskog\n",
      "edukacijskorehabilitacijskom\n",
      "edukacijskorehabilitacijsku\n",
      "edukacijskorehabilitacijska\n",
      "edukacijskorehabilitacijskom\n",
      "edukacijskorehabilitacijskom\n",
      "varaždinivaneclepoglavakrapina\n",
      "konzervatorskorestauratorskoga\n",
      "edukacijskorehabilitacijskog\n",
      "nacionalnimmultinacionalnimzapovjedništvima\n",
      "edukacijskorehabilitacijskog\n",
      "edukacijskorehabilitacijskom\n",
      "pedagoškopsihološkodidaktičkometodičku\n",
      "nacionalnimmultinacionalnimzapovjedništvima\n",
      "edukacijskorehabilitacijski\n",
      "edukacijskorehabilitacijskih\n",
      "edukacijskorehabilitacijsku\n",
      "edukacijskorehabilitacijska\n",
      "edukacijskorehabilitacijske\n",
      "edukacijskorehabilitacijskog\n",
      "edukacijskorehabilitacijskoj\n",
      "edukacijskorehabilitacijske\n",
      "edukacijskorehabilitacijskoj\n",
      "edukacijskorehabilitacijskoj\n",
      "rehabilitacijoresocijalizacijskog\n",
      "edukacijskorehabilitacijskoj\n",
      "edukacijskorehabilitacijske\n",
      "edukacijskorehabilitacijsku\n",
      "edukacijskorehabilitacijskoj\n",
      "edukacijskorehabilitacijskih\n",
      "edukacijskorehabilitacijskoj\n",
      "edukacijskorehabilitacijsku\n",
      "etičkesavjetodavnoapelativne\n"
     ]
    }
   ],
   "source": [
    "n=12\n",
    "result_test = [sublist for sublist in syllables if len(sublist) >= n]\n",
    "\n",
    "print(f\"Words with {n} or more syllables, total hits: {len(result_test)} \\n\")\n",
    "# for item in result_test:\n",
    "#     print(item)\n",
    "for sublist in result_test:\n",
    "    # Join the elements of each sublist into a single word\n",
    "    single_word = ''.join(sublist)\n",
    "    # Print the single word\n",
    "    print(single_word)"
   ]
  },
  {
   "cell_type": "code",
   "execution_count": 67,
   "id": "8d65ef93-45bf-4456-9faf-2010a6f50630",
   "metadata": {
    "execution": {
     "iopub.execute_input": "2024-04-08T00:09:35.341692Z",
     "iopub.status.busy": "2024-04-08T00:09:35.340694Z",
     "iopub.status.idle": "2024-04-08T00:09:38.719595Z",
     "shell.execute_reply": "2024-04-08T00:09:38.719595Z",
     "shell.execute_reply.started": "2024-04-08T00:09:35.341692Z"
    }
   },
   "outputs": [
    {
     "name": "stdout",
     "output_type": "stream",
     "text": [
      "Syllables of 8 or more phonemes, total hits: 15 \n",
      "\n",
      "hdshslshdssba\n",
      "hdshslshdssba\n",
      "hdshslshdssba\n",
      "hdshdssba\n",
      "hdshslsa\n",
      "scharzsc\n",
      "hdshslshdssba\n",
      "hdshslshdssba\n",
      "hdshslshdssba\n",
      "hdzhnssdss\n",
      "hdshslsa\n",
      "hdzsdphns\n",
      "hdshslshdssba\n",
      "hdshslshdssb\n",
      "hdshslshdssba\n"
     ]
    }
   ],
   "source": [
    "# Maximum length you want to check for\n",
    "m = 8\n",
    "\n",
    "# List to store instances where string length >= m\n",
    "long_strings = []\n",
    "\n",
    "# Find all instances where string length >= m\n",
    "for sublist in syllables:\n",
    "    for item in sublist:\n",
    "        if len(item) >= m:\n",
    "            long_strings.append(item)\n",
    "\n",
    "print(f\"Syllables of {m} or more phonemes, total hits: {len(long_strings)} \\n\")\n",
    "for item in long_strings:\n",
    "    print(item)"
   ]
  },
  {
   "cell_type": "code",
   "execution_count": null,
   "id": "35be2012-da92-42a3-9d2e-a919a28615d0",
   "metadata": {},
   "outputs": [],
   "source": []
  },
  {
   "cell_type": "markdown",
   "id": "1884b513-401b-4d7d-93be-d84344e0cd89",
   "metadata": {},
   "source": [
    "# (ARCHIVED PROGESS)"
   ]
  },
  {
   "cell_type": "code",
   "execution_count": 75,
   "id": "22f7e0f1-42b6-470b-9733-6b3e5bd518bb",
   "metadata": {
    "execution": {
     "iopub.execute_input": "2024-04-08T00:35:27.038713Z",
     "iopub.status.busy": "2024-04-08T00:35:27.038713Z",
     "iopub.status.idle": "2024-04-08T00:35:33.063231Z",
     "shell.execute_reply": "2024-04-08T00:35:33.063231Z",
     "shell.execute_reply.started": "2024-04-08T00:35:27.038713Z"
    }
   },
   "outputs": [
    {
     "name": "stdout",
     "output_type": "stream",
     "text": [
      "Phonemes per syllable (total syllables: 31675582):\n",
      "[[1, 3270564], [2, 18773689], [3, 7901801], [4, 1518970], [5, 195945], [6, 14556], [7, 42], [8, 3], [9, 2], [10, 1], [12, 1], [13, 8]]\n",
      "CPU times: total: 6.03 s\n",
      "Wall time: 6.02 s\n"
     ]
    }
   ],
   "source": [
    "%%time\n",
    "# Dictionary to store counts of syllable lengths\n",
    "syllable_counts = defaultdict(int)\n",
    "\n",
    "# Count syllable lengths\n",
    "for sublist in syllables:\n",
    "    for word in sublist:\n",
    "        syllable_counts[len(word)] += 1\n",
    "\n",
    "# Sort counts by frequency in descending order\n",
    "# SPC = syllable phoneme count\n",
    "sorted_SPC_counts = sorted(syllable_counts.items(), key=lambda x: x[0], reverse=False)\n",
    "sorted_SPC_counts = [[item[0], item[1]] for item in sorted_SPC_counts]\n",
    "total_syllables = sum(len(sublist) for sublist in syllables)\n",
    "\n",
    "# Print the sorted counts\n",
    "print(f\"Phonemes per syllable (total syllables: {total_syllables}):\")\n",
    "# for length, count in sorted_SPC_counts:\n",
    "#     print(f\"{length}-fonski: {count} occurrences\")\n",
    "print(sorted_SPC_counts)\n"
   ]
  },
  {
   "cell_type": "code",
   "execution_count": null,
   "id": "2cdd5f6e-3354-4b86-8b09-0a001e01b4d6",
   "metadata": {},
   "outputs": [],
   "source": []
  },
  {
   "cell_type": "code",
   "execution_count": null,
   "id": "e65b2f11-5594-4b5d-94f9-0dc048accae5",
   "metadata": {},
   "outputs": [],
   "source": []
  },
  {
   "cell_type": "code",
   "execution_count": null,
   "id": "a7878b57-cf66-42e6-886f-7ad0658aadbf",
   "metadata": {},
   "outputs": [],
   "source": []
  },
  {
   "cell_type": "code",
   "execution_count": null,
   "id": "ad5642f3-f14c-4498-9d85-33d355f784d5",
   "metadata": {},
   "outputs": [],
   "source": []
  },
  {
   "cell_type": "code",
   "execution_count": 52,
   "id": "b74bab48-40e4-4d0a-aa5b-b0aac9bade40",
   "metadata": {},
   "outputs": [
    {
     "name": "stdout",
     "output_type": "stream",
     "text": [
      "Frequency of syllable counts (words: 14250653):\n",
      "1-složne riječi: 5061426\n",
      "2-složne riječi: 3950650\n",
      "3-složne riječi: 2979291\n",
      "4-složne riječi: 1672845\n",
      "5-složne riječi: 462241\n",
      "6-složne riječi: 102219\n",
      "7-složne riječi: 18440\n",
      "8-složne riječi: 2614\n",
      "9-složne riječi: 533\n",
      "10-složne riječi: 91\n",
      "11-složne riječi: 267\n",
      "12-složne riječi: 31\n",
      "13-složne riječi: 1\n",
      "15-složne riječi: 1\n",
      "16-složne riječi: 3\n",
      "\n",
      "Total number of words: 14250653\n",
      "Number of syllables per word: [3, 4, 1, 3, 3, 1, 1, 2, 3, 2] etc.\n",
      "\n",
      "Unique syllable (9207) and frequency (Top50):\n",
      "je | 1239968\n",
      "i | 990473\n",
      "o | 820551\n",
      "da | 764537\n",
      "ko | 727848\n",
      "na | 715544\n",
      "ti | 681299\n",
      "u | 664127\n",
      "a | 523374\n",
      "ne | 520557\n",
      "li | 502407\n",
      "po | 457849\n",
      "ni | 453717\n",
      "ma | 442325\n",
      "za | 436560\n",
      "to | 428449\n",
      "ja | 404643\n",
      "mo | 404034\n",
      "ta | 363511\n",
      "ka | 358946\n",
      "se | 342439\n",
      "vi | 295350\n",
      "di | 295232\n",
      "va | 288727\n",
      "te | 275250\n",
      "do | 261165\n",
      "ju | 252175\n",
      "bi | 246787\n",
      "no | 244793\n",
      "ci | 242588\n",
      "sa | 234274\n",
      "vo | 232563\n",
      "mi | 229111\n",
      "su | 228063\n",
      "go | 216409\n",
      "ji | 215788\n",
      "pro | 181618\n",
      "la | 180244\n",
      "me | 177008\n",
      "će | 175528\n",
      "pra | 172759\n",
      "ga | 172433\n",
      "ve | 170641\n",
      "lo | 167692\n",
      "pri | 155867\n",
      "e | 149407\n",
      "pre | 140149\n",
      "ku | 140017\n",
      "tu | 138642\n",
      "de | 134916\n",
      "\n",
      "Unique syllable (9207) and frequency (Last50):\n",
      "tejp | 1\n",
      "puf | 1\n",
      "špigl | 1\n",
      "šmrak | 1\n",
      "zlit | 1\n",
      "kvlin | 1\n",
      "njuz | 1\n",
      "hash | 1\n",
      "kaohdz | 1\n",
      "fars | 1\n",
      "jist | 1\n",
      "stos | 1\n",
      "plest | 1\n",
      "nečv | 1\n",
      "pljo | 1\n",
      "zns | 1\n",
      "sf | 1\n",
      "znso | 1\n",
      "niem | 1\n",
      "sner | 1\n",
      "bjeg | 1\n",
      "pdo | 1\n",
      "zoi | 1\n",
      "pgi | 1\n",
      "pd | 1\n",
      "tomm | 1\n",
      "hgsa | 1\n",
      "toos | 1\n",
      "šprem | 1\n",
      "zult | 1\n",
      "posljs | 1\n",
      "tset | 1\n",
      "tness | 1\n",
      "ciec | 1\n",
      "puž | 1\n",
      "konk | 1\n",
      "dnit | 1\n",
      "skp | 1\n",
      "dmen | 1\n",
      "djeo | 1\n",
      "bppu | 1\n",
      "gnjez | 1\n",
      "skalp | 1\n",
      "ssi | 1\n",
      "sso | 1\n",
      "zpkkon | 1\n",
      "hrč | 1\n",
      "svop | 1\n",
      "trihts | 1\n",
      "kojz | 1\n"
     ]
    }
   ],
   "source": [
    "%%time\n",
    "from collections import Counter\n",
    "\n",
    "def count_stats(syllables):\n",
    "    # Count total number of words\n",
    "    total_words = len(syllables)\n",
    "\n",
    "    # Count number of syllables per word\n",
    "    syllables_per_word = [len(word_syllables) for word_syllables in syllables]\n",
    "\n",
    "    # Count unique syllables and their frequencies\n",
    "    unique_syllables = {}\n",
    "    for word_syllables in syllables:\n",
    "        for syllable in word_syllables:\n",
    "            if syllable in unique_syllables:\n",
    "                unique_syllables[syllable] += 1\n",
    "            else:\n",
    "                unique_syllables[syllable] = 1\n",
    "\n",
    "    # Sort unique syllables by frequency\n",
    "    unique_syllables_sorted = sorted(unique_syllables.items(), key=lambda x: x[1], reverse=True)\n",
    "\n",
    "    return total_words, syllables_per_word, unique_syllables_sorted\n",
    "\n",
    "# printanje statistike\n",
    "def print_unique_syllables(unique_syllables_sorted, limit=None, reverse=False):\n",
    "    count = 0\n",
    "    if reverse:\n",
    "        unique_syllables_sorted = reversed(unique_syllables_sorted)\n",
    "    for syllable, frequency in unique_syllables_sorted:\n",
    "        print(f\"{syllable} | {frequency}\")\n",
    "        count += 1\n",
    "        if limit is not None and count >= limit:\n",
    "            break\n",
    "\n",
    "\n",
    "# counter za slogove basic\n",
    "def count_syllable_frequency(syllables_per_word):\n",
    "    return Counter(syllables_per_word)\n",
    "\n",
    "\n",
    "\n",
    "# printanje frekvencije po broju slogova\n",
    "def print_syllable_frequency(syllable_frequency):\n",
    "    sorted_frequency = sorted(syllable_frequency.items(), key=lambda x: x[0])\n",
    "    for syllable_count, frequency in sorted_frequency:\n",
    "        syllable_string = f\"{syllable_count}-složne riječi\"\n",
    "        print(f\"{syllable_string}: {frequency}\")\n",
    "\n",
    "\n",
    "# Generiramo statistiku\n",
    "total_words, syllables_per_word, unique_syllables_sorted = count_stats(syllables)\n",
    "\n",
    "# Brojimo slogove u svakoj riječi\n",
    "syllable_frequency = count_syllable_frequency(syllables_per_word)\n",
    "\n",
    "# Print \n",
    "print(f\"Frequency of syllable counts (words: {total_words}):\")\n",
    "print_syllable_frequency(syllable_frequency)\n",
    "\n",
    "print(\"\\nTotal number of words:\", total_words)\n",
    "print(f\"Number of syllables per word: {syllables_per_word[:10]} etc.\")\n",
    "print(f\"\\nUnique syllable ({len(unique_syllables_sorted)}) and frequency (Top50):\")\n",
    "print_unique_syllables(unique_syllables_sorted, limit=50, reverse=False)\n",
    "print(f\"\\nUnique syllable ({len(unique_syllables_sorted)}) and frequency (Last50):\")\n",
    "print_unique_syllables(unique_syllables_sorted, limit=50, reverse=True)\n"
   ]
  },
  {
   "cell_type": "code",
   "execution_count": 13,
   "id": "1ea83eb7-016c-477b-8499-ab3bee309977",
   "metadata": {},
   "outputs": [
    {
     "name": "stdout",
     "output_type": "stream",
     "text": [
      "[('je', 1239968), ('i', 990473), ('o', 820551), ('da', 764537), ('ko', 727848), ('na', 715544), ('ti', 681299), ('u', 664127), ('a', 523374), ('ne', 520557)]\n"
     ]
    }
   ],
   "source": [
    "print(unique_syllables_sorted[:10])"
   ]
  },
  {
   "cell_type": "code",
   "execution_count": 33,
   "id": "5c84e5f2-11d0-4197-99ba-12bb74bf31db",
   "metadata": {},
   "outputs": [
    {
     "name": "stdout",
     "output_type": "stream",
     "text": [
      "Ukupan broj slogova u korpusu: 31675582\n",
      "\n",
      "[['li', 'je', 'po'], ['ko', 'le', 'gi', 'ce'], ['i'], ['ko', 'le', 'ge'], ['ne', 'moj', 'te'], ['se'], ['vi'], ['var', 'da'], ['hi', 'ho', 'tat'], ['pri', 'je'], ['g'], ['ste'], ['iz', 'da', 'li'], ['bir', 'a', 'če'], ['sad'], ['je', 'dva'], ['če', 'kam'], ['da'], ['vi', 'dim'], ['ka', 'ko'], ['će'], ['vas'], ['na', 'gra', 'dit'], ['je', 'dva'], ['če', 'kam'], ['hva', 'la'], ['li', 'je', 'po'], ['ko', 'le', 'gi', 'ce'], ['i'], ['ko', 'le', 'ga'], ['ko', 'le', 'ge'], ['zas', 'tu', 'pni', 'ci'], ['g'], ['pot', 'pre', 'dsje', 'dni', 'če'], ['hdz'], ['že', 'li'], ['po', 'ku', 'ša', 'ti'], ['da', 'ti'], ['o', 'be', 'ćan', 'je'], ['za'], ['mje', 'se', 'ci'], ['da'], ['će'], ['ne', 'ki'], ['gra', 'đa', 'ni'], ['do', 'bi', 'ti'], ['sto', 'ti', 'na'], ['ku', 'na'], ['i'], ['je', 'di', 'na'], ['svr', 'ha'], ['o', 'vog'], ['za', 'ko', 'na'], ['su'], ['je'], ['kam', 'pan', 'ja'], ['o', 'dno', 'sno'], ['iz', 'bor', 'i'], ['i'], ['pre', 'diz', 'bor', 'na'], ['kam', 'pan', 'ja'], ['jer'], ['ka', 'ko'], ['dru', 'ga', 'či', 'je'], ['o', 'bja', 'sni', 'ti'], ['da'], ['nis', 'te'], ['da', 'li'], ['ka', 'da'], ['ste'], ['i', 'ma', 'li'], ['rast'], ['a'], ['sa', 'da'], ['pre', 'dla', 'že'], ['kao'], ['fol'], ['g'], ['a', 'la', 'dro', 'vić'], ['i'], ['plen', 'ko', 'vić'], ['se'], ['bri', 'nu'], ['za'], ['na', 'še'], ['star', 'i', 'je'], ['su', 'gra', 'đa', 'ne'], ['i'], ['e', 'vo'], ['kad']]\n"
     ]
    }
   ],
   "source": [
    "syllables_per_word2 = [len(word_syllables) for word_syllables in syllables]\n",
    "total_entries = sum(len(sublist) for sublist in syllables)\n",
    "print(f\"Ukupan broj slogova u korpusu: {total_entries}\\n\")\n",
    "print(syllables[:90])"
   ]
  },
  {
   "cell_type": "code",
   "execution_count": 40,
   "id": "8410263d-ec23-4a8a-9186-fccb43fd6024",
   "metadata": {},
   "outputs": [
    {
     "name": "stdout",
     "output_type": "stream",
     "text": [
      "[[2, 18773689], [3, 7901801], [1, 3270564], [4, 1518970], [5, 195945], [6, 14556], [7, 42], [13, 8], [8, 3], [9, 2], [10, 1], [12, 1]]\n"
     ]
    }
   ],
   "source": []
  },
  {
   "cell_type": "code",
   "execution_count": null,
   "id": "32c26c84-e898-44ca-b6e8-7480a26d6b05",
   "metadata": {},
   "outputs": [],
   "source": []
  },
  {
   "cell_type": "code",
   "execution_count": 8,
   "id": "afc96ed0-71eb-4b59-8b69-7e630fefa5b3",
   "metadata": {},
   "outputs": [
    {
     "name": "stdout",
     "output_type": "stream",
     "text": [
      "[(1, 5061426), (2, 3950650), (3, 2979291), (4, 1672845), (5, 462241), (6, 102219), (7, 18440), (8, 2614), (9, 533), (10, 91), (11, 267), (12, 31), (13, 1), (15, 1), (16, 3)]\n"
     ]
    }
   ],
   "source": [
    "# DISTRIBUCIJA RIJEČI PO BROJU SLOGOVA\n",
    "sorted_frequency = sorted(syllable_frequency.items(), key=lambda x: x[0])\n",
    "\n",
    "print(sorted_frequency)"
   ]
  },
  {
   "cell_type": "code",
   "execution_count": 6,
   "id": "711f3f33-70a6-427f-9294-e7e81aa9da2e",
   "metadata": {},
   "outputs": [
    {
     "data": {
      "image/png": "[encoded data removed]",
      "text/plain": [
       "<Figure size 1000x600 with 1 Axes>"
      ]
     },
     "metadata": {},
     "output_type": "display_data"
    }
   ],
   "source": [
    "import matplotlib.pyplot as plt\n",
    "from matplotlib.ticker import FuncFormatter\n",
    "import os\n",
    "\n",
    "# Extract syllable counts and frequencies from sorted_frequency\n",
    "syllable_counts = [item[0] for item in sorted_frequency[:10]]\n",
    "frequencies = [item[1] for item in sorted_frequency[:10]]\n",
    "\n",
    "# Create a new figure and axes\n",
    "fig, ax = plt.subplots(figsize=(10, 6))\n",
    "\n",
    "# Plot the distribution\n",
    "ax.bar(syllable_counts, frequencies, color='skyblue')\n",
    "ax.set_xlabel('Broj slogova po riječi')\n",
    "ax.set_ylabel('Frekvencija broja slogova po riječi')\n",
    "ax.set_xticks(range(min(syllable_counts), max(syllable_counts) + 1))  # Set x-axis ticks\n",
    "ax.set_title('Distribucija riječi po broju slogova korpusa ParlaSpeechHR.v1')\n",
    "ax.grid(True)\n",
    "\n",
    "# Format y-axis labels to display in millions\n",
    "def millions_formatter(x, pos):\n",
    "    return f'{x / 1e6:.0f}M'\n",
    "\n",
    "formatter = FuncFormatter(millions_formatter)\n",
    "ax.yaxis.set_major_formatter(formatter)\n",
    "\n",
    "# Add data point annotations vertically just above the x-axis\n",
    "annotation_height = plt.gca().get_ylim()[0]  # Get the bottom of the y-axis range\n",
    "for count, freq in zip(syllable_counts, frequencies):\n",
    "    plt.text(count, annotation_height+1000000, f'{freq:,}', ha='center', va='top', rotation='vertical', fontsize=10)\n",
    "\n",
    "plt.show()\n"
   ]
  },
  {
   "cell_type": "code",
   "execution_count": 108,
   "id": "2b988bf2-39e6-49d0-a96c-093b220d2ce2",
   "metadata": {},
   "outputs": [
    {
     "name": "stdout",
     "output_type": "stream",
     "text": [
      "Plot saved as frekvencija_slogova_riječi_ParlaSpeechHR_3.png\n"
     ]
    }
   ],
   "source": [
    "# SAVE PLOT\n",
    "# Define the base filename\n",
    "filename_plot = \"frekvencija_slogova_riječi_ParlaSpeechHR.png\"\n",
    "\n",
    "# Check if the file already exists\n",
    "if os.path.exists(filename_plot):\n",
    "    # Increment the number until we find a unique filename\n",
    "    index = 1\n",
    "    while True:\n",
    "        new_filename = f\"frekvencija_slogova_riječi_ParlaSpeechHR_{index}.png\"\n",
    "        if not os.path.exists(new_filename):\n",
    "            break\n",
    "        index += 1\n",
    "    filename_plot = new_filename\n",
    "\n",
    "# Save the plot as PNG\n",
    "fig.savefig(filename_plot)\n",
    "print(f\"Plot saved as {filename_plot}\")"
   ]
  },
  {
   "cell_type": "code",
   "execution_count": 50,
   "id": "b780fda7-b7f9-48a9-8c85-bcff871f6918",
   "metadata": {},
   "outputs": [
    {
     "data": {
      "image/png": "[encoded data removed]",
      "text/plain": [
       "<Figure size 1000x600 with 1 Axes>"
      ]
     },
     "metadata": {},
     "output_type": "display_data"
    }
   ],
   "source": [
    "import matplotlib.pyplot as plt\n",
    "from matplotlib.ticker import FuncFormatter\n",
    "import os\n",
    "\n",
    "# Extract syllable counts and frequencies from sorted_frequency\n",
    "syllable_counts_SPC = [item[0] for item in sorted_SPC_counts[:10]]\n",
    "frequencies_SPC = [item[1] for item in sorted_SPC_counts[:10]]\n",
    "\n",
    "# Create a new figure and axes\n",
    "fig, ax = plt.subplots(figsize=(10, 6))\n",
    "\n",
    "# Plot the distribution\n",
    "ax.bar(syllable_counts_SPC, frequencies_SPC, color='skyblue')\n",
    "ax.set_xlabel('Broj n-složnih slogova (broj fonema po slogu)')\n",
    "ax.set_ylabel('Čestotnost n-složnog sloga (broj slogova koji imaju n fonema)')\n",
    "ax.set_xticks(range(min(syllable_counts_SPC), max(syllable_counts_SPC) + 1))  # Set x-axis ticks\n",
    "ax.set_title('Distribucija n-složnih slogova u korpusu ParlaSpeechHR.v1')\n",
    "ax.grid(True)\n",
    "\n",
    "# Format y-axis labels to display in millions\n",
    "def millions_formatter(x, pos):\n",
    "    return f'{x / 1e6:.0f}M'\n",
    "\n",
    "formatter = FuncFormatter(millions_formatter)\n",
    "ax.yaxis.set_major_formatter(formatter)\n",
    "\n",
    "# Add data point annotations vertically just above the x-axis\n",
    "annotation_height = plt.gca().get_ylim()[0]  # Get the bottom of the y-axis range\n",
    "for count, freq in zip(syllable_counts_SPC, frequencies_SPC):\n",
    "    plt.text(count, annotation_height+1000000, f'{freq:,}', ha='center', va='bottom', rotation='vertical', fontsize=10)\n",
    "\n",
    "plt.show()\n"
   ]
  },
  {
   "cell_type": "code",
   "execution_count": 51,
   "id": "9dde3bd0-4905-42d9-bb7f-b323f11eb89d",
   "metadata": {},
   "outputs": [
    {
     "name": "stdout",
     "output_type": "stream",
     "text": [
      "Plot saved as frekvencija_veličine_slogova_ParlaSpeechHR_1.png\n"
     ]
    }
   ],
   "source": [
    "# SAVE PLOT\n",
    "# Define the base filename\n",
    "filename_plot_SPC = \"frekvencija_veličine_slogova_ParlaSpeechHR.png\"\n",
    "\n",
    "# Check if the file already exists\n",
    "if os.path.exists(filename_plot_SPC):\n",
    "    # Increment the number until we find a unique filename\n",
    "    index = 1\n",
    "    while True:\n",
    "        new_filename_SPC = f\"frekvencija_veličine_slogova_ParlaSpeechHR_{index}.png\"\n",
    "        if not os.path.exists(new_filename_SPC):\n",
    "            break\n",
    "        index += 1\n",
    "    filename_plot_SPC = new_filename_SPC\n",
    "\n",
    "# Save the plot as PNG\n",
    "fig.savefig(filename_plot_SPC)\n",
    "print(f\"Plot saved as {filename_plot_SPC}\")"
   ]
  },
  {
   "cell_type": "code",
   "execution_count": null,
   "id": "25e66d57-5760-4b16-8f2c-731e176fbd9b",
   "metadata": {},
   "outputs": [],
   "source": []
  },
  {
   "cell_type": "code",
   "execution_count": 5,
   "id": "80bb4cf1-f932-4b63-b051-141de8981913",
   "metadata": {},
   "outputs": [
    {
     "name": "stdout",
     "output_type": "stream",
     "text": [
      "Syllable length frequency:\n",
      "1 characters: 3270564\n",
      "2 characters: 18773689\n",
      "3 characters: 7901801\n",
      "4 characters: 1518970\n",
      "5 characters: 195945\n",
      "6 characters: 14556\n",
      "7 characters: 42\n",
      "8 characters: 3\n",
      "9 characters: 2\n",
      "10 characters: 1\n",
      "12 characters: 1\n",
      "13 characters: 8\n"
     ]
    }
   ],
   "source": [
    "from collections import defaultdict\n",
    "\n",
    "def count_syllable_length_frequency(unique_syllables_sorted):\n",
    "    syllable_length_frequency = defaultdict(int)\n",
    "    for syllable, frequency in unique_syllables_sorted:\n",
    "        syllable_length = len(syllable)\n",
    "        syllable_length_frequency[syllable_length] += frequency\n",
    "    return syllable_length_frequency\n",
    "\n",
    "\n",
    "syllable_length_frequency = count_syllable_length_frequency(unique_syllables_sorted)\n",
    "\n",
    "# Print syllable length frequency\n",
    "print(\"Syllable length frequency:\")\n",
    "for syllable_length, frequency in sorted(syllable_length_frequency.items()):\n",
    "    print(f\"{syllable_length} characters: {frequency}\")\n"
   ]
  },
  {
   "cell_type": "code",
   "execution_count": null,
   "id": "df28d282-6f6b-4ef9-b581-abadfae53ee3",
   "metadata": {},
   "outputs": [],
   "source": []
  },
  {
   "cell_type": "code",
   "execution_count": 12,
   "id": "5c6ff5db-cf92-4b1c-956f-33ea7c167f8d",
   "metadata": {},
   "outputs": [
    {
     "name": "stdout",
     "output_type": "stream",
     "text": [
      "RNG GENERIRANJE REČENICA | max_syllables(6), n_sentences(10), n_words_per_sentence(4) \n",
      "\n",
      "sre i žu tu\n",
      "nan i de tvom\n",
      "dat se đe ja\n",
      "r i zeml i\n",
      "glo o u spuš\n",
      "ji a i du\n",
      "a da ne te\n",
      "e u kons a\n",
      "i i tno i\n",
      "a u funk že\n"
     ]
    }
   ],
   "source": [
    "import random\n",
    "from sklearn.metrics import r2_score\n",
    "\n",
    "# CLASS OBJECT NOW\n",
    "class RandomTextGenerator:\n",
    "    def __init__(self, sorted_frequency, unique_syllables_sorted, n_sentences=10, n_words_per_sentence=4):\n",
    "        self.sorted_frequency_probs = self.convert_to_probabilities(sorted_frequency)\n",
    "        self.unique_syllables_sorted_probs = self.convert_to_probabilities(unique_syllables_sorted)\n",
    "        self.max_syllables = max(syllable for syllable, _ in sorted_frequency)\n",
    "        self.n_sentences = n_sentences\n",
    "        self.n_words_per_sentence = n_words_per_sentence\n",
    "\n",
    "    @staticmethod\n",
    "    def convert_to_probabilities(sorted_frequency):\n",
    "        total_count = sum(count for _, count in sorted_frequency)\n",
    "        probabilities = [(syllable_length, count / total_count) for syllable_length, count in sorted_frequency]\n",
    "        return probabilities\n",
    "\n",
    "    def generate_random_word(self):\n",
    "        # Choose the number of syllables for the word based on the distribution\n",
    "        num_syllables = random.choices([syllable_length for syllable_length, _ in self.sorted_frequency_probs],\n",
    "                                       weights=[prob for _, prob in self.sorted_frequency_probs])[0]\n",
    "\n",
    "        # Choose syllables with the chosen number of characters based on their probabilities\n",
    "        syllables_with_length = [(syllable, frequency) for syllable, frequency in self.unique_syllables_sorted_probs if\n",
    "                                 len(syllable) == num_syllables]\n",
    "        syllable_probs = [frequency for _, frequency in syllables_with_length]\n",
    "        chosen_syllable = random.choices(syllables_with_length, weights=syllable_probs)[0][0]\n",
    "\n",
    "        return chosen_syllable\n",
    "\n",
    "    def generate_random_sentence(self):\n",
    "        # Generate random words to construct a sentence\n",
    "        sentence = ' '.join(self.generate_random_word() for _ in range(self.n_words_per_sentence))\n",
    "\n",
    "        return sentence\n",
    "\n",
    "    def generate_text(self):\n",
    "        # Generate multiple sentences to create a text\n",
    "        text = '\\n'.join(self.generate_random_sentence() for _ in range(self.n_sentences))\n",
    "\n",
    "        return text\n",
    "\n",
    "\n",
    "# Može automatski gledati koliko ima maksimalno slogova\n",
    "# max_syllables = max(syllable for syllable, _ in sorted_frequency)\n",
    "# print(f\"max_syllables: {max_syllables} \")\n",
    "max_syllables = 6\n",
    "\n",
    "n_sentences = 10\n",
    "n_words_per_sentence = 4\n",
    "\n",
    "print(f\"RNG GENERIRANJE REČENICA | max_syllables({max_syllables}), n_sentences({n_sentences}), n_words_per_sentence({n_words_per_sentence}) \\n\")\n",
    "\n",
    "\n",
    "text_generator = RandomTextGenerator(sorted_frequency, unique_syllables_sorted, n_sentences, n_words_per_sentence)\n",
    "generated_text = text_generator.generate_text()\n",
    "print(generated_text)\n"
   ]
  },
  {
   "cell_type": "code",
   "execution_count": 38,
   "id": "b168bfe4-dbfd-49a0-947f-aca4e355b948",
   "metadata": {
    "execution": {
     "iopub.execute_input": "2024-05-12T15:12:22.521245Z",
     "iopub.status.busy": "2024-05-12T15:12:22.521245Z",
     "iopub.status.idle": "2024-05-12T15:12:22.525600Z",
     "shell.execute_reply": "2024-05-12T15:12:22.525600Z",
     "shell.execute_reply.started": "2024-05-12T15:12:22.521245Z"
    }
   },
   "outputs": [
    {
     "name": "stdout",
     "output_type": "stream",
     "text": [
      "{'a': 8473320, 'o': 7134726, 'i': 7050533, 'e': 6080196, 'n': 4218185, 't': 3651668, 'r': 3511665, 's': 3255595, 'd': 2831100, 'u': 2828080, 'v': 2702877, 'j': 2634376, 'm': 2543126, 'k': 2461565, 'p': 2027631, 'l': 1885640, 'z': 1281364, 'g': 1117595, 'b': 952252, 'š': 681802, 'č': 565108, 'h': 519356, 'c': 512317, 'ć': 477359, 'nj': 430563, 'ž': 406766, 'lj': 354311, 'đ': 163320, 'f': 122684, 'dž': 3397}\n"
     ]
    }
   ],
   "source": [
    "def load_phoneme_frequencies(file_path):\n",
    "    phoneme_frequencies = {}\n",
    "    with open(file_path, 'r', encoding='utf-8') as file:\n",
    "        for line in file:\n",
    "            phoneme, frequency, probability = line.strip().split('\\t')\n",
    "            phoneme_frequencies[phoneme] = int(frequency)\n",
    "    return phoneme_frequencies\n",
    "\n",
    "# Example usage:\n",
    "phon_freq_file_path = 'frek_fonema_v3.0.txt' \n",
    "phoneme_frequencies = load_phoneme_frequencies(phon_freq_file_path)\n",
    "print(phoneme_frequencies)\n"
   ]
  },
  {
   "cell_type": "code",
   "execution_count": 40,
   "id": "50f7c2ff-f470-44c5-b673-fb6b3c9b7e44",
   "metadata": {},
   "outputs": [],
   "source": [
    "# Frekvencija po broju fonema u slogu (1-fonski slog, 2-fonski slog, etc.) virtualno svi do 9 fonema max\n",
    "custom_length_probs = [0.3, 0.3, 0.2, 0.1, 0.1]"
   ]
  },
  {
   "cell_type": "code",
   "execution_count": 72,
   "id": "d4d7e29d-6fb1-416d-bf46-5c69872991f9",
   "metadata": {},
   "outputs": [
    {
     "name": "stdout",
     "output_type": "stream",
     "text": [
      "RNG GENERIRANJE REČENICA | max_syllables(6), n_sentences(50), n_words_per_sentence(6) \n",
      "\n",
      "R-squared value: 0.94104\n",
      "\n",
      "r o ne u stren a\n",
      "vo ves u cir ko gmen\n",
      "a lir a stru a go\n",
      "o r pos žnje je po\n",
      "o o i ka ko njoj\n",
      "da tual pla vim sreds a\n",
      "smo šlja vi e jer i\n",
      "s u r mo o a\n",
      "o te a je i e\n",
      "tvo i a dr a da\n",
      "ma tnos i se i nak\n",
      "tri ić i lju cijs sveu\n",
      "u gu tlje e ni čet\n",
      "u čni u vil zas vnom\n",
      "če g cins ja dno pos\n",
      "vač no fi i u zna\n",
      "o nar u ti o u\n",
      "raz i je greš a o\n",
      "a u te u ta tra\n",
      "stvar ko u šljan za o\n",
      "se mo pros e loš sa\n",
      "o plje o gla i ne\n",
      "a e i a ži r\n",
      "tual to skr i tre o\n",
      "dvo o u s o ža\n",
      "tnim mu ta člans go tar\n",
      "li mjer na i i ja\n",
      "e tno gos naj o tel\n",
      "vats či o že a i\n",
      "ra mor ku o vlast a\n",
      "a i đer do e će\n",
      "hr i stvar slo tje o\n",
      "o mi te je i hdza\n",
      "kva lim o pre i o\n",
      "čom i se i gra mjes\n",
      "a o ces i ka ma\n",
      "tvors ti vor se sne i\n",
      "zas o a u pi ta\n",
      "bren o a da o tre\n",
      "zdravs je uop na bor i\n",
      "đe gois šta za o su\n",
      "što po a i li a\n",
      "hval ni r nom ti o\n",
      "no van i u udž bjek\n",
      "o ma krats ci funk vi\n",
      "li na ni a du vost\n",
      "vljen u do i od o\n",
      "na no la tra kra pre\n",
      "u hssa o nih u đe\n",
      "sle na va čni zbro u\n"
     ]
    }
   ],
   "source": [
    "import random\n",
    "from scipy.stats import linregress\n",
    "\n",
    "class TextGenerator:\n",
    "    def __init__(self, sorted_frequency_probs, unique_syllables_sorted, max_syllables):\n",
    "        self.sorted_frequency_probs = sorted_frequency_probs\n",
    "        self.unique_syllables_sorted = unique_syllables_sorted\n",
    "        self.max_syllables = max_syllables\n",
    "\n",
    "    def generate_random_word(self, custom_length_probs=None, custom_syllable_probs=None):\n",
    "\n",
    "        # CUSTOM FREQUENCY OF CHARS IN SYLLABLES custom_length_probs\n",
    "        if custom_length_probs:\n",
    "            num_syllables = random.choices(range(1, self.max_syllables + 1), weights=custom_length_probs)[0]\n",
    "        else:\n",
    "            num_syllables = random.choices([syllable_length for syllable_length, _ in self.sorted_frequency_probs],\n",
    "                                           weights=[prob for _, prob in self.sorted_frequency_probs])[0]\n",
    "            #print([prob for _, prob in self.sorted_frequency_probs])\n",
    "            #print(num_syllables)\n",
    "        \n",
    "        \n",
    "        # CUSTOM FREQUENCY OF UNIQUE SYLLABLES custom_syllable_probs\n",
    "        if custom_syllable_probs:\n",
    "            syllable_probs = custom_syllable_probs\n",
    "        else:            \n",
    "            syllable_probs = [prob for syllable, prob in self.unique_syllables_sorted if len(syllable) == num_syllables]\n",
    "            #print(syllable_probs)\n",
    "\n",
    "        # Choose syllables for the word based on their frequencies\n",
    "        syllables_with_length = [syllable for syllable, _ in self.unique_syllables_sorted if len(syllable) == num_syllables]\n",
    "        #print(syllables_with_length)\n",
    "\n",
    "        # Choose a word syllable based on their frequencies\n",
    "        word_syllables = random.choices(syllables_with_length, weights=syllable_probs)[0]\n",
    "        #word_syllables = random.choices(syllables_with_length)[0] #podjednaka distribucija daje mnogo manji R2 (oko 0.6)\n",
    "\n",
    "        return word_syllables\n",
    "\n",
    "    def generate_random_sentence(self, n_words):\n",
    "        # Generate random words to construct a sentence\n",
    "        sentence = ' '.join(self.generate_random_word() for _ in range(n_words))\n",
    "        return sentence\n",
    "\n",
    "    def generate_text(self, n_sentences, n_words_per_sentence):\n",
    "        # Generate multiple sentences to create a text\n",
    "        text = '\\n'.join(self.generate_random_sentence(n_words_per_sentence) for _ in range(n_sentences))\n",
    "        return text\n",
    "\n",
    "    def calculate_r_squared(self, target_frequencies, generated_text):\n",
    "        # Count phoneme frequencies in the generated text\n",
    "        generated_frequencies = {}\n",
    "        for phoneme in target_frequencies:\n",
    "            generated_frequencies[phoneme] = generated_text.count(phoneme)\n",
    "\n",
    "        # Calculate R-squared value\n",
    "        x = [target_frequencies[phoneme] for phoneme in target_frequencies]\n",
    "        y = [generated_frequencies.get(phoneme, 0) for phoneme in target_frequencies]\n",
    "        slope, intercept, r_value, p_value, std_err = linregress(x, y)\n",
    "        r_squared = r_value ** 2\n",
    "        return r_squared\n",
    "\n",
    "max_syllables = 6\n",
    "n_sentences = 50\n",
    "n_words_per_sentence = 6\n",
    "\n",
    "# koliko fonema po slogu, vjerojatnosti\n",
    "custom_length_probs = [0.3, 0.4, 0.2, 0.1]\n",
    "\n",
    "print(f\"RNG GENERIRANJE REČENICA | max_syllables({max_syllables}), n_sentences({n_sentences}), n_words_per_sentence({n_words_per_sentence}) \\n\")\n",
    "\n",
    "\n",
    "# Example usage:\n",
    "text_generator = TextGenerator(sorted_frequency, unique_syllables_sorted, max_syllables)\n",
    "generated_text = text_generator.generate_text(n_sentences, n_words_per_sentence)\n",
    "r_squared = text_generator.calculate_r_squared(phoneme_frequencies, generated_text)\n",
    "print(f\"R-squared value: {r_squared:.5f}\\n\")\n",
    "print(generated_text)\n"
   ]
  },
  {
   "cell_type": "code",
   "execution_count": null,
   "id": "74bd7569-69b9-4a7f-97eb-21b6734019b6",
   "metadata": {},
   "outputs": [],
   "source": []
  },
  {
   "cell_type": "code",
   "execution_count": 74,
   "id": "b07ae513-d4a4-48f9-9737-5f05429b6f71",
   "metadata": {},
   "outputs": [
    {
     "name": "stdout",
     "output_type": "stream",
     "text": [
      "RNG frekvencije:\n",
      "{'a': 79, 'o': 73, 'i': 58, 'e': 52, 'n': 38, 't': 37, 'r': 41, 's': 42, 'd': 14, 'u': 32, 'v': 24, 'j': 23, 'm': 18, 'k': 13, 'p': 11, 'l': 24, 'z': 9, 'g': 10, 'b': 4, 'š': 6, 'č': 8, 'h': 5, 'c': 5, 'ć': 2, 'nj': 0, 'ž': 5, 'lj': 0, 'đ': 3, 'f': 2, 'dž': 0}\n",
      "\n",
      "Korpus frekvencije:\n",
      "{'a': 8473320, 'o': 7134726, 'i': 7050533, 'e': 6080196, 'n': 4218185, 't': 3651668, 'r': 3511665, 's': 3255595, 'd': 2831100, 'u': 2828080, 'v': 2702877, 'j': 2634376, 'm': 2543126, 'k': 2461565, 'p': 2027631, 'l': 1885640, 'z': 1281364, 'g': 1117595, 'b': 952252, 'š': 681802, 'č': 565108, 'h': 519356, 'c': 512317, 'ć': 477359, 'nj': 430563, 'ž': 406766, 'lj': 354311, 'đ': 163320, 'f': 122684, 'dž': 3397}\n",
      "\n",
      "RNG vjerojatnosti:\n",
      "{'a': 0.11499272197962154, 'o': 0.10625909752547306, 'i': 0.08442503639010189, 'e': 0.07569141193595343, 'n': 0.055312954876273655, 't': 0.053857350800582245, 'r': 0.05967976710334789, 's': 0.0611353711790393, 'd': 0.020378457059679767, 'u': 0.046579330422125184, 'v': 0.034934497816593885, 'j': 0.033478893740902474, 'm': 0.026200873362445413, 'k': 0.018922852983988356, 'p': 0.01601164483260553, 'l': 0.034934497816593885, 'z': 0.013100436681222707, 'g': 0.01455604075691412, 'b': 0.005822416302765648, 'š': 0.008733624454148471, 'č': 0.011644832605531296, 'h': 0.00727802037845706, 'c': 0.00727802037845706, 'ć': 0.002911208151382824, 'nj': 0, 'ž': 0.00727802037845706, 'lj': 0, 'đ': 0.004366812227074236, 'f': 0.002911208151382824, 'dž': 0}\n",
      "\n",
      "Korpus vjerojatnosti:\n",
      "{'a': 0.11954715110484104, 'o': 0.10066138977562963, 'i': 0.0994735397601729, 'e': 0.0857833895048281, 'n': 0.05951291814580045, 't': 0.05152012507266487, 'r': 0.049544871005058416, 's': 0.04593206764304487, 'd': 0.03994301401256125, 'u': 0.039900405873563, 'v': 0.038133959904358555, 'j': 0.03716750290782913, 'm': 0.03588008811193841, 'k': 0.03472937207722451, 'p': 0.028607146849388424, 'l': 0.02660384477505068, 'z': 0.01807832298653934, 'g': 0.015767762617134112, 'b': 0.013434995224290725, 'š': 0.009619309399100096, 'č': 0.007972913977821504, 'h': 0.007327414780653371, 'c': 0.0072281039560147435, 'ć': 0.006734893584127097, 'nj': 0.006074664950828444, 'ž': 0.005738921280715442, 'lj': 0.004998851767088619, 'đ': 0.0023042255831766814, 'f': 0.001730906266510213, 'dž': 4.7927102045378316e-05}\n"
     ]
    }
   ],
   "source": [
    "from collections import Counter\n",
    "\n",
    "def count_character_frequencies(generated_text):\n",
    "    # Count character frequencies in the generated text excluding spaces\n",
    "    character_frequencies = Counter(char for char in generated_text if char != ' ')\n",
    "    return character_frequencies\n",
    "\n",
    "def create_rng_phoneme_frequencies(character_frequencies, phoneme_frequencies):\n",
    "    # Map characters to phonemes based on similarity or some predefined mapping\n",
    "    # For simplicity, let's assume characters map directly to themselves\n",
    "    rng_phoneme_frequencies = {char: character_frequencies.get(char, 0) for char in phoneme_frequencies}\n",
    "    return rng_phoneme_frequencies\n",
    "\n",
    "def normalize_frequencies(frequencies, reference_order):\n",
    "    total_count = sum(frequencies.values())\n",
    "    probabilities = {char: freq / total_count for char, freq in frequencies.items()}\n",
    "    sorted_probabilities = {char: probabilities[char] if char in probabilities else 0 for char in reference_order}\n",
    "    return sorted_probabilities\n",
    "\n",
    "\n",
    "character_frequencies = count_character_frequencies(generated_text)\n",
    "rng_phoneme_frequencies = create_rng_phoneme_frequencies(character_frequencies, phoneme_frequencies)\n",
    "\n",
    "print(f\"RNG frekvencije:\\n{rng_phoneme_frequencies}\\n\")\n",
    "print(f\"Korpus frekvencije:\\n{phoneme_frequencies}\\n\")\n",
    "\n",
    "\n",
    "reference_order = sorted(phoneme_frequencies.keys(), key=lambda x: phoneme_frequencies[x], reverse=True)\n",
    "\n",
    "\n",
    "normalized_character_probabilities = normalize_frequencies(character_frequencies, reference_order)\n",
    "normalized_phoneme_probabilities = normalize_frequencies(phoneme_frequencies, reference_order)\n",
    "\n",
    "print(f\"RNG vjerojatnosti:\\n{normalized_character_probabilities}\\n\")\n",
    "print(f\"Korpus vjerojatnosti:\\n{normalized_phoneme_probabilities}\")\n"
   ]
  },
  {
   "cell_type": "code",
   "execution_count": 75,
   "id": "dcd13787-70f5-4c5e-a113-7cfb7a9d508a",
   "metadata": {},
   "outputs": [
    {
     "name": "stdout",
     "output_type": "stream",
     "text": [
      "Plot saved as RNG_materijal_fonetski_balans_3.png\n"
     ]
    },
    {
     "data": {
      "image/png": "[encoded data removed]",
      "text/plain": [
       "<Figure size 1200x600 with 1 Axes>"
      ]
     },
     "metadata": {},
     "output_type": "display_data"
    }
   ],
   "source": [
    "import matplotlib.pyplot as plt\n",
    "import os\n",
    "\n",
    "plt.figure(figsize=(12, 6))\n",
    "\n",
    "# Plotting character probabilities\n",
    "plt.plot(range(1, len(normalized_character_probabilities) + 1), normalized_character_probabilities.values(), color='blue', marker='o', label='Character Probabilities', linestyle='-')\n",
    "\n",
    "# Plotting phoneme probabilities\n",
    "plt.plot(range(1, len(normalized_phoneme_probabilities) + 1), normalized_phoneme_probabilities.values(), color='red', marker='o', label='Phoneme Probabilities', linestyle='-')\n",
    "\n",
    "plt.xlabel('Ranking')\n",
    "plt.ylabel('Probability')\n",
    "plt.title('Normalized Probabilities of Characters and Phonemes')\n",
    "plt.legend()\n",
    "plt.xticks(range(1, len(normalized_character_probabilities) + 1))  # X-axis ticks as rankings\n",
    "plt.tight_layout()  # Adjust layout to prevent clipping of labels\n",
    "\n",
    "# Annotate each data point with its character, slightly above the point\n",
    "offset = 0.003  # Adjust this value for vertical offset\n",
    "font_size = 8  # Adjust this value for font size\n",
    "for rank, char in enumerate(normalized_phoneme_probabilities.keys(), start=1):\n",
    "    plt.text(rank, normalized_phoneme_probabilities[char] + offset, char, ha='center', va='bottom', fontsize=8, fontweight='bold')  # Adjust vertical position and font size\n",
    "\n",
    "plt.text(1, 0.01, f'R² = {r_squared:.5f}', fontsize=18, ha='left')\n",
    "\n",
    "# SAVE PLOT\n",
    "# Define the base filename\n",
    "filename_plot = \"RNG_materijal_fonetski_balans.png\"\n",
    "\n",
    "# Check if the file already exists\n",
    "if os.path.exists(filename_plot):\n",
    "    # Increment the number until we find a unique filename\n",
    "    index = 1\n",
    "    while True:\n",
    "        new_filename = f\"RNG_materijal_fonetski_balans_{index}.png\"\n",
    "        if not os.path.exists(new_filename):\n",
    "            break\n",
    "        index += 1\n",
    "    filename_plot = new_filename\n",
    "\n",
    "# Save the plot as PNG\n",
    "plt.savefig(filename_plot)\n",
    "print(f\"Plot saved as {filename_plot}\")\n"
   ]
  },
  {
   "cell_type": "code",
   "execution_count": null,
   "id": "8c0d2349-0f88-4c73-bd15-3cf873f9d8d6",
   "metadata": {},
   "outputs": [],
   "source": []
  },
  {
   "cell_type": "code",
   "execution_count": null,
   "id": "38f9ad91-198f-46be-ba67-3b642a3e1f28",
   "metadata": {},
   "outputs": [],
   "source": []
  },
  {
   "cell_type": "code",
   "execution_count": null,
   "id": "63ca52e8-fab3-460d-8e9c-128269917eca",
   "metadata": {},
   "outputs": [],
   "source": []
  },
  {
   "cell_type": "code",
   "execution_count": null,
   "id": "eb545bdf-f256-4780-9cfb-47bee501daab",
   "metadata": {},
   "outputs": [],
   "source": []
  },
  {
   "cell_type": "code",
   "execution_count": null,
   "id": "58560b97-83a1-48ab-bc7b-89c0700e0dfd",
   "metadata": {},
   "outputs": [],
   "source": []
  },
  {
   "cell_type": "code",
   "execution_count": 66,
   "id": "d361e9c6-7899-489b-b09d-ee82954f2a97",
   "metadata": {},
   "outputs": [
    {
     "data": {
      "image/png": "[encoded data removed]",
      "text/plain": [
       "<Figure size 1200x600 with 1 Axes>"
      ]
     },
     "metadata": {},
     "output_type": "display_data"
    }
   ],
   "source": [
    "import matplotlib.pyplot as plt\n",
    "\n",
    "plt.figure(figsize=(12, 6))\n",
    "\n",
    "# Plotting character probabilities\n",
    "plt.plot(range(1, len(normalized_character_probabilities) + 1), normalized_character_probabilities.values(), color='blue', marker='o', label='Character Probabilities', linestyle='-')\n",
    "\n",
    "# Plotting phoneme probabilities\n",
    "plt.plot(range(1, len(normalized_phoneme_probabilities) + 1), normalized_phoneme_probabilities.values(), color='red', marker='o', label='Phoneme Probabilities', linestyle='-')\n",
    "\n",
    "plt.xlabel('Ranking')\n",
    "plt.ylabel('Probability')\n",
    "plt.title('Normalized Probabilities of Characters and Phonemes')\n",
    "plt.legend()\n",
    "plt.xticks(range(1, len(normalized_character_probabilities) + 1))  # X-axis ticks as rankings\n",
    "plt.tight_layout()  # Adjust layout to prevent clipping of labels\n",
    "\n",
    "plt.text(1, 0.01, f'R² = {r_squared:.5f}', fontsize=18, ha='left')\n",
    "\n",
    "# Annotate each data point with its character, slightly above the point\n",
    "# for rank, char in enumerate(normalized_phoneme_probabilities.keys(), start=1):\n",
    "#     plt.text(rank, normalized_phoneme_probabilities[char], char, ha='center', va='bottom', fontsize=8)  # Adjust font size\n",
    "\n",
    "# Adjust vertical position and font size\n",
    "offset = 0.003  # Adjust this value for vertical offset\n",
    "font_size = 8  # Adjust this value for font size\n",
    "for rank, char in enumerate(normalized_phoneme_probabilities.keys(), start=1):\n",
    "    plt.text(rank, normalized_phoneme_probabilities[char] + offset, char, ha='center', va='bottom', fontsize=8, fontweight='bold')  # Adjust vertical position and font size\n",
    "\n",
    "plt.show()\n"
   ]
  },
  {
   "cell_type": "code",
   "execution_count": null,
   "id": "800e2421-375c-447a-992a-442331335d4f",
   "metadata": {},
   "outputs": [],
   "source": [
    "#Kategorije glasnika u općem hrvatskom (Škarić Fonetika, str.71)\n",
    "\n",
    "samoglasnik = [\n",
    "    \"ieaour\"\n",
    "]\n",
    "polusamoglasnik = [\n",
    "    \"v\"\n",
    "]\n",
    "zvonki = [\n",
    "    \"jrl\"\n",
    "]\n",
    "zvonki_prigušeni = [\n",
    "    \"vmn\"\n",
    "]\n",
    "strujni = [\n",
    "    \"fszšž\"\n",
    "]\n",
    "poluprekidni = [\n",
    "    \"cč\"\n",
    "]\n",
    "poluzatvorni = [\n",
    "    \"ćđ\"\n",
    "]\n",
    "zatvorni = [\n",
    "    \"pbtdkg\"\n",
    "]"
   ]
  },
  {
   "cell_type": "code",
   "execution_count": null,
   "id": "1528d594-4a9e-48b1-97d9-b8308840df81",
   "metadata": {},
   "outputs": [],
   "source": [
    "#Artikulacija sloga (Škarić Fonetika, str.88, slika 40.)\n",
    "samoglasnik = [\n",
    "    \"ieaour\"\n",
    "]\n",
    "polusamoglasnik = [\n",
    "    \"v\"\n",
    "]\n",
    "zvonki = [\n",
    "    \"jl\"\n",
    "]\n",
    "zvonki_prigušeni = [\n",
    "    \"vmn\"\n",
    "]\n",
    "zvučni_konsonanti =[\n",
    "    \"fzžđbdg\"\n",
    "]\n",
    "bezvučni_konsonanti = [\n",
    "    \"sšhcčćptk\"\n"
   ]
  },
  {
   "cell_type": "code",
   "execution_count": null,
   "id": "0fbf45dc-ae36-46af-afc7-cc010ba1dd13",
   "metadata": {},
   "outputs": [],
   "source": []
  },
  {
   "cell_type": "code",
   "execution_count": null,
   "id": "97deffaa-c392-428c-9587-1a6d2413d7bb",
   "metadata": {},
   "outputs": [],
   "source": []
  },
  {
   "cell_type": "code",
   "execution_count": null,
   "id": "5bda28e8-0b26-4be0-8fee-401e089b59de",
   "metadata": {},
   "outputs": [],
   "source": []
  },
  {
   "cell_type": "code",
   "execution_count": null,
   "id": "f442419b-b5b5-4126-a05a-f8e56f908f80",
   "metadata": {},
   "outputs": [],
   "source": []
  },
  {
   "cell_type": "code",
   "execution_count": null,
   "id": "d6c15715-acc8-4c37-9e61-8fbf58d04e40",
   "metadata": {},
   "outputs": [],
   "source": []
  },
  {
   "cell_type": "code",
   "execution_count": null,
   "id": "342c8d0c-bbdd-404d-8546-195d253aed8a",
   "metadata": {},
   "outputs": [],
   "source": []
  },
  {
   "cell_type": "code",
   "execution_count": null,
   "id": "add13079-8d0c-43bd-9ccb-ee5f0585ee18",
   "metadata": {},
   "outputs": [],
   "source": []
  }
 ],
 "metadata": {
  "kernelspec": {
   "display_name": "PyPhon",
   "language": "python",
   "name": "pyphon"
  },
  "language_info": {
   "codemirror_mode": {
    "name": "ipython",
    "version": 3
   },
   "file_extension": ".py",
   "mimetype": "text/x-python",
   "name": "python",
   "nbconvert_exporter": "python",
   "pygments_lexer": "ipython3",
   "version": "3.11.8"
  }
 },
 "nbformat": 4,
 "nbformat_minor": 5
}
