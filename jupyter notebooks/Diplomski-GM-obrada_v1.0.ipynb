{
 "cells": [
  {
   "cell_type": "code",
   "execution_count": null,
   "id": "ad36b1a3-b429-428c-8ae4-dd3347502d31",
   "metadata": {},
   "outputs": [],
   "source": []
  },
  {
   "cell_type": "code",
   "execution_count": 4,
   "id": "ab719b32-0706-4f3f-bc6e-b9206c494ec6",
   "metadata": {
    "execution": {
     "iopub.execute_input": "2024-05-24T13:39:31.478311Z",
     "iopub.status.busy": "2024-05-24T13:39:31.478311Z",
     "iopub.status.idle": "2024-05-24T13:39:31.586459Z",
     "shell.execute_reply": "2024-05-24T13:39:31.586459Z",
     "shell.execute_reply.started": "2024-05-24T13:39:31.478311Z"
    }
   },
   "outputs": [
    {
     "name": "stdout",
     "output_type": "stream",
     "text": [
      "All original files identified.\n",
      "All files joined successfully.\n"
     ]
    }
   ],
   "source": [
    "import os\n",
    "from pydub import AudioSegment\n",
    "\n",
    "# Define the directory containing the WAV files\n",
    "input_directory = r\"C:\\Users\\Mr Cab Driver\\Documents\\A FAKS FFZG\\Diplomski\\Fonetika\\DIPLOMSKI RAD\\Govorni materijal\\Audio snimke govornika GM\\Obrađeno 2 Audacity i Python\\Normalized 23LUFS - Audacity\"\n",
    "output_directory = r\"C:\\Users\\Mr Cab Driver\\Documents\\A FAKS FFZG\\Diplomski\\Fonetika\\DIPLOMSKI RAD\\Govorni materijal\\Audio snimke govornika GM\\Obrađeno 2 Audacity i Python\"\n",
    "\n",
    "# Ensure the output directory exists\n",
    "os.makedirs(output_directory, exist_ok=True)\n",
    "\n",
    "# List to hold paths of original WAV files\n",
    "original_files = []\n",
    "\n",
    "# Loop through each file in the input directory\n",
    "for filename in os.listdir(input_directory):\n",
    "    if filename.endswith(\".wav\"):\n",
    "        # Construct the full file path\n",
    "        file_path = os.path.join(input_directory, filename)\n",
    "        original_files.append(file_path)\n",
    "\n",
    "# Sort the list of original files based on their numeric value\n",
    "original_files.sort(key=lambda x: int(os.path.splitext(os.path.basename(x))[0]))\n",
    "\n",
    "print(\"All original files identified.\")\n",
    "\n",
    "# Check if the number of original files is a multiple of 21\n",
    "if len(original_files) % 21 != 0:\n",
    "    raise ValueError(\"Number of original files is not a multiple of 21.\")\n",
    "\n",
    "# Join every 21 original WAV files into a single WAV file\n",
    "for i in range(0, len(original_files), 21):\n",
    "    # Extract the 21 files for joining\n",
    "    files_to_join = original_files[i:i+21]\n",
    "    \n",
    "    # Load and concatenate the audio segments\n",
    "    joined_audio = sum([AudioSegment.from_wav(file) for file in files_to_join])\n",
    "    \n",
    "    # Construct the output file name\n",
    "    output_join_filename = f\"joined_{i+1}_to_{i+21}.wav\"\n",
    "    output_join_path = os.path.join(output_directory, output_join_filename)\n",
    "    \n",
    "    # Export the joined audio as a WAV file\n",
    "    joined_audio.export(output_join_path, format=\"wav\")\n",
    "\n",
    "print(\"All files joined successfully.\")"
   ]
  },
  {
   "cell_type": "code",
   "execution_count": null,
   "id": "9c6eb211-9975-4e43-9b78-80042f1c6c44",
   "metadata": {},
   "outputs": [],
   "source": []
  },
  {
   "cell_type": "code",
   "execution_count": null,
   "id": "58c98f92-fccc-4a58-97c7-99f42eb8c408",
   "metadata": {},
   "outputs": [],
   "source": []
  }
 ],
 "metadata": {
  "kernelspec": {
   "display_name": "PyPhon",
   "language": "python",
   "name": "pyphon"
  },
  "language_info": {
   "codemirror_mode": {
    "name": "ipython",
    "version": 3
   },
   "file_extension": ".py",
   "mimetype": "text/x-python",
   "name": "python",
   "nbconvert_exporter": "python",
   "pygments_lexer": "ipython3",
   "version": "3.11.8"
  }
 },
 "nbformat": 4,
 "nbformat_minor": 5
}
