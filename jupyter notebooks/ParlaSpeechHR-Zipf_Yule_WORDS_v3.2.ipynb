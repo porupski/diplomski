{
 "cells": [
  {
   "cell_type": "code",
   "execution_count": null,
   "id": "2c5fe771-e57a-4e3e-aff2-262cf19a6aef",
   "metadata": {},
   "outputs": [],
   "source": [
    "pip install gputil\n",
    "pip install torch"
   ]
  },
  {
   "cell_type": "code",
   "execution_count": 1,
   "id": "1acfce36-99ff-44e1-89cc-df06f22566c8",
   "metadata": {},
   "outputs": [
    {
     "name": "stdout",
     "output_type": "stream",
     "text": [
      "CUDA is not available on this system.\n",
      "GPU Name: GeForce GTX 760\n",
      "GPU ID: 0\n",
      "GPU Memory Total: 4096.0 MB\n",
      "GPU Memory Free: 3371.0 MB\n",
      "GPU Memory Used: 725.0 MB\n",
      "GPU Utilization: nan%\n",
      "GPU Temperature: 31.0 °C\n",
      "------------------------\n"
     ]
    }
   ],
   "source": [
    "import GPUtil\n",
    "import torch\n",
    "\n",
    "if torch.cuda.is_available():\n",
    "    device = torch.device(\"cuda\")          # Assigns CUDA device\n",
    "    cuda_capability = torch.cuda.get_device_capability(device)\n",
    "    cuda_cores = torch.cuda.get_device_properties(device).multi_processor_count\n",
    "    print(f\"CUDA Cores Available: {cuda_cores}\")\n",
    "    print(f\"CUDA Capability: {cuda_capability}\")\n",
    "else:\n",
    "    print(\"CUDA is not available on this system.\")\n",
    "\n",
    "# Get the list of available GPUs\n",
    "gpus = GPUtil.getGPUs()\n",
    "\n",
    "if gpus:\n",
    "    # Iterate through each GPU\n",
    "    for gpu in gpus:\n",
    "        print(f\"GPU Name: {gpu.name}\")\n",
    "        print(f\"GPU ID: {gpu.id}\")\n",
    "        print(f\"GPU Memory Total: {gpu.memoryTotal} MB\")\n",
    "        print(f\"GPU Memory Free: {gpu.memoryFree} MB\")\n",
    "        print(f\"GPU Memory Used: {gpu.memoryUsed} MB\")\n",
    "        print(f\"GPU Utilization: {gpu.load*100}%\")\n",
    "        print(f\"GPU Temperature: {gpu.temperature} °C\")\n",
    "        print(\"------------------------\")\n",
    "else:\n",
    "    print(\"No GPU found.\")\n"
   ]
  },
  {
   "cell_type": "markdown",
   "id": "613f829a-90de-4b72-ab5b-6db7ac9c0a4c",
   "metadata": {},
   "source": [
    "## Priprema ParlaSpeechHR .json filea za obradu:\n",
    "\n",
    "* DIPL.FON: frekvencija glasnika\n",
    "* JKIM: spomen mladih, studenata, djece\n",
    "* STAT: seminar neš idk"
   ]
  },
  {
   "cell_type": "code",
   "execution_count": null,
   "id": "6ac945fe-9a78-4577-a196-c63080df1a5b",
   "metadata": {},
   "outputs": [],
   "source": [
    "#pip install jsonlines"
   ]
  },
  {
   "cell_type": "code",
   "execution_count": 5,
   "id": "24ea25e5-7767-486a-b704-caa87bbf9f74",
   "metadata": {},
   "outputs": [],
   "source": [
    "import pandas as pd\n",
    "import string\n",
    "import pickle\n",
    "import jsonlines\n",
    "import unicodedata\n",
    "import codecs\n",
    "import numpy as np\n",
    "from scipy.optimize import curve_fit\n",
    "import matplotlib.pyplot as plt"
   ]
  },
  {
   "cell_type": "code",
   "execution_count": 6,
   "id": "26ac8a4e-12c6-4380-a91c-f717aaf9da0a",
   "metadata": {},
   "outputs": [],
   "source": [
    "# Mapping dictionary for specific character replacements\n",
    "unicode_mapping = {\n",
    "    '\\u0161': 'š',  # š\n",
    "    '\\u017e': 'ž',  # ž\n",
    "    '\\u010d': 'č',  # č\n",
    "    '\\u0111': 'đ',  # đ\n",
    "    '\\u0107': 'ć'   # ć\n",
    "}\n",
    "\n",
    "# Function to normalize words using the mapping dictionary\n",
    "def normalize_words(words_list):\n",
    "    normalized_words = []\n",
    "    for word in words_list:\n",
    "        normalized_word = ''.join(unicode_mapping.get(char, char) for char in word)\n",
    "        normalized_words.append(normalized_word)\n",
    "    return normalized_words"
   ]
  },
  {
   "cell_type": "code",
   "execution_count": 7,
   "id": "1e18ed6f-04e9-4d6e-8c3d-6a427c4e034a",
   "metadata": {},
   "outputs": [],
   "source": [
    "# Function to replace specific Unicode characters in words_list\n",
    "def replace_unicode_chars(words_list):\n",
    "    replacements = {\n",
    "        '\\u0161': 'š',  # š\n",
    "        '\\u017e': 'ž',  # ž\n",
    "        '\\u010d': 'č',  # č\n",
    "        '\\u0111': 'đ',  # đ\n",
    "        '\\u0107': 'ć'   # ć\n",
    "    }\n",
    "    return [\"\".join(replacements.get(char, char) for char in word) for word in words_list]"
   ]
  },
  {
   "cell_type": "markdown",
   "id": "2e49bddb-140b-4194-8cca-3f23660a7f55",
   "metadata": {},
   "source": [
    "# FREKVENCIJA RIJEČI // 22/12/2023"
   ]
  },
  {
   "cell_type": "code",
   "execution_count": null,
   "id": "037fd694-ac95-4a99-b821-e61c40fd5d15",
   "metadata": {},
   "outputs": [],
   "source": []
  },
  {
   "cell_type": "code",
   "execution_count": 14,
   "id": "f4601047-d952-4a16-9083-c6688dec9c47",
   "metadata": {},
   "outputs": [
    {
     "name": "stdout",
     "output_type": "stream",
     "text": [
      "Saved as .txt!\n",
      "\n",
      "lijepo. kolegice i kolege, nemojte se vi varda hihotat, prije 4.g. ste izdali birače, sad jedva čekam da vidim kako će vas nagradit. jedva čekam. hvala lijepo kolegice i kolega, kolege zastupnici, g. potpredsjedniče, hdz želi pokušati dati obećanje za 6 mjeseci da će neki građani dobiti 8 stotina kuna. i jedina svrha ovog zakona su je kampanja, odnosno izbori i predizborna kampanja. jer kako drugačije objasniti da niste dali kada ste imali rast 3%, a sada predlaže kao fol, g. aladrović i plenković se brinu za naše starije sugrađane i evo, kad ćemo imati pad od 10%, izdvojili su 800 kuna. ma dajte molim vas, to nitko ne vjeruje, to ne vjeruje niti, to ne vjeruju niti djeca koja su nažalost danas doma i gledaju, njih 98% školu na televiziji i bilo bi dobro da vlada rh je u stanju organizirati obrazovni sustav da djeca mogu stjecati znanje i obrazovati se. da pokažu da nas mogu vratiti u normalni period nego što jedino razmišljaju o kampanji, izborima i kako osigurati plenkoviću još jedan\n"
     ]
    }
   ],
   "source": [
    "# Concatenate sentences into a single block of text\n",
    "text_block = ' '.join(df_combined['sentence'])\n",
    "\n",
    "output_file_path = 'blok_teksta_jedan_ParlaSpeech-HR.v1.2.txt'\n",
    "\n",
    "# Open a text file in write mode and save the text block\n",
    "with open(output_file_path, 'w', encoding='utf-8') as file:\n",
    "    file.write(text_block)\n",
    "print(\"Saved as .txt!\\n\")\n",
    "\n",
    "# Display the first 1000 characters of the text_block\n",
    "print(text_block[:1000])"
   ]
  },
  {
   "cell_type": "markdown",
   "id": "032dee98-51f6-4538-b3f5-8658710686af",
   "metadata": {},
   "source": [
    "# Otvaranje .txt i frekvencija riječi // 10/1/2024"
   ]
  },
  {
   "cell_type": "code",
   "execution_count": 8,
   "id": "4ad7058e-7bc3-48de-8757-028997740eb5",
   "metadata": {},
   "outputs": [],
   "source": [
    "# OPENING TXT FILE\n",
    "# File path to the previously saved text file\n",
    "input_file_path = 'blok_teksta_jedan_ParlaSpeech-HR.v1.2.txt'\n",
    "\n",
    "# Open the text file in read mode and read its contents\n",
    "with open(input_file_path, 'r', encoding='utf-8') as file:\n",
    "    text_from_file = file.read()\n",
    "\n",
    "# Now 'text_from_file' contains the contents of the file\n",
    "# You can assign it to the 'text_block' variable if needed\n",
    "text_block = text_from_file\n"
   ]
  },
  {
   "cell_type": "code",
   "execution_count": 9,
   "id": "83c40e17-4c33-4d86-bd3d-7bad16ae5f8f",
   "metadata": {},
   "outputs": [
    {
     "name": "stdout",
     "output_type": "stream",
     "text": [
      "          Rank        Word  Frequency\n",
      "0            1           i     557188\n",
      "1            2          je     406846\n",
      "2            3          da     401518\n",
      "3            4           u     376921\n",
      "4            5          se     293499\n",
      "...        ...         ...        ...\n",
      "183166  183167  iskažnjava          1\n",
      "183167  183168   segmentić          1\n",
      "183168  183169        šemu          1\n",
      "183169  183170      svijež          1\n",
      "183170  183171        6206          1\n",
      "\n",
      "[183171 rows x 3 columns]\n"
     ]
    }
   ],
   "source": [
    "# Assuming text_block contains your concatenated text\n",
    "\n",
    "# Remove punctuation and convert the text to lowercase\n",
    "clean_text = text_block.translate(str.maketrans('', '', string.punctuation)).lower()\n",
    "\n",
    "# Split the text into words\n",
    "words = clean_text.split()\n",
    "\n",
    "# Count the frequency of each word\n",
    "word_freq = {}\n",
    "for word in words:\n",
    "    if word in word_freq:\n",
    "        word_freq[word] += 1\n",
    "    else:\n",
    "        word_freq[word] = 1\n",
    "\n",
    "# Sort the word frequencies by frequency in descending order\n",
    "sorted_word_freq = sorted(word_freq.items(), key=lambda x: x[1], reverse=True)\n",
    "\n",
    "# Create a DataFrame with 'Rank', 'Word', and 'Frequency' columns\n",
    "ranked_word_freq = [{'Rank': rank + 1, 'Word': word[0], 'Frequency': word[1]} for rank, word in enumerate(sorted_word_freq)]\n",
    "\n",
    "# Convert to DataFrame\n",
    "df = pd.DataFrame(ranked_word_freq)\n",
    "\n",
    "# Display the DataFrame\n",
    "print(df)\n"
   ]
  },
  {
   "cell_type": "code",
   "execution_count": 23,
   "id": "16a40243-3ae2-449c-83be-b416492e5dd4",
   "metadata": {},
   "outputs": [
    {
     "name": "stdout",
     "output_type": "stream",
     "text": [
      "Not printing top and bottom 100, but done\n"
     ]
    }
   ],
   "source": [
    "# Assuming 'df' is the DataFrame containing 'Rank', 'Word', and 'Frequency' columns\n",
    "\n",
    "# Get the top 100 words by frequency\n",
    "top_100 = df.head(100)\n",
    "\n",
    "# Get the bottom 100 words by frequency\n",
    "bottom_100 = df.tail(100)\n",
    "prnt = \"no print\"\n",
    "\n",
    "if prnt == \"yes\":\n",
    "    # Display the top 100 words and their frequencies\n",
    "    print(\"Top 100 Words\")\n",
    "    print(\"Rank   Word    Frequency\")\n",
    "    print(\"------------------------\")\n",
    "    for index, row in top_100.iterrows():\n",
    "        rank = row['Rank']\n",
    "        word = row['Word']\n",
    "        frequency = row['Frequency']\n",
    "        print(f\"{rank:<8}{word:<10}{frequency}\")\n",
    "    \n",
    "    # Display the bottom 100 words and their frequencies\n",
    "    print(\"\\nBottom 100 Words\")\n",
    "    print(\"Rank   Word    Frequency\")\n",
    "    print(\"------------------------\")\n",
    "    for index, row in bottom_100.iterrows():\n",
    "        rank = row['Rank']\n",
    "        word = row['Word']\n",
    "        frequency = row['Frequency']\n",
    "        print(f\"{rank:<8}{word:<30}{frequency}\")\n",
    "else:\n",
    "    print(\"Not printing top and bottom 100, but done\")\n"
   ]
  },
  {
   "cell_type": "code",
   "execution_count": 28,
   "id": "ea6c9960-799b-4242-9056-5a6926ee8986",
   "metadata": {},
   "outputs": [
    {
     "name": "stdout",
     "output_type": "stream",
     "text": [
      "Total number of unique words in corpus: 183171\n",
      "The sum of all words/frequencies is: 14418984\n"
     ]
    }
   ],
   "source": [
    "# Assuming ranked_word_freq contains the ranked word frequencies\n",
    "\n",
    "# Count the total number of entries in the dictionary\n",
    "total_entries = len(ranked_word_freq)\n",
    "\n",
    "# Display the total number of entries\n",
    "print(f'Total number of unique words in corpus: {total_entries}')\n",
    "# Assuming frequencies is a list containing frequency values\n",
    "\n",
    "frequencies = [freq for word, freq in sorted_word_freq]\n",
    "# Calculate the sum of all frequencies\n",
    "total_frequency_sum = sum(frequencies)\n",
    "\n",
    "# Display the total sum of frequencies\n",
    "print(f'The sum of all words/frequencies is: {total_frequency_sum}')\n",
    "#print(frequencies)\n"
   ]
  },
  {
   "cell_type": "code",
   "execution_count": 93,
   "id": "ad715084-9b20-406f-a326-8bd11593afd6",
   "metadata": {},
   "outputs": [
    {
     "name": "stdout",
     "output_type": "stream",
     "text": [
      "[0.03864267 0.028216   0.02784648 0.02614061 0.02035504 0.01432916\n",
      " 0.01321425 0.00933096 0.00921272 0.00913747]\n"
     ]
    }
   ],
   "source": [
    "import matplotlib.pyplot as plt\n",
    "\n",
    "# Assuming sorted_word_freq contains the sorted word frequencies\n",
    "\n",
    "# Create lists of ranks and frequencies for all entries\n",
    "ranks = list(range(1, len(sorted_word_freq) + 1))\n",
    "frequencies = [freq for word, freq in sorted_word_freq]\n",
    "\n",
    "# Create lists of ranks and frequencies for the first 100 points\n",
    "ranks100 = list(range(1, 101))\n",
    "frequencies100 = [freq for word, freq in sorted_word_freq[:100]]\n",
    "\n",
    "\n",
    "percentages = (frequencies / np.sum(frequencies))\n",
    "frequencies = percentages\n",
    "\n",
    "# # Create the plot for the first 1000 points\n",
    "# plt.figure(figsize=(10, 6))\n",
    "# plt.plot(ranks100, frequencies100, marker='o', linestyle='-')\n",
    "# plt.title('Word Frequency Rank vs Frequency (First 1000 Points)')\n",
    "# plt.xlabel('Word Frequency Rank')\n",
    "# plt.ylabel('Frequency')\n",
    "# plt.grid(True)\n",
    "# plt.show()\n",
    "\n",
    "print(frequencies[:10])\n"
   ]
  },
  {
   "cell_type": "code",
   "execution_count": 94,
   "id": "6f9fccff-8e96-41e0-9b4e-81fddce432f4",
   "metadata": {},
   "outputs": [],
   "source": [
    "# Slice the data to include only the first 100 ranks and fitted curve points\n",
    "ranks_100 = ranks[:100]\n",
    "frequencies_100 = frequencies[:100]\n",
    "\n",
    "# Slice the data to include only the first 1000 ranks and fitted curve points\n",
    "ranks_1000 = ranks[:1000]\n",
    "frequencies_1000 = frequencies[:1000]\n",
    "\n",
    "# ranks = ranks_100\n",
    "# frequencies = frequencies_100"
   ]
  },
  {
   "cell_type": "code",
   "execution_count": 95,
   "id": "aac92364-d096-4bb8-8940-0eee299d6abf",
   "metadata": {},
   "outputs": [
    {
     "name": "stdout",
     "output_type": "stream",
     "text": [
      "Fitted Parameters for Zipf Distribution:\n",
      " A = 0.047440656270569884, b = 0.786635640376905\n"
     ]
    }
   ],
   "source": [
    "# Define the Zipf distribution function\n",
    "def zipf_distribution(r, A, b):\n",
    "    return A / np.power(r, b)\n",
    "    \n",
    "# Perform curve fitting for Zipf distribution\n",
    "params_zipf, covariance_zipf = curve_fit(zipf_distribution, ranks, frequencies)\n",
    "\n",
    "# Extract fitted parameters for Zipf distribution\n",
    "A_zipf, b_zipf = params_zipf\n",
    "\n",
    "# Generate the fitted Zipf curve using the fitted parameters\n",
    "fitted_curve_zipf = zipf_distribution(ranks, A_zipf, b_zipf)\n",
    "\n",
    "print(f\"Fitted Parameters for Zipf Distribution:\\n A = {A_zipf}, b = {b_zipf}\")"
   ]
  },
  {
   "cell_type": "code",
   "execution_count": 96,
   "id": "d647cd0d-be85-4cd0-9a74-e6706b0c0b57",
   "metadata": {},
   "outputs": [
    {
     "name": "stdout",
     "output_type": "stream",
     "text": [
      "Fitted Parameters for Yule's distribution:\n",
      "A = 0.04406896334931315, b = -0.6505143109716336, c = 0.9940515763272164\n"
     ]
    }
   ],
   "source": [
    "# Define Yule's law function\n",
    "def yules_law(r, A, b, c):\n",
    "    return A * np.power(r, b) * np.power(c, r)\n",
    "\n",
    "# Perform curve fitting\n",
    "popt, pcov = curve_fit(yules_law, ranks, frequencies, maxfev=10000)\n",
    "\n",
    "# Extract fitted parameters\n",
    "A_fit, b_fit, c_fit = popt\n",
    "\n",
    "# Print the fitted parameters\n",
    "print(\"Fitted Parameters for Yule's distribution:\")\n",
    "print(f\"A = {A_fit}, b = {b_fit}, c = {c_fit}\")\n",
    "\n",
    "# Generate the fitted curve using the fitted parameters\n",
    "fitted_curve_yule = yules_law(ranks, A_fit, b_fit, c_fit)"
   ]
  },
  {
   "cell_type": "code",
   "execution_count": 129,
   "id": "f2e57879-e109-440a-9d5f-7be9102b5b6b",
   "metadata": {},
   "outputs": [
    {
     "name": "stdout",
     "output_type": "stream",
     "text": [
      "Fitted Parameter for Sigurd's distribution:\n",
      "k = 0.9887204573868258\n"
     ]
    }
   ],
   "source": [
    "# # Convert ranks list to NumPy array\n",
    "# ranks_array = np.array(ranks)\n",
    "\n",
    "# n = total_entries  # value of n\n",
    "# # Define Sigurd's law function\n",
    "# def sigurd_law(r, k):\n",
    "#     return ((1 - k) * np.power(k, (r - 1))) / (1 - np.power(k, n))\n",
    "\n",
    "# # Perform curve fitting for Sigurd's law with adjusted parameters\n",
    "# popt_sigurd, pcov_sigurd = curve_fit(sigurd_law, ranks_array, frequencies, p0=[0.5], maxfev=20000)\n",
    "\n",
    "\n",
    "# # Extract fitted parameter for Sigurd's law (k value)\n",
    "# k_fit = popt_sigurd[0]\n",
    "\n",
    "# # Print the fitted parameter for Sigurd's law\n",
    "# print(\"Fitted Parameter for Sigurd's distribution:\")\n",
    "# print(f\"k = {k_fit}\")\n",
    "\n",
    "# # Calculate alp_fit using the provided formula\n",
    "# alp_fit = (1 - k_fit) / (k_fit * (1 - np.power(k_fit, n)))\n",
    "\n",
    "# # Generate the fitted curve using the calculated alp_fit and k_fit for Sigurd's law\n",
    "# fitted_curve_sigurd = sigurd_law(ranks_array, k_fit)\n"
   ]
  },
  {
   "cell_type": "code",
   "execution_count": 142,
   "id": "0264e350-9b20-41e5-8230-b30a8302c79c",
   "metadata": {},
   "outputs": [
    {
     "name": "stdout",
     "output_type": "stream",
     "text": [
      "Fitted Parameters for Sigurd's distribution:\n",
      "a = 0.010882417037853575, b = 0, c = 0.9892347350646954\n"
     ]
    }
   ],
   "source": [
    "# Define Sigurd's law function\n",
    "def sigurd_law(r, k):\n",
    "    n = total_entries  # value of n\n",
    "    a = (1 - k) / (k * (1 - np.power(k, n)))\n",
    "    return a * np.power(k, r - 1)\n",
    "    \n",
    "# Perform curve fitting for Sigurd's law with adjusted parameters\n",
    "popt_sigurd, pcov_sigurd = curve_fit(sigurd_law, ranks_array, frequencies, p0=[0.5], maxfev=20000)\n",
    "\n",
    "# Extract fitted parameter for Sigurd's law (k value)\n",
    "k_fit = popt_sigurd[0]\n",
    "\n",
    "# Calculate the 'a' value based on the obtained 'k' value\n",
    "a_fit = (1 - k_fit) / (k_fit * (1 - np.power(k_fit, n)))\n",
    "b_fit = 0\n",
    "\n",
    "# Print the fitted parameters for Sigurd's law\n",
    "print(\"Fitted Parameters for Sigurd's distribution:\")\n",
    "print(f\"a = {a_fit}, b = {b_fit}, c = {k_fit}\")\n",
    "\n",
    "# Generate the fitted curve using the fitted parameters for Sigurd's law\n",
    "#fitted_curve_sigurd = sigurd_law(ranks_array, k_fit)\n",
    "fitted_curve_sigurd = yules_law(ranks_array, a_fit, b_fit, k_fit)"
   ]
  },
  {
   "cell_type": "code",
   "execution_count": 143,
   "id": "da6a1393-20f2-4701-a9c8-d83bbc60a2c6",
   "metadata": {},
   "outputs": [
    {
     "name": "stdout",
     "output_type": "stream",
     "text": [
      "[6.61577481e-05 6.23735946e-05 6.01600067e-05 ... 8.94147172e-11\n",
      " 5.96096488e-11 2.98047430e-11]\n",
      "lenght: 183171, n: 183171\n"
     ]
    }
   ],
   "source": [
    "# Define Borodovsky and Gusein-Zade (BGZ) law function\n",
    "def bgz_law(r, n):\n",
    "    return (1 / n) * (np.log(n + 1) - np.log(r))\n",
    "\n",
    "n = total_entries  # value of n\n",
    "\n",
    "# Assuming 'ranks' contains the rank values for which you want to calculate Fr\n",
    "bgz_values = bgz_law(ranks, n)\n",
    "print(bgz_values)\n",
    "print(f\"lenght: {len(bgz_values)}, n: {n}\")"
   ]
  },
  {
   "cell_type": "code",
   "execution_count": 144,
   "id": "f8b08a00-d22c-4325-ad98-2e6dcd6c4dde",
   "metadata": {},
   "outputs": [
    {
     "name": "stdout",
     "output_type": "stream",
     "text": [
      "R^2 for Yule's Law: 0.9550179202327509\n",
      "R^2 for Zipf's Law: 0.9351150130685576\n",
      "R^2 for Sigurd's Law: 0.40835938421583673\n",
      "R^2 for BGZ Law: 0.010255599761443301\n"
     ]
    }
   ],
   "source": [
    "# Calculate the mean of the actual data\n",
    "mean_actual = np.mean(frequencies)\n",
    "\n",
    "# Calculate total sum of squares (TSS)\n",
    "tss = np.sum((frequencies - mean_actual) ** 2)\n",
    "\n",
    "\n",
    "# Calculate residuals for Yule's law and Zipf's law\n",
    "residuals_yule = frequencies - fitted_curve_yule\n",
    "residuals_zipf = frequencies - fitted_curve_zipf\n",
    "residuals_sigurd = frequencies - fitted_curve_sigurd\n",
    "residuals_bgz = frequencies - bgz_values\n",
    "\n",
    "# Calculate residual sum of squares (RSS)\n",
    "rss_yule = np.sum(residuals_yule ** 2)\n",
    "rss_zipf = np.sum(residuals_zipf ** 2)\n",
    "rss_sigurd = np.sum(residuals_sigurd ** 2)\n",
    "rss_bgz = np.sum(residuals_bgz ** 2)\n",
    "\n",
    "# Calculate R^2 for Yule's law and Zipf's law\n",
    "r_squared_yule = 1 - (rss_yule / tss)\n",
    "r_squared_zipf = 1 - (rss_zipf / tss)\n",
    "r_squared_sigurd = 1 - (rss_sigurd / tss)\n",
    "r_squared_bgz = 1 - (rss_bgz / tss)\n",
    "\n",
    "print(f\"R^2 for Yule's Law: {r_squared_yule}\")\n",
    "print(f\"R^2 for Zipf's Law: {r_squared_zipf}\")\n",
    "print(f\"R^2 for Sigurd's Law: {r_squared_sigurd}\")\n",
    "print(f\"R^2 for BGZ Law: {r_squared_bgz}\")\n"
   ]
  },
  {
   "cell_type": "code",
   "execution_count": 148,
   "id": "ebd2dee0-29dd-4248-ad7b-cf04a2f87b7a",
   "metadata": {},
   "outputs": [
    {
     "data": {
      "image/png": "[encoded data removed]",
      "text/plain": [
       "<Figure size 1000x600 with 1 Axes>"
      ]
     },
     "metadata": {},
     "output_type": "display_data"
    }
   ],
   "source": [
    "# Plotting both curves and original data\n",
    "fitted_curve_yule_100 = fitted_curve_yule[:100]\n",
    "fitted_curve_zipf_100 = fitted_curve_zipf[:100]\n",
    "fitted_curve_sig_100 = fitted_curve_sigurd[:100]\n",
    "fitted_curve_bgz_100 = fr_values[:100]\n",
    "\n",
    "# Plot only the first 100 ranks and their fitted curves\n",
    "plt.figure(figsize=(10, 6))\n",
    "plt.scatter(ranks_100, frequencies_100, label='Riječi')\n",
    "plt.plot(ranks_100, fitted_curve_yule_100, color='red', label='Yuleov', linestyle='-')\n",
    "plt.plot(ranks_100, fitted_curve_zipf_100, color='blue', label='Zipfov', linestyle=':')\n",
    "plt.plot(ranks_100, fitted_curve_sig_100, color='green', label='Sigurdov', linestyle='--')\n",
    "plt.plot(ranks_100, fitted_curve_bgz_100, color='orange', label='BGZ', linestyle='-.')\n",
    "\n",
    "plt.xlabel('Rank riječi')\n",
    "plt.ylabel('Frekvencija riječi')\n",
    "plt.title('Primjena Zipf, Yule, Sigurd i BGS funkcija na frekvencijsku distribuciju\\n riječi u govornom korpusu ParlaSpeechHR-v1.0')\n",
    "plt.legend()\n",
    "\n",
    "# Annotate the plot with R^2 for Yule's Law\n",
    "plt.text(0.73, 0.91, r\"$R^2$ (Yule) = \" + f\"{r_squared_yule:.4f}\", ha='center', va='center', transform=plt.gca().transAxes, color='red')\n",
    "plt.text(0.73, 0.86, r\"$R^2$ (Zipf) = \" + f\"{r_squared_zipf:.4f}\", ha='center', va='center', transform=plt.gca().transAxes, color='blue')\n",
    "plt.text(0.73, 0.81, r\"$R^2$ (Sig.) = \" + f\"{r_squared_sigurd:.4f}\", ha='center', va='center', transform=plt.gca().transAxes, color='green')\n",
    "plt.text(0.73, 0.76, r\"$R^2$ (BGZ) =  \" + f\"{r_squared_bgz:.4f}\", ha='center', va='center', transform=plt.gca().transAxes, color='orange')\n",
    "\n",
    "\n",
    "\n",
    "# Saving the plot as a .png file\n",
    "plt.savefig('yule_zipf_sigurd_bgz_poredba_WORDS100_HR_v3.2.png', dpi=300)  # Specify the filename and dpi (dots per inch)\n",
    "\n",
    "plt.show()"
   ]
  },
  {
   "cell_type": "code",
   "execution_count": null,
   "id": "2e3db499-be42-4bd7-a4dd-291e5160b5d4",
   "metadata": {},
   "outputs": [],
   "source": []
  },
  {
   "cell_type": "code",
   "execution_count": null,
   "id": "349837d6-41f7-4085-8e29-5f8e8cfa4ffb",
   "metadata": {},
   "outputs": [],
   "source": []
  },
  {
   "cell_type": "code",
   "execution_count": null,
   "id": "24f8e06f-1a95-4692-bd39-a7bbf191a5be",
   "metadata": {},
   "outputs": [],
   "source": []
  },
  {
   "cell_type": "code",
   "execution_count": null,
   "id": "afa800c1-0e30-4926-8ee2-9002cea98f09",
   "metadata": {},
   "outputs": [],
   "source": []
  },
  {
   "cell_type": "markdown",
   "id": "d8a37b96-4618-4bb9-bc8e-d80524397dc7",
   "metadata": {},
   "source": [
    "# PARSIRANJE NJ LJ DŽ"
   ]
  },
  {
   "cell_type": "code",
   "execution_count": 40,
   "id": "dc40874e-a71b-4f84-a63e-5fa6de01e8b3",
   "metadata": {},
   "outputs": [
    {
     "name": "stdout",
     "output_type": "stream",
     "text": [
      "Counter({' ': 14419033, 'a': 8473320, 'o': 7134726, 'i': 7050533, 'e': 6080196, 'n': 4648748, 't': 3651668, 'r': 3511665, 'j': 3419250, 's': 3255595, 'd': 2834497, 'u': 2828080, 'v': 2702877, 'm': 2543126, 'k': 2461565, 'l': 2239951, 'p': 2027631, 'z': 1281364, 'g': 1117595, ',': 966159, 'b': 952252, 'š': 681802, '.': 633399, 'č': 565108, 'h': 519356, 'c': 512317, 'ć': 477359, 'ž': 410163, 'đ': 163320, 'f': 122684, '0': 121397, '1': 73991, '2': 69318, '-': 60284, '5': 36839, '?': 34026, '3': 32637, '4': 23869, '6': 21275, '7': 20024, '8': 18816, '%': 18226, '9': 17383, \"'\": 4564, '_': 3838, '„': 3129, '“': 3083, 'x': 2429, '/': 1820, ':': 1656, 'w': 1581, 'y': 1202, '!': 416, ')': 352, '(': 258, '+': 238, 'q': 134, ';': 77, '\"': 41, 'ü': 39, '¾': 35, '&': 26, '–': 22, '¼': 22, '>': 10, '—': 10, '@': 10, '’': 8, 'ö': 7, '̊': 6, '=': 4, '#': 4, '¸': 3, 'ӧ': 3, '‰': 3, '*': 2, '€': 2, 'ä': 2, '°': 1, '½': 1, '´': 1, '′': 1, 'ô': 1, 'ţ': 1, 'π': 1})\n"
     ]
    }
   ],
   "source": [
    "# from collections import Counter\n",
    "\n",
    "# # Concatenate all sentences into a single string\n",
    "# all_text = ' '.join(df_combined['sentence'])\n",
    "\n",
    "# # Count the frequency of each character\n",
    "# character_frequency = Counter(all_text.lower())  # Convert to lowercase for uniform counting\n",
    "\n",
    "# # Display the character frequencies\n",
    "# print(character_frequency)\n"
   ]
  },
  {
   "cell_type": "code",
   "execution_count": 6,
   "id": "e8eb65f5-3ae0-4079-a5d0-1d62d08f10c7",
   "metadata": {},
   "outputs": [
    {
     "name": "stdout",
     "output_type": "stream",
     "text": [
      "Character frequencies:\n",
      "Counter({' ': 14419033, 'a': 8473320, 'o': 7134726, 'i': 7050533, 'e': 6080196, 'n': 4218185, 't': 3651668, 'r': 3511665, 's': 3255595, 'd': 2831100, 'u': 2828080, 'v': 2702877, 'j': 2634376, 'm': 2543126, 'k': 2461565, 'p': 2027631, 'l': 1885640, 'z': 1281364, 'g': 1117595, ',': 966159, 'b': 952252, 'š': 681802, '.': 633399, 'č': 565108, 'h': 519356, 'c': 512317, 'ć': 477359, 'ž': 406766, 'đ': 163320, 'f': 122684, '0': 121397, '1': 73991, '2': 69318, '-': 60284, '5': 36839, '?': 34026, '3': 32637, '4': 23869, '6': 21275, '7': 20024, '8': 18816, '%': 18226, '9': 17383, \"'\": 4564, '_': 3838, '„': 3129, '“': 3083, 'x': 2429, '/': 1820, ':': 1656, 'w': 1581, 'y': 1202, '!': 416, ')': 352, '(': 258, '+': 238, 'q': 134, ';': 77, '\"': 41, 'ü': 39, '¾': 35, '&': 26, '–': 22, '¼': 22, '>': 10, '—': 10, '@': 10, '’': 8, 'ö': 7, '̊': 6, '=': 4, '#': 4, '¸': 3, 'ӧ': 3, '‰': 3, '*': 2, '€': 2, 'ä': 2, '°': 1, '½': 1, '´': 1, '′': 1, 'ô': 1, 'ţ': 1, 'π': 1})\n",
      "\n",
      "Counts of special sequences:\n",
      "{'nj': 430563, 'lj': 354311, 'dž': 3397}\n"
     ]
    }
   ],
   "source": [
    "from collections import Counter\n",
    "\n",
    "# Concatenate all sentences into a single string\n",
    "all_text = ' '.join(df_combined['sentence'])\n",
    "\n",
    "# Convert all the text to lowercase\n",
    "all_text_lower = all_text.lower()\n",
    "\n",
    "# Define special character sequences to be removed\n",
    "special_sequences = [\"nj\", \"lj\", \"dž\"]\n",
    "\n",
    "# Initialize counters for special sequences\n",
    "special_sequence_counts = {seq: 0 for seq in special_sequences}\n",
    "\n",
    "# Count occurrences of special sequences and remove them from the text\n",
    "for seq in special_sequences:\n",
    "    count = all_text_lower.count(seq)\n",
    "    special_sequence_counts[seq] = count\n",
    "    all_text_lower = all_text_lower.replace(seq, '')\n",
    "\n",
    "# Count the frequency of each character\n",
    "character_frequency = Counter(all_text_lower)\n",
    "\n",
    "# Display the character frequencies and counts of special sequences\n",
    "print(\"Character frequencies:\")\n",
    "print(character_frequency)\n",
    "print(\"\\nCounts of special sequences:\")\n",
    "print(special_sequence_counts)\n"
   ]
  },
  {
   "cell_type": "code",
   "execution_count": 7,
   "id": "2f810972-465a-4793-ae8f-15e609455133",
   "metadata": {},
   "outputs": [
    {
     "name": "stdout",
     "output_type": "stream",
     "text": [
      "{'a': 8473320, 'o': 7134726, 'i': 7050533, 'e': 6080196, 'n': 4218185, 't': 3651668, 'r': 3511665, 's': 3255595, 'd': 2831100, 'u': 2828080, 'v': 2702877, 'j': 2634376, 'm': 2543126, 'k': 2461565, 'p': 2027631, 'l': 1885640, 'z': 1281364, 'g': 1117595, 'b': 952252, 'š': 681802, 'č': 565108, 'h': 519356, 'c': 512317, 'ć': 477359, 'nj': 430563, 'ž': 406766, 'lj': 354311, 'đ': 163320, 'f': 122684, 'dž': 3397}\n"
     ]
    }
   ],
   "source": [
    "#abcčćdđefghijklmnoprsštuvzž\n",
    "# Your list of characters\n",
    "characters = list('abcčćdđefghijklmnoprsštuvzž')\n",
    "\n",
    "# Add 'nj', 'lj', and 'dž' to the list of characters\n",
    "special_sequences = ['nj', 'lj', 'dž']\n",
    "characters += special_sequences\n",
    "\n",
    "# Create a dictionary to hold character frequencies\n",
    "char_freq_dict = {char: character_frequency[char] for char in characters}\n",
    "\n",
    "# Include counts of special sequences in char_freq_dict\n",
    "char_freq_dict.update(special_sequence_counts)\n",
    "\n",
    "# Sort char_freq_dict by frequency in descending order\n",
    "char_freq_dict = dict(sorted(char_freq_dict.items(), key=lambda x: x[1], reverse=True))\n",
    "\n",
    "# Display the character frequencies\n",
    "print(char_freq_dict)\n"
   ]
  },
  {
   "cell_type": "code",
   "execution_count": 8,
   "id": "82599b75-5a52-47b0-a0ed-50520ffc9047",
   "metadata": {},
   "outputs": [
    {
     "name": "stdout",
     "output_type": "stream",
     "text": [
      "{'a': {'count': 8473320, 'freq%': 11.955}, 'o': {'count': 7134726, 'freq%': 10.066}, 'i': {'count': 7050533, 'freq%': 9.947}, 'e': {'count': 6080196, 'freq%': 8.578}, 'n': {'count': 4218185, 'freq%': 5.951}, 't': {'count': 3651668, 'freq%': 5.152}, 'r': {'count': 3511665, 'freq%': 4.954}, 's': {'count': 3255595, 'freq%': 4.593}, 'd': {'count': 2831100, 'freq%': 3.994}, 'u': {'count': 2828080, 'freq%': 3.99}, 'v': {'count': 2702877, 'freq%': 3.813}, 'j': {'count': 2634376, 'freq%': 3.717}, 'm': {'count': 2543126, 'freq%': 3.588}, 'k': {'count': 2461565, 'freq%': 3.473}, 'p': {'count': 2027631, 'freq%': 2.861}, 'l': {'count': 1885640, 'freq%': 2.66}, 'z': {'count': 1281364, 'freq%': 1.808}, 'g': {'count': 1117595, 'freq%': 1.577}, 'b': {'count': 952252, 'freq%': 1.343}, 'š': {'count': 681802, 'freq%': 0.962}, 'č': {'count': 565108, 'freq%': 0.797}, 'h': {'count': 519356, 'freq%': 0.733}, 'c': {'count': 512317, 'freq%': 0.723}, 'ć': {'count': 477359, 'freq%': 0.673}, 'nj': {'count': 430563, 'freq%': 0.607}, 'ž': {'count': 406766, 'freq%': 0.574}, 'lj': {'count': 354311, 'freq%': 0.5}, 'đ': {'count': 163320, 'freq%': 0.23}, 'f': {'count': 122684, 'freq%': 0.173}, 'dž': {'count': 3397, 'freq%': 0.005}}\n"
     ]
    }
   ],
   "source": [
    "# Calculate the total sum of frequencies\n",
    "total_sum = sum(char_freq_dict.values())\n",
    "\n",
    "# Merge counts and percentages into the same dictionary\n",
    "combined_dict = {char: {'count': freq, 'freq%': round((freq / total_sum) * 100, 3)} for char, freq in char_freq_dict.items()}\n",
    "\n",
    "# Display the combined dictionary\n",
    "print(combined_dict)\n"
   ]
  },
  {
   "cell_type": "code",
   "execution_count": 15,
   "id": "d2b801c6-35b9-4080-bb8d-ba0f8c24380b",
   "metadata": {},
   "outputs": [
    {
     "name": "stdout",
     "output_type": "stream",
     "text": [
      "CSV file 'Frekvencija_glasnika_ParlaSpeechHR_v2.0.csv' has been saved.\n"
     ]
    }
   ],
   "source": [
    "import csv\n",
    "\n",
    "# File path to save the CSV\n",
    "file_path = 'Frekvencija_glasnika_ParlaSpeechHR_v2.0.csv'\n",
    "\n",
    "# Writing the sorted dictionary to a CSV file with UTF-8 encoding\n",
    "with open(file_path, 'w', newline='', encoding='utf-8') as csvfile:\n",
    "    fieldnames = ['Character', 'Count', 'Freq%']  # Updated field names\n",
    "    writer = csv.DictWriter(csvfile, fieldnames=fieldnames)\n",
    "\n",
    "    # Write the header\n",
    "    writer.writeheader()\n",
    "\n",
    "    # Write the data rows\n",
    "    for char, data in sorted_combined.items():\n",
    "        writer.writerow({'Character': char, 'Count': data['count'], 'Freq%': data['freq%']})\n",
    "\n",
    "print(f\"CSV file '{file_path}' has been saved.\")\n"
   ]
  },
  {
   "cell_type": "code",
   "execution_count": 63,
   "id": "2fcb0a79-0bc3-43e6-9398-2991e7f51d03",
   "metadata": {},
   "outputs": [
    {
     "name": "stdout",
     "output_type": "stream",
     "text": [
      "Total number of words in the JSONL file: 14419034\n"
     ]
    }
   ],
   "source": [
    "import jsonlines\n",
    "\n",
    "# Path to your JSONL file\n",
    "jsonl_file_path = 'ParlaSpeech-HR.v1.0.jsonl'\n",
    "\n",
    "total_word_count = 0\n",
    "\n",
    "# Read the JSONL file and count words in each line\n",
    "with jsonlines.open(jsonl_file_path, 'r') as file:\n",
    "    for line in file:\n",
    "        if 'words' in line:  # Check if 'words' field exists\n",
    "            words_list = line['words']  # Assuming 'words' is a list field in each JSON object\n",
    "            total_word_count += len(words_list)\n",
    "\n",
    "print(f\"Total number of words in the JSONL file: {total_word_count}\")\n"
   ]
  },
  {
   "cell_type": "markdown",
   "id": "bd3435e7-a0c1-4ae1-bbe1-3c5f562b2ea2",
   "metadata": {},
   "source": [
    "# Frekvencije glasnika u ParlaSpeechHR-v1.0 (v1.0)\n",
    "\n",
    "Character,Count,Freq%\r\n",
    "a,8473320,11.823\r\n",
    "o,7134726,9.955\r\n",
    "i,7050533,9.838\r\n",
    "e,6080196,8.484\r\n",
    "n,4648748,6.487\r\n",
    "t,3651668,5.095\r\n",
    "r,3511665,4.9\r\n",
    "j,3419250,4.771\r\n",
    "s,3255595,4.543\r\n",
    "d,2834497,3.955\r\n",
    "u,2828080,3.946\r\n",
    "v,2702877,3.771\r\n",
    "m,2543126,3.549\r\n",
    "k,2461565,3.435\r\n",
    "l,2239951,3.126\r\n",
    "p,2027631,2.829\r\n",
    "z,1281364,1.788\r\n",
    "g,1117595,1.559\r\n",
    "b,952252,1.329\r\n",
    "š,681802,0.951\r\n",
    "č,565108,0.789\r\n",
    "h,519356,0.725\r\n",
    "c,512317,0.715\r\n",
    "ć,477359,0.666\r\n",
    "ž,410163,0.572\r\n",
    "đ,163320,0.228\r\n",
    "f,122684,0.171"
   ]
  },
  {
   "cell_type": "code",
   "execution_count": null,
   "id": "24c74e27-f13a-4c6b-8c50-726b0075f6b5",
   "metadata": {},
   "outputs": [],
   "source": []
  }
 ],
 "metadata": {
  "kernelspec": {
   "display_name": "PyPhon",
   "language": "python",
   "name": "pyphon"
  },
  "language_info": {
   "codemirror_mode": {
    "name": "ipython",
    "version": 3
   },
   "file_extension": ".py",
   "mimetype": "text/x-python",
   "name": "python",
   "nbconvert_exporter": "python",
   "pygments_lexer": "ipython3",
   "version": "3.11.8"
  }
 },
 "nbformat": 4,
 "nbformat_minor": 5
}
