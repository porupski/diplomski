{
 "cells": [
  {
   "cell_type": "markdown",
   "metadata": {
    "id": "i41M-W8THOQu"
   },
   "source": [
    "# Running ParlaSpeechHR Models"
   ]
  },
  {
   "cell_type": "markdown",
   "metadata": {
    "id": "ESbAn_EQRYyT"
   },
   "source": [
    "## [0] Start here:"
   ]
  },
  {
   "cell_type": "code",
   "execution_count": 6,
   "metadata": {
    "execution": {
     "iopub.execute_input": "2024-06-16T17:01:50.242260Z",
     "iopub.status.busy": "2024-06-16T17:01:50.242260Z",
     "iopub.status.idle": "2024-06-16T17:01:50.245456Z",
     "shell.execute_reply": "2024-06-16T17:01:50.245456Z",
     "shell.execute_reply.started": "2024-06-16T17:01:50.242260Z"
    }
   },
   "outputs": [],
   "source": [
    "choose_lm_model = False\n",
    "\n",
    "google_colabbing = False\n",
    "debug_printing = True\n",
    "\n",
    "testing_asr = True # if False, cuts audio into chunks\n",
    "shuffle_transcript = True"
   ]
  },
  {
   "cell_type": "code",
   "execution_count": 7,
   "metadata": {
    "colab": {
     "base_uri": "https://localhost:8080/"
    },
    "execution": {
     "iopub.execute_input": "2024-06-16T17:01:50.569941Z",
     "iopub.status.busy": "2024-06-16T17:01:50.569941Z",
     "iopub.status.idle": "2024-06-16T17:01:50.574272Z",
     "shell.execute_reply": "2024-06-16T17:01:50.574272Z",
     "shell.execute_reply.started": "2024-06-16T17:01:50.569941Z"
    },
    "executionInfo": {
     "elapsed": 341,
     "status": "ok",
     "timestamp": 1718358967568,
     "user": {
      "displayName": "Ivan Porupski",
      "userId": "03127310887960034948"
     },
     "user_tz": -120
    },
    "id": "hXbSzO_hGn2a",
    "outputId": "93214040-342d-47cd-b2d5-ef7bf1304c60"
   },
   "outputs": [
    {
     "name": "stdout",
     "output_type": "stream",
     "text": [
      "v3.4\n"
     ]
    }
   ],
   "source": [
    "work_version_num = 3.4\n",
    "word_version_preffix = \"\"\n",
    "\n",
    "if choose_lm_model == True:\n",
    "    word_version_suffix = \"_lm\"\n",
    "else:\n",
    "    word_version_suffix = \"\"\n",
    "work_version = f\"{word_version_preffix}v{work_version_num}{word_version_suffix}\"\n",
    "\n",
    "print(work_version)"
   ]
  },
  {
   "cell_type": "markdown",
   "metadata": {
    "jp-MarkdownHeadingCollapsed": true
   },
   "source": [
    "## [INFO ABOUT MACHINE]"
   ]
  },
  {
   "cell_type": "code",
   "execution_count": 7,
   "metadata": {
    "execution": {
     "iopub.execute_input": "2024-06-16T12:10:09.511233Z",
     "iopub.status.busy": "2024-06-16T12:10:09.511233Z",
     "iopub.status.idle": "2024-06-16T12:10:09.513830Z",
     "shell.execute_reply": "2024-06-16T12:10:09.513830Z",
     "shell.execute_reply.started": "2024-06-16T12:10:09.511233Z"
    }
   },
   "outputs": [],
   "source": [
    "### NEED TO REINSTALL PYTORCH WITH CUDA ENABLED AND TRY AGAIN I GUESS"
   ]
  },
  {
   "cell_type": "code",
   "execution_count": 8,
   "metadata": {
    "execution": {
     "iopub.execute_input": "2024-06-16T12:10:09.703821Z",
     "iopub.status.busy": "2024-06-16T12:10:09.703821Z",
     "iopub.status.idle": "2024-06-16T12:10:11.121046Z",
     "shell.execute_reply": "2024-06-16T12:10:11.121046Z",
     "shell.execute_reply.started": "2024-06-16T12:10:09.703821Z"
    }
   },
   "outputs": [
    {
     "name": "stdout",
     "output_type": "stream",
     "text": [
      "Processor: 11th Gen Intel(R) Core(TM) i5-11600 @ 2.80GHz\n",
      "Architecture: X86_64\n",
      "Cores: 12\n"
     ]
    }
   ],
   "source": [
    "import cpuinfo\n",
    "\n",
    "info = cpuinfo.get_cpu_info()\n",
    "\n",
    "print(\"Processor:\", info[\"brand_raw\"])\n",
    "print(\"Architecture:\", info[\"arch\"])\n",
    "print(\"Cores:\", info[\"count\"])"
   ]
  },
  {
   "cell_type": "code",
   "execution_count": 9,
   "metadata": {
    "execution": {
     "iopub.execute_input": "2024-06-16T12:10:11.123038Z",
     "iopub.status.busy": "2024-06-16T12:10:11.122040Z",
     "iopub.status.idle": "2024-06-16T12:10:12.136676Z",
     "shell.execute_reply": "2024-06-16T12:10:12.136676Z",
     "shell.execute_reply.started": "2024-06-16T12:10:11.123038Z"
    }
   },
   "outputs": [
    {
     "name": "stdout",
     "output_type": "stream",
     "text": [
      "Platform: NVIDIA CUDA\n",
      "Vendor: NVIDIA Corporation\n",
      "Version: OpenCL 1.2 CUDA 11.1.96\n",
      "\n",
      "Device: GeForce GTX 760\n",
      "Type: ALL | GPU\n",
      "Max Compute Units: 6\n",
      "Max Work Item Dimensions: 3\n",
      "Max Work Group Size: 1024\n",
      "Max Clock Frequency: 1150 MHz\n",
      "Global Memory Size: 4.00 GB\n",
      "Local Memory Size: 48.00 KB\n",
      "Max Memory Allocation Size: 1.00 GB\n",
      "OpenCL Version: OpenCL C 1.2 \n",
      "Driver Version: 456.71\n",
      "Platform: Intel(R) OpenCL HD Graphics\n",
      "Vendor: Intel(R) Corporation\n",
      "Version: OpenCL 3.0 \n",
      "\n",
      "Device: Intel(R) UHD Graphics 750\n",
      "Type: ALL | GPU\n",
      "Max Compute Units: 32\n",
      "Max Work Item Dimensions: 3\n",
      "Max Work Group Size: 256\n",
      "Max Clock Frequency: 1300 MHz\n",
      "Global Memory Size: 6.32 GB\n",
      "Local Memory Size: 64.00 KB\n",
      "Max Memory Allocation Size: 3.16 GB\n",
      "OpenCL Version: OpenCL C 1.2 \n",
      "Driver Version: 30.0.101.1273\n",
      "Platform: Intel(R) OpenCL\n",
      "Vendor: Intel(R) Corporation\n",
      "Version: OpenCL 3.0 WINDOWS\n",
      "\n",
      "Device: 11th Gen Intel(R) Core(TM) i5-11600 @ 2.80GHz\n",
      "Type: ALL | CPU\n",
      "Max Compute Units: 12\n",
      "Max Work Item Dimensions: 3\n",
      "Max Work Group Size: 8192\n",
      "Max Clock Frequency: 2800 MHz\n",
      "Global Memory Size: 15.80 GB\n",
      "Local Memory Size: 32.00 KB\n",
      "Max Memory Allocation Size: 7.90 GB\n",
      "OpenCL Version: OpenCL C 3.0 \n",
      "Driver Version: 2023.16.6.0.28_042959\n"
     ]
    }
   ],
   "source": [
    "#!pip install pyopencl\n",
    "\n",
    "import pyopencl as cl\n",
    "\n",
    "# Get a list of all available platforms\n",
    "platforms = cl.get_platforms()\n",
    "\n",
    "for platform in platforms:\n",
    "    print(f\"Platform: {platform.name}\")\n",
    "    print(f\"Vendor: {platform.vendor}\")\n",
    "    print(f\"Version: {platform.version}\")\n",
    "\n",
    "    # Get a list of all available devices for the current platform\n",
    "    devices = platform.get_devices()\n",
    "    for device in devices:\n",
    "        print(f\"\\nDevice: {device.name}\")\n",
    "        print(f\"Type: {cl.device_type.to_string(device.type)}\")\n",
    "        print(f\"Max Compute Units: {device.max_compute_units}\")\n",
    "        print(f\"Max Work Item Dimensions: {device.max_work_item_dimensions}\")\n",
    "        print(f\"Max Work Group Size: {device.max_work_group_size}\")\n",
    "        print(f\"Max Clock Frequency: {device.max_clock_frequency} MHz\")\n",
    "        print(f\"Global Memory Size: {device.global_mem_size / (1024 ** 3):.2f} GB\")\n",
    "        print(f\"Local Memory Size: {device.local_mem_size / 1024:.2f} KB\")\n",
    "        print(f\"Max Memory Allocation Size: {device.max_mem_alloc_size / (1024 ** 3):.2f} GB\")\n",
    "        print(f\"OpenCL Version: {device.opencl_c_version}\")\n",
    "        print(f\"Driver Version: {device.driver_version}\")\n"
   ]
  },
  {
   "cell_type": "markdown",
   "metadata": {},
   "source": [
    "CPU VERSION:\n",
    "Device: 11th Gen Intel(R) Core(TM) i5-11600 @ 2.80GHz\r\n",
    "Type: ALL | CPU\r\n",
    "Max Compute Units: 12\r\n",
    "Max Work Item Dimensions: 3\r\n",
    "Max Work Group Size: 8192\r\n",
    "Max Clock Frequency: 2800 MHz\r\n",
    "Global Memory Size: 15.80 GB\r\n",
    "Local Memory Size: 32.00 KB\r\n",
    "Max Memory Allocation Size: 7.90 GB\r\n",
    "OpenCL Version: OpenCL C 3.0 \r\n",
    "Driver Version: 2023.16.6.0.28_042959"
   ]
  },
  {
   "cell_type": "code",
   "execution_count": 5,
   "metadata": {
    "execution": {
     "iopub.execute_input": "2024-06-16T12:08:46.818196Z",
     "iopub.status.busy": "2024-06-16T12:08:46.817198Z",
     "iopub.status.idle": "2024-06-16T12:08:53.088954Z",
     "shell.execute_reply": "2024-06-16T12:08:53.088954Z",
     "shell.execute_reply.started": "2024-06-16T12:08:46.818196Z"
    }
   },
   "outputs": [
    {
     "name": "stdout",
     "output_type": "stream",
     "text": [
      "Name: torch\n",
      "Version: 2.3.1\n",
      "Summary: Tensors and Dynamic neural networks in Python with strong GPU acceleration\n",
      "Home-page: https://pytorch.org/\n",
      "Author: PyTorch Team\n",
      "Author-email: packages@pytorch.org\n",
      "License: BSD-3\n",
      "Location: C:\\Users\\Public\\anaconda3\\envs\\PyPhon\\Lib\\site-packages\n",
      "Requires: filelock, fsspec, jinja2, mkl, networkx, sympy, typing-extensions\n",
      "Required-by: accelerate, optimum, sentence-transformers, torchaudio, torchvision\n"
     ]
    },
    {
     "name": "stderr",
     "output_type": "stream",
     "text": [
      "WARNING: Skipping C:\\Users\\Public\\anaconda3\\envs\\PyPhon\\Lib\\site-packages\\pandas-2.1.4.dist-info due to invalid metadata entry 'name'\n"
     ]
    },
    {
     "name": "stdout",
     "output_type": "stream",
     "text": [
      "Name: torchvision\n",
      "Version: 0.15.2a0\n",
      "Summary: image and video datasets and models for torch deep learning\n",
      "Home-page: https://github.com/pytorch/vision\n",
      "Author: PyTorch Core Team\n",
      "Author-email: soumith@pytorch.org\n",
      "License: BSD\n",
      "Location: C:\\Users\\Public\\anaconda3\\envs\\PyPhon\\Lib\\site-packages\n",
      "Requires: numpy, pillow, requests, torch\n",
      "Required-by: sentence-transformers\n"
     ]
    },
    {
     "name": "stderr",
     "output_type": "stream",
     "text": [
      "WARNING: Skipping C:\\Users\\Public\\anaconda3\\envs\\PyPhon\\Lib\\site-packages\\pandas-2.1.4.dist-info due to invalid metadata entry 'name'\n"
     ]
    },
    {
     "name": "stdout",
     "output_type": "stream",
     "text": [
      "Name: torchaudio\n",
      "Version: 2.3.1\n",
      "Summary: An audio package for PyTorch\n",
      "Home-page: https://github.com/pytorch/audio\n",
      "Author: Soumith Chintala, David Pollack, Sean Naren, Peter Goldsborough, Moto Hira, Caroline Chen, Jeff Hwang, Zhaoheng Ni, Xiaohui Zhang\n",
      "Author-email: soumith@pytorch.org\n",
      "License: \n",
      "Location: C:\\Users\\Public\\anaconda3\\envs\\PyPhon\\Lib\\site-packages\n",
      "Requires: torch\n",
      "Required-by: \n"
     ]
    },
    {
     "name": "stderr",
     "output_type": "stream",
     "text": [
      "WARNING: Skipping C:\\Users\\Public\\anaconda3\\envs\\PyPhon\\Lib\\site-packages\\pandas-2.1.4.dist-info due to invalid metadata entry 'name'\n"
     ]
    }
   ],
   "source": [
    "!pip show torch\n",
    "!pip show torchvision\n",
    "!pip show torchaudio"
   ]
  },
  {
   "cell_type": "code",
   "execution_count": 21,
   "metadata": {
    "execution": {
     "iopub.execute_input": "2024-06-15T18:17:22.441732Z",
     "iopub.status.busy": "2024-06-15T18:17:22.440735Z",
     "iopub.status.idle": "2024-06-15T18:17:22.446005Z",
     "shell.execute_reply": "2024-06-15T18:17:22.446005Z",
     "shell.execute_reply.started": "2024-06-15T18:17:22.441732Z"
    }
   },
   "outputs": [
    {
     "name": "stdout",
     "output_type": "stream",
     "text": [
      "CUDA not available or GPU is too old.\n",
      "device set to: CPU (cpu)\n"
     ]
    }
   ],
   "source": [
    "import torch\n",
    "\n",
    "\n",
    "if torch.cuda.is_available() and torch.cuda.get_device_capability(0)[0] >= 3.7:\n",
    "    device = torch.device(\"cuda:0\")  # Use GPU\n",
    "    print(\"Using GPU:\", torch.cuda.get_device_name(0))\n",
    "    print(\"CUDA available:\", torch.cuda.is_available())\n",
    "    print(\"CUDA version:\", torch.version.cuda)\n",
    "    print(\"cuDNN version:\", torch.backends.cudnn.version())\n",
    "    print(\"Device Name:\", torch.cuda.get_device_name(0))\n",
    "else:\n",
    "    device = torch.device(\"cpu\")  # Use CPU\n",
    "    print(\"CUDA not available or GPU is too old.\")\n",
    "    print(f\"device set to: CPU ({device})\")\n",
    "    "
   ]
  },
  {
   "cell_type": "markdown",
   "metadata": {
    "id": "Z0vOINi-RVG-",
    "jp-MarkdownHeadingCollapsed": true
   },
   "source": [
    "## [1] Install all required packages"
   ]
  },
  {
   "cell_type": "code",
   "execution_count": 3,
   "metadata": {
    "colab": {
     "base_uri": "https://localhost:8080/"
    },
    "execution": {
     "iopub.execute_input": "2024-06-16T16:06:56.342183Z",
     "iopub.status.busy": "2024-06-16T16:06:56.341187Z",
     "iopub.status.idle": "2024-06-16T16:07:01.418052Z",
     "shell.execute_reply": "2024-06-16T16:07:01.418052Z",
     "shell.execute_reply.started": "2024-06-16T16:06:56.341187Z"
    },
    "executionInfo": {
     "elapsed": 4872,
     "status": "ok",
     "timestamp": 1718358985791,
     "user": {
      "displayName": "Ivan Porupski",
      "userId": "03127310887960034948"
     },
     "user_tz": -120
    },
    "id": "Y-1HeiN2HWYh",
    "outputId": "3e4fc84f-371f-455b-cafb-e8d2fcd8837a"
   },
   "outputs": [
    {
     "name": "stdout",
     "output_type": "stream",
     "text": [
      "All good. Every essential package is present to make the code work.\n"
     ]
    }
   ],
   "source": [
    "#!pip install ipython\n",
    "from IPython.display import clear_output\n",
    "\n",
    "try:\n",
    "    import transformers\n",
    "    print(\"transformers: All good.\")\n",
    "except ImportError:\n",
    "    !pip install transformers\n",
    "    print(\"transformers: Installed.\")\n",
    "\n",
    "try:\n",
    "    import pydub\n",
    "    print(\"pydub: All good.\")\n",
    "except ImportError:\n",
    "    !pip install pydub\n",
    "    print(\"pydub: Installed.\")\n",
    "\n",
    "try:\n",
    "    import torchaudio\n",
    "    print(\"torchaudio: All good.\")\n",
    "except ImportError:\n",
    "    !pip install torchaudio\n",
    "    print(\"torchaudio: Installed.\")\n",
    "\n",
    "try:\n",
    "    import pyctcdecode\n",
    "    print(\"pyctcdecode: All good.\")\n",
    "except ImportError:\n",
    "    !pip install pyctcdecode\n",
    "    print(\"pyctcdecode: Installed.\")\n",
    "\n",
    "try:\n",
    "    import jiwer\n",
    "    print(\"jiwer: All good.\")\n",
    "except ImportError:\n",
    "    !pip install jiwer\n",
    "    print(\"jiwer: Installed.\")\n",
    "\n",
    "try:\n",
    "    import nltk\n",
    "    nltk.download('punkt')\n",
    "    print(\"nltk: All good.\")\n",
    "except ImportError:\n",
    "    !pip install nltk\n",
    "    print(\"nltk: Installed.\")\n",
    "\n",
    "try:\n",
    "    from fuzzywuzzy import fuzz\n",
    "    print(\"fuzzywuzzy: All good.\")\n",
    "except ImportError:   \n",
    "    !pip install fuzzywuzzy\n",
    "    print(\"fuzzywuzzy: Installed.\")\n",
    "\n",
    "clear_output(wait=True) # clean the mess\n",
    "print(f\"All good. Every essential package is present to make the code work.\")"
   ]
  },
  {
   "cell_type": "code",
   "execution_count": 4,
   "metadata": {
    "colab": {
     "base_uri": "https://localhost:8080/"
    },
    "execution": {
     "iopub.execute_input": "2024-06-16T16:07:01.419047Z",
     "iopub.status.busy": "2024-06-16T16:07:01.419047Z",
     "iopub.status.idle": "2024-06-16T16:07:01.422988Z",
     "shell.execute_reply": "2024-06-16T16:07:01.422988Z",
     "shell.execute_reply.started": "2024-06-16T16:07:01.419047Z"
    },
    "executionInfo": {
     "elapsed": 297,
     "status": "ok",
     "timestamp": 1718358989147,
     "user": {
      "displayName": "Ivan Porupski",
      "userId": "03127310887960034948"
     },
     "user_tz": -120
    },
    "id": "QpXmeQkhHSMy",
    "outputId": "18d66a32-7b49-4cac-ed0e-2f4d4bb4c771"
   },
   "outputs": [
    {
     "name": "stdout",
     "output_type": "stream",
     "text": [
      "All good. kenlm is present to make the LM model.\n"
     ]
    }
   ],
   "source": [
    "try:\n",
    "    import kenlm\n",
    "    print(f\"All good. kenlm is present to make the LM model.\")\n",
    "except ImportError:\n",
    "    !pip install https://github.com/kpu/kenlm/archive/master.zip # requires runtime restart\n",
    "    import os\n",
    "    os.kill(os.getpid(), 9) # restart automatically"
   ]
  },
  {
   "cell_type": "markdown",
   "metadata": {
    "id": "7bkH_9mFRi5n"
   },
   "source": [
    "## [2] Defining all paths"
   ]
  },
  {
   "cell_type": "code",
   "execution_count": 8,
   "metadata": {
    "execution": {
     "iopub.execute_input": "2024-06-16T17:01:54.763118Z",
     "iopub.status.busy": "2024-06-16T17:01:54.753543Z",
     "iopub.status.idle": "2024-06-16T17:01:54.765570Z",
     "shell.execute_reply": "2024-06-16T17:01:54.765570Z",
     "shell.execute_reply.started": "2024-06-16T17:01:54.763118Z"
    },
    "executionInfo": {
     "elapsed": 2,
     "status": "ok",
     "timestamp": 1718358968575,
     "user": {
      "displayName": "Ivan Porupski",
      "userId": "03127310887960034948"
     },
     "user_tz": -120
    },
    "id": "PnFUfYq5HPsy"
   },
   "outputs": [],
   "source": [
    "path_to_pshr_raw_audio_data = r\"D:\\ParlaSpeech-HR.v1.0\\raw\"\n",
    "path_to_pshr_raw_jsonl = r\"D:\\ParlaSpeech-HR.v1.0\\ParlaSpeech-HR.v1.0.jsonl\"\n",
    "\n",
    "path_to_pshr_models = r\"D:\\ASR\\ParlaspeechHR\"\n",
    "path_to_pshr_wav2vec2_l = r\"D:\\ASR\\ParlaspeechHR\\wav2vec2-large-slavih-hr\\wav2vec2-large-slavic-parlaspeech-hr\"\n",
    "path_to_pshr_wav2vec2_l_lm = r\"D:\\ASR\\ParlaspeechHR\\wav2vec2-large-slavic-hr-lm\"\n",
    "\n",
    "test_audio_path = r\"D:\\ASR\\ParlaspeechHR\\wav2vec2-large-slavic-hr-lm\\nela_film_review.ogg\""
   ]
  },
  {
   "cell_type": "code",
   "execution_count": 9,
   "metadata": {
    "colab": {
     "base_uri": "https://localhost:8080/"
    },
    "execution": {
     "iopub.execute_input": "2024-06-16T17:01:55.321921Z",
     "iopub.status.busy": "2024-06-16T17:01:55.321921Z",
     "iopub.status.idle": "2024-06-16T17:01:55.324757Z",
     "shell.execute_reply": "2024-06-16T17:01:55.324757Z",
     "shell.execute_reply.started": "2024-06-16T17:01:55.321921Z"
    },
    "executionInfo": {
     "elapsed": 2210,
     "status": "ok",
     "timestamp": 1718358996758,
     "user": {
      "displayName": "Ivan Porupski",
      "userId": "03127310887960034948"
     },
     "user_tz": -120
    },
    "id": "aDFTbiSfHyu9",
    "outputId": "828f1e69-1cba-46eb-a187-0ad01bc92414"
   },
   "outputs": [],
   "source": [
    "# # Mount gdrive and place path (private, no download)\n",
    "# from google.colab import drive\n",
    "# drive.mount(\"/content/drive\")\n",
    "\n",
    "# model_file_path = \"/content/drive/MyDrive/pytorch/wav2vec2-large-slavic-hr\"\n",
    "# output_folder = \"/content/drive/MyDrive/pytorch/wav2vec2-large-slavic-hr/temp\"\n",
    "\n",
    "# model_file_path_lm = \"/content/drive/MyDrive/pytorch/wav2vec2-large-slavic-hr-lm\"\n",
    "# output_folder_lm = \"/content/drive/MyDrive/pytorch/wav2vec2-large-slavic-hr-lm/temp\""
   ]
  },
  {
   "cell_type": "markdown",
   "metadata": {
    "id": "hKlYE54RRsUH"
   },
   "source": [
    "## [3] Downloading wav2vec2 (plain or WithLM)"
   ]
  },
  {
   "cell_type": "code",
   "execution_count": 10,
   "metadata": {
    "colab": {
     "base_uri": "https://localhost:8080/"
    },
    "execution": {
     "iopub.execute_input": "2024-06-16T17:01:59.371285Z",
     "iopub.status.busy": "2024-06-16T17:01:59.371285Z",
     "iopub.status.idle": "2024-06-16T17:01:59.378299Z",
     "shell.execute_reply": "2024-06-16T17:01:59.378299Z",
     "shell.execute_reply.started": "2024-06-16T17:01:59.371285Z"
    },
    "executionInfo": {
     "elapsed": 298,
     "status": "ok",
     "timestamp": 1718359439487,
     "user": {
      "displayName": "Ivan Porupski",
      "userId": "03127310887960034948"
     },
     "user_tz": -120
    },
    "id": "65WVbDBfIgUw",
    "outputId": "16f08152-bfbd-4c0f-d16a-334b4fdaef48"
   },
   "outputs": [
    {
     "name": "stdout",
     "output_type": "stream",
     "text": [
      "Running localy, good luck\n",
      "\n",
      "Using model from path: D:\\ASR\\ParlaspeechHR\\wav2vec2-large-slavih-hr\\wav2vec2-large-slavic-parlaspeech-hr\n"
     ]
    }
   ],
   "source": [
    "# Download HF repository manually and place path (public, ~2GB download)\n",
    "import os\n",
    "\n",
    "\n",
    "if google_colabbing == True:\n",
    "    \n",
    "    from google.colab import drive\n",
    "    drive.mount(\"/content/drive\")\n",
    "\n",
    "    if choose_lm_model == False:\n",
    "      # Check if the directory exists\n",
    "      if not os.path.exists(\"/content/wav2vec2-large-slavic-parlaspeech-hr\"):\n",
    "          # Clone the repository if it doesn't exist\n",
    "          !git clone https://huggingface.co/classla/wav2vec2-large-slavic-parlaspeech-hr\n",
    "          os.makedirs(\"/content/wav2vec2-large-slavic-parlaspeech-hr/temp\", exist_ok=True)\n",
    "      else:\n",
    "          print(f\"wav2vec2-parlaspeech-hr already exists.\")\n",
    "    \n",
    "      model_file_path = \"/content/wav2vec2-large-slavic-parlaspeech-hr\"\n",
    "      print(f\"\\nUsing model from path: {model_file_path}\")\n",
    "    \n",
    "    else:\n",
    "      # Check if the directory exists\n",
    "      if not os.path.exists(\"/content/pytorch/wav2vec2-large-slavic-hr-lm\"):\n",
    "          # Clone the repository if it doesn't exist\n",
    "          !git clone https://huggingface.co/classla/wav2vec2-large-slavic-parlaspeech-hr-lm\n",
    "          os.makedirs(\"/content/wav2vec2-large-slavic-parlaspeech-hr-lm/temp\", exist_ok=True)\n",
    "      else:\n",
    "          print(f\"wav2vec2-parlaspeech-hr-lm already exists.\")\n",
    "    \n",
    "      model_file_path = \"/content/pytorch/wav2vec2-large-slavic-hr-lm\"\n",
    "      print(f\"\\nUsing model from path: {model_file_path}\")\n",
    "        \n",
    "else:\n",
    "    print(f\"Running localy, good luck\")\n",
    "    \n",
    "    if choose_lm_model == False:\n",
    "        model_file_path = path_to_pshr_wav2vec2_l\n",
    "    else: \n",
    "        model_file_path = path_to_pshr_wav2vec2_l_lm\n",
    "    print(f\"\\nUsing model from path: {model_file_path}\")\n",
    "\n"
   ]
  },
  {
   "cell_type": "markdown",
   "metadata": {
    "id": "ay3Tr6dBR0gn"
   },
   "source": [
    "## [4] Initilize the model!"
   ]
  },
  {
   "cell_type": "code",
   "execution_count": 11,
   "metadata": {
    "colab": {
     "base_uri": "https://localhost:8080/"
    },
    "execution": {
     "iopub.execute_input": "2024-06-16T17:02:03.194373Z",
     "iopub.status.busy": "2024-06-16T17:02:03.194373Z",
     "iopub.status.idle": "2024-06-16T17:02:10.968481Z",
     "shell.execute_reply": "2024-06-16T17:02:10.968481Z",
     "shell.execute_reply.started": "2024-06-16T17:02:03.194373Z"
    },
    "executionInfo": {
     "elapsed": 300,
     "status": "ok",
     "timestamp": 1718361529289,
     "user": {
      "displayName": "Ivan Porupski",
      "userId": "03127310887960034948"
     },
     "user_tz": -120
    },
    "id": "KbCTLV-yHiZh",
    "outputId": "97943b4f-e296-416a-e5b5-d25330207698"
   },
   "outputs": [
    {
     "name": "stderr",
     "output_type": "stream",
     "text": [
      "C:\\Users\\Public\\anaconda3\\envs\\PyPhon\\Lib\\site-packages\\transformers\\utils\\generic.py:441: UserWarning: torch.utils._pytree._register_pytree_node is deprecated. Please use torch.utils._pytree.register_pytree_node instead.\n",
      "  _torch_pytree._register_pytree_node(\n",
      "C:\\Users\\Public\\anaconda3\\envs\\PyPhon\\Lib\\site-packages\\transformers\\utils\\generic.py:309: UserWarning: torch.utils._pytree._register_pytree_node is deprecated. Please use torch.utils._pytree.register_pytree_node instead.\n",
      "  _torch_pytree._register_pytree_node(\n",
      "C:\\Users\\Public\\anaconda3\\envs\\PyPhon\\Lib\\site-packages\\transformers\\utils\\generic.py:309: UserWarning: torch.utils._pytree._register_pytree_node is deprecated. Please use torch.utils._pytree.register_pytree_node instead.\n",
      "  _torch_pytree._register_pytree_node(\n",
      "C:\\Users\\Public\\anaconda3\\envs\\PyPhon\\Lib\\site-packages\\transformers\\utils\\generic.py:309: UserWarning: torch.utils._pytree._register_pytree_node is deprecated. Please use torch.utils._pytree.register_pytree_node instead.\n",
      "  _torch_pytree._register_pytree_node(\n",
      "C:\\Users\\Public\\anaconda3\\envs\\PyPhon\\Lib\\site-packages\\torch\\cuda\\__init__.py:184: UserWarning: \n",
      "    Found GPU0 GeForce GTX 760 which is of cuda capability 3.0.\n",
      "    PyTorch no longer supports this GPU because it is too old.\n",
      "    The minimum cuda capability supported by this library is 3.7.\n",
      "    \n",
      "  warnings.warn(\n"
     ]
    },
    {
     "name": "stdout",
     "output_type": "stream",
     "text": [
      "CUDA not available or GPU is too old.\n",
      "device set to: CPU (cpu)\n",
      "device: cpu\n",
      "tokenizer0 not found. Making tokenizer0...\n",
      "feature_extractor0 not found. Making feature_extractor0...\n",
      "processor0 not found. Making processor0...\n",
      "model0 not found. Making model0... device cpu\n"
     ]
    },
    {
     "name": "stderr",
     "output_type": "stream",
     "text": [
      "Some weights of the model checkpoint at D:\\ASR\\ParlaspeechHR\\wav2vec2-large-slavih-hr\\wav2vec2-large-slavic-parlaspeech-hr were not used when initializing Wav2Vec2ForCTC: ['wav2vec2.encoder.pos_conv_embed.conv.weight_g', 'wav2vec2.encoder.pos_conv_embed.conv.weight_v']\n",
      "- This IS expected if you are initializing Wav2Vec2ForCTC from the checkpoint of a model trained on another task or with another architecture (e.g. initializing a BertForSequenceClassification model from a BertForPreTraining model).\n",
      "- This IS NOT expected if you are initializing Wav2Vec2ForCTC from the checkpoint of a model that you expect to be exactly identical (initializing a BertForSequenceClassification model from a BertForSequenceClassification model).\n",
      "Some weights of Wav2Vec2ForCTC were not initialized from the model checkpoint at D:\\ASR\\ParlaspeechHR\\wav2vec2-large-slavih-hr\\wav2vec2-large-slavic-parlaspeech-hr and are newly initialized: ['wav2vec2.encoder.pos_conv_embed.conv.parametrizations.weight.original0', 'wav2vec2.encoder.pos_conv_embed.conv.parametrizations.weight.original1']\n",
      "You should probably TRAIN this model on a down-stream task to be able to use it for predictions and inference.\n"
     ]
    }
   ],
   "source": [
    "from transformers import (\n",
    "    Wav2Vec2Processor,\n",
    "    Wav2Vec2ProcessorWithLM,\n",
    "    Wav2Vec2ForCTC,\n",
    "    Wav2Vec2FeatureExtractor,\n",
    "    Wav2Vec2CTCTokenizer,\n",
    "    Wav2Vec2Config,\n",
    "    AutoModelForCTC,\n",
    "    AutoProcessor,\n",
    ")\n",
    "import torch\n",
    "import os\n",
    "import kenlm\n",
    "from pyctcdecode import BeamSearchDecoderCTC, build_ctcdecoder\n",
    "\n",
    "# Set device as gpu, default = cpu\n",
    "if torch.cuda.is_available() and torch.cuda.get_device_capability(0)[0] >= 3.7:\n",
    "    device = torch.device(\"cuda:0\")  # Use GPU\n",
    "    print(\"Using GPU:\", torch.cuda.get_device_name(0))\n",
    "    print(\"CUDA available:\", torch.cuda.is_available())\n",
    "    print(\"CUDA version:\", torch.version.cuda)\n",
    "    print(\"cuDNN version:\", torch.backends.cudnn.version())\n",
    "    print(\"Device Name:\", torch.cuda.get_device_name(0))\n",
    "else:\n",
    "    device = torch.device(\"cpu\")  # Use CPU\n",
    "    print(\"CUDA not available or GPU is too old.\")\n",
    "    print(f\"device set to: CPU ({device})\")\n",
    "print(f\"device: {device}\")\n",
    "\n",
    "\n",
    "config_file_path = os.path.join(model_file_path, \"config.json\")\n",
    "config_json = Wav2Vec2Config.from_json_file(config_file_path)\n",
    "\n",
    "\n",
    "if choose_lm_model == False:\n",
    "  # Make the tokenizer\n",
    "  if 'tokenizer0' not in globals():\n",
    "    print(f\"tokenizer0 not found. Making tokenizer0...\")\n",
    "    tokenizer0 = Wav2Vec2CTCTokenizer(model_file_path + \"/vocab.json\",\n",
    "                                    unk_token=\"[UNK]\",\n",
    "                                    pad_token=\"[PAD]\",\n",
    "                                    word_delimiter_token=\"|\")\n",
    "  else:\n",
    "    print(f\"tokenizer0 exists.\")\n",
    "\n",
    "  # Make feature_extractor manually taken from preprocessor_config.json\n",
    "  if 'feature_extractor0' not in globals():\n",
    "    print(f\"feature_extractor0 not found. Making feature_extractor0...\")\n",
    "    feature_extractor0 = Wav2Vec2FeatureExtractor(feature_size=1,\n",
    "                                                sampling_rate=16000,\n",
    "                                                padding_value=0.0,\n",
    "                                                do_normalize=True,\n",
    "                                                return_attention_mask=True)\n",
    "  else:\n",
    "    print(f\"feature_extractor0 exists.\")\n",
    "\n",
    "  # Make the processor\n",
    "  if 'processor0' not in globals():\n",
    "    print(f\"processor0 not found. Making processor0...\")\n",
    "    processor0 = Wav2Vec2Processor.from_pretrained(model_file_path)\n",
    "  else:\n",
    "      print(\"processor0 exists.\")\n",
    "\n",
    "  # Make the model\n",
    "  if 'model0' not in globals():\n",
    "    print(f\"model0 not found. Making model0... device {device}\")\n",
    "    model0 = Wav2Vec2ForCTC.from_pretrained(model_file_path,\n",
    "                                            config=config_json).to(device)\n",
    "  else:\n",
    "    print(f\"model0 exists. device {device}\")\n",
    "  model0.to(device)\n",
    "  model0.eval()\n",
    "\n",
    "\n",
    "else:\n",
    "\n",
    "    processor0lm = AutoProcessor.from_pretrained(model_file_path)\n",
    "\n",
    "    vocab_lm_path = os.path.join(model_file_path, \"vocab.json\")\n",
    "    #print(vocab_lm_path)\n",
    "    tokenizer0lm = Wav2Vec2CTCTokenizer(\n",
    "        vocab_lm_path,\n",
    "        unk_token=\"[UNK]\",\n",
    "        pad_token=\"[PAD]\",\n",
    "        word_delimiter_token=\"|\",\n",
    "        )\n",
    "    feature_extractor0lm = Wav2Vec2FeatureExtractor(\n",
    "        feature_size=1,\n",
    "        sampling_rate=16000,\n",
    "        padding_value=0.0,\n",
    "        do_normalize=True,\n",
    "        return_attention_mask=True,\n",
    "        )\n",
    "    model0lm = AutoModelForCTC.from_pretrained(model_file_path).to(device)\n",
    "    \n",
    "  # # Make the tokenizer\n",
    "  # if 'tokenizer0lm' not in globals():\n",
    "  #   print(f\"tokenizer0lm not found. Making tokenizer0lm...\")\n",
    "  #   vocab_lm_path = os.path.join(model_file_path, \"vocab.json\")\n",
    "  #   tokenizer0lm = Wav2Vec2CTCTokenizer(vocab_lm_path,\n",
    "  #                                   unk_token=\"[UNK]\",\n",
    "  #                                   pad_token=\"[PAD]\",\n",
    "  #                                   word_delimiter_token=\"|\")\n",
    "  # else:\n",
    "  #   print(f\"tokenizer0lm exists.\")\n",
    "\n",
    "  # # Make feature_extractor manually taken from preprocessor_config.json\n",
    "  # if 'feature_extractor0lm' not in globals():\n",
    "  #   print(f\"feature_extractor0lm not found. Making feature_extractor0lm...\")\n",
    "  #   feature_extractor0lm = Wav2Vec2FeatureExtractor(feature_size=1,\n",
    "  #                                                   sampling_rate=16000,\n",
    "  #                                                   padding_value=0.0,\n",
    "  #                                                   do_normalize=True,\n",
    "  #                                                   return_attention_mask=True)\n",
    "  # else:\n",
    "  #   print(f\"feature_extractor0lm exists.\")\n",
    "\n",
    "  # # Make the processor\n",
    "  # if 'processor0lm' not in globals():\n",
    "  #   print(f\"processor0lm not found. Making processor0lm...\")\n",
    "  #   processor0lm = Wav2Vec2ProcessorWithLM.from_pretrained(model_file_path)\n",
    "  # else:\n",
    "  #   print(\"processor0lm exists.\")\n",
    "\n",
    "  # # Make the model\n",
    "  # if 'model0lm' not in globals():\n",
    "  #   print(f\"model0lm not found. Making model0lm...  device {device}\")\n",
    "  #   model0lm = Wav2Vec2ForCTC.from_pretrained(model_file_path,\n",
    "  #                                             config=config_file_path).to(device)\n",
    "  # else:\n",
    "  #     print(f\"model0lm exists. device {device}\")\n",
    "\n",
    "    \n",
    "    model0lm.to(device)\n",
    "    model0lm.eval()\n"
   ]
  },
  {
   "cell_type": "markdown",
   "metadata": {
    "id": "c8eTi90-R7E_"
   },
   "source": [
    "## [5] Define cutting down into temp chunks (now with DYNAMICS)"
   ]
  },
  {
   "cell_type": "code",
   "execution_count": 12,
   "metadata": {
    "colab": {
     "base_uri": "https://localhost:8080/"
    },
    "execution": {
     "iopub.execute_input": "2024-06-16T17:02:13.683418Z",
     "iopub.status.busy": "2024-06-16T17:02:13.683418Z",
     "iopub.status.idle": "2024-06-16T17:02:14.219447Z",
     "shell.execute_reply": "2024-06-16T17:02:14.219447Z",
     "shell.execute_reply.started": "2024-06-16T17:02:13.683418Z"
    },
    "executionInfo": {
     "elapsed": 272,
     "status": "ok",
     "timestamp": 1718360508968,
     "user": {
      "displayName": "Ivan Porupski",
      "userId": "03127310887960034948"
     },
     "user_tz": -120
    },
    "id": "15EPOU2EL7Xu",
    "outputId": "a676d1d2-e0d8-4746-a7d6-d1519087be8f"
   },
   "outputs": [
    {
     "name": "stdout",
     "output_type": "stream",
     "text": [
      "Is debug_printing on? True\n",
      "\n",
      "Transcription function defined and active: \n",
      "Splitting audio in: 20s segments (dynamically). \n",
      "\n"
     ]
    }
   ],
   "source": [
    "import torchaudio\n",
    "import numpy as np\n",
    "from pydub import AudioSegment\n",
    "\n",
    "import matplotlib.pyplot as plt\n",
    "\n",
    "TIME_CHUNK = 20\n",
    "target_sr=16000\n",
    "\n",
    "SILENCE_THRESHOLD = 0.01  # Threshold to detect silence\n",
    "MIN_SILENCE_LENGTH = 0.5  # Minimum length of silence to be considered a split point in seconds\n",
    "\n",
    "\n",
    "print(f\"Is debug_printing on? {debug_printing}\\n\")\n",
    "\n",
    "### PROCESSING ENGINE ###\n",
    "\n",
    "def process_transcribe(input_file):\n",
    "    \n",
    "        # Begin processing:\n",
    "        speech, sample_rate = torchaudio.load(input_file)\n",
    "\n",
    "        # Check if resampling is needed\n",
    "        if sample_rate != target_sr:\n",
    "            resampler = torchaudio.transforms.Resample(orig_freq=sample_rate, new_freq=target_sr)\n",
    "            speech = resampler(speech)\n",
    "\n",
    "        # Process the speech with the processor\n",
    "        input_values = processor0(speech, sampling_rate=target_sr, return_tensors=\"pt\").input_values.to(device)\n",
    "\n",
    "        if debug_printing == True:\n",
    "          print(input_values.shape)\n",
    "\n",
    "        if input_values.dim() == 3:  # If the shape is [1, 1, audio_length]\n",
    "            input_values = input_values.squeeze(0)  # Squeeze to [1, audio_length]\n",
    "\n",
    "        if debug_printing == True:\n",
    "          print(input_values.shape)\n",
    "\n",
    "        # Perform inference\n",
    "        with torch.inference_mode():\n",
    "            logits = model0(input_values).logits\n",
    "\n",
    "        if debug_printing == True:\n",
    "         print(\"Logits shape:\", logits.shape)\n",
    "\n",
    "        # Get the predicted token IDs (greedy decoding)\n",
    "        predicted_ids = torch.argmax(logits, dim=-1)\n",
    "\n",
    "        if debug_printing == True:\n",
    "          print(\"Predicted IDs shape:\", predicted_ids.shape)\n",
    "\n",
    "        # Convert predicted IDs to numpy array\n",
    "        predicted_ids = predicted_ids.cpu().numpy()\n",
    "\n",
    "        if debug_printing == True:\n",
    "          print(\"Predicted IDs (numpy):\", predicted_ids)\n",
    "\n",
    "        # Decode the predicted IDs\n",
    "        transcription = processor0.batch_decode(predicted_ids)[0]\n",
    "\n",
    "        if debug_printing == True:\n",
    "          print(\"Transcription:\", transcription)\n",
    "\n",
    "        return transcription\n",
    "\n",
    "\n",
    "\n",
    "def transcribe(input_file, output_folder, target_sr=target_sr, TIME_CHUNK=TIME_CHUNK):\n",
    "    # Load the audio\n",
    "    waveform, orig_sr = torchaudio.load(input_file)\n",
    "\n",
    "    # Check if resampling is needed\n",
    "    if orig_sr != target_sr:\n",
    "        resampler = torchaudio.transforms.Resample(orig_freq=orig_sr, new_freq=target_sr)\n",
    "        waveform = resampler(waveform)\n",
    "\n",
    "    # Determine the output file name and format (always WAV)\n",
    "    base_name = os.path.splitext(os.path.basename(input_file))[0]\n",
    "\n",
    "    # Convert waveform to numpy array for easier processing\n",
    "    waveform_np = waveform.squeeze().numpy()\n",
    "\n",
    "\n",
    "################### RUN THE WHOLE AUDIO FILES ##########################\n",
    "    if testing_asr == True:\n",
    "            # Directly process the entire audio without chunking\n",
    "            #output_file = os.path.join(output_folder, f\"{base_name}_whole.wav\")\n",
    "            #torchaudio.save(output_file, waveform, sample_rate=target_sr)\n",
    "            tekst = process_transcribe(input_file)\n",
    "            # print(f\"Transcription for {base_name}: {tekst}\")\n",
    "            print(tekst)\n",
    "            #os.remove(output_file)  # Optionally delete the temporary WAV file\n",
    "    \n",
    "######### ELSE CHUNKS BASED ON TIME_CHUNK INCREMENTS ##################\n",
    "    else:\n",
    "        # Function to detect silence points\n",
    "        def find_silence_points(signal, threshold, min_silence_length, sr):\n",
    "            silence_points = []\n",
    "            min_silence_samples = int(min_silence_length * sr)\n",
    "            is_silence = np.abs(signal) < threshold\n",
    "            silence_length = 0\n",
    "            for i in range(len(is_silence)):\n",
    "                if is_silence[i]:\n",
    "                    silence_length += 1\n",
    "                    if silence_length >= min_silence_samples:\n",
    "                        silence_points.append(i)\n",
    "                else:\n",
    "                    silence_length = 0\n",
    "            return silence_points\n",
    "\n",
    "\n",
    "        # Find silence points in the audio\n",
    "        silence_points = find_silence_points(waveform_np, SILENCE_THRESHOLD, MIN_SILENCE_LENGTH, target_sr)\n",
    "    \n",
    "        if debug_printing == True:\n",
    "    \n",
    "            print(f\"Plotting point where silence ({len(silence_points)} points) has been detected in {input_file}\")\n",
    "            # Plot the waveform and silence points\n",
    "            plt.figure(figsize=(15, 5))\n",
    "            plt.plot(waveform_np, label='Waveform')\n",
    "            plt.scatter(silence_points, waveform_np[silence_points], color='red', marker='x', label='Silence Points')\n",
    "            plt.xlabel('Samples')\n",
    "            plt.ylabel('Amplitude')\n",
    "            plt.title('Waveform with Silence Points')\n",
    "            plt.legend()\n",
    "            plt.show()\n",
    "    \n",
    "        # Split the audio at silence points\n",
    "        chunk_start = 0\n",
    "        for i, point in enumerate(silence_points):\n",
    "            chunk_end = point\n",
    "            if chunk_end - chunk_start >= TIME_CHUNK * target_sr:\n",
    "                chunk = waveform[:, chunk_start:chunk_end]\n",
    "                output_file = os.path.join(output_folder, f\"{base_name}_temp_chunk{i}.wav\")\n",
    "                torchaudio.save(output_file, chunk, sample_rate=target_sr)\n",
    "    \n",
    "                # Process the temporary WAV file\n",
    "                tekst = process_transcribe(output_file)\n",
    "                time = format_time(chunk_start / target_sr)\n",
    "                print(f\"[{time}] {tekst}\")\n",
    "    \n",
    "                # Optionally, you can delete the temporary WAV file after processing\n",
    "                os.remove(output_file)\n",
    "    \n",
    "                chunk_start = chunk_end\n",
    "                \n",
    "        def format_time(seconds):\n",
    "            minutes = int(seconds // 60)\n",
    "            seconds = int(seconds % 60)\n",
    "            return f\"{minutes:02d}:{seconds:02d}\"\n",
    "    \n",
    "        # Process the remaining audio if any\n",
    "        if chunk_start < waveform.size(1):\n",
    "            chunk = waveform[:, chunk_start:]\n",
    "            output_file = os.path.join(output_folder, f\"{base_name}_temp_chunk{len(silence_points)}.wav\")\n",
    "            torchaudio.save(output_file, chunk, sample_rate=target_sr)\n",
    "            tekst = process_transcribe(output_file)\n",
    "            time = format_time(chunk_start / target_sr)\n",
    "            print(f\"[{time}] {tekst}\")\n",
    "            os.remove(output_file)\n",
    "\n",
    "\n",
    "print(f\"Transcription function defined and active: \\nSplitting audio in: {TIME_CHUNK}s segments (dynamically). \\n\")\n"
   ]
  },
  {
   "cell_type": "code",
   "execution_count": 13,
   "metadata": {
    "execution": {
     "iopub.execute_input": "2024-06-16T17:02:19.457130Z",
     "iopub.status.busy": "2024-06-16T17:02:19.457130Z",
     "iopub.status.idle": "2024-06-16T17:02:19.459777Z",
     "shell.execute_reply": "2024-06-16T17:02:19.459664Z",
     "shell.execute_reply.started": "2024-06-16T17:02:19.457130Z"
    }
   },
   "outputs": [],
   "source": [
    "debug_printing = True"
   ]
  },
  {
   "cell_type": "code",
   "execution_count": 14,
   "metadata": {
    "colab": {
     "base_uri": "https://localhost:8080/"
    },
    "execution": {
     "iopub.execute_input": "2024-06-16T17:02:19.746322Z",
     "iopub.status.busy": "2024-06-16T17:02:19.746322Z",
     "iopub.status.idle": "2024-06-16T17:02:19.759846Z",
     "shell.execute_reply": "2024-06-16T17:02:19.759846Z",
     "shell.execute_reply.started": "2024-06-16T17:02:19.746322Z"
    },
    "executionInfo": {
     "elapsed": 272,
     "status": "ok",
     "timestamp": 1718360508968,
     "user": {
      "displayName": "Ivan Porupski",
      "userId": "03127310887960034948"
     },
     "user_tz": -120
    },
    "id": "15EPOU2EL7Xu",
    "outputId": "a676d1d2-e0d8-4746-a7d6-d1519087be8f"
   },
   "outputs": [
    {
     "name": "stdout",
     "output_type": "stream",
     "text": [
      "Is debug_printing on? True\n",
      "\n",
      "Transcription function defined and active: \n",
      "Splitting audio in: 20s segments (dynamically). \n",
      "\n"
     ]
    }
   ],
   "source": [
    "import torchaudio\n",
    "import numpy as np\n",
    "from pydub import AudioSegment\n",
    "\n",
    "import matplotlib.pyplot as plt\n",
    "\n",
    "TIME_CHUNK = 20\n",
    "target_sr=16000\n",
    "\n",
    "SILENCE_THRESHOLD = 0.01  # Threshold to detect silence\n",
    "MIN_SILENCE_LENGTH = 0.5  # Minimum length of silence to be considered a split point in seconds\n",
    "\n",
    "\n",
    "print(f\"Is debug_printing on? {debug_printing}\\n\")\n",
    "\n",
    "import os\n",
    "import torch\n",
    "import torchaudio\n",
    "from transformers import Wav2Vec2Processor, Wav2Vec2ForSequenceClassification\n",
    "\n",
    "# Assuming processor0lm and model0lm are initialized elsewhere\n",
    "# processor0lm = Wav2Vec2Processor.from_pretrained(...)\n",
    "# model0lm = Wav2Vec2ForSequenceClassification.from_pretrained(...)\n",
    "\n",
    "def process_transcribe_lm(input_file):\n",
    "\n",
    "    if debug_printing:\n",
    "        print(f\"input_file type {type(input_file)}\")\n",
    "        print(f\"input_file {input_file}\")\n",
    "    # Load audio and perform ASR using wav2vec2 with LM\n",
    "    speech, sample_rate = torchaudio.load(input_file)\n",
    "    \n",
    "    # Check if resampling is needed\n",
    "    target_sr = 16000  # Example target sampling rate\n",
    "    if sample_rate != target_sr:\n",
    "        resampler = torchaudio.transforms.Resample(orig_freq=sample_rate, new_freq=target_sr)\n",
    "        speech = resampler(speech)\n",
    "    \n",
    "    # Process the speech with the processor\n",
    "    input_values = processor0lm(speech, sampling_rate=target_sr, return_tensors=\"pt\").input_values.to(device)\n",
    "\n",
    "    if debug_printing:\n",
    "        print(\"Input values shape:\", input_values.shape)\n",
    "\n",
    "    # Ensure input_values has correct shape for model0lm\n",
    "    input_values = input_values.squeeze(0)  # Assuming batch_size=1\n",
    "\n",
    "    if debug_printing:\n",
    "        print(\"Adjusted input values shape:\", input_values.shape)\n",
    "\n",
    "    # Perform inference\n",
    "    with torch.no_grad():  # Inference mode\n",
    "        logits = model0lm(input_values).logits\n",
    "\n",
    "    #logits = logits.squeeze(0)\n",
    "    # Ensure logits is a list of tensors\n",
    "    #logits_list = [logits]  # Wrap logits in a list\n",
    "\n",
    "\n",
    "    if debug_printing:\n",
    "        print(\"Logits shape after processing:\", logits.shape)\n",
    "        #print(\"Logits max value:\", np.amax(logits, axis=1))\n",
    "\n",
    "\n",
    "\n",
    "\n",
    "    \n",
    "\n",
    "    if debug_printing:\n",
    "        print(\"Logits shape:\", logits.shape)\n",
    "\n",
    "    # Decode the predicted IDs\n",
    "    transcriptions = processor0lm.batch_decode(logits.numpy()).text\n",
    "\n",
    "    # Ensure transcription is returned as a string\n",
    "    transcription = transcriptions[0] if transcriptions else \"\"  # Assuming batch_size=1\n",
    "\n",
    "\n",
    "    if debug_printing:\n",
    "        print(\"Transcription:\", transcription)\n",
    "\n",
    "    return transcription\n",
    "\n",
    "\n",
    "\n",
    "def transcribe_lm(input_file, output_folder, target_sr=target_sr, TIME_CHUNK=TIME_CHUNK):\n",
    "    # Load the audio\n",
    "    waveform, orig_sr = torchaudio.load(input_file)\n",
    "\n",
    "    # Check if resampling is needed\n",
    "    if orig_sr != target_sr:\n",
    "        resampler = torchaudio.transforms.Resample(orig_freq=orig_sr, new_freq=target_sr)\n",
    "        waveform = resampler(waveform)\n",
    "\n",
    "    # Determine the output file name and format (always WAV)\n",
    "    base_name = os.path.splitext(os.path.basename(input_file))[0]\n",
    "\n",
    "    # Convert waveform to numpy array for easier processing\n",
    "    waveform_np = waveform.squeeze().numpy()\n",
    "\n",
    "    ################### RUN THE WHOLE AUDIO FILES ##########################\n",
    "    if testing_asr:\n",
    "        tekst = process_transcribe_lm(input_file)\n",
    "        print(f\"Transcription for {base_name}: {tekst}\")\n",
    "        # Optionally, save or process the transcription further\n",
    "        \n",
    "    \n",
    "        #return tekst\n",
    "\n",
    "\n",
    "\n",
    "# ################### RUN THE WHOLE AUDIO FILES ##########################\n",
    "#     if testing_asr == True:\n",
    "#             # Directly process the entire audio without chunking\n",
    "#             #output_file = os.path.join(output_folder, f\"{base_name}_whole.wav\")\n",
    "#             #torchaudio.save(output_file, waveform, sample_rate=target_sr)\n",
    "#             tekst = process_transcribe_lm(input_file)\n",
    "#             # print(f\"Transcription for {base_name}: {tekst}\")\n",
    "#             print(tekst)\n",
    "#             #os.remove(output_file)  # Optionally delete the temporary WAV file\n",
    "    \n",
    "######### ELSE CHUNKS BASED ON TIME_CHUNK INCREMENTS ##################\n",
    "    else:\n",
    "        # Function to detect silence points\n",
    "        def find_silence_points(signal, threshold, min_silence_length, sr):\n",
    "            silence_points = []\n",
    "            min_silence_samples = int(min_silence_length * sr)\n",
    "            is_silence = np.abs(signal) < threshold\n",
    "            silence_length = 0\n",
    "            for i in range(len(is_silence)):\n",
    "                if is_silence[i]:\n",
    "                    silence_length += 1\n",
    "                    if silence_length >= min_silence_samples:\n",
    "                        silence_points.append(i)\n",
    "                else:\n",
    "                    silence_length = 0\n",
    "            return silence_points\n",
    "\n",
    "\n",
    "        # Find silence points in the audio\n",
    "        silence_points = find_silence_points(waveform_np, SILENCE_THRESHOLD, MIN_SILENCE_LENGTH, target_sr)\n",
    "    \n",
    "        if debug_printing == True:\n",
    "    \n",
    "            print(f\"Plotting point where silence ({len(silence_points)} points) has been detected in {input_file}\")\n",
    "            # Plot the waveform and silence points\n",
    "            plt.figure(figsize=(15, 5))\n",
    "            plt.plot(waveform_np, label='Waveform')\n",
    "            plt.scatter(silence_points, waveform_np[silence_points], color='red', marker='x', label='Silence Points')\n",
    "            plt.xlabel('Samples')\n",
    "            plt.ylabel('Amplitude')\n",
    "            plt.title('Waveform with Silence Points')\n",
    "            plt.legend()\n",
    "            plt.show()\n",
    "    \n",
    "        # Split the audio at silence points\n",
    "        chunk_start = 0\n",
    "        for i, point in enumerate(silence_points):\n",
    "            chunk_end = point\n",
    "            if chunk_end - chunk_start >= TIME_CHUNK * target_sr:\n",
    "                chunk = waveform[:, chunk_start:chunk_end]\n",
    "                output_file = os.path.join(output_folder, f\"{base_name}_temp_chunk{i}.wav\")\n",
    "                torchaudio.save(output_file, chunk, sample_rate=target_sr)\n",
    "    \n",
    "                # Process the temporary WAV file\n",
    "                tekst = process_transcribe_lm(output_file)\n",
    "                time = format_time(chunk_start / target_sr)\n",
    "                print(f\"[{time}] {tekst}\")\n",
    "    \n",
    "                # Optionally, you can delete the temporary WAV file after processing\n",
    "                os.remove(output_file)\n",
    "    \n",
    "                chunk_start = chunk_end\n",
    "                \n",
    "        def format_time(seconds):\n",
    "            minutes = int(seconds // 60)\n",
    "            seconds = int(seconds % 60)\n",
    "            return f\"{minutes:02d}:{seconds:02d}\"\n",
    "    \n",
    "        # Process the remaining audio if any\n",
    "        if chunk_start < waveform.size(1):\n",
    "            chunk = waveform[:, chunk_start:]\n",
    "            output_file = os.path.join(output_folder, f\"{base_name}_temp_chunk{len(silence_points)}.wav\")\n",
    "            torchaudio.save(output_file, chunk, sample_rate=target_sr)\n",
    "            tekst = process_transcribe_lm(output_file)\n",
    "            time = format_time(chunk_start / target_sr)\n",
    "            print(f\"[{time}] {tekst}\")\n",
    "            os.remove(output_file)\n",
    "\n",
    "\n",
    "print(f\"Transcription function defined and active: \\nSplitting audio in: {TIME_CHUNK}s segments (dynamically). \\n\")\n"
   ]
  },
  {
   "cell_type": "markdown",
   "metadata": {
    "id": "x_ZwYCvBSBtG"
   },
   "source": [
    "## [6] Quick test to verify"
   ]
  },
  {
   "cell_type": "code",
   "execution_count": 15,
   "metadata": {
    "execution": {
     "iopub.execute_input": "2024-06-16T17:02:22.481929Z",
     "iopub.status.busy": "2024-06-16T17:02:22.481929Z",
     "iopub.status.idle": "2024-06-16T17:02:22.484798Z",
     "shell.execute_reply": "2024-06-16T17:02:22.484798Z",
     "shell.execute_reply.started": "2024-06-16T17:02:22.481929Z"
    }
   },
   "outputs": [],
   "source": [
    "path_to_pshr_wav2vec2_l = r\"D:\\ASR\\ParlaspeechHR\\wav2vec2-large-slavih-hr\\wav2vec2-large-slavic-parlaspeech-hr\"\n",
    "path_to_pshr_wav2vec2_l_lm = r\"D:\\ASR\\ParlaspeechHR\\wav2vec2-large-slavic-hr-lm\"\n",
    "\n",
    "#test_audio_path_pc = r\"D:\\ASR\\ParlaspeechHR\\wav2vec2-large-slavic-hr-lm\\nela_film_review.ogg\" # WORKS WELL\n",
    "test_audio_path_pc = r\"D:\\ASR\\ParlaspeechHR\\ivan_snimka.opus\""
   ]
  },
  {
   "cell_type": "code",
   "execution_count": 16,
   "metadata": {
    "colab": {
     "base_uri": "https://localhost:8080/"
    },
    "execution": {
     "iopub.execute_input": "2024-06-16T17:02:22.746058Z",
     "iopub.status.busy": "2024-06-16T17:02:22.746058Z",
     "iopub.status.idle": "2024-06-16T17:02:29.350914Z",
     "shell.execute_reply": "2024-06-16T17:02:29.350300Z",
     "shell.execute_reply.started": "2024-06-16T17:02:22.746058Z"
    },
    "executionInfo": {
     "elapsed": 27946,
     "status": "ok",
     "timestamp": 1718360448610,
     "user": {
      "displayName": "Ivan Porupski",
      "userId": "03127310887960034948"
     },
     "user_tz": -120
    },
    "id": "qovFsXvCNTEc",
    "outputId": "d50a5b1a-a99b-43aa-d938-6b758934dbd4"
   },
   "outputs": [
    {
     "name": "stdout",
     "output_type": "stream",
     "text": [
      "No chunking. Per file basis. (testing_asr = True)\n",
      "\n",
      "torch.Size([1, 1, 490526])\n",
      "torch.Size([1, 490526])\n",
      "Logits shape: torch.Size([1, 1532, 50])\n",
      "Predicted IDs shape: torch.Size([1, 1532])\n",
      "Predicted IDs (numpy): [[ 1  1  1 ...  1  1 11]]\n",
      "Transcription: sada ti šaljem glasovnu poruku i ne znam šta pričam ali evo pričam znači ovo tu mi je trebalo jedno 30 sati da dođem do ovog trenutka pričem normlno razgovjetno i nadam se da će transkripcija biti dobra naime ja to nisam izmislio nego su to zapravo r slovensa uzeli od facboka model i strenirali ga na govoru iz parlamenta specifično za hrvatski jeziki\n",
      "sada ti šaljem glasovnu poruku i ne znam šta pričam ali evo pričam znači ovo tu mi je trebalo jedno 30 sati da dođem do ovog trenutka pričem normlno razgovjetno i nadam se da će transkripcija biti dobra naime ja to nisam izmislio nego su to zapravo r slovensa uzeli od facboka model i strenirali ga na govoru iz parlamenta specifično za hrvatski jeziki\n"
     ]
    }
   ],
   "source": [
    "if testing_asr == True:\n",
    "    print(f\"No chunking. Per file basis. (testing_asr = {testing_asr})\\n\")\n",
    "else:\n",
    "    print(f\"Chunking audio! Using silence points. (testing_asr = {testing_asr})\\n\")\n",
    "\n",
    "\n",
    "if google_colabbing == True:\n",
    "\n",
    "    test_audio_path = \"/content/drive/MyDrive/pytorch/wav2vec2-large-slavic-hr-lm/ivan_snimka.opus\"\n",
    "    test_audio_temp = \"/content/wav2vec2-large-slavic-parlaspeech-hr/temp\"\n",
    "    \n",
    "else:\n",
    "    if choose_lm_model == False:\n",
    "        # Običan model\n",
    "        test_audio_path = test_audio_path_pc\n",
    "        test_audio_temp = path_to_pshr_wav2vec2_l + r\"\\temp\"\n",
    "        transcribe(test_audio_path, test_audio_temp)\n",
    "        \n",
    "    else:\n",
    "        # LM model\n",
    "        test_audio_path = test_audio_path_pc\n",
    "        test_audio_temp = path_to_pshr_wav2vec2_l_lm + r\"\\temp\"\n",
    "        transcribe_lm(test_audio_path, test_audio_temp)\n",
    "\n"
   ]
  },
  {
   "cell_type": "code",
   "execution_count": 21,
   "metadata": {
    "execution": {
     "iopub.execute_input": "2024-06-16T17:03:20.627641Z",
     "iopub.status.busy": "2024-06-16T17:03:20.627641Z",
     "iopub.status.idle": "2024-06-16T17:03:20.637907Z",
     "shell.execute_reply": "2024-06-16T17:03:20.637907Z",
     "shell.execute_reply.started": "2024-06-16T17:03:20.627641Z"
    }
   },
   "outputs": [
    {
     "name": "stdout",
     "output_type": "stream",
     "text": [
      "Vocabulary size: 50\n"
     ]
    }
   ],
   "source": [
    "# Check the vocabulary size of the processor\n",
    "if choose_lm_model:\n",
    "    vocab_size = len(processor0lm.tokenizer.get_vocab())\n",
    "else:\n",
    "    vocab_size = len(processor0.tokenizer.get_vocab())\n",
    "print(f\"Vocabulary size: {vocab_size}\")"
   ]
  },
  {
   "cell_type": "markdown",
   "metadata": {
    "id": "zENOebskRMRG"
   },
   "source": [
    "# MODEL IS NOW OPERATIONAL"
   ]
  },
  {
   "cell_type": "markdown",
   "metadata": {
    "id": "R8dG337mSHjb"
   },
   "source": [
    "## [7] Prepare to run ling analysis"
   ]
  },
  {
   "cell_type": "code",
   "execution_count": 22,
   "metadata": {
    "execution": {
     "iopub.execute_input": "2024-06-16T17:03:27.130695Z",
     "iopub.status.busy": "2024-06-16T17:03:27.129698Z",
     "iopub.status.idle": "2024-06-16T17:03:28.859931Z",
     "shell.execute_reply": "2024-06-16T17:03:28.859737Z",
     "shell.execute_reply.started": "2024-06-16T17:03:27.129698Z"
    },
    "id": "uXKBhHqgNS7M"
   },
   "outputs": [
    {
     "name": "stdout",
     "output_type": "stream",
     "text": [
      "Number of audio files in 'D:\\ParlaSpeech-HR.v1.0\\raw': 403925\n",
      "\n",
      "Number of entries in 'D:\\ParlaSpeech-HR.v1.0\\ParlaSpeech-HR.v1.0.jsonl': 403925\n",
      "\n",
      "CPU times: total: 469 ms\n",
      "Wall time: 1.73 s\n"
     ]
    }
   ],
   "source": [
    "%%time\n",
    "\n",
    "import os\n",
    "\n",
    "# Directory containing audio files\n",
    "path_to_pshr_raw_audio_data = r\"D:\\ParlaSpeech-HR.v1.0\\raw\"\n",
    "\n",
    "# List all files in the directory\n",
    "audio_files = os.listdir(path_to_pshr_raw_audio_data)\n",
    "\n",
    "# Count the number of audio files\n",
    "num_audio_files = len(audio_files)\n",
    "\n",
    "print(f\"Number of audio files in '{path_to_pshr_raw_audio_data}': {num_audio_files}\\n\")\n",
    "\n",
    "# JSONL file containing metadata\n",
    "path_to_pshr_raw_jsonl = r\"D:\\ParlaSpeech-HR.v1.0\\ParlaSpeech-HR.v1.0.jsonl\"\n",
    "\n",
    "# Counting lines in the JSONL file\n",
    "num_entries = 0\n",
    "with open(path_to_pshr_raw_jsonl, 'r', encoding='utf-8') as f:\n",
    "    for line in f:\n",
    "        num_entries += 1\n",
    "\n",
    "print(f\"Number of entries in '{path_to_pshr_raw_jsonl}': {num_entries}\\n\")\n"
   ]
  },
  {
   "cell_type": "code",
   "execution_count": 23,
   "metadata": {
    "execution": {
     "iopub.execute_input": "2024-06-16T17:03:31.728131Z",
     "iopub.status.busy": "2024-06-16T17:03:31.728131Z",
     "iopub.status.idle": "2024-06-16T17:03:31.735456Z",
     "shell.execute_reply": "2024-06-16T17:03:31.735456Z",
     "shell.execute_reply.started": "2024-06-16T17:03:31.728131Z"
    }
   },
   "outputs": [
    {
     "name": "stdout",
     "output_type": "stream",
     "text": [
      "audio_transcriptions: {'seg.-k1z8behXXg_14758.42-14778.39.flac': ['km', 'i', 'distribuira', 'ih', 'na', 'nekih', 'dvije', 'tisuće', 'šesto', 'priključaka', 'zahvaća', 'još', 'rubne', 'dijelove', 'nekih', 'drugih', 'lokalnih', 'jedinica', 'mogu', 'reć', 'da', 'ima', 'samo', 'osam', 'zaposlenih', 'ukupno', 'prihode', 'u', 'iznosu', 'od', 'četiriosam', 'milijuna', 'kuna', 'vrijednost', 'imovine', 'društva', 'četrdeset', 'pet', 'milijuna', 'kuna', 'evo', 'dvije', 'tisuće', 'četrnaest', 'do', 'dvije', 'tisuće', 'osamnaest', 'je', 'realizirano', 'je', 'ukupno'], 'seg.1s4JHlcC_rM_9059.24-9078.75.flac': ['i', 'sudskih', 'postupaka', 'nedovršeni', 'različiti', 'postupci', 'koji', 'se', 'vode', 'zbog', 'utvrđivanja', 'prava', 'vlasništva', 'aktivne', 'plombe', 'kao', 'i', 'zavrešeni', 'sudski', 'postupci', 'za', 'koje', 'u', 'zemljišnim', 'knjigama', 'nisu', 'brisane', 'zabilježbe', 'sporova', 'cilj', 'je', 'nekretnine', 'dovesti', 'u', 'stanje', 'imovinsko', 'pravne', 'ali', 'i'], 'seg.NZR9CXgZNKA_5559.45-5578.77.flac': ['međutim', 's', 'druge', 'strane', 'moramo', 'znati', 'da', 'vrlo', 'često', 'postoje', 'snažni', 'javni', 'opći', 'interesi', 'za', 'izgradnju', 'infrastrukturnih', 'objekata', 'za', 'izgradnjom', 'škola', 'bolnica', 'cesta', 'željezničke', 'infrastrukture', 'i', 'da', 'ti', 'objekti'], 'seg.a9Jz6KAkBFs_2680.84-2700.52.flac': ['se', 'pozivati', 'na', 'to', 'kao', 'da', 'je', 'on', 'jedini', 'bogom', 'dan', 'da', 'spasi', 'ovu', 'hrvatsku', 'a', 'svi', 'ostali', 'ništa', 'ne', 'razumiju', 'pa', 'se', 'tako', 'razbacaju', 'i', 'sa', 'riječima', 'i', 'sa', 'time', 'da', 'ne', 'respektira', 'šta', 'građani', 'erha', 'misle', 'o', 'ovom', 'konkretnom', 'slučaju', 'ne', 'respektira', 'o', 'tome', 'što', 'misle', 'da', 'on', 'krivo', 'vodi', 'hrvatsku'], 'seg.qNpeHxO0WzA_1967.6-1986.11.flac': ['primjeni', 'željezničkih', 'paketa', 'kojima', 'se', 'postupno', 'i', 'nezaustavljivo', 'stvara', 'jedinstveni', 'europski', 'željeznički', 'prostor', 'provedba', 'ovog', 'zakona', 'nema', 'financijski', 'utjecaj', 'na', 'državni', 'proračun', 'hvala', 'lijepo', 'zahvaljujem', 'ministru', 'imamo', 'sedam', 'replika', 'prvi', 'je', 'kolega', 'kirin', 'izvolite']}\n"
     ]
    }
   ],
   "source": [
    "import os\n",
    "import json\n",
    "\n",
    "# Paths to your data\n",
    "path_to_pshr_raw_audio_data = r\"D:\\ParlaSpeech-HR.v1.0\\raw\"\n",
    "path_to_pshr_raw_jsonl = r\"D:\\ParlaSpeech-HR.v1.0\\ParlaSpeech-HR.v1.0.jsonl\"\n",
    "\n",
    "# Limit number of transcriptions to print\n",
    "limit = 5\n",
    "count = 0\n",
    "\n",
    "# Read JSONL file\n",
    "audio_transcriptions = {}\n",
    "with open(path_to_pshr_raw_jsonl, 'r', encoding='utf-8') as jsonl_file:\n",
    "    for line in jsonl_file:\n",
    "        if count >= limit:\n",
    "            break\n",
    "        \n",
    "        data = json.loads(line.strip())\n",
    "        audio_filename = os.path.basename(data['path'])\n",
    "        audio_transcriptions[audio_filename] = data['norm_words']  # Use 'norm_words' or other transcription field\n",
    "        \n",
    "        count += 1\n",
    "        \n",
    "audio_transcriptions = dict(sorted(audio_transcriptions.items()))\n",
    "\n",
    "print(f\"audio_transcriptions: {audio_transcriptions}\")\n"
   ]
  },
  {
   "cell_type": "markdown",
   "metadata": {},
   "source": [
    "### Generiranje audio_transcriptions dict(sorted)"
   ]
  },
  {
   "cell_type": "code",
   "execution_count": 91,
   "metadata": {
    "execution": {
     "iopub.execute_input": "2024-06-16T16:37:23.531601Z",
     "iopub.status.busy": "2024-06-16T16:37:23.531601Z",
     "iopub.status.idle": "2024-06-16T16:37:36.223962Z",
     "shell.execute_reply": "2024-06-16T16:37:36.223895Z",
     "shell.execute_reply.started": "2024-06-16T16:37:23.531601Z"
    }
   },
   "outputs": [
    {
     "name": "stdout",
     "output_type": "stream",
     "text": [
      "FULL AUDIO_TRANSCRIPTIONS HERE\n",
      "CPU times: total: 12.7 s\n",
      "Wall time: 12.7 s\n"
     ]
    }
   ],
   "source": [
    "%%time\n",
    "\n",
    "print(f\"FULL AUDIO_TRANSCRIPTIONS HERE\")\n",
    "\n",
    "import os\n",
    "import json\n",
    "\n",
    "# Paths to your data\n",
    "path_to_pshr_raw_audio_data = r\"D:\\ParlaSpeech-HR.v1.0\\raw\"\n",
    "path_to_pshr_raw_jsonl = r\"D:\\ParlaSpeech-HR.v1.0\\ParlaSpeech-HR.v1.0.jsonl\"\n",
    "\n",
    "# Read JSONL file\n",
    "audio_transcriptions = {}\n",
    "with open(path_to_pshr_raw_jsonl, 'r', encoding='utf-8') as jsonl_file:\n",
    "    for line in jsonl_file:\n",
    "        data = json.loads(line.strip())\n",
    "        audio_filename = os.path.basename(data['path'])\n",
    "        audio_transcriptions[audio_filename] = data['norm_words']  # Use 'norm_words' or other transcription field\n",
    "\n",
    "audio_transcriptions = dict(sorted(audio_transcriptions.items()))\n",
    "\n"
   ]
  },
  {
   "cell_type": "code",
   "execution_count": 92,
   "metadata": {
    "execution": {
     "iopub.execute_input": "2024-06-16T16:37:36.225892Z",
     "iopub.status.busy": "2024-06-16T16:37:36.224896Z",
     "iopub.status.idle": "2024-06-16T16:37:36.396207Z",
     "shell.execute_reply": "2024-06-16T16:37:36.396207Z",
     "shell.execute_reply.started": "2024-06-16T16:37:36.225892Z"
    }
   },
   "outputs": [
    {
     "name": "stdout",
     "output_type": "stream",
     "text": [
      "Displaying first 3 audio names w/ transcription:\n",
      "\n",
      "debug_printing: True\n",
      "First 10 Files:\n",
      "['seg.-EO06cT21uY_10038.21-10054.64.flac', 'seg.-EO06cT21uY_10111.7-10131.55.flac', 'seg.-EO06cT21uY_10131.55-10147.16.flac', 'seg.-EO06cT21uY_10148.69-10167.91.flac', 'seg.-EO06cT21uY_10167.91-10186.62.flac', 'seg.-EO06cT21uY_10187.44-10207.4.flac', 'seg.-EO06cT21uY_10207.4-10227.1.flac', 'seg.-EO06cT21uY_10227.1-10246.72.flac', 'seg.-EO06cT21uY_10246.72-10265.92.flac', 'seg.-EO06cT21uY_10266.15-10285.99.flac']\n",
      "\n",
      "Audio Transcriptions:\n",
      "seg.-EO06cT21uY_10038.21-10054.64.flac: ['lijepo', 'kolegice', 'i', 'kolege', 'nemojte', 'se', 'vi', 'varda', 'hihotat', 'prije', 'četirig', 'ste', 'izdali', 'birače', 'sad', 'jedva', 'čekam', 'da', 'vidim', 'kako', 'će', 'vas', 'nagradit', 'jedva', 'čekam', 'hvala', 'lijepo', 'kolegice', 'i', 'kolega', 'kolege', 'zastupnici', 'g', 'potpredsjedniče']\n",
      "seg.-EO06cT21uY_10111.7-10131.55.flac: ['hadeze', 'želi', 'pokušati', 'dati', 'obećanje', 'za', 'šest', 'mjeseci', 'da', 'će', 'neki', 'građani', 'dobiti', 'osam', 'stotina', 'kuna', 'i', 'jedina', 'svrha', 'ovog', 'zakona', 'su', 'je', 'kampanja', 'odnosno', 'izbori', 'i', 'predizborna', 'kampanja', 'jer', 'kako', 'drugačije', 'objasniti', 'da', 'niste', 'dali', 'kada']\n",
      "seg.-EO06cT21uY_10131.55-10147.16.flac: ['ste', 'imali', 'rast', 'tri', 'posto', 'a', 'sada', 'predlaže', 'kao', 'fol', 'g', 'aladrović', 'i', 'plenković', 'se', 'brinu', 'za', 'naše', 'starije', 'sugrađane', 'i', 'evo', 'kad', 'ćemo', 'imati', 'pad', 'od', 'deset', 'posto', 'izdvojili', 'su', 'osamsto', 'kuna']\n",
      "\n",
      "Correlating audio files with transcriptions:\n",
      "\n",
      "Audio File:\n",
      "seg.-EO06cT21uY_10038.21-10054.64.flac\n",
      "\n",
      "Transcription:\n",
      "lijepo kolegice i kolege nemojte se vi varda hihotat prije četirig ste izdali birače sad jedva čekam da vidim kako će vas nagradit jedva čekam hvala lijepo kolegice i kolega kolege zastupnici g potpredsjedniče\n",
      "------------------------------\n",
      "\n",
      "\n",
      "Audio File:\n",
      "seg.-EO06cT21uY_10111.7-10131.55.flac\n",
      "\n",
      "Transcription:\n",
      "hadeze želi pokušati dati obećanje za šest mjeseci da će neki građani dobiti osam stotina kuna i jedina svrha ovog zakona su je kampanja odnosno izbori i predizborna kampanja jer kako drugačije objasniti da niste dali kada\n",
      "------------------------------\n",
      "\n",
      "\n",
      "Audio File:\n",
      "seg.-EO06cT21uY_10131.55-10147.16.flac\n",
      "\n",
      "Transcription:\n",
      "ste imali rast tri posto a sada predlaže kao fol g aladrović i plenković se brinu za naše starije sugrađane i evo kad ćemo imati pad od deset posto izdvojili su osamsto kuna\n",
      "------------------------------\n",
      "\n",
      "\n",
      "CPU times: total: 172 ms\n",
      "Wall time: 166 ms\n"
     ]
    }
   ],
   "source": [
    "%%time\n",
    "\n",
    "# Print limited number of audio_transcriptions\n",
    "limit = 3\n",
    "count = 0\n",
    "\n",
    "print(f\"Displaying first {limit} audio names w/ transcription:\\n\")\n",
    "\n",
    "# List all files in the directory\n",
    "all_files = os.listdir(path_to_pshr_raw_audio_data)\n",
    "\n",
    "# Sort the files alphabetically or by any other criteria, if needed\n",
    "all_files.sort()\n",
    "\n",
    "# Select the first 10 files\n",
    "first_10_files = all_files[:10]\n",
    "\n",
    "print(f\"debug_printing: {debug_printing}\")\n",
    "\n",
    "if debug_printing == True:\n",
    "    # Debug prints\n",
    "    print(\"First 10 Files:\")\n",
    "    print(first_10_files)\n",
    "    print(\"\\nAudio Transcriptions:\")\n",
    "\n",
    "for filename, transcription in audio_transcriptions.items():\n",
    "    if count >= limit:\n",
    "        break\n",
    "    if debug_printing == True:\n",
    "        print(f\"{filename}: {transcription}\")\n",
    "    count += 1\n",
    "\n",
    "# Step 3: Correlate audio files with transcriptions (limiting to 'limit' iterations)\n",
    "print(\"\\nCorrelating audio files with transcriptions:\\n\")\n",
    "for i, audio_file in enumerate(first_10_files[:limit]):\n",
    "    if audio_file in audio_transcriptions:\n",
    "        transcription = ' '.join(audio_transcriptions[audio_file])\n",
    "        print(f\"Audio File:\\n{audio_file}\\n\\nTranscription:\\n{transcription}\")\n",
    "    else:\n",
    "        print(f\"No transcription found for {audio_file}\")\n",
    "    \n",
    "    # Add a separator between iterations for clarity, except after the last item\n",
    "    if i < (limit):\n",
    "        print(\"-\" * 30)\n",
    "        print(\"\\n\")\n"
   ]
  },
  {
   "cell_type": "markdown",
   "metadata": {},
   "source": [
    "# TESTING TRANSCRIPTIONS now"
   ]
  },
  {
   "cell_type": "code",
   "execution_count": null,
   "metadata": {},
   "outputs": [],
   "source": [
    "# Iterate over the first 5 .flac files\n",
    "for i, audio_file in enumerate(all_files[:5]):\n",
    "    if audio_file.endswith('.flac'):\n",
    "        flac_audio_path = os.path.join(path_to_pshr_raw_audio_data, audio_file)\n",
    "        transcribe(flac_audio_path, test_audio_temp)\n",
    "    else:\n",
    "        print(f\"Skipping non-FLAC file: {audio_file}\")\n",
    "\n",
    "    # Add a separator between iterations for clarity\n",
    "    if i < 4:  # Adjust the limit based on the number of files you want to process\n",
    "        print(\"-\" * 30)"
   ]
  },
  {
   "cell_type": "code",
   "execution_count": 24,
   "metadata": {
    "execution": {
     "iopub.execute_input": "2024-06-16T17:03:42.339096Z",
     "iopub.status.busy": "2024-06-16T17:03:42.339096Z",
     "iopub.status.idle": "2024-06-16T17:03:42.919099Z",
     "shell.execute_reply": "2024-06-16T17:03:42.919099Z",
     "shell.execute_reply.started": "2024-06-16T17:03:42.339096Z"
    }
   },
   "outputs": [
    {
     "name": "stdout",
     "output_type": "stream",
     "text": [
      "Functions online.\n"
     ]
    }
   ],
   "source": [
    "## NEW\n",
    "\n",
    "import os\n",
    "from jiwer import wer\n",
    "from fuzzywuzzy import fuzz\n",
    "\n",
    "similarity_threshold = 50  # Example threshold, can be adjusted based on requirements\n",
    "max_search_distance = 3  # Maximum number of tokens to search ahead for a match\n",
    "\n",
    "# Function to tokenize text by removing dots and commas, then splitting into tokens\n",
    "def tokenize_text(text):\n",
    "    # Remove dots and commas\n",
    "    if debug_printing == True:\n",
    "        print(f\"Type of text: {type(text)}\")\n",
    "    \n",
    "    text = text.replace('.', '').replace(',', '')\n",
    "    # Convert to lowercase and split into tokens\n",
    "    tokens = text.lower().split()\n",
    "    return tokens\n",
    "\n",
    "# Function to normalize numbers within tokens\n",
    "def normalize_numbers(tokens, norm_nums):\n",
    "    def decompose_number(num):\n",
    "        components = []\n",
    "        if num >= 1000:\n",
    "            thousands = num // 1000 * 1000\n",
    "            components.append(thousands)\n",
    "            num %= 1000\n",
    "        if num >= 100:\n",
    "            hundreds = num // 100 * 100\n",
    "            components.append(hundreds)\n",
    "            num %= 100\n",
    "        if num >= 20:\n",
    "            tens = num // 10 * 10\n",
    "            components.append(tens)\n",
    "            num %= 10\n",
    "        if num > 0:\n",
    "            components.append(num)\n",
    "        return components\n",
    "\n",
    "    normalized_tokens = []\n",
    "    for token in tokens:\n",
    "        if token.isdigit():\n",
    "            num = int(token)\n",
    "            components = decompose_number(num)\n",
    "            for component in components:\n",
    "                if component in norm_nums:\n",
    "                    normalized_tokens.append(norm_nums[component])\n",
    "        elif token.lower() in norm_nums:\n",
    "            normalized_tokens.append(norm_nums[token.lower()])\n",
    "        else:\n",
    "            normalized_tokens.append(token)\n",
    "    \n",
    "    # Flatten the list in case there are combined tokens like \"dvije tisuće\"\n",
    "    flattened_tokens = []\n",
    "    for token in normalized_tokens:\n",
    "        if ' ' in token:\n",
    "            flattened_tokens.extend(token.split())\n",
    "        else:\n",
    "            flattened_tokens.append(token)\n",
    "    \n",
    "    return flattened_tokens\n",
    "    \n",
    "\n",
    "\n",
    "# OLD BUT GOOD Function to normalize numbers based on the predefined mapping\n",
    "# def normalize_numbers(tokens, norm_nums):\n",
    "#     normalized_tokens = []\n",
    "#     for token in tokens:\n",
    "#         if token.lower() in norm_nums:\n",
    "#             normalized_tokens.append(norm_nums[token.lower()])\n",
    "#         elif token.isdigit() and int(token) in norm_nums:\n",
    "#             normalized_tokens.append(norm_nums[int(token)])\n",
    "#         else:\n",
    "#             normalized_tokens.append(token)\n",
    "#     return normalized_tokens\n",
    "\n",
    "# Function to align ASR tokens with original tokens based on character similarity\n",
    "def align_tokens(original_tokens, asr_tokens, similarity_threshold=similarity_threshold):\n",
    "    aligned_asr_tokens = []\n",
    "    asr_index = 0\n",
    "    \n",
    "    for original_token in original_tokens:\n",
    "        found_match = False\n",
    "        search_end = min(asr_index + max_search_distance, len(asr_tokens))\n",
    "        for i in range(asr_index, search_end):\n",
    "            asr_token = asr_tokens[i]\n",
    "            similarity = fuzz.ratio(original_token, asr_token)\n",
    "            \n",
    "            if debug_printing == True:\n",
    "                print(f\"Comparing original token '{original_token}' with ASR token '{asr_token}': Similarity = {similarity}\")\n",
    "                \n",
    "            if similarity >= similarity_threshold:\n",
    "                # Found a match, so align both original and ASR tokens\n",
    "                aligned_asr_tokens.append(asr_token)\n",
    "                asr_index = i + 1  # Move the ASR index forward\n",
    "                found_match = True\n",
    "                \n",
    "                if debug_printing == True:\n",
    "                    print(f\"Match found for '{original_token}' with '{asr_token}'\")\n",
    "                    \n",
    "                break\n",
    "        \n",
    "        if not found_match:\n",
    "            # No match found within the search distance, handle as needed (optional)\n",
    "            # For simplicity, you can decide to skip or handle cases where no match is found\n",
    "            if debug_printing == True:\n",
    "                print(f\"No match found for '{original_token}', handling case...\")\n",
    "    \n",
    "    if debug_printing == True:\n",
    "        print(f\"Aligned ASR tokens: {aligned_asr_tokens}\\n\")\n",
    "        \n",
    "    return aligned_asr_tokens\n",
    "\n",
    "print(f\"Functions online.\")"
   ]
  },
  {
   "cell_type": "markdown",
   "metadata": {},
   "source": [
    "## Definiranje znamenki (robustnost)"
   ]
  },
  {
   "cell_type": "code",
   "execution_count": 25,
   "metadata": {
    "execution": {
     "iopub.execute_input": "2024-06-16T17:03:43.794230Z",
     "iopub.status.busy": "2024-06-16T17:03:43.793233Z",
     "iopub.status.idle": "2024-06-16T17:03:43.799776Z",
     "shell.execute_reply": "2024-06-16T17:03:43.799724Z",
     "shell.execute_reply.started": "2024-06-16T17:03:43.794230Z"
    }
   },
   "outputs": [],
   "source": [
    "# Define the mappings for numbers in Croatian\n",
    "norm_nums = {\n",
    "    1: 'jedan',\n",
    "    2: 'dva',\n",
    "    3: 'tri',\n",
    "    4: 'četiri',\n",
    "    5: 'pet',\n",
    "    6: 'šest',\n",
    "    7: 'sedam',\n",
    "    8: 'osam',\n",
    "    9: 'devet',\n",
    "    10: 'deset',\n",
    "    11: 'jedanaest',\n",
    "    12: 'dvanaest',\n",
    "    13: 'trinaest',\n",
    "    14: 'četrnaest',\n",
    "    15: 'petnaest',\n",
    "    16: 'šesnaest',\n",
    "    17: 'sedamnaest',\n",
    "    18: 'osamnaest',\n",
    "    19: 'devetnaest',\n",
    "    20: 'dvadeset',\n",
    "    30: 'trideset',\n",
    "    40: 'četrdeset',\n",
    "    50: 'pedeset',\n",
    "    60: 'šezdeset',\n",
    "    70: 'sedamdeset',\n",
    "    80: 'osamdeset',\n",
    "    90: 'devedeset',\n",
    "    100: 'sto',\n",
    "    200: 'dvjesto',\n",
    "    300: 'tristo',\n",
    "    400: 'četiristo',\n",
    "    500: 'petsto',\n",
    "    600: 'šesto',\n",
    "    700: 'sedamsto',\n",
    "    800: 'osamsto',\n",
    "    900: 'devetsto',\n",
    "    1000: 'tisuća',\n",
    "    2000: 'dvije tisuće',  # Two thousand\n",
    "    3000: 'tri tisuće',    # Three thousand\n",
    "    4000: 'četiri tisuće', # Four thousand\n",
    "    5000: 'pet tisuća',    # Five thousand\n",
    "    6000: 'šest tisuća',   # Six thousand\n",
    "    7000: 'sedam tisuća',  # Seven thousand\n",
    "    8000: 'osam tisuća',   # Eight thousand\n",
    "    9000: 'devet tisuća',  # Nine thousand\n",
    "}\n",
    "\n",
    "# Create the reverse mapping for Croatian numbers\n",
    "norm_nums_reverse = {value: key for key, value in norm_nums.items()}\n"
   ]
  },
  {
   "cell_type": "code",
   "execution_count": 26,
   "metadata": {
    "execution": {
     "iopub.execute_input": "2024-06-16T17:03:44.601805Z",
     "iopub.status.busy": "2024-06-16T17:03:44.601805Z",
     "iopub.status.idle": "2024-06-16T17:03:44.605819Z",
     "shell.execute_reply": "2024-06-16T17:03:44.605819Z",
     "shell.execute_reply.started": "2024-06-16T17:03:44.601805Z"
    }
   },
   "outputs": [
    {
     "name": "stdout",
     "output_type": "stream",
     "text": [
      "Type of text: <class 'str'>\n",
      "Tokens: ['ovo', 'je', '2012', 'godina', 'zar', 'ne']\n",
      "Normalized Tokens: ['ovo', 'je', 'dvije', 'tisuće', 'dvanaest', 'godina', 'zar', 'ne']\n"
     ]
    }
   ],
   "source": [
    "# Example usage\n",
    "tekst = \"Ovo je 2012. godina, zar ne\"\n",
    "\n",
    "asr_tokens = tokenize_text(tekst)\n",
    "print(\"Tokens:\", asr_tokens)\n",
    "\n",
    "normalized_tokens = normalize_numbers(asr_tokens, norm_nums)\n",
    "normalized_tokens = normalized_tokens\n",
    "print(\"Normalized Tokens:\", normalized_tokens)\n",
    "\n",
    "# Expected output\n",
    "# Tokens: ['ovo', 'je', '2012', 'godina', 'zar', 'ne']\n",
    "# Normalized Tokens: ['ovo', 'je', 'dvije', 'tisuće', 'dvanaest', 'godina', 'zar', 'ne']"
   ]
  },
  {
   "cell_type": "markdown",
   "metadata": {},
   "source": [
    "## Run WER matching"
   ]
  },
  {
   "cell_type": "code",
   "execution_count": 30,
   "metadata": {
    "execution": {
     "iopub.execute_input": "2024-06-16T17:04:18.118027Z",
     "iopub.status.busy": "2024-06-16T17:04:18.118027Z",
     "iopub.status.idle": "2024-06-16T17:04:18.139839Z",
     "shell.execute_reply": "2024-06-16T17:04:18.139839Z",
     "shell.execute_reply.started": "2024-06-16T17:04:18.118027Z"
    }
   },
   "outputs": [
    {
     "name": "stdout",
     "output_type": "stream",
     "text": [
      "Loading WER_results for OLD DEFAULT VERSION...\n",
      "Loaded WER_results from: D:\\ASR\\ParlaspeechHR\\wav2vec2-large-slavih-hr\\wav2vec2-large-slavic-parlaspeech-hr\\WER_results_v3.3.json\n"
     ]
    }
   ],
   "source": [
    "debug_printing = False\n",
    "WER_results = []\n",
    "WER_results_LM = []\n",
    "\n",
    "import os\n",
    "import json\n",
    "\n",
    "\n",
    "if choose_lm_model == False:\n",
    "    dict_file_path = path_to_pshr_wav2vec2_l\n",
    "    wer_plot_save_path = dict_file_path\n",
    "    dict_main_name = f\"WER_results_{work_version}.json\"\n",
    "    old_default_version = \"v3.3\"\n",
    "    old_dict_main_name = f\"WER_results_{old_default_version}.json\"\n",
    "    \n",
    "else: \n",
    "    dict_file_path = path_to_pshr_wav2vec2_l_lm\n",
    "    wer_plot_save_path = dict_file_path\n",
    "    dict_main_name = f\"WER_results_LM_{work_version}.json\"\n",
    "    old_default_version_lm = \"v3.3\"\n",
    "    old_dict_main_name = f\"WER_results_LM_{old_default_version_lm}.json\"\n",
    "\n",
    "\n",
    "# dict_main_name = f\"WER_results_{work_version}.json\"\n",
    "# old_default_version = \"v3.2\"\n",
    "# old_dict_main_name = f\"WER_results_{old_default_version}.json\"\n",
    "\n",
    "dict_file_path_full = os.path.join(dict_file_path, dict_main_name)\n",
    "old_dict_file_path_full = os.path.join(dict_file_path, old_dict_main_name)\n",
    "\n",
    "# Check if the file for the current work version exists\n",
    "if os.path.exists(dict_file_path_full):\n",
    "    print(f\"Loading WER_results for CURRENT VERSION...\")\n",
    "    # Load existing data from JSON file for current version\n",
    "    with open(dict_file_path_full, \"r\") as f:\n",
    "        WER_results = json.load(f)\n",
    "    print(f\"Loaded WER_results from: {dict_file_path_full}\")\n",
    "    wer_plot_from_version = dict_main_name\n",
    "    \n",
    "\n",
    "# Check if the file for the old default version exists\n",
    "elif os.path.exists(old_dict_file_path_full):\n",
    "    print(f\"Loading WER_results for OLD DEFAULT VERSION...\")\n",
    "    # Load existing data from JSON file for old default version\n",
    "    with open(old_dict_file_path_full, \"r\") as f:\n",
    "        WER_results = json.load(f)\n",
    "    print(f\"Loaded WER_results from: {old_dict_file_path_full}\")\n",
    "    wer_plot_from_version = old_dict_main_name\n",
    "\n",
    "# Neither file exists, initialize WER_results as an empty list\n",
    "else:\n",
    "    WER_results = []\n",
    "    WER_results_LM = []\n",
    "    print(f\"No WER_results or _LM Dict found for either current or old default version.\\nMaking a new empty one...\")\n",
    "\n",
    "\n",
    "    \n",
    "# dict_main_name = f\"WER_results_{work_version}.json\"\n",
    "\n",
    "# dict_file_path_full = os.path.join(dict_file_path, dict_main_name)\n",
    "\n",
    "\n",
    "# # Check if the file exists\n",
    "# if os.path.exists(dict_file_path_full):\n",
    "    \n",
    "#     print(f\"Loading WER_results...\")\n",
    "#     # Load existing data from JSON file\n",
    "#     with open(dict_file_path_full, \"r\") as f:\n",
    "#         WER_results = json.load(f)\n",
    "#     print(f\"Loaded WER_results from: {dict_file_path_full}\")\n",
    "    \n",
    "# else:\n",
    "#     # Initialize WER_results as an empty list\n",
    "#     WER_results = []\n",
    "#     print(f\"No WER_results Dict found.\\nMaking a new empty one...\")\n",
    "\n",
    "\n",
    "# with open(dict_file_path_full, \"w\") as f:\n",
    "#     json.dump(WER_results, f, indent=4)\n",
    "\n",
    "# print(f\"Saving dict to: {dict_file_path}\\  \\n\\nFilename: {dict_main_name}\\n\")"
   ]
  },
  {
   "cell_type": "code",
   "execution_count": 32,
   "metadata": {
    "execution": {
     "iopub.execute_input": "2024-06-16T17:04:31.499112Z",
     "iopub.status.busy": "2024-06-16T17:04:31.499112Z",
     "iopub.status.idle": "2024-06-16T17:04:38.643746Z",
     "shell.execute_reply": "2024-06-16T17:04:38.643319Z",
     "shell.execute_reply.started": "2024-06-16T17:04:31.499112Z"
    }
   },
   "outputs": [
    {
     "name": "stderr",
     "output_type": "stream",
     "text": [
      "Run 1: 100%|█████████████████████████████████████████████████████████████████████████████| 2/2 [00:07<00:00,  3.56s/it]"
     ]
    },
    {
     "name": "stdout",
     "output_type": "stream",
     "text": [
      "\n",
      "Saved dict to: D:\\ASR\\ParlaspeechHR\\wav2vec2-large-slavih-hr\\wav2vec2-large-slavic-parlaspeech-hr\\  \n",
      "\n",
      "Filename: WER_results_v3.4.json\n",
      "\n",
      "Number of runs: 1\n",
      "Total number of audio processed: 2\n",
      "\n",
      "Number of WER_results: 1988\n",
      "\n",
      "CPU times: total: 1min 12s\n",
      "Wall time: 7.13 s\n"
     ]
    },
    {
     "name": "stderr",
     "output_type": "stream",
     "text": [
      "\n"
     ]
    }
   ],
   "source": [
    "%%time\n",
    "\n",
    "# treba 4s po jednom audio fileu\n",
    "\n",
    "import random\n",
    "from tqdm import tqdm\n",
    "import json\n",
    "\n",
    "# Variables to accumulate metrics\n",
    "num_runs = 1  # Number of runs to average over (SAVES DICT EACH RUN)\n",
    "max_files_to_process = 2  # Number of files to process per run (20 files = 1 min)\n",
    "\n",
    "transcription_list = list(audio_transcriptions.items())\n",
    "\n",
    "# Iterate over each run\n",
    "for run in range(num_runs):\n",
    "    total_asr_deletions = 0\n",
    "    total_asr_additions = 0\n",
    "    total_asr_substitutions = 0  # Total substitutions across all files\n",
    "    total_tokens = 0\n",
    "    total_error_rate = 0.0\n",
    "    n = 0  # Number of files processed\n",
    "    \n",
    "    # Shuffle the transcription list for each run if needed\n",
    "    if shuffle_transcript == True:\n",
    "        random.shuffle(transcription_list)\n",
    "    \n",
    "    # Use tqdm to show progress for processing each file in the run\n",
    "    with tqdm(total=max_files_to_process, desc=f\"Run {run+1}\") as pbar:\n",
    "        # Process up to max_files_to_process files for this run\n",
    "        run_results = []\n",
    "        for file_idx in range(min(max_files_to_process, len(transcription_list))):  # Ensure we don't exceed the list length\n",
    "            input_file, transcription = transcription_list[file_idx]\n",
    "\n",
    "\n",
    "\n",
    "            if choose_lm_model == False:\n",
    "                # Process transcription from ASR system\n",
    "                tekst = process_transcribe(os.path.join(path_to_pshr_raw_audio_data, input_file))\n",
    "\n",
    "            else:\n",
    "                tekst = process_transcribe_lm(os.path.join(path_to_pshr_raw_audio_data, input_file))\n",
    "\n",
    "            \n",
    "            # Get original transcription from dictionary\n",
    "            original_transcription = ' '.join(audio_transcriptions[input_file])\n",
    "            \n",
    "            # Tokenize both transcriptions\n",
    "            original_tokens = tokenize_text(original_transcription)\n",
    "            asr_tokens = tokenize_text(tekst)\n",
    "        \n",
    "            # Normalize numbers in ASR tokens\n",
    "            normalized_asr_tokens = normalize_numbers(asr_tokens, norm_nums)\n",
    "        \n",
    "            # Align ASR tokens with original tokens based on character similarity\n",
    "            aligned_asr_tokens = align_tokens(original_tokens, normalized_asr_tokens, similarity_threshold=similarity_threshold)\n",
    "        \n",
    "            # Calculate error metrics\n",
    "            asr_deletion = len(original_tokens) - len(aligned_asr_tokens)\n",
    "            asr_addition = len(normalized_asr_tokens) - len(aligned_asr_tokens)\n",
    "            \n",
    "            # Calculate substitutions between original and aligned ASR tokens\n",
    "            substitutions = 0\n",
    "            for orig_token, asr_token in zip(original_tokens, aligned_asr_tokens):\n",
    "                if orig_token != asr_token:\n",
    "                    substitutions += 1\n",
    "            \n",
    "            total_asr_substitutions += substitutions\n",
    "            total_tokens = len(original_tokens)\n",
    "            error_rate = (asr_deletion + asr_addition + substitutions) / total_tokens\n",
    "        \n",
    "            # Accumulate metrics\n",
    "            total_asr_deletions += asr_deletion\n",
    "            total_asr_additions += asr_addition\n",
    "            total_error_rate += error_rate\n",
    "            n += 1\n",
    "\n",
    "            # Store individual file results for this run including substitutions\n",
    "            file_result = {\n",
    "                \"input_file\": input_file,\n",
    "                \"tokens\": total_tokens,\n",
    "                \"asr_deletions\": asr_deletion,\n",
    "                \"asr_additions\": asr_addition,\n",
    "                \"asr_substitutions\": substitutions,\n",
    "                \"error_rate\": error_rate\n",
    "            }\n",
    "\n",
    "            WER_results.append(file_result)  # Append to WER_results\n",
    "        \n",
    "            # Update tqdm progress bar\n",
    "            pbar.update(1)\n",
    "    \n",
    "            # Print or use the error metric for each file as needed\n",
    "            if debug_printing == True:\n",
    "                print(f\"Transcription {input_file}: {tekst}\")\n",
    "                print(f\"original_tokens: \\n{original_tokens}\\n\")\n",
    "                print(f\"asr_tokens: \\n{asr_tokens}\\n\")\n",
    "                print(f\"normalized_asr_tokens: \\n{normalized_asr_tokens}\\n\")\n",
    "                print(f\"aligned_asr_tokens: \\n{aligned_asr_tokens}\\n\")\n",
    "                print(f\"ASR Deletions: {asr_deletion}\")\n",
    "                print(f\"ASR Additions: {asr_addition}\")\n",
    "                print(f\"ASR Substitutions: {substitutions}\")\n",
    "                print(f\"Total Tokens: {len(original_tokens)}\")\n",
    "                print(f\"Error Rate (WER): {error_rate}\\n\")\n",
    "\n",
    "      \n",
    "        # Calculate average error metrics for this run\n",
    "        average_asr_deletions = total_asr_deletions / n\n",
    "        average_asr_additions = total_asr_additions / n\n",
    "        average_asr_substitutions = total_asr_substitutions / n\n",
    "        average_error_rate = total_error_rate / n\n",
    "     \n",
    "        # Store average results for this run\n",
    "        run_result = {\n",
    "            \"average_asr_deletions\": average_asr_deletions,\n",
    "            \"average_asr_additions\": average_asr_additions,\n",
    "            \"average_asr_substitutions\": average_asr_substitutions,\n",
    "            \"average_error_rate\": average_error_rate\n",
    "        }\n",
    "    \n",
    "        # Append run_results to results list for this run\n",
    "        WER_results.append(run_result)\n",
    "\n",
    "        with open(dict_file_path_full, \"w\") as f:\n",
    "            json.dump(WER_results, f, indent=4)\n",
    "            \n",
    "        if debug_printing == True:\n",
    "            print(f\"Saving dict to: {dict_file_path}\\  \\n\\nFilename: {dict_main_name}\\n\")\n",
    "\n",
    "\n",
    "if debug_printing == True:\n",
    "    # Print or process results as needed\n",
    "    for run_idx, run_result in enumerate(WER_results):\n",
    "        print(f\"Run {run_idx + 1} Results:\")\n",
    "        for file_result in run_result:\n",
    "            print(f\"Input File: {file_result['input_file']}\")\n",
    "            print(f\"ASR Deletions: {file_result['asr_deletions']}\")\n",
    "            print(f\"ASR Additions: {file_result['asr_additions']}\")\n",
    "            print(f\"Error Rate (WER): {file_result['error_rate']}\")\n",
    "        print()\n",
    "\n",
    "print(f\"\\nSaved dict to: {dict_file_path}\\  \\n\\nFilename: {dict_main_name}\\n\")\n",
    "\n",
    "# Print number of runs\n",
    "print(f\"Number of runs: {num_runs}\")\n",
    "print(f\"Total number of audio processed: {max_files_to_process*num_runs}\\n\")\n",
    "print(f\"Number of WER_results: {len(WER_results)}\\n\")\n",
    "\n"
   ]
  },
  {
   "cell_type": "markdown",
   "metadata": {},
   "source": [
    "### Results WER_results"
   ]
  },
  {
   "cell_type": "code",
   "execution_count": 33,
   "metadata": {
    "execution": {
     "iopub.execute_input": "2024-06-16T17:04:47.000934Z",
     "iopub.status.busy": "2024-06-16T17:04:47.000934Z",
     "iopub.status.idle": "2024-06-16T17:04:47.009873Z",
     "shell.execute_reply": "2024-06-16T17:04:47.009873Z",
     "shell.execute_reply.started": "2024-06-16T17:04:47.000934Z"
    }
   },
   "outputs": [
    {
     "name": "stdout",
     "output_type": "stream",
     "text": [
      "Overall Total ASR Deletions: 2544\n",
      "Overall Total ASR Additions: 1835\n",
      "Overall Total ASR Substitutions: 21424\n",
      "Overall Total Original Tokens: 68313\n",
      "\n",
      "Overall Word Error Rate (WER): 0.3777\n",
      "\n",
      "Number of individual files processed: 1988\n",
      "\n"
     ]
    }
   ],
   "source": [
    "# Calculate overall totals across all runs\n",
    "overall_total_asr_deletions = sum(result.get(\"asr_deletions\", 0) for result in WER_results if isinstance(result, dict))\n",
    "overall_total_asr_additions = sum(result.get(\"asr_additions\", 0) for result in WER_results if isinstance(result, dict))\n",
    "overall_total_asr_substitutions = sum(result.get(\"asr_substitutions\", 0) for result in WER_results if isinstance(result, dict))\n",
    "overall_total_tokens = sum(result.get(\"tokens\", 0) for result in WER_results if isinstance(result, dict))\n",
    "\n",
    "# Calculate overall error rate\n",
    "total_files_with_error_rate = sum(1 for result in WER_results if isinstance(result, dict) and \"error_rate\" in result)\n",
    "overall_total_error_rate = sum(result[\"error_rate\"] for result in WER_results if isinstance(result, dict) and \"error_rate\" in result) / total_files_with_error_rate if total_files_with_error_rate > 0 else 0\n",
    "\n",
    "# Print overall totals including substitutions\n",
    "print(f\"Overall Total ASR Deletions: {overall_total_asr_deletions}\")\n",
    "print(f\"Overall Total ASR Additions: {overall_total_asr_additions}\")\n",
    "print(f\"Overall Total ASR Substitutions: {overall_total_asr_substitutions}\")\n",
    "print(f\"Overall Total Original Tokens: {overall_total_tokens}\\n\")\n",
    "\n",
    "# Calculate WER\n",
    "wer = (overall_total_asr_deletions + overall_total_asr_additions + overall_total_asr_substitutions) / overall_total_tokens\n",
    "\n",
    "# Print WER\n",
    "print(f\"Overall Word Error Rate (WER): {wer:.4f}\\n\")\n",
    "\n",
    "# Print overall average error metrics\n",
    "# print(f\"Overall Average ASR Deletions: {overall_total_asr_deletions / num_files_processed:.4f}\")\n",
    "# print(f\"Overall Average ASR Additions: {overall_total_asr_additions / num_files_processed:.4f}\")\n",
    "# print(f\"Overall Average ASR Substitutions: {overall_total_asr_substitutions / num_files_processed:.4f}\")\n",
    "# print(f\"Overall Average Error Rate (WER): {overall_total_error_rate:.4f}\\n\")\n",
    "\n",
    "# Print number of individual files processed\n",
    "num_files_processed = len([result for result in WER_results if isinstance(result, dict)])\n",
    "print(f\"Number of individual files processed: {num_files_processed}\\n\")\n"
   ]
  },
  {
   "cell_type": "markdown",
   "metadata": {},
   "source": [
    "### Plotting"
   ]
  },
  {
   "cell_type": "code",
   "execution_count": 17,
   "metadata": {
    "execution": {
     "iopub.execute_input": "2024-06-16T14:52:50.777166Z",
     "iopub.status.busy": "2024-06-16T14:52:50.777166Z",
     "iopub.status.idle": "2024-06-16T14:52:51.856503Z",
     "shell.execute_reply": "2024-06-16T14:52:51.856503Z",
     "shell.execute_reply.started": "2024-06-16T14:52:50.777166Z"
    }
   },
   "outputs": [
    {
     "name": "stdout",
     "output_type": "stream",
     "text": [
      "Saving plot: D:\\ASR\\ParlaspeechHR\\wav2vec2-large-slavih-hr\\wav2vec2-large-slavic-parlaspeech-hr\\WER_results_v3.3.png\n"
     ]
    },
    {
     "data": {
      "image/png": "[encoded data removed]",
      "text/plain": [
       "<Figure size 1000x600 with 1 Axes>"
      ]
     },
     "metadata": {},
     "output_type": "display_data"
    }
   ],
   "source": [
    "# Initialize lists to store the number of files processed and the corresponding WER values\n",
    "num_files_processed = []\n",
    "wer_values = []\n",
    "\n",
    "# Iterate over the number of files processed\n",
    "for i in range(1, len(WER_results) + 1):\n",
    "    # Calculate overall totals for the first i files\n",
    "    overall_total_asr_deletions = sum(result.get(\"asr_deletions\", 0) for result in WER_results[:i] if isinstance(result, dict))\n",
    "    overall_total_asr_additions = sum(result.get(\"asr_additions\", 0) for result in WER_results[:i] if isinstance(result, dict))\n",
    "    overall_total_asr_substitutions = sum(result.get(\"asr_substitutions\", 0) for result in WER_results[:i] if isinstance(result, dict))\n",
    "    overall_total_tokens = sum(result.get(\"tokens\", 0) for result in WER_results[:i] if isinstance(result, dict))\n",
    "    \n",
    "    # Calculate WER\n",
    "    if overall_total_tokens > 0:\n",
    "        wer = (overall_total_asr_deletions + overall_total_asr_additions + overall_total_asr_substitutions) / overall_total_tokens\n",
    "    else:\n",
    "        wer = 0\n",
    "    \n",
    "    # Append the number of files processed and the WER value to the lists\n",
    "    num_files_processed.append(i)\n",
    "    wer_values.append(wer)\n",
    "\n",
    "# Define a function to calculate the moving average\n",
    "def moving_average(values, window):\n",
    "    weights = np.repeat(1.0, window) / window\n",
    "    sma = np.convolve(values, weights, 'valid')\n",
    "    return sma\n",
    "\n",
    "# Calculate the moving average of the WER values with a window size\n",
    "window_size = 100  # Adjust this value as needed\n",
    "smoothed_wer_values = moving_average(wer_values, window_size)\n",
    "\n",
    "# Adjust the num_files_processed to match the length of the smoothed WER values\n",
    "adjusted_num_files_processed = num_files_processed[window_size-1:]\n",
    "\n",
    "# Plot the WER values and the smoothed WER values\n",
    "plt.figure(figsize=(10, 6))\n",
    "#plt.plot(num_files_processed, wer_values, marker='o', linestyle='-', color='b', alpha=0.3, label='Original WER')\n",
    "plt.plot(adjusted_num_files_processed, smoothed_wer_values, marker='o', linestyle='-', color='r', label='Smoothed WER')\n",
    "plt.xlabel('Number of Files Processed')\n",
    "plt.ylabel('Word Error Rate (WER)')\n",
    "plt.title('WER Variation with Number of Files Processed')\n",
    "plt.legend()\n",
    "plt.grid(True)\n",
    "\n",
    "# Add text at the bottom of the plot\n",
    "\n",
    "\n",
    "wer_plot_from_version2 = wer_plot_from_version[:-4] + \"png\"\n",
    "\n",
    "wer_plot_save = os.path.join(wer_plot_save_path, wer_plot_from_version2)\n",
    "\n",
    "bottom_text = f\"Source dict: {wer_plot_from_version[:-4]} Code work version:{work_version}. Smoothed window size: {window_size}.\"\n",
    "plt.figtext(0.5, 0.001, bottom_text, wrap=True, horizontalalignment='center', fontsize=12)\n",
    "\n",
    "plt.savefig(wer_plot_save, dpi=300, bbox_inches='tight')\n",
    "print(f\"Saving plot: {wer_plot_save}\")\n",
    "\n",
    "plt.show()"
   ]
  },
  {
   "cell_type": "code",
   "execution_count": null,
   "metadata": {},
   "outputs": [],
   "source": []
  },
  {
   "cell_type": "markdown",
   "metadata": {},
   "source": [
    "### Results WER_results_LM"
   ]
  },
  {
   "cell_type": "code",
   "execution_count": 34,
   "metadata": {
    "execution": {
     "iopub.execute_input": "2024-06-16T17:05:06.463417Z",
     "iopub.status.busy": "2024-06-16T17:05:06.463417Z",
     "iopub.status.idle": "2024-06-16T17:05:06.468728Z",
     "shell.execute_reply": "2024-06-16T17:05:06.468728Z",
     "shell.execute_reply.started": "2024-06-16T17:05:06.463417Z"
    }
   },
   "outputs": [
    {
     "name": "stdout",
     "output_type": "stream",
     "text": [
      "Overall Total ASR Deletions (LM): 0\n",
      "Overall Total ASR Additions (LM): 0\n",
      "Overall Total ASR Substitutions (LM): 0\n",
      "Overall Total Original Tokens (LM): 0\n",
      "\n",
      "Overall Word Error Rate (WER) for LM: 0.0000\n",
      "\n",
      "Number of individual files processed for LM: 0\n",
      "\n"
     ]
    }
   ],
   "source": [
    "# Calculate overall totals across all runs for LM results\n",
    "overall_total_asr_deletions_LM = sum(result.get(\"asr_deletions\", 0) for result in WER_results_LM if isinstance(result, dict))\n",
    "overall_total_asr_additions_LM = sum(result.get(\"asr_additions\", 0) for result in WER_results_LM if isinstance(result, dict))\n",
    "overall_total_asr_substitutions_LM = sum(result.get(\"asr_substitutions\", 0) for result in WER_results_LM if isinstance(result, dict))\n",
    "overall_total_tokens_LM = sum(result.get(\"tokens\", 0) for result in WER_results_LM if isinstance(result, dict))\n",
    "\n",
    "# Calculate overall error rate for LM results\n",
    "total_files_with_error_rate_LM = sum(1 for result in WER_results_LM if isinstance(result, dict) and \"error_rate\" in result)\n",
    "overall_total_error_rate_LM = sum(result[\"error_rate\"] for result in WER_results_LM if isinstance(result, dict) and \"error_rate\" in result) / total_files_with_error_rate_LM if total_files_with_error_rate_LM > 0 else 0\n",
    "\n",
    "# Print overall totals including substitutions for LM results\n",
    "print(f\"Overall Total ASR Deletions (LM): {overall_total_asr_deletions_LM}\")\n",
    "print(f\"Overall Total ASR Additions (LM): {overall_total_asr_additions_LM}\")\n",
    "print(f\"Overall Total ASR Substitutions (LM): {overall_total_asr_substitutions_LM}\")\n",
    "print(f\"Overall Total Original Tokens (LM): {overall_total_tokens_LM}\\n\")\n",
    "\n",
    "# Calculate WER for LM results\n",
    "wer_LM = (overall_total_asr_deletions_LM + overall_total_asr_additions_LM + overall_total_asr_substitutions_LM) / overall_total_tokens_LM if overall_total_tokens_LM > 0 else 0\n",
    "\n",
    "# Print WER for LM results\n",
    "print(f\"Overall Word Error Rate (WER) for LM: {wer_LM:.4f}\\n\")\n",
    "\n",
    "# Print number of individual files processed for LM results\n",
    "num_files_processed_LM = len([result for result in WER_results_LM if isinstance(result, dict)])\n",
    "print(f\"Number of individual files processed for LM: {num_files_processed_LM}\\n\")\n"
   ]
  },
  {
   "cell_type": "code",
   "execution_count": null,
   "metadata": {},
   "outputs": [],
   "source": []
  },
  {
   "cell_type": "code",
   "execution_count": null,
   "metadata": {},
   "outputs": [],
   "source": []
  },
  {
   "cell_type": "markdown",
   "metadata": {},
   "source": [
    "## Run WER matchin BATCH -- KINDA BUSTED EH"
   ]
  },
  {
   "cell_type": "code",
   "execution_count": 20,
   "metadata": {
    "execution": {
     "iopub.execute_input": "2024-06-16T14:55:20.264817Z",
     "iopub.status.busy": "2024-06-16T14:55:20.264817Z",
     "iopub.status.idle": "2024-06-16T14:55:20.267172Z",
     "shell.execute_reply": "2024-06-16T14:55:20.267172Z",
     "shell.execute_reply.started": "2024-06-16T14:55:20.264817Z"
    }
   },
   "outputs": [],
   "source": [
    "debug_printing = False"
   ]
  },
  {
   "cell_type": "code",
   "execution_count": 21,
   "metadata": {
    "execution": {
     "iopub.execute_input": "2024-06-16T14:55:20.463819Z",
     "iopub.status.busy": "2024-06-16T14:55:20.463819Z",
     "iopub.status.idle": "2024-06-16T14:55:20.468368Z",
     "shell.execute_reply": "2024-06-16T14:55:20.468368Z",
     "shell.execute_reply.started": "2024-06-16T14:55:20.463819Z"
    }
   },
   "outputs": [],
   "source": [
    "import torchaudio\n",
    "from torchaudio.transforms import Resample\n",
    "from torch.utils.data import Dataset, DataLoader\n",
    "import torch\n",
    "\n",
    "class AudioDataset(Dataset):\n",
    "    def __init__(self, file_list, target_sr=16000):\n",
    "        self.file_list = file_list\n",
    "        self.target_sr = target_sr\n",
    "\n",
    "    def __len__(self):\n",
    "        return len(self.file_list)\n",
    "\n",
    "    def __getitem__(self, idx):\n",
    "        input_file = self.file_list[idx]\n",
    "        speech, sample_rate = torchaudio.load(input_file)\n",
    "        if sample_rate != self.target_sr:\n",
    "            resampler = Resample(orig_freq=sample_rate, new_freq=self.target_sr)\n",
    "            speech = resampler(speech)\n",
    "        return speech.squeeze(0), self.target_sr\n"
   ]
  },
  {
   "cell_type": "code",
   "execution_count": 27,
   "metadata": {
    "execution": {
     "iopub.execute_input": "2024-06-16T15:04:25.808164Z",
     "iopub.status.busy": "2024-06-16T15:04:25.808164Z",
     "iopub.status.idle": "2024-06-16T15:04:25.817220Z",
     "shell.execute_reply": "2024-06-16T15:04:25.817220Z",
     "shell.execute_reply.started": "2024-06-16T15:04:25.808164Z"
    }
   },
   "outputs": [
    {
     "name": "stdout",
     "output_type": "stream",
     "text": [
      "Batching online.\n"
     ]
    }
   ],
   "source": [
    "### DEFINING BATCH PROCESSING ####\n",
    "from multiprocessing import Pool, cpu_count\n",
    "from tqdm import tqdm\n",
    "import os\n",
    "import random\n",
    "\n",
    "\n",
    "def process_transcribe_batch(batch, target_sr=16000, device=device, debug_printing=debug_printing):\n",
    "    all_speech = []\n",
    "\n",
    "    # Load and resample all audio files in the batch\n",
    "    for input_file, transcription in batch:\n",
    "        \n",
    "        speech, sample_rate = torchaudio.load(filename)\n",
    "        \n",
    "        if sample_rate != target_sr:\n",
    "            resampler = torchaudio.transforms.Resample(orig_freq=sample_rate, new_freq=target_sr)\n",
    "            speech = resampler(speech)\n",
    "            \n",
    "        all_speech.append(speech)\n",
    "\n",
    "        # Pad sequences to the same length\n",
    "        max_length = max(s.shape[1] for s in all_speech)\n",
    "        padded_speech = [torch.nn.functional.pad(s, (0, max_length - s.shape[1])) for s in all_speech]\n",
    "    \n",
    "        # Stack all padded speech into a single tensor\n",
    "        input_values = torch.stack(padded_speech).squeeze(1).to(device)\n",
    "    \n",
    "        if debug_printing:\n",
    "            print(\"input_values.shape:\", input_values.shape)\n",
    "    \n",
    "        # Process the batch with the processor\n",
    "        input_values = processor0(input_values, sampling_rate=target_sr, return_tensors=\"pt\").input_values.to(device)\n",
    "    \n",
    "        if debug_printing:\n",
    "            print(\"input_values.shape after processor:\", input_values.shape)\n",
    "    \n",
    "        # Fix batches shape\n",
    "        input_values = input_values.squeeze(0)\n",
    "    \n",
    "        if debug_printing:\n",
    "            print(\"input_values.shape after remix:\", input_values.shape)\n",
    "        \n",
    "        # Perform inference\n",
    "        with torch.inference_mode():\n",
    "            logits = model0(input_values).logits\n",
    "    \n",
    "        if debug_printing:\n",
    "            print(\"Logits shape:\", logits.shape)\n",
    "    \n",
    "        # Get the predicted token IDs (greedy decoding)\n",
    "        predicted_ids = torch.argmax(logits, dim=-1)\n",
    "    \n",
    "        if debug_printing:\n",
    "            print(\"Predicted IDs shape:\", predicted_ids.shape)\n",
    "    \n",
    "        # Convert predicted IDs to numpy array\n",
    "        predicted_ids = predicted_ids.cpu().numpy()\n",
    "    \n",
    "        if debug_printing:\n",
    "            print(\"Predicted IDs (numpy):\", predicted_ids)\n",
    "    \n",
    "        # Decode the predicted IDs\n",
    "        transcriptions = processor0.batch_decode(predicted_ids)\n",
    "    \n",
    "        if debug_printing:\n",
    "            print(\"Transcriptions:\", transcriptions)\n",
    "    \n",
    "        return transcriptions\n",
    "\n",
    "# Function to process a single file's transcription\n",
    "def process_file(input_file):\n",
    "    # Retrieve original transcription from dictionary\n",
    "    original_transcription = ' '.join(audio_transcriptions[input_file])\n",
    "    \n",
    "    # Tokenize original and ASR transcriptions\n",
    "    original_tokens = tokenize_text(original_transcription)\n",
    "    asr_tokens = tokenize_text(process_transcribe_batch([input_file], target_sr=16000, device=device)[0])  # Process single file\n",
    "\n",
    "    # Normalize ASR tokens\n",
    "    normalized_asr_tokens = normalize_numbers(asr_tokens, norm_nums)\n",
    "\n",
    "    # Align ASR tokens with original tokens based on character similarity\n",
    "    aligned_asr_tokens = align_tokens(original_tokens, normalized_asr_tokens, similarity_threshold=similarity_threshold)\n",
    "\n",
    "    # Calculate error metrics\n",
    "    asr_deletion = len(original_tokens) - len(aligned_asr_tokens)\n",
    "    asr_addition = len(normalized_asr_tokens) - len(aligned_asr_tokens)\n",
    "\n",
    "    substitutions = sum(1 for orig_token, asr_token in zip(original_tokens, aligned_asr_tokens) if orig_token != asr_token)\n",
    "\n",
    "    total_tokens = len(original_tokens)\n",
    "    error_rate = (asr_deletion + asr_addition + substitutions) / total_tokens\n",
    "\n",
    "    # Prepare file result\n",
    "    file_result = {\n",
    "        \"input_file\": input_file,\n",
    "        \"tokens\": total_tokens,\n",
    "        \"asr_deletions\": asr_deletion,\n",
    "        \"asr_additions\": asr_addition,\n",
    "        \"asr_substitutions\": substitutions,\n",
    "        \"error_rate\": error_rate\n",
    "    }\n",
    "\n",
    "    return file_result\n",
    "\n",
    "\n",
    "print(\"Batching online.\")"
   ]
  },
  {
   "cell_type": "code",
   "execution_count": 28,
   "metadata": {
    "execution": {
     "iopub.execute_input": "2024-06-16T15:04:26.023431Z",
     "iopub.status.busy": "2024-06-16T15:04:26.023431Z",
     "iopub.status.idle": "2024-06-16T15:04:26.026038Z",
     "shell.execute_reply": "2024-06-16T15:04:26.026038Z",
     "shell.execute_reply.started": "2024-06-16T15:04:26.023431Z"
    }
   },
   "outputs": [],
   "source": [
    "WER_results_batch = []"
   ]
  },
  {
   "cell_type": "code",
   "execution_count": null,
   "metadata": {
    "execution": {
     "iopub.execute_input": "2024-06-16T15:04:26.247051Z",
     "iopub.status.busy": "2024-06-16T15:04:26.247051Z"
    }
   },
   "outputs": [
    {
     "name": "stdout",
     "output_type": "stream",
     "text": [
      "Number of CPU cores: 12\n"
     ]
    },
    {
     "name": "stderr",
     "output_type": "stream",
     "text": [
      "Run 1:   0%|                                                                                     | 0/2 [00:00<?, ?it/s]"
     ]
    }
   ],
   "source": [
    "# Number of CPU cores\n",
    "num_processes = cpu_count()\n",
    "print(f\"Number of CPU cores: {num_processes}\")\n",
    "\n",
    "num_runs = 2  # Number of runs to average over, each time picking anew randoms\n",
    "batch_size = num_processes  # Number of files to process per batch\n",
    "max_files_to_process = 20  # Adjust this as needed\n",
    "\n",
    "transcription_list = list(audio_transcriptions.keys())  # Assuming audio_transcriptions is a dictionary with file paths\n",
    "shuffle_transcript = True  # Ensure shuffle_transcript is defined\n",
    "\n",
    "# Iterate over each run\n",
    "for run in range(num_runs):\n",
    "    total_asr_deletions = 0\n",
    "    total_asr_additions = 0\n",
    "    total_asr_substitutions = 0\n",
    "    total_tokens = 0\n",
    "    total_error_rate = 0.0\n",
    "    n = 0  # Number of files processed\n",
    "    \n",
    "    # Shuffle the transcription list for each run if needed\n",
    "    if shuffle_transcript:\n",
    "        random.shuffle(transcription_list)\n",
    "    \n",
    "    # Process in batches using multiprocessing\n",
    "    with Pool(num_processes) as pool:\n",
    "        # Split transcription_list into chunks of batch_size\n",
    "        batches = [transcription_list[i:i + batch_size] for i in range(0, min(max_files_to_process, len(transcription_list)), batch_size)]\n",
    "        \n",
    "        # Process each batch asynchronously\n",
    "        with tqdm(total=len(batches), desc=f\"Run {run+1}\") as pbar:\n",
    "            for batch in batches:\n",
    "                # Process batch asynchronously\n",
    "                batch_results = pool.map(process_file, batch)\n",
    "                \n",
    "                # Update progress bar\n",
    "                pbar.update(1)\n",
    "                \n",
    "                # Accumulate results and calculate metrics for this batch\n",
    "                for result in batch_results:\n",
    "                    total_asr_deletions += result[\"asr_deletions\"]\n",
    "                    total_asr_additions += result[\"asr_additions\"]\n",
    "                    total_asr_substitutions += result[\"asr_substitutions\"]\n",
    "                    total_tokens += result[\"tokens\"]\n",
    "                    total_error_rate += result[\"error_rate\"]\n",
    "                    n += 1  # Increment file counter\n",
    "    \n",
    "    # Calculate average error metrics for this run\n",
    "    if n > 0:\n",
    "        average_asr_deletions = total_asr_deletions / n\n",
    "        average_asr_additions = total_asr_additions / n\n",
    "        average_asr_substitutions = total_asr_substitutions / n\n",
    "        average_error_rate = total_error_rate / n\n",
    "    else:\n",
    "        average_asr_deletions = 0\n",
    "        average_asr_additions = 0\n",
    "        average_asr_substitutions = 0\n",
    "        average_error_rate = 0.0\n",
    "    \n",
    "    # Print or use the average error metrics for the run as needed\n",
    "    print(f\"Average ASR Deletions: {average_asr_deletions}\")\n",
    "    print(f\"Average ASR Additions: {average_asr_additions}\")\n",
    "    print(f\"Average ASR Substitutions: {average_asr_substitutions}\")\n",
    "    print(f\"Average Error Rate (WER): {average_error_rate}\")"
   ]
  },
  {
   "cell_type": "code",
   "execution_count": null,
   "metadata": {},
   "outputs": [],
   "source": []
  },
  {
   "cell_type": "code",
   "execution_count": null,
   "metadata": {},
   "outputs": [],
   "source": []
  },
  {
   "cell_type": "markdown",
   "metadata": {},
   "source": [
    "# x scrap later"
   ]
  },
  {
   "cell_type": "code",
   "execution_count": null,
   "metadata": {},
   "outputs": [],
   "source": [
    "num_processes = cpu_count()  # Number of CPU cores\n",
    "print(num_processes)\n",
    "\n",
    "num_runs = 2  # Number of runs to average over, each time picking anew randoms\n",
    "batch_size = num_processes  # Number of files to process per batch\n",
    "max_files_to_process = 20  # Adjust this as needed\n",
    "\n",
    "transcription_list = list(audio_transcriptions.items())  # Assume audio_transcriptions is defined somewhere\n",
    "shuffle_transcript = True  # Ensure shuffle_transcript is defined\n",
    "\n",
    "# Iterate over each run\n",
    "for run in range(num_runs):\n",
    "    total_asr_deletions = 0\n",
    "    total_asr_additions = 0\n",
    "    total_asr_substitutions = 0\n",
    "    total_tokens = 0\n",
    "    total_error_rate = 0.0\n",
    "    n = 0  # Number of files processed\n",
    "    \n",
    "    # Shuffle the transcription list for each run if needed\n",
    "    if shuffle_transcript:\n",
    "        random.shuffle(transcription_list)\n",
    "    \n",
    "    # Process in batches using multiprocessing\n",
    "    with Pool(num_processes) as pool:\n",
    "        # Split transcription_list into chunks of batch_size\n",
    "        batches = [transcription_list[i:i + batch_size] for i in range(0, min(max_files_to_process, len(transcription_list)), batch_size)]\n",
    "        \n",
    "        # Process each batch asynchronously\n",
    "        with tqdm(total=len(batches), desc=f\"Run {run+1}\") as pbar:\n",
    "            for result in pool.imap_unordered(process_transcribe_batch, batches):\n",
    "                for j, (input_file, original_transcription) in enumerate(batches[n]):\n",
    "                    tekst = result[j]\n",
    "                    \n",
    "                    # Get original transcription from dictionary\n",
    "                    original_transcription = ' '.join(audio_transcriptions[input_file])\n",
    "                    \n",
    "                    # Tokenize both transcriptions\n",
    "                    original_tokens = tokenize_text(original_transcription)\n",
    "                    asr_tokens = tokenize_text(tekst)\n",
    "                \n",
    "                    # Normalize numbers in ASR tokens\n",
    "                    normalized_asr_tokens = normalize_numbers(asr_tokens, norm_nums)\n",
    "                \n",
    "                    # Align ASR tokens with original tokens based on character similarity\n",
    "                    aligned_asr_tokens = align_tokens(original_tokens, normalized_asr_tokens, similarity_threshold=similarity_threshold)\n",
    "                \n",
    "                    # Calculate error metrics\n",
    "                    asr_deletion = len(original_tokens) - len(aligned_asr_tokens)\n",
    "                    asr_addition = len(normalized_asr_tokens) - len(aligned_asr_tokens)\n",
    "                    \n",
    "                    # Calculate substitutions between original and aligned ASR tokens\n",
    "                    substitutions = 0\n",
    "                    for orig_token, asr_token in zip(original_tokens, aligned_asr_tokens):\n",
    "                        if orig_token != asr_token:\n",
    "                            substitutions += 1\n",
    "                    \n",
    "                    total_asr_substitutions += substitutions\n",
    "                    total_tokens = len(original_tokens)\n",
    "                    error_rate = (asr_deletion + asr_addition + substitutions) / total_tokens\n",
    "                \n",
    "                    # Accumulate metrics\n",
    "                    total_asr_deletions += asr_deletion\n",
    "                    total_asr_additions += asr_addition\n",
    "                    total_error_rate += error_rate\n",
    "                    n += 1\n",
    "        \n",
    "                    # Store individual file results for this run including substitutions\n",
    "                    file_result = {\n",
    "                        \"input_file\": input_file,\n",
    "                        \"tokens\": total_tokens,\n",
    "                        \"asr_deletions\": asr_deletion,\n",
    "                        \"asr_additions\": asr_addition,\n",
    "                        \"asr_substitutions\": substitutions,\n",
    "                        \"error_rate\": error_rate\n",
    "                    }\n",
    "                    \n",
    "                    # Update tqdm progress bar\n",
    "                    pbar.update(1)\n",
    "                    \n",
    "                    # Print or use the error metric for each file as needed\n",
    "                    if debug_printing:\n",
    "                        print(f\"Transcription {n}: {tekst}\")\n",
    "                        print(f\"original_tokens: \\n{original_tokens}\\n\")\n",
    "                        print(f\"asr_tokens: \\n{asr_tokens}\\n\")\n",
    "                        print(f\"normalized_asr_tokens: \\n{normalized_asr_tokens}\\n\")\n",
    "                        print(f\"aligned_asr_tokens: \\n{aligned_asr_tokens}\\n\")\n",
    "                        print(f\"ASR Deletions: {asr_deletion}\")\n",
    "                        print(f\"ASR Additions: {asr_addition}\")\n",
    "                        print(f\"Total Tokens: {len(original_tokens)}\")\n",
    "                        print(f\"Error Rate (WER): {error_rate}\\n\")\n",
    "\n",
    "# Calculate average error metrics for this run\n",
    "average_asr_deletions = total_asr_deletions / n\n",
    "average_asr_additions = total_asr_additions / n\n",
    "average_asr_substitutions = total_asr_substitutions / n\n",
    "average_error_rate = total_error_rate / n\n",
    "\n",
    "# Print or use the average error metrics for the run as needed\n",
    "print(f\"Average ASR Deletions: {average_asr_deletions}\")\n",
    "print(f\"Average ASR Additions: {average_asr_additions}\")\n",
    "print(f\"Average ASR Substitutions: {average_asr_substitutions}\")\n",
    "print(f\"Average Error Rate (WER): {average_error_rate}\")"
   ]
  },
  {
   "cell_type": "code",
   "execution_count": null,
   "metadata": {},
   "outputs": [],
   "source": []
  },
  {
   "cell_type": "code",
   "execution_count": null,
   "metadata": {},
   "outputs": [],
   "source": []
  },
  {
   "cell_type": "raw",
   "metadata": {},
   "source": [
    "PRIMJER normalize_number POBOLJŠANJE WER\n",
    "15 lip 2024 21:14h\n",
    "\n",
    "original_tokens: \n",
    "['i', 'bit', 'ću', 'malo', 'neskroman', 'vi', 'mi', 'to', 'nećete', 'zamjeriti', 'mi', 'smo', 'pokazali', 'da', 'možemo', 'kao', 'manja', 'država', 'potaknuti', 'kolege', 'da', 'se', 'promjene', 'kriteriji', 'u', 'poglavlju', 'dvadeset', 'tri']\n",
    "\n",
    "asr_tokens: \n",
    "['i', 'bit', 'će', 'malo', 'neshroman', 'i', 'mi', 'to', 'nećete', 'zamjeriti', 'mi', 'smo', 'pokazali', 'da', 'možemo', 'kao', 'manja', 'država', 'potaknuti', 'kolege', 'da', 'se', 'promijene', 'kriteriji', 'u', 'poglavlju', '23']\n",
    "\n",
    "normalized_asr_tokens: \n",
    "['i', 'bit', 'će', 'malo', 'neshroman', 'i', 'mi', 'to', 'nećete', 'zamjeriti', 'mi', 'smo', 'pokazali', 'da', 'možemo', 'kao', 'manja', 'država', 'potaknuti', 'kolege', 'da', 'se', 'promijene', 'kriteriji', 'u', 'poglavlju', 'dvadeset', 'tri']\n",
    "\n",
    "aligned_asr_tokens: \n",
    "['i', 'bit', 'će', 'malo', 'neshroman', 'i', 'mi', 'to', 'nećete', 'zamjeriti', 'mi', 'smo', 'pokazali', 'da', 'možemo', 'kao', 'manja', 'država', 'potaknuti', 'kolege', 'da', 'se', 'promijene', 'kriteriji', 'u', 'poglavlju', 'dvadeset', 'tri']"
   ]
  },
  {
   "cell_type": "raw",
   "metadata": {
    "execution": {
     "iopub.execute_input": "2024-06-15T14:04:14.696510Z",
     "iopub.status.busy": "2024-06-15T14:04:14.696510Z",
     "iopub.status.idle": "2024-06-15T14:04:14.699823Z",
     "shell.execute_reply": "2024-06-15T14:04:14.699823Z",
     "shell.execute_reply.started": "2024-06-15T14:04:14.696510Z"
    }
   },
   "source": [
    "WORKING WITH v3.0 ## BOTH W and W/out LM WORKING\n",
    "CHECKED 15 lip 2024 17:45h\n",
    "\n",
    "VERSIONS OF PYTORCH\n",
    "\n",
    "Name: torch\n",
    "Version: 2.1.2\n",
    "Summary: Tensors and Dynamic neural networks in Python with strong GPU acceleration\n",
    "Home-page: https://pytorch.org/\n",
    "Author: PyTorch Team\n",
    "Author-email: packages@pytorch.org\n",
    "License: BSD-3\n",
    "Location: C:\\Users\\Public\\anaconda3\\envs\\PyPhon\\Lib\\site-packages\n",
    "Requires: filelock, fsspec, jinja2, networkx, sympy, typing-extensions\n",
    "Required-by: accelerate, optimum, sentence-transformers, torchaudio, torchvision\n",
    "WARNING: Skipping C:\\Users\\Public\\anaconda3\\envs\\PyPhon\\Lib\\site-packages\\pandas-2.1.4.dist-info due to invalid metadata entry 'name'\n",
    "Name: torchvision\n",
    "Version: 0.16.2\n",
    "Summary: image and video datasets and models for torch deep learning\n",
    "Home-page: https://github.com/pytorch/vision\n",
    "Author: PyTorch Core Team\n",
    "Author-email: soumith@pytorch.org\n",
    "License: BSD\n",
    "Location: C:\\Users\\Public\\anaconda3\\envs\\PyPhon\\Lib\\site-packages\n",
    "Requires: numpy, pillow, requests, torch\n",
    "Required-by: sentence-transformers\n",
    "WARNING: Skipping C:\\Users\\Public\\anaconda3\\envs\\PyPhon\\Lib\\site-packages\\pandas-2.1.4.dist-info due to invalid metadata entry 'name'\n",
    "Name: torchaudio\n",
    "Version: 2.3.1\n",
    "Summary: An audio package for PyTorch\n",
    "Home-page: https://github.com/pytorch/audio\n",
    "Author: Soumith Chintala, David Pollack, Sean Naren, Peter Goldsborough, Moto Hira, Caroline Chen, Jeff Hwang, Zhaoheng Ni, Xiaohui Zhang\n",
    "Author-email: soumith@pytorch.org\n",
    "License: \n",
    "Location: C:\\Users\\Public\\anaconda3\\envs\\PyPhon\\Lib\\site-packages\n",
    "Requires: torch\n",
    "Required-by: "
   ]
  },
  {
   "cell_type": "code",
   "execution_count": null,
   "metadata": {},
   "outputs": [],
   "source": []
  }
 ],
 "metadata": {
  "colab": {
   "authorship_tag": "ABX9TyO3uz19EkBaZsrjq2rN6rV0",
   "provenance": [
    {
     "file_id": "1T9A_vTHdaB2oOuRCRRwTTAHs1379J-6l",
     "timestamp": 1718361648667
    }
   ],
   "toc_visible": true
  },
  "kernelspec": {
   "display_name": "Python 3 (ipykernel)",
   "language": "python",
   "name": "python3"
  },
  "language_info": {
   "codemirror_mode": {
    "name": "ipython",
    "version": 3
   },
   "file_extension": ".py",
   "mimetype": "text/x-python",
   "name": "python",
   "nbconvert_exporter": "python",
   "pygments_lexer": "ipython3",
   "version": "3.11.8"
  }
 },
 "nbformat": 4,
 "nbformat_minor": 4
}
