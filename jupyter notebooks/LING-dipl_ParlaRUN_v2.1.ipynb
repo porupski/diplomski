{
 "cells": [
  {
   "cell_type": "markdown",
   "metadata": {
    "id": "i41M-W8THOQu"
   },
   "source": [
    "# Running ParlaSpeechHR Models"
   ]
  },
  {
   "cell_type": "markdown",
   "metadata": {
    "id": "ESbAn_EQRYyT"
   },
   "source": [
    "## [0] Start here:"
   ]
  },
  {
   "cell_type": "code",
   "execution_count": 1,
   "metadata": {
    "colab": {
     "base_uri": "https://localhost:8080/"
    },
    "execution": {
     "iopub.execute_input": "2024-06-14T15:57:26.778338Z",
     "iopub.status.busy": "2024-06-14T15:57:26.778338Z",
     "iopub.status.idle": "2024-06-14T15:57:26.785406Z",
     "shell.execute_reply": "2024-06-14T15:57:26.785406Z",
     "shell.execute_reply.started": "2024-06-14T15:57:26.778338Z"
    },
    "executionInfo": {
     "elapsed": 341,
     "status": "ok",
     "timestamp": 1718358967568,
     "user": {
      "displayName": "Ivan Porupski",
      "userId": "03127310887960034948"
     },
     "user_tz": -120
    },
    "id": "hXbSzO_hGn2a",
    "outputId": "93214040-342d-47cd-b2d5-ef7bf1304c60"
   },
   "outputs": [
    {
     "name": "stdout",
     "output_type": "stream",
     "text": [
      "v2.1\n"
     ]
    }
   ],
   "source": [
    "work_version_num = 2.1\n",
    "word_version_preffix = \"\"\n",
    "word_version_suffix = \"\"\n",
    "work_version = f\"{word_version_preffix}v{work_version_num}{word_version_suffix}\"\n",
    "\n",
    "print(work_version)"
   ]
  },
  {
   "cell_type": "code",
   "execution_count": 196,
   "metadata": {
    "execution": {
     "iopub.execute_input": "2024-06-14T14:11:25.647231Z",
     "iopub.status.busy": "2024-06-14T14:11:25.647231Z",
     "iopub.status.idle": "2024-06-14T14:11:25.650336Z",
     "shell.execute_reply": "2024-06-14T14:11:25.650336Z",
     "shell.execute_reply.started": "2024-06-14T14:11:25.647231Z"
    }
   },
   "outputs": [],
   "source": [
    "choose_lm_model = False\n",
    "google_colabbing = False\n",
    "debug_printing = False\n",
    "\n",
    "testing_asr = True # if False, cuts audio into chunks\n",
    "shuffle_transcript = True"
   ]
  },
  {
   "cell_type": "markdown",
   "metadata": {},
   "source": [
    "## [INFO ABOUT MACHINE]"
   ]
  },
  {
   "cell_type": "code",
   "execution_count": 219,
   "metadata": {
    "execution": {
     "iopub.execute_input": "2024-06-14T15:02:59.029375Z",
     "iopub.status.busy": "2024-06-14T15:02:59.028379Z",
     "iopub.status.idle": "2024-06-14T15:02:59.031352Z",
     "shell.execute_reply": "2024-06-14T15:02:59.031352Z",
     "shell.execute_reply.started": "2024-06-14T15:02:59.029375Z"
    }
   },
   "outputs": [],
   "source": [
    "### NEED TO REINSTALL PYTORCH WITH CUDA ENABLED AND TRY AGAIN I GUESS"
   ]
  },
  {
   "cell_type": "code",
   "execution_count": null,
   "metadata": {},
   "outputs": [],
   "source": [
    "import torch\n",
    "\n",
    "print(\"CUDA available:\", torch.cuda.is_available())\n",
    "print(\"CUDA version:\", torch.version.cuda)\n",
    "print(\"cuDNN version:\", torch.backends.cudnn.version())\n",
    "print(\"Device Name:\", torch.cuda.get_device_name(0))\n"
   ]
  },
  {
   "cell_type": "code",
   "execution_count": 217,
   "metadata": {
    "execution": {
     "iopub.execute_input": "2024-06-14T14:59:15.861510Z",
     "iopub.status.busy": "2024-06-14T14:59:15.861510Z",
     "iopub.status.idle": "2024-06-14T14:59:15.866241Z",
     "shell.execute_reply": "2024-06-14T14:59:15.866241Z",
     "shell.execute_reply.started": "2024-06-14T14:59:15.861510Z"
    }
   },
   "outputs": [
    {
     "name": "stdout",
     "output_type": "stream",
     "text": [
      "Platform: NVIDIA CUDA\n",
      "Vendor: NVIDIA Corporation\n",
      "Version: OpenCL 1.2 CUDA 11.1.96\n",
      "\n",
      "Device: GeForce GTX 760\n",
      "Type: ALL | GPU\n",
      "Max Compute Units: 6\n",
      "Max Work Item Dimensions: 3\n",
      "Max Work Group Size: 1024\n",
      "Max Clock Frequency: 1150 MHz\n",
      "Global Memory Size: 4.00 GB\n",
      "Local Memory Size: 48.00 KB\n",
      "Max Memory Allocation Size: 1.00 GB\n",
      "OpenCL Version: OpenCL C 1.2 \n",
      "Driver Version: 456.71\n",
      "Platform: Intel(R) OpenCL HD Graphics\n",
      "Vendor: Intel(R) Corporation\n",
      "Version: OpenCL 3.0 \n",
      "\n",
      "Device: Intel(R) UHD Graphics 750\n",
      "Type: ALL | GPU\n",
      "Max Compute Units: 32\n",
      "Max Work Item Dimensions: 3\n",
      "Max Work Group Size: 256\n",
      "Max Clock Frequency: 1300 MHz\n",
      "Global Memory Size: 6.32 GB\n",
      "Local Memory Size: 64.00 KB\n",
      "Max Memory Allocation Size: 3.16 GB\n",
      "OpenCL Version: OpenCL C 1.2 \n",
      "Driver Version: 30.0.101.1273\n",
      "Platform: Intel(R) OpenCL\n",
      "Vendor: Intel(R) Corporation\n",
      "Version: OpenCL 3.0 WINDOWS\n",
      "\n",
      "Device: 11th Gen Intel(R) Core(TM) i5-11600 @ 2.80GHz\n",
      "Type: ALL | CPU\n",
      "Max Compute Units: 12\n",
      "Max Work Item Dimensions: 3\n",
      "Max Work Group Size: 8192\n",
      "Max Clock Frequency: 2800 MHz\n",
      "Global Memory Size: 15.80 GB\n",
      "Local Memory Size: 32.00 KB\n",
      "Max Memory Allocation Size: 7.90 GB\n",
      "OpenCL Version: OpenCL C 3.0 \n",
      "Driver Version: 2023.16.6.0.28_042959\n"
     ]
    }
   ],
   "source": [
    "#!pip install pyopencl\n",
    "\n",
    "import pyopencl as cl\n",
    "\n",
    "# Get a list of all available platforms\n",
    "platforms = cl.get_platforms()\n",
    "\n",
    "for platform in platforms:\n",
    "    print(f\"Platform: {platform.name}\")\n",
    "    print(f\"Vendor: {platform.vendor}\")\n",
    "    print(f\"Version: {platform.version}\")\n",
    "\n",
    "    # Get a list of all available devices for the current platform\n",
    "    devices = platform.get_devices()\n",
    "    for device in devices:\n",
    "        print(f\"\\nDevice: {device.name}\")\n",
    "        print(f\"Type: {cl.device_type.to_string(device.type)}\")\n",
    "        print(f\"Max Compute Units: {device.max_compute_units}\")\n",
    "        print(f\"Max Work Item Dimensions: {device.max_work_item_dimensions}\")\n",
    "        print(f\"Max Work Group Size: {device.max_work_group_size}\")\n",
    "        print(f\"Max Clock Frequency: {device.max_clock_frequency} MHz\")\n",
    "        print(f\"Global Memory Size: {device.global_mem_size / (1024 ** 3):.2f} GB\")\n",
    "        print(f\"Local Memory Size: {device.local_mem_size / 1024:.2f} KB\")\n",
    "        print(f\"Max Memory Allocation Size: {device.max_mem_alloc_size / (1024 ** 3):.2f} GB\")\n",
    "        print(f\"OpenCL Version: {device.opencl_c_version}\")\n",
    "        print(f\"Driver Version: {device.driver_version}\")\n"
   ]
  },
  {
   "cell_type": "markdown",
   "metadata": {},
   "source": [
    "CPU VERSION:\n",
    "Device: 11th Gen Intel(R) Core(TM) i5-11600 @ 2.80GHz\r\n",
    "Type: ALL | CPU\r\n",
    "Max Compute Units: 12\r\n",
    "Max Work Item Dimensions: 3\r\n",
    "Max Work Group Size: 8192\r\n",
    "Max Clock Frequency: 2800 MHz\r\n",
    "Global Memory Size: 15.80 GB\r\n",
    "Local Memory Size: 32.00 KB\r\n",
    "Max Memory Allocation Size: 7.90 GB\r\n",
    "OpenCL Version: OpenCL C 3.0 \r\n",
    "Driver Version: 2023.16.6.0.28_042959"
   ]
  },
  {
   "cell_type": "markdown",
   "metadata": {
    "id": "Z0vOINi-RVG-"
   },
   "source": [
    "## [1] Install all required packages"
   ]
  },
  {
   "cell_type": "code",
   "execution_count": 142,
   "metadata": {
    "colab": {
     "base_uri": "https://localhost:8080/"
    },
    "execution": {
     "iopub.execute_input": "2024-06-14T12:48:25.963058Z",
     "iopub.status.busy": "2024-06-14T12:48:25.963058Z",
     "iopub.status.idle": "2024-06-14T12:48:29.120997Z",
     "shell.execute_reply": "2024-06-14T12:48:29.120997Z",
     "shell.execute_reply.started": "2024-06-14T12:48:25.963058Z"
    },
    "executionInfo": {
     "elapsed": 4872,
     "status": "ok",
     "timestamp": 1718358985791,
     "user": {
      "displayName": "Ivan Porupski",
      "userId": "03127310887960034948"
     },
     "user_tz": -120
    },
    "id": "Y-1HeiN2HWYh",
    "outputId": "3e4fc84f-371f-455b-cafb-e8d2fcd8837a"
   },
   "outputs": [
    {
     "name": "stdout",
     "output_type": "stream",
     "text": [
      "All good. Every essential package is present to make the code work.\n"
     ]
    }
   ],
   "source": [
    "#!pip install ipython\n",
    "from IPython.display import clear_output\n",
    "\n",
    "try:\n",
    "    import transformers\n",
    "    print(\"transformers: All good.\")\n",
    "except ImportError:\n",
    "    !pip install transformers\n",
    "    print(\"transformers: Installed.\")\n",
    "\n",
    "try:\n",
    "    import pydub\n",
    "    print(\"pydub: All good.\")\n",
    "except ImportError:\n",
    "    !pip install pydub\n",
    "    print(\"pydub: Installed.\")\n",
    "\n",
    "try:\n",
    "    import torchaudio\n",
    "    print(\"torchaudio: All good.\")\n",
    "except ImportError:\n",
    "    !pip install torchaudio\n",
    "    print(\"torchaudio: Installed.\")\n",
    "\n",
    "try:\n",
    "    import pyctcdecode\n",
    "    print(\"pyctcdecode: All good.\")\n",
    "except ImportError:\n",
    "    !pip install pyctcdecode\n",
    "    print(\"pyctcdecode: Installed.\")\n",
    "\n",
    "try:\n",
    "    import jiwer\n",
    "    print(\"jiwer: All good.\")\n",
    "except ImportError:\n",
    "    !pip install jiwer\n",
    "    print(\"jiwer: Installed.\")\n",
    "\n",
    "try:\n",
    "    import nltk\n",
    "    nltk.download('punkt')\n",
    "    print(\"nltk: All good.\")\n",
    "except ImportError:\n",
    "    !pip install nltk\n",
    "    print(\"nltk: Installed.\")\n",
    "\n",
    "try:\n",
    "    from fuzzywuzzy import fuzz\n",
    "    print(\"fuzzywuzzy: All good.\")\n",
    "except ImportError:   \n",
    "    !pip install fuzzywuzzy\n",
    "    print(\"fuzzywuzzy: Installed.\")\n",
    "\n",
    "clear_output(wait=True) # clean the mess\n",
    "print(f\"All good. Every essential package is present to make the code work.\")"
   ]
  },
  {
   "cell_type": "code",
   "execution_count": 134,
   "metadata": {
    "colab": {
     "base_uri": "https://localhost:8080/"
    },
    "execution": {
     "iopub.execute_input": "2024-06-14T12:38:02.322729Z",
     "iopub.status.busy": "2024-06-14T12:38:02.322729Z",
     "iopub.status.idle": "2024-06-14T12:38:02.326663Z",
     "shell.execute_reply": "2024-06-14T12:38:02.326663Z",
     "shell.execute_reply.started": "2024-06-14T12:38:02.322729Z"
    },
    "executionInfo": {
     "elapsed": 297,
     "status": "ok",
     "timestamp": 1718358989147,
     "user": {
      "displayName": "Ivan Porupski",
      "userId": "03127310887960034948"
     },
     "user_tz": -120
    },
    "id": "QpXmeQkhHSMy",
    "outputId": "18d66a32-7b49-4cac-ed0e-2f4d4bb4c771"
   },
   "outputs": [
    {
     "name": "stdout",
     "output_type": "stream",
     "text": [
      "All good. kenlm is present to make the LM model.\n"
     ]
    }
   ],
   "source": [
    "try:\n",
    "    import kenlm\n",
    "    print(f\"All good. kenlm is present to make the LM model.\")\n",
    "except ImportError:\n",
    "    !pip install https://github.com/kpu/kenlm/archive/master.zip # requires runtime restart\n",
    "    import os\n",
    "    os.kill(os.getpid(), 9) # restart automatically"
   ]
  },
  {
   "cell_type": "markdown",
   "metadata": {
    "id": "7bkH_9mFRi5n"
   },
   "source": [
    "## [2] Defining all paths"
   ]
  },
  {
   "cell_type": "code",
   "execution_count": 4,
   "metadata": {
    "execution": {
     "iopub.execute_input": "2024-06-14T10:58:05.016108Z",
     "iopub.status.busy": "2024-06-14T10:58:05.016108Z",
     "iopub.status.idle": "2024-06-14T10:58:05.019262Z",
     "shell.execute_reply": "2024-06-14T10:58:05.019262Z",
     "shell.execute_reply.started": "2024-06-14T10:58:05.016108Z"
    },
    "executionInfo": {
     "elapsed": 2,
     "status": "ok",
     "timestamp": 1718358968575,
     "user": {
      "displayName": "Ivan Porupski",
      "userId": "03127310887960034948"
     },
     "user_tz": -120
    },
    "id": "PnFUfYq5HPsy"
   },
   "outputs": [],
   "source": [
    "path_to_pshr_raw_audio_data = r\"D:\\ParlaSpeech-HR.v1.0\\raw\"\n",
    "path_to_pshr_raw_jsonl = r\"D:\\ParlaSpeech-HR.v1.0\\ParlaSpeech-HR.v1.0.jsonl\"\n",
    "\n",
    "path_to_pshr_models = r\"D:\\ASR\\ParlaspeechHR\"\n",
    "path_to_pshr_wav2vec2_l = r\"D:\\ASR\\ParlaspeechHR\\wav2vec2-large-slavih-hr\\wav2vec2-large-slavic-parlaspeech-hr\"\n",
    "path_to_pshr_wav2vec2_l_lm = r\"D:\\ASR\\ParlaspeechHR\\wav2vec2-large-slavic-hr-lm\"\n",
    "\n",
    "test_audio_path = r\"D:\\ASR\\ParlaspeechHR\\wav2vec2-large-slavic-hr-lm\\nela_film_review.ogg\""
   ]
  },
  {
   "cell_type": "code",
   "execution_count": 6,
   "metadata": {
    "colab": {
     "base_uri": "https://localhost:8080/"
    },
    "execution": {
     "iopub.execute_input": "2024-06-14T10:46:56.784023Z",
     "iopub.status.busy": "2024-06-14T10:46:56.784023Z",
     "iopub.status.idle": "2024-06-14T10:46:56.786733Z",
     "shell.execute_reply": "2024-06-14T10:46:56.786733Z",
     "shell.execute_reply.started": "2024-06-14T10:46:56.784023Z"
    },
    "executionInfo": {
     "elapsed": 2210,
     "status": "ok",
     "timestamp": 1718358996758,
     "user": {
      "displayName": "Ivan Porupski",
      "userId": "03127310887960034948"
     },
     "user_tz": -120
    },
    "id": "aDFTbiSfHyu9",
    "outputId": "828f1e69-1cba-46eb-a187-0ad01bc92414"
   },
   "outputs": [],
   "source": [
    "# # Mount gdrive and place path (private, no download)\n",
    "# from google.colab import drive\n",
    "# drive.mount(\"/content/drive\")\n",
    "\n",
    "# model_file_path = \"/content/drive/MyDrive/pytorch/wav2vec2-large-slavic-hr\"\n",
    "# output_folder = \"/content/drive/MyDrive/pytorch/wav2vec2-large-slavic-hr/temp\"\n",
    "\n",
    "# model_file_path_lm = \"/content/drive/MyDrive/pytorch/wav2vec2-large-slavic-hr-lm\"\n",
    "# output_folder_lm = \"/content/drive/MyDrive/pytorch/wav2vec2-large-slavic-hr-lm/temp\""
   ]
  },
  {
   "cell_type": "markdown",
   "metadata": {
    "id": "hKlYE54RRsUH"
   },
   "source": [
    "## [3] Downloading wav2vec2 (plain or WithLM)"
   ]
  },
  {
   "cell_type": "code",
   "execution_count": 5,
   "metadata": {
    "colab": {
     "base_uri": "https://localhost:8080/"
    },
    "execution": {
     "iopub.execute_input": "2024-06-14T10:58:51.056062Z",
     "iopub.status.busy": "2024-06-14T10:58:51.056062Z",
     "iopub.status.idle": "2024-06-14T10:58:51.063673Z",
     "shell.execute_reply": "2024-06-14T10:58:51.063673Z",
     "shell.execute_reply.started": "2024-06-14T10:58:51.056062Z"
    },
    "executionInfo": {
     "elapsed": 298,
     "status": "ok",
     "timestamp": 1718359439487,
     "user": {
      "displayName": "Ivan Porupski",
      "userId": "03127310887960034948"
     },
     "user_tz": -120
    },
    "id": "65WVbDBfIgUw",
    "outputId": "16f08152-bfbd-4c0f-d16a-334b4fdaef48"
   },
   "outputs": [
    {
     "name": "stdout",
     "output_type": "stream",
     "text": [
      "Running localy, good luck\n",
      "\n",
      "Using model from path: D:\\ASR\\ParlaspeechHR\\wav2vec2-large-slavih-hr\\wav2vec2-large-slavic-parlaspeech-hr\n"
     ]
    }
   ],
   "source": [
    "# Download HF repository manually and place path (public, ~2GB download)\n",
    "import os\n",
    "\n",
    "\n",
    "if google_colabbing == True:\n",
    "    \n",
    "    from google.colab import drive\n",
    "    drive.mount(\"/content/drive\")\n",
    "\n",
    "    if choose_lm_model == False:\n",
    "      # Check if the directory exists\n",
    "      if not os.path.exists(\"/content/wav2vec2-large-slavic-parlaspeech-hr\"):\n",
    "          # Clone the repository if it doesn't exist\n",
    "          !git clone https://huggingface.co/classla/wav2vec2-large-slavic-parlaspeech-hr\n",
    "          os.makedirs(\"/content/wav2vec2-large-slavic-parlaspeech-hr/temp\", exist_ok=True)\n",
    "      else:\n",
    "          print(f\"wav2vec2-parlaspeech-hr already exists.\")\n",
    "    \n",
    "      model_file_path = \"/content/wav2vec2-large-slavic-parlaspeech-hr\"\n",
    "      print(f\"\\nUsing model from path: {model_file_path}\")\n",
    "    \n",
    "    else:\n",
    "      # Check if the directory exists\n",
    "      if not os.path.exists(\"/content/pytorch/wav2vec2-large-slavic-hr-lm\"):\n",
    "          # Clone the repository if it doesn't exist\n",
    "          !git clone https://huggingface.co/classla/wav2vec2-large-slavic-parlaspeech-hr-lm\n",
    "          os.makedirs(\"/content/wav2vec2-large-slavic-parlaspeech-hr-lm/temp\", exist_ok=True)\n",
    "      else:\n",
    "          print(f\"wav2vec2-parlaspeech-hr-lm already exists.\")\n",
    "    \n",
    "      model_file_path = \"/content/pytorch/wav2vec2-large-slavic-hr-lm\"\n",
    "      print(f\"\\nUsing model from path: {model_file_path}\")\n",
    "        \n",
    "else:\n",
    "    print(f\"Running localy, good luck\")\n",
    "    \n",
    "    if choose_lm_model == False:\n",
    "        model_file_path = path_to_pshr_wav2vec2_l\n",
    "    else: \n",
    "        model_file_path = path_to_pshr_wav2vec2_l_lm\n",
    "    print(f\"\\nUsing model from path: {model_file_path}\")\n",
    "\n"
   ]
  },
  {
   "cell_type": "markdown",
   "metadata": {
    "id": "ay3Tr6dBR0gn"
   },
   "source": [
    "## [4] Initilize the model!"
   ]
  },
  {
   "cell_type": "code",
   "execution_count": 7,
   "metadata": {
    "colab": {
     "base_uri": "https://localhost:8080/"
    },
    "execution": {
     "iopub.execute_input": "2024-06-14T10:59:00.287640Z",
     "iopub.status.busy": "2024-06-14T10:59:00.287640Z",
     "iopub.status.idle": "2024-06-14T10:59:00.297136Z",
     "shell.execute_reply": "2024-06-14T10:59:00.297136Z",
     "shell.execute_reply.started": "2024-06-14T10:59:00.287640Z"
    },
    "executionInfo": {
     "elapsed": 300,
     "status": "ok",
     "timestamp": 1718361529289,
     "user": {
      "displayName": "Ivan Porupski",
      "userId": "03127310887960034948"
     },
     "user_tz": -120
    },
    "id": "KbCTLV-yHiZh",
    "outputId": "97943b4f-e296-416a-e5b5-d25330207698"
   },
   "outputs": [
    {
     "name": "stdout",
     "output_type": "stream",
     "text": [
      "device: cpu\n",
      "tokenizer0 exists.\n",
      "feature_extractor0 exists.\n",
      "processor0 exists.\n",
      "model0 exists.\n"
     ]
    }
   ],
   "source": [
    "from transformers import Wav2Vec2Processor, Wav2Vec2ProcessorWithLM, Wav2Vec2ForCTC, Wav2Vec2FeatureExtractor, Wav2Vec2CTCTokenizer\n",
    "import torch\n",
    "import os\n",
    "import kenlm\n",
    "from pyctcdecode import BeamSearchDecoderCTC, build_ctcdecoder\n",
    "\n",
    "# Set device as gpu, default = cpu\n",
    "device = torch.device(\"cuda:0\" if torch.cuda.is_available() else \"cpu\")\n",
    "print(f\"device: {device}\")\n",
    "\n",
    "if choose_lm_model == False:\n",
    "  # Make the tokenizer\n",
    "  if 'tokenizer0' not in globals():\n",
    "    print(f\"tokenizer0 not found. Making tokenizer0...\")\n",
    "    tokenizer0 = Wav2Vec2CTCTokenizer(model_file_path + \"/vocab.json\",\n",
    "                                    unk_token=\"[UNK]\",\n",
    "                                    pad_token=\"[PAD]\",\n",
    "                                    word_delimiter_token=\"|\")\n",
    "  else:\n",
    "    print(f\"tokenizer0 exists.\")\n",
    "\n",
    "  # Make feature_extractor manually taken from preprocessor_config.json\n",
    "  if 'feature_extractor0' not in globals():\n",
    "    print(f\"feature_extractor0 not found. Making feature_extractor0...\")\n",
    "    feature_extractor0 = Wav2Vec2FeatureExtractor(feature_size=1,\n",
    "                                                sampling_rate=16000,\n",
    "                                                padding_value=0.0,\n",
    "                                                do_normalize=True,\n",
    "                                                return_attention_mask=True)\n",
    "  else:\n",
    "    print(f\"feature_extractor0 exists.\")\n",
    "\n",
    "  # Make the processor\n",
    "  if 'processor0' not in globals():\n",
    "    print(f\"processor0 not found. Making processor0...\")\n",
    "    processor0 = Wav2Vec2Processor.from_pretrained(model_file_path)\n",
    "  else:\n",
    "      print(\"processor0 exists.\")\n",
    "\n",
    "  # Make the model\n",
    "  if 'model0' not in globals():\n",
    "    print(f\"model0 not found. Making model0...\")\n",
    "    model0 = Wav2Vec2ForCTC.from_pretrained(model_file_path,\n",
    "                                            config=model_file_path + \"/config.json\")\n",
    "  else:\n",
    "    print(\"model0 exists.\")\n",
    "\n",
    "  model0.eval()\n",
    "\n",
    "\n",
    "else:\n",
    "  # Make the tokenizer\n",
    "  if 'tokenizer0lm' not in globals():\n",
    "    print(f\"tokenizer0lm not found. Making tokenizer0lm...\")\n",
    "    tokenizer0lm = Wav2Vec2CTCTokenizer(model_file_path + \"/vocab.json\",\n",
    "                                    unk_token=\"[UNK]\",\n",
    "                                    pad_token=\"[PAD]\",\n",
    "                                    word_delimiter_token=\"|\")\n",
    "  else:\n",
    "    print(f\"tokenizer0lm exists.\")\n",
    "\n",
    "  # Make feature_extractor manually taken from preprocessor_config.json\n",
    "  if 'feature_extractor0lm' not in globals():\n",
    "    print(f\"feature_extractor0lm not found. Making feature_extractor0lm...\")\n",
    "    feature_extractor0lm = Wav2Vec2FeatureExtractor(feature_size=1,\n",
    "                                                    sampling_rate=16000,\n",
    "                                                    padding_value=0.0,\n",
    "                                                    do_normalize=True,\n",
    "                                                    return_attention_mask=True)\n",
    "  else:\n",
    "    print(f\"feature_extractor0lm exists.\")\n",
    "\n",
    "  # Make the processor\n",
    "  if 'processor0lm' not in globals():\n",
    "    print(f\"processor0lm not found. Making processor0lm...\")\n",
    "    processor0lm = Wav2Vec2ProcessorWithLM.from_pretrained(model_file_path)\n",
    "  else:\n",
    "    print(\"processor0lm exists.\")\n",
    "\n",
    "  # Make the model\n",
    "  if 'model0lm' not in globals():\n",
    "    print(f\"model0lm not found. Making model0lm...\")\n",
    "    model0lm = Wav2Vec2ForCTC.from_pretrained(model_file_path,\n",
    "                                              config=model_file_path + \"/config.json\")\n",
    "  else:\n",
    "      print(\"model0lm exists.\")\n",
    "\n",
    "  model0lm.eval()\n"
   ]
  },
  {
   "cell_type": "markdown",
   "metadata": {
    "id": "c8eTi90-R7E_"
   },
   "source": [
    "## [5] Define cutting down into temp chunks (now with DYNAMICS)"
   ]
  },
  {
   "cell_type": "code",
   "execution_count": 114,
   "metadata": {
    "colab": {
     "base_uri": "https://localhost:8080/"
    },
    "execution": {
     "iopub.execute_input": "2024-06-14T12:26:22.524182Z",
     "iopub.status.busy": "2024-06-14T12:26:22.524182Z",
     "iopub.status.idle": "2024-06-14T12:26:22.536307Z",
     "shell.execute_reply": "2024-06-14T12:26:22.536307Z",
     "shell.execute_reply.started": "2024-06-14T12:26:22.524182Z"
    },
    "executionInfo": {
     "elapsed": 272,
     "status": "ok",
     "timestamp": 1718360508968,
     "user": {
      "displayName": "Ivan Porupski",
      "userId": "03127310887960034948"
     },
     "user_tz": -120
    },
    "id": "15EPOU2EL7Xu",
    "outputId": "a676d1d2-e0d8-4746-a7d6-d1519087be8f"
   },
   "outputs": [
    {
     "name": "stdout",
     "output_type": "stream",
     "text": [
      "Is debug_printing on? False\n",
      "\n",
      "Transcription function defined and active: \n",
      "Splitting audio in: 20s segments (dynamically). \n",
      "\n"
     ]
    }
   ],
   "source": [
    "import torchaudio\n",
    "import numpy as np\n",
    "from pydub import AudioSegment\n",
    "\n",
    "import matplotlib.pyplot as plt\n",
    "\n",
    "TIME_CHUNK = 20\n",
    "target_sr=16000\n",
    "\n",
    "SILENCE_THRESHOLD = 0.01  # Threshold to detect silence\n",
    "MIN_SILENCE_LENGTH = 0.5  # Minimum length of silence to be considered a split point in seconds\n",
    "\n",
    "\n",
    "print(f\"Is debug_printing on? {debug_printing}\\n\")\n",
    "\n",
    "### PROCESSING ENGINE ###\n",
    "\n",
    "def process_transcribe(input_file):\n",
    "        # Begin processing:\n",
    "        speech, sample_rate = torchaudio.load(input_file)\n",
    "\n",
    "        # Process the speech with the processor\n",
    "        input_values = processor0(speech, sampling_rate=sample_rate, return_tensors=\"pt\").input_values.to(device)\n",
    "\n",
    "        if debug_printing == True:\n",
    "          print(input_values.shape)\n",
    "\n",
    "        if input_values.dim() == 3:  # If the shape is [1, 1, audio_length]\n",
    "            input_values = input_values.squeeze(0)  # Squeeze to [1, audio_length]\n",
    "\n",
    "        if debug_printing == True:\n",
    "          print(input_values.shape)\n",
    "\n",
    "        # Perform inference\n",
    "        with torch.inference_mode():\n",
    "            logits = model0(input_values).logits\n",
    "\n",
    "        if debug_printing == True:\n",
    "         print(\"Logits shape:\", logits.shape)\n",
    "\n",
    "        # Get the predicted token IDs (greedy decoding)\n",
    "        predicted_ids = torch.argmax(logits, dim=-1)\n",
    "\n",
    "        if debug_printing == True:\n",
    "          print(\"Predicted IDs shape:\", predicted_ids.shape)\n",
    "\n",
    "        # Convert predicted IDs to numpy array\n",
    "        predicted_ids = predicted_ids.cpu().numpy()\n",
    "\n",
    "        if debug_printing == True:\n",
    "          print(\"Predicted IDs (numpy):\", predicted_ids)\n",
    "\n",
    "        # Decode the predicted IDs\n",
    "        transcription = processor0.batch_decode(predicted_ids)[0]\n",
    "\n",
    "        if debug_printing == True:\n",
    "          print(\"Transcription:\", transcription)\n",
    "\n",
    "        return transcription\n",
    "\n",
    "\n",
    "def transcribe(input_file, output_folder, target_sr=target_sr, TIME_CHUNK=TIME_CHUNK):\n",
    "    # Load the audio\n",
    "    waveform, orig_sr = torchaudio.load(input_file)\n",
    "\n",
    "    # Check if resampling is needed\n",
    "    if orig_sr != target_sr:\n",
    "        resampler = torchaudio.transforms.Resample(orig_freq=orig_sr, new_freq=target_sr)\n",
    "        waveform = resampler(waveform)\n",
    "\n",
    "    # Determine the output file name and format (always WAV)\n",
    "    base_name = os.path.splitext(os.path.basename(input_file))[0]\n",
    "\n",
    "    # Convert waveform to numpy array for easier processing\n",
    "    waveform_np = waveform.squeeze().numpy()\n",
    "\n",
    "\n",
    "################### RUN THE WHOLE AUDIO FILES ##########################\n",
    "    if testing_asr == True:\n",
    "            # Directly process the entire audio without chunking\n",
    "            #output_file = os.path.join(output_folder, f\"{base_name}_whole.wav\")\n",
    "            #torchaudio.save(output_file, waveform, sample_rate=target_sr)\n",
    "            tekst = process_transcribe(input_file)\n",
    "            # print(f\"Transcription for {base_name}: {tekst}\")\n",
    "            print(tekst)\n",
    "            #os.remove(output_file)  # Optionally delete the temporary WAV file\n",
    "    \n",
    "######### ELSE CHUNKS BASED ON TIME_CHUNK INCREMENTS ##################\n",
    "    else:\n",
    "        # Function to detect silence points\n",
    "        def find_silence_points(signal, threshold, min_silence_length, sr):\n",
    "            silence_points = []\n",
    "            min_silence_samples = int(min_silence_length * sr)\n",
    "            is_silence = np.abs(signal) < threshold\n",
    "            silence_length = 0\n",
    "            for i in range(len(is_silence)):\n",
    "                if is_silence[i]:\n",
    "                    silence_length += 1\n",
    "                    if silence_length >= min_silence_samples:\n",
    "                        silence_points.append(i)\n",
    "                else:\n",
    "                    silence_length = 0\n",
    "            return silence_points\n",
    "\n",
    "\n",
    "        # Find silence points in the audio\n",
    "        silence_points = find_silence_points(waveform_np, SILENCE_THRESHOLD, MIN_SILENCE_LENGTH, target_sr)\n",
    "    \n",
    "        if debug_printing == True:\n",
    "    \n",
    "            print(f\"Plotting point where silence ({len(silence_points)} points) has been detected in {input_file}\")\n",
    "            # Plot the waveform and silence points\n",
    "            plt.figure(figsize=(15, 5))\n",
    "            plt.plot(waveform_np, label='Waveform')\n",
    "            plt.scatter(silence_points, waveform_np[silence_points], color='red', marker='x', label='Silence Points')\n",
    "            plt.xlabel('Samples')\n",
    "            plt.ylabel('Amplitude')\n",
    "            plt.title('Waveform with Silence Points')\n",
    "            plt.legend()\n",
    "            plt.show()\n",
    "    \n",
    "        # Split the audio at silence points\n",
    "        chunk_start = 0\n",
    "        for i, point in enumerate(silence_points):\n",
    "            chunk_end = point\n",
    "            if chunk_end - chunk_start >= TIME_CHUNK * target_sr:\n",
    "                chunk = waveform[:, chunk_start:chunk_end]\n",
    "                output_file = os.path.join(output_folder, f\"{base_name}_temp_chunk{i}.wav\")\n",
    "                torchaudio.save(output_file, chunk, sample_rate=target_sr)\n",
    "    \n",
    "                # Process the temporary WAV file\n",
    "                tekst = process_transcribe(output_file)\n",
    "                time = format_time(chunk_start / target_sr)\n",
    "                print(f\"[{time}] {tekst}\")\n",
    "    \n",
    "                # Optionally, you can delete the temporary WAV file after processing\n",
    "                os.remove(output_file)\n",
    "    \n",
    "                chunk_start = chunk_end\n",
    "                \n",
    "        def format_time(seconds):\n",
    "            minutes = int(seconds // 60)\n",
    "            seconds = int(seconds % 60)\n",
    "            return f\"{minutes:02d}:{seconds:02d}\"\n",
    "    \n",
    "        # Process the remaining audio if any\n",
    "        if chunk_start < waveform.size(1):\n",
    "            chunk = waveform[:, chunk_start:]\n",
    "            output_file = os.path.join(output_folder, f\"{base_name}_temp_chunk{len(silence_points)}.wav\")\n",
    "            torchaudio.save(output_file, chunk, sample_rate=target_sr)\n",
    "            tekst = process_transcribe(output_file)\n",
    "            time = format_time(chunk_start / target_sr)\n",
    "            print(f\"[{time}] {tekst}\")\n",
    "            os.remove(output_file)\n",
    "\n",
    "\n",
    "print(f\"Transcription function defined and active: \\nSplitting audio in: {TIME_CHUNK}s segments (dynamically). \\n\")\n"
   ]
  },
  {
   "cell_type": "markdown",
   "metadata": {
    "id": "x_ZwYCvBSBtG"
   },
   "source": [
    "## [6] Quick test to verify"
   ]
  },
  {
   "cell_type": "code",
   "execution_count": 33,
   "metadata": {
    "execution": {
     "iopub.execute_input": "2024-06-14T11:17:41.062653Z",
     "iopub.status.busy": "2024-06-14T11:17:41.062653Z",
     "iopub.status.idle": "2024-06-14T11:17:41.065862Z",
     "shell.execute_reply": "2024-06-14T11:17:41.065862Z",
     "shell.execute_reply.started": "2024-06-14T11:17:41.062653Z"
    }
   },
   "outputs": [],
   "source": [
    "path_to_pshr_wav2vec2_l = r\"D:\\ASR\\ParlaspeechHR\\wav2vec2-large-slavih-hr\\wav2vec2-large-slavic-parlaspeech-hr\"\n",
    "path_to_pshr_wav2vec2_l_lm = r\"D:\\ASR\\ParlaspeechHR\\wav2vec2-large-slavic-hr-lm\"\n",
    "\n",
    "#test_audio_path_pc = r\"D:\\ASR\\ParlaspeechHR\\wav2vec2-large-slavic-hr-lm\\nela_film_review.ogg\" # WORKS WELL\n",
    "test_audio_path_pc = r\"D:\\ASR\\ParlaspeechHR\\ivan_snimka.opus\""
   ]
  },
  {
   "cell_type": "code",
   "execution_count": 34,
   "metadata": {
    "colab": {
     "base_uri": "https://localhost:8080/"
    },
    "execution": {
     "iopub.execute_input": "2024-06-14T11:17:45.527131Z",
     "iopub.status.busy": "2024-06-14T11:17:45.527131Z",
     "iopub.status.idle": "2024-06-14T11:17:51.992292Z",
     "shell.execute_reply": "2024-06-14T11:17:51.992292Z",
     "shell.execute_reply.started": "2024-06-14T11:17:45.527131Z"
    },
    "executionInfo": {
     "elapsed": 27946,
     "status": "ok",
     "timestamp": 1718360448610,
     "user": {
      "displayName": "Ivan Porupski",
      "userId": "03127310887960034948"
     },
     "user_tz": -120
    },
    "id": "qovFsXvCNTEc",
    "outputId": "d50a5b1a-a99b-43aa-d938-6b758934dbd4"
   },
   "outputs": [
    {
     "name": "stdout",
     "output_type": "stream",
     "text": [
      "Plotting point where silence (54274 points) has been detected in D:\\ASR\\ParlaspeechHR\\ivan_snimka.opus\n"
     ]
    },
    {
     "data": {
      "image/png": "[encoded data removed]",
      "text/plain": [
       "<Figure size 1500x500 with 1 Axes>"
      ]
     },
     "metadata": {},
     "output_type": "display_data"
    },
    {
     "name": "stdout",
     "output_type": "stream",
     "text": [
      "[00:00] sada ti šaljem glasovnu poruku i ne znam šta pričam ali evo pričam znači ovo tu mi je trebalo jedno 30 sati da dođem do ovog trenutka pričem normalno razgovjetno i nadam se da će transkripcija biti dobra naime ja to nisam izmislio nego su to zapravo 3 slovenca\n",
      "[00:19] uzeli od facboka model i strenirali ga na govoru iz\n",
      "[00:26] parlamenta specifično za hrvatski jeziku\n"
     ]
    }
   ],
   "source": [
    "if google_colabbing == True:\n",
    "\n",
    "    test_audio_path = \"/content/drive/MyDrive/pytorch/wav2vec2-large-slavic-hr-lm/ivan_snimka.opus\"\n",
    "    test_audio_temp = \"/content/wav2vec2-large-slavic-parlaspeech-hr/temp\"\n",
    "    \n",
    "else:\n",
    "    if choose_lm_model == False:\n",
    "        # Običan model\n",
    "        test_audio_path = test_audio_path_pc\n",
    "        test_audio_temp = path_to_pshr_wav2vec2_l + r\"\\temp\"\n",
    "        \n",
    "    else:\n",
    "        # LM model\n",
    "        test_audio_path = test_audio_path_pc\n",
    "        test_audio_temp = path_to_pshr_wav2vec2_l_lm + r\"\\temp\"\n",
    "    \n",
    "transcribe(test_audio_path, test_audio_temp)"
   ]
  },
  {
   "cell_type": "markdown",
   "metadata": {
    "id": "zENOebskRMRG"
   },
   "source": [
    "# MODEL IS NOW OPERATIONAL"
   ]
  },
  {
   "cell_type": "markdown",
   "metadata": {
    "id": "R8dG337mSHjb"
   },
   "source": [
    "## [7] Prepare to run ling analysis"
   ]
  },
  {
   "cell_type": "code",
   "execution_count": 70,
   "metadata": {
    "execution": {
     "iopub.execute_input": "2024-06-14T11:52:16.862073Z",
     "iopub.status.busy": "2024-06-14T11:52:16.862073Z",
     "iopub.status.idle": "2024-06-14T11:52:17.500145Z",
     "shell.execute_reply": "2024-06-14T11:52:17.500145Z",
     "shell.execute_reply.started": "2024-06-14T11:52:16.862073Z"
    },
    "id": "uXKBhHqgNS7M"
   },
   "outputs": [
    {
     "name": "stdout",
     "output_type": "stream",
     "text": [
      "Number of audio files in 'D:\\ParlaSpeech-HR.v1.0\\raw': 403925\n",
      "\n",
      "Number of entries in 'D:\\ParlaSpeech-HR.v1.0\\ParlaSpeech-HR.v1.0.jsonl': 403925\n",
      "\n",
      "CPU times: total: 625 ms\n",
      "Wall time: 635 ms\n"
     ]
    }
   ],
   "source": [
    "%%time\n",
    "\n",
    "import os\n",
    "\n",
    "# Directory containing audio files\n",
    "path_to_pshr_raw_audio_data = r\"D:\\ParlaSpeech-HR.v1.0\\raw\"\n",
    "\n",
    "# List all files in the directory\n",
    "audio_files = os.listdir(path_to_pshr_raw_audio_data)\n",
    "\n",
    "# Count the number of audio files\n",
    "num_audio_files = len(audio_files)\n",
    "\n",
    "print(f\"Number of audio files in '{path_to_pshr_raw_audio_data}': {num_audio_files}\\n\")\n",
    "\n",
    "# JSONL file containing metadata\n",
    "path_to_pshr_raw_jsonl = r\"D:\\ParlaSpeech-HR.v1.0\\ParlaSpeech-HR.v1.0.jsonl\"\n",
    "\n",
    "# Counting lines in the JSONL file\n",
    "num_entries = 0\n",
    "with open(path_to_pshr_raw_jsonl, 'r', encoding='utf-8') as f:\n",
    "    for line in f:\n",
    "        num_entries += 1\n",
    "\n",
    "print(f\"Number of entries in '{path_to_pshr_raw_jsonl}': {num_entries}\\n\")\n"
   ]
  },
  {
   "cell_type": "code",
   "execution_count": null,
   "metadata": {},
   "outputs": [],
   "source": [
    "import os\n",
    "import json\n",
    "\n",
    "# Paths to your data\n",
    "path_to_pshr_raw_audio_data = r\"D:\\ParlaSpeech-HR.v1.0\\raw\"\n",
    "path_to_pshr_raw_jsonl = r\"D:\\ParlaSpeech-HR.v1.0\\ParlaSpeech-HR.v1.0.jsonl\"\n",
    "\n",
    "# Limit number of transcriptions to print\n",
    "limit = 5\n",
    "count = 0\n",
    "\n",
    "# Read JSONL file\n",
    "audio_transcriptions = {}\n",
    "with open(path_to_pshr_raw_jsonl, 'r', encoding='utf-8') as jsonl_file:\n",
    "    for line in jsonl_file:\n",
    "        if count >= limit:\n",
    "            break\n",
    "        \n",
    "        data = json.loads(line.strip())\n",
    "        audio_filename = os.path.basename(data['path'])\n",
    "        audio_transcriptions[audio_filename] = data['norm_words']  # Use 'norm_words' or other transcription field\n",
    "        \n",
    "        count += 1\n",
    "        \n",
    "audio_transcriptions = dict(sorted(audio_transcriptions.items()))\n",
    "\n",
    "print(f\"audio_transcriptions: {audio_transcriptions}\")\n"
   ]
  },
  {
   "cell_type": "markdown",
   "metadata": {},
   "source": [
    "### Generiranje audio_transcriptions dict(sorted)"
   ]
  },
  {
   "cell_type": "code",
   "execution_count": 138,
   "metadata": {
    "execution": {
     "iopub.execute_input": "2024-06-14T12:42:00.379722Z",
     "iopub.status.busy": "2024-06-14T12:42:00.379722Z",
     "iopub.status.idle": "2024-06-14T12:42:12.325333Z",
     "shell.execute_reply": "2024-06-14T12:42:12.325333Z",
     "shell.execute_reply.started": "2024-06-14T12:42:00.379722Z"
    }
   },
   "outputs": [
    {
     "name": "stdout",
     "output_type": "stream",
     "text": [
      "FULL AUDIO_TRANSCRIPTIONS HERE\n",
      "CPU times: total: 11.6 s\n",
      "Wall time: 11.9 s\n"
     ]
    }
   ],
   "source": [
    "%%time\n",
    "\n",
    "print(f\"FULL AUDIO_TRANSCRIPTIONS HERE\")\n",
    "\n",
    "import os\n",
    "import json\n",
    "\n",
    "# Paths to your data\n",
    "path_to_pshr_raw_audio_data = r\"D:\\ParlaSpeech-HR.v1.0\\raw\"\n",
    "path_to_pshr_raw_jsonl = r\"D:\\ParlaSpeech-HR.v1.0\\ParlaSpeech-HR.v1.0.jsonl\"\n",
    "\n",
    "# Read JSONL file\n",
    "audio_transcriptions = {}\n",
    "with open(path_to_pshr_raw_jsonl, 'r', encoding='utf-8') as jsonl_file:\n",
    "    for line in jsonl_file:\n",
    "        data = json.loads(line.strip())\n",
    "        audio_filename = os.path.basename(data['path'])\n",
    "        audio_transcriptions[audio_filename] = data['norm_words']  # Use 'norm_words' or other transcription field\n",
    "\n",
    "audio_transcriptions = dict(sorted(audio_transcriptions.items()))\n",
    "\n"
   ]
  },
  {
   "cell_type": "code",
   "execution_count": 89,
   "metadata": {
    "execution": {
     "iopub.execute_input": "2024-06-14T11:59:26.093327Z",
     "iopub.status.busy": "2024-06-14T11:59:26.093327Z",
     "iopub.status.idle": "2024-06-14T11:59:26.270901Z",
     "shell.execute_reply": "2024-06-14T11:59:26.270108Z",
     "shell.execute_reply.started": "2024-06-14T11:59:26.093327Z"
    }
   },
   "outputs": [
    {
     "name": "stdout",
     "output_type": "stream",
     "text": [
      "Displaying first 3 audio names w/ transcription:\n",
      "\n",
      "debug_printing: False\n",
      "\n",
      "Correlating audio files with transcriptions:\n",
      "\n",
      "Audio File:\n",
      "seg.-EO06cT21uY_10038.21-10054.64.flac\n",
      "\n",
      "Transcription:\n",
      "lijepo kolegice i kolege nemojte se vi varda hihotat prije četirig ste izdali birače sad jedva čekam da vidim kako će vas nagradit jedva čekam hvala lijepo kolegice i kolega kolege zastupnici g potpredsjedniče\n",
      "------------------------------\n",
      "\n",
      "\n",
      "Audio File:\n",
      "seg.-EO06cT21uY_10111.7-10131.55.flac\n",
      "\n",
      "Transcription:\n",
      "hadeze želi pokušati dati obećanje za šest mjeseci da će neki građani dobiti osam stotina kuna i jedina svrha ovog zakona su je kampanja odnosno izbori i predizborna kampanja jer kako drugačije objasniti da niste dali kada\n",
      "------------------------------\n",
      "\n",
      "\n",
      "Audio File:\n",
      "seg.-EO06cT21uY_10131.55-10147.16.flac\n",
      "\n",
      "Transcription:\n",
      "ste imali rast tri posto a sada predlaže kao fol g aladrović i plenković se brinu za naše starije sugrađane i evo kad ćemo imati pad od deset posto izdvojili su osamsto kuna\n",
      "------------------------------\n",
      "\n",
      "\n",
      "CPU times: total: 156 ms\n",
      "Wall time: 171 ms\n"
     ]
    }
   ],
   "source": [
    "%%time\n",
    "\n",
    "# Print limited number of audio_transcriptions\n",
    "limit = 3\n",
    "count = 0\n",
    "\n",
    "print(f\"Displaying first {limit} audio names w/ transcription:\\n\")\n",
    "\n",
    "\n",
    "\n",
    "\n",
    "# List all files in the directory\n",
    "all_files = os.listdir(path_to_pshr_raw_audio_data)\n",
    "\n",
    "# Sort the files alphabetically or by any other criteria, if needed\n",
    "all_files.sort()\n",
    "\n",
    "# Select the first 10 files\n",
    "first_10_files = all_files[:10]\n",
    "\n",
    "print(f\"debug_printing: {debug_printing}\")\n",
    "\n",
    "if debug_printing == True:\n",
    "    # Debug prints\n",
    "    print(\"First 10 Files:\")\n",
    "    print(first_10_files)\n",
    "    print(\"\\nAudio Transcriptions:\")\n",
    "\n",
    "for filename, transcription in audio_transcriptions.items():\n",
    "    if count >= limit:\n",
    "        break\n",
    "    if debug_printing == True:\n",
    "        print(f\"{filename}: {transcription}\")\n",
    "    count += 1\n",
    "\n",
    "# Step 3: Correlate audio files with transcriptions (limiting to 'limit' iterations)\n",
    "print(\"\\nCorrelating audio files with transcriptions:\\n\")\n",
    "for i, audio_file in enumerate(first_10_files[:limit]):\n",
    "    if audio_file in audio_transcriptions:\n",
    "        transcription = ' '.join(audio_transcriptions[audio_file])\n",
    "        print(f\"Audio File:\\n{audio_file}\\n\\nTranscription:\\n{transcription}\")\n",
    "    else:\n",
    "        print(f\"No transcription found for {audio_file}\")\n",
    "    \n",
    "    # Add a separator between iterations for clarity, except after the last item\n",
    "    if i < (limit):\n",
    "        print(\"-\" * 30)\n",
    "        print(\"\\n\")\n"
   ]
  },
  {
   "cell_type": "markdown",
   "metadata": {},
   "source": [
    "# TESTING TRANSCRIPTIONS now"
   ]
  },
  {
   "cell_type": "code",
   "execution_count": 119,
   "metadata": {
    "execution": {
     "iopub.execute_input": "2024-06-14T12:27:23.836450Z",
     "iopub.status.busy": "2024-06-14T12:27:23.835452Z",
     "iopub.status.idle": "2024-06-14T12:27:39.567234Z",
     "shell.execute_reply": "2024-06-14T12:27:39.567234Z",
     "shell.execute_reply.started": "2024-06-14T12:27:23.836450Z"
    }
   },
   "outputs": [
    {
     "name": "stdout",
     "output_type": "stream",
     "text": [
      "hvala lijepo kolegice i kolege nemojte se vi varda hihotat prije 4 godine ste izdali birače sada jedva čekam da vidim kako će vas nagraditi jedva čekam hvala lijepo kolegice i kolege zastupnici gospodine potpredsjedniče\n",
      "------------------------------\n",
      "hdz želi pokušati dati obećanje za 6 mjesci da će neki građani dobiti 8000 kuna i jedina svrha ovog zakona su je kampanja odnosno izbori i predizborna kampanja jer kako drugačije objasniti da niste dali kada\n",
      "------------------------------\n",
      "ste imali rast 3 a sada predlažete kao hol gospodina ladrović i plenkovića se brinu za naše starije sugrađane i evo kada ćemo imati pad ud 10 izdvojili su 800 kuna\n",
      "------------------------------\n",
      "ma dajte molim vas to nitko ne vjeruje to ne vjeruje nitito ne vjeruju niti djeca koja su nažalost danas doma i gledaju njih 98 školu na televiziji i bilo bi dobro da vlada rh je u stanju organizirati obrazovni sustav da\n",
      "------------------------------\n",
      "djeca mogu stjecati znanje i obrazovati se da pokažu da nas mogu vratiti u normalni period nego što jedino razmišljaju o kampanji izborima i kako osigurati plenkoviću još jedan mandat svi su to prokužili svi to razumiju\n"
     ]
    }
   ],
   "source": [
    "# Iterate over the first 5 .flac files\n",
    "for i, audio_file in enumerate(all_files[:5]):\n",
    "    if audio_file.endswith('.flac'):\n",
    "        flac_audio_path = os.path.join(path_to_pshr_raw_audio_data, audio_file)\n",
    "        transcribe(flac_audio_path, test_audio_temp)\n",
    "    else:\n",
    "        print(f\"Skipping non-FLAC file: {audio_file}\")\n",
    "\n",
    "    # Add a separator between iterations for clarity\n",
    "    if i < 4:  # Adjust the limit based on the number of files you want to process\n",
    "        print(\"-\" * 30)"
   ]
  },
  {
   "cell_type": "code",
   "execution_count": 207,
   "metadata": {
    "execution": {
     "iopub.execute_input": "2024-06-14T14:24:19.157677Z",
     "iopub.status.busy": "2024-06-14T14:24:19.157677Z",
     "iopub.status.idle": "2024-06-14T14:24:19.166652Z",
     "shell.execute_reply": "2024-06-14T14:24:19.166652Z",
     "shell.execute_reply.started": "2024-06-14T14:24:19.157677Z"
    }
   },
   "outputs": [
    {
     "name": "stdout",
     "output_type": "stream",
     "text": [
      "Functions online.\n"
     ]
    }
   ],
   "source": [
    "## NEW\n",
    "\n",
    "import os\n",
    "from jiwer import wer\n",
    "from fuzzywuzzy import fuzz\n",
    "\n",
    "similarity_threshold = 50  # Example threshold, can be adjusted based on requirements\n",
    "max_search_distance = 3  # Maximum number of tokens to search ahead for a match\n",
    "\n",
    "# Example function to tokenize text\n",
    "def tokenize_text(text):\n",
    "    # You can customize tokenization based on your needs, such as handling punctuation, case sensitivity, etc.\n",
    "    return text.lower().split()  # Example: split into lowercase words\n",
    "\n",
    "# Function to normalize numbers based on the predefined mapping\n",
    "def normalize_numbers(tokens, norm_nums):\n",
    "    normalized_tokens = []\n",
    "    for token in tokens:\n",
    "        if token.lower() in norm_nums:\n",
    "            normalized_tokens.append(norm_nums[token.lower()])\n",
    "        elif token.isdigit() and int(token) in norm_nums:\n",
    "            normalized_tokens.append(norm_nums[int(token)])\n",
    "        else:\n",
    "            normalized_tokens.append(token)\n",
    "    return normalized_tokens\n",
    "\n",
    "# Function to align ASR tokens with original tokens based on character similarity\n",
    "def align_tokens(original_tokens, asr_tokens, similarity_threshold=similarity_threshold):\n",
    "    aligned_asr_tokens = []\n",
    "    asr_index = 0\n",
    "    \n",
    "    for original_token in original_tokens:\n",
    "        found_match = False\n",
    "        search_end = min(asr_index + max_search_distance, len(asr_tokens))\n",
    "        for i in range(asr_index, search_end):\n",
    "            asr_token = asr_tokens[i]\n",
    "            similarity = fuzz.ratio(original_token, asr_token)\n",
    "            \n",
    "            if debug_printing == True:\n",
    "                print(f\"Comparing original token '{original_token}' with ASR token '{asr_token}': Similarity = {similarity}\")\n",
    "                \n",
    "            if similarity >= similarity_threshold:\n",
    "                # Found a match, so align both original and ASR tokens\n",
    "                aligned_asr_tokens.append(asr_token)\n",
    "                asr_index = i + 1  # Move the ASR index forward\n",
    "                found_match = True\n",
    "                \n",
    "                if debug_printing == True:\n",
    "                    print(f\"Match found for '{original_token}' with '{asr_token}'\")\n",
    "                    \n",
    "                break\n",
    "        \n",
    "        if not found_match:\n",
    "            # No match found within the search distance, handle as needed (optional)\n",
    "            # For simplicity, you can decide to skip or handle cases where no match is found\n",
    "            if debug_printing == True:\n",
    "                print(f\"No match found for '{original_token}', handling case...\")\n",
    "    \n",
    "    if debug_printing == True:\n",
    "        print(\"Aligned ASR tokens:\", aligned_asr_tokens)\n",
    "        \n",
    "    return aligned_asr_tokens\n",
    "\n",
    "print(f\"Functions online.\")"
   ]
  },
  {
   "cell_type": "markdown",
   "metadata": {
    "jp-MarkdownHeadingCollapsed": true
   },
   "source": [
    "## Definiranje znamenki (robustnost)"
   ]
  },
  {
   "cell_type": "code",
   "execution_count": 191,
   "metadata": {
    "execution": {
     "iopub.execute_input": "2024-06-14T13:55:40.103885Z",
     "iopub.status.busy": "2024-06-14T13:55:40.102888Z",
     "iopub.status.idle": "2024-06-14T13:55:40.107884Z",
     "shell.execute_reply": "2024-06-14T13:55:40.107884Z",
     "shell.execute_reply.started": "2024-06-14T13:55:40.103885Z"
    }
   },
   "outputs": [],
   "source": [
    "# Define the mappings for numbers in Croatian\n",
    "norm_nums = {\n",
    "    1: 'jedan',\n",
    "    2: 'dva',\n",
    "    3: 'tri',\n",
    "    4: 'četiri',\n",
    "    5: 'pet',\n",
    "    6: 'šest',\n",
    "    7: 'sedam',\n",
    "    8: 'osam',\n",
    "    9: 'devet',\n",
    "    10: 'deset',\n",
    "    11: 'jedanaest',\n",
    "    12: 'dvanaest',\n",
    "    13: 'trinaest',\n",
    "    14: 'četrnaest',\n",
    "    15: 'petnaest',\n",
    "    16: 'šesnaest',\n",
    "    17: 'sedamnaest',\n",
    "    18: 'osamnaest',\n",
    "    19: 'devetnaest',\n",
    "    20: 'dvadeset',\n",
    "    30: 'trideset',\n",
    "    40: 'četrdeset',\n",
    "    50: 'pedeset',\n",
    "    60: 'šezdeset',\n",
    "    70: 'sedamdeset',\n",
    "    80: 'osamdeset',\n",
    "    90: 'devedeset',\n",
    "    100: 'sto',\n",
    "    200: 'dvjesto',\n",
    "    300: 'tristo',\n",
    "    400: 'četiristo',\n",
    "    500: 'petsto',\n",
    "    600: 'šesto',\n",
    "    700: 'sedamsto',\n",
    "    800: 'osamsto',\n",
    "    900: 'devetsto',\n",
    "    1000: 'tisuća',\n",
    "    2000: 'dvije tisuće',  # Two thousand\n",
    "    3000: 'tri tisuće',    # Three thousand\n",
    "    4000: 'četiri tisuće', # Four thousand\n",
    "    5000: 'pet tisuća',    # Five thousand\n",
    "    6000: 'šest tisuća',   # Six thousand\n",
    "    7000: 'sedam tisuća',  # Seven thousand\n",
    "    8000: 'osam tisuća',   # Eight thousand\n",
    "    9000: 'devet tisuća',  # Nine thousand\n",
    "}\n",
    "\n",
    "# Create the reverse mapping for Croatian numbers\n",
    "norm_nums_reverse = {value: key for key, value in norm_nums.items()}\n"
   ]
  },
  {
   "cell_type": "markdown",
   "metadata": {},
   "source": [
    "## Run WER matching"
   ]
  },
  {
   "cell_type": "code",
   "execution_count": 208,
   "metadata": {
    "execution": {
     "iopub.execute_input": "2024-06-14T14:25:46.270881Z",
     "iopub.status.busy": "2024-06-14T14:25:46.270881Z",
     "iopub.status.idle": "2024-06-14T14:35:31.312435Z",
     "shell.execute_reply": "2024-06-14T14:35:31.312435Z",
     "shell.execute_reply.started": "2024-06-14T14:25:46.270881Z"
    }
   },
   "outputs": [
    {
     "name": "stdout",
     "output_type": "stream",
     "text": [
      "Overall Average ASR Deletions: 2.0300\n",
      "Overall Average ASR Additions: 1.6250\n",
      "Overall Average Error Rate (WER): 0.1006\n",
      "\n",
      "Number of runs: 2\n",
      "Total number of audio processed: 200\n",
      "\n",
      "CPU times: total: 1h 40min 52s\n",
      "Wall time: 9min 45s\n"
     ]
    }
   ],
   "source": [
    "%%time\n",
    "\n",
    "# treba 4s po jednom audio fileu\n",
    "\n",
    "import random\n",
    "\n",
    "# Variables to accumulate metrics\n",
    "num_runs = 2  # Number of runs to average over, each time picking anew randoms\n",
    "max_files_to_process = 100  # Number of files to process per run\n",
    "results = []\n",
    "\n",
    "# Iterate over each run\n",
    "for run in range(num_runs):\n",
    "    total_asr_deletions = 0\n",
    "    total_asr_additions = 0\n",
    "    total_tokens = 0\n",
    "    total_error_rate = 0.0\n",
    "    n = 0  # Number of files processed\n",
    "    \n",
    "    # Shuffle the transcription list for each run if needed\n",
    "    if shuffle_transcript:\n",
    "        random.shuffle(transcription_list)\n",
    "    \n",
    "    # Process up to max_files_to_process files for this run\n",
    "    for input_file, transcription in transcription_list[:max_files_to_process]:\n",
    "        # Process transcription from ASR system\n",
    "        tekst = process_transcribe(os.path.join(path_to_pshr_raw_audio_data, input_file))\n",
    "        \n",
    "        # Get original transcription from dictionary\n",
    "        original_transcription = ' '.join(audio_transcriptions[input_file])\n",
    "        \n",
    "        # Tokenize both transcriptions\n",
    "        original_tokens = tokenize_text(original_transcription)\n",
    "        asr_tokens = tokenize_text(tekst)\n",
    "    \n",
    "        # Normalize numbers in ASR tokens\n",
    "        normalized_asr_tokens = normalize_numbers(asr_tokens, norm_nums)\n",
    "    \n",
    "        # Align ASR tokens with original tokens based on character similarity\n",
    "        aligned_asr_tokens = align_tokens(original_tokens, normalized_asr_tokens, similarity_threshold=similarity_threshold)\n",
    "    \n",
    "        # Calculate error metrics\n",
    "        asr_deletion = len(original_tokens) - len(aligned_asr_tokens)\n",
    "        asr_addition = len(normalized_asr_tokens) - len(aligned_asr_tokens)\n",
    "        total_tokens += len(original_tokens)\n",
    "        error_rate = (asr_deletion + asr_addition) / len(original_tokens)\n",
    "    \n",
    "        # Accumulate metrics\n",
    "        total_asr_deletions += asr_deletion\n",
    "        total_asr_additions += asr_addition\n",
    "        total_error_rate += error_rate\n",
    "        n += 1\n",
    "    \n",
    "        # Print or use the error metric for each file as needed\n",
    "        if debug_printing == True:\n",
    "            print(f\"ASR Deletions: {asr_deletion}\")\n",
    "            print(f\"ASR Additions: {asr_addition}\")\n",
    "            print(f\"Total Tokens: {len(original_tokens)}\")\n",
    "            print(f\"Error Rate (WER): {error_rate}\\n\")\n",
    "    \n",
    "    # Calculate average error metrics for this run\n",
    "    average_asr_deletions = total_asr_deletions / n\n",
    "    average_asr_additions = total_asr_additions / n\n",
    "    average_error_rate = total_error_rate / n\n",
    "    \n",
    "    # Store results for this run in a dictionary\n",
    "    run_result = {\n",
    "        \"average_asr_deletions\": average_asr_deletions,\n",
    "        \"average_asr_additions\": average_asr_additions,\n",
    "        \"average_error_rate\": average_error_rate\n",
    "    }\n",
    "    \n",
    "    # Append run result to results list\n",
    "    results.append(run_result)\n",
    "\n",
    "# Calculate overall averages across all runs\n",
    "overall_average_asr_deletions = sum(result[\"average_asr_deletions\"] for result in results) / num_runs\n",
    "overall_average_asr_additions = sum(result[\"average_asr_additions\"] for result in results) / num_runs\n",
    "overall_average_error_rate = sum(result[\"average_error_rate\"] for result in results) / num_runs\n",
    "\n",
    "# Print overall average error metrics\n",
    "print(f\"Overall Average ASR Deletions: {overall_average_asr_deletions:.4f}\")\n",
    "print(f\"Overall Average ASR Additions: {overall_average_asr_additions:.4f}\")\n",
    "print(f\"Overall Average Error Rate (WER): {overall_average_error_rate:.4f}\\n\")\n",
    "\n",
    "# Print number of runs\n",
    "print(f\"Number of runs: {len(results)}\")\n",
    "print(f\"Total number of audio processed: {max_files_to_process*num_runs}\\n\")\n"
   ]
  },
  {
   "cell_type": "code",
   "execution_count": 209,
   "metadata": {
    "execution": {
     "iopub.execute_input": "2024-06-14T14:45:00.101939Z",
     "iopub.status.busy": "2024-06-14T14:45:00.101939Z",
     "iopub.status.idle": "2024-06-14T14:45:00.104634Z",
     "shell.execute_reply": "2024-06-14T14:45:00.104634Z",
     "shell.execute_reply.started": "2024-06-14T14:45:00.101939Z"
    }
   },
   "outputs": [
    {
     "name": "stdout",
     "output_type": "stream",
     "text": [
      "[{'average_asr_deletions': 1.5, 'average_asr_additions': 1.41, 'average_error_rate': 0.08253023738503472}, {'average_asr_deletions': 2.56, 'average_asr_additions': 1.84, 'average_error_rate': 0.1186493959371065}]\n"
     ]
    }
   ],
   "source": [
    "print(results)"
   ]
  },
  {
   "cell_type": "markdown",
   "metadata": {},
   "source": [
    "# x scrap later"
   ]
  },
  {
   "cell_type": "code",
   "execution_count": 181,
   "metadata": {
    "execution": {
     "iopub.execute_input": "2024-06-14T13:45:53.961440Z",
     "iopub.status.busy": "2024-06-14T13:45:53.961440Z",
     "iopub.status.idle": "2024-06-14T13:45:57.117250Z",
     "shell.execute_reply": "2024-06-14T13:45:57.117250Z",
     "shell.execute_reply.started": "2024-06-14T13:45:53.961440Z"
    }
   },
   "outputs": [
    {
     "name": "stdout",
     "output_type": "stream",
     "text": [
      "Comparing ASR token 'hvala' with original token 'lijepo': Similarity = 18\n",
      "Comparing ASR token 'hvala' with original token 'kolegice': Similarity = 15\n",
      "Comparing ASR token 'hvala' with original token 'i': Similarity = 0\n",
      "No match found for 'hvala', inserting space\n",
      "Comparing ASR token 'lijepo' with original token 'lijepo': Similarity = 100\n",
      "Match found for 'lijepo'\n",
      "Comparing ASR token 'kolegice' with original token 'kolegice': Similarity = 100\n",
      "Match found for 'kolegice'\n",
      "Comparing ASR token 'i' with original token 'i': Similarity = 100\n",
      "Match found for 'i'\n",
      "Comparing ASR token 'kolege' with original token 'kolege': Similarity = 100\n",
      "Match found for 'kolege'\n",
      "Comparing ASR token 'nemojte' with original token 'nemojte': Similarity = 100\n",
      "Match found for 'nemojte'\n",
      "Comparing ASR token 'se' with original token 'se': Similarity = 100\n",
      "Match found for 'se'\n",
      "Comparing ASR token 'vi' with original token 'vi': Similarity = 100\n",
      "Match found for 'vi'\n",
      "Comparing ASR token 'varda' with original token 'varda': Similarity = 100\n",
      "Match found for 'varda'\n",
      "Comparing ASR token 'hihotat' with original token 'hihotat': Similarity = 100\n",
      "Match found for 'hihotat'\n",
      "Comparing ASR token 'prije' with original token 'prije': Similarity = 100\n",
      "Match found for 'prije'\n",
      "Comparing ASR token 'četiri' with original token 'četirig': Similarity = 92\n",
      "Match found for 'četiri'\n",
      "Comparing ASR token 'godine' with original token 'ste': Similarity = 22\n",
      "Comparing ASR token 'godine' with original token 'izdali': Similarity = 33\n",
      "Comparing ASR token 'godine' with original token 'birače': Similarity = 33\n",
      "No match found for 'godine', inserting space\n",
      "Comparing ASR token 'ste' with original token 'ste': Similarity = 100\n",
      "Match found for 'ste'\n",
      "Comparing ASR token 'izdali' with original token 'izdali': Similarity = 100\n",
      "Match found for 'izdali'\n",
      "Comparing ASR token 'birače' with original token 'birače': Similarity = 100\n",
      "Match found for 'birače'\n",
      "Comparing ASR token 'sada' with original token 'sad': Similarity = 86\n",
      "Match found for 'sada'\n",
      "Comparing ASR token 'jedva' with original token 'jedva': Similarity = 100\n",
      "Match found for 'jedva'\n",
      "Comparing ASR token 'čekam' with original token 'čekam': Similarity = 100\n",
      "Match found for 'čekam'\n",
      "Comparing ASR token 'da' with original token 'da': Similarity = 100\n",
      "Match found for 'da'\n",
      "Comparing ASR token 'vidim' with original token 'vidim': Similarity = 100\n",
      "Match found for 'vidim'\n",
      "Comparing ASR token 'kako' with original token 'kako': Similarity = 100\n",
      "Match found for 'kako'\n",
      "Comparing ASR token 'će' with original token 'će': Similarity = 100\n",
      "Match found for 'će'\n",
      "Comparing ASR token 'vas' with original token 'vas': Similarity = 100\n",
      "Match found for 'vas'\n",
      "Comparing ASR token 'nagraditi' with original token 'nagradit': Similarity = 94\n",
      "Match found for 'nagraditi'\n",
      "Comparing ASR token 'jedva' with original token 'jedva': Similarity = 100\n",
      "Match found for 'jedva'\n",
      "Comparing ASR token 'čekam' with original token 'čekam': Similarity = 100\n",
      "Match found for 'čekam'\n",
      "Comparing ASR token 'hvala' with original token 'hvala': Similarity = 100\n",
      "Match found for 'hvala'\n",
      "Comparing ASR token 'lijepo' with original token 'lijepo': Similarity = 100\n",
      "Match found for 'lijepo'\n",
      "Comparing ASR token 'kolegice' with original token 'kolegice': Similarity = 100\n",
      "Match found for 'kolegice'\n",
      "Comparing ASR token 'i' with original token 'i': Similarity = 100\n",
      "Match found for 'i'\n",
      "Comparing ASR token 'kolege' with original token 'kolega': Similarity = 83\n",
      "Match found for 'kolege'\n",
      "Comparing ASR token 'zastupnici' with original token 'kolege': Similarity = 0\n",
      "Comparing ASR token 'zastupnici' with original token 'zastupnici': Similarity = 100\n",
      "Match found for 'zastupnici'\n",
      "Comparing ASR token 'gospodine' with original token 'g': Similarity = 20\n",
      "Comparing ASR token 'gospodine' with original token 'potpredsjedniče': Similarity = 42\n",
      "No match found for 'gospodine', inserting space\n",
      "Comparing ASR token 'potpredsjedniče' with original token 'g': Similarity = 0\n",
      "Comparing ASR token 'potpredsjedniče' with original token 'potpredsjedniče': Similarity = 100\n",
      "Match found for 'potpredsjedniče'\n",
      "\n",
      "len(original_tokens) 34\n",
      "original_tokens \n",
      "['lijepo', 'kolegice', 'i', 'kolege', 'nemojte', 'se', 'vi', 'varda', 'hihotat', 'prije', 'četirig', 'ste', 'izdali', 'birače', 'sad', 'jedva', 'čekam', 'da', 'vidim', 'kako', 'će', 'vas', 'nagradit', 'jedva', 'čekam', 'hvala', 'lijepo', 'kolegice', 'i', 'kolega', 'kolege', 'zastupnici', 'g', 'potpredsjedniče']\n",
      "\n",
      "\n",
      "len(aligned_asr_tokens) 35\n",
      "aligned_asr_tokens \n",
      "[' ', 'lijepo', 'kolegice', 'i', 'kolege', 'nemojte', 'se', 'vi', 'varda', 'hihotat', 'prije', 'četiri', ' ', 'ste', 'izdali', 'birače', 'sada', 'jedva', 'čekam', 'da', 'vidim', 'kako', 'će', 'vas', 'nagraditi', 'jedva', 'čekam', 'hvala', 'lijepo', 'kolegice', 'i', 'kolege', 'zastupnici', ' ', 'potpredsjedniče']\n",
      "\n"
     ]
    },
    {
     "ename": "ValueError",
     "evalue": "After applying the transforms on the reference and hypothesis sentences, their lengths must match. Instead got 34 reference and 35 hypothesis sentences.",
     "output_type": "error",
     "traceback": [
      "\u001b[1;31m---------------------------------------------------------------------------\u001b[0m",
      "\u001b[1;31mValueError\u001b[0m                                Traceback (most recent call last)",
      "Cell \u001b[1;32mIn[181], line 43\u001b[0m\n\u001b[0;32m     40\u001b[0m \u001b[38;5;28mprint\u001b[39m(\u001b[38;5;124mf\u001b[39m\u001b[38;5;124m\"\u001b[39m\u001b[38;5;124maligned_asr_tokens \u001b[39m\u001b[38;5;130;01m\\n\u001b[39;00m\u001b[38;5;132;01m{\u001b[39;00maligned_asr_tokens\u001b[38;5;132;01m}\u001b[39;00m\u001b[38;5;130;01m\\n\u001b[39;00m\u001b[38;5;124m\"\u001b[39m)\n\u001b[0;32m     42\u001b[0m \u001b[38;5;66;03m# Calculate Word Error Rate (WER) using JiWER library\u001b[39;00m\n\u001b[1;32m---> 43\u001b[0m error \u001b[38;5;241m=\u001b[39m wer(original_tokens, aligned_asr_tokens)\n\u001b[0;32m     45\u001b[0m \u001b[38;5;66;03m# Print or use the error metric as needed\u001b[39;00m\n\u001b[0;32m     46\u001b[0m \u001b[38;5;28mprint\u001b[39m(\u001b[38;5;124mf\u001b[39m\u001b[38;5;124m\"\u001b[39m\u001b[38;5;124mWER for \u001b[39m\u001b[38;5;132;01m{\u001b[39;00minput_file\u001b[38;5;132;01m}\u001b[39;00m\u001b[38;5;124m: \u001b[39m\u001b[38;5;132;01m{\u001b[39;00merror\u001b[38;5;132;01m}\u001b[39;00m\u001b[38;5;124m\"\u001b[39m)\n",
      "File \u001b[1;32mC:\\Users\\Public\\anaconda3\\envs\\PyPhon\\Lib\\site-packages\\jiwer\\measures.py:111\u001b[0m, in \u001b[0;36mwer\u001b[1;34m(reference, hypothesis, reference_transform, hypothesis_transform, truth, truth_transform)\u001b[0m\n\u001b[0;32m     74\u001b[0m \u001b[38;5;250m\u001b[39m\u001b[38;5;124;03m\"\"\"\u001b[39;00m\n\u001b[0;32m     75\u001b[0m \u001b[38;5;124;03mCalculate the word error rate (WER) between one or more reference and\u001b[39;00m\n\u001b[0;32m     76\u001b[0m \u001b[38;5;124;03mhypothesis sentences.\u001b[39;00m\n\u001b[1;32m   (...)\u001b[0m\n\u001b[0;32m     95\u001b[0m \u001b[38;5;124;03m             hypothesis sentence(s).\u001b[39;00m\n\u001b[0;32m     96\u001b[0m \u001b[38;5;124;03m\"\"\"\u001b[39;00m\n\u001b[0;32m     97\u001b[0m (\n\u001b[0;32m     98\u001b[0m     reference,\n\u001b[0;32m     99\u001b[0m     hypothesis,\n\u001b[1;32m   (...)\u001b[0m\n\u001b[0;32m    108\u001b[0m     hypothesis_transform\u001b[38;5;241m=\u001b[39mhypothesis_transform,\n\u001b[0;32m    109\u001b[0m )\n\u001b[1;32m--> 111\u001b[0m output \u001b[38;5;241m=\u001b[39m process_words(\n\u001b[0;32m    112\u001b[0m     reference, hypothesis, reference_transform, hypothesis_transform\n\u001b[0;32m    113\u001b[0m )\n\u001b[0;32m    114\u001b[0m \u001b[38;5;28;01mreturn\u001b[39;00m output\u001b[38;5;241m.\u001b[39mwer\n",
      "File \u001b[1;32mC:\\Users\\Public\\anaconda3\\envs\\PyPhon\\Lib\\site-packages\\jiwer\\process.py:170\u001b[0m, in \u001b[0;36mprocess_words\u001b[1;34m(reference, hypothesis, reference_transform, hypothesis_transform)\u001b[0m\n\u001b[0;32m    165\u001b[0m hyp_transformed \u001b[38;5;241m=\u001b[39m _apply_transform(\n\u001b[0;32m    166\u001b[0m     hypothesis, hypothesis_transform, is_reference\u001b[38;5;241m=\u001b[39m\u001b[38;5;28;01mFalse\u001b[39;00m\n\u001b[0;32m    167\u001b[0m )\n\u001b[0;32m    169\u001b[0m \u001b[38;5;28;01mif\u001b[39;00m \u001b[38;5;28mlen\u001b[39m(ref_transformed) \u001b[38;5;241m!=\u001b[39m \u001b[38;5;28mlen\u001b[39m(hyp_transformed):\n\u001b[1;32m--> 170\u001b[0m     \u001b[38;5;28;01mraise\u001b[39;00m \u001b[38;5;167;01mValueError\u001b[39;00m(\n\u001b[0;32m    171\u001b[0m         \u001b[38;5;124m\"\u001b[39m\u001b[38;5;124mAfter applying the transforms on the reference and hypothesis sentences, \u001b[39m\u001b[38;5;124m\"\u001b[39m\n\u001b[0;32m    172\u001b[0m         \u001b[38;5;124mf\u001b[39m\u001b[38;5;124m\"\u001b[39m\u001b[38;5;124mtheir lengths must match. \u001b[39m\u001b[38;5;124m\"\u001b[39m\n\u001b[0;32m    173\u001b[0m         \u001b[38;5;124mf\u001b[39m\u001b[38;5;124m\"\u001b[39m\u001b[38;5;124mInstead got \u001b[39m\u001b[38;5;132;01m{\u001b[39;00m\u001b[38;5;28mlen\u001b[39m(ref_transformed)\u001b[38;5;132;01m}\u001b[39;00m\u001b[38;5;124m reference and \u001b[39m\u001b[38;5;124m\"\u001b[39m\n\u001b[0;32m    174\u001b[0m         \u001b[38;5;124mf\u001b[39m\u001b[38;5;124m\"\u001b[39m\u001b[38;5;132;01m{\u001b[39;00m\u001b[38;5;28mlen\u001b[39m(hyp_transformed)\u001b[38;5;132;01m}\u001b[39;00m\u001b[38;5;124m hypothesis sentences.\u001b[39m\u001b[38;5;124m\"\u001b[39m\n\u001b[0;32m    175\u001b[0m     )\n\u001b[0;32m    177\u001b[0m \u001b[38;5;66;03m# Change each word into a unique character in order to compute\u001b[39;00m\n\u001b[0;32m    178\u001b[0m \u001b[38;5;66;03m# word-level levenshtein distance\u001b[39;00m\n\u001b[0;32m    179\u001b[0m ref_as_chars, hyp_as_chars \u001b[38;5;241m=\u001b[39m _word2char(ref_transformed, hyp_transformed)\n",
      "\u001b[1;31mValueError\u001b[0m: After applying the transforms on the reference and hypothesis sentences, their lengths must match. Instead got 34 reference and 35 hypothesis sentences."
     ]
    }
   ],
   "source": [
    "# Function to normalize numbers based on the predefined mapping\n",
    "def normalize_numbers(tokens, norm_nums):\n",
    "    normalized_tokens = []\n",
    "    for token in tokens:\n",
    "        if token.lower() in norm_nums:\n",
    "            normalized_tokens.append(norm_nums[token.lower()])\n",
    "        elif token.isdigit() and int(token) in norm_nums:\n",
    "            normalized_tokens.append(norm_nums[int(token)])\n",
    "        else:\n",
    "            normalized_tokens.append(token)\n",
    "    return normalized_tokens\n",
    "\n",
    "\n",
    "# Assuming you have audio_transcriptions and you iterate over your ASR process\n",
    "for input_file in audio_transcriptions:\n",
    "    # Process transcription from ASR system\n",
    "    tekst = process_transcribe(os.path.join(path_to_pshr_raw_audio_data, input_file))\n",
    "    \n",
    "    # Get original transcription from dictionary\n",
    "    original_transcription = ' '.join(audio_transcriptions[input_file])\n",
    "    \n",
    "    # Tokenize both transcriptions\n",
    "    original_tokens = tokenize_text(original_transcription)\n",
    "    asr_tokens = tokenize_text(tekst)\n",
    "\n",
    "    # Normalize numbers in ASR tokens\n",
    "    normalized_asr_tokens = normalize_numbers(asr_tokens, norm_nums)\n",
    "\n",
    "    # Align ASR tokens based on character similarity\n",
    "    aligned_asr_tokens = align_tokens(original_tokens, normalized_asr_tokens, similarity_threshold=similarity_threshold)\n",
    "\n",
    "\n",
    "    print(f\"\\nlen(original_tokens) {len(original_tokens)}\")\n",
    "    print(f\"original_tokens \\n{original_tokens}\\n\")\n",
    "\n",
    "    # print(f\"len(asr_tokens) {len(asr_tokens)}\")\n",
    "    # print(f\"asr_tokens \\n{asr_tokens}\")\n",
    "\n",
    "    print(f\"\\nlen(aligned_asr_tokens) {len(aligned_asr_tokens)}\")\n",
    "    print(f\"aligned_asr_tokens \\n{aligned_asr_tokens}\\n\")\n",
    "    \n",
    "    # Calculate Word Error Rate (WER) using JiWER library\n",
    "    error = wer(original_tokens, aligned_asr_tokens)\n",
    "    \n",
    "    # Print or use the error metric as needed\n",
    "    print(f\"WER for {input_file}: {error}\")\n"
   ]
  },
  {
   "cell_type": "code",
   "execution_count": 180,
   "metadata": {
    "execution": {
     "iopub.execute_input": "2024-06-14T13:44:29.608256Z",
     "iopub.status.busy": "2024-06-14T13:44:29.608256Z",
     "iopub.status.idle": "2024-06-14T13:44:36.510980Z",
     "shell.execute_reply": "2024-06-14T13:44:36.510980Z",
     "shell.execute_reply.started": "2024-06-14T13:44:29.608256Z"
    }
   },
   "outputs": [
    {
     "name": "stdout",
     "output_type": "stream",
     "text": [
      "Comparing ASR token 'hvala' with original token 'lijepo': Similarity = 18\n",
      "Comparing ASR token 'hvala' with original token 'kolegice': Similarity = 15\n",
      "Comparing ASR token 'hvala' with original token 'i': Similarity = 0\n",
      "No match found for 'hvala', inserting space\n",
      "Comparing ASR token 'lijepo' with original token 'lijepo': Similarity = 100\n",
      "Match found for 'lijepo'\n",
      "Comparing ASR token 'kolegice' with original token 'kolegice': Similarity = 100\n",
      "Match found for 'kolegice'\n",
      "Comparing ASR token 'i' with original token 'i': Similarity = 100\n",
      "Match found for 'i'\n",
      "Comparing ASR token 'kolege' with original token 'kolege': Similarity = 100\n",
      "Match found for 'kolege'\n",
      "Comparing ASR token 'nemojte' with original token 'nemojte': Similarity = 100\n",
      "Match found for 'nemojte'\n",
      "Comparing ASR token 'se' with original token 'se': Similarity = 100\n",
      "Match found for 'se'\n",
      "Comparing ASR token 'vi' with original token 'vi': Similarity = 100\n",
      "Match found for 'vi'\n",
      "Comparing ASR token 'varda' with original token 'varda': Similarity = 100\n",
      "Match found for 'varda'\n",
      "Comparing ASR token 'hihotat' with original token 'hihotat': Similarity = 100\n",
      "Match found for 'hihotat'\n",
      "Comparing ASR token 'prije' with original token 'prije': Similarity = 100\n",
      "Match found for 'prije'\n",
      "Comparing ASR token '4' with original token 'četirig': Similarity = 0\n",
      "Comparing ASR token '4' with original token 'ste': Similarity = 0\n",
      "Comparing ASR token '4' with original token 'izdali': Similarity = 0\n",
      "No match found for '4', inserting space\n",
      "Comparing ASR token 'godine' with original token 'četirig': Similarity = 15\n",
      "Comparing ASR token 'godine' with original token 'ste': Similarity = 22\n",
      "Comparing ASR token 'godine' with original token 'izdali': Similarity = 33\n",
      "No match found for 'godine', inserting space\n",
      "Comparing ASR token 'ste' with original token 'četirig': Similarity = 20\n",
      "Comparing ASR token 'ste' with original token 'ste': Similarity = 100\n",
      "Match found for 'ste'\n",
      "Comparing ASR token 'izdali' with original token 'izdali': Similarity = 100\n",
      "Match found for 'izdali'\n",
      "Comparing ASR token 'birače' with original token 'birače': Similarity = 100\n",
      "Match found for 'birače'\n",
      "Comparing ASR token 'sada' with original token 'sad': Similarity = 86\n",
      "Match found for 'sada'\n",
      "Comparing ASR token 'jedva' with original token 'jedva': Similarity = 100\n",
      "Match found for 'jedva'\n",
      "Comparing ASR token 'čekam' with original token 'čekam': Similarity = 100\n",
      "Match found for 'čekam'\n",
      "Comparing ASR token 'da' with original token 'da': Similarity = 100\n",
      "Match found for 'da'\n",
      "Comparing ASR token 'vidim' with original token 'vidim': Similarity = 100\n",
      "Match found for 'vidim'\n",
      "Comparing ASR token 'kako' with original token 'kako': Similarity = 100\n",
      "Match found for 'kako'\n",
      "Comparing ASR token 'će' with original token 'će': Similarity = 100\n",
      "Match found for 'će'\n",
      "Comparing ASR token 'vas' with original token 'vas': Similarity = 100\n",
      "Match found for 'vas'\n",
      "Comparing ASR token 'nagraditi' with original token 'nagradit': Similarity = 94\n",
      "Match found for 'nagraditi'\n",
      "Comparing ASR token 'jedva' with original token 'jedva': Similarity = 100\n",
      "Match found for 'jedva'\n",
      "Comparing ASR token 'čekam' with original token 'čekam': Similarity = 100\n",
      "Match found for 'čekam'\n",
      "Comparing ASR token 'hvala' with original token 'hvala': Similarity = 100\n",
      "Match found for 'hvala'\n",
      "Comparing ASR token 'lijepo' with original token 'lijepo': Similarity = 100\n",
      "Match found for 'lijepo'\n",
      "Comparing ASR token 'kolegice' with original token 'kolegice': Similarity = 100\n",
      "Match found for 'kolegice'\n",
      "Comparing ASR token 'i' with original token 'i': Similarity = 100\n",
      "Match found for 'i'\n",
      "Comparing ASR token 'kolege' with original token 'kolega': Similarity = 83\n",
      "Match found for 'kolege'\n",
      "Comparing ASR token 'zastupnici' with original token 'kolege': Similarity = 0\n",
      "Comparing ASR token 'zastupnici' with original token 'zastupnici': Similarity = 100\n",
      "Match found for 'zastupnici'\n",
      "Comparing ASR token 'gospodine' with original token 'g': Similarity = 20\n",
      "Comparing ASR token 'gospodine' with original token 'potpredsjedniče': Similarity = 42\n",
      "No match found for 'gospodine', inserting space\n",
      "Comparing ASR token 'potpredsjedniče' with original token 'g': Similarity = 0\n",
      "Comparing ASR token 'potpredsjedniče' with original token 'potpredsjedniče': Similarity = 100\n",
      "Match found for 'potpredsjedniče'\n",
      "\n",
      "len(original_tokens) 34\n",
      "original_tokens \n",
      "['lijepo', 'kolegice', 'i', 'kolege', 'nemojte', 'se', 'vi', 'varda', 'hihotat', 'prije', 'četirig', 'ste', 'izdali', 'birače', 'sad', 'jedva', 'čekam', 'da', 'vidim', 'kako', 'će', 'vas', 'nagradit', 'jedva', 'čekam', 'hvala', 'lijepo', 'kolegice', 'i', 'kolega', 'kolege', 'zastupnici', 'g', 'potpredsjedniče']\n",
      "\n",
      "\n",
      "len(aligned_asr_tokens) 34\n",
      "aligned_asr_tokens \n",
      "[' ', 'lijepo', 'kolegice', 'i', 'kolege', 'nemojte', 'se', 'vi', 'varda', 'hihotat', 'prije', ' ', 'ste', 'izdali', 'birače', 'sada', 'jedva', 'čekam', 'da', 'vidim', 'kako', 'će', 'vas', 'nagraditi', 'jedva', 'čekam', 'hvala', 'lijepo', 'kolegice', 'i', 'kolege', 'zastupnici', ' ', 'potpredsjedniče']\n",
      "\n",
      "WER for seg.-EO06cT21uY_10038.21-10054.64.flac: 0.9117647058823529\n",
      "Comparing ASR token 'hdz' with original token 'hadeze': Similarity = 67\n",
      "Match found for 'hdz'\n",
      "Comparing ASR token 'želi' with original token 'želi': Similarity = 100\n",
      "Match found for 'želi'\n",
      "Comparing ASR token 'pokušati' with original token 'pokušati': Similarity = 100\n",
      "Match found for 'pokušati'\n",
      "Comparing ASR token 'dati' with original token 'dati': Similarity = 100\n",
      "Match found for 'dati'\n",
      "Comparing ASR token 'obećanje' with original token 'obećanje': Similarity = 100\n",
      "Match found for 'obećanje'\n",
      "Comparing ASR token 'za' with original token 'za': Similarity = 100\n",
      "Match found for 'za'\n",
      "Comparing ASR token '6' with original token 'šest': Similarity = 0\n",
      "Comparing ASR token '6' with original token 'mjeseci': Similarity = 0\n",
      "Comparing ASR token '6' with original token 'da': Similarity = 0\n",
      "No match found for '6', inserting space\n",
      "Comparing ASR token 'mjesci' with original token 'šest': Similarity = 40\n",
      "Comparing ASR token 'mjesci' with original token 'mjeseci': Similarity = 92\n",
      "Match found for 'mjesci'\n",
      "Comparing ASR token 'da' with original token 'da': Similarity = 100\n",
      "Match found for 'da'\n",
      "Comparing ASR token 'će' with original token 'će': Similarity = 100\n",
      "Match found for 'će'\n",
      "Comparing ASR token 'neki' with original token 'neki': Similarity = 100\n",
      "Match found for 'neki'\n",
      "Comparing ASR token 'građani' with original token 'građani': Similarity = 100\n",
      "Match found for 'građani'\n",
      "Comparing ASR token 'dobiti' with original token 'dobiti': Similarity = 100\n",
      "Match found for 'dobiti'\n",
      "Comparing ASR token '8000' with original token 'osam': Similarity = 0\n",
      "Comparing ASR token '8000' with original token 'stotina': Similarity = 0\n",
      "Comparing ASR token '8000' with original token 'kuna': Similarity = 0\n",
      "No match found for '8000', inserting space\n",
      "Comparing ASR token 'kuna' with original token 'osam': Similarity = 25\n",
      "Comparing ASR token 'kuna' with original token 'stotina': Similarity = 36\n",
      "Comparing ASR token 'kuna' with original token 'kuna': Similarity = 100\n",
      "Match found for 'kuna'\n",
      "Comparing ASR token 'i' with original token 'i': Similarity = 100\n",
      "Match found for 'i'\n",
      "Comparing ASR token 'jedina' with original token 'jedina': Similarity = 100\n",
      "Match found for 'jedina'\n",
      "Comparing ASR token 'svrha' with original token 'svrha': Similarity = 100\n",
      "Match found for 'svrha'\n",
      "Comparing ASR token 'ovog' with original token 'ovog': Similarity = 100\n",
      "Match found for 'ovog'\n",
      "Comparing ASR token 'zakona' with original token 'zakona': Similarity = 100\n",
      "Match found for 'zakona'\n",
      "Comparing ASR token 'su' with original token 'su': Similarity = 100\n",
      "Match found for 'su'\n",
      "Comparing ASR token 'je' with original token 'je': Similarity = 100\n",
      "Match found for 'je'\n",
      "Comparing ASR token 'kampanja' with original token 'kampanja': Similarity = 100\n",
      "Match found for 'kampanja'\n",
      "Comparing ASR token 'odnosno' with original token 'odnosno': Similarity = 100\n",
      "Match found for 'odnosno'\n",
      "Comparing ASR token 'izbori' with original token 'izbori': Similarity = 100\n",
      "Match found for 'izbori'\n",
      "Comparing ASR token 'i' with original token 'i': Similarity = 100\n",
      "Match found for 'i'\n",
      "Comparing ASR token 'predizborna' with original token 'predizborna': Similarity = 100\n",
      "Match found for 'predizborna'\n",
      "Comparing ASR token 'kampanja' with original token 'kampanja': Similarity = 100\n",
      "Match found for 'kampanja'\n",
      "Comparing ASR token 'jer' with original token 'jer': Similarity = 100\n",
      "Match found for 'jer'\n",
      "Comparing ASR token 'kako' with original token 'kako': Similarity = 100\n",
      "Match found for 'kako'\n",
      "Comparing ASR token 'drugačije' with original token 'drugačije': Similarity = 100\n",
      "Match found for 'drugačije'\n",
      "Comparing ASR token 'objasniti' with original token 'objasniti': Similarity = 100\n",
      "Match found for 'objasniti'\n",
      "Comparing ASR token 'da' with original token 'da': Similarity = 100\n",
      "Match found for 'da'\n",
      "Comparing ASR token 'niste' with original token 'niste': Similarity = 100\n",
      "Match found for 'niste'\n",
      "Comparing ASR token 'dali' with original token 'dali': Similarity = 100\n",
      "Match found for 'dali'\n",
      "Comparing ASR token 'kada' with original token 'kada': Similarity = 100\n",
      "Match found for 'kada'\n",
      "\n",
      "len(original_tokens) 37\n",
      "original_tokens \n",
      "['hadeze', 'želi', 'pokušati', 'dati', 'obećanje', 'za', 'šest', 'mjeseci', 'da', 'će', 'neki', 'građani', 'dobiti', 'osam', 'stotina', 'kuna', 'i', 'jedina', 'svrha', 'ovog', 'zakona', 'su', 'je', 'kampanja', 'odnosno', 'izbori', 'i', 'predizborna', 'kampanja', 'jer', 'kako', 'drugačije', 'objasniti', 'da', 'niste', 'dali', 'kada']\n",
      "\n",
      "\n",
      "len(aligned_asr_tokens) 36\n",
      "aligned_asr_tokens \n",
      "['hdz', 'želi', 'pokušati', 'dati', 'obećanje', 'za', ' ', 'mjesci', 'da', 'će', 'neki', 'građani', 'dobiti', ' ', 'kuna', 'i', 'jedina', 'svrha', 'ovog', 'zakona', 'su', 'je', 'kampanja', 'odnosno', 'izbori', 'i', 'predizborna', 'kampanja', 'jer', 'kako', 'drugačije', 'objasniti', 'da', 'niste', 'dali', 'kada']\n",
      "\n"
     ]
    },
    {
     "ename": "ValueError",
     "evalue": "After applying the transforms on the reference and hypothesis sentences, their lengths must match. Instead got 37 reference and 36 hypothesis sentences.",
     "output_type": "error",
     "traceback": [
      "\u001b[1;31m---------------------------------------------------------------------------\u001b[0m",
      "\u001b[1;31mValueError\u001b[0m                                Traceback (most recent call last)",
      "Cell \u001b[1;32mIn[180], line 81\u001b[0m\n\u001b[0;32m     77\u001b[0m \u001b[38;5;28mprint\u001b[39m(\u001b[38;5;124mf\u001b[39m\u001b[38;5;124m\"\u001b[39m\u001b[38;5;124maligned_asr_tokens \u001b[39m\u001b[38;5;130;01m\\n\u001b[39;00m\u001b[38;5;132;01m{\u001b[39;00maligned_asr_tokens\u001b[38;5;132;01m}\u001b[39;00m\u001b[38;5;130;01m\\n\u001b[39;00m\u001b[38;5;124m\"\u001b[39m)\n\u001b[0;32m     80\u001b[0m \u001b[38;5;66;03m# Calculate Word Error Rate (WER) using JiWER library\u001b[39;00m\n\u001b[1;32m---> 81\u001b[0m error \u001b[38;5;241m=\u001b[39m wer(original_tokens, aligned_asr_tokens)\n\u001b[0;32m     83\u001b[0m \u001b[38;5;66;03m# Print or use the error metric as needed\u001b[39;00m\n\u001b[0;32m     84\u001b[0m \u001b[38;5;28mprint\u001b[39m(\u001b[38;5;124mf\u001b[39m\u001b[38;5;124m\"\u001b[39m\u001b[38;5;124mWER for \u001b[39m\u001b[38;5;132;01m{\u001b[39;00minput_file\u001b[38;5;132;01m}\u001b[39;00m\u001b[38;5;124m: \u001b[39m\u001b[38;5;132;01m{\u001b[39;00merror\u001b[38;5;132;01m}\u001b[39;00m\u001b[38;5;124m\"\u001b[39m)\n",
      "File \u001b[1;32mC:\\Users\\Public\\anaconda3\\envs\\PyPhon\\Lib\\site-packages\\jiwer\\measures.py:111\u001b[0m, in \u001b[0;36mwer\u001b[1;34m(reference, hypothesis, reference_transform, hypothesis_transform, truth, truth_transform)\u001b[0m\n\u001b[0;32m     74\u001b[0m \u001b[38;5;250m\u001b[39m\u001b[38;5;124;03m\"\"\"\u001b[39;00m\n\u001b[0;32m     75\u001b[0m \u001b[38;5;124;03mCalculate the word error rate (WER) between one or more reference and\u001b[39;00m\n\u001b[0;32m     76\u001b[0m \u001b[38;5;124;03mhypothesis sentences.\u001b[39;00m\n\u001b[1;32m   (...)\u001b[0m\n\u001b[0;32m     95\u001b[0m \u001b[38;5;124;03m             hypothesis sentence(s).\u001b[39;00m\n\u001b[0;32m     96\u001b[0m \u001b[38;5;124;03m\"\"\"\u001b[39;00m\n\u001b[0;32m     97\u001b[0m (\n\u001b[0;32m     98\u001b[0m     reference,\n\u001b[0;32m     99\u001b[0m     hypothesis,\n\u001b[1;32m   (...)\u001b[0m\n\u001b[0;32m    108\u001b[0m     hypothesis_transform\u001b[38;5;241m=\u001b[39mhypothesis_transform,\n\u001b[0;32m    109\u001b[0m )\n\u001b[1;32m--> 111\u001b[0m output \u001b[38;5;241m=\u001b[39m process_words(\n\u001b[0;32m    112\u001b[0m     reference, hypothesis, reference_transform, hypothesis_transform\n\u001b[0;32m    113\u001b[0m )\n\u001b[0;32m    114\u001b[0m \u001b[38;5;28;01mreturn\u001b[39;00m output\u001b[38;5;241m.\u001b[39mwer\n",
      "File \u001b[1;32mC:\\Users\\Public\\anaconda3\\envs\\PyPhon\\Lib\\site-packages\\jiwer\\process.py:170\u001b[0m, in \u001b[0;36mprocess_words\u001b[1;34m(reference, hypothesis, reference_transform, hypothesis_transform)\u001b[0m\n\u001b[0;32m    165\u001b[0m hyp_transformed \u001b[38;5;241m=\u001b[39m _apply_transform(\n\u001b[0;32m    166\u001b[0m     hypothesis, hypothesis_transform, is_reference\u001b[38;5;241m=\u001b[39m\u001b[38;5;28;01mFalse\u001b[39;00m\n\u001b[0;32m    167\u001b[0m )\n\u001b[0;32m    169\u001b[0m \u001b[38;5;28;01mif\u001b[39;00m \u001b[38;5;28mlen\u001b[39m(ref_transformed) \u001b[38;5;241m!=\u001b[39m \u001b[38;5;28mlen\u001b[39m(hyp_transformed):\n\u001b[1;32m--> 170\u001b[0m     \u001b[38;5;28;01mraise\u001b[39;00m \u001b[38;5;167;01mValueError\u001b[39;00m(\n\u001b[0;32m    171\u001b[0m         \u001b[38;5;124m\"\u001b[39m\u001b[38;5;124mAfter applying the transforms on the reference and hypothesis sentences, \u001b[39m\u001b[38;5;124m\"\u001b[39m\n\u001b[0;32m    172\u001b[0m         \u001b[38;5;124mf\u001b[39m\u001b[38;5;124m\"\u001b[39m\u001b[38;5;124mtheir lengths must match. \u001b[39m\u001b[38;5;124m\"\u001b[39m\n\u001b[0;32m    173\u001b[0m         \u001b[38;5;124mf\u001b[39m\u001b[38;5;124m\"\u001b[39m\u001b[38;5;124mInstead got \u001b[39m\u001b[38;5;132;01m{\u001b[39;00m\u001b[38;5;28mlen\u001b[39m(ref_transformed)\u001b[38;5;132;01m}\u001b[39;00m\u001b[38;5;124m reference and \u001b[39m\u001b[38;5;124m\"\u001b[39m\n\u001b[0;32m    174\u001b[0m         \u001b[38;5;124mf\u001b[39m\u001b[38;5;124m\"\u001b[39m\u001b[38;5;132;01m{\u001b[39;00m\u001b[38;5;28mlen\u001b[39m(hyp_transformed)\u001b[38;5;132;01m}\u001b[39;00m\u001b[38;5;124m hypothesis sentences.\u001b[39m\u001b[38;5;124m\"\u001b[39m\n\u001b[0;32m    175\u001b[0m     )\n\u001b[0;32m    177\u001b[0m \u001b[38;5;66;03m# Change each word into a unique character in order to compute\u001b[39;00m\n\u001b[0;32m    178\u001b[0m \u001b[38;5;66;03m# word-level levenshtein distance\u001b[39;00m\n\u001b[0;32m    179\u001b[0m ref_as_chars, hyp_as_chars \u001b[38;5;241m=\u001b[39m _word2char(ref_transformed, hyp_transformed)\n",
      "\u001b[1;31mValueError\u001b[0m: After applying the transforms on the reference and hypothesis sentences, their lengths must match. Instead got 37 reference and 36 hypothesis sentences."
     ]
    }
   ],
   "source": [
    "import os\n",
    "from jiwer import wer\n",
    "from fuzzywuzzy import fuzz\n",
    "\n",
    "similarity_threshold = 50  # Example threshold, can be adjusted based on requirements\n",
    "\n",
    "# Example function to tokenize text\n",
    "def tokenize_text(text):\n",
    "    # You can customize tokenization based on your needs, such as handling punctuation, case sensitivity, etc.\n",
    "    return text.lower().split()  # Example: split into lowercase words\n",
    "\n",
    "# Function to align ASR tokens with original tokens based on character similarity\n",
    "def align_tokens(original_tokens, asr_tokens, similarity_threshold=similarity_threshold):\n",
    "    \n",
    "    max_search_distance = 3  # Maximum number of tokens to search ahead for a match\n",
    "    \n",
    "    aligned_asr_tokens = []\n",
    "    original_index = 0\n",
    "    \n",
    "    for asr_token in asr_tokens:\n",
    "        found_match = False\n",
    "        search_end = min(original_index + max_search_distance, len(original_tokens))\n",
    "        for i in range(original_index, search_end):\n",
    "            original_token = original_tokens[i]\n",
    "            similarity = fuzz.ratio(asr_token, original_token)\n",
    "            print(f\"Comparing ASR token '{asr_token}' with original token '{original_token}': Similarity = {similarity}\")\n",
    "            if similarity >= similarity_threshold:\n",
    "                # Found a match, so align the ASR token with the original token\n",
    "                aligned_asr_tokens.append(asr_token)\n",
    "                original_index = i + 1  # Move the original index forward\n",
    "                found_match = True\n",
    "                print(f\"Match found for '{asr_token}'\")\n",
    "                break\n",
    "        \n",
    "        if not found_match:\n",
    "            # No match found within the search distance, insert a space\n",
    "            aligned_asr_tokens.append(' ')\n",
    "            print(f\"No match found for '{asr_token}', inserting space\")\n",
    "            \n",
    "    ####### TRYING TO NEGATE WHEN IT COMBINES TWO WORDS INTO ONE        \n",
    "\n",
    "    # Clean up: remove consecutive empty tokens except for the first one if it's alone\n",
    "    final_aligned_asr_tokens = []\n",
    "    for i, token in enumerate(aligned_asr_tokens):\n",
    "        if token == ' ' and i < len(aligned_asr_tokens) - 1 and aligned_asr_tokens[i + 1] == ' ':\n",
    "            continue  # Skip consecutive empty tokens\n",
    "        final_aligned_asr_tokens.append(token)\n",
    "\n",
    "    aligned_asr_tokens = final_aligned_asr_tokens\n",
    "    # print(\"Aligned ASR tokens:\", aligned_asr_tokens)\n",
    "\n",
    "    return aligned_asr_tokens\n",
    "\n",
    "# Assuming you have audio_transcriptions and you iterate over your ASR process\n",
    "for input_file in audio_transcriptions:\n",
    "    # Process transcription from ASR system\n",
    "    tekst = process_transcribe(os.path.join(path_to_pshr_raw_audio_data, input_file))\n",
    "    \n",
    "    # Get original transcription from dictionary\n",
    "    original_transcription = ' '.join(audio_transcriptions[input_file])\n",
    "    \n",
    "    # Tokenize both transcriptions\n",
    "    original_tokens = tokenize_text(original_transcription)\n",
    "    asr_tokens = tokenize_text(tekst)\n",
    "\n",
    "    # Align ASR tokens based on character similarity\n",
    "    aligned_asr_tokens = align_tokens(original_tokens, asr_tokens, similarity_threshold=similarity_threshold)\n",
    "\n",
    "\n",
    "    print(f\"\\nlen(original_tokens) {len(original_tokens)}\")\n",
    "    print(f\"original_tokens \\n{original_tokens}\\n\")\n",
    "\n",
    "    # print(f\"len(asr_tokens) {len(asr_tokens)}\")\n",
    "    # print(f\"asr_tokens \\n{asr_tokens}\")\n",
    "\n",
    "    print(f\"\\nlen(aligned_asr_tokens) {len(aligned_asr_tokens)}\")\n",
    "    print(f\"aligned_asr_tokens \\n{aligned_asr_tokens}\\n\")\n",
    "\n",
    "    \n",
    "    # Calculate Word Error Rate (WER) using JiWER library\n",
    "    error = wer(original_tokens, aligned_asr_tokens)\n",
    "    \n",
    "    # Print or use the error metric as needed\n",
    "    print(f\"WER for {input_file}: {error}\")\n"
   ]
  },
  {
   "cell_type": "code",
   "execution_count": null,
   "metadata": {},
   "outputs": [],
   "source": []
  },
  {
   "cell_type": "code",
   "execution_count": 46,
   "metadata": {
    "execution": {
     "iopub.execute_input": "2024-06-14T11:27:36.261988Z",
     "iopub.status.busy": "2024-06-14T11:27:36.261988Z",
     "iopub.status.idle": "2024-06-14T11:27:36.448077Z",
     "shell.execute_reply": "2024-06-14T11:27:36.448077Z",
     "shell.execute_reply.started": "2024-06-14T11:27:36.261988Z"
    }
   },
   "outputs": [
    {
     "name": "stdout",
     "output_type": "stream",
     "text": [
      "seg.-EO06cT21uY_10038.21-10054.64.flac\n",
      "seg.-EO06cT21uY_10111.7-10131.55.flac\n",
      "seg.-EO06cT21uY_10131.55-10147.16.flac\n",
      "seg.-EO06cT21uY_10148.69-10167.91.flac\n",
      "seg.-EO06cT21uY_10167.91-10186.62.flac\n",
      "seg.-EO06cT21uY_10187.44-10207.4.flac\n",
      "seg.-EO06cT21uY_10207.4-10227.1.flac\n",
      "seg.-EO06cT21uY_10227.1-10246.72.flac\n",
      "seg.-EO06cT21uY_10246.72-10265.92.flac\n",
      "seg.-EO06cT21uY_10266.15-10285.99.flac\n"
     ]
    }
   ],
   "source": [
    "import os\n",
    "\n",
    "# Path to the directory containing audio files\n",
    "path_to_pshr_raw_audio_data = r\"D:\\ParlaSpeech-HR.v1.0\\raw\"\n",
    "\n",
    "# List all files in the directory\n",
    "all_files = os.listdir(path_to_pshr_raw_audio_data)\n",
    "\n",
    "# Sort the files alphabetically or by any other criteria, if needed\n",
    "all_files.sort()\n",
    "\n",
    "# Select the first 10 files\n",
    "first_10_files = all_files[:10]\n",
    "\n",
    "# Print the first 10 files\n",
    "for file in first_10_files:\n",
    "    print(file)\n"
   ]
  }
 ],
 "metadata": {
  "colab": {
   "authorship_tag": "ABX9TyO3uz19EkBaZsrjq2rN6rV0",
   "provenance": [
    {
     "file_id": "1T9A_vTHdaB2oOuRCRRwTTAHs1379J-6l",
     "timestamp": 1718361648667
    }
   ],
   "toc_visible": true
  },
  "kernelspec": {
   "display_name": "Python 3 (ipykernel)",
   "language": "python",
   "name": "python3"
  },
  "language_info": {
   "codemirror_mode": {
    "name": "ipython",
    "version": 3
   },
   "file_extension": ".py",
   "mimetype": "text/x-python",
   "name": "python",
   "nbconvert_exporter": "python",
   "pygments_lexer": "ipython3",
   "version": "3.11.8"
  }
 },
 "nbformat": 4,
 "nbformat_minor": 4
}
