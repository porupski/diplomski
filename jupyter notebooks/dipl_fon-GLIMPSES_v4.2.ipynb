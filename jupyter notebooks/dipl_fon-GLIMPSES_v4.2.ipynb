{
 "cells": [
  {
   "cell_type": "markdown",
   "id": "3063ac5e-54a9-4c03-9576-1a533864d226",
   "metadata": {},
   "source": [
    "# Analiza 'glipses' u govornom materijalu\n"
   ]
  },
  {
   "cell_type": "code",
   "execution_count": 1,
   "id": "8e5c3544-45b4-4f3e-a051-aff2e61dc811",
   "metadata": {
    "execution": {
     "iopub.execute_input": "2024-06-11T22:13:29.980463Z",
     "iopub.status.busy": "2024-06-11T22:13:29.980463Z",
     "iopub.status.idle": "2024-06-11T22:13:29.990084Z",
     "shell.execute_reply": "2024-06-11T22:13:29.989774Z",
     "shell.execute_reply.started": "2024-06-11T22:13:29.980463Z"
    }
   },
   "outputs": [
    {
     "name": "stdout",
     "output_type": "stream",
     "text": [
      "v4.2\n"
     ]
    }
   ],
   "source": [
    "work_version_num = 4.2\n",
    "work_version = f\"v{work_version_num}\"\n",
    "\n",
    "print(work_version)"
   ]
  },
  {
   "cell_type": "markdown",
   "id": "292b6691-3fab-4817-872d-aa98484bc7d5",
   "metadata": {},
   "source": [
    "# [1] Generating a structured nested dictionary"
   ]
  },
  {
   "cell_type": "code",
   "execution_count": 2,
   "id": "3898335c-6abd-4e06-9390-6d4a83ea4f0c",
   "metadata": {
    "execution": {
     "iopub.execute_input": "2024-06-11T19:53:06.757534Z",
     "iopub.status.busy": "2024-06-11T19:53:06.757534Z",
     "iopub.status.idle": "2024-06-11T19:53:06.762412Z",
     "shell.execute_reply": "2024-06-11T19:53:06.762412Z",
     "shell.execute_reply.started": "2024-06-11T19:53:06.757534Z"
    }
   },
   "outputs": [
    {
     "name": "stdout",
     "output_type": "stream",
     "text": [
      "len(data): 3\n",
      "data.keys(): dict_keys(['SNR_-2', 'SNR_+0', 'SNR_+2'])\n",
      "len(data.keys()): 3\n"
     ]
    }
   ],
   "source": [
    "# Define the structure of the nested dictionary\n",
    "data = {\n",
    "    'SNR_-2': {\n",
    "        'govornik_1': {},\n",
    "        'govornik_2': {},\n",
    "        'govornik_3': {},\n",
    "        'govornik_4': {}\n",
    "    },\n",
    "    'SNR_+0': {\n",
    "        'govornik_1': {},\n",
    "        'govornik_2': {},\n",
    "        'govornik_3': {},\n",
    "        'govornik_4': {}\n",
    "    },\n",
    "    'SNR_+2': {\n",
    "        'govornik_1': {},\n",
    "        'govornik_2': {},\n",
    "        'govornik_3': {},\n",
    "        'govornik_4': {}\n",
    "    }\n",
    "}\n",
    "\n",
    "# Define the stimuli\n",
    "stimuli = ['apa',\n",
    "           'ata',\n",
    "           'aka',\n",
    "           'aba',\n",
    "           'ada',\n",
    "           'aga',\n",
    "           'asa',\n",
    "           'aša',\n",
    "           'aza',\n",
    "           'aža',\n",
    "           'afa',\n",
    "           'aha',\n",
    "           'aca',\n",
    "           'ača',\n",
    "           'ađa',\n",
    "           'aja',\n",
    "           'ana',\n",
    "           'ama',\n",
    "           'ara',\n",
    "           'ala',\n",
    "           'ava']\n",
    "\n",
    "# Initialize the nested dictionary with empty lists for each stimulus\n",
    "for snr in data:\n",
    "    for speaker in data[snr]:\n",
    "        for stimulus in stimuli:\n",
    "            data[snr][speaker][stimulus] = []\n",
    "\n",
    "print(f\"len(data): {len(data)}\")\n",
    "print(f\"data.keys(): {data.keys()}\")\n",
    "print(f\"len(data.keys()): {len(data.keys())}\")"
   ]
  },
  {
   "cell_type": "code",
   "execution_count": 3,
   "id": "6f43eabe-4a75-4df3-bfdf-a70527fc37ca",
   "metadata": {
    "execution": {
     "iopub.execute_input": "2024-06-11T19:53:08.885291Z",
     "iopub.status.busy": "2024-06-11T19:53:08.885291Z",
     "iopub.status.idle": "2024-06-11T19:53:08.889523Z",
     "shell.execute_reply": "2024-06-11T19:53:08.889523Z",
     "shell.execute_reply.started": "2024-06-11T19:53:08.885291Z"
    }
   },
   "outputs": [
    {
     "name": "stdout",
     "output_type": "stream",
     "text": [
      "Number of noise conditions: 3\n",
      "Noise conditions: ['SNR_-2', 'SNR_+0', 'SNR_+2']\n",
      "\n",
      "Noise condition: SNR_-2\n",
      "  Number of speakers: 4\n",
      "  Speakers: ['govornik_1', 'govornik_2', 'govornik_3', 'govornik_4']\n",
      "    Speaker: govornik_1\n",
      "      Number of stimuli: 21\n",
      "      Stimuli: ['apa', 'ata', 'aka', 'aba', 'ada', 'aga', 'asa', 'aša', 'aza', 'aža', 'afa', 'aha', 'aca', 'ača', 'ađa', 'aja', 'ana', 'ama', 'ara', 'ala', 'ava']\n",
      "    Speaker: govornik_2\n",
      "      Number of stimuli: 21\n",
      "      Stimuli: ['apa', 'ata', 'aka', 'aba', 'ada', 'aga', 'asa', 'aša', 'aza', 'aža', 'afa', 'aha', 'aca', 'ača', 'ađa', 'aja', 'ana', 'ama', 'ara', 'ala', 'ava']\n",
      "    Speaker: govornik_3\n",
      "      Number of stimuli: 21\n",
      "      Stimuli: ['apa', 'ata', 'aka', 'aba', 'ada', 'aga', 'asa', 'aša', 'aza', 'aža', 'afa', 'aha', 'aca', 'ača', 'ađa', 'aja', 'ana', 'ama', 'ara', 'ala', 'ava']\n",
      "    Speaker: govornik_4\n",
      "      Number of stimuli: 21\n",
      "      Stimuli: ['apa', 'ata', 'aka', 'aba', 'ada', 'aga', 'asa', 'aša', 'aza', 'aža', 'afa', 'aha', 'aca', 'ača', 'ađa', 'aja', 'ana', 'ama', 'ara', 'ala', 'ava']\n",
      "\n",
      "Noise condition: SNR_+0\n",
      "  Number of speakers: 4\n",
      "  Speakers: ['govornik_1', 'govornik_2', 'govornik_3', 'govornik_4']\n",
      "    Speaker: govornik_1\n",
      "      Number of stimuli: 21\n",
      "      Stimuli: ['apa', 'ata', 'aka', 'aba', 'ada', 'aga', 'asa', 'aša', 'aza', 'aža', 'afa', 'aha', 'aca', 'ača', 'ađa', 'aja', 'ana', 'ama', 'ara', 'ala', 'ava']\n",
      "    Speaker: govornik_2\n",
      "      Number of stimuli: 21\n",
      "      Stimuli: ['apa', 'ata', 'aka', 'aba', 'ada', 'aga', 'asa', 'aša', 'aza', 'aža', 'afa', 'aha', 'aca', 'ača', 'ađa', 'aja', 'ana', 'ama', 'ara', 'ala', 'ava']\n",
      "    Speaker: govornik_3\n",
      "      Number of stimuli: 21\n",
      "      Stimuli: ['apa', 'ata', 'aka', 'aba', 'ada', 'aga', 'asa', 'aša', 'aza', 'aža', 'afa', 'aha', 'aca', 'ača', 'ađa', 'aja', 'ana', 'ama', 'ara', 'ala', 'ava']\n",
      "    Speaker: govornik_4\n",
      "      Number of stimuli: 21\n",
      "      Stimuli: ['apa', 'ata', 'aka', 'aba', 'ada', 'aga', 'asa', 'aša', 'aza', 'aža', 'afa', 'aha', 'aca', 'ača', 'ađa', 'aja', 'ana', 'ama', 'ara', 'ala', 'ava']\n",
      "\n",
      "Noise condition: SNR_+2\n",
      "  Number of speakers: 4\n",
      "  Speakers: ['govornik_1', 'govornik_2', 'govornik_3', 'govornik_4']\n",
      "    Speaker: govornik_1\n",
      "      Number of stimuli: 21\n",
      "      Stimuli: ['apa', 'ata', 'aka', 'aba', 'ada', 'aga', 'asa', 'aša', 'aza', 'aža', 'afa', 'aha', 'aca', 'ača', 'ađa', 'aja', 'ana', 'ama', 'ara', 'ala', 'ava']\n",
      "    Speaker: govornik_2\n",
      "      Number of stimuli: 21\n",
      "      Stimuli: ['apa', 'ata', 'aka', 'aba', 'ada', 'aga', 'asa', 'aša', 'aza', 'aža', 'afa', 'aha', 'aca', 'ača', 'ađa', 'aja', 'ana', 'ama', 'ara', 'ala', 'ava']\n",
      "    Speaker: govornik_3\n",
      "      Number of stimuli: 21\n",
      "      Stimuli: ['apa', 'ata', 'aka', 'aba', 'ada', 'aga', 'asa', 'aša', 'aza', 'aža', 'afa', 'aha', 'aca', 'ača', 'ađa', 'aja', 'ana', 'ama', 'ara', 'ala', 'ava']\n",
      "    Speaker: govornik_4\n",
      "      Number of stimuli: 21\n",
      "      Stimuli: ['apa', 'ata', 'aka', 'aba', 'ada', 'aga', 'asa', 'aša', 'aza', 'aža', 'afa', 'aha', 'aca', 'ača', 'ađa', 'aja', 'ana', 'ama', 'ara', 'ala', 'ava']\n"
     ]
    }
   ],
   "source": [
    "# Print the number of noise conditions\n",
    "print(f\"Number of noise conditions: {len(data)}\")\n",
    "print(f\"Noise conditions: {list(data.keys())}\")\n",
    "\n",
    "# Iterate over each noise condition to print the number of speakers and stimuli\n",
    "for snr_condition, speakers in data.items():\n",
    "    print(f\"\\nNoise condition: {snr_condition}\")\n",
    "    \n",
    "    # Number of speakers in the current noise condition\n",
    "    num_speakers = len(speakers)\n",
    "    print(f\"  Number of speakers: {num_speakers}\")\n",
    "    print(f\"  Speakers: {list(speakers.keys())}\")\n",
    "    \n",
    "    # Iterate over each speaker to print the number of stimuli\n",
    "    for speaker, stimuli in speakers.items():\n",
    "        num_stimuli = len(stimuli)\n",
    "        print(f\"    Speaker: {speaker}\")\n",
    "        print(f\"      Number of stimuli: {num_stimuli}\")\n",
    "        print(f\"      Stimuli: {list(stimuli.keys())}\")\n"
   ]
  },
  {
   "cell_type": "code",
   "execution_count": null,
   "id": "0be9a291-b21b-4d17-ad4a-4483b7517456",
   "metadata": {},
   "outputs": [],
   "source": [
    "def explore_dict(d, level=0):\n",
    "    indent = \"  \" * level\n",
    "    if isinstance(d, dict):\n",
    "        for key, value in d.items():\n",
    "            print(f\"{indent}Key: {key} (Type: {type(value).__name__})\")\n",
    "            explore_dict(value, level + 1)\n",
    "    elif isinstance(d, list):\n",
    "        if len(d) > 0:\n",
    "            print(f\"{indent}List of {len(d)} items (Type: {type(d[0]).__name__})\")\n",
    "        else:\n",
    "            print(f\"{indent}Empty list\")\n",
    "    else:\n",
    "        print(f\"{indent}Value: {d} (Type: {type(d).__name__})\")\n",
    "\n",
    "# Example usage\n",
    "explore_dict(data)\n"
   ]
  },
  {
   "cell_type": "markdown",
   "id": "83204313-9b64-4c8f-a6c3-73d7873fa409",
   "metadata": {},
   "source": [
    "## Skip to [7] for MFCC, stop by [4] to load a Dictionary"
   ]
  },
  {
   "cell_type": "markdown",
   "id": "ae04014d-b695-4925-991b-cd94fc8284f5",
   "metadata": {},
   "source": [
    "# [2] Main audio file STFT analysis and dict populating"
   ]
  },
  {
   "cell_type": "markdown",
   "id": "29b1fe1f-1684-4da8-b78d-989eeadf6721",
   "metadata": {},
   "source": [
    "Takes about 34s to finish"
   ]
  },
  {
   "cell_type": "code",
   "execution_count": 3,
   "id": "972ea6d1-4eb2-42b4-8f94-f4613c77210d",
   "metadata": {
    "execution": {
     "iopub.execute_input": "2024-06-09T21:54:21.552166Z",
     "iopub.status.busy": "2024-06-09T21:54:21.552166Z",
     "iopub.status.idle": "2024-06-09T21:54:55.592512Z",
     "shell.execute_reply": "2024-06-09T21:54:55.592512Z",
     "shell.execute_reply.started": "2024-06-09T21:54:21.552166Z"
    }
   },
   "outputs": [
    {
     "name": "stdout",
     "output_type": "stream",
     "text": [
      "Processing speaker: govornik_1, SNR condition: SNR_-2\n",
      "\n",
      "speech_mask_filenames: ['S1aba.wav', 'S1aca.wav'] ... (total 21)\n",
      "\n",
      "Processing speaker: govornik_1, SNR condition: SNR_+0\n",
      "\n",
      "speech_mask_filenames: ['S2aba.wav', 'S2aca.wav'] ... (total 21)\n",
      "\n",
      "Processing speaker: govornik_1, SNR condition: SNR_+2\n",
      "\n",
      "speech_mask_filenames: ['S3aba.wav', 'S3aca.wav'] ... (total 21)\n",
      "\n",
      "Processing speaker: govornik_2, SNR condition: SNR_-2\n",
      "\n",
      "speech_mask_filenames: ['S1aba.wav', 'S1aca.wav'] ... (total 21)\n",
      "\n",
      "Processing speaker: govornik_2, SNR condition: SNR_+0\n",
      "\n",
      "speech_mask_filenames: ['S2aba.wav', 'S2aca.wav'] ... (total 21)\n",
      "\n",
      "Processing speaker: govornik_2, SNR condition: SNR_+2\n",
      "\n",
      "speech_mask_filenames: ['S3aba.wav', 'S3aca.wav'] ... (total 21)\n",
      "\n",
      "Processing speaker: govornik_3, SNR condition: SNR_-2\n",
      "\n",
      "speech_mask_filenames: ['S1aba.wav', 'S1aca.wav'] ... (total 21)\n",
      "\n"
     ]
    },
    {
     "name": "stderr",
     "output_type": "stream",
     "text": [
      "<timed exec>:61: RuntimeWarning: divide by zero encountered in log10\n",
      "<timed exec>:64: RuntimeWarning: invalid value encountered in subtract\n",
      "<timed exec>:64: RuntimeWarning: invalid value encountered in divide\n"
     ]
    },
    {
     "name": "stdout",
     "output_type": "stream",
     "text": [
      "Processing speaker: govornik_3, SNR condition: SNR_+0\n",
      "\n",
      "speech_mask_filenames: ['S2aba.wav', 'S2aca.wav'] ... (total 21)\n",
      "\n",
      "Processing speaker: govornik_3, SNR condition: SNR_+2\n",
      "\n",
      "speech_mask_filenames: ['S3aba.wav', 'S3aca.wav'] ... (total 21)\n",
      "\n",
      "Processing speaker: govornik_4, SNR condition: SNR_-2\n",
      "\n",
      "speech_mask_filenames: ['S1aba.wav', 'S1aca.wav'] ... (total 21)\n",
      "\n",
      "Processing speaker: govornik_4, SNR condition: SNR_+0\n",
      "\n",
      "speech_mask_filenames: ['S2aba.wav', 'S2aca.wav'] ... (total 21)\n",
      "\n",
      "Processing speaker: govornik_4, SNR condition: SNR_+2\n",
      "\n",
      "speech_mask_filenames: ['S3aba.wav', 'S3aca.wav'] ... (total 21)\n",
      "\n",
      "\n",
      "len(data): 3\n",
      "data.keys(): dict_keys(['SNR_-2', 'SNR_+0', 'SNR_+2'])\n",
      "\n",
      "CPU times: total: 32.6 s\n",
      "Wall time: 34 s\n"
     ]
    }
   ],
   "source": [
    "%%time\n",
    "\n",
    "import os\n",
    "import numpy as np\n",
    "import matplotlib.pyplot as plt\n",
    "from matplotlib.colors import ListedColormap\n",
    "from scipy.io import wavfile\n",
    "from scipy.signal import stft\n",
    "\n",
    "# Define parameters\n",
    "speakers = ['govornik_1', 'govornik_2', 'govornik_3', 'govornik_4']\n",
    "snr_conditions = ['SNR_-2', 'SNR_+0', 'SNR_+2']\n",
    "\n",
    "# Map speaker to SSN_gX part\n",
    "speaker_mapping = {\n",
    "    'govornik_1': 'g1',\n",
    "    'govornik_2': 'g2',\n",
    "    'govornik_3': 'g3',\n",
    "    'govornik_4': 'g4'\n",
    "}\n",
    "\n",
    "# Map SNR condition to the corresponding number\n",
    "snr_mapping = {\n",
    "    'SNR_-2': '70',\n",
    "    'SNR_+0': '68',\n",
    "    'SNR_+2': '66'\n",
    "}\n",
    "\n",
    "# SNR filename prefix mapping\n",
    "snr_prefix_mapping = {\n",
    "    'SNR_-2': 'S1',\n",
    "    'SNR_+0': 'S2',\n",
    "    'SNR_+2': 'S3'\n",
    "}\n",
    "\n",
    "# Base paths\n",
    "base_path = r'C:\\Users\\Mr Cab Driver\\Documents\\A FAKS FFZG\\Diplomski\\Fonetika\\Diplomski Rad\\Govorni materijal\\Audio snimke govornika GM\\Obrada 3 VCV\\SSN all all'\n",
    "base_speech_mask_path = r'C:\\Users\\Mr Cab Driver\\Documents\\A FAKS FFZG\\Diplomski\\Fonetika\\Diplomski Rad\\Govorni materijal\\Audio snimke govornika GM\\Obrada 3 VCV'\n",
    "\n",
    "# Initialize the data dictionary\n",
    "data = {snr: {speaker: {} for speaker in speakers} for snr in snr_conditions}\n",
    "\n",
    "def process_and_store_data(speaker, snr_condition, stimulus, speech_mask_file_path, mask, sr, snr_prefix):\n",
    "    # Load the speech + mask audio file\n",
    "    _, speech_mask = wavfile.read(speech_mask_file_path)\n",
    "\n",
    "    # Determine the minimum length of the audio files\n",
    "    min_length = min(len(mask), len(speech_mask))\n",
    "\n",
    "    # Trim the audio files to the minimum length\n",
    "    mask = mask[:min_length]\n",
    "    speech_mask = speech_mask[:min_length]\n",
    "\n",
    "    # Compute STFT\n",
    "    f, t, mask_stft = stft(mask, sr)\n",
    "    _, _, speech_mask_stft = stft(speech_mask, sr)\n",
    "\n",
    "    # Convert to power spectrograms (magnitude squared)\n",
    "    mask_power = np.abs(mask_stft)**2 # Adding a slightly larger value to avoid division by zero\n",
    "    speech_mask_power = np.abs(speech_mask_stft)**2\n",
    "\n",
    "    # Calculate SNR\n",
    "    snr = 10 * np.log10(speech_mask_power / (mask_power + 1e-3))  # Adding a slightly larger value to avoid division by zero\n",
    "\n",
    "    # Normalize SNR values to the range [0, 1]\n",
    "    snr_normalized = (snr - np.min(snr)) / (np.max(snr) - np.min(snr))\n",
    "\n",
    "    # Set values where SNR <= 3 to 0\n",
    "    glimpses = np.where(snr > 3, snr_normalized, 0)\n",
    "    \n",
    "    # Trim the glimpses array if its length is longer than the shortest length\n",
    "    shortest_length = min(len(glimpses[1]), len(mask))  # Calculate the shortest length among glimpses and mask\n",
    "    if len(glimpses[1]) > shortest_length:  # Check the length along the second axis\n",
    "        trim_length = len(glimpses[1]) - shortest_length\n",
    "        trim_start = trim_length // 2\n",
    "        trim_end = len(glimpses[1]) - (trim_length - trim_start)\n",
    "        glimpses = glimpses[:, trim_start:trim_end]  # Trim along the second axis\n",
    "\n",
    "    # Store the data in the dictionary\n",
    "    data[snr_condition][speaker][stimulus] = {\n",
    "        'original': speech_mask,\n",
    "        'mask': mask,\n",
    "        'glimpses': glimpses,\n",
    "        'time': t,\n",
    "        'frequency': f\n",
    "    }\n",
    "\n",
    "    # Visualize the glimpses on the spectrogram\n",
    "    plt.figure(figsize=(10, 3))\n",
    "    plt.pcolormesh(t, f, glimpses, shading='nearest', cmap='gray_r', vmin=0, vmax=1)\n",
    "    \n",
    "    title = f'{snr_prefix}{stimulus}'\n",
    "    plt.title(title + ' - Glimpses (SNR > 3 dB)')\n",
    "    plt.ylabel('Frequency [Hz]')\n",
    "    plt.xlabel('Time [sec]')\n",
    "    plt.tight_layout()\n",
    "    \n",
    "    # Save the plot as a .png file in the same directory, including the SNR prefix\n",
    "    output_filename = os.path.join(os.path.dirname(speech_mask_file_path), f'{title}.png'.replace(' ', '_'))\n",
    "    plt.savefig(output_filename, format='png', bbox_inches='tight')\n",
    "    plt.close()  # Close the plot to free memory\n",
    "\n",
    "\n",
    "\n",
    "\n",
    "# Iterate over all speakers and SNR conditions\n",
    "for speaker in speakers:\n",
    "    for snr_condition in snr_conditions:\n",
    "        ssn_part = speaker_mapping[speaker]\n",
    "        snr_number = snr_mapping[snr_condition]\n",
    "\n",
    "        # Construct the mask_dir path using string formatting\n",
    "        mask_dir = f'{base_path}\\SSN_{ssn_part}_{snr_number}.wav'\n",
    "        \n",
    "        # Construct the speech_mask_dir path using string formatting\n",
    "        speech_mask_folder_mapping = {\n",
    "            'govornik_1': 'wav g1 VCV mask',\n",
    "            'govornik_2': 'wav g2 VCV mask',\n",
    "            'govornik_3': 'wav g3 VCV mask',\n",
    "            'govornik_4': 'wav g4 VCV mask'\n",
    "        }\n",
    "        speech_mask_folder = speech_mask_folder_mapping[speaker]\n",
    "        speech_mask_dir = os.path.join(base_speech_mask_path, speech_mask_folder)\n",
    "\n",
    "        print(f\"Processing speaker: {speaker}, SNR condition: {snr_condition}\\n\")\n",
    "        #print(f\"mask_dir: {mask_dir}\")\n",
    "        #print(f\"speech_mask_dir: {speech_mask_dir}\")\n",
    "\n",
    "        # Load the mask file\n",
    "        sr, mask = wavfile.read(mask_dir)\n",
    "\n",
    "        # Get the correct SNR prefix for the current SNR condition\n",
    "        snr_prefix = snr_prefix_mapping[snr_condition]\n",
    "\n",
    "        # List all files in the speaker's directory\n",
    "        speech_mask_filenames = [f for f in os.listdir(speech_mask_dir) if f.endswith('.wav') and f.startswith(snr_prefix)]\n",
    "\n",
    "        print(f\"speech_mask_filenames: {speech_mask_filenames[:2]} ... (total {len(speech_mask_filenames)})\\n\")\n",
    "\n",
    "        # Process each file\n",
    "        for speech_mask_filename in speech_mask_filenames:\n",
    "            speech_mask_file_path = os.path.join(speech_mask_dir, speech_mask_filename)\n",
    "            stimulus = os.path.splitext(speech_mask_filename)[0][2:]  # Extract the stimulus part of the filename\n",
    "            process_and_store_data(speaker, snr_condition, stimulus, speech_mask_file_path, mask, sr, snr_prefix)\n",
    "\n",
    "# Check data dictionary content\n",
    "print(f\"\\nlen(data): {len(data)}\")\n",
    "print(f\"data.keys(): {data.keys()}\\n\")\n"
   ]
  },
  {
   "cell_type": "markdown",
   "id": "40750234-7744-43aa-bbbc-79d5362564e6",
   "metadata": {},
   "source": []
  },
  {
   "cell_type": "markdown",
   "id": "ad913d2f-5c34-4e41-be68-0baf4251aa07",
   "metadata": {},
   "source": [
    "## CHECK if dictionary had filled properly"
   ]
  },
  {
   "cell_type": "code",
   "execution_count": 4,
   "id": "2fab1adb-cef3-4d21-96a5-e2bcf988ad4a",
   "metadata": {
    "execution": {
     "iopub.execute_input": "2024-06-09T21:55:17.483645Z",
     "iopub.status.busy": "2024-06-09T21:55:17.483645Z",
     "iopub.status.idle": "2024-06-09T21:55:17.495459Z",
     "shell.execute_reply": "2024-06-09T21:55:17.495459Z",
     "shell.execute_reply.started": "2024-06-09T21:55:17.483645Z"
    }
   },
   "outputs": [
    {
     "name": "stdout",
     "output_type": "stream",
     "text": [
      "SNR Condition: SNR_-2\n",
      "\tSpeaker: govornik_1\n",
      "\t\tStimulus: aba\n",
      "\t\t\tOriginal Shape: (15930,)\n",
      "\t\t\tMask Shape: (15930,)\n",
      "\t\t\tGlimpses Shape: (129, 126)\n",
      "\t\t\tGlimpses Example:\n",
      "[[0.         0.         0.         0.         0.        ]\n",
      " [0.         0.         0.         0.         0.        ]\n",
      " [0.         0.         0.         0.         0.        ]\n",
      " [0.         0.         0.         0.         0.        ]\n",
      " [0.         0.         0.         0.         0.        ]\n",
      " [0.         0.         0.         0.         0.64111644]\n",
      " [0.         0.         0.74585676 0.         0.6782577 ]\n",
      " [0.         0.         0.         0.         0.59203255]]\n",
      "\t\t\tTime: (126,)\n",
      "\t\t\tFrequency: (129,)\n",
      "\t\tStimulus: aca\n",
      "\t\t\tOriginal Shape: (18960,)\n",
      "\t\t\tMask Shape: (18960,)\n",
      "\t\t\tGlimpses Shape: (129, 150)\n",
      "\t\t\tGlimpses Example:\n",
      "[[0.         0.         0.         0.         0.        ]\n",
      " [0.         0.         0.         0.         0.        ]\n",
      " [0.         0.         0.         0.         0.        ]\n",
      " [0.         0.         0.         0.         0.        ]\n",
      " [0.         0.         0.         0.         0.        ]\n",
      " [0.         0.         0.         0.         0.5328368 ]\n",
      " [0.         0.         0.71923727 0.         0.5622574 ]\n",
      " [0.         0.51672196 0.         0.568793   0.5422056 ]]\n",
      "\t\t\tTime: (150,)\n",
      "\t\t\tFrequency: (129,)\n",
      "\t\tStimulus: ada\n",
      "\t\t\tOriginal Shape: (16615,)\n",
      "\t\t\tMask Shape: (16615,)\n",
      "\t\t\tGlimpses Shape: (129, 131)\n",
      "\t\t\tGlimpses Example:\n",
      "[[0.         0.         0.         0.         0.        ]\n",
      " [0.         0.         0.         0.         0.        ]\n",
      " [0.         0.         0.         0.         0.        ]\n",
      " [0.         0.         0.         0.         0.        ]\n",
      " [0.         0.         0.         0.         0.        ]\n",
      " [0.         0.         0.7232271  0.         0.        ]\n",
      " [0.         0.         0.95647436 0.         0.        ]\n",
      " [0.         0.         0.7826108  0.         0.        ]]\n",
      "\t\t\tTime: (131,)\n",
      "\t\t\tFrequency: (129,)\n"
     ]
    }
   ],
   "source": [
    "# Function to print sample data points\n",
    "def print_sample_data(data, num_samples=3):\n",
    "    for snr_condition, snr_data in data.items():\n",
    "        print(f\"SNR Condition: {snr_condition}\")\n",
    "        for speaker, speaker_data in snr_data.items():\n",
    "            print(f\"\\tSpeaker: {speaker}\")\n",
    "            for stimulus, stimulus_data in speaker_data.items():\n",
    "                print(f\"\\t\\tStimulus: {stimulus}\")\n",
    "                print(f\"\\t\\t\\tOriginal Shape: {stimulus_data['original'].shape}\")\n",
    "                print(f\"\\t\\t\\tMask Shape: {stimulus_data['mask'].shape}\")\n",
    "                print(f\"\\t\\t\\tGlimpses Shape: {stimulus_data['glimpses'].shape}\")\n",
    "                print(f\"\\t\\t\\tGlimpses Example:\")\n",
    "                print(stimulus_data['glimpses'][:8, :5])  # Print a small portion of the glimpses\n",
    "                print(f\"\\t\\t\\tTime: {stimulus_data['time'].shape}\")  # Print the shape of time array\n",
    "                print(f\"\\t\\t\\tFrequency: {stimulus_data['frequency'].shape}\")  # Print the shape of frequency array\n",
    "                num_samples -= 1\n",
    "                if num_samples <= 0:\n",
    "                    return\n",
    "\n",
    "# Call the function to print sample data points\n",
    "print_sample_data(data)\n"
   ]
  },
  {
   "cell_type": "markdown",
   "id": "04cd7d7b-f607-4a33-a4f2-d7ceed75c6c7",
   "metadata": {},
   "source": [
    "## [3] Save Dictionary (34MB)"
   ]
  },
  {
   "cell_type": "code",
   "execution_count": 53,
   "id": "d7f9a1ef-bac1-4afd-acfa-709006d803f6",
   "metadata": {
    "execution": {
     "iopub.execute_input": "2024-06-09T17:10:24.824649Z",
     "iopub.status.busy": "2024-06-09T17:10:24.822654Z",
     "iopub.status.idle": "2024-06-09T17:10:24.932295Z",
     "shell.execute_reply": "2024-06-09T17:10:24.932295Z",
     "shell.execute_reply.started": "2024-06-09T17:10:24.823652Z"
    }
   },
   "outputs": [
    {
     "name": "stdout",
     "output_type": "stream",
     "text": [
      "Dictionary saved to C:\\Users\\Mr Cab Driver\\Documents\\A FAKS FFZG\\Diplomski\\Fonetika\\DIPLOMSKI RAD\\Govorni materijal\\Audio snimke govornika GM\\Obrada 3 VCV\\GM_data_dict-v2.0.pkl\n"
     ]
    }
   ],
   "source": [
    "import pickle\n",
    "output_file_path_base = r\"C:\\Users\\Mr Cab Driver\\Documents\\A FAKS FFZG\\Diplomski\\Fonetika\\DIPLOMSKI RAD\\Govorni materijal\\Audio snimke govornika GM\\Obrada 3 VCV\"\n",
    "dictionary_name_version = f\"\\GM_data_dict-{work_version}.pkl\"\n",
    "\n",
    "# Define the file path to save the dictionary\n",
    "output_file_path = output_file_path_base + dictionary_name_version\n",
    "\n",
    "# Save the dictionary using pickle\n",
    "with open(output_file_path, \"wb\") as file:\n",
    "    pickle.dump(data, file)\n",
    "\n",
    "print(f\"Dictionary saved to {output_file_path}\")\n"
   ]
  },
  {
   "cell_type": "markdown",
   "id": "5bb1cfb5-b1e7-45e5-a4c7-1a31e7410e32",
   "metadata": {},
   "source": [
    "## [4] Load Dictionary"
   ]
  },
  {
   "cell_type": "code",
   "execution_count": 1,
   "id": "d1c1375a-82c3-4f22-a639-475ea66e97c4",
   "metadata": {
    "execution": {
     "iopub.execute_input": "2024-06-09T18:22:47.242429Z",
     "iopub.status.busy": "2024-06-09T18:22:47.242429Z",
     "iopub.status.idle": "2024-06-09T18:22:49.144988Z",
     "shell.execute_reply": "2024-06-09T18:22:49.144988Z",
     "shell.execute_reply.started": "2024-06-09T18:22:47.242429Z"
    }
   },
   "outputs": [
    {
     "name": "stdout",
     "output_type": "stream",
     "text": [
      "Dictionary loaded successfully!\n"
     ]
    }
   ],
   "source": [
    "import pickle\n",
    "\n",
    "# Load the dictionary from the file\n",
    "output_file_path = r\"C:\\Users\\Mr Cab Driver\\Documents\\A FAKS FFZG\\Diplomski\\Fonetika\\DIPLOMSKI RAD\\Govorni materijal\\Audio snimke govornika GM\\Obrada 3 VCV\\GM_data_dict-v2.0.pkl\"\n",
    "\n",
    "with open(output_file_path, \"rb\") as file:\n",
    "    data = pickle.load(file)\n",
    "\n",
    "print(\"Dictionary loaded successfully!\")\n"
   ]
  },
  {
   "cell_type": "markdown",
   "id": "b15d2f37-4cbf-4739-8904-cec2fa73911f",
   "metadata": {},
   "source": [
    "## [5] Analysis: Average out by speakers, per SNR condition"
   ]
  },
  {
   "cell_type": "code",
   "execution_count": 20,
   "id": "3547aaa9-2a26-4b8c-9204-6d074a2ea8c9",
   "metadata": {
    "execution": {
     "iopub.execute_input": "2024-06-09T15:11:42.272390Z",
     "iopub.status.busy": "2024-06-09T15:11:42.272390Z",
     "iopub.status.idle": "2024-06-09T15:11:42.275470Z",
     "shell.execute_reply": "2024-06-09T15:11:42.275470Z",
     "shell.execute_reply.started": "2024-06-09T15:11:42.272390Z"
    }
   },
   "outputs": [],
   "source": [
    "save5_png_path = r\"C:\\Users\\Mr Cab Driver\\Documents\\A FAKS FFZG\\Diplomski\\Fonetika\\DIPLOMSKI RAD\\Govorni materijal\\Audio snimke govornika GM\\Obrada 3 VCV\\PNG analiza\""
   ]
  },
  {
   "cell_type": "code",
   "execution_count": 52,
   "id": "8d37b40e-879a-4634-a021-6062d73e9f97",
   "metadata": {
    "execution": {
     "iopub.execute_input": "2024-06-09T15:53:49.050066Z",
     "iopub.status.busy": "2024-06-09T15:53:49.050066Z",
     "iopub.status.idle": "2024-06-09T15:53:52.522667Z",
     "shell.execute_reply": "2024-06-09T15:53:52.522153Z",
     "shell.execute_reply.started": "2024-06-09T15:53:49.050066Z"
    }
   },
   "outputs": [
    {
     "name": "stdout",
     "output_type": "stream",
     "text": [
      "Plotting: SNR_+2 - aba\n",
      "Glimpses shape before plotting: (129, 161)\n",
      "Plotting: SNR_+2 - aca\n",
      "Glimpses shape before plotting: (129, 161)\n",
      "Plotting: SNR_+2 - ada\n",
      "Glimpses shape before plotting: (129, 161)\n",
      "Plotting: SNR_+2 - afa\n",
      "Glimpses shape before plotting: (129, 161)\n",
      "Plotting: SNR_+2 - aga\n",
      "Glimpses shape before plotting: (129, 161)\n",
      "Plotting: SNR_+2 - aha\n",
      "Glimpses shape before plotting: (129, 161)\n",
      "Plotting: SNR_+2 - aja\n",
      "Glimpses shape before plotting: (129, 161)\n",
      "Plotting: SNR_+2 - aka\n",
      "Glimpses shape before plotting: (129, 161)\n",
      "Plotting: SNR_+2 - ala\n",
      "Glimpses shape before plotting: (129, 161)\n",
      "Plotting: SNR_+2 - ama\n",
      "Glimpses shape before plotting: (129, 161)\n",
      "Plotting: SNR_+2 - ana\n",
      "Glimpses shape before plotting: (129, 161)\n",
      "Plotting: SNR_+2 - apa\n",
      "Glimpses shape before plotting: (129, 161)\n",
      "Plotting: SNR_+2 - ara\n",
      "Glimpses shape before plotting: (129, 161)\n",
      "Plotting: SNR_+2 - asa\n",
      "Glimpses shape before plotting: (129, 161)\n",
      "Plotting: SNR_+2 - ata\n",
      "Glimpses shape before plotting: (129, 161)\n",
      "Plotting: SNR_+2 - ava\n",
      "Glimpses shape before plotting: (129, 161)\n",
      "Plotting: SNR_+2 - aza\n",
      "Glimpses shape before plotting: (129, 161)\n",
      "Plotting: SNR_+2 - ača\n",
      "Glimpses shape before plotting: (129, 161)\n",
      "Plotting: SNR_+2 - ađa\n",
      "Glimpses shape before plotting: (129, 161)\n",
      "Plotting: SNR_+2 - aša\n",
      "Glimpses shape before plotting: (129, 161)\n",
      "Plotting: SNR_+2 - aža\n",
      "Glimpses shape before plotting: (129, 161)\n"
     ]
    }
   ],
   "source": [
    "import numpy as np\n",
    "\n",
    "# Define selected speakers and noise conditions\n",
    "selected_speakers = ['govornik_1', 'govornik_2','govornik_3', 'govornik_4']\n",
    "selected_noise_condition = 'SNR_+2'\n",
    "\n",
    "# Function to find the longest time length\n",
    "def find_longest_time_length(data, selected_speakers, selected_noise_condition):\n",
    "    longest_length = 0\n",
    "    for stimulus in data[selected_noise_condition][selected_speakers[0]]:\n",
    "        for speaker in selected_speakers:\n",
    "            glimpses_length = data[selected_noise_condition][speaker][stimulus]['glimpses'].shape[1]  # Get the length along the time axis\n",
    "            if glimpses_length > longest_length:\n",
    "                longest_length = glimpses_length\n",
    "    return longest_length\n",
    "\n",
    "# Function to pad glimpses to the longest time length equally on both sides\n",
    "def pad_glimpses(glimpses, longest_length):\n",
    "    total_padding = longest_length - glimpses.shape[1]\n",
    "    left_padding = total_padding // 2\n",
    "    right_padding = total_padding - left_padding\n",
    "    pad_width = ((0, 0), (left_padding, right_padding))\n",
    "    return np.pad(glimpses, pad_width, mode='constant', constant_values=0)\n",
    "\n",
    "# Function to calculate the average glimpses for each stimulus\n",
    "def calculate_average_glimpses(data, selected_speakers, selected_noise_condition):\n",
    "    average_glimpses = {}\n",
    "    longest_length = find_longest_time_length(data, selected_speakers, selected_noise_condition)\n",
    "    \n",
    "    # Pad the glimpses and calculate the average glimpses for each stimulus\n",
    "    for stimulus in data[selected_noise_condition][selected_speakers[0]]:\n",
    "        glimpses_sum = None\n",
    "        \n",
    "        # Iterate over each speaker for the current stimulus\n",
    "        for speaker in selected_speakers:\n",
    "            glimpses = data[selected_noise_condition][speaker][stimulus]['glimpses']\n",
    "            padded_glimpses = pad_glimpses(glimpses, longest_length)\n",
    "            \n",
    "            # Initialize glimpses_sum if it's None\n",
    "            if glimpses_sum is None:\n",
    "                glimpses_sum = padded_glimpses\n",
    "            else:\n",
    "                # Add the padded glimpses to the existing sum\n",
    "                glimpses_sum += padded_glimpses\n",
    "        \n",
    "        # Calculate the average glimpses for the current stimulus\n",
    "        average_glimpses[stimulus] = glimpses_sum / len(selected_speakers)\n",
    "    \n",
    "    return average_glimpses\n",
    "\n",
    "# Calculate the average glimpses\n",
    "average_glimpses = calculate_average_glimpses(data, selected_speakers, selected_noise_condition)\n",
    "\n",
    "# Visualize and save the averaged glimpses\n",
    "for stimulus, glimpses in average_glimpses.items():\n",
    "    print(f\"Plotting: {selected_noise_condition} - {stimulus}\")\n",
    "    print(\"Glimpses shape before plotting:\", glimpses.shape)\n",
    "\n",
    "    plt.figure(figsize=(8, 6))\n",
    "    plt.pcolormesh(range(glimpses.shape[1]), range(glimpses.shape[0]), glimpses, shading='nearest', cmap='gray_r', vmin=0, vmax=1)\n",
    "    \n",
    "    plt.title(f'{selected_noise_condition} - {stimulus} - Average Glimpses')\n",
    "    plt.ylabel('Frequency [bins]')\n",
    "    plt.xlabel('Time [bins]')\n",
    "    plt.tight_layout()\n",
    "    \n",
    "    # Save the plot as a .png file in the current directory\n",
    "    speaker_suffix = '+'.join([speaker_mapping[speaker] for speaker in selected_speakers])\n",
    "    snr_prefix = snr_prefix_mapping[selected_noise_condition]\n",
    "    output_filename = f'{stimulus}_avg_glimpses_{snr_prefix}-{speaker_suffix}.png'.replace(' ', '_')\n",
    "    plt.savefig(os.path.join(save5_png_path, output_filename), format='png', bbox_inches='tight')\n",
    "    plt.close()\n"
   ]
  },
  {
   "cell_type": "markdown",
   "id": "06382ec0-20af-4499-a2a4-28fc789e1358",
   "metadata": {},
   "source": [
    "## visual debugger - before and after, saves them"
   ]
  },
  {
   "cell_type": "code",
   "execution_count": null,
   "id": "22cbe175-16d5-447a-9a4f-eba8ad622bcf",
   "metadata": {},
   "outputs": [],
   "source": []
  },
  {
   "cell_type": "code",
   "execution_count": null,
   "id": "50047cef-01fd-42af-85dd-d3668f6692d7",
   "metadata": {},
   "outputs": [],
   "source": []
  },
  {
   "cell_type": "markdown",
   "id": "cf192ba4-1124-4e7a-8f2b-4824faf97ecb",
   "metadata": {},
   "source": [
    "## [6] PyTorch testing"
   ]
  },
  {
   "cell_type": "code",
   "execution_count": 3,
   "id": "4e28b9d8-c6dd-4a0a-86d8-217c78909e66",
   "metadata": {
    "execution": {
     "iopub.execute_input": "2024-06-09T20:01:15.538830Z",
     "iopub.status.busy": "2024-06-09T20:01:15.538830Z",
     "iopub.status.idle": "2024-06-09T20:01:17.890092Z",
     "shell.execute_reply": "2024-06-09T20:01:17.890092Z",
     "shell.execute_reply.started": "2024-06-09T20:01:15.538830Z"
    }
   },
   "outputs": [
    {
     "data": {
      "image/png": "[encoded data removed]",
      "text/plain": [
       "<Figure size 1000x400 with 2 Axes>"
      ]
     },
     "metadata": {},
     "output_type": "display_data"
    }
   ],
   "source": [
    "import torchaudio\n",
    "import torch\n",
    "import matplotlib.pyplot as plt\n",
    "\n",
    "torch_test = r\"C:\\Users\\Mr Cab Driver\\Documents\\A FAKS FFZG\\Diplomski\\Fonetika\\DIPLOMSKI RAD\\Govorni materijal\\Audio snimke govornika GM\\Obrada 3 VCV\\wav g4 VCV mask\\S1aša.wav\"\n",
    "\n",
    "# Load the audio file\n",
    "waveform, sample_rate = torchaudio.load(torch_test)\n",
    "\n",
    "\n",
    "# Resample to a common sample rate (optional)\n",
    "waveform = torchaudio.transforms.Resample(orig_freq=sample_rate, new_freq=16000)(waveform)\n",
    "\n",
    "# Convert to mono if stereo\n",
    "if waveform.shape[0] > 1:\n",
    "    waveform = torch.mean(waveform, dim=0, keepdim=True)\n",
    "\n",
    "# Compute the log-mel spectrogram\n",
    "mel_specgram = torchaudio.transforms.MelSpectrogram(\n",
    "    sample_rate=16000, n_fft=400, win_length=400, hop_length=160, n_mels=64\n",
    ")(waveform)\n",
    "\n",
    "# Convert to decibels\n",
    "log_mel_specgram = torchaudio.transforms.AmplitudeToDB()(mel_specgram)\n",
    "\n",
    "# Plot the log-mel spectrogram\n",
    "plt.figure(figsize=(10, 4))\n",
    "plt.imshow(log_mel_specgram[0].numpy(), cmap='viridis', origin='lower', aspect='auto')\n",
    "plt.title('Log-Mel Spectrogram')\n",
    "plt.xlabel('Time')\n",
    "plt.ylabel('Mel Filterbank Index')\n",
    "plt.colorbar(format='%+2.0f dB')\n",
    "plt.show()\n"
   ]
  },
  {
   "cell_type": "code",
   "execution_count": null,
   "id": "c91864f0-4faf-4745-a7aa-b06199623f5d",
   "metadata": {},
   "outputs": [],
   "source": []
  },
  {
   "cell_type": "code",
   "execution_count": 13,
   "id": "29bffb3a-b47e-43fa-9f86-273e0cc6f8d1",
   "metadata": {
    "execution": {
     "iopub.execute_input": "2024-06-09T14:32:25.022148Z",
     "iopub.status.busy": "2024-06-09T14:32:25.022148Z",
     "iopub.status.idle": "2024-06-09T14:32:25.781279Z",
     "shell.execute_reply": "2024-06-09T14:32:25.781279Z",
     "shell.execute_reply.started": "2024-06-09T14:32:25.022148Z"
    }
   },
   "outputs": [
    {
     "name": "stdout",
     "output_type": "stream",
     "text": [
      "Plotting: SNR_-2 - aba\n",
      "Glimpses shape before plotting: (129, 107)\n"
     ]
    },
    {
     "data": {
      "image/png": "[encoded data removed]",
      "text/plain": [
       "<Figure size 1200x600 with 4 Axes>"
      ]
     },
     "metadata": {},
     "output_type": "display_data"
    },
    {
     "name": "stdout",
     "output_type": "stream",
     "text": [
      "Plotting: SNR_-2 - aca\n",
      "Glimpses shape before plotting: (129, 107)\n"
     ]
    },
    {
     "data": {
      "image/png": "[encoded data removed]",
      "text/plain": [
       "<Figure size 1200x600 with 4 Axes>"
      ]
     },
     "metadata": {},
     "output_type": "display_data"
    }
   ],
   "source": [
    "# Calculate the average glimpses\n",
    "average_glimpses = calculate_average_glimpses(data, selected_speakers, selected_noise_condition)\n",
    "\n",
    "# Visualize the averaged glimpses\n",
    "for i, (stimulus, glimpses) in enumerate(average_glimpses.items()):\n",
    "    if i >= 2:  # Only visualize the first two stimuli\n",
    "        break\n",
    "    \n",
    "    print(f\"Plotting: {selected_noise_condition} - {stimulus}\")\n",
    "    print(\"Glimpses shape before plotting:\", glimpses.shape)\n",
    "    \n",
    "    # Define a reversed grayscale colormap\n",
    "    reversed_gray_cmap = plt.cm.gray.reversed()\n",
    "    \n",
    "    plt.figure(figsize=(12, 6))\n",
    "    \n",
    "    # Plot original glimpses\n",
    "    plt.subplot(2, 2, 1)\n",
    "    plt.pcolormesh(data[selected_noise_condition][selected_speakers[0]][stimulus]['glimpses'], shading='nearest', cmap=reversed_gray_cmap, vmin=0, vmax=1)\n",
    "    plt.title(f'{selected_noise_condition} - {stimulus} - Original Glimpses')\n",
    "    plt.ylabel('Frequency [Hz]')\n",
    "    plt.xlabel('Time [sec]')\n",
    "    \n",
    "    plt.subplot(2, 2, 2)\n",
    "    plt.pcolormesh(data[selected_noise_condition][selected_speakers[1]][stimulus]['glimpses'], shading='nearest', cmap=reversed_gray_cmap, vmin=0, vmax=1)\n",
    "    plt.title(f'{selected_noise_condition} - {stimulus} - Original Glimpses')\n",
    "    plt.ylabel('Frequency [Hz]')\n",
    "    plt.xlabel('Time [sec]')\n",
    "    \n",
    "    # Plot averaged glimpses\n",
    "    plt.subplot(2, 2, 3)\n",
    "    plt.pcolormesh(glimpses, shading='nearest', cmap=reversed_gray_cmap, vmin=0, vmax=1)\n",
    "    plt.title(f'{selected_noise_condition} - {stimulus} - Average Glimpses')\n",
    "    plt.ylabel('Frequency [Hz]')\n",
    "    plt.xlabel('Time [sec]')\n",
    "    \n",
    "    plt.subplot(2, 2, 4)\n",
    "    plt.pcolormesh(glimpses, shading='nearest', cmap=reversed_gray_cmap, vmin=0, vmax=1)\n",
    "    plt.title(f'{selected_noise_condition} - {stimulus} - Average Glimpses')\n",
    "    plt.ylabel('Frequency [Hz]')\n",
    "    plt.xlabel('Time [sec]')\n",
    "    \n",
    "    plt.tight_layout()\n",
    "    \n",
    "    # Display the plots\n",
    "    plt.show()\n"
   ]
  },
  {
   "cell_type": "code",
   "execution_count": 8,
   "id": "bfa405bd-2b15-4ca5-a748-e0bc4e531a15",
   "metadata": {
    "execution": {
     "iopub.execute_input": "2024-06-09T14:57:21.394089Z",
     "iopub.status.busy": "2024-06-09T14:57:21.394089Z",
     "iopub.status.idle": "2024-06-09T14:57:21.474684Z",
     "shell.execute_reply": "2024-06-09T14:57:21.474684Z",
     "shell.execute_reply.started": "2024-06-09T14:57:21.394089Z"
    }
   },
   "outputs": [
    {
     "ename": "NameError",
     "evalue": "name 'reversed_gray_cmap' is not defined",
     "output_type": "error",
     "traceback": [
      "\u001b[1;31m---------------------------------------------------------------------------\u001b[0m",
      "\u001b[1;31mNameError\u001b[0m                                 Traceback (most recent call last)",
      "Cell \u001b[1;32mIn[8], line 3\u001b[0m\n\u001b[0;32m      1\u001b[0m \u001b[38;5;66;03m# Plot original glimpses\u001b[39;00m\n\u001b[0;32m      2\u001b[0m plt\u001b[38;5;241m.\u001b[39msubplot(\u001b[38;5;241m2\u001b[39m, \u001b[38;5;241m2\u001b[39m, \u001b[38;5;241m1\u001b[39m)\n\u001b[1;32m----> 3\u001b[0m plt\u001b[38;5;241m.\u001b[39mimshow(data[selected_noise_condition][selected_speakers[\u001b[38;5;241m0\u001b[39m]][stimulus][\u001b[38;5;124m'\u001b[39m\u001b[38;5;124mglimpses\u001b[39m\u001b[38;5;124m'\u001b[39m], aspect\u001b[38;5;241m=\u001b[39m\u001b[38;5;124m'\u001b[39m\u001b[38;5;124mauto\u001b[39m\u001b[38;5;124m'\u001b[39m, cmap\u001b[38;5;241m=\u001b[39mreversed_gray_cmap, origin\u001b[38;5;241m=\u001b[39m\u001b[38;5;124m'\u001b[39m\u001b[38;5;124mlower\u001b[39m\u001b[38;5;124m'\u001b[39m, extent\u001b[38;5;241m=\u001b[39m[\u001b[38;5;241m0\u001b[39m, \u001b[38;5;241m1\u001b[39m, \u001b[38;5;241m0\u001b[39m, \u001b[38;5;241m1\u001b[39m])\n\u001b[0;32m      4\u001b[0m plt\u001b[38;5;241m.\u001b[39mtitle(\u001b[38;5;124mf\u001b[39m\u001b[38;5;124m'\u001b[39m\u001b[38;5;132;01m{\u001b[39;00mselected_noise_condition\u001b[38;5;132;01m}\u001b[39;00m\u001b[38;5;124m - \u001b[39m\u001b[38;5;132;01m{\u001b[39;00mstimulus\u001b[38;5;132;01m}\u001b[39;00m\u001b[38;5;124m - Original Glimpses\u001b[39m\u001b[38;5;124m'\u001b[39m)\n\u001b[0;32m      5\u001b[0m plt\u001b[38;5;241m.\u001b[39mylabel(\u001b[38;5;124m'\u001b[39m\u001b[38;5;124mFrequency [Hz]\u001b[39m\u001b[38;5;124m'\u001b[39m)\n",
      "\u001b[1;31mNameError\u001b[0m: name 'reversed_gray_cmap' is not defined"
     ]
    },
    {
     "data": {
      "image/png": "[encoded data removed]",
      "text/plain": [
       "<Figure size 640x480 with 1 Axes>"
      ]
     },
     "metadata": {},
     "output_type": "display_data"
    }
   ],
   "source": [
    "# Plot original glimpses\n",
    "plt.subplot(2, 2, 1)\n",
    "plt.imshow(data[selected_noise_condition][selected_speakers[0]][stimulus]['glimpses'], aspect='auto', cmap=reversed_gray_cmap, origin='lower', extent=[0, 1, 0, 1])\n",
    "plt.title(f'{selected_noise_condition} - {stimulus} - Original Glimpses')\n",
    "plt.ylabel('Frequency [Hz]')\n",
    "plt.xlabel('Time [sec]')\n",
    "\n",
    "plt.subplot(2, 2, 2)\n",
    "plt.imshow(data[selected_noise_condition][selected_speakers[1]][stimulus]['glimpses'], aspect='auto', cmap=reversed_gray_cmap, origin='lower', extent=[0, 1, 0, 1])\n",
    "plt.title(f'{selected_noise_condition} - {stimulus} - Original Glimpses')\n",
    "plt.ylabel('Frequency [Hz]')\n",
    "plt.xlabel('Time [sec]')\n"
   ]
  },
  {
   "cell_type": "code",
   "execution_count": null,
   "id": "649e8c27-3d86-4464-aa0a-6985cb95b32c",
   "metadata": {},
   "outputs": [],
   "source": []
  },
  {
   "cell_type": "code",
   "execution_count": 19,
   "id": "fc9158ba-ea02-4d63-8e3a-f41800ff54dc",
   "metadata": {
    "execution": {
     "iopub.execute_input": "2024-06-09T14:16:27.858664Z",
     "iopub.status.busy": "2024-06-09T14:16:27.858664Z",
     "iopub.status.idle": "2024-06-09T14:16:30.313975Z",
     "shell.execute_reply": "2024-06-09T14:16:30.313221Z",
     "shell.execute_reply.started": "2024-06-09T14:16:27.858664Z"
    }
   },
   "outputs": [
    {
     "name": "stdout",
     "output_type": "stream",
     "text": [
      "Plotting: SNR_-2 - aba\n",
      "Plotting: SNR_-2 - aca\n",
      "Plotting: SNR_-2 - ada\n",
      "Plotting: SNR_-2 - afa\n",
      "Plotting: SNR_-2 - aga\n",
      "Plotting: SNR_-2 - aha\n",
      "Plotting: SNR_-2 - aja\n",
      "Plotting: SNR_-2 - aka\n",
      "Plotting: SNR_-2 - ala\n",
      "Plotting: SNR_-2 - ama\n",
      "Plotting: SNR_-2 - ana\n",
      "Plotting: SNR_-2 - apa\n",
      "Plotting: SNR_-2 - ara\n",
      "Plotting: SNR_-2 - asa\n",
      "Plotting: SNR_-2 - ata\n",
      "Plotting: SNR_-2 - ava\n",
      "Plotting: SNR_-2 - aza\n",
      "Plotting: SNR_-2 - ača\n",
      "Plotting: SNR_-2 - ađa\n",
      "Plotting: SNR_-2 - aša\n",
      "Plotting: SNR_-2 - aža\n"
     ]
    }
   ],
   "source": [
    "import numpy as np\n",
    "import os\n",
    "import matplotlib.pyplot as plt\n",
    "\n",
    "# Define selected speakers and noise conditions\n",
    "selected_speakers = ['govornik_1', 'govornik_3']\n",
    "selected_noise_condition = 'SNR_-2'\n",
    "\n",
    "# Function to calculate the average glimpses for each stimulus\n",
    "def calculate_average_glimpses(data, selected_speakers, selected_noise_condition):\n",
    "    average_glimpses = {}\n",
    "    shortest_length = None\n",
    "    \n",
    "    # Find the shortest length\n",
    "    for stimulus in data[selected_noise_condition][selected_speakers[0]]:\n",
    "        glimpses_lengths = [len(data[selected_noise_condition][speaker][stimulus]['glimpses'][1]) for speaker in selected_speakers]  # Get the length along the second axis\n",
    "        shortest_length = min(glimpses_lengths) if shortest_length is None else min(shortest_length, *glimpses_lengths)\n",
    "    \n",
    "    #print(\"Shortest length:\", shortest_length)  # Add print statement to check the shortest length\n",
    "    \n",
    "    # Calculate the average glimpses for each stimulus\n",
    "    for stimulus in data[selected_noise_condition][selected_speakers[0]]:\n",
    "        glimpses_sum = None\n",
    "        \n",
    "        # Iterate over each speaker for the current stimulus\n",
    "        for speaker in selected_speakers:\n",
    "            glimpses = data[selected_noise_condition][speaker][stimulus]['glimpses']\n",
    "            \n",
    "            # Trim the glimpses array if its length is longer than the shortest length\n",
    "            if len(glimpses[1]) > shortest_length:  # Check the length along the second axis\n",
    "                trim_length = len(glimpses[1]) - shortest_length\n",
    "                trim_start = trim_length // 2\n",
    "                trim_end = len(glimpses[1]) - (trim_length - trim_start)\n",
    "                glimpses = glimpses[:, trim_start:trim_end]  # Trim along the second axis\n",
    "                \n",
    "            # Initialize glimpses_sum if it's None\n",
    "            if glimpses_sum is None:\n",
    "                glimpses_sum = glimpses\n",
    "            else:\n",
    "                # Add the glimpses to the existing sum\n",
    "                glimpses_sum += glimpses\n",
    "        \n",
    "        # Calculate the average glimpses for the current stimulus\n",
    "        average_glimpses[stimulus] = glimpses_sum / len(selected_speakers)\n",
    "    \n",
    "    return average_glimpses\n",
    "\n",
    "# Calculate the average glimpses\n",
    "average_glimpses = calculate_average_glimpses(data, selected_speakers, selected_noise_condition)\n",
    "\n",
    "# Visualize and save the averaged glimpses\n",
    "for stimulus, glimpses in average_glimpses.items():\n",
    "    \n",
    "    print(f\"Plotting: {selected_noise_condition} - {stimulus}\")\n",
    "    \n",
    "    # Define a reversed grayscale colormap\n",
    "    reversed_gray_cmap = plt.cm.gray.reversed()\n",
    "    \n",
    "    plt.figure(figsize=(10, 3))\n",
    "    plt.pcolormesh(glimpses, shading='nearest', cmap=reversed_gray_cmap, vmin=0, vmax=1)\n",
    "    \n",
    "    plt.title(f'{selected_noise_condition} - {stimulus} - Average Glimpses')\n",
    "    plt.ylabel('Frequency [Hz]')\n",
    "    plt.xlabel('Time [sec]')\n",
    "    plt.tight_layout()\n",
    "    \n",
    "    # Save the plot as a .png file in the current directory\n",
    "    output_filename = f'{stimulus}_average_glimpses.png'.replace(' ', '_')\n",
    "    plt.savefig(os.path.join(save5_png_path, output_filename), format='png', bbox_inches='tight')\n",
    "    plt.close()\n"
   ]
  },
  {
   "cell_type": "markdown",
   "id": "646bebab-0441-4a8c-9698-b6acf0b8b7f3",
   "metadata": {},
   "source": [
    "# [7] USING PYTORCH TORCHAUDIO MEL LOG SPECTROGRAMS"
   ]
  },
  {
   "cell_type": "markdown",
   "id": "6141be10-c993-4dd3-814a-f2109abd6cda",
   "metadata": {},
   "source": [
    "Takes 48s to finish."
   ]
  },
  {
   "cell_type": "code",
   "execution_count": 24,
   "id": "340b7b17-8cf2-4c73-ad02-bd2a3640e362",
   "metadata": {
    "execution": {
     "iopub.execute_input": "2024-06-11T20:19:40.556227Z",
     "iopub.status.busy": "2024-06-11T20:19:40.556227Z",
     "iopub.status.idle": "2024-06-11T20:20:26.695414Z",
     "shell.execute_reply": "2024-06-11T20:20:26.695376Z",
     "shell.execute_reply.started": "2024-06-11T20:19:40.556227Z"
    }
   },
   "outputs": [
    {
     "name": "stdout",
     "output_type": "stream",
     "text": [
      "Processing speaker: govornik_1, SNR condition: SNR_-2\n",
      "\n",
      "speech_mask_filenames: ['S1aba.wav', 'S1aca.wav'] ... (total 21)\n",
      "\n",
      "Processing speaker: govornik_1, SNR condition: SNR_+0\n",
      "\n",
      "speech_mask_filenames: ['S2aba.wav', 'S2aca.wav'] ... (total 21)\n",
      "\n",
      "Processing speaker: govornik_1, SNR condition: SNR_+2\n",
      "\n",
      "speech_mask_filenames: ['S3aba.wav', 'S3aca.wav'] ... (total 21)\n",
      "\n",
      "Processing speaker: govornik_2, SNR condition: SNR_-2\n",
      "\n",
      "speech_mask_filenames: ['S1aba.wav', 'S1aca.wav'] ... (total 21)\n",
      "\n",
      "Processing speaker: govornik_2, SNR condition: SNR_+0\n",
      "\n",
      "speech_mask_filenames: ['S2aba.wav', 'S2aca.wav'] ... (total 21)\n",
      "\n",
      "Processing speaker: govornik_2, SNR condition: SNR_+2\n",
      "\n",
      "speech_mask_filenames: ['S3aba.wav', 'S3aca.wav'] ... (total 21)\n",
      "\n",
      "Processing speaker: govornik_3, SNR condition: SNR_-2\n",
      "\n",
      "speech_mask_filenames: ['S1aba.wav', 'S1aca.wav'] ... (total 21)\n",
      "\n",
      "Processing speaker: govornik_3, SNR condition: SNR_+0\n",
      "\n",
      "speech_mask_filenames: ['S2aba.wav', 'S2aca.wav'] ... (total 21)\n",
      "\n",
      "Processing speaker: govornik_3, SNR condition: SNR_+2\n",
      "\n",
      "speech_mask_filenames: ['S3aba.wav', 'S3aca.wav'] ... (total 21)\n",
      "\n",
      "Processing speaker: govornik_4, SNR condition: SNR_-2\n",
      "\n",
      "speech_mask_filenames: ['S1aba.wav', 'S1aca.wav'] ... (total 21)\n",
      "\n",
      "Processing speaker: govornik_4, SNR condition: SNR_+0\n",
      "\n",
      "speech_mask_filenames: ['S2aba.wav', 'S2aca.wav'] ... (total 21)\n",
      "\n",
      "Processing speaker: govornik_4, SNR condition: SNR_+2\n",
      "\n",
      "speech_mask_filenames: ['S3aba.wav', 'S3aca.wav'] ... (total 21)\n",
      "\n",
      "\n",
      "len(data): 3\n",
      "data.keys(): dict_keys(['SNR_-2', 'SNR_+0', 'SNR_+2'])\n",
      "\n",
      "CPU times: total: 6min 45s\n",
      "Wall time: 46.1 s\n"
     ]
    }
   ],
   "source": [
    "%%time\n",
    "\n",
    "import torch\n",
    "import torchaudio\n",
    "import os\n",
    "import numpy as np\n",
    "import matplotlib.pyplot as plt\n",
    "from matplotlib.colors import ListedColormap\n",
    "from scipy.io import wavfile\n",
    "#from scipy.signal import stft\n",
    "\n",
    "# Define parameters\n",
    "speakers = ['govornik_1', 'govornik_2', 'govornik_3', 'govornik_4']\n",
    "snr_conditions = ['SNR_-2', 'SNR_+0', 'SNR_+2']\n",
    "\n",
    "# Map speaker to SSN_gX part\n",
    "speaker_mapping = {\n",
    "    'govornik_1': 'g1',\n",
    "    'govornik_2': 'g2',\n",
    "    'govornik_3': 'g3',\n",
    "    'govornik_4': 'g4'\n",
    "}\n",
    "\n",
    "# Map SNR condition to the corresponding number\n",
    "snr_mapping = {\n",
    "    'SNR_-2': '70',\n",
    "    'SNR_+0': '68',\n",
    "    'SNR_+2': '66'\n",
    "}\n",
    "\n",
    "# SNR filename prefix mapping\n",
    "snr_prefix_mapping = {\n",
    "    'SNR_-2': 'S1',\n",
    "    'SNR_+0': 'S2',\n",
    "    'SNR_+2': 'S3'\n",
    "}\n",
    "\n",
    "# Base paths\n",
    "base_path = r'C:\\Users\\Mr Cab Driver\\Documents\\A FAKS FFZG\\Diplomski\\Fonetika\\Diplomski Rad\\Govorni materijal\\Audio snimke govornika GM\\Obrada 3 VCV\\SSN all all'\n",
    "base_speech_mask_path = r'C:\\Users\\Mr Cab Driver\\Documents\\A FAKS FFZG\\Diplomski\\Fonetika\\Diplomski Rad\\Govorni materijal\\Audio snimke govornika GM\\Obrada 3 VCV'\n",
    "\n",
    "n_fft = 400\n",
    "win_length = 400\n",
    "hop_length = 160\n",
    "n_mels = 64\n",
    "\n",
    "# Initialize the data dictionary\n",
    "data = {snr: {speaker: {} for speaker in speakers} for snr in snr_conditions}\n",
    "\n",
    "def process_and_store_data(speaker, snr_condition, stimulus, speech_mask_file_path, mask, sr, snr_prefix):\n",
    "    # Load the speech + mask audio file\n",
    "    speech_mask, sr = torchaudio.load(speech_mask_file_path)\n",
    "\n",
    "    # Determine the minimum length of the audio files\n",
    "    min_length_audio = min(mask.size(1), speech_mask.size(1))\n",
    "\n",
    "    # Trim the audio files to the minimum length\n",
    "    mask = mask[:, :min_length_audio]\n",
    "    speech_mask = speech_mask[:, :min_length_audio]\n",
    "\n",
    "    # Convert to log-mel spectrograms\n",
    "    mel_transform = torchaudio.transforms.MelSpectrogram(sample_rate=sr,\n",
    "                                                         n_fft=n_fft,\n",
    "                                                         win_length=win_length,\n",
    "                                                         hop_length=hop_length,\n",
    "                                                         n_mels=n_mels)\n",
    "    \n",
    "    mask_mel = mel_transform(mask)\n",
    "    speech_mask_mel = mel_transform(speech_mask)\n",
    "\n",
    "    # Convert to decibels\n",
    "    log_mask_mel = torchaudio.transforms.AmplitudeToDB()(mask_mel)\n",
    "    log_speech_mask_mel = torchaudio.transforms.AmplitudeToDB()(speech_mask_mel)\n",
    "\n",
    "    # Calculate SNR\n",
    "    snr = log_speech_mask_mel - log_mask_mel\n",
    "    #snr = speech_mask_mel - mask_mel\n",
    "\n",
    "    # Normalize SNR values to the range [0, 1]\n",
    "    snr_normalized = (snr - snr.min()) / (snr.max() - snr.min())\n",
    "\n",
    "    # Set values where SNR <= 3 to 0\n",
    "    #glimpses = torch.where(snr > 3, snr_normalized, torch.zeros_like(snr))\n",
    "    glimpses = torch.where(snr > 3, snr, torch.zeros_like(snr))\n",
    "\n",
    "    # Store the data in the dictionary\n",
    "    data[snr_condition][speaker][stimulus] = {\n",
    "        'original': speech_mask,\n",
    "        'mask': mask,\n",
    "        'glimpses': glimpses\n",
    "    }\n",
    "\n",
    "    # Visualize the glimpses on the spectrogram\n",
    "    plt.figure(figsize=(8, 6))\n",
    "    plt.imshow(glimpses.squeeze().numpy(), cmap='gray_r', aspect='auto', origin='lower')\n",
    "    title = f'{snr_prefix}{stimulus}'\n",
    "    plt.title(title + ' - Glimpses (SNR > 3 dB)')\n",
    "    plt.ylabel('Mel Filterbank Index')\n",
    "    plt.xlabel('Time [frames]')\n",
    "    plt.tight_layout()\n",
    "    \n",
    "    # Save the plot as a .png file in the same directory, including the SNR prefix\n",
    "    output_filename = os.path.join(os.path.dirname(speech_mask_file_path), f'{title}.png'.replace(' ', '_'))\n",
    "    plt.savefig(output_filename, format='png', bbox_inches='tight')\n",
    "    plt.close()  # Close the plot to free memory\n",
    "\n",
    "\n",
    "# Iterate over all speakers and SNR conditions\n",
    "for speaker in speakers:\n",
    "    for snr_condition in snr_conditions:\n",
    "        ssn_part = speaker_mapping[speaker]\n",
    "        snr_number = snr_mapping[snr_condition]\n",
    "\n",
    "        # Construct the mask_dir path using string formatting\n",
    "        mask_dir = f'{base_path}\\SSN_{ssn_part}_{snr_number}.wav'\n",
    "        \n",
    "        # Construct the speech_mask_dir path using string formatting\n",
    "        speech_mask_folder_mapping = {\n",
    "            'govornik_1': 'wav g1 VCV mask',\n",
    "            'govornik_2': 'wav g2 VCV mask',\n",
    "            'govornik_3': 'wav g3 VCV mask',\n",
    "            'govornik_4': 'wav g4 VCV mask'\n",
    "        }\n",
    "        speech_mask_folder = speech_mask_folder_mapping[speaker]\n",
    "        speech_mask_dir = os.path.join(base_speech_mask_path, speech_mask_folder)\n",
    "\n",
    "        print(f\"Processing speaker: {speaker}, SNR condition: {snr_condition}\\n\")\n",
    "\n",
    "        # Load the mask file\n",
    "        mask, sr = torchaudio.load(mask_dir)\n",
    "\n",
    "        # Get the correct SNR prefix for the current SNR condition\n",
    "        snr_prefix = snr_prefix_mapping[snr_condition]\n",
    "\n",
    "        # List all files in the speaker's directory\n",
    "        speech_mask_filenames = [f for f in os.listdir(speech_mask_dir) if f.endswith('.wav') and f.startswith(snr_prefix)]\n",
    "\n",
    "        print(f\"speech_mask_filenames: {speech_mask_filenames[:2]} ... (total {len(speech_mask_filenames)})\\n\")\n",
    "\n",
    "        # Process each file\n",
    "        for speech_mask_filename in speech_mask_filenames:\n",
    "            speech_mask_file_path = os.path.join(speech_mask_dir, speech_mask_filename)\n",
    "            stimulus = os.path.splitext(speech_mask_filename)[0][2:]  # Extract the stimulus part of the filename\n",
    "            process_and_store_data(speaker, snr_condition, stimulus, speech_mask_file_path, mask, sr, snr_prefix)\n",
    "\n",
    "# Check data dictionary content\n",
    "print(f\"\\nlen(data): {len(data)}\")\n",
    "print(f\"data.keys(): {data.keys()}\\n\")\n"
   ]
  },
  {
   "cell_type": "markdown",
   "id": "669f234d-c075-44b2-80dc-8aa3f61741c1",
   "metadata": {},
   "source": [
    "## Verify dict is good"
   ]
  },
  {
   "cell_type": "code",
   "execution_count": null,
   "id": "20e80cf7-0fec-4dad-9c9f-15f95477b9b9",
   "metadata": {},
   "outputs": [],
   "source": [
    "# Function to print sample data points\n",
    "def print_sample_data(data, num_samples=3):\n",
    "    for snr_condition, snr_data in data.items():\n",
    "        print(f\"SNR Condition: {snr_condition}\")\n",
    "        for speaker, speaker_data in snr_data.items():\n",
    "            print(f\"\\tSpeaker: {speaker}\")\n",
    "            for stimulus, stimulus_data in speaker_data.items():\n",
    "                print(f\"\\t\\tStimulus: {stimulus}\")\n",
    "                print(f\"\\t\\t\\tOriginal Shape: {stimulus_data['original'].shape}\")\n",
    "                print(f\"\\t\\t\\tMask Shape: {stimulus_data['mask'].shape}\")\n",
    "                print(f\"\\t\\t\\tGlimpses Shape: {stimulus_data['glimpses'].shape}\")\n",
    "                print(f\"\\t\\t\\tGlimpses Example:\")\n",
    "                print(stimulus_data['glimpses'][:8, :5])  # Print a small portion of the glimpses\n",
    "                #print(f\"\\t\\t\\tTime: {stimulus_data['time'].shape}\")  # Print the shape of time array\n",
    "                #print(f\"\\t\\t\\tFrequency: {stimulus_data['frequency'].shape}\")  # Print the shape of frequency array\n",
    "                num_samples -= 1\n",
    "                if num_samples <= 0:\n",
    "                    return\n",
    "\n",
    "# Call the function to print sample data points\n",
    "print_sample_data(data)\n"
   ]
  },
  {
   "cell_type": "markdown",
   "id": "0a246e85-b696-4470-b4f3-f03b07f1d23d",
   "metadata": {
    "jp-MarkdownHeadingCollapsed": true
   },
   "source": [
    "## Save new dict (458MB)"
   ]
  },
  {
   "cell_type": "code",
   "execution_count": 26,
   "id": "580f63a7-4180-4a5a-9bb2-ed407da01f45",
   "metadata": {
    "execution": {
     "iopub.execute_input": "2024-06-11T20:20:44.804672Z",
     "iopub.status.busy": "2024-06-11T20:20:44.803676Z",
     "iopub.status.idle": "2024-06-11T20:20:45.089643Z",
     "shell.execute_reply": "2024-06-11T20:20:45.089643Z",
     "shell.execute_reply.started": "2024-06-11T20:20:44.804672Z"
    }
   },
   "outputs": [
    {
     "name": "stdout",
     "output_type": "stream",
     "text": [
      "Dictionary saved to C:\\Users\\Mr Cab Driver\\Documents\\A FAKS FFZG\\Diplomski\\Fonetika\\DIPLOMSKI RAD\\Govorni materijal\\Audio snimke govornika GM\\Obrada 3 VCV\\Mel_data_dict-v4.1.pkl\n"
     ]
    }
   ],
   "source": [
    "import pickle\n",
    "output_file_path_base = r\"C:\\Users\\Mr Cab Driver\\Documents\\A FAKS FFZG\\Diplomski\\Fonetika\\DIPLOMSKI RAD\\Govorni materijal\\Audio snimke govornika GM\\Obrada 3 VCV\"\n",
    "dictionary_name_version = f\"\\Mel_data_dict-{work_version}.pkl\"\n",
    "\n",
    "output_file_path = output_file_path_base + dictionary_name_version\n",
    "\n",
    "# Save the dictionary using pickle\n",
    "with open(output_file_path, \"wb\") as file:\n",
    "    pickle.dump(data, file)\n",
    "\n",
    "print(f\"Dictionary saved to {output_file_path}\")"
   ]
  },
  {
   "cell_type": "markdown",
   "id": "422dc4e9-f541-4025-98d8-bb2a037d30d5",
   "metadata": {},
   "source": [
    "## Load old dict"
   ]
  },
  {
   "cell_type": "code",
   "execution_count": 27,
   "id": "f4554743-3a9c-410f-b900-60741fcb31aa",
   "metadata": {
    "execution": {
     "iopub.execute_input": "2024-06-11T20:20:50.122235Z",
     "iopub.status.busy": "2024-06-11T20:20:50.122235Z",
     "iopub.status.idle": "2024-06-11T20:20:50.442368Z",
     "shell.execute_reply": "2024-06-11T20:20:50.441809Z",
     "shell.execute_reply.started": "2024-06-11T20:20:50.122235Z"
    }
   },
   "outputs": [
    {
     "name": "stdout",
     "output_type": "stream",
     "text": [
      "Dictionary loaded successfully! (\\Mel_data_dict-v4.1.pkl)\n"
     ]
    }
   ],
   "source": [
    "import pickle\n",
    "output_file_path_base = r\"C:\\Users\\Mr Cab Driver\\Documents\\A FAKS FFZG\\Diplomski\\Fonetika\\DIPLOMSKI RAD\\Govorni materijal\\Audio snimke govornika GM\\Obrada 3 VCV\"\n",
    "dictionary_name_version = f\"\\Mel_data_dict-{work_version}.pkl\"\n",
    "\n",
    "output_file_path = output_file_path_base + dictionary_name_version\n",
    "\n",
    "with open(output_file_path, \"rb\") as file:\n",
    "    data = pickle.load(file)\n",
    "\n",
    "print(f\"Dictionary loaded successfully! ({dictionary_name_version})\")\n"
   ]
  },
  {
   "cell_type": "markdown",
   "id": "da04d81c-1f92-4acd-8996-76d14f686c05",
   "metadata": {},
   "source": []
  },
  {
   "cell_type": "markdown",
   "id": "14797585-041b-4bae-b28f-71c767e70b51",
   "metadata": {},
   "source": [
    "# [8] Combining three avgMFCC as PNGs (across SNRs) works like a charm"
   ]
  },
  {
   "cell_type": "markdown",
   "id": "e437d2ec-a46f-4485-b132-23bae8634c7f",
   "metadata": {},
   "source": [
    "## Glimpse avgMFCC GENERATE"
   ]
  },
  {
   "cell_type": "code",
   "execution_count": 28,
   "id": "393fb61b-410d-41f5-b882-99d322005bed",
   "metadata": {
    "execution": {
     "iopub.execute_input": "2024-06-11T20:20:55.783313Z",
     "iopub.status.busy": "2024-06-11T20:20:55.783313Z",
     "iopub.status.idle": "2024-06-11T20:20:55.794991Z",
     "shell.execute_reply": "2024-06-11T20:20:55.794991Z",
     "shell.execute_reply.started": "2024-06-11T20:20:55.783313Z"
    }
   },
   "outputs": [
    {
     "name": "stdout",
     "output_type": "stream",
     "text": [
      "Functions online.\n"
     ]
    }
   ],
   "source": [
    "import numpy as np\n",
    "import torch\n",
    "import torchaudio\n",
    "import os\n",
    "import matplotlib.pyplot as plt\n",
    "\n",
    "# Function to find the longest time length\n",
    "def find_longest_time_length(data, selected_speakers, selected_noise_condition):\n",
    "    longest_length = 0\n",
    "    for stimulus in data[selected_noise_condition][selected_speakers[0]]:\n",
    "        for speaker in selected_speakers:\n",
    "            glimpses_length = data[selected_noise_condition][speaker][stimulus]['glimpses'].shape[2]  # Get the length along the time axis\n",
    "            if glimpses_length > longest_length:\n",
    "                longest_length = glimpses_length\n",
    "    return longest_length\n",
    "\n",
    "# Function to pad glimpses to the longest time length equally on both sides\n",
    "def pad_glimpses(glimpses, longest_length):\n",
    "    current_length = glimpses.shape[1]\n",
    "    if current_length < longest_length:\n",
    "        total_padding = longest_length - current_length\n",
    "        left_padding = total_padding // 2\n",
    "        right_padding = total_padding - left_padding\n",
    "        pad_width = ((0, 0), (left_padding, right_padding))\n",
    "        return np.pad(glimpses, pad_width, mode='constant', constant_values=0)\n",
    "    else:\n",
    "        return glimpses\n",
    "\n",
    "# Function to calculate the average glimpses for each stimulus\n",
    "def calculate_average_glimpses(data, selected_speakers, selected_noise_condition):\n",
    "    average_glimpses = {}\n",
    "    longest_length = find_longest_time_length(data, selected_speakers, selected_noise_condition)\n",
    "    \n",
    "    # print(f\"Longest time length found: {longest_length}\")\n",
    "\n",
    "    # Pad the glimpses and calculate the average glimpses for each stimulus\n",
    "    for stimulus in data[selected_noise_condition][selected_speakers[0]]:\n",
    "        glimpses_sum = None\n",
    "        \n",
    "        # Iterate over each speaker for the current stimulus\n",
    "        for speaker in selected_speakers:\n",
    "            glimpses = data[selected_noise_condition][speaker][stimulus]['glimpses'].squeeze().numpy()  # Ensure it's a 2D array\n",
    "            padded_glimpses = pad_glimpses(glimpses, longest_length)\n",
    "            \n",
    "            # print(f\"Speaker: {speaker}, Stimulus: {stimulus}, Original shape: {glimpses.shape}, Padded shape: {padded_glimpses.shape}\")\n",
    "\n",
    "            # Initialize glimpses_sum if it's None\n",
    "            if glimpses_sum is None:\n",
    "                glimpses_sum = padded_glimpses\n",
    "            else:\n",
    "                # Add the padded glimpses to the existing sum\n",
    "                glimpses_sum += padded_glimpses\n",
    "        \n",
    "        # Calculate the average glimpses for the current stimulus\n",
    "        average_glimpses[stimulus] = glimpses_sum / len(selected_speakers)\n",
    "    \n",
    "    return average_glimpses\n",
    "\n",
    "print(\"Functions online.\")"
   ]
  },
  {
   "cell_type": "code",
   "execution_count": 30,
   "id": "35c06634-880a-4d2d-8d4c-6d2bfbbf33bc",
   "metadata": {
    "execution": {
     "iopub.execute_input": "2024-06-11T20:25:24.796951Z",
     "iopub.status.busy": "2024-06-11T20:25:24.796951Z",
     "iopub.status.idle": "2024-06-11T20:25:24.807488Z",
     "shell.execute_reply": "2024-06-11T20:25:24.807488Z",
     "shell.execute_reply.started": "2024-06-11T20:25:24.796951Z"
    }
   },
   "outputs": [
    {
     "name": "stdout",
     "output_type": "stream",
     "text": [
      "Saving to folder...\n",
      " C:\\Users\\Mr Cab Driver\\Documents\\A FAKS FFZG\\Diplomski\\Fonetika\\DIPLOMSKI RAD\\Govorni materijal\\Audio snimke govornika GM\\Obrada 3 VCV\\PNG analiza mel3\n"
     ]
    }
   ],
   "source": [
    "save9_png_path = r\"C:\\Users\\Mr Cab Driver\\Documents\\A FAKS FFZG\\Diplomski\\Fonetika\\DIPLOMSKI RAD\\Govorni materijal\\Audio snimke govornika GM\\Obrada 3 VCV\\PNG analiza mel3\"\n",
    "print(f\"Saving to folder...\\n {save9_png_path}\")"
   ]
  },
  {
   "cell_type": "code",
   "execution_count": 107,
   "id": "9e251ba0-e7b7-4b60-bdaf-545b2991fa6e",
   "metadata": {
    "execution": {
     "iopub.execute_input": "2024-06-11T21:45:24.645617Z",
     "iopub.status.busy": "2024-06-11T21:45:24.645617Z",
     "iopub.status.idle": "2024-06-11T21:45:25.204153Z",
     "shell.execute_reply": "2024-06-11T21:45:25.204153Z",
     "shell.execute_reply.started": "2024-06-11T21:45:24.645617Z"
    }
   },
   "outputs": [
    {
     "name": "stdout",
     "output_type": "stream",
     "text": [
      "Longest filename: \\wav g4 VCV mask\\ S1aca.wav\n",
      "Duration of the audio: 0.4363 seconds\n",
      "\n",
      "CPU times: total: 547 ms\n",
      "Wall time: 552 ms\n"
     ]
    }
   ],
   "source": [
    "%%time\n",
    "\n",
    "samplerate_path = r\"C:\\Users\\Mr Cab Driver\\Documents\\A FAKS FFZG\\Diplomski\\Fonetika\\DIPLOMSKI RAD\\Govorni materijal\\Audio snimke govornika GM\\Obrada 3 VCV\"\n",
    "samplerate_path2 = samplerate_path + \"\\wav g4 VCV mask\"\n",
    "\n",
    "selected_speakers = ['govornik_1', 'govornik_2','govornik_3', 'govornik_4']\n",
    "\n",
    "speaker_folders = [\"1\", \"2\", \"3\", \"4\"]\n",
    "\n",
    "\n",
    "_, sr = torchaudio.load(samplerate_path2 + r\"\\S3aca.wav\")\n",
    "\n",
    "longest_duration = 0\n",
    "longest_filename = None\n",
    "\n",
    "for speeks in speaker_folders:\n",
    "    # Iterate over all files in the directory\n",
    "    for filename in os.listdir(samplerate_path2):\n",
    "        # Check if the file is a WAV file\n",
    "        if filename.endswith(\".wav\"):\n",
    "            # Get the full path to the WAV file\n",
    "\n",
    "            speeko = f\"\\wav g{speaker_folders[int(speeks)-1]} VCV mask\"\n",
    "\n",
    "            speeks_path = samplerate_path + speeko\n",
    "\n",
    "            file_path = os.path.join(speeks_path, filename)\n",
    "            \n",
    "            #print(file_path)\n",
    "            \n",
    "            # Get information about the WAV file\n",
    "            info = torchaudio.info(file_path)\n",
    "            \n",
    "            # Calculate the duration of the WAV file in seconds\n",
    "            duration_seconds = info.num_frames / info.sample_rate\n",
    "            \n",
    "            # Check if this file has the longest duration so far\n",
    "            if duration_seconds > longest_duration:\n",
    "                longest_duration = duration_seconds\n",
    "                longest_filename = filename \n",
    "\n",
    "print(f\"Longest filename: {speeko}\\ {longest_filename}\")\n",
    "print(f\"Duration of the audio: {duration_seconds:.4f} seconds\\n\")\n"
   ]
  },
  {
   "cell_type": "code",
   "execution_count": 139,
   "id": "4c57c409-208c-4b76-a7e7-2774b2268f8f",
   "metadata": {
    "execution": {
     "iopub.execute_input": "2024-06-11T22:12:24.935872Z",
     "iopub.status.busy": "2024-06-11T22:12:24.935872Z",
     "iopub.status.idle": "2024-06-11T22:12:37.095739Z",
     "shell.execute_reply": "2024-06-11T22:12:37.095739Z",
     "shell.execute_reply.started": "2024-06-11T22:12:24.935872Z"
    }
   },
   "outputs": [
    {
     "name": "stdout",
     "output_type": "stream",
     "text": [
      "Data from MFCC generation:\n",
      " sample rate: 44100\n",
      "  n_fft 400\n",
      " win_length 400\n",
      " hop_length 160\n",
      " n_mels 64\n",
      " \n",
      "longest_length: 128 frames\n",
      "alot generated\n",
      "CPU times: total: 11.9 s\n",
      "Wall time: 12.2 s\n"
     ]
    }
   ],
   "source": [
    "%%time\n",
    "\n",
    "def return_long_lenght(data, selected_speakers, selected_noise_condition):\n",
    "    longest_length = find_longest_time_length(data, selected_speakers, selected_noise_condition)\n",
    "    return longest_length\n",
    "\n",
    "print(f\"Data from MFCC generation:\\n sample rate: {sr}\\n  n_fft {n_fft}\\n win_length {win_length}\\n hop_length {hop_length}\\n n_mels {n_mels}\\n \")\n",
    "\n",
    "for stimulus in calculate_average_glimpses(data, selected_speakers, snr_conditions[0]).keys():\n",
    "    fig, axes = plt.subplots(len(snr_conditions), 1, figsize=(8, 6 * len(snr_conditions)), sharex=True, sharey=True)\n",
    "    \n",
    "    for i, snr_condition in enumerate(snr_conditions):\n",
    "        average_glimpses = calculate_average_glimpses(data, selected_speakers, snr_condition)\n",
    "        glimpses = average_glimpses[stimulus]\n",
    "\n",
    "        if i == 0:\n",
    "            longest_length = return_long_lenght(data, selected_speakers, snr_condition)\n",
    "        \n",
    "        ax = axes[i]\n",
    "        cax = ax.pcolormesh(range(glimpses.shape[1]), range(glimpses.shape[0]), glimpses, shading='nearest', cmap='gray_r', vmin=0, vmax=1)\n",
    "        \n",
    "        # Replace underscores with spaces in snr_condition\n",
    "        formatted_snr_condition = snr_condition.replace(\"_\", \" \")\n",
    "        \n",
    "        # Add a suffix string\n",
    "        suffix_dB = \"dB\"  # Replace this with your desired suffix\n",
    "        title_snr = f'{formatted_snr_condition} {suffix_dB}'\n",
    "        \n",
    "        # Set the title with the modified string\n",
    "        ax.set_title(title_snr, fontsize=22, weight='bold', loc='left')\n",
    "\n",
    "        # Create a second y-axis with a different scale\n",
    "        ax2 = ax.twinx()\n",
    "        ax2.set_ylim(0, 22)  # Set the custom range for the second y-axis\n",
    "        ax2.set_yticks([0, 4, 8, 12, 16, 22])  # Set custom ticks for the second y-axis\n",
    "        ax2.set_yticklabels([0, 4, 8, 12, 16, \"22 kHz\"], fontsize=12)  # Set custom tick labels for the second y-axis\n",
    "\n",
    "        if i % 3 == 0:\n",
    "            ax3 = ax.twiny()\n",
    "            ax3.set_xlim(0, 0.40)  # Set the custom range for the third x-axis\n",
    "            ax3.set_xticks([0, 0.10, 0.20, 0.30, 0.40])  # Set custom ticks for the third x-axis\n",
    "            ax3.set_xticklabels([0, \"0.1\", \"0.2\", \"0.3\", \"0.4 s\"], fontsize=12)  # Set custom tick labels for the third x-axis\n",
    "        \n",
    "        if i == len(snr_conditions) // 2:\n",
    "            str_ylabel = f\"Mel Filterbanka ({n_mels} filtera)\"\n",
    "            ax.set_ylabel(str_ylabel, fontsize=18)  # Customizing ylabel font size\n",
    "        \n",
    "       #ax2.set_ylabel(\"kHz\", fontsize=18, labelpad=20, loc=\"center\", rotation=0)  # Custom label for the second y-axis\n",
    "            \n",
    "        \n",
    "    # Common xlabel\n",
    "    str_xlabel = f\"Vrijeme ({longest_length} koraka)\"\n",
    "    fig.text(0.5, 0.07, str_xlabel, ha='center', fontsize=18, va='bottom')  # Customizing xlabel font size and aligning to the bottom\n",
    "    \n",
    "    # Add custom text above the stack\n",
    "    title_card = f\"/{stimulus}/\"\n",
    "    fig.text(0.5, 0.91, title_card, ha='center', fontsize=50, weight='bold')\n",
    "    \n",
    "    # Save the plot as a .png file in the current directory\n",
    "    speaker_suffix = '+'.join([speaker_mapping[speaker] for speaker in selected_speakers])\n",
    "    snr_prefix = '_'.join([snr_prefix_mapping[snr] for snr in snr_conditions])\n",
    "    \n",
    "    output_filename_png = f'{stimulus}_combined_avg_glimpses_{snr_prefix}-{speaker_suffix}_{work_version}.png'.replace(' ', '_')\n",
    "    save_png_string = os.path.join(save9_png_path, output_filename_png)\n",
    "    \n",
    "    fig.savefig(save_png_string, format='png', bbox_inches='tight')\n",
    "    \n",
    "    # Close the figure\n",
    "    plt.close(fig)\n",
    "\n",
    "print(f\"longest_length: {longest_length} frames\")\n",
    "\n",
    "print(f\"alot generated\")\n"
   ]
  },
  {
   "cell_type": "markdown",
   "id": "3b1a9170-bce7-41d3-8b47-d1883a97b251",
   "metadata": {},
   "source": [
    "## Bring up a PNG to check"
   ]
  },
  {
   "cell_type": "code",
   "execution_count": 140,
   "id": "50f269d5-9d89-454f-b5e5-0ccda7a8a6a0",
   "metadata": {
    "execution": {
     "iopub.execute_input": "2024-06-11T22:12:38.285231Z",
     "iopub.status.busy": "2024-06-11T22:12:38.285231Z",
     "iopub.status.idle": "2024-06-11T22:12:38.292538Z",
     "shell.execute_reply": "2024-06-11T22:12:38.292538Z",
     "shell.execute_reply.started": "2024-06-11T22:12:38.285231Z"
    }
   },
   "outputs": [
    {
     "data": {
      "image/png": "[encoded data removed]",
      "text/plain": [
       "<IPython.core.display.Image object>"
      ]
     },
     "execution_count": 140,
     "metadata": {},
     "output_type": "execute_result"
    }
   ],
   "source": [
    "from IPython.display import Image\n",
    "\n",
    "Image(save_png_string)"
   ]
  },
  {
   "cell_type": "code",
   "execution_count": null,
   "id": "7d0f2823-07e4-45fd-803c-1fb2b604502a",
   "metadata": {},
   "outputs": [],
   "source": []
  },
  {
   "cell_type": "code",
   "execution_count": null,
   "id": "a641e294-ca2d-4950-9e8f-360859bf94ee",
   "metadata": {},
   "outputs": [],
   "source": []
  },
  {
   "cell_type": "markdown",
   "id": "09fb6e68-2493-443e-b813-abdbc88930da",
   "metadata": {},
   "source": [
    "# x scraps to delete later"
   ]
  }
 ],
 "metadata": {
  "kernelspec": {
   "display_name": "PyPhon",
   "language": "python",
   "name": "pyphon"
  },
  "language_info": {
   "codemirror_mode": {
    "name": "ipython",
    "version": 3
   },
   "file_extension": ".py",
   "mimetype": "text/x-python",
   "name": "python",
   "nbconvert_exporter": "python",
   "pygments_lexer": "ipython3",
   "version": "3.11.8"
  }
 },
 "nbformat": 4,
 "nbformat_minor": 5
}
