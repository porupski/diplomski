{
 "cells": [
  {
   "cell_type": "markdown",
   "metadata": {
    "id": "i41M-W8THOQu"
   },
   "source": [
    "# Running ParlaSpeechHR Models\n",
    "Custom kenLM model working! ## main trick for unicode decode errors, is to change encoding from None to \"utf-8\" !!! \n",
    "\r\n",
    "Makes both base and base+lm models, runs transcriptions, calculates WER and CER, plots WER and CER plus maybe some stats."
   ]
  },
  {
   "cell_type": "markdown",
   "metadata": {
    "id": "ESbAn_EQRYyT"
   },
   "source": [
    "## [0] Start here:"
   ]
  },
  {
   "cell_type": "code",
   "execution_count": 19,
   "metadata": {
    "execution": {
     "iopub.execute_input": "2024-06-20T18:23:29.230332Z",
     "iopub.status.busy": "2024-06-20T18:23:29.230332Z",
     "iopub.status.idle": "2024-06-20T18:23:29.233027Z",
     "shell.execute_reply": "2024-06-20T18:23:29.233027Z",
     "shell.execute_reply.started": "2024-06-20T18:23:29.230332Z"
    }
   },
   "outputs": [],
   "source": [
    "make_model = \"both\" ## Options \"non\" for just acoustic model, \"lm\" for acoustic+LM, and \"both\" for both\"\n",
    "\n",
    "google_colabbing = False\n",
    "debug_printing = True\n",
    "clear_lm_print = False\n",
    "\n",
    "testing_asr = True # if False, cuts audio into chunks\n",
    "shuffle_transcript = True"
   ]
  },
  {
   "cell_type": "code",
   "execution_count": 20,
   "metadata": {
    "colab": {
     "base_uri": "https://localhost:8080/"
    },
    "execution": {
     "iopub.execute_input": "2024-06-20T18:23:30.909532Z",
     "iopub.status.busy": "2024-06-20T18:23:30.909532Z",
     "iopub.status.idle": "2024-06-20T18:23:30.913434Z",
     "shell.execute_reply": "2024-06-20T18:23:30.913434Z",
     "shell.execute_reply.started": "2024-06-20T18:23:30.909532Z"
    },
    "executionInfo": {
     "elapsed": 341,
     "status": "ok",
     "timestamp": 1718358967568,
     "user": {
      "displayName": "Ivan Porupski",
      "userId": "03127310887960034948"
     },
     "user_tz": -120
    },
    "id": "hXbSzO_hGn2a",
    "outputId": "93214040-342d-47cd-b2d5-ef7bf1304c60"
   },
   "outputs": [
    {
     "name": "stdout",
     "output_type": "stream",
     "text": [
      "v5.0\n"
     ]
    }
   ],
   "source": [
    "work_version_num = 5.0\n",
    "word_version_preffix = \"\"\n",
    "word_version_suffix = \"\"\n",
    "work_version = f\"{word_version_preffix}v{work_version_num}{word_version_suffix}\"\n",
    "\n",
    "print(work_version)"
   ]
  },
  {
   "cell_type": "markdown",
   "metadata": {
    "jp-MarkdownHeadingCollapsed": true
   },
   "source": [
    "## [INFO ABOUT MACHINE]"
   ]
  },
  {
   "cell_type": "code",
   "execution_count": 7,
   "metadata": {
    "execution": {
     "iopub.execute_input": "2024-06-16T12:10:09.511233Z",
     "iopub.status.busy": "2024-06-16T12:10:09.511233Z",
     "iopub.status.idle": "2024-06-16T12:10:09.513830Z",
     "shell.execute_reply": "2024-06-16T12:10:09.513830Z",
     "shell.execute_reply.started": "2024-06-16T12:10:09.511233Z"
    }
   },
   "outputs": [],
   "source": [
    "### NEED TO REINSTALL PYTORCH WITH CUDA ENABLED AND TRY AGAIN I GUESS"
   ]
  },
  {
   "cell_type": "code",
   "execution_count": 8,
   "metadata": {
    "execution": {
     "iopub.execute_input": "2024-06-16T12:10:09.703821Z",
     "iopub.status.busy": "2024-06-16T12:10:09.703821Z",
     "iopub.status.idle": "2024-06-16T12:10:11.121046Z",
     "shell.execute_reply": "2024-06-16T12:10:11.121046Z",
     "shell.execute_reply.started": "2024-06-16T12:10:09.703821Z"
    }
   },
   "outputs": [
    {
     "name": "stdout",
     "output_type": "stream",
     "text": [
      "Processor: 11th Gen Intel(R) Core(TM) i5-11600 @ 2.80GHz\n",
      "Architecture: X86_64\n",
      "Cores: 12\n"
     ]
    }
   ],
   "source": [
    "import cpuinfo\n",
    "\n",
    "info = cpuinfo.get_cpu_info()\n",
    "\n",
    "print(\"Processor:\", info[\"brand_raw\"])\n",
    "print(\"Architecture:\", info[\"arch\"])\n",
    "print(\"Cores:\", info[\"count\"])"
   ]
  },
  {
   "cell_type": "code",
   "execution_count": 9,
   "metadata": {
    "execution": {
     "iopub.execute_input": "2024-06-16T12:10:11.123038Z",
     "iopub.status.busy": "2024-06-16T12:10:11.122040Z",
     "iopub.status.idle": "2024-06-16T12:10:12.136676Z",
     "shell.execute_reply": "2024-06-16T12:10:12.136676Z",
     "shell.execute_reply.started": "2024-06-16T12:10:11.123038Z"
    }
   },
   "outputs": [
    {
     "name": "stdout",
     "output_type": "stream",
     "text": [
      "Platform: NVIDIA CUDA\n",
      "Vendor: NVIDIA Corporation\n",
      "Version: OpenCL 1.2 CUDA 11.1.96\n",
      "\n",
      "Device: GeForce GTX 760\n",
      "Type: ALL | GPU\n",
      "Max Compute Units: 6\n",
      "Max Work Item Dimensions: 3\n",
      "Max Work Group Size: 1024\n",
      "Max Clock Frequency: 1150 MHz\n",
      "Global Memory Size: 4.00 GB\n",
      "Local Memory Size: 48.00 KB\n",
      "Max Memory Allocation Size: 1.00 GB\n",
      "OpenCL Version: OpenCL C 1.2 \n",
      "Driver Version: 456.71\n",
      "Platform: Intel(R) OpenCL HD Graphics\n",
      "Vendor: Intel(R) Corporation\n",
      "Version: OpenCL 3.0 \n",
      "\n",
      "Device: Intel(R) UHD Graphics 750\n",
      "Type: ALL | GPU\n",
      "Max Compute Units: 32\n",
      "Max Work Item Dimensions: 3\n",
      "Max Work Group Size: 256\n",
      "Max Clock Frequency: 1300 MHz\n",
      "Global Memory Size: 6.32 GB\n",
      "Local Memory Size: 64.00 KB\n",
      "Max Memory Allocation Size: 3.16 GB\n",
      "OpenCL Version: OpenCL C 1.2 \n",
      "Driver Version: 30.0.101.1273\n",
      "Platform: Intel(R) OpenCL\n",
      "Vendor: Intel(R) Corporation\n",
      "Version: OpenCL 3.0 WINDOWS\n",
      "\n",
      "Device: 11th Gen Intel(R) Core(TM) i5-11600 @ 2.80GHz\n",
      "Type: ALL | CPU\n",
      "Max Compute Units: 12\n",
      "Max Work Item Dimensions: 3\n",
      "Max Work Group Size: 8192\n",
      "Max Clock Frequency: 2800 MHz\n",
      "Global Memory Size: 15.80 GB\n",
      "Local Memory Size: 32.00 KB\n",
      "Max Memory Allocation Size: 7.90 GB\n",
      "OpenCL Version: OpenCL C 3.0 \n",
      "Driver Version: 2023.16.6.0.28_042959\n"
     ]
    }
   ],
   "source": [
    "#!pip install pyopencl\n",
    "\n",
    "import pyopencl as cl\n",
    "\n",
    "# Get a list of all available platforms\n",
    "platforms = cl.get_platforms()\n",
    "\n",
    "for platform in platforms:\n",
    "    print(f\"Platform: {platform.name}\")\n",
    "    print(f\"Vendor: {platform.vendor}\")\n",
    "    print(f\"Version: {platform.version}\")\n",
    "\n",
    "    # Get a list of all available devices for the current platform\n",
    "    devices = platform.get_devices()\n",
    "    for device in devices:\n",
    "        print(f\"\\nDevice: {device.name}\")\n",
    "        print(f\"Type: {cl.device_type.to_string(device.type)}\")\n",
    "        print(f\"Max Compute Units: {device.max_compute_units}\")\n",
    "        print(f\"Max Work Item Dimensions: {device.max_work_item_dimensions}\")\n",
    "        print(f\"Max Work Group Size: {device.max_work_group_size}\")\n",
    "        print(f\"Max Clock Frequency: {device.max_clock_frequency} MHz\")\n",
    "        print(f\"Global Memory Size: {device.global_mem_size / (1024 ** 3):.2f} GB\")\n",
    "        print(f\"Local Memory Size: {device.local_mem_size / 1024:.2f} KB\")\n",
    "        print(f\"Max Memory Allocation Size: {device.max_mem_alloc_size / (1024 ** 3):.2f} GB\")\n",
    "        print(f\"OpenCL Version: {device.opencl_c_version}\")\n",
    "        print(f\"Driver Version: {device.driver_version}\")\n"
   ]
  },
  {
   "cell_type": "markdown",
   "metadata": {},
   "source": [
    "CPU VERSION:\n",
    "Device: 11th Gen Intel(R) Core(TM) i5-11600 @ 2.80GHz\r\n",
    "Type: ALL | CPU\r\n",
    "Max Compute Units: 12\r\n",
    "Max Work Item Dimensions: 3\r\n",
    "Max Work Group Size: 8192\r\n",
    "Max Clock Frequency: 2800 MHz\r\n",
    "Global Memory Size: 15.80 GB\r\n",
    "Local Memory Size: 32.00 KB\r\n",
    "Max Memory Allocation Size: 7.90 GB\r\n",
    "OpenCL Version: OpenCL C 3.0 \r\n",
    "Driver Version: 2023.16.6.0.28_042959"
   ]
  },
  {
   "cell_type": "code",
   "execution_count": 3,
   "metadata": {
    "execution": {
     "iopub.execute_input": "2024-06-17T21:37:24.900140Z",
     "iopub.status.busy": "2024-06-17T21:37:24.900140Z",
     "iopub.status.idle": "2024-06-17T21:37:31.069861Z",
     "shell.execute_reply": "2024-06-17T21:37:31.069861Z",
     "shell.execute_reply.started": "2024-06-17T21:37:24.900140Z"
    }
   },
   "outputs": [
    {
     "name": "stdout",
     "output_type": "stream",
     "text": [
      "Name: torch\n",
      "Version: 2.3.1\n",
      "Summary: Tensors and Dynamic neural networks in Python with strong GPU acceleration\n",
      "Home-page: https://pytorch.org/\n",
      "Author: PyTorch Team\n",
      "Author-email: packages@pytorch.org\n",
      "License: BSD-3\n",
      "Location: C:\\Users\\Public\\anaconda3\\envs\\PyPhon\\Lib\\site-packages\n",
      "Requires: filelock, fsspec, jinja2, mkl, networkx, sympy, typing-extensions\n",
      "Required-by: accelerate, optimum, sentence-transformers, torchaudio, torchvision\n"
     ]
    },
    {
     "name": "stderr",
     "output_type": "stream",
     "text": [
      "WARNING: Skipping C:\\Users\\Public\\anaconda3\\envs\\PyPhon\\Lib\\site-packages\\pandas-2.1.4.dist-info due to invalid metadata entry 'name'\n"
     ]
    },
    {
     "name": "stdout",
     "output_type": "stream",
     "text": [
      "Name: torchvision\n",
      "Version: 0.18.1\n",
      "Summary: image and video datasets and models for torch deep learning\n",
      "Home-page: https://github.com/pytorch/vision\n",
      "Author: PyTorch Core Team\n",
      "Author-email: soumith@pytorch.org\n",
      "License: BSD\n",
      "Location: C:\\Users\\Public\\anaconda3\\envs\\PyPhon\\Lib\\site-packages\n",
      "Requires: numpy, pillow, torch\n",
      "Required-by: sentence-transformers\n"
     ]
    },
    {
     "name": "stderr",
     "output_type": "stream",
     "text": [
      "WARNING: Skipping C:\\Users\\Public\\anaconda3\\envs\\PyPhon\\Lib\\site-packages\\pandas-2.1.4.dist-info due to invalid metadata entry 'name'\n"
     ]
    },
    {
     "name": "stdout",
     "output_type": "stream",
     "text": [
      "Name: torchaudio\n",
      "Version: 2.3.1\n",
      "Summary: An audio package for PyTorch\n",
      "Home-page: https://github.com/pytorch/audio\n",
      "Author: Soumith Chintala, David Pollack, Sean Naren, Peter Goldsborough, Moto Hira, Caroline Chen, Jeff Hwang, Zhaoheng Ni, Xiaohui Zhang\n",
      "Author-email: soumith@pytorch.org\n",
      "License: \n",
      "Location: C:\\Users\\Public\\anaconda3\\envs\\PyPhon\\Lib\\site-packages\n",
      "Requires: torch\n",
      "Required-by: \n"
     ]
    },
    {
     "name": "stderr",
     "output_type": "stream",
     "text": [
      "WARNING: Skipping C:\\Users\\Public\\anaconda3\\envs\\PyPhon\\Lib\\site-packages\\pandas-2.1.4.dist-info due to invalid metadata entry 'name'\n"
     ]
    }
   ],
   "source": [
    "!pip show torch\n",
    "!pip show torchvision\n",
    "!pip show torchaudio"
   ]
  },
  {
   "cell_type": "code",
   "execution_count": 7,
   "metadata": {
    "execution": {
     "iopub.execute_input": "2024-06-17T21:34:56.470191Z",
     "iopub.status.busy": "2024-06-17T21:34:56.470191Z",
     "iopub.status.idle": "2024-06-17T21:35:10.443133Z",
     "shell.execute_reply": "2024-06-17T21:35:10.443133Z",
     "shell.execute_reply.started": "2024-06-17T21:34:56.470191Z"
    }
   },
   "outputs": [
    {
     "name": "stdout",
     "output_type": "stream",
     "text": [
      "torch version (pip): torch not found via pip.\n",
      "torchvision version (pip): torchvision not found via pip.\n",
      "torchaudio version (pip): torchaudio not found via pip.\n",
      "torch version (conda): torch not found via conda.\n",
      "torchvision version (conda): torchvision not found via conda.\n",
      "torchaudio version (conda): torchaudio not found via conda.\n"
     ]
    }
   ],
   "source": [
    "import subprocess\n",
    "import shutil\n",
    "\n",
    "def command_exists(command):\n",
    "    return shutil.which(command) is not None\n",
    "\n",
    "def get_pip_version(package_name):\n",
    "    if not command_exists(\"pip\"):\n",
    "        return f\"pip is not installed on this system.\"\n",
    "    result = subprocess.run([\"pip\", \"show\", package_name], capture_output=True, text=True)\n",
    "    for line in result.stdout.splitlines():\n",
    "        if line.startswith(\"Version:\"):\n",
    "            return line.split(\" \")[-1]\n",
    "    return f\"{package_name} not found via pip.\"\n",
    "\n",
    "def get_conda_version(package_name):\n",
    "    if not command_exists(\"conda\"):\n",
    "        return f\"conda is not installed on this system.\"\n",
    "    result = subprocess.run([\"conda\", \"list\", package_name], capture_output=True, text=True)\n",
    "    for line in result.stdout.splitlines():\n",
    "        if line.startswith(package_name):\n",
    "            return line.split()[1]\n",
    "    return f\"{package_name} not found via conda.\"\n",
    "\n",
    "# Get versions using pip\n",
    "torch_version = get_pip_version(\"torch\")\n",
    "torchvision_version = get_pip_version(\"torchvision\")\n",
    "torchaudio_version = get_pip_version(\"torchaudio\")\n",
    "\n",
    "print(f\"torch version (pip): {torch_version}\")\n",
    "print(f\"torchvision version (pip): {torchvision_version}\")\n",
    "print(f\"torchaudio version (pip): {torchaudio_version}\")\n",
    "\n",
    "# Get versions using conda\n",
    "torch_version_conda = get_conda_version(\"torch\")\n",
    "torchvision_version_conda = get_conda_version(\"torchvision\")\n",
    "torchaudio_version_conda = get_conda_version(\"torchaudio\")\n",
    "\n",
    "print(f\"torch version (conda): {torch_version_conda}\")\n",
    "print(f\"torchvision version (conda): {torchvision_version_conda}\")\n",
    "print(f\"torchaudio version (conda): {torchaudio_version_conda}\")\n"
   ]
  },
  {
   "cell_type": "code",
   "execution_count": 126,
   "metadata": {
    "execution": {
     "iopub.execute_input": "2024-06-17T21:28:28.198253Z",
     "iopub.status.busy": "2024-06-17T21:28:28.198253Z",
     "iopub.status.idle": "2024-06-17T21:28:28.202220Z",
     "shell.execute_reply": "2024-06-17T21:28:28.202220Z",
     "shell.execute_reply.started": "2024-06-17T21:28:28.198253Z"
    }
   },
   "outputs": [
    {
     "name": "stdout",
     "output_type": "stream",
     "text": [
      "CUDA not available or GPU is too old.\n",
      "device set to: CPU (cpu)\n"
     ]
    }
   ],
   "source": [
    "import torch\n",
    "\n",
    "\n",
    "if torch.cuda.is_available() and torch.cuda.get_device_capability(0)[0] >= 3.7:\n",
    "    device = torch.device(\"cuda:0\")  # Use GPU\n",
    "    print(\"Using GPU:\", torch.cuda.get_device_name(0))\n",
    "    print(\"CUDA available:\", torch.cuda.is_available())\n",
    "    print(\"CUDA version:\", torch.version.cuda)\n",
    "    print(\"cuDNN version:\", torch.backends.cudnn.version())\n",
    "    print(\"Device Name:\", torch.cuda.get_device_name(0))\n",
    "else:\n",
    "    device = torch.device(\"cpu\")  # Use CPU\n",
    "    print(\"CUDA not available or GPU is too old.\")\n",
    "    print(f\"device set to: CPU ({device})\")\n",
    "    "
   ]
  },
  {
   "cell_type": "markdown",
   "metadata": {
    "id": "Z0vOINi-RVG-"
   },
   "source": [
    "## [1] Install all required packages"
   ]
  },
  {
   "cell_type": "code",
   "execution_count": 134,
   "metadata": {
    "colab": {
     "base_uri": "https://localhost:8080/"
    },
    "execution": {
     "iopub.execute_input": "2024-06-17T21:32:06.473969Z",
     "iopub.status.busy": "2024-06-17T21:32:06.473969Z",
     "iopub.status.idle": "2024-06-17T21:32:06.490887Z",
     "shell.execute_reply": "2024-06-17T21:32:06.490887Z",
     "shell.execute_reply.started": "2024-06-17T21:32:06.473969Z"
    },
    "executionInfo": {
     "elapsed": 4872,
     "status": "ok",
     "timestamp": 1718358985791,
     "user": {
      "displayName": "Ivan Porupski",
      "userId": "03127310887960034948"
     },
     "user_tz": -120
    },
    "id": "Y-1HeiN2HWYh",
    "outputId": "3e4fc84f-371f-455b-cafb-e8d2fcd8837a"
   },
   "outputs": [
    {
     "name": "stdout",
     "output_type": "stream",
     "text": [
      "transformers: All good.\n",
      "pydub: All good.\n",
      "torch: All good.\n",
      "torchaudio: All good.\n",
      "pyctcdecode: All good.\n",
      "jiwer: All good.\n",
      "nltk: All good.\n",
      "fuzzywuzzy: All good.\n",
      "All good. Every essential package is present to make the code work.\n"
     ]
    },
    {
     "name": "stderr",
     "output_type": "stream",
     "text": [
      "[nltk_data] Downloading package punkt to C:\\Users\\Mr Cab\n",
      "[nltk_data]     Driver\\AppData\\Roaming\\nltk_data...\n",
      "[nltk_data]   Package punkt is already up-to-date!\n"
     ]
    }
   ],
   "source": [
    "#!pip install ipython\n",
    "from IPython.display import clear_output\n",
    "\n",
    "try:\n",
    "    import transformers\n",
    "    print(\"transformers: All good.\")\n",
    "except ImportError:\n",
    "    !pip install transformers\n",
    "    print(\"transformers: Installed.\")\n",
    "\n",
    "try:\n",
    "    import pydub\n",
    "    print(\"pydub: All good.\")\n",
    "except ImportError:\n",
    "    !pip install pydub\n",
    "    print(\"pydub: Installed.\")\n",
    "\n",
    "try:\n",
    "    import torch\n",
    "    print(\"torch: All good.\")\n",
    "except ImportError:\n",
    "    !conda install pytorch torchvision torchaudio cpuonly -c pytorch\n",
    "    # !pip3 install torch torchvision torchaudio --index-url https://download.pytorch.org/whl/cpu\n",
    "\n",
    "try:\n",
    "    import torchaudio\n",
    "    print(\"torchaudio: All good.\")\n",
    "except ImportError:\n",
    "    !pip install torchaudio\n",
    "    print(\"torchaudio: Installed.\")\n",
    "\n",
    "try:\n",
    "    import pyctcdecode\n",
    "    print(\"pyctcdecode: All good.\")\n",
    "except ImportError:\n",
    "    !pip install pyctcdecode\n",
    "    print(\"pyctcdecode: Installed.\")\n",
    "\n",
    "try:\n",
    "    import jiwer\n",
    "    print(\"jiwer: All good.\")\n",
    "except ImportError:\n",
    "    !pip install jiwer\n",
    "    print(\"jiwer: Installed.\")\n",
    "\n",
    "try:\n",
    "    import nltk\n",
    "    nltk.download('punkt')\n",
    "    print(\"nltk: All good.\")\n",
    "except ImportError:\n",
    "    !pip install nltk\n",
    "    print(\"nltk: Installed.\")\n",
    "\n",
    "try:\n",
    "    from fuzzywuzzy import fuzz\n",
    "    print(\"fuzzywuzzy: All good.\")\n",
    "except ImportError:   \n",
    "    !pip install fuzzywuzzy\n",
    "    print(\"fuzzywuzzy: Installed.\")\n",
    "\n",
    "#clear_output(wait=True) # clean the mess\n",
    "print(f\"All good. Every essential package is present to make the code work.\")"
   ]
  },
  {
   "cell_type": "code",
   "execution_count": 7,
   "metadata": {
    "colab": {
     "base_uri": "https://localhost:8080/"
    },
    "execution": {
     "iopub.execute_input": "2024-06-17T20:35:23.559292Z",
     "iopub.status.busy": "2024-06-17T20:35:23.559292Z",
     "iopub.status.idle": "2024-06-17T20:35:23.563255Z",
     "shell.execute_reply": "2024-06-17T20:35:23.563255Z",
     "shell.execute_reply.started": "2024-06-17T20:35:23.559292Z"
    },
    "executionInfo": {
     "elapsed": 297,
     "status": "ok",
     "timestamp": 1718358989147,
     "user": {
      "displayName": "Ivan Porupski",
      "userId": "03127310887960034948"
     },
     "user_tz": -120
    },
    "id": "QpXmeQkhHSMy",
    "outputId": "18d66a32-7b49-4cac-ed0e-2f4d4bb4c771"
   },
   "outputs": [
    {
     "name": "stdout",
     "output_type": "stream",
     "text": [
      "All good. kenlm is present to make the LM model.\n"
     ]
    }
   ],
   "source": [
    "try:\n",
    "    import kenlm\n",
    "    print(f\"All good. kenlm is present to make the LM model.\")\n",
    "except ImportError:\n",
    "    !pip install https://github.com/kpu/kenlm/archive/master.zip # requires runtime restart\n",
    "    import os\n",
    "    os.kill(os.getpid(), 9) # restart automatically"
   ]
  },
  {
   "cell_type": "markdown",
   "metadata": {
    "jp-MarkdownHeadingCollapsed": true
   },
   "source": [
    "## Generating shit for kenLM\n",
    "* got to [7]to gen audio_transcriptions!"
   ]
  },
  {
   "cell_type": "code",
   "execution_count": 3,
   "metadata": {
    "execution": {
     "iopub.execute_input": "2024-06-20T17:37:08.874845Z",
     "iopub.status.busy": "2024-06-20T17:37:08.873848Z",
     "iopub.status.idle": "2024-06-20T17:37:08.877665Z",
     "shell.execute_reply": "2024-06-20T17:37:08.877665Z",
     "shell.execute_reply.started": "2024-06-20T17:37:08.874845Z"
    }
   },
   "outputs": [],
   "source": [
    "# PATHS SETUP\n",
    "import os\n",
    "\n",
    "# Path to your input JSONL file\n",
    "input_jsonl_path = r\"D:\\ParlaSpeech-HR.v1.0\\ParlaSpeech-HR.v1.0.jsonl\"\n",
    "\n",
    "# Path to output JSON file for lmplz\n",
    "save_json_name = f\"kenlm_lmplz_to_arpa_{work_version}.json\"\n",
    "save_txt_name = f\"kenlm_lmplz_to_arpa_{work_version}.txt\"\n",
    "\n",
    "output_json_path = r\"D:\\ParlaSpeech-HR.v1.0\"\n",
    "output_txt_path = output_json_path\n",
    "\n",
    "output_json_path = os.path.join(output_json_path, save_json_name)\n",
    "output_txt_path = os.path.join(output_txt_path, save_txt_name)"
   ]
  },
  {
   "cell_type": "code",
   "execution_count": 6,
   "metadata": {
    "execution": {
     "iopub.execute_input": "2024-06-19T15:54:07.279807Z",
     "iopub.status.busy": "2024-06-19T15:54:07.278703Z",
     "iopub.status.idle": "2024-06-19T15:54:07.282676Z",
     "shell.execute_reply": "2024-06-19T15:54:07.282166Z",
     "shell.execute_reply.started": "2024-06-19T15:54:07.279807Z"
    }
   },
   "outputs": [],
   "source": [
    "# Because the newest version if messed up\n",
    "#conda install -c conda-forge transformers==4.14.1 tokenizers==0.13.3 -y"
   ]
  },
  {
   "cell_type": "code",
   "execution_count": 8,
   "metadata": {
    "execution": {
     "iopub.execute_input": "2024-06-19T15:56:38.592129Z",
     "iopub.status.busy": "2024-06-19T15:56:38.592129Z",
     "iopub.status.idle": "2024-06-19T15:56:48.933632Z",
     "shell.execute_reply": "2024-06-19T15:56:48.932628Z",
     "shell.execute_reply.started": "2024-06-19T15:56:38.592129Z"
    }
   },
   "outputs": [
    {
     "name": "stdout",
     "output_type": "stream",
     "text": [
      "JSON file for lmplz created successfully: D:\\ParlaSpeech-HR.v1.0\\kenlm_lmplz_to_arpa_v4.4.json\n",
      "TXT file created successfully: D:\\ParlaSpeech-HR.v1.0\\kenlm_lmplz_to_arpa_v4.4.txt\n",
      "ngram.arpa path and name set to: \n",
      "D:\\ParlaSpeech-HR.v1.0\\ngram_v4.4.arpa\n",
      "\n",
      "CPU times: total: 10.2 s\n",
      "Wall time: 10.3 s\n"
     ]
    }
   ],
   "source": [
    "%%time\n",
    "\n",
    "import json\n",
    "import re\n",
    "\n",
    "# Define characters and patterns\n",
    "unknown_word = r'[,?.!\\-\\;\\:\"“%‘”�—’…–]—½–¸€π¾¼ö’̊′‰°„´“ôţ'\n",
    "unknown_chars = ['<', '>', '#']\n",
    "\n",
    "data_for_lm = []\n",
    "\n",
    "# Regex pattern to match any character not in the allowed characters\n",
    "symbol_pattern = re.compile(unknown_word)\n",
    "\n",
    "# Read JSONL file and process each line\n",
    "with open(input_jsonl_path, 'r', encoding='utf-8') as jsonl_file:\n",
    "    for line in jsonl_file:\n",
    "        data = json.loads(line.strip())\n",
    "        if 'norm_words' in data:\n",
    "            norm_words = data['norm_words']\n",
    "            # Join words into a single string\n",
    "            sentence = \" \".join(norm_words)\n",
    "            # Remove symbols not allowed\n",
    "            sentence = re.sub(unknown_word, \"\", sentence.lower())\n",
    "            for char in unknown_chars:\n",
    "                sentence = sentence.replace(char, '')\n",
    "            # Add to list\n",
    "            data_for_lm.append(sentence)\n",
    "\n",
    "# Save cleaned data to JSON\n",
    "with open(output_json_path, 'w', encoding='utf-8') as json_file:\n",
    "    json.dump(data_for_lm, json_file, indent=4, ensure_ascii=True)  # Ensure_ascii=False to keep Unicode characters as literals SO DONT DO IT \n",
    "\n",
    "print(f\"JSON file for lmplz created successfully: {output_json_path}\")\n",
    "\n",
    "# Save cleaned data to TXT\n",
    "with open(output_txt_path, 'w', encoding='utf-8') as txt_file:\n",
    "    txt_file.write(\"\\n\".join(data_for_lm))\n",
    "\n",
    "print(f\"TXT file created successfully: {output_txt_path}\")\n",
    "\n",
    "\n",
    "\n",
    "# Set the path to your .ARPA file\n",
    "ngram_name = f\"ngram_{work_version}.arpa\"\n",
    "path_to_ngram =  r\"D:\\ParlaSpeech-HR.v1.0\"\n",
    "path_to_ngram = os.path.join(path_to_ngram, ngram_name)\n",
    "\n",
    "print(f\"ngram.arpa path and name set to: \\n{path_to_ngram}\\n\")\n",
    "# now execute the lmplz plz"
   ]
  },
  {
   "cell_type": "code",
   "execution_count": 9,
   "metadata": {
    "execution": {
     "iopub.execute_input": "2024-06-19T15:57:54.229159Z",
     "iopub.status.busy": "2024-06-19T15:57:54.229159Z",
     "iopub.status.idle": "2024-06-19T15:57:54.232921Z",
     "shell.execute_reply": "2024-06-19T15:57:54.232921Z",
     "shell.execute_reply.started": "2024-06-19T15:57:54.229159Z"
    }
   },
   "outputs": [],
   "source": [
    "## JSON FILE NOW CONTAINS \\uxxxx unicode escapes "
   ]
  },
  {
   "cell_type": "code",
   "execution_count": 11,
   "metadata": {
    "execution": {
     "iopub.execute_input": "2024-06-19T16:00:32.456203Z",
     "iopub.status.busy": "2024-06-19T16:00:32.456203Z",
     "iopub.status.idle": "2024-06-19T16:00:32.459943Z",
     "shell.execute_reply": "2024-06-19T16:00:32.459943Z",
     "shell.execute_reply.started": "2024-06-19T16:00:32.456203Z"
    }
   },
   "outputs": [
    {
     "name": "stdout",
     "output_type": "stream",
     "text": [
      "primjeni željezničkih paketa kojima se postupno i nezaustavljivo stvara jedinstveni europski željeznički prostor provedba ovog zakona nema financijski utjecaj na državni proračun hvala lijepo zahvaljujem ministru imamo sedam replika prvi je kolega kirin izvolite\n",
      "km i distribuira ih na nekih dvije tisuće šesto priključaka zahvaća još rubne dijelove nekih drugih lokalnih jedinica mogu reć da ima samo osam zaposlenih ukupno prihode u iznosu od četiriosam milijuna kuna vrijednost imovine društva četrdeset pet milijuna kuna evo dvije tisuće četrnaest do dvije tisuće osamnaest je realizirano je ukupno\n",
      "se pozivati na to kao da je on jedini bogom dan da spasi ovu hrvatsku a svi ostali ništa ne razumiju pa se tako razbacaju i sa riječima i sa time da ne respektira šta građani erha misle o ovom konkretnom slučaju ne respektira o tome što misle da on krivo vodi hrvatsku\n",
      "međutim s druge strane moramo znati da vrlo često postoje snažni javni opći interesi za izgradnju infrastrukturnih objekata za izgradnjom škola bolnica cesta željezničke infrastrukture i da ti objekti\n",
      "i sudskih postupaka nedovršeni različiti postupci koji se vode zbog utvrđivanja prava vlasništva aktivne plombe kao i zavrešeni sudski postupci za koje u zemljišnim knjigama nisu brisane zabilježbe sporova cilj je nekretnine dovesti u stanje imovinsko pravne ali i\n",
      "uvozili smo dvadeset devet samo u dvije tisuće šesnaest bili smo u minusu odnosno omjer izvoza i uvoza tada smo izvozili trideset petšest a uvozili smo trideset šest milijuna dolara dvije tisuće sedamnaest pedeset pettri uvozili tridesetšest dvije tisuće osamnaest šezdeset četirišest milijuna dolara uvozili\n",
      "govorimo o politikama trebalo govoriti o politikama u obrazovanju a ne o ovom dijelu svakako ne mogu se složiti s tim ravnateljem temeljem vašega ovo što ste kazali da se desilo mislim da je to neprihvatljivo i neprimjereno i tu se sada vraćamo na osnivača\n",
      "regionalnoj samoupravi centralnoj državi a vrlo malo toga ostaje lokalnoj samoupravi na ovaj način da pedeset posto\n",
      "da su sedam dana nakon isteka roka za prikupljanje potpisa mu pristupali aktivisti inicijative nudili mu mogućnost da potpiše ovu inicijativu to je javno izgovorio na televiziji\n",
      "im pak dajte jeftinu konoplju u apotekama nemam ništa ni protiv tog rješenja dajte konoplju da bude na recept kao svaki drugi a ne da moraju ga skupo i papreno plaćati ali nažalost bojim se da vi jednostavno ne čujete vapaje tih ljudi i da vas nije briga i zbog\n"
     ]
    }
   ],
   "source": [
    "lines_to_print = 10  # Adjust the number of lines to print\n",
    "\n",
    "with open(output_txt_path, 'r', encoding='utf-8') as txt_file:\n",
    "    for i, line in enumerate(txt_file):\n",
    "        if i >= lines_to_print:\n",
    "            break\n",
    "        print(line, end='')"
   ]
  },
  {
   "cell_type": "code",
   "execution_count": 8,
   "metadata": {
    "execution": {
     "iopub.execute_input": "2024-06-20T13:55:16.151220Z",
     "iopub.status.busy": "2024-06-20T13:55:16.150224Z",
     "iopub.status.idle": "2024-06-20T13:55:21.014033Z",
     "shell.execute_reply": "2024-06-20T13:55:21.014033Z",
     "shell.execute_reply.started": "2024-06-20T13:55:16.151220Z"
    }
   },
   "outputs": [
    {
     "name": "stdout",
     "output_type": "stream",
     "text": [
      "\n",
      "Total lines with Unicode escape sequences: 0\n",
      "Total lines with out of vocab characters: 0\n",
      "Cleaned text file saved to: D:\\ParlaSpeech-HR.v1.0\\kenlm_lmplz_to_arpa_v4.4.txt\n"
     ]
    }
   ],
   "source": [
    "## CLEANS GOOD\n",
    "\n",
    "import re\n",
    "\n",
    "# Define the function to check for Unicode escape sequences\n",
    "def contains_unicode_escapes(text):\n",
    "    return bool(re.search(r'\\\\u[0-9A-Fa-f]{4}', text))\n",
    "\n",
    "# Define the lmplz vocabulary\n",
    "lmplz_vocab = set(' abcdefghijklmnopqrstuvwxyzäüćčđšžӧ1234567890.')\n",
    "\n",
    "# Path to the input text file\n",
    "kenlm_input_txt_path = r\"D:\\ParlaSpeech-HR.v1.0\\kenlm_lmplz_to_arpa_v4.4.txt\"\n",
    "\n",
    "# Counters for the lines with issues\n",
    "unicode_escape_count = 0\n",
    "out_of_vocab_count = 0\n",
    "\n",
    "# Limit the number of lines to print for each type of issue\n",
    "print_limit = 2\n",
    "\n",
    "# Track if we reached the print limit\n",
    "unicode_printed = 0\n",
    "out_of_vocab_printed = 0\n",
    "\n",
    "# List to store valid lines\n",
    "valid_lines = []\n",
    "\n",
    "# Process the text file\n",
    "with open(kenlm_input_txt_path, 'r', encoding='utf-8') as file:\n",
    "    for line in file:\n",
    "        line = line.strip()\n",
    "        has_unicode_escapes = contains_unicode_escapes(line)\n",
    "        has_out_of_vocab_chars = any(char not in lmplz_vocab for char in line)\n",
    "\n",
    "        if has_unicode_escapes:\n",
    "            unicode_escape_count += 1\n",
    "            if unicode_printed < print_limit:\n",
    "                print(f\"Unicode escape sequence found in line: {line}\")\n",
    "                unicode_printed += 1\n",
    "\n",
    "        if has_out_of_vocab_chars:\n",
    "            out_of_vocab_count += 1\n",
    "            if out_of_vocab_printed < print_limit:\n",
    "                print(f\"Out of vocab character found in line: {line}\")\n",
    "                out_of_vocab_printed += 1\n",
    "\n",
    "        if not has_unicode_escapes and not has_out_of_vocab_chars:\n",
    "            valid_lines.append(line)\n",
    "\n",
    "print(f\"\\nTotal lines with Unicode escape sequences: {unicode_escape_count}\")\n",
    "print(f\"Total lines with out of vocab characters: {out_of_vocab_count}\")\n",
    "\n",
    "# Write valid lines back to the same file\n",
    "with open(kenlm_input_txt_path, 'w', encoding='utf-8') as file:\n",
    "    for line in valid_lines:\n",
    "        file.write(line + '\\n')\n",
    "\n",
    "print(f\"Cleaned text file saved to: {kenlm_input_txt_path}\")\n"
   ]
  },
  {
   "cell_type": "code",
   "execution_count": 9,
   "metadata": {
    "execution": {
     "iopub.execute_input": "2024-06-20T13:55:51.638112Z",
     "iopub.status.busy": "2024-06-20T13:55:51.638112Z",
     "iopub.status.idle": "2024-06-20T13:55:51.643098Z",
     "shell.execute_reply": "2024-06-20T13:55:51.643098Z",
     "shell.execute_reply.started": "2024-06-20T13:55:51.638112Z"
    }
   },
   "outputs": [],
   "source": [
    "def has_bom(file_path):\n",
    "    with open(file_path, 'rb') as f:\n",
    "        first_bytes = f.read(4)  # Read the first 4 bytes (BOMs are usually within first 2-4 bytes)\n",
    "        if first_bytes.startswith(b'\\xef\\xbb\\xbf'):  # UTF-8 BOM\n",
    "            return True\n",
    "        elif first_bytes.startswith(b'\\xff\\xfe') or first_bytes.startswith(b'\\xfe\\xff'):  # UTF-16 BOMs\n",
    "            return True\n",
    "        else:\n",
    "            return False\n",
    "            \n",
    "def remove_bom(file_path):\n",
    "    # Read the entire file\n",
    "    with open(file_path, 'rb') as f:\n",
    "        content = f.read()\n",
    "    \n",
    "    # Check and remove BOM if present\n",
    "    if content.startswith(b'\\xef\\xbb\\xbf'):  # UTF-8 BOM\n",
    "        content = content[3:]  # Remove the first 3 bytes\n",
    "    elif content.startswith(b'\\xff\\xfe') or content.startswith(b'\\xfe\\xff'):  # UTF-16 BOMs\n",
    "        content = content[2:]  # Remove the first 2 bytes (assuming little-endian)\n",
    "    \n",
    "    # Write back to the file\n",
    "    with open(file_path, 'wb') as f:\n",
    "        f.write(content)\n"
   ]
  },
  {
   "cell_type": "code",
   "execution_count": 10,
   "metadata": {
    "execution": {
     "iopub.execute_input": "2024-06-20T13:55:58.622643Z",
     "iopub.status.busy": "2024-06-20T13:55:58.622643Z",
     "iopub.status.idle": "2024-06-20T13:55:58.626165Z",
     "shell.execute_reply": "2024-06-20T13:55:58.626165Z",
     "shell.execute_reply.started": "2024-06-20T13:55:58.622643Z"
    }
   },
   "outputs": [
    {
     "name": "stdout",
     "output_type": "stream",
     "text": [
      "No BOM found.\n"
     ]
    }
   ],
   "source": [
    "file_path = r\"D:\\ParlaSpeech-HR.v1.0\\kenlm_lmplz_to_arpa_v4.4.txt\"\n",
    "\n",
    "if has_bom(file_path):\n",
    "    remove_bom(file_path)\n",
    "    print(\"BOM removed successfully.\")\n",
    "else:\n",
    "    print(\"No BOM found.\")\n"
   ]
  },
  {
   "cell_type": "code",
   "execution_count": 13,
   "metadata": {
    "execution": {
     "iopub.execute_input": "2024-06-20T13:58:18.926882Z",
     "iopub.status.busy": "2024-06-20T13:58:18.926882Z",
     "iopub.status.idle": "2024-06-20T13:58:18.930924Z",
     "shell.execute_reply": "2024-06-20T13:58:18.930924Z",
     "shell.execute_reply.started": "2024-06-20T13:58:18.926882Z"
    }
   },
   "outputs": [
    {
     "name": "stdout",
     "output_type": "stream",
     "text": [
      "ngram.arpa path and name set to: \n",
      "D:\\ParlaSpeech-HR.v1.0\\ngram_v4.4.arpa\n",
      "\n",
      "\n",
      "Loading data from: \n",
      "D:\\ParlaSpeech-HR.v1.0\\kenlm_lmplz_to_arpa_v4.4.txt\n",
      "\n",
      "\n",
      "Executing lmplz CMD: \n",
      "D:/ASR/kenlm/bin/Debug/lmplz -o 5 -S 80% --skip_symbols < D:\\ParlaSpeech-HR.v1.0\\kenlm_lmplz_to_arpa_v4.4.txt > D:\\ParlaSpeech-HR.v1.0\\ngram_v4.4.arpa\n",
      "\n",
      "\n",
      "Execution complete: \n",
      "D:\\ParlaSpeech-HR.v1.0\\ngram_v4.4.arpa \n",
      "\n",
      "CPU times: total: 0 ns\n",
      "Wall time: 0 ns\n"
     ]
    }
   ],
   "source": [
    "%%time\n",
    "\n",
    "import os\n",
    "## seems to work now! about 9mins\n",
    "# Set the path to your .ARPA file\n",
    "ngram_name = f\"ngram_{work_version}.arpa\"\n",
    "path_to_ngram =  r\"D:\\ParlaSpeech-HR.v1.0\"\n",
    "path_to_ngram = os.path.join(path_to_ngram, ngram_name)\n",
    "\n",
    "print(f\"ngram.arpa path and name set to: \\n{path_to_ngram}\\n\")\n",
    "\n",
    "# IF TAKING TXT AFTER PREVIOUS CLEANING\n",
    "output_txt_path = kenlm_input_txt_path\n",
    "\n",
    "\n",
    "lmplz_path = r\"D:/ASR/kenlm/bin/Debug/lmplz\"\n",
    "\n",
    "lmplz_args = f\" -o 5 -S 80% --skip_symbols < {output_txt_path} > {path_to_ngram}\"\n",
    "\n",
    "lmplz_execute = lmplz_path + lmplz_args\n",
    "\n",
    "\n",
    "print(f\"\\nLoading data from: \\n{output_txt_path}\\n\")\n",
    "\n",
    "\n",
    "print(f\"\\nExecuting lmplz CMD: \\n{lmplz_execute}\\n\")\n",
    "\n",
    "#os.system(lmplz_execute)\n",
    "print(f\"\\nExecution complete: \\n{path_to_ngram} \\n\")"
   ]
  },
  {
   "cell_type": "markdown",
   "metadata": {},
   "source": [
    "### D:/ASR/kenlm/bin/Debug/lmplz -o 5 -S 80% < D:\\ParlaSpeech-HR.v1.0\\kenlm_lmplz_to_arpav_4.2.txt > D:\\ParlaSpeech-HR.v1.0\\ngram_v4.2.arpa"
   ]
  },
  {
   "cell_type": "raw",
   "metadata": {},
   "source": [
    "20 lip 2024 16:19h\n",
    "\n",
    "REMOVED LINES that are not in vocab\n",
    "\n",
    "D:/ASR/kenlm/bin/Debug/lmplz -o 5 -S 80% --skip_symbols < D:\\ParlaSpeech-HR.v1.0\\kenlm_lmplz_to_arpa_v4.4.txt > D:\\ParlaSpeech-HR.v1.0\\ngram_v4.4.arpa\n",
    "=== 1/5 Counting and sorting n-grams ===\n",
    "Reading stdin\n",
    "----5---10---15---20---25---30---35---40---45---50---55---60---65---70---75---80---85---90---95--100\n",
    "****************************************************************************************************\n",
    "Unigram tokens 14563575 types 175775\n",
    "=== 2/5 Calculating and sorting adjusted counts ===\n",
    "Chain sizes: 1:2109300 2:1323773184 3:2482074880 4:3971319552 5:5791507968\n",
    "Statistics:\n",
    "1 175775 D1=0.596963 D2=0.995238 D3+=1.40628\n",
    "2 3442740 D1=0.758484 D2=1.09894 D3+=1.37105\n",
    "3 8990227 D1=0.869733 D2=1.18923 D3+=1.38412\n",
    "4 12137187 D1=0.941094 D2=1.29698 D3+=1.43514\n",
    "5 13042768 D1=0.96621 D2=1.39598 D3+=1.49413\n",
    "Memory estimate for binary LM:\n",
    "type     MB\n",
    "probing 790 assuming -p 1.5\n",
    "probing 931 assuming -r models -p 1.5\n",
    "trie    387 without quantization\n",
    "trie    214 assuming -q 8 -b 8 quantization\n",
    "trie    338 assuming -a 22 array pointer compression\n",
    "trie    165 assuming -a 22 -q 8 -b 8 array pointer compression and quantization\n",
    "=== 3/5 Calculating and sorting initial probabilities ===\n",
    "Chain sizes: 1:2109300 2:55083840 3:179804540 4:291292488 5:365197504\n",
    "----5---10---15---20---25---30---35---40---45---50---55---60---65---70---75---80---85---90---95--100\n",
    "####################################################################################################\n",
    "=== 4/5 Calculating and writing order-interpolated probabilities ===\n",
    "Chain sizes: 1:2109300 2:55083840 3:179804540 4:291292488 5:365197504\n",
    "----5---10---15---20---25---30---35---40---45---50---55---60---65---70---75---80---85---90---95--100\n",
    "####################################################################################################\n",
    "=== 5/5 Writing ARPA model ===\n",
    "----5---10---15---20---25---30---35---40---45---50---55---60---65---70---75---80---85---90---95--100\n",
    "****************************************************************************************************\n",
    "real:505\n",
    "\n",
    "\n",
    "\n",
    "\n",
    "\n",
    "\n",
    "\n",
    "\n",
    "\n",
    "19 lip 2024 8:25am DONE .arpa (1,67 GB)\n",
    "\n",
    "OVAJ JE SAD ZBILJA PROČIŠĆEN KAO ( guess not )\n",
    "\n",
    "D:\\ParlaSpeech-HR.v1.0\\ngram_v4.2.arpa\n",
    "=== 1/5 Counting and sorting n-grams ===\n",
    "Reading stdin\n",
    "----5---10---15---20---25---30---35---40---45---50---55---60---65---70---75---80---85---90---95--100\n",
    "****************************************************************************************************\n",
    "Unigram tokens 14563895 types 175788\n",
    "=== 2/5 Calculating and sorting adjusted counts ===\n",
    "Chain sizes: 1:2109456 2:1323773184 3:2482074880 4:3971319552 5:5791507968\n",
    "Statistics:\n",
    "1 175788 D1=0.59697 D2=0.995161 D3+=1.40685\n",
    "2 3442825 D1=0.758479 D2=1.09896 D3+=1.3711\n",
    "3 8990413 D1=0.869733 D2=1.18924 D3+=1.38405\n",
    "4 12137443 D1=0.941095 D2=1.29699 D3+=1.43508\n",
    "5 13043038 D1=0.96621 D2=1.39597 D3+=1.49453\n",
    "Memory estimate for binary LM:\n",
    "type     MB\n",
    "probing 790 assuming -p 1.5\n",
    "probing 931 assuming -r models -p 1.5\n",
    "trie    387 without quantization\n",
    "trie    214 assuming -q 8 -b 8 quantization\n",
    "trie    338 assuming -a 22 array pointer compression\n",
    "trie    165 assuming -a 22 -q 8 -b 8 array pointer compression and quantization\n",
    "=== 3/5 Calculating and sorting initial probabilities ===\n",
    "Chain sizes: 1:2109456 2:55085200 3:179808260 4:291298632 5:365205064\n",
    "----5---10---15---20---25---30---35---40---45---50---55---60---65---70---75---80---85---90---95--100\n",
    "####################################################################################################\n",
    "=== 4/5 Calculating and writing order-interpolated probabilities ===\n",
    "Chain sizes: 1:2109456 2:55085200 3:179808260 4:291298632 5:365205064\n",
    "----5---10---15---20---25---30---35---40---45---50---55---60---65---70---75---80---85---90---95--100\n",
    "####################################################################################################\n",
    "=== 5/5 Writing ARPA model ===\n",
    "----5---10---15---20---25---30---35---40---45---50---55---60---65---70---75---80---85---90---95--100\n",
    "****************************************************************************************************\n",
    "real:548\n",
    "\n",
    "\n",
    "\n",
    "\n",
    "\n",
    "19 lip 2024 2:36am DONE .arpa (1,67 GB)\n",
    "\n",
    "\n",
    "Executing lmplz CMD: \n",
    "D:/ASR/kenlm/bin/Debug/lmplz -o 5 -S 80% < D:\\ParlaSpeech-HR.v1.0\\kenlm_lmplz_to_arpav4.1_kenlm.txt > D:\\ParlaSpeech-HR.v1.0\\ngram_v4.1_kenlm.arpa\n",
    "\n",
    "\n",
    "=== 1/5 Counting and sorting n-grams ===\n",
    "Reading stdin\n",
    "----5---10---15---20---25---30---35---40---45---50---55---60---65---70---75---80---85---90---95--100\n",
    "****************************************************************************************************\n",
    "Unigram tokens 14563895 types 175789\n",
    "=== 2/5 Calculating and sorting adjusted counts ===\n",
    "Chain sizes: 1:2109468 2:1323773184 3:2482074880 4:3971319552 5:5791507968\n",
    "Statistics:\n",
    "1 175789 D1=0.596986 D2=0.995091 D3+=1.4068\n",
    "2 3442825 D1=0.758479 D2=1.09896 D3+=1.3711\n",
    "3 8990413 D1=0.869733 D2=1.18924 D3+=1.38405\n",
    "4 12137443 D1=0.941095 D2=1.29699 D3+=1.43508\n",
    "5 13043038 D1=0.96621 D2=1.39597 D3+=1.49453\n",
    "Memory estimate for binary LM:\n",
    "type     MB\n",
    "probing 790 assuming -p 1.5\n",
    "probing 931 assuming -r models -p 1.5\n",
    "trie    387 without quantization\n",
    "trie    214 assuming -q 8 -b 8 quantization\n",
    "trie    338 assuming -a 22 array pointer compression\n",
    "trie    165 assuming -a 22 -q 8 -b 8 array pointer compression and quantization\n",
    "=== 3/5 Calculating and sorting initial probabilities ===\n",
    "Chain sizes: 1:2109468 2:55085200 3:179808260 4:291298632 5:365205064\n",
    "----5---10---15---20---25---30---35---40---45---50---55---60---65---70---75---80---85---90---95--100\n",
    "####################################################################################################\n",
    "=== 4/5 Calculating and writing order-interpolated probabilities ===\n",
    "Chain sizes: 1:2109468 2:55085200 3:179808260 4:291298632 5:365205064\n",
    "----5---10---15---20---25---30---35---40---45---50---55---60---65---70---75---80---85---90---95--100\n",
    "####################################################################################################\n",
    "=== 5/5 Writing ARPA model ===\n",
    "----5---10---15---20---25---30---35---40---45---50---55---60---65---70---75---80---85---90---95--100\n",
    "****************************************************************************************************\n",
    "real:434"
   ]
  },
  {
   "cell_type": "raw",
   "metadata": {},
   "source": [
    "zatim CMD make bin (811 MB):\n",
    "D:\\ASR\\kenlm\\bin\\Debug\\build_binary D:\\ParlaSpeech-HR.v1.0\\ngram_v4.2.arpa D:\\ParlaSpeech-HR.v1.0\\ngram_v4.2.bin\n",
    "\n",
    "Reading D:\\ParlaSpeech-HR.v1.0\\ngram_v4.1_kenlm.arpa\n",
    "----5---10---15---20---25---30---35---40---45---50---55---60---65---70---75---80---85---90---95--100\n",
    "****************************************************************************************************\n",
    "SUCCESS"
   ]
  },
  {
   "cell_type": "markdown",
   "metadata": {
    "jp-MarkdownHeadingCollapsed": true
   },
   "source": [
    "### xx Make attrs.json, unigram.txt"
   ]
  },
  {
   "cell_type": "code",
   "execution_count": null,
   "metadata": {},
   "outputs": [],
   "source": [
    "import json\n",
    "from collections import defaultdict\n",
    "\n",
    "arpa_model_path = r\"D:\\ParlaSpeech-HR.v1.0\\ngram_v4.4.arpa\"\n",
    "\n",
    "# save files to\n",
    "unigram_txt_path = r\"D:\\ParlaSpeech-HR.v1.0\\unigrams4.txt\"\n",
    "\n",
    "\n",
    "# Save attributes to JSON file\n",
    "with open(attrs_json_path, 'w', encoding='utf-8') as f:\n",
    "    json.dump(attributes, f, indent=2)\n",
    "\n",
    "print(f\"Attributes saved to {attrs_json_path}\")\n",
    "\n",
    "# Extract unigrams to text file (unigram.txt)\n",
    "def extract_unigrams(arpa_file):\n",
    "    unigrams = defaultdict(float)\n",
    "    with open(arpa_file, 'r', encoding='utf-8') as f:\n",
    "        for line in f:\n",
    "            if line.startswith('-'):\n",
    "                parts = line.strip().split()\n",
    "                if len(parts) >= 2:\n",
    "                    prob = float(parts[0])\n",
    "                    word = parts[1]\n",
    "                    unigrams[word] = prob\n",
    "    return unigrams\n",
    "\n",
    "unigrams = extract_unigrams(arpa_model_path)\n",
    "\n",
    "# Save unigrams to text file\n",
    "with open(unigram_txt_path, 'w', encoding='utf-8') as f:\n",
    "    for word, prob in unigrams.items():\n",
    "        f.write(f\"{prob}\\t{word}\\n\")\n",
    "\n",
    "print(f\"Unigrams saved to {unigram_txt_path}\")"
   ]
  },
  {
   "cell_type": "raw",
   "metadata": {},
   "source": [
    "attrs.json original: {\"alpha\": 0.5, \"beta\": 1.5, \"unk_score_offset\": -10.0, \"score_boundary\": true}\n",
    "\n",
    "unigram.txt (3.5 MB):\n",
    "-6.527869\t<unk>\n",
    "-1.9189023\t</s>\n",
    "-1.0421926\tprimjeni\n",
    "-0.9842116\tželjezničkih\n",
    "-1.2758418\tpaketa\n",
    "..."
   ]
  },
  {
   "cell_type": "code",
   "execution_count": null,
   "metadata": {},
   "outputs": [],
   "source": []
  },
  {
   "cell_type": "code",
   "execution_count": null,
   "metadata": {},
   "outputs": [],
   "source": [
    "### maybe worth a try\n",
    "import subprocess\n",
    "\n",
    "# Define your command\n",
    "command = lmplz_execute\n",
    "\n",
    "# Execute the command and capture the output\n",
    "result = subprocess.run(command, shell=True, capture_output=True, text=True)\n",
    "\n",
    "# Check if the command executed successfully\n",
    "if result.returncode == 0:\n",
    "    # Print the output in Jupyter Lab cell\n",
    "    print(result.stdout)\n",
    "else:\n",
    "    # Handle the case where the command failed, if needed\n",
    "    print(\"Command execution failed\")\n"
   ]
  },
  {
   "cell_type": "markdown",
   "metadata": {},
   "source": [
    "### vrtimo ken lm LanguageModel"
   ]
  },
  {
   "cell_type": "code",
   "execution_count": 3,
   "metadata": {
    "execution": {
     "iopub.execute_input": "2024-06-20T15:17:55.167756Z",
     "iopub.status.busy": "2024-06-20T15:17:55.166758Z",
     "iopub.status.idle": "2024-06-20T15:18:09.199312Z",
     "shell.execute_reply": "2024-06-20T15:18:09.199312Z",
     "shell.execute_reply.started": "2024-06-20T15:17:55.167756Z"
    }
   },
   "outputs": [
    {
     "name": "stdout",
     "output_type": "stream",
     "text": [
      "-18.274045944213867\n"
     ]
    }
   ],
   "source": [
    "import kenlm\n",
    "\n",
    "# lm_path = r\"D:\\ParlaSpeech-HR.v1.0\\ngram_v4.1_kenlm.bin\"\n",
    "lm_path = r\"D:\\ParlaSpeech-HR.v1.0\\ngram_v4.4.arpa\"\n",
    "\n",
    "lm = kenlm.LanguageModel(lm_path)\n",
    "\n",
    "sentence = \"što radiš ti to tamo a\"\n",
    "print(lm.score(sentence))"
   ]
  },
  {
   "cell_type": "code",
   "execution_count": 4,
   "metadata": {
    "execution": {
     "iopub.execute_input": "2024-06-20T15:18:09.200305Z",
     "iopub.status.busy": "2024-06-20T15:18:09.200305Z",
     "iopub.status.idle": "2024-06-20T15:18:09.204227Z",
     "shell.execute_reply": "2024-06-20T15:18:09.204227Z",
     "shell.execute_reply.started": "2024-06-20T15:18:09.200305Z"
    }
   },
   "outputs": [
    {
     "name": "stdout",
     "output_type": "stream",
     "text": [
      "-2.0787603855133057 2: <s> što\n",
      "-4.54342794418335 2: što radiš\n",
      "-2.01373291015625 2: radiš ti\n",
      "-2.1233317852020264 2: ti to\n",
      "-3.3811776638031006 2: to tamo\n",
      "-2.154578924179077 2: tamo a\n",
      "-1.9790356159210205 2: a </s>\n"
     ]
    }
   ],
   "source": [
    "words = ['<s>'] + sentence.split() + ['</s>']\n",
    "for i, (prob, length, oov) in enumerate(lm.full_scores(sentence)):\n",
    "  print(f'{prob} {length}: {\" \".join(words[i+2-length:i+2])}')\n",
    "  if oov:\n",
    "    print(f'\\t\"{words[i+1]}\" is an OOV')\n",
    "\n",
    "for w in words:\n",
    "  if not w in lm:\n",
    "    print(f'\"{w}\" is an OOV')"
   ]
  },
  {
   "cell_type": "code",
   "execution_count": 5,
   "metadata": {
    "execution": {
     "iopub.execute_input": "2024-06-20T15:18:09.205221Z",
     "iopub.status.busy": "2024-06-20T15:18:09.205221Z",
     "iopub.status.idle": "2024-06-20T15:18:09.212920Z",
     "shell.execute_reply": "2024-06-20T15:18:09.212920Z",
     "shell.execute_reply.started": "2024-06-20T15:18:09.205221Z"
    }
   },
   "outputs": [
    {
     "name": "stdout",
     "output_type": "stream",
     "text": [
      "utf-8\n"
     ]
    }
   ],
   "source": [
    "import sys\n",
    "print(sys.getdefaultencoding())\n"
   ]
  },
  {
   "cell_type": "code",
   "execution_count": 2,
   "metadata": {
    "execution": {
     "iopub.execute_input": "2024-06-19T15:48:08.784222Z",
     "iopub.status.busy": "2024-06-19T15:48:08.783226Z",
     "iopub.status.idle": "2024-06-19T15:48:09.830737Z",
     "shell.execute_reply": "2024-06-19T15:48:09.830737Z",
     "shell.execute_reply.started": "2024-06-19T15:48:08.784222Z"
    }
   },
   "outputs": [
    {
     "name": "stdout",
     "output_type": "stream",
     "text": [
      "Conversion complete. Output written to D:\\ParlaSpeech-HR.v1.0\\unigrams2esc.txt\n"
     ]
    }
   ],
   "source": [
    "input_file = r\"D:\\ParlaSpeech-HR.v1.0\\unigrams2.txt\"\n",
    "output_file = r\"D:\\ParlaSpeech-HR.v1.0\\unigrams2esc.txt\"\n",
    "\n",
    "# Function to convert literal characters to escape sequences\n",
    "def convert_to_escape_sequences(text):\n",
    "    return ''.join([f'\\\\u{ord(char):04x}' for char in text])\n",
    "\n",
    "# Open input and output files\n",
    "with open(input_file, 'r', encoding='utf-8') as fin, open(output_file, 'w', encoding='utf-8') as fout:\n",
    "    for line in fin:\n",
    "        converted_line = convert_to_escape_sequences(line.strip())\n",
    "        fout.write(converted_line + '\\n')\n",
    "\n",
    "print(f\"Conversion complete. Output written to {output_file}\")\n"
   ]
  },
  {
   "cell_type": "code",
   "execution_count": 6,
   "metadata": {
    "execution": {
     "iopub.execute_input": "2024-06-20T15:18:10.854876Z",
     "iopub.status.busy": "2024-06-20T15:18:10.854876Z",
     "iopub.status.idle": "2024-06-20T15:18:13.698459Z",
     "shell.execute_reply": "2024-06-20T15:18:13.698459Z",
     "shell.execute_reply.started": "2024-06-20T15:18:10.854876Z"
    }
   },
   "outputs": [
    {
     "name": "stderr",
     "output_type": "stream",
     "text": [
      "C:\\Users\\Public\\anaconda3\\envs\\PyPhon\\Lib\\site-packages\\transformers\\utils\\generic.py:441: UserWarning: torch.utils._pytree._register_pytree_node is deprecated. Please use torch.utils._pytree.register_pytree_node instead.\n",
      "  _torch_pytree._register_pytree_node(\n"
     ]
    },
    {
     "name": "stdout",
     "output_type": "stream",
     "text": [
      "loaded proc\n"
     ]
    },
    {
     "name": "stderr",
     "output_type": "stream",
     "text": [
      "C:\\Users\\Public\\anaconda3\\envs\\PyPhon\\Lib\\site-packages\\transformers\\utils\\generic.py:309: UserWarning: torch.utils._pytree._register_pytree_node is deprecated. Please use torch.utils._pytree.register_pytree_node instead.\n",
      "  _torch_pytree._register_pytree_node(\n"
     ]
    }
   ],
   "source": [
    "from transformers import AutoProcessor\n",
    "\n",
    "load_lm_proc = r\"D:\\ASR\\ParlaspeechHR\\wav2vec2-large-slavic-hr\"\n",
    "\n",
    "processor1 = AutoProcessor.from_pretrained(load_lm_proc)\n",
    "print(\"loaded proc\")"
   ]
  },
  {
   "cell_type": "code",
   "execution_count": 7,
   "metadata": {
    "execution": {
     "iopub.execute_input": "2024-06-20T15:18:15.302865Z",
     "iopub.status.busy": "2024-06-20T15:18:15.302865Z",
     "iopub.status.idle": "2024-06-20T15:18:15.306853Z",
     "shell.execute_reply": "2024-06-20T15:18:15.306853Z",
     "shell.execute_reply.started": "2024-06-20T15:18:15.302865Z"
    }
   },
   "outputs": [
    {
     "name": "stdout",
     "output_type": "stream",
     "text": [
      "got vocab\n",
      "vocab: dict_keys([' ', '<pad>', '[unk]', 'a', 'b', 'c', 'd', 'e', 'f', 'g', 'h', 'i', 'j', 'k', 'l', 'm', 'n', 'o', 'p', 'q', 'r', 's', 't', 'u', 'v', 'w', 'x', 'y', 'z', 'ä', 'ü', 'ć', 'č', 'đ', 'š', 'ž', 'ӧ', '1', '2', '3', '4', '5', '6', '7', '8', '9', '0', '.', '<s>', '</s>'])\n"
     ]
    }
   ],
   "source": [
    "vocab_dict = processor1.tokenizer.get_vocab()\n",
    "sorted_vocab_dict = {k.lower(): v for k, v in sorted(vocab_dict.items(), key=lambda item: item[1])}\n",
    "print(\"got vocab\")\n",
    "\n",
    "print(f\"vocab: {sorted_vocab_dict.keys()}\")"
   ]
  },
  {
   "cell_type": "code",
   "execution_count": 6,
   "metadata": {
    "execution": {
     "iopub.execute_input": "2024-06-19T15:48:54.243070Z",
     "iopub.status.busy": "2024-06-19T15:48:54.243070Z",
     "iopub.status.idle": "2024-06-19T15:49:04.838731Z",
     "shell.execute_reply": "2024-06-19T15:49:04.838731Z",
     "shell.execute_reply.started": "2024-06-19T15:48:54.243070Z"
    }
   },
   "outputs": [
    {
     "ename": "NameError",
     "evalue": "name 'debug_printing' is not defined",
     "output_type": "error",
     "traceback": [
      "\u001b[1;31m---------------------------------------------------------------------------\u001b[0m",
      "\u001b[1;31mNameError\u001b[0m                                 Traceback (most recent call last)",
      "Cell \u001b[1;32mIn[6], line 25\u001b[0m\n\u001b[0;32m     22\u001b[0m         \u001b[38;5;28;01melse\u001b[39;00m:\n\u001b[0;32m     23\u001b[0m             char_count[char] \u001b[38;5;241m=\u001b[39m \u001b[38;5;241m1\u001b[39m\n\u001b[1;32m---> 25\u001b[0m \u001b[38;5;28;01mif\u001b[39;00m debug_printing:\n\u001b[0;32m     26\u001b[0m     \u001b[38;5;66;03m# Print the character counts\u001b[39;00m\n\u001b[0;32m     27\u001b[0m     \u001b[38;5;28;01mfor\u001b[39;00m char, count \u001b[38;5;129;01min\u001b[39;00m char_count\u001b[38;5;241m.\u001b[39mitems():\n\u001b[0;32m     28\u001b[0m         \u001b[38;5;28mprint\u001b[39m(\u001b[38;5;124mf\u001b[39m\u001b[38;5;124m\"\u001b[39m\u001b[38;5;124mCharacter \u001b[39m\u001b[38;5;124m'\u001b[39m\u001b[38;5;132;01m{\u001b[39;00mchar\u001b[38;5;132;01m}\u001b[39;00m\u001b[38;5;124m'\u001b[39m\u001b[38;5;124m occurs \u001b[39m\u001b[38;5;132;01m{\u001b[39;00mcount\u001b[38;5;132;01m}\u001b[39;00m\u001b[38;5;124m times.\u001b[39m\u001b[38;5;124m\"\u001b[39m)\n",
      "\u001b[1;31mNameError\u001b[0m: name 'debug_printing' is not defined"
     ]
    }
   ],
   "source": [
    "unigrams_raw = r\"D:\\ParlaSpeech-HR.v1.0\\kenlm_lmplz_to_arpa_v4.2.txt\"\n",
    "#unigrams_raw = r\"D:\\ASR\\ParlaspeechHR\\unigrams_raw.txt\"\n",
    "\n",
    "# Function to read and process unigrams_raw.txt\n",
    "def read_unigrams(file_path):\n",
    "    with open(file_path, 'r', encoding='utf-8') as file:\n",
    "        # Read all lines and split into words/tokens\n",
    "        unigrams = file.read().strip().split()\n",
    "        return unigrams\n",
    "\n",
    "# Read and process unigrams_raw.txt\n",
    "unigrams = read_unigrams(unigrams_raw)\n",
    "\n",
    "# Initialize an empty dictionary to store character counts\n",
    "char_count = {}\n",
    "\n",
    "# Count unique characters in unigrams\n",
    "for word in unigrams:\n",
    "    for char in word:\n",
    "        if char in char_count:\n",
    "            char_count[char] += 1\n",
    "        else:\n",
    "            char_count[char] = 1\n",
    "            \n",
    "if debug_printing:\n",
    "    # Print the character counts\n",
    "    for char, count in char_count.items():\n",
    "        print(f\"Character '{char}' occurs {count} times.\")\n",
    "\n",
    "# Initialize a list to store characters not in sorted_vocab_dict\n",
    "unknown_chars = []\n",
    "\n",
    "# Check and store characters not in sorted_vocab_dict\n",
    "for char in char_count.keys():\n",
    "    if char not in sorted_vocab_dict:\n",
    "        unknown_chars.append(char)\n",
    "\n",
    "print(\"unknown_chars:\", unknown_chars)\n",
    "unknown_word = ''.join(unknown_chars)\n",
    "print(\"Unknown word:\", unknown_word)"
   ]
  },
  {
   "cell_type": "markdown",
   "metadata": {},
   "source": [
    "D:\\ASR\\kenlm\\bin\\Debug\\build_binary D:\\ParlaSpeech-HR.v1.0\\ngram_v4.2.arpa D:\\ParlaSpeech-HR.v1.0\\ngram_v4.2.bin"
   ]
  },
  {
   "cell_type": "code",
   "execution_count": 4,
   "metadata": {
    "execution": {
     "iopub.execute_input": "2024-06-20T15:34:41.325273Z",
     "iopub.status.busy": "2024-06-20T15:34:41.325273Z",
     "iopub.status.idle": "2024-06-20T15:34:43.717625Z",
     "shell.execute_reply": "2024-06-20T15:34:43.717625Z",
     "shell.execute_reply.started": "2024-06-20T15:34:41.325273Z"
    }
   },
   "outputs": [
    {
     "name": "stderr",
     "output_type": "stream",
     "text": [
      "C:\\Users\\Public\\anaconda3\\envs\\PyPhon\\Lib\\site-packages\\transformers\\utils\\generic.py:441: UserWarning: torch.utils._pytree._register_pytree_node is deprecated. Please use torch.utils._pytree.register_pytree_node instead.\n",
      "  _torch_pytree._register_pytree_node(\n"
     ]
    },
    {
     "name": "stdout",
     "output_type": "stream",
     "text": [
      "loaded proc\n",
      "got vocab\n",
      "\n",
      "vocab: \n",
      "dict_keys([' ', '<pad>', '[unk]', 'a', 'b', 'c', 'd', 'e', 'f', 'g', 'h', 'i', 'j', 'k', 'l', 'm', 'n', 'o', 'p', 'q', 'r', 's', 't', 'u', 'v', 'w', 'x', 'y', 'z', 'ä', 'ü', 'ć', 'č', 'đ', 'š', 'ž', 'ӧ', '1', '2', '3', '4', '5', '6', '7', '8', '9', '0', '.', '<s>', '</s>'])\n"
     ]
    },
    {
     "name": "stderr",
     "output_type": "stream",
     "text": [
      "C:\\Users\\Public\\anaconda3\\envs\\PyPhon\\Lib\\site-packages\\transformers\\utils\\generic.py:309: UserWarning: torch.utils._pytree._register_pytree_node is deprecated. Please use torch.utils._pytree.register_pytree_node instead.\n",
      "  _torch_pytree._register_pytree_node(\n"
     ]
    }
   ],
   "source": [
    "from transformers import AutoProcessor\n",
    "\n",
    "load_lm_proc = r\"D:\\ASR\\ParlaspeechHR\\wav2vec2-large-slavic-hr\"\n",
    "\n",
    "processor1 = AutoProcessor.from_pretrained(load_lm_proc)\n",
    "print(\"loaded proc\")\n",
    "\n",
    "vocab_dict = processor1.tokenizer.get_vocab()\n",
    "sorted_vocab_dict = {k.lower(): v for k, v in sorted(vocab_dict.items(), key=lambda item: item[1])}\n",
    "print(\"got vocab\")\n",
    "\n",
    "print(f\"\\nvocab: \\n{sorted_vocab_dict.keys()}\")"
   ]
  },
  {
   "cell_type": "code",
   "execution_count": 5,
   "metadata": {
    "execution": {
     "iopub.execute_input": "2024-06-20T15:35:08.766601Z",
     "iopub.status.busy": "2024-06-20T15:35:08.766601Z",
     "iopub.status.idle": "2024-06-20T15:36:37.844533Z",
     "shell.execute_reply": "2024-06-20T15:36:37.844533Z",
     "shell.execute_reply.started": "2024-06-20T15:35:08.766601Z"
    }
   },
   "outputs": [
    {
     "name": "stderr",
     "output_type": "stream",
     "text": [
      "Found entries of length > 1 in alphabet. This is unusual unless style is BPE, but the alphabet was not recognized as BPE type. Is this correct?\n"
     ]
    },
    {
     "name": "stdout",
     "output_type": "stream",
     "text": [
      "\n",
      "decoder_arpa of the lm type is here\n",
      "\n",
      "CPU times: total: 1min 28s\n",
      "Wall time: 1min 29s\n"
     ]
    }
   ],
   "source": [
    "%%time\n",
    "\n",
    "# Treba otprilike 1min30s\n",
    "\n",
    "import codecs\n",
    "from pyctcdecode import build_ctcdecoder\n",
    "from pyctcdecode.language_model import load_unigram_set_from_arpa as original_load_unigram_set_from_arpa\n",
    "\n",
    "# Force utf-8 encoding with this wrapper:\n",
    "def load_unigram_set_from_arpa_utf8(arpa_path):\n",
    "    with codecs.open(arpa_path, 'r', encoding='utf-8') as f:\n",
    "        start_1_gram = False\n",
    "        unigrams = set()\n",
    "        for line in f:\n",
    "            line = line.strip()\n",
    "            if line == \"\\\\1-grams:\":\n",
    "                start_1_gram = True\n",
    "            elif line == \"\":\n",
    "                start_1_gram = False\n",
    "            elif start_1_gram:\n",
    "                parts = line.split()\n",
    "                if len(parts) >= 2:\n",
    "                    unigrams.add(parts[1])\n",
    "        return unigrams\n",
    "\n",
    "# Use the modified function for loading unigrams\n",
    "def build_ctcdecoder_utf8(labels, kenlm_model_path, unigrams=None, alpha=0.5, beta=1.0, unk_score_offset=-10.0, lm_score_boundary=True):\n",
    "    if unigrams is None and kenlm_model_path is not None:\n",
    "        if kenlm_model_path.endswith(\".arpa\"):\n",
    "            unigrams = load_unigram_set_from_arpa_utf8(kenlm_model_path)\n",
    "        else:\n",
    "            logger.warning(\n",
    "                \"Unigrams not provided and cannot be automatically determined from LM file (only \"\n",
    "                \"arpa format). Decoding accuracy might be reduced.\"\n",
    "            )\n",
    "    return build_ctcdecoder(labels, kenlm_model_path, unigrams, alpha, beta, unk_score_offset, lm_score_boundary)\n",
    "\n",
    "\n",
    "# Define paths\n",
    "darpa = r\"D:\\ParlaSpeech-HR.v1.0\\ngram_v4.4.arpa\"\n",
    "\n",
    "DEFAULT_ALPHA = 0.5\n",
    "DEFAULT_BETA = 0.5\n",
    "DEFAULT_UNK_LOGP_OFFSET = -1.0\n",
    "DEFAULT_SCORE_LM_BOUNDARY = True\n",
    "\n",
    "\n",
    "# Build the decoder with labels, kenlm_model_path, and unigrams ## SUPER IMPORTANT TO USE WRAPPER FUNCTION\n",
    "decoder_arpa = build_ctcdecoder_utf8(\n",
    "                                    labels=list(sorted_vocab_dict.keys()),\n",
    "                                    kenlm_model_path=darpa,\n",
    "                                    alpha=DEFAULT_ALPHA,\n",
    "                                    beta=DEFAULT_BETA,\n",
    "                                    unk_score_offset=DEFAULT_UNK_LOGP_OFFSET,\n",
    "                                    lm_score_boundary=DEFAULT_SCORE_LM_BOUNDARY,\n",
    ")\n",
    "\n",
    "print(f\"\\ndecoder_arpa of the lm type is here\\n\")\n"
   ]
  },
  {
   "cell_type": "markdown",
   "metadata": {},
   "source": [
    "### D:\\ASR\\kenlm\\bin\\Debug\\build_binary D:\\ParlaSpeech-HR.v1.0\\ngram_v4.4.arpa D:\\ParlaSpeech-HR.v1.0\\ngram_v4.4.bin"
   ]
  },
  {
   "cell_type": "code",
   "execution_count": 22,
   "metadata": {
    "execution": {
     "iopub.execute_input": "2024-06-20T16:19:17.537783Z",
     "iopub.status.busy": "2024-06-20T16:19:17.537783Z",
     "iopub.status.idle": "2024-06-20T16:19:19.704024Z",
     "shell.execute_reply": "2024-06-20T16:19:19.704024Z",
     "shell.execute_reply.started": "2024-06-20T16:19:17.537783Z"
    },
    "scrolled": true
   },
   "outputs": [
    {
     "name": "stderr",
     "output_type": "stream",
     "text": [
      "INFO:pyctcdecode.alphabet:Alphabet determined to be of regular style.\n",
      "INFO:pyctcdecode.alphabet:Found <pad> in vocabulary, interpreted as a CTC blank token, substituting with .\n",
      "INFO:pyctcdecode.alphabet:Found [unk] in vocabulary, interpreting as unknown token, substituting with ⁇.\n",
      "WARNING:pyctcdecode.alphabet:Found entries of length > 1 in alphabet. This is unusual unless style is BPE, but the alphabet was not recognized as BPE type. Is this correct?\n"
     ]
    },
    {
     "name": "stdout",
     "output_type": "stream",
     "text": [
      "\n",
      "decoder_bin of the lm type is here\n",
      "\n",
      "CPU times: total: 2.16 s\n",
      "Wall time: 2.16 s\n"
     ]
    }
   ],
   "source": [
    "%%time\n",
    "\n",
    "### BIN ####\n",
    "\n",
    "# Treba otprilike\n",
    "\n",
    "import codecs\n",
    "from pyctcdecode import build_ctcdecoder\n",
    "from pyctcdecode.language_model import load_unigram_set_from_arpa as original_load_unigram_set_from_arpa\n",
    "from typing import List, Optional, Collection\n",
    "import logging\n",
    "\n",
    "# Configure logging (set level and handlers as needed)\n",
    "logging.basicConfig(level=logging.INFO)  # Adjust level as needed\n",
    "logger = logging.getLogger(__name__)  # Create logger instance for your module\n",
    "\n",
    "\n",
    "\n",
    "# Function to load unigrams from a text file\n",
    "def load_unigrams_from_txt(txt_file_path: str) -> List[str]:\n",
    "    with codecs.open(txt_file_path, 'r', encoding='utf-8') as f:\n",
    "        unigrams = [line.strip() for line in f if line.strip()]\n",
    "    return unigrams\n",
    "\n",
    "# Modified build_ctcdecoder_utf8 function\n",
    "def build_ctcdecoder_utf8(labels: List[str], kenlm_model_path: Optional[str] = None,\n",
    "                          unigrams: Optional[Collection[str]] = None,\n",
    "                          unigrams_txt_file: Optional[str] = None,\n",
    "                          alpha: float = 0.5, beta: float = 1.0,\n",
    "                          unk_score_offset: float = -10.0,\n",
    "                          lm_score_boundary: bool = True):\n",
    "\n",
    "    # Load unigrams from file if not provided\n",
    "    if unigrams is None and unigrams_txt_file is not None:\n",
    "        unigrams = load_unigrams_from_txt(unigrams_txt_file)\n",
    "\n",
    "    # Load unigrams from ARPA if kenlm_model_path is provided and unigrams are still None\n",
    "    if unigrams is None and kenlm_model_path is not None:\n",
    "        if kenlm_model_path.endswith(\".arpa\"):\n",
    "            unigrams = load_unigram_set_from_arpa_utf8(kenlm_model_path)\n",
    "        else:\n",
    "            logger.warning(\n",
    "                \"Unigrams not provided and cannot be automatically determined from LM file (only \"\n",
    "                \"arpa format). Decoding accuracy might be reduced.\"\n",
    "            )\n",
    "\n",
    "    return build_ctcdecoder(labels, kenlm_model_path, unigrams, alpha, beta, unk_score_offset, lm_score_boundary)\n",
    "\n",
    "\n",
    "# Define paths\n",
    "dbin = r\"D:\\ParlaSpeech-HR.v1.0\\ngram_v4.4.bin\"\n",
    "\n",
    "DEFAULT_ALPHA = 0.5\n",
    "DEFAULT_BETA = 1.0\n",
    "DEFAULT_UNK_LOGP_OFFSET = -10.0\n",
    "DEFAULT_SCORE_LM_BOUNDARY = True\n",
    "\n",
    "unigrams_txt_file = r\"D:\\ParlaSpeech-HR.v1.0\\unigrams_v4.4.txt\"  # Specify the path to save unigrams\n",
    "unigrams = load_unigrams_from_txt(unigrams_txt_file)\n",
    "\n",
    "\n",
    "# Build the decoder with labels, kenlm_model_path, and unigrams\n",
    "decoder_bin = build_ctcdecoder_utf8(\n",
    "                                    labels=list(sorted_vocab_dict.keys()),\n",
    "                                    kenlm_model_path=dbin,\n",
    "                                    unigrams=unigrams,\n",
    "                                    alpha=DEFAULT_ALPHA,\n",
    "                                    beta=DEFAULT_BETA,\n",
    "                                    unk_score_offset=DEFAULT_UNK_LOGP_OFFSET,\n",
    "                                    lm_score_boundary=DEFAULT_SCORE_LM_BOUNDARY,\n",
    ")\n",
    "\n",
    "print(f\"\\ndecoder_bin of the lm type is here\\n\")"
   ]
  },
  {
   "cell_type": "markdown",
   "metadata": {
    "jp-MarkdownHeadingCollapsed": true
   },
   "source": [
    "## def load_pretrained_utf8 - Nužno zlo"
   ]
  },
  {
   "cell_type": "code",
   "execution_count": 25,
   "metadata": {
    "execution": {
     "iopub.execute_input": "2024-06-20T18:01:44.497040Z",
     "iopub.status.busy": "2024-06-20T18:01:44.497040Z",
     "iopub.status.idle": "2024-06-20T18:01:44.510896Z",
     "shell.execute_reply": "2024-06-20T18:01:44.509610Z",
     "shell.execute_reply.started": "2024-06-20T18:01:44.497040Z"
    }
   },
   "outputs": [],
   "source": [
    "from transformers import PreTrainedTokenizer, SequenceFeatureExtractor, ProcessorMixin, requires_backends, AutoFeatureExtractor, Wav2Vec2CTCTokenizer, Wav2Vec2ProcessorWithLM\n",
    "from torch import nn\n",
    "import os\n",
    "\n",
    "class Wav2Vec2ProcessorWithLM_UTF8(Wav2Vec2ProcessorWithLM, nn.Module):\n",
    "\n",
    "    feature_extractor_class = \"AutoFeatureExtractor\"\n",
    "    tokenizer_class = \"Wav2Vec2CTCTokenizer\"\n",
    "\n",
    "    @classmethod\n",
    "    def from_pretrained_utf8(cls, pretrained_model_name_or_path, **kwargs):\n",
    "        requires_backends(cls, \"pyctcdecode\")\n",
    "        from pyctcdecode import BeamSearchDecoderCTC\n",
    "\n",
    "        feature_extractor, tokenizer, decoder = super().from_pretrained(pretrained_model_name_or_path, **kwargs)\n",
    "\n",
    "\n",
    "        if os.path.isdir(pretrained_model_name_or_path) or os.path.isfile(pretrained_model_name_or_path):\n",
    "            unigram_encoding = kwargs.get(\"unigram_encoding\", \"utf-8\")\n",
    "            decoder = BeamSearchDecoderCTC.load_from_dir(pretrained_model_name_or_path, unigram_encoding)\n",
    "        else:\n",
    "            kwargs.pop(\"_from_auto\", None)\n",
    "            kwargs.pop(\"trust_remote_code\", None)\n",
    "\n",
    "            language_model_filenames = os.path.join(BeamSearchDecoderCTC._LANGUAGE_MODEL_SERIALIZED_DIRECTORY, \"*\")\n",
    "            alphabet_filename = BeamSearchDecoderCTC._ALPHABET_SERIALIZED_FILENAME\n",
    "            allow_patterns = [language_model_filenames, alphabet_filename]\n",
    "\n",
    "            decoder = BeamSearchDecoderCTC.load_from_hf_hub(\n",
    "                pretrained_model_name_or_path, allow_patterns=allow_patterns, **kwargs\n",
    "            )\n",
    "\n",
    "        # set language model attributes\n",
    "        for attribute in [\"alpha\", \"beta\", \"unk_score_offset\", \"score_boundary\"]:\n",
    "            value = kwargs.pop(attribute, None)\n",
    "            if value is not None:\n",
    "                cls._set_language_model_attribute(decoder, attribute, value)\n",
    "\n",
    "        missing_decoder_tokens = cls.get_missing_alphabet_tokens(decoder, tokenizer)\n",
    "        if len(missing_decoder_tokens) > 0:\n",
    "            raise ValueError(\n",
    "                f\"The tokens {missing_decoder_tokens} are defined in the tokenizer's \"\n",
    "                \"vocabulary, but not in the decoder's alphabet. \"\n",
    "                f\"Make sure to include {missing_decoder_tokens} in the decoder's alphabet.\"\n",
    "            )\n",
    "\n",
    "        return cls(feature_extractor=feature_extractor, tokenizer=tokenizer, decoder=decoder)\n",
    "\n",
    "    @staticmethod\n",
    "    def _get_arguments_from_pretrained(pretrained_model_name_or_path, **kwargs):\n",
    "        feature_extractor = SequenceFeatureExtractor.from_pretrained(pretrained_model_name_or_path, **kwargs)\n",
    "        tokenizer = PreTrainedTokenizer.from_pretrained(pretrained_model_name_or_path, **kwargs)\n",
    "        return feature_extractor, tokenizer\n"
   ]
  },
  {
   "cell_type": "markdown",
   "metadata": {
    "jp-MarkdownHeadingCollapsed": true
   },
   "source": [
    "## Good DecoderCTC_UTF8 yo"
   ]
  },
  {
   "cell_type": "code",
   "execution_count": 24,
   "metadata": {
    "execution": {
     "iopub.execute_input": "2024-06-20T16:20:37.258616Z",
     "iopub.status.busy": "2024-06-20T16:20:37.258616Z",
     "iopub.status.idle": "2024-06-20T16:20:38.067796Z",
     "shell.execute_reply": "2024-06-20T16:20:38.067796Z",
     "shell.execute_reply.started": "2024-06-20T16:20:37.258616Z"
    }
   },
   "outputs": [
    {
     "name": "stdout",
     "output_type": "stream",
     "text": [
      "Copying kenlm model from b'D:\\\\ParlaSpeech-HR.v1.0\\\\ngram_v4.4.bin' to D:\\ASR\\ParlaspeechHR\\wav2vec2-large-slavic-hr-lm-custom\\language_model\\5gram.bin. This may take some time.\n",
      "\n",
      "Processor with LM saved successfully to:\n",
      "    D:\\ASR\\ParlaspeechHR\\wav2vec2-large-slavic-hr-lm-custom\n"
     ]
    }
   ],
   "source": [
    "import os\n",
    "import shutil\n",
    "from transformers import Wav2Vec2ProcessorWithLM\n",
    "\n",
    "class BeamSearchDecoderCTC_UTF8:\n",
    "    def __init__(self, original_decoder):\n",
    "        self._decoder = original_decoder\n",
    "    \n",
    "    def save_to_dir_utf8(self, filepath):\n",
    "        \"\"\"Save the decoder to a directory with UTF-8 encoding.\"\"\"\n",
    "        alphabet_path = os.path.join(filepath, self._decoder._ALPHABET_SERIALIZED_FILENAME)\n",
    "        with open(alphabet_path, \"w\", encoding=\"utf-8\") as fi:\n",
    "            fi.write(self._decoder._alphabet.dumps())\n",
    "\n",
    "        lm = self._decoder._language_model\n",
    "        if lm is None:\n",
    "            print(\"Decoder has no language model.\")\n",
    "        else:\n",
    "            lm_wrapper = LanguageModel_UTF8(lm)\n",
    "            lm_wrapper.save_to_dir_utf8(filepath)\n",
    "\n",
    "# Create a UTF-8 wrapper for saving language model files\n",
    "class LanguageModel_UTF8:\n",
    "    def __init__(self, original_lm):\n",
    "        self._lm = original_lm\n",
    "        self._unigram_set = self._lm._unigram_set\n",
    "        self._attrs = self._lm.serializable_attrs\n",
    "    \n",
    "    def save_to_dir_utf8(self, filepath):\n",
    "        \"\"\"Save the language model to a directory with UTF-8 encoding.\"\"\"\n",
    "        lm_dir = os.path.join(filepath, \"language_model\")\n",
    "        os.makedirs(lm_dir, exist_ok=True)\n",
    "\n",
    "        # Save unigrams\n",
    "        unigrams_path = os.path.join(lm_dir, self._lm._UNIGRAMS_SERIALIZED_FILENAME)\n",
    "        with open(unigrams_path, \"w\", encoding=\"utf-8\") as fi:\n",
    "            for unigram in sorted(self._unigram_set):\n",
    "                fi.write(unigram + \"\\n\")\n",
    "        \n",
    "        # Save attributes\n",
    "        attrs_path = os.path.join(lm_dir, self._lm._ATTRS_SERIALIZED_FILENAME)\n",
    "        with open(attrs_path, \"w\", encoding=\"utf-8\") as fi:\n",
    "            for attr_name, attr_value in self._attrs.items():\n",
    "                fi.write(f\"{attr_name}: {attr_value}\\n\")\n",
    "\n",
    "\n",
    "        ###### CHANGE EXTENTION HERE \n",
    "        # Save kenlm model\n",
    "        kenlm_extentions = \".bin\"\n",
    "        kenlm_name = f\"5gram{kenlm_extentions}\"\n",
    "\n",
    "\n",
    "        \n",
    "        kenlm_path = os.path.join(lm_dir, kenlm_name)\n",
    "        print(f\"Copying kenlm model from {self._lm._kenlm_model.path} to {kenlm_path}. This may take some time.\")\n",
    "        shutil.copy2(self._lm._kenlm_model.path, kenlm_path)\n",
    "\n",
    "# Create a subclass of Wav2Vec2ProcessorWithLM with UTF-8 encoding\n",
    "class Wav2Vec2ProcessorWithLM_UTF8(Wav2Vec2ProcessorWithLM):\n",
    "    def save_pretrained_utf8(self, save_directory):\n",
    "        \"\"\"\n",
    "        Save a model and its configuration file to a directory, with UTF-8 encoding for language model files.\n",
    "        \n",
    "        Args:\n",
    "            save_directory (str): Directory to save the processor.\n",
    "        \"\"\"\n",
    "        if os.path.isfile(save_directory):\n",
    "            logger.error(f\"Provided path ({save_directory}) should be a directory, not a file\")\n",
    "            return\n",
    "        os.makedirs(save_directory, exist_ok=True)\n",
    "\n",
    "        # Save feature extractor and tokenizer\n",
    "        self.feature_extractor.save_pretrained(save_directory)\n",
    "        self.tokenizer.save_pretrained(save_directory)\n",
    "\n",
    "        # Save the decoder using the UTF-8 wrapper method\n",
    "        utf8_decoder = BeamSearchDecoderCTC_UTF8(self.decoder)\n",
    "        utf8_decoder.save_to_dir_utf8(save_directory)\n",
    "\n",
    "        print(f\"\\nProcessor with LM saved successfully to:\\n    {save_directory}\")\n",
    "\n",
    "# Assuming decoder_arpa and processor1 are already built\n",
    "# Create the processor with the existing decoder using our UTF-8 wrapper\n",
    "processor_with_lm = Wav2Vec2ProcessorWithLM_UTF8(\n",
    "                                                feature_extractor=processor1.feature_extractor,\n",
    "                                                tokenizer=processor1.tokenizer,\n",
    "                                                decoder=decoder_bin #CHOOSE HERE decoder_arpa or decoder_bin\n",
    ")\n",
    "\n",
    "save_new_lm_path = r\"D:\\ASR\\ParlaspeechHR\\wav2vec2-large-slavic-hr-lm-custom\"\n",
    "processor_with_lm.save_pretrained_utf8(save_new_lm_path)\n"
   ]
  },
  {
   "cell_type": "code",
   "execution_count": null,
   "metadata": {},
   "outputs": [],
   "source": []
  },
  {
   "cell_type": "code",
   "execution_count": null,
   "metadata": {},
   "outputs": [],
   "source": []
  },
  {
   "cell_type": "code",
   "execution_count": null,
   "metadata": {},
   "outputs": [],
   "source": []
  },
  {
   "cell_type": "markdown",
   "metadata": {
    "jp-MarkdownHeadingCollapsed": true
   },
   "source": [
    "## I THINK DONE WITH LM???? 1min30s from .arpa, basically instant for .bin"
   ]
  },
  {
   "cell_type": "raw",
   "metadata": {
    "execution": {
     "iopub.execute_input": "2024-06-19T14:16:47.224547Z",
     "iopub.status.busy": "2024-06-19T14:16:47.224468Z",
     "iopub.status.idle": "2024-06-19T14:16:47.235688Z",
     "shell.execute_reply": "2024-06-19T14:16:47.235688Z",
     "shell.execute_reply.started": "2024-06-19T14:16:47.224547Z"
    }
   },
   "source": [
    "D:\\ASR\\kenlm\\bin\\Debug\\build_binary D:\\ASR\\ParlaspeechHR\\wav2vec2-large-slavic-hr-lm-custom\\language_model\\ngram_v4.2.arpa D:\\ASR\\ParlaspeechHR\\wav2vec2-large-slavic-hr-lm-custom\\language_model\\ngram_v4.2.bin"
   ]
  },
  {
   "cell_type": "code",
   "execution_count": null,
   "metadata": {},
   "outputs": [],
   "source": []
  },
  {
   "cell_type": "code",
   "execution_count": null,
   "metadata": {},
   "outputs": [],
   "source": []
  },
  {
   "cell_type": "markdown",
   "metadata": {
    "jp-MarkdownHeadingCollapsed": true
   },
   "source": [
    "### JUNK? CHECK LATER"
   ]
  },
  {
   "cell_type": "code",
   "execution_count": null,
   "metadata": {},
   "outputs": [],
   "source": []
  },
  {
   "cell_type": "code",
   "execution_count": 13,
   "metadata": {
    "execution": {
     "iopub.execute_input": "2024-06-18T21:37:36.109286Z",
     "iopub.status.busy": "2024-06-18T21:37:36.106120Z",
     "iopub.status.idle": "2024-06-18T21:37:45.033346Z",
     "shell.execute_reply": "2024-06-18T21:37:45.032330Z",
     "shell.execute_reply.started": "2024-06-18T21:37:36.109286Z"
    }
   },
   "outputs": [
    {
     "name": "stdout",
     "output_type": "stream",
     "text": [
      "Text data written to: D:\\ASR\\kenlm\\data\\audio_transcriptions.txt\n"
     ]
    }
   ],
   "source": [
    "import json\n",
    "import os\n",
    "\n",
    "load_json_name = f\"kenlm_lmplz_to_arpa_{work_version}.json\"\n",
    "path_to_jsonl = r\"D:\\ParlaSpeech-HR.v1.0\"\n",
    "path_to_jsonl = os.path.join(output_json_path, load_json_name)\n",
    "\n",
    "# Set the path to your JSONL file\n",
    "#path_to_jsonl = r\"D:\\ParlaSpeech-HR.v1.0\\ParlaSpeech-HR.v1.0.jsonl\"\n",
    "path_to_ngram = r\"D:\\ASR\\kenlm\\data\\ngram.arpa\"  # Specify the file name for the n-gram model\n",
    "\n",
    "norm_sentences = []\n",
    "\n",
    "# Read the JSONL file line by line\n",
    "try:\n",
    "    with open(path_to_jsonl, 'r', encoding='utf-8') as jsonl_file:\n",
    "        for line in jsonl_file:\n",
    "            try:\n",
    "                data = json.loads(line)\n",
    "                if 'norm_words' in data:\n",
    "                    # Create a sentence with <s> and </s> around each line of norm_words\n",
    "                    sentence = \"<s> \" + \" \".join(data['norm_words']) + \" </s>\"\n",
    "                    norm_sentences.append(sentence)\n",
    "            except json.JSONDecodeError as e:\n",
    "                print(f\"Error decoding JSON: {e}. Skipping line.\")\n",
    "                continue\n",
    "except FileNotFoundError:\n",
    "    print(f\"File not found: {path_to_jsonl}\")\n",
    "    exit(1)\n",
    "\n",
    "# Join sentences with newline characters\n",
    "text_data = \"\\n\".join(norm_sentences)\n",
    "\n",
    "# Specify the output directory and file name\n",
    "output_directory = r\"D:\\ASR\\kenlm\\data\"\n",
    "text_file_name = \"audio_transcriptions.txt\"\n",
    "text_file_path = os.path.join(output_directory, text_file_name)\n",
    "\n",
    "# Ensure the output directory exists before writing\n",
    "if not os.path.exists(output_directory):\n",
    "    os.makedirs(output_directory)\n",
    "\n",
    "# Write the text data to a file\n",
    "try:\n",
    "    with open(text_file_path, \"w\", encoding=\"utf-8\") as f:\n",
    "        f.write(text_data)\n",
    "        print(f\"Text data written to: {text_file_path}\")\n",
    "except OSError as e:\n",
    "    print(f\"Error writing to file: {e}\")\n",
    "\n",
    "# Run the KenLM command\n",
    "# Uncomment the following line once you are ready to execute the command\n",
    "# os.system(f\"./kenlm/build/bin/lmplz -o 5 < {text_file_path} > {path_to_ngram}\")\n"
   ]
  },
  {
   "cell_type": "code",
   "execution_count": 7,
   "metadata": {
    "execution": {
     "iopub.execute_input": "2024-06-18T21:25:24.915818Z",
     "iopub.status.busy": "2024-06-18T21:25:24.915818Z",
     "iopub.status.idle": "2024-06-18T21:25:24.923430Z",
     "shell.execute_reply": "2024-06-18T21:25:24.922697Z",
     "shell.execute_reply.started": "2024-06-18T21:25:24.915818Z"
    }
   },
   "outputs": [
    {
     "name": "stdout",
     "output_type": "stream",
     "text": [
      "audio_transcriptions.txt\n"
     ]
    }
   ],
   "source": [
    "print(text_file_path)"
   ]
  },
  {
   "cell_type": "code",
   "execution_count": null,
   "metadata": {},
   "outputs": [],
   "source": []
  },
  {
   "cell_type": "code",
   "execution_count": 9,
   "metadata": {
    "execution": {
     "iopub.execute_input": "2024-06-18T18:12:04.983955Z",
     "iopub.status.busy": "2024-06-18T18:12:04.983955Z",
     "iopub.status.idle": "2024-06-18T18:12:11.921625Z",
     "shell.execute_reply": "2024-06-18T18:12:11.920633Z",
     "shell.execute_reply.started": "2024-06-18T18:12:04.983955Z"
    }
   },
   "outputs": [
    {
     "name": "stdout",
     "output_type": "stream",
     "text": [
      "Text file generated: D:\\ASR\\kenlm\\data\\audio_transcriptions.txt\n"
     ]
    }
   ],
   "source": [
    "import jsonlines\n",
    "\n",
    "# Path to your JSONL file\n",
    "jsonl_file = r\"D:\\ParlaSpeech-HR.v1.0\\ParlaSpeech-HR.v1.0.jsonl\"\n",
    "\n",
    "# Path where you want to save the text file\n",
    "output_file = r\"D:\\ASR\\kenlm\\data\\audio_transcriptions.txt\"\n",
    "\n",
    "# Function to preprocess each transcription\n",
    "def preprocess_transcriptions(jsonl_file):\n",
    "    sentences = []\n",
    "    with jsonlines.open(jsonl_file) as reader:\n",
    "        for line in reader:\n",
    "            norm_words = line.get('norm_words', [])\n",
    "            if norm_words:\n",
    "                sentence = ' '.join(norm_words)\n",
    "                sentences.append(sentence)\n",
    "    return sentences\n",
    "\n",
    "# Generate the text content\n",
    "text_content = preprocess_transcriptions(jsonl_file)\n",
    "\n",
    "# Function to add <s> and </s> tokens\n",
    "def add_sos_eos(sentences):\n",
    "    preprocessed_sentences = []\n",
    "    for sentence in sentences:\n",
    "        tokens = ['<s>'] + sentence.split() + ['</s>']\n",
    "        preprocessed_sentences.append(' '.join(tokens))\n",
    "    return preprocessed_sentences\n",
    "\n",
    "# Preprocess sentences\n",
    "preprocessed_sentences = add_sos_eos(text_content)\n",
    "\n",
    "# Write to file\n",
    "with open(output_file, 'w', encoding='utf-8') as file:\n",
    "    file.write('\\n'.join(preprocessed_sentences))\n",
    "\n",
    "print(f\"Text file generated: {output_file}\")\n"
   ]
  },
  {
   "cell_type": "markdown",
   "metadata": {},
   "source": [
    "odi u command prompt i rokni:\n",
    "\n",
    "D:/ASR/kenlm/bin/Debug/lmplz -o 5 -S 80% < D:/ASR/kenlm/data/audio_transcriptions.txt > D:/ASR/kenlm/data/5gram.arpa"
   ]
  },
  {
   "cell_type": "code",
   "execution_count": 12,
   "metadata": {
    "execution": {
     "iopub.execute_input": "2024-06-18T18:25:26.506077Z",
     "iopub.status.busy": "2024-06-18T18:25:26.506077Z",
     "iopub.status.idle": "2024-06-18T18:25:27.597591Z",
     "shell.execute_reply": "2024-06-18T18:25:27.597591Z",
     "shell.execute_reply.started": "2024-06-18T18:25:26.506077Z"
    }
   },
   "outputs": [
    {
     "ename": "TypeError",
     "evalue": "__init__() takes at least 1 positional argument (0 given)",
     "output_type": "error",
     "traceback": [
      "\u001b[1;31m---------------------------------------------------------------------------\u001b[0m",
      "\u001b[1;31mTypeError\u001b[0m                                 Traceback (most recent call last)",
      "Cell \u001b[1;32mIn[12], line 38\u001b[0m\n\u001b[0;32m     35\u001b[0m text_content \u001b[38;5;241m=\u001b[39m read_and_preprocess_data(input_file)\n\u001b[0;32m     37\u001b[0m \u001b[38;5;66;03m# Train the language model\u001b[39;00m\n\u001b[1;32m---> 38\u001b[0m model \u001b[38;5;241m=\u001b[39m kenlm\u001b[38;5;241m.\u001b[39mLanguageModel()\n\u001b[0;32m     39\u001b[0m \u001b[38;5;28;01mfor\u001b[39;00m sentence \u001b[38;5;129;01min\u001b[39;00m text_content:\n\u001b[0;32m     40\u001b[0m     model\u001b[38;5;241m.\u001b[39mtrain(sentence, max_order\u001b[38;5;241m=\u001b[39m\u001b[38;5;241m5\u001b[39m)\n",
      "File \u001b[1;32mkenlm.pyx:130\u001b[0m, in \u001b[0;36mkenlm.Model.__init__\u001b[1;34m()\u001b[0m\n",
      "\u001b[1;31mTypeError\u001b[0m: __init__() takes at least 1 positional argument (0 given)"
     ]
    }
   ],
   "source": [
    "import kenlm\n",
    "\n",
    "# Paths to your data and output files\n",
    "input_file = r\"D:\\ASR\\kenlm\\data\\audio_transcriptions.txt\"\n",
    "output_file = r\"D:\\ASR\\kenlm\\data\\5gram.arpa\"\n",
    "\n",
    "# Function to preprocess each transcription\n",
    "def preprocess_transcription(transcription):\n",
    "    sentences = []\n",
    "    for sentence in transcription:\n",
    "        tokens = ['<s>'] + sentence + ['</s>']  # Add <s> and </s> tokens\n",
    "        sentences.append(' '.join(tokens))\n",
    "    return sentences\n",
    "\n",
    "# Read and preprocess the data\n",
    "def read_and_preprocess_data(input_file):\n",
    "    with open(input_file, 'r', encoding='utf-8') as file:\n",
    "        lines = file.readlines()\n",
    "    \n",
    "    audio_transcriptions = {}\n",
    "    for line in lines:\n",
    "        parts = line.strip().split(' ')  # Assuming space-separated words\n",
    "        filename = parts[0]\n",
    "        transcription = parts[1:]  # Assuming the rest are words\n",
    "        audio_transcriptions[filename] = transcription\n",
    "\n",
    "    # Preprocess transcriptions\n",
    "    text_content = []\n",
    "    for filename, transcription in audio_transcriptions.items():\n",
    "        text_content.extend(preprocess_transcription([transcription]))\n",
    "\n",
    "    return text_content\n",
    "\n",
    "# Get preprocessed data\n",
    "text_content = read_and_preprocess_data(input_file)\n",
    "\n",
    "# Train the language model\n",
    "model = kenlm.LanguageModel()\n",
    "for sentence in text_content:\n",
    "    model.train(sentence, max_order=5)\n",
    "\n",
    "# Save the ARPA file\n",
    "model.write(output_file)\n"
   ]
  },
  {
   "cell_type": "code",
   "execution_count": 1,
   "metadata": {
    "execution": {
     "iopub.execute_input": "2024-06-18T17:34:45.862940Z",
     "iopub.status.busy": "2024-06-18T17:34:45.861942Z",
     "iopub.status.idle": "2024-06-18T17:34:46.347159Z",
     "shell.execute_reply": "2024-06-18T17:34:46.347159Z",
     "shell.execute_reply.started": "2024-06-18T17:34:45.862940Z"
    }
   },
   "outputs": [
    {
     "ename": "OSError",
     "evalue": "Cannot read model 'D:\\ASR\\kenlm\\data\\5gram.arpa' (lm\\vocab.cc:305 in lm::ngram::MissingSentenceMarker threw SpecialWordMissingException. The ARPA file is missing </s> and the model is configured to reject these models.  Run build_binary -s to disable this check. Byte: 10253370)",
     "output_type": "error",
     "traceback": [
      "\u001b[1;31m---------------------------------------------------------------------------\u001b[0m",
      "\u001b[1;31mRuntimeError\u001b[0m                              Traceback (most recent call last)",
      "File \u001b[1;32mkenlm.pyx:139\u001b[0m, in \u001b[0;36mkenlm.Model.__init__\u001b[1;34m()\u001b[0m\n",
      "\u001b[1;31mRuntimeError\u001b[0m: lm\\vocab.cc:305 in lm::ngram::MissingSentenceMarker threw SpecialWordMissingException.\nThe ARPA file is missing </s> and the model is configured to reject these models.  Run build_binary -s to disable this check. Byte: 10253370",
      "\nThe above exception was the direct cause of the following exception:\n",
      "\u001b[1;31mOSError\u001b[0m                                   Traceback (most recent call last)",
      "Cell \u001b[1;32mIn[1], line 9\u001b[0m\n\u001b[0;32m      6\u001b[0m kenlm_data_base \u001b[38;5;241m=\u001b[39m \u001b[38;5;124mr\u001b[39m\u001b[38;5;124m\"\u001b[39m\u001b[38;5;124mD:\u001b[39m\u001b[38;5;124m\\\u001b[39m\u001b[38;5;124mASR\u001b[39m\u001b[38;5;124m\\\u001b[39m\u001b[38;5;124mkenlm\u001b[39m\u001b[38;5;124m\\\u001b[39m\u001b[38;5;124mdata\u001b[39m\u001b[38;5;124m\"\u001b[39m\n\u001b[0;32m      8\u001b[0m \u001b[38;5;66;03m# Load the .arpa file\u001b[39;00m\n\u001b[1;32m----> 9\u001b[0m model_kenln \u001b[38;5;241m=\u001b[39m kenlm\u001b[38;5;241m.\u001b[39mModel(os\u001b[38;5;241m.\u001b[39mpath\u001b[38;5;241m.\u001b[39mjoin(kenlm_data_base, \u001b[38;5;124m\"\u001b[39m\u001b[38;5;124m5gram.arpa\u001b[39m\u001b[38;5;124m\"\u001b[39m))\n\u001b[0;32m     11\u001b[0m \u001b[38;5;66;03m# Save it as a binary file\u001b[39;00m\n\u001b[0;32m     12\u001b[0m model_kenln\u001b[38;5;241m.\u001b[39msave(os\u001b[38;5;241m.\u001b[39mpath\u001b[38;5;241m.\u001b[39mjoin(kenlm_data_base, \u001b[38;5;124m\"\u001b[39m\u001b[38;5;124m5gram.bin\u001b[39m\u001b[38;5;124m\"\u001b[39m))\n",
      "File \u001b[1;32mkenlm.pyx:142\u001b[0m, in \u001b[0;36mkenlm.Model.__init__\u001b[1;34m()\u001b[0m\n",
      "\u001b[1;31mOSError\u001b[0m: Cannot read model 'D:\\ASR\\kenlm\\data\\5gram.arpa' (lm\\vocab.cc:305 in lm::ngram::MissingSentenceMarker threw SpecialWordMissingException. The ARPA file is missing </s> and the model is configured to reject these models.  Run build_binary -s to disable this check. Byte: 10253370)"
     ]
    }
   ],
   "source": [
    "# CONVERT .arpa to .bin\n",
    "\n",
    "import kenlm\n",
    "import os\n",
    "\n",
    "kenlm_data_base = r\"D:\\ASR\\kenlm\\data\"\n",
    "\n",
    "# Load the .arpa file\n",
    "model_kenln = kenlm.Model(os.path.join(kenlm_data_base, \"5gram.arpa\"))\n",
    "\n",
    "# Save it as a binary file\n",
    "model_kenln.save(os.path.join(kenlm_data_base, \"5gram.bin\"))\n",
    "print(f\"success.\")"
   ]
  },
  {
   "cell_type": "markdown",
   "metadata": {
    "id": "7bkH_9mFRi5n"
   },
   "source": [
    "## [2] Defining all paths"
   ]
  },
  {
   "cell_type": "code",
   "execution_count": 4,
   "metadata": {
    "execution": {
     "iopub.execute_input": "2024-06-20T18:20:49.638569Z",
     "iopub.status.busy": "2024-06-20T18:20:49.638569Z",
     "iopub.status.idle": "2024-06-20T18:20:49.641158Z",
     "shell.execute_reply": "2024-06-20T18:20:49.641158Z",
     "shell.execute_reply.started": "2024-06-20T18:20:49.638569Z"
    },
    "executionInfo": {
     "elapsed": 2,
     "status": "ok",
     "timestamp": 1718358968575,
     "user": {
      "displayName": "Ivan Porupski",
      "userId": "03127310887960034948"
     },
     "user_tz": -120
    },
    "id": "PnFUfYq5HPsy"
   },
   "outputs": [],
   "source": [
    "path_to_pshr_raw_audio_data = r\"D:\\ParlaSpeech-HR.v1.0\\raw\"\n",
    "path_to_pshr_raw_jsonl = r\"D:\\ParlaSpeech-HR.v1.0\\ParlaSpeech-HR.v1.0.jsonl\"\n",
    "\n",
    "path_to_pshr_models = r\"D:\\ASR\\ParlaspeechHR\"\n",
    "path_to_pshr_wav2vec2_l = r\"D:\\ASR\\ParlaspeechHR\\wav2vec2-large-slavic-hr\"\n",
    "#path_to_pshr_wav2vec2_l_lm = r\"D:\\ASR\\ParlaspeechHR\\wav2vec2-large-slavic-hr-lm\"\n",
    "path_to_pshr_wav2vec2_l_lm = r\"D:\\ASR\\ParlaspeechHR\\wav2vec2-large-slavic-hr-lm-custom\"\n",
    "\n",
    "test_audio_path = r\"D:\\ASR\\ParlaspeechHR\\wav2vec2-large-slavic-hr-lm\\nela_film_review.ogg\""
   ]
  },
  {
   "cell_type": "code",
   "execution_count": 5,
   "metadata": {
    "execution": {
     "iopub.execute_input": "2024-06-20T18:20:50.085862Z",
     "iopub.status.busy": "2024-06-20T18:20:50.085862Z",
     "iopub.status.idle": "2024-06-20T18:20:50.089887Z",
     "shell.execute_reply": "2024-06-20T18:20:50.089887Z",
     "shell.execute_reply.started": "2024-06-20T18:20:50.085862Z"
    }
   },
   "outputs": [
    {
     "name": "stdout",
     "output_type": "stream",
     "text": [
      "['.gitattributes', '00020570a.flac.wav', '00020578b.flac.wav', '1800.m4a', 'alphabet.json', 'config.json', 'drag_out_lm-less_configs.7z', 'language_model', 'preprocessor_config.json', 'pytorch_model.bin', 'README.md', 'rng_state.pth', 'scaler.pt', 'scheduler.pt', 'special_tokens_map.json', 'tokenizer_config.json', 'trainer_state.json', 'training_args.bin', 'unigrams.txt', 'vocab.json']\n"
     ]
    }
   ],
   "source": [
    "import os\n",
    "print(os.listdir(path_to_pshr_wav2vec2_l_lm))"
   ]
  },
  {
   "cell_type": "code",
   "execution_count": 6,
   "metadata": {
    "colab": {
     "base_uri": "https://localhost:8080/"
    },
    "execution": {
     "iopub.execute_input": "2024-06-20T18:20:50.589877Z",
     "iopub.status.busy": "2024-06-20T18:20:50.589877Z",
     "iopub.status.idle": "2024-06-20T18:20:50.592623Z",
     "shell.execute_reply": "2024-06-20T18:20:50.592623Z",
     "shell.execute_reply.started": "2024-06-20T18:20:50.589877Z"
    },
    "executionInfo": {
     "elapsed": 2210,
     "status": "ok",
     "timestamp": 1718358996758,
     "user": {
      "displayName": "Ivan Porupski",
      "userId": "03127310887960034948"
     },
     "user_tz": -120
    },
    "id": "aDFTbiSfHyu9",
    "outputId": "828f1e69-1cba-46eb-a187-0ad01bc92414"
   },
   "outputs": [],
   "source": [
    "# # Mount gdrive and place path (private, no download)\n",
    "# from google.colab import drive\n",
    "# drive.mount(\"/content/drive\")\n",
    "\n",
    "# model_file_path = \"/content/drive/MyDrive/pytorch/wav2vec2-large-slavic-hr\"\n",
    "# output_folder = \"/content/drive/MyDrive/pytorch/wav2vec2-large-slavic-hr/temp\"\n",
    "\n",
    "# model_file_path_lm = \"/content/drive/MyDrive/pytorch/wav2vec2-large-slavic-hr-lm\"\n",
    "# output_folder_lm = \"/content/drive/MyDrive/pytorch/wav2vec2-large-slavic-hr-lm/temp\""
   ]
  },
  {
   "cell_type": "markdown",
   "metadata": {
    "id": "hKlYE54RRsUH",
    "jp-MarkdownHeadingCollapsed": true
   },
   "source": [
    "## [3] Downloading wav2vec2 (plain or WithLM)"
   ]
  },
  {
   "cell_type": "code",
   "execution_count": 5,
   "metadata": {
    "colab": {
     "base_uri": "https://localhost:8080/"
    },
    "execution": {
     "iopub.execute_input": "2024-06-19T14:41:56.200679Z",
     "iopub.status.busy": "2024-06-19T14:41:56.200679Z",
     "iopub.status.idle": "2024-06-19T14:41:56.211408Z",
     "shell.execute_reply": "2024-06-19T14:41:56.211408Z",
     "shell.execute_reply.started": "2024-06-19T14:41:56.200679Z"
    },
    "executionInfo": {
     "elapsed": 298,
     "status": "ok",
     "timestamp": 1718359439487,
     "user": {
      "displayName": "Ivan Porupski",
      "userId": "03127310887960034948"
     },
     "user_tz": -120
    },
    "id": "65WVbDBfIgUw",
    "outputId": "16f08152-bfbd-4c0f-d16a-334b4fdaef48"
   },
   "outputs": [
    {
     "name": "stdout",
     "output_type": "stream",
     "text": [
      "wav2vec2-large-slavic-parlaspeech-hr already exists.\n",
      "wav2vec2-large-slavic-parlaspeech-hr-lm already exists.\n",
      "\n",
      "Using non model from path: D:\\ASR\\ParlaspeechHR\\wav2vec2-large-slavic-hr\n",
      "Using LM model from path: D:\\ASR\\ParlaspeechHR\\wav2vec2-large-slavic-hr-lm\n",
      "\n",
      "Running locally, BOTH GOOD, good luck\n"
     ]
    }
   ],
   "source": [
    "import os\n",
    "import subprocess\n",
    "\n",
    "if google_colabbing:\n",
    "    from google.colab import drive\n",
    "    drive.mount(\"/content/drive\")\n",
    "\n",
    "    # Check if the directory exists\n",
    "    if not os.path.exists(\"/content/wav2vec2-large-slavic-parlaspeech-hr\"):\n",
    "        # Clone the repository if it doesn't exist\n",
    "        print(f\"Downloading to GDRIVE ~2 GB! /wav2vec2-large-slavic-parlaspeech-hr\")\n",
    "        subprocess.run(\"git clone https://huggingface.co/classla/wav2vec2-large-slavic-parlaspeech-hr\", shell=True, check=True)\n",
    "        os.makedirs(\"/content/wav2vec2-large-slavic-parlaspeech-hr/temp\", exist_ok=True)\n",
    "    else:\n",
    "        print(\"wav2vec2-large-slavic-parlaspeech-hr already exists.\")\n",
    "\n",
    "    model_file_path = \"/content/wav2vec2-large-slavic-parlaspeech-hr\"\n",
    "    print(f\"\\nUsing model from path: {model_file_path}\")\n",
    "\n",
    "else:\n",
    "    path_to_pshr_wav2vec2_l = r\"D:\\ASR\\ParlaspeechHR\\wav2vec2-large-slavic-hr\"\n",
    "    path_to_pshr_wav2vec2_l_lm = r\"D:\\ASR\\ParlaspeechHR\\wav2vec2-large-slavic-hr-lm\"\n",
    "\n",
    "    # Check if the directories exist and clone if they don't\n",
    "    if not os.path.exists(path_to_pshr_wav2vec2_l):\n",
    "        print(f\"Downloading LOCALLY ~2 GB! /wav2vec2-large-slavic-parlaspeech-hr\")\n",
    "        subprocess.run(f\"git clone https://huggingface.co/classla/wav2vec2-large-slavic-parlaspeech-hr {path_to_pshr_wav2vec2_l}\", shell=True, check=True)\n",
    "        os.makedirs(f\"{path_to_pshr_wav2vec2_l}/temp\", exist_ok=True)\n",
    "    else:\n",
    "        print(\"wav2vec2-large-slavic-parlaspeech-hr already exists.\")\n",
    "\n",
    "    if not os.path.exists(path_to_pshr_wav2vec2_l_lm):\n",
    "        print(f\"Downloading LOCALLY ~2 GB! /wav2vec2-large-slavic-parlaspeech-hr-LM\")\n",
    "        subprocess.run(f\"git clone https://huggingface.co/classla/wav2vec2-large-slavic-parlaspeech-hr-lm {path_to_pshr_wav2vec2_l_lm}\", shell=True, check=True)\n",
    "        os.makedirs(f\"{path_to_pshr_wav2vec2_l_lm}/temp\", exist_ok=True)\n",
    "    else:\n",
    "        print(\"wav2vec2-large-slavic-parlaspeech-hr-lm already exists.\")\n",
    "\n",
    "    model_file_path = path_to_pshr_wav2vec2_l\n",
    "    model_lm_file_path = path_to_pshr_wav2vec2_l_lm\n",
    "    print(f\"\\nUsing non model from path: {model_file_path}\")\n",
    "    print(f\"Using LM model from path: {model_lm_file_path}\\n\")\n",
    "\n",
    "print(\"Running locally, BOTH GOOD, good luck\")\n"
   ]
  },
  {
   "cell_type": "markdown",
   "metadata": {
    "id": "ay3Tr6dBR0gn"
   },
   "source": [
    "## [4] Initilize the model!"
   ]
  },
  {
   "cell_type": "code",
   "execution_count": 7,
   "metadata": {
    "execution": {
     "iopub.execute_input": "2024-06-20T18:20:52.910243Z",
     "iopub.status.busy": "2024-06-20T18:20:52.910243Z",
     "iopub.status.idle": "2024-06-20T18:20:52.913500Z",
     "shell.execute_reply": "2024-06-20T18:20:52.913500Z",
     "shell.execute_reply.started": "2024-06-20T18:20:52.910243Z"
    }
   },
   "outputs": [
    {
     "name": "stdout",
     "output_type": "stream",
     "text": [
      "\n",
      "Using non model from path: D:\\ASR\\ParlaspeechHR\\wav2vec2-large-slavic-hr\n",
      "Using LM model from path: D:\\ASR\\ParlaspeechHR\\wav2vec2-large-slavic-hr-lm-custom\n",
      "\n"
     ]
    }
   ],
   "source": [
    "model_file_path = path_to_pshr_wav2vec2_l\n",
    "model_lm_file_path = path_to_pshr_wav2vec2_l_lm\n",
    "print(f\"\\nUsing non model from path: {model_file_path}\")\n",
    "print(f\"Using LM model from path: {model_lm_file_path}\\n\")\n"
   ]
  },
  {
   "cell_type": "code",
   "execution_count": 8,
   "metadata": {
    "execution": {
     "iopub.execute_input": "2024-06-20T18:20:55.349961Z",
     "iopub.status.busy": "2024-06-20T18:20:55.349961Z",
     "iopub.status.idle": "2024-06-20T18:20:55.355840Z",
     "shell.execute_reply": "2024-06-20T18:20:55.355840Z",
     "shell.execute_reply.started": "2024-06-20T18:20:55.349961Z"
    }
   },
   "outputs": [],
   "source": [
    "import json\n",
    "import os\n",
    "\n",
    "# Load configurations\n",
    "config_file_path = os.path.join(model_file_path, \"config.json\")\n",
    "config_lm_file_path = os.path.join(model_lm_file_path, \"config.json\")\n",
    "\n",
    "tokenizer_config_file = os.path.join(model_file_path, \"tokenizer_config.json\")\n",
    "tokenizer_config_lm_file = os.path.join(model_lm_file_path, \"tokenizer_config.json\")\n",
    "\n",
    "vocab_file = os.path.join(model_file_path, \"vocab.json\")\n",
    "vocab_lm_file = os.path.join(model_lm_file_path, \"vocab.json\")\n",
    "\n",
    "special_tokens_map_file = os.path.join(model_file_path, \"special_tokens_map.json\")\n",
    "special_tokens_map_lm_file = os.path.join(model_lm_file_path, \"special_tokens_map.json\")\n",
    "\n",
    "# Load tokenizer config for non-language model\n",
    "with open(tokenizer_config_file, 'r') as file:\n",
    "    tokenizer_config = json.load(file)\n",
    "\n",
    "# Extract special tokens and other configuration settings for non-language model\n",
    "unk_token = tokenizer_config.get(\"unk_token\", \"[UNK]\")\n",
    "pad_token = tokenizer_config.get(\"pad_token\", \"<pad>\")\n",
    "word_delimiter_token = tokenizer_config.get(\"word_delimiter_token\", \" \")\n",
    "\n",
    "# Load tokenizer config for language model\n",
    "with open(tokenizer_config_lm_file, 'r') as file:\n",
    "    tokenizer_config_lm = json.load(file)\n",
    "\n",
    "# Extract special tokens and other configuration settings for language model\n",
    "unk_token_lm = tokenizer_config_lm.get(\"unk_token\", \"[UNK]\")\n",
    "pad_token_lm = tokenizer_config_lm.get(\"pad_token\", \"<pad>\")\n",
    "word_delimiter_token_lm = tokenizer_config_lm.get(\"word_delimiter_token\", \" \")\n",
    "\n"
   ]
  },
  {
   "cell_type": "markdown",
   "metadata": {
    "jp-MarkdownHeadingCollapsed": true
   },
   "source": [
    "### Make LM Unigram.txt because it's missing"
   ]
  },
  {
   "cell_type": "code",
   "execution_count": 147,
   "metadata": {
    "execution": {
     "iopub.execute_input": "2024-06-18T14:37:27.302953Z",
     "iopub.status.busy": "2024-06-18T14:37:27.302953Z",
     "iopub.status.idle": "2024-06-18T14:37:55.560274Z",
     "shell.execute_reply": "2024-06-18T14:37:55.560274Z",
     "shell.execute_reply.started": "2024-06-18T14:37:27.302953Z"
    }
   },
   "outputs": [
    {
     "name": "stdout",
     "output_type": "stream",
     "text": [
      "Unique unigrams saved to D:\\ASR\\ParlaspeechHR\\unigrams_raw.txt\n"
     ]
    }
   ],
   "source": [
    "import string\n",
    "import nltk\n",
    "import os\n",
    "from nltk.tokenize import word_tokenize\n",
    "\n",
    "# Function to clean and tokenize text using NLTK\n",
    "def clean_and_tokenize_text(file_path):\n",
    "    # Read the file with 'utf-8' encoding\n",
    "    with open(file_path, 'r', encoding='utf-8') as f:\n",
    "        text = f.read()\n",
    "    \n",
    "    # Clean punctuation, convert to lowercase, and tokenize using NLTK\n",
    "    translator = str.maketrans(string.punctuation, ' ' * len(string.punctuation))\n",
    "    cleaned_text = text.translate(translator).lower()\n",
    "    tokens = word_tokenize(cleaned_text)\n",
    "    \n",
    "    # Get unique tokens\n",
    "    unique_tokens = set(tokens)\n",
    "    \n",
    "    return unique_tokens\n",
    "\n",
    "# Paths\n",
    "path_to_pshr_models = r\"D:\\ASR\\ParlaspeechHR\"\n",
    "input_text_file = os.path.join(path_to_pshr_models, \"blok_teksta_jedan_ParlaSpeech-HR.v1.2.txt\")\n",
    "output_unigrams_file = os.path.join(path_to_pshr_models, \"unigrams_raw.txt\")\n",
    "\n",
    "# Clean and tokenize text using NLTK\n",
    "unique_tokens = clean_and_tokenize_text(input_text_file)\n",
    "\n",
    "# Write unique tokens to unigrams.txt with 'utf-8' encoding\n",
    "with open(output_unigrams_file, 'w', encoding='utf-8') as f:\n",
    "    for token in unique_tokens:\n",
    "        f.write(token + '\\n')\n",
    "\n",
    "print(f\"Unique unigrams saved to {output_unigrams_file}\")\n"
   ]
  },
  {
   "cell_type": "code",
   "execution_count": 124,
   "metadata": {
    "execution": {
     "iopub.execute_input": "2024-06-18T13:53:15.986015Z",
     "iopub.status.busy": "2024-06-18T13:53:15.986015Z",
     "iopub.status.idle": "2024-06-18T13:53:15.989007Z",
     "shell.execute_reply": "2024-06-18T13:53:15.989007Z",
     "shell.execute_reply.started": "2024-06-18T13:53:15.986015Z"
    }
   },
   "outputs": [
    {
     "name": "stdout",
     "output_type": "stream",
     "text": [
      "D:\\ASR\\ParlaspeechHR\\unigrams_raw.txt\n"
     ]
    }
   ],
   "source": [
    "print(unigrams_file)"
   ]
  },
  {
   "cell_type": "code",
   "execution_count": 149,
   "metadata": {
    "execution": {
     "iopub.execute_input": "2024-06-18T15:38:22.402762Z",
     "iopub.status.busy": "2024-06-18T15:38:22.399770Z",
     "iopub.status.idle": "2024-06-18T15:38:22.451381Z",
     "shell.execute_reply": "2024-06-18T15:38:22.449389Z",
     "shell.execute_reply.started": "2024-06-18T15:38:22.402762Z"
    }
   },
   "outputs": [
    {
     "name": "stdout",
     "output_type": "stream",
     "text": [
      "5-gram language model saved to D:\\ASR\\ParlaspeechHR\\5gram.bin\n"
     ]
    }
   ],
   "source": [
    "import os\n",
    "\n",
    "# Path to KenLM and where to save the n-gram language model files\n",
    "path_to_kenlm = r\"./kenlm/build/bin\"\n",
    "path_to_ngram = os.path.join(path_to_pshr_models, \"5gram.bin\")\n",
    "path_to_unigrams = os.path.join(path_to_pshr_models, \"unigrams.txt\")\n",
    "\n",
    "# Command to create the language model using KenLM\n",
    "kenlm_command = f\"{path_to_kenlm}/lmplz -o 5 < {path_to_unigrams} > {path_to_ngram}\"\n",
    "\n",
    "# Execute the KenLM command\n",
    "os.system(kenlm_command)\n",
    "\n",
    "print(f\"5-gram language model saved to {path_to_ngram}\")\n"
   ]
  },
  {
   "cell_type": "code",
   "execution_count": null,
   "metadata": {},
   "outputs": [],
   "source": []
  },
  {
   "cell_type": "code",
   "execution_count": null,
   "metadata": {},
   "outputs": [],
   "source": []
  },
  {
   "cell_type": "code",
   "execution_count": 146,
   "metadata": {
    "execution": {
     "iopub.execute_input": "2024-06-18T14:33:15.152564Z",
     "iopub.status.busy": "2024-06-18T14:33:15.152564Z",
     "iopub.status.idle": "2024-06-18T14:33:15.764654Z",
     "shell.execute_reply": "2024-06-18T14:33:15.764090Z",
     "shell.execute_reply.started": "2024-06-18T14:33:15.152564Z"
    }
   },
   "outputs": [
    {
     "name": "stdout",
     "output_type": "stream",
     "text": [
      "Number of unique characters in D:\\ASR\\ParlaspeechHR\\unigrams_raw.txt: 63\n",
      "Number of unique usable characters in D:\\ASR\\ParlaspeechHR\\unigrams_raw.txt: 44\n",
      "\n",
      "{'ä', '6', 'x', '2', 'a', 'z', 'l', 'ӧ', '4', 'č', 'n', 's', 'ž', 'h', 'k', 'p', 'š', 'đ', 'g', 'b', 'ü', '9', '8', 'j', 't', 'u', 'e', '7', 'i', 'r', '3', 'w', 'v', 'q', '5', 'c', 'ć', '1', '0', 'y', 'f', 'm', 'o', 'd'}\n",
      "\n",
      "Filtered unigrams saved to D:\\ASR\\ParlaspeechHR\\wav2vec2-large-slavic-hr-lm\\language_model\\unigrams.txt.\n",
      "\n",
      "Number of unique usable characters in D:\\ASR\\ParlaspeechHR\\wav2vec2-large-slavic-hr-lm\\language_model\\unigrams.txt: 44\n",
      "\n",
      "['0', '1', '2', '3', '4', '5', '6', '7', '8', '9', 'a', 'b', 'c', 'd', 'e', 'f', 'g', 'h', 'i', 'j', 'k', 'l', 'm', 'n', 'o', 'p', 'q', 'r', 's', 't', 'u', 'v', 'w', 'x', 'y', 'z', 'ä', 'ü', 'ć', 'č', 'đ', 'š', 'ž', 'ӧ']\n"
     ]
    }
   ],
   "source": [
    "import json\n",
    "import os\n",
    "\n",
    "if output_unigrams_file:\n",
    "    unigrams_file = output_unigrams_file\n",
    "else:\n",
    "    unigrams_file = r\"D:\\ASR\\ParlaspeechHR\\unigrams_raw.txt\"\n",
    "    \n",
    "unigrams2_file = r\"D:\\ASR\\ParlaspeechHR\\wav2vec2-large-slavic-hr-lm\\language_model\\unigrams.txt\"\n",
    "\n",
    "# Initialize an empty set to store unique characters\n",
    "unique_characters = set()\n",
    "\n",
    "# Load vocabulary from vocab.json\n",
    "with open(vocab_lm_file, 'r', encoding='utf-8') as f:\n",
    "    vocab_data = json.load(f)\n",
    "\n",
    "# Extract usable characters from vocab.json\n",
    "usable_characters = set(vocab_data.keys())\n",
    "\n",
    "# Initialize an empty set to store filtered unique characters\n",
    "unique_characters_filtered = set()\n",
    "\n",
    "# Open the unigrams.txt file and read each line\n",
    "with open(unigrams_file, 'r', encoding='utf-8') as f:\n",
    "    for line in f:\n",
    "        line = line.strip().lower()  # Remove leading/trailing whitespace and convert to lowercase\n",
    "        for char in line:\n",
    "            if char in usable_characters:\n",
    "                unique_characters_filtered.add(char)  # Add character to filtered set if it's usable\n",
    "\n",
    "# Count the number of unique usable characters\n",
    "num_unique_characters_filtered = len(unique_characters_filtered)\n",
    "\n",
    "print(f\"Number of unique characters in {unigrams_file}: {num_unique_characters}\")\n",
    "print(f\"Number of unique usable characters in {unigrams_file}: {num_unique_characters_filtered}\\n\")\n",
    "\n",
    "print(unique_characters_filtered)\n",
    "\n",
    "\n",
    "# Open unigrams.txt for reading and unigrams2.txt for writing\n",
    "with open(unigrams_file, 'r', encoding='utf-8') as f_in, open(unigrams2_file, 'w', encoding='utf-8') as f_out:\n",
    "    for line in f_in:\n",
    "        line_filtered = []\n",
    "        for char in line.strip().lower():  # Remove leading/trailing whitespace and convert to lowercase\n",
    "            if char in unique_characters_filtered:\n",
    "                line_filtered.append(char)\n",
    "        filtered_line = ''.join(line_filtered)\n",
    "        f_out.write(filtered_line + '\\n')\n",
    "\n",
    "print(f\"\\nFiltered unigrams saved to {unigrams2_file}.\\n\")\n",
    "\n",
    "\n",
    "\n",
    "### CHECKING AGAIN\n",
    "# Open the unigrams.txt file and read each line\n",
    "with open(unigrams2_file, 'r', encoding='utf-8') as f:\n",
    "    for line in f:\n",
    "        line = line.strip().lower()  # Remove leading/trailing whitespace and convert to lowercase\n",
    "        for char in line:\n",
    "            if char in usable_characters:\n",
    "                unique_characters_filtered.add(char)  # Add character to filtered set if it's usable\n",
    "\n",
    "# Count the number of unique usable characters\n",
    "num_unique_characters_filtered = len(unique_characters_filtered)\n",
    "\n",
    "print(f\"Number of unique usable characters in {unigrams2_file}: {num_unique_characters_filtered}\\n\")\n",
    "\n",
    "print(sorted(unique_characters_filtered))"
   ]
  },
  {
   "cell_type": "code",
   "execution_count": 142,
   "metadata": {
    "execution": {
     "iopub.execute_input": "2024-06-18T14:24:25.417419Z",
     "iopub.status.busy": "2024-06-18T14:24:25.417419Z",
     "iopub.status.idle": "2024-06-18T14:24:26.621059Z",
     "shell.execute_reply": "2024-06-18T14:24:26.620668Z",
     "shell.execute_reply.started": "2024-06-18T14:24:25.417419Z"
    }
   },
   "outputs": [
    {
     "name": "stdout",
     "output_type": "stream",
     "text": [
      "Characters to remove: ['0', '1', '2', '3', '4', '5', '6', '7', '8', '9', 'ä', 'ü', 'ӧ']\n",
      "\n",
      "Filtered unigrams saved to D:\\ASR\\ParlaspeechHR\\wav2vec2-large-slavic-hr-lm\\language_model\\unigrams.txt.\n",
      "\n",
      "Number of unique usable characters in D:\\ASR\\ParlaspeechHR\\wav2vec2-large-slavic-hr-lm\\language_model\\unigrams.txt: 31\n",
      "\n",
      "['a', 'b', 'c', 'd', 'e', 'f', 'g', 'h', 'i', 'j', 'k', 'l', 'm', 'n', 'o', 'p', 'q', 'r', 's', 't', 'u', 'v', 'w', 'x', 'y', 'z', 'ć', 'č', 'đ', 'š', 'ž']\n"
     ]
    }
   ],
   "source": [
    "# import json\n",
    "# import os\n",
    "\n",
    "# # Paths to files\n",
    "# unigrams_file = r\"D:\\ASR\\ParlaspeechHR\\unigrams_raw.txt\"\n",
    "# unigrams2_file = r\"D:\\ASR\\ParlaspeechHR\\wav2vec2-large-slavic-hr-lm\\language_model\\unigrams.txt\"\n",
    "# vocab_lm_file = os.path.join(model_lm_file_path, \"vocab.json\")\n",
    "\n",
    "# # Initialize an empty set to store unique characters\n",
    "# unique_characters_filtered = set()\n",
    "\n",
    "# # Load vocabulary from vocab.json\n",
    "# with open(vocab_lm_file, 'r', encoding='utf-8') as f:\n",
    "#     vocab_data = json.load(f)\n",
    "\n",
    "# # Extract usable characters from vocab.json\n",
    "# usable_characters = set(vocab_data.keys())\n",
    "\n",
    "# # Open unigrams.txt for reading and collect unique usable characters\n",
    "# with open(unigrams_file, 'r', encoding='utf-8') as f:\n",
    "#     for line in f:\n",
    "#         line = line.strip().lower()  # Remove leading/trailing whitespace and convert to lowercase\n",
    "#         for char in line:\n",
    "#             if char in usable_characters:\n",
    "#                 unique_characters_filtered.add(char)  # Add character to filtered set if it's usable\n",
    "\n",
    "# # Convert set to sorted list\n",
    "# sorted_characters = sorted(unique_characters_filtered)\n",
    "\n",
    "# # Example of how to remove specific characters based on their index\n",
    "# indices_to_remove = {0, 1, 2, 3, 4, 5, 6, 7, 8, 9, 36, 37, 43}\n",
    "# characters_to_remove = [sorted_characters[index] for index in indices_to_remove]\n",
    "# print(f\"Characters to remove: {characters_to_remove}\")\n",
    "\n",
    "# # Open unigrams.txt for reading and unigrams2.txt for writing\n",
    "# with open(unigrams_file, 'r', encoding='utf-8') as f_in, open(unigrams2_file, 'w', encoding='utf-8') as f_out:\n",
    "#     for line in f_in:\n",
    "#         line_filtered = []\n",
    "#         for char in line.strip().lower():  # Remove leading/trailing whitespace and convert to lowercase\n",
    "#             if char in sorted_characters and char not in characters_to_remove:\n",
    "#                 line_filtered.append(char)\n",
    "#         filtered_line = ''.join(line_filtered)\n",
    "#         if filtered_line.strip():  # Only write non-empty lines\n",
    "#             f_out.write(filtered_line + '\\n')\n",
    "\n",
    "# print(f\"\\nFiltered unigrams saved to {unigrams2_file}.\\n\")\n",
    "\n",
    "# # Reset unique_characters_filtered and recheck\n",
    "# unique_characters_filtered = set()\n",
    "\n",
    "# # Open the filtered unigrams2.txt file and read each line\n",
    "# with open(unigrams2_file, 'r', encoding='utf-8') as f:\n",
    "#     for line in f:\n",
    "#         line = line.strip().lower()  # Remove leading/trailing whitespace and convert to lowercase\n",
    "#         for char in line:\n",
    "#             if char in usable_characters:\n",
    "#                 unique_characters_filtered.add(char)  # Add character to filtered set if it's usable\n",
    "\n",
    "# # Count the number of unique usable characters\n",
    "# num_unique_characters_filtered = len(unique_characters_filtered)\n",
    "\n",
    "# print(f\"Number of unique usable characters in {unigrams2_file}: {num_unique_characters_filtered}\\n\")\n",
    "# print(sorted(unique_characters_filtered))\n"
   ]
  },
  {
   "cell_type": "markdown",
   "metadata": {},
   "source": [
    "## Make the Components"
   ]
  },
  {
   "cell_type": "code",
   "execution_count": 8,
   "metadata": {
    "execution": {
     "iopub.execute_input": "2024-06-20T17:38:57.922406Z",
     "iopub.status.busy": "2024-06-20T17:38:57.922406Z",
     "iopub.status.idle": "2024-06-20T17:38:57.925744Z",
     "shell.execute_reply": "2024-06-20T17:38:57.925744Z",
     "shell.execute_reply.started": "2024-06-20T17:38:57.922406Z"
    }
   },
   "outputs": [
    {
     "name": "stdout",
     "output_type": "stream",
     "text": [
      "D:\\ASR\\ParlaspeechHR\\wav2vec2-large-slavic-hr-lm-custom\n"
     ]
    }
   ],
   "source": [
    "print(model_lm_file_path)"
   ]
  },
  {
   "cell_type": "code",
   "execution_count": 9,
   "metadata": {
    "colab": {
     "base_uri": "https://localhost:8080/"
    },
    "execution": {
     "iopub.execute_input": "2024-06-20T18:20:59.222625Z",
     "iopub.status.busy": "2024-06-20T18:20:59.222625Z",
     "iopub.status.idle": "2024-06-20T18:21:17.007641Z",
     "shell.execute_reply": "2024-06-20T18:21:17.007641Z",
     "shell.execute_reply.started": "2024-06-20T18:20:59.222625Z"
    },
    "executionInfo": {
     "elapsed": 300,
     "status": "ok",
     "timestamp": 1718361529289,
     "user": {
      "displayName": "Ivan Porupski",
      "userId": "03127310887960034948"
     },
     "user_tz": -120
    },
    "id": "KbCTLV-yHiZh",
    "outputId": "97943b4f-e296-416a-e5b5-d25330207698"
   },
   "outputs": [
    {
     "name": "stderr",
     "output_type": "stream",
     "text": [
      "C:\\Users\\Public\\anaconda3\\envs\\PyPhon\\Lib\\site-packages\\transformers\\utils\\generic.py:441: UserWarning: torch.utils._pytree._register_pytree_node is deprecated. Please use torch.utils._pytree.register_pytree_node instead.\n",
      "  _torch_pytree._register_pytree_node(\n",
      "C:\\Users\\Public\\anaconda3\\envs\\PyPhon\\Lib\\site-packages\\transformers\\utils\\generic.py:309: UserWarning: torch.utils._pytree._register_pytree_node is deprecated. Please use torch.utils._pytree.register_pytree_node instead.\n",
      "  _torch_pytree._register_pytree_node(\n",
      "C:\\Users\\Public\\anaconda3\\envs\\PyPhon\\Lib\\site-packages\\transformers\\utils\\generic.py:309: UserWarning: torch.utils._pytree._register_pytree_node is deprecated. Please use torch.utils._pytree.register_pytree_node instead.\n",
      "  _torch_pytree._register_pytree_node(\n",
      "C:\\Users\\Public\\anaconda3\\envs\\PyPhon\\Lib\\site-packages\\transformers\\utils\\generic.py:309: UserWarning: torch.utils._pytree._register_pytree_node is deprecated. Please use torch.utils._pytree.register_pytree_node instead.\n",
      "  _torch_pytree._register_pytree_node(\n"
     ]
    },
    {
     "name": "stdout",
     "output_type": "stream",
     "text": [
      "CUDA not available or GPU is too old.\n",
      "device set to: CPU (cpu)\n",
      "\n",
      "device: cpu\n",
      "\n",
      "Making tokenizer0...\n",
      "   Loaded special_tokens_map.json\n",
      "Making feature_extractor0...\n",
      "Making processor0...\n",
      "Making model0... device cpu\n"
     ]
    },
    {
     "name": "stderr",
     "output_type": "stream",
     "text": [
      "Some weights of the model checkpoint at D:\\ASR\\ParlaspeechHR\\wav2vec2-large-slavic-hr were not used when initializing Wav2Vec2ForCTC: ['wav2vec2.encoder.pos_conv_embed.conv.weight_g', 'wav2vec2.encoder.pos_conv_embed.conv.weight_v']\n",
      "- This IS expected if you are initializing Wav2Vec2ForCTC from the checkpoint of a model trained on another task or with another architecture (e.g. initializing a BertForSequenceClassification model from a BertForPreTraining model).\n",
      "- This IS NOT expected if you are initializing Wav2Vec2ForCTC from the checkpoint of a model that you expect to be exactly identical (initializing a BertForSequenceClassification model from a BertForSequenceClassification model).\n",
      "Some weights of Wav2Vec2ForCTC were not initialized from the model checkpoint at D:\\ASR\\ParlaspeechHR\\wav2vec2-large-slavic-hr and are newly initialized: ['wav2vec2.encoder.pos_conv_embed.conv.parametrizations.weight.original0', 'wav2vec2.encoder.pos_conv_embed.conv.parametrizations.weight.original1']\n",
      "You should probably TRAIN this model on a down-stream task to be able to use it for predictions and inference.\n"
     ]
    },
    {
     "name": "stdout",
     "output_type": "stream",
     "text": [
      "\n",
      "Deleted tokenizer0 and feat_extractor0.\n",
      "\n",
      "Non-LM components are active.\n",
      "Making tokenizer0lm...\n",
      "   Loaded special_tokens_map.json\n",
      "Making feature_extractor0lm...\n",
      "Making processor0lm...\n",
      "Making model0lm... device cpu\n"
     ]
    },
    {
     "name": "stderr",
     "output_type": "stream",
     "text": [
      "Some weights of the model checkpoint at D:\\ASR\\ParlaspeechHR\\wav2vec2-large-slavic-hr-lm-custom were not used when initializing Wav2Vec2ForCTC: ['wav2vec2.encoder.pos_conv_embed.conv.weight_g', 'wav2vec2.encoder.pos_conv_embed.conv.weight_v']\n",
      "- This IS expected if you are initializing Wav2Vec2ForCTC from the checkpoint of a model trained on another task or with another architecture (e.g. initializing a BertForSequenceClassification model from a BertForPreTraining model).\n",
      "- This IS NOT expected if you are initializing Wav2Vec2ForCTC from the checkpoint of a model that you expect to be exactly identical (initializing a BertForSequenceClassification model from a BertForSequenceClassification model).\n",
      "Some weights of Wav2Vec2ForCTC were not initialized from the model checkpoint at D:\\ASR\\ParlaspeechHR\\wav2vec2-large-slavic-hr-lm-custom and are newly initialized: ['wav2vec2.encoder.pos_conv_embed.conv.parametrizations.weight.original0', 'wav2vec2.encoder.pos_conv_embed.conv.parametrizations.weight.original1']\n",
      "You should probably TRAIN this model on a down-stream task to be able to use it for predictions and inference.\n"
     ]
    },
    {
     "name": "stdout",
     "output_type": "stream",
     "text": [
      "\n",
      "Deleted tokenizer0lm and feat_extractor0lm.\n",
      "\n",
      "Non-LM components are active.\n",
      "\n",
      "LM components are active.\n"
     ]
    }
   ],
   "source": [
    "from transformers import (\n",
    "    Wav2Vec2Processor,\n",
    "    Wav2Vec2ProcessorWithLM,\n",
    "    Wav2Vec2ForCTC,\n",
    "    Wav2Vec2FeatureExtractor,\n",
    "    Wav2Vec2CTCTokenizer,\n",
    "    Wav2Vec2Config,\n",
    "    AutoModelForCTC,\n",
    "    AutoProcessor\n",
    ")\n",
    "\n",
    "import torch\n",
    "import json\n",
    "import os\n",
    "import kenlm\n",
    "#from transformers.file_utils import cached_path\n",
    "from pyctcdecode import BeamSearchDecoderCTC, build_ctcdecoder\n",
    "\n",
    "\n",
    "\n",
    "\n",
    "# Set device as GPU, default is CPU\n",
    "if torch.cuda.is_available() and torch.cuda.get_device_capability(0)[0] >= 3.7:\n",
    "    device = torch.device(\"cuda:0\")\n",
    "    print(\"Using GPU:\", torch.cuda.get_device_name(0))\n",
    "    print(\"CUDA available:\", torch.cuda.is_available())\n",
    "    print(\"CUDA version:\", torch.version.cuda)\n",
    "    print(\"cuDNN version:\", torch.backends.cudnn.version())\n",
    "    print(\"Device Name:\", torch.cuda.get_device_name(0))\n",
    "else:\n",
    "    device = torch.device(\"cpu\")\n",
    "    print(\"CUDA not available or GPU is too old.\")\n",
    "    print(f\"device set to: CPU ({device})\\n\")\n",
    "    \n",
    "print(f\"device: {device}\\n\")\n",
    "\n",
    "# Load the models with correct device mapping\n",
    "map_location = torch.device('cpu') if not torch.cuda.is_available() else None\n",
    "\n",
    "\n",
    "# Make the non-LM model components\n",
    "def make_non_lm_components(model_file_path, device):\n",
    "    config = Wav2Vec2Config.from_pretrained(model_file_path)\n",
    "    # Make the tokenizer\n",
    "    print(f\"Making tokenizer0...\")\n",
    "    tokenizer0 = Wav2Vec2CTCTokenizer(\n",
    "                                    os.path.join(model_file_path, \"vocab.json\"),\n",
    "                                    unk_token=unk_token,\n",
    "                                    pad_token=pad_token,\n",
    "                                    word_delimiter_token=word_delimiter_token\n",
    "                                )\n",
    "    # Load special tokens map if necessary\n",
    "    with open(special_tokens_map_file, 'r') as file:\n",
    "        special_tokens_map = json.load(file)\n",
    "        tokenizer0.add_special_tokens(special_tokens_map)\n",
    "    print(f\"   Loaded special_tokens_map.json\")\n",
    "    \n",
    "    # Make feature extractor\n",
    "    print(f\"Making feature_extractor0...\")\n",
    "    feature_extractor0 = Wav2Vec2FeatureExtractor(\n",
    "                                    feature_size=1,\n",
    "                                    sampling_rate=16000,\n",
    "                                    padding_value=0.0,\n",
    "                                    do_normalize=True,\n",
    "                                    return_attention_mask=True\n",
    "                                )\n",
    "\n",
    "    # Make the processor\n",
    "    print(f\"Making processor0...\")\n",
    "    processor0 = Wav2Vec2Processor.from_pretrained(model_file_path, tokenizer=tokenizer0, feature_extractor=feature_extractor0)\n",
    "\n",
    "    # Make the model\n",
    "    print(f\"Making model0... device {device}\")\n",
    "    model0 = Wav2Vec2ForCTC.from_pretrained(\n",
    "                                            model_file_path,\n",
    "                                            config=config_file_path,\n",
    "                                            state_dict=torch.load(os.path.join(model_file_path, \"pytorch_model.bin\"),\n",
    "                                            map_location=map_location)\n",
    "    )\n",
    "    \n",
    "    model0.to(device)\n",
    "    model0.eval()\n",
    "    \n",
    "    del tokenizer0\n",
    "    del feature_extractor0\n",
    "    \n",
    "    print(f\"\\nDeleted tokenizer0 and feat_extractor0.\\n\\nNon-LM components are active.\")\n",
    "    return processor0, model0\n",
    "\n",
    "#processor0, model0 = make_non_lm_components(model_file_path, device)\n",
    "\n",
    "# Make the LM model components\n",
    "def make_lm_components(model_lm_file_path, device):\n",
    "    \n",
    "    config_lm = Wav2Vec2Config.from_pretrained(model_lm_file_path)\n",
    "\n",
    "    vocab_lm_path = os.path.join(model_lm_file_path, \"vocab.json\")\n",
    "\n",
    "    print(f\"Making tokenizer0lm...\")\n",
    "    tokenizer0lm = Wav2Vec2CTCTokenizer(\n",
    "                                    vocab_lm_path,\n",
    "                                    unk_token=unk_token_lm,\n",
    "                                    pad_token=pad_token_lm,\n",
    "                                    word_delimiter_token=word_delimiter_token_lm\n",
    "    )\n",
    "\n",
    "    # Load special tokens map if necessary\n",
    "    with open(special_tokens_map_lm_file, 'r') as file:\n",
    "        special_tokens_map_lm = json.load(file)\n",
    "        tokenizer0lm.add_special_tokens(special_tokens_map_lm)\n",
    "    print(f\"   Loaded special_tokens_map.json\")\n",
    "\n",
    "    print(f\"Making feature_extractor0lm...\")\n",
    "    feature_extractor0lm = Wav2Vec2FeatureExtractor(\n",
    "                                                feature_size=1,\n",
    "                                                sampling_rate=16000,\n",
    "                                                padding_value=0.0,\n",
    "                                                do_normalize=True,\n",
    "                                                return_attention_mask=True\n",
    "    )\n",
    "\n",
    "    print(f\"Making processor0lm...\")\n",
    "    \n",
    "    processor0lm = Wav2Vec2ProcessorWithLM.from_pretrained(\n",
    "                                                model_lm_file_path,\n",
    "                                                config=config_lm,\n",
    "                                                tokenizer=tokenizer0lm,\n",
    "                                                feature_extractor=feature_extractor0lm\n",
    "    )\n",
    "    \n",
    "    # processor0lm = Wav2Vec2ProcessorWithLM.from_pretrained(\n",
    "    #                                                     model_lm_file_path,\n",
    "    #                                                     tokenizer=tokenizer0lm,\n",
    "    #                                                     feature_extractor=feature_extractor0lm\n",
    "    # )\n",
    "\n",
    "    \n",
    "\n",
    "    \n",
    "\n",
    "    print(f\"Making model0lm... device {device}\")\n",
    "    model0lm = Wav2Vec2ForCTC.from_pretrained(\n",
    "                                            model_lm_file_path,\n",
    "                                            config=config_lm,\n",
    "                                            state_dict=torch.load(os.path.join(model_lm_file_path, \"pytorch_model.bin\"),\n",
    "                                            map_location=map_location,)\n",
    "    )\n",
    "    model0lm.to(device)\n",
    "    model0lm.eval()\n",
    "\n",
    "    del tokenizer0lm\n",
    "    del feature_extractor0lm\n",
    "    \n",
    "    print(f\"\\nDeleted tokenizer0lm and feat_extractor0lm.\\n\\nNon-LM components are active.\")\n",
    "\n",
    "    print(f\"\\nLM components are active.\")\n",
    "    return processor0lm, model0lm\n",
    "\n",
    "#processor0lm, model0lm = make_lm_components(model_lm_file_path, device)\n",
    "\n",
    "\n",
    "# model_lm_file_path = r\"D:\\ASR\\ParlaspeechHR\\wav2vec2-large-slavic-hr-lm-custom\"\n",
    "# model_lm_file_path = r\"D:\\ASR\\ParlaspeechHR\\wav2vec2-large-slavic-hr-lm\"\n",
    "\n",
    "if make_model == \"non\":\n",
    "    processor0, model0 = make_non_lm_components(model_file_path, device)\n",
    "    \n",
    "elif make_model == \"lm\":\n",
    "    processor0lm, model0lm = make_lm_components(model_lm_file_path, device)\n",
    "    \n",
    "elif make_model == \"both\":\n",
    "    processor0, model0 = make_non_lm_components(model_file_path, device)\n",
    "    processor0lm, model0lm = make_lm_components(model_lm_file_path, device)\n",
    "    \n",
    "else:\n",
    "    print(\"Invalid value for make_model. Please choose 'non', 'lm', or 'both'.\")"
   ]
  },
  {
   "cell_type": "markdown",
   "metadata": {
    "id": "c8eTi90-R7E_"
   },
   "source": [
    "## [5] Define cutting down into temp chunks (now with DYNAMICS)"
   ]
  },
  {
   "cell_type": "markdown",
   "metadata": {},
   "source": [
    "## * def process_transcribe for both"
   ]
  },
  {
   "cell_type": "code",
   "execution_count": 21,
   "metadata": {
    "execution": {
     "iopub.execute_input": "2024-06-20T18:23:34.006603Z",
     "iopub.status.busy": "2024-06-20T18:23:34.006603Z",
     "iopub.status.idle": "2024-06-20T18:23:34.028281Z",
     "shell.execute_reply": "2024-06-20T18:23:34.028281Z",
     "shell.execute_reply.started": "2024-06-20T18:23:34.006603Z"
    }
   },
   "outputs": [
    {
     "name": "stdout",
     "output_type": "stream",
     "text": [
      "Is debug_printing on? True\n",
      "\n",
      "make_model? both\n",
      "\n",
      "Transcription function defined and active: \n",
      "Splitting audio in: 20s segments (dynamically). \n",
      "\n"
     ]
    }
   ],
   "source": [
    "import torchaudio\n",
    "import numpy as np\n",
    "from pydub import AudioSegment\n",
    "import matplotlib.pyplot as plt\n",
    "from IPython.display import clear_output\n",
    "\n",
    "TIME_CHUNK = 20\n",
    "target_sr = 16000\n",
    "\n",
    "SILENCE_THRESHOLD = 0.01  # Threshold to detect silence\n",
    "MIN_SILENCE_LENGTH = 0.5  # Minimum length of silence to be considered a split point in seconds\n",
    "\n",
    "print(f\"Is debug_printing on? {debug_printing}\\n\")\n",
    "\n",
    "print(f\"make_model? {make_model}\\n\")\n",
    "\n",
    "\n",
    "if make_model == \"non\":\n",
    "### PROCESSING ENGINE ###\n",
    "#\n",
    "#### processor0, model0\n",
    "    def process_transcribe(input_file, processor, model): \n",
    "        \n",
    "            # Begin processing:\n",
    "            speech, sample_rate = torchaudio.load(input_file)\n",
    "    \n",
    "            # Check if resampling is needed\n",
    "            if sample_rate != target_sr:\n",
    "                resampler = torchaudio.transforms.Resample(orig_freq=sample_rate, new_freq=target_sr)\n",
    "                speech = resampler(speech)\n",
    "    \n",
    "            # Process the speech with the processor\n",
    "            input_values = processor(speech, sampling_rate=target_sr, return_tensors=\"pt\").input_values.to(device)\n",
    "    \n",
    "            if debug_printing == True:\n",
    "              print(input_values.shape)\n",
    "    \n",
    "            if input_values.dim() == 3:  # If the shape is [1, 1, audio_length]\n",
    "                input_values = input_values.squeeze(0)  # Squeeze to [1, audio_length]\n",
    "    \n",
    "            if debug_printing == True:\n",
    "              print(input_values.shape)\n",
    "    \n",
    "            # Perform inference\n",
    "            with torch.no_grad():\n",
    "                logits = model(input_values).logits\n",
    "    \n",
    "            if debug_printing == True:\n",
    "             print(\"Logits shape:\", logits.shape)\n",
    "    \n",
    "            # Get the predicted token IDs (greedy decoding)\n",
    "            predicted_ids = torch.argmax(logits, dim=-1)\n",
    "    \n",
    "            if debug_printing == True:\n",
    "              print(\"Predicted IDs shape:\", predicted_ids.shape)\n",
    "    \n",
    "            # Convert predicted IDs to numpy array\n",
    "            predicted_ids = predicted_ids.cpu().numpy()\n",
    "    \n",
    "            if debug_printing == True:\n",
    "              print(\"Predicted IDs (numpy):\", predicted_ids)\n",
    "    \n",
    "            # Decode the predicted IDs\n",
    "            transcription = processor.batch_decode(predicted_ids)[0]\n",
    "    \n",
    "            transcription = transcription.replace(\"<pad>\", \"\").strip() ## čak kad je i solo non-lm, opet stavlja <pad>\n",
    "    \n",
    "            if debug_printing == True:\n",
    "              print(\"Transcription NON:\", transcription)\n",
    "                \n",
    "    \n",
    "            return transcription\n",
    "    \n",
    "    \n",
    "    \n",
    "    def transcribe(input_file, output_folder, target_sr=target_sr, TIME_CHUNK=TIME_CHUNK):\n",
    "        # Load the audio\n",
    "        waveform, orig_sr = torchaudio.load(input_file)\n",
    "    \n",
    "        # Check if resampling is needed\n",
    "        if orig_sr != target_sr:\n",
    "            resampler = torchaudio.transforms.Resample(orig_freq=orig_sr, new_freq=target_sr)\n",
    "            waveform = resampler(waveform)\n",
    "    \n",
    "        # Determine the output file name and format (always WAV)\n",
    "        base_name = os.path.splitext(os.path.basename(input_file))[0]\n",
    "    \n",
    "        # Convert waveform to numpy array for easier processing\n",
    "        waveform_np = waveform.squeeze().numpy()\n",
    "    \n",
    "    \n",
    "    ################### RUN THE WHOLE AUDIO FILES ##########################\n",
    "        if testing_asr == True:\n",
    "                # Directly process the entire audio without chunking\n",
    "                #output_file = os.path.join(output_folder, f\"{base_name}_whole.wav\")\n",
    "                #torchaudio.save(output_file, waveform, sample_rate=target_sr)\n",
    "                tekst = process_transcribe(input_file, processor0, model0)\n",
    "                # print(f\"Transcription for {base_name}: {tekst}\")\n",
    "                print(tekst)\n",
    "                #os.remove(output_file)  # Optionally delete the temporary WAV file\n",
    "        \n",
    "    ######### ELSE CHUNKS BASED ON TIME_CHUNK INCREMENTS ##################\n",
    "        else:\n",
    "            # Function to detect silence points\n",
    "            def find_silence_points(signal, threshold, min_silence_length, sr):\n",
    "                silence_points = []\n",
    "                min_silence_samples = int(min_silence_length * sr)\n",
    "                is_silence = np.abs(signal) < threshold\n",
    "                silence_length = 0\n",
    "                for i in range(len(is_silence)):\n",
    "                    if is_silence[i]:\n",
    "                        silence_length += 1\n",
    "                        if silence_length >= min_silence_samples:\n",
    "                            silence_points.append(i)\n",
    "                    else:\n",
    "                        silence_length = 0\n",
    "                return silence_points\n",
    "    \n",
    "    \n",
    "            # Find silence points in the audio\n",
    "            silence_points = find_silence_points(waveform_np, SILENCE_THRESHOLD, MIN_SILENCE_LENGTH, target_sr)\n",
    "        \n",
    "            if debug_printing == True:\n",
    "        \n",
    "                print(f\"Plotting point where silence ({len(silence_points)} points) has been detected in {input_file}\")\n",
    "                # Plot the waveform and silence points\n",
    "                plt.figure(figsize=(15, 5))\n",
    "                plt.plot(waveform_np, label='Waveform')\n",
    "                plt.scatter(silence_points, waveform_np[silence_points], color='red', marker='x', label='Silence Points')\n",
    "                plt.xlabel('Samples')\n",
    "                plt.ylabel('Amplitude')\n",
    "                plt.title('Waveform with Silence Points')\n",
    "                plt.legend()\n",
    "                plt.show()\n",
    "        \n",
    "            # Split the audio at silence points\n",
    "            chunk_start = 0\n",
    "            for i, point in enumerate(silence_points):\n",
    "                chunk_end = point\n",
    "                if chunk_end - chunk_start >= TIME_CHUNK * target_sr:\n",
    "                    chunk = waveform[:, chunk_start:chunk_end]\n",
    "                    output_file = os.path.join(output_folder, f\"{base_name}_temp_chunk{i}.wav\")\n",
    "                    torchaudio.save(output_file, chunk, sample_rate=target_sr)\n",
    "        \n",
    "                    # Process the temporary WAV file\n",
    "                    tekst = process_transcribe(input_file, processor0, model0)\n",
    "    \n",
    "                    # Add time marker\n",
    "                    time = format_time(chunk_start / target_sr)\n",
    "                    print(f\"[{time}] {tekst}\")\n",
    "        \n",
    "                    # Delete the temporary WAV file after processing\n",
    "                    os.remove(output_file)\n",
    "        \n",
    "                    chunk_start = chunk_end\n",
    "                    \n",
    "            def format_time(seconds):\n",
    "                minutes = int(seconds // 60)\n",
    "                seconds = int(seconds % 60)\n",
    "                return f\"{minutes:02d}:{seconds:02d}\"\n",
    "        \n",
    "            # Process the remaining audio if any\n",
    "            if chunk_start < waveform.size(1):\n",
    "                chunk = waveform[:, chunk_start:]\n",
    "                output_file = os.path.join(output_folder, f\"{base_name}_temp_chunk{len(silence_points)}.wav\")\n",
    "                torchaudio.save(output_file, chunk, sample_rate=target_sr)\n",
    "                tekst = process_transcribe(input_file, processor0, model0)\n",
    "                time = format_time(chunk_start / target_sr)\n",
    "                print(f\"[{time}] {tekst}\")\n",
    "                os.remove(output_file)\n",
    "\n",
    "\n",
    "\n",
    "if make_model == \"lm\":\n",
    "\n",
    "    #### L M #########\n",
    "    #\n",
    "    #### processor0lm, model0lm\n",
    "    def process_transcribe_lm(input_file, processor, model):\n",
    "    \n",
    "        if debug_printing:\n",
    "            print(f\"input_file type {type(input_file)}\")\n",
    "            print(f\"input_file {input_file}\")\n",
    "        # Load audio and perform ASR using wav2vec2 with LM\n",
    "        speech, sample_rate = torchaudio.load(input_file)\n",
    "        \n",
    "        # Check if resampling is needed\n",
    "        target_sr = 16000  # Example target sampling rate\n",
    "        if sample_rate != target_sr:\n",
    "            resampler = torchaudio.transforms.Resample(orig_freq=sample_rate, new_freq=target_sr)\n",
    "            speech = resampler(speech)\n",
    "        \n",
    "        # Process the speech with the processor\n",
    "        input_values = processor(speech, sampling_rate=target_sr, return_tensors=\"pt\").input_values.to(device)\n",
    "    \n",
    "        if debug_printing:\n",
    "            print(\"Input values shape:\", input_values.shape)\n",
    "    \n",
    "        # Ensure input_values has correct shape for model0lm\n",
    "        input_values = input_values.squeeze(0)  # Assuming batch_size=1\n",
    "    \n",
    "        if debug_printing:\n",
    "            print(\"Adjusted input values shape:\", input_values.shape)\n",
    "    \n",
    "        # Perform inference\n",
    "        with torch.no_grad():  # Inference mode\n",
    "            logits = model(input_values).logits\n",
    "    \n",
    "        if debug_printing:\n",
    "            print(\"Logits shape after processing:\", logits.shape)\n",
    "            #print(\"Logits max value:\", np.amax(logits, axis=1))\n",
    "    \n",
    "        # if debug_printing:\n",
    "        #     print(\"Logits shape:\", logits.shape)\n",
    "    \n",
    "        # Decode the predicted IDs\n",
    "        transcriptions = processor.batch_decode(logits.numpy()).text\n",
    "\n",
    "        if clear_lm_print == True:\n",
    "            clear_output()\n",
    "\n",
    "    \n",
    "        # Ensure transcription is returned as a string\n",
    "        transcription = transcriptions[0] if transcriptions else \"\"  # Assuming batch_size=1\n",
    "\n",
    "        if debug_printing == True:\n",
    "            print(\"Transcription LM:\", transcription)\n",
    "    \n",
    "        return transcription\n",
    "    \n",
    "    \n",
    "    \n",
    "    def transcribe_lm(input_file, output_folder, target_sr=target_sr, TIME_CHUNK=TIME_CHUNK):\n",
    "        # Load the audio\n",
    "        waveform, orig_sr = torchaudio.load(input_file)\n",
    "    \n",
    "        # Check if resampling is needed\n",
    "        if orig_sr != target_sr:\n",
    "            resampler = torchaudio.transforms.Resample(orig_freq=orig_sr, new_freq=target_sr)\n",
    "            waveform = resampler(waveform)\n",
    "    \n",
    "        # Determine the output file name and format (always WAV)\n",
    "        base_name = os.path.splitext(os.path.basename(input_file))[0]\n",
    "    \n",
    "        # Convert waveform to numpy array for easier processing\n",
    "        waveform_np = waveform.squeeze().numpy()\n",
    "    \n",
    "       \n",
    "        if testing_asr:\n",
    "    ################### RUN THE WHOLE AUDIO FILES ##########################\n",
    "            tekst = process_transcribe_lm(input_file, processor0lm, model0lm)\n",
    "           \n",
    "            if debug_printing == True:\n",
    "                print(f\"LM p_t_l Transcription for {base_name}: {tekst}\")\n",
    "        \n",
    "            #return tekst\n",
    "    \n",
    "        else:\n",
    "            # Function to detect silence points\n",
    "            def find_silence_points(signal, threshold, min_silence_length, sr):\n",
    "                silence_points = []\n",
    "                min_silence_samples = int(min_silence_length * sr)\n",
    "                is_silence = np.abs(signal) < threshold\n",
    "                silence_length = 0\n",
    "                for i in range(len(is_silence)):\n",
    "                    if is_silence[i]:\n",
    "                        silence_length += 1\n",
    "                        if silence_length >= min_silence_samples:\n",
    "                            silence_points.append(i)\n",
    "                    else:\n",
    "                        silence_length = 0\n",
    "                return silence_points\n",
    "    \n",
    "    \n",
    "            # Find silence points in the audio\n",
    "            silence_points = find_silence_points(waveform_np, SILENCE_THRESHOLD, MIN_SILENCE_LENGTH, target_sr)\n",
    "        \n",
    "            if debug_printing == True:\n",
    "        \n",
    "                print(f\"Plotting point where silence ({len(silence_points)} points) has been detected in {input_file}\")\n",
    "                # Plot the waveform and silence points\n",
    "                plt.figure(figsize=(15, 5))\n",
    "                plt.plot(waveform_np, label='Waveform')\n",
    "                plt.scatter(silence_points, waveform_np[silence_points], color='red', marker='x', label='Silence Points')\n",
    "                plt.xlabel('Samples')\n",
    "                plt.ylabel('Amplitude')\n",
    "                plt.title('Waveform with Silence Points')\n",
    "                plt.legend()\n",
    "                plt.show()\n",
    "        \n",
    "            # Split the audio at silence points\n",
    "            chunk_start = 0\n",
    "            for i, point in enumerate(silence_points):\n",
    "                chunk_end = point\n",
    "                if chunk_end - chunk_start >= TIME_CHUNK * target_sr:\n",
    "                    chunk = waveform[:, chunk_start:chunk_end]\n",
    "                    output_file = os.path.join(output_folder, f\"{base_name}_temp_chunk{i}.wav\")\n",
    "                    torchaudio.save(output_file, chunk, sample_rate=target_sr)\n",
    "        \n",
    "                    # Process the temporary WAV file\n",
    "    ####################################################################\n",
    "                    tekst = process_transcribe_lm(input_file, processor0lm, model0lm)\n",
    "                    time = format_time(chunk_start / target_sr)\n",
    "                    print(f\"[{time}] {tekst}\")\n",
    "        \n",
    "                    # Optionally, you can delete the temporary WAV file after processing\n",
    "                    os.remove(output_file)\n",
    "        \n",
    "                    chunk_start = chunk_end\n",
    "                    \n",
    "            def format_time(seconds):\n",
    "                minutes = int(seconds // 60)\n",
    "                seconds = int(seconds % 60)\n",
    "                return f\"{minutes:02d}:{seconds:02d}\"\n",
    "        \n",
    "            # Process the remaining audio if any\n",
    "            if chunk_start < waveform.size(1):\n",
    "                chunk = waveform[:, chunk_start:]\n",
    "                output_file = os.path.join(output_folder, f\"{base_name}_temp_chunk{len(silence_points)}.wav\")\n",
    "                torchaudio.save(output_file, chunk, sample_rate=target_sr)\n",
    "    ####################################################################\n",
    "                tekst = process_transcribe_lm(input_file, processor, model)\n",
    "                \n",
    "                time = format_time(chunk_start / target_sr)\n",
    "                print(f\"[{time}] {tekst}\")\n",
    "                os.remove(output_file)\n",
    "\n",
    "\n",
    "print(f\"Transcription function defined and active: \\nSplitting audio in: {TIME_CHUNK}s segments (dynamically). \\n\")\n"
   ]
  },
  {
   "cell_type": "code",
   "execution_count": 27,
   "metadata": {
    "execution": {
     "iopub.execute_input": "2024-06-20T18:25:50.414980Z",
     "iopub.status.busy": "2024-06-20T18:25:50.414980Z",
     "iopub.status.idle": "2024-06-20T18:25:50.436727Z",
     "shell.execute_reply": "2024-06-20T18:25:50.436727Z",
     "shell.execute_reply.started": "2024-06-20T18:25:50.414980Z"
    }
   },
   "outputs": [
    {
     "name": "stdout",
     "output_type": "stream",
     "text": [
      "Is debug_printing on? False\n",
      "\n",
      "doing: both, meaning you need this one\n",
      "\n",
      "Transcription function defined and active: \n",
      "Splitting audio in: 20s segments (dynamically). \n",
      "\n"
     ]
    }
   ],
   "source": [
    "### THE SAME BUT FOR BOTH\n",
    "\n",
    "from IPython.display import clear_output\n",
    "import torchaudio\n",
    "import numpy as np\n",
    "from pydub import AudioSegment\n",
    "import matplotlib.pyplot as plt\n",
    "\n",
    "TIME_CHUNK = 20\n",
    "target_sr = 16000\n",
    "\n",
    "SILENCE_THRESHOLD = 0.01  # Threshold to detect silence\n",
    "MIN_SILENCE_LENGTH = 0.5  # Minimum length of silence to be considered a split point in seconds\n",
    "\n",
    "print(f\"Is debug_printing on? {debug_printing}\\n\")\n",
    "\n",
    "\n",
    "if make_model == \"both\":\n",
    "### PROCESSING ENGINE ###\n",
    "    print(f\"doing: {make_model}, meaning you need this one\\n\")\n",
    "#### processor0, model0\n",
    "    def process_transcribe(input_file, processor, model): \n",
    "        \n",
    "            # Begin processing:\n",
    "            speech, sample_rate = torchaudio.load(input_file)\n",
    "    \n",
    "            # Check if resampling is needed\n",
    "            if sample_rate != target_sr:\n",
    "                resampler = torchaudio.transforms.Resample(orig_freq=sample_rate, new_freq=target_sr)\n",
    "                speech = resampler(speech)\n",
    "    \n",
    "            # Process the speech with the processor\n",
    "            input_values = processor(speech, sampling_rate=target_sr, return_tensors=\"pt\").input_values.to(device)\n",
    "    \n",
    "            if debug_printing == True:\n",
    "              print(input_values.shape)\n",
    "    \n",
    "            if input_values.dim() == 3:  # If the shape is [1, 1, audio_length]\n",
    "                input_values = input_values.squeeze(0)  # Squeeze to [1, audio_length]\n",
    "    \n",
    "            if debug_printing == True:\n",
    "              print(input_values.shape)\n",
    "    \n",
    "            # Perform inference\n",
    "            with torch.no_grad():\n",
    "                logits = model(input_values).logits\n",
    "    \n",
    "            if debug_printing == True:\n",
    "             print(\"Logits shape:\", logits.shape)\n",
    "    \n",
    "            # Get the predicted token IDs (greedy decoding)\n",
    "            predicted_ids = torch.argmax(logits, dim=-1)\n",
    "    \n",
    "            if debug_printing == True:\n",
    "              print(\"Predicted IDs shape:\", predicted_ids.shape)\n",
    "    \n",
    "            # Convert predicted IDs to numpy array\n",
    "            predicted_ids = predicted_ids.cpu().numpy()\n",
    "    \n",
    "            if debug_printing == True:\n",
    "              print(\"Predicted IDs (numpy):\", predicted_ids)\n",
    "    \n",
    "            # Decode the predicted IDs\n",
    "            transcription = processor.batch_decode(predicted_ids)[0]\n",
    "    \n",
    "            transcription = transcription.replace(\"<pad>\", \"\").strip() ## čak kad je i solo non-lm, opet stavlja <pad>\n",
    "    \n",
    "            if debug_printing == True:\n",
    "              print(\"Transcription NON:\", transcription)\n",
    "                \n",
    "    \n",
    "            return transcription\n",
    "    \n",
    "    \n",
    "    \n",
    "    def transcribe(input_file, output_folder, target_sr=target_sr, TIME_CHUNK=TIME_CHUNK):\n",
    "        # Load the audio\n",
    "        waveform, orig_sr = torchaudio.load(input_file)\n",
    "    \n",
    "        # Check if resampling is needed\n",
    "        if orig_sr != target_sr:\n",
    "            resampler = torchaudio.transforms.Resample(orig_freq=orig_sr, new_freq=target_sr)\n",
    "            waveform = resampler(waveform)\n",
    "    \n",
    "        # Determine the output file name and format (always WAV)\n",
    "        base_name = os.path.splitext(os.path.basename(input_file))[0]\n",
    "    \n",
    "        # Convert waveform to numpy array for easier processing\n",
    "        waveform_np = waveform.squeeze().numpy()\n",
    "    \n",
    "    \n",
    "    ################### RUN THE WHOLE AUDIO FILES ##########################\n",
    "        if testing_asr == True:\n",
    "                # Directly process the entire audio without chunking\n",
    "                #output_file = os.path.join(output_folder, f\"{base_name}_whole.wav\")\n",
    "                #torchaudio.save(output_file, waveform, sample_rate=target_sr)\n",
    "                tekst = process_transcribe(input_file, processor0, model0)\n",
    "                # print(f\"Transcription for {base_name}: {tekst}\")\n",
    "                print(tekst)\n",
    "                #os.remove(output_file)  # Optionally delete the temporary WAV file\n",
    "        \n",
    "    ######### ELSE CHUNKS BASED ON TIME_CHUNK INCREMENTS ##################\n",
    "        else:\n",
    "            # Function to detect silence points\n",
    "            def find_silence_points(signal, threshold, min_silence_length, sr):\n",
    "                silence_points = []\n",
    "                min_silence_samples = int(min_silence_length * sr)\n",
    "                is_silence = np.abs(signal) < threshold\n",
    "                silence_length = 0\n",
    "                for i in range(len(is_silence)):\n",
    "                    if is_silence[i]:\n",
    "                        silence_length += 1\n",
    "                        if silence_length >= min_silence_samples:\n",
    "                            silence_points.append(i)\n",
    "                    else:\n",
    "                        silence_length = 0\n",
    "                return silence_points\n",
    "    \n",
    "    \n",
    "            # Find silence points in the audio\n",
    "            silence_points = find_silence_points(waveform_np, SILENCE_THRESHOLD, MIN_SILENCE_LENGTH, target_sr)\n",
    "        \n",
    "            if debug_printing == True:\n",
    "        \n",
    "                print(f\"Plotting point where silence ({len(silence_points)} points) has been detected in {input_file}\")\n",
    "                # Plot the waveform and silence points\n",
    "                plt.figure(figsize=(15, 5))\n",
    "                plt.plot(waveform_np, label='Waveform')\n",
    "                plt.scatter(silence_points, waveform_np[silence_points], color='red', marker='x', label='Silence Points')\n",
    "                plt.xlabel('Samples')\n",
    "                plt.ylabel('Amplitude')\n",
    "                plt.title('Waveform with Silence Points')\n",
    "                plt.legend()\n",
    "                plt.show()\n",
    "        \n",
    "            # Split the audio at silence points\n",
    "            chunk_start = 0\n",
    "            for i, point in enumerate(silence_points):\n",
    "                chunk_end = point\n",
    "                if chunk_end - chunk_start >= TIME_CHUNK * target_sr:\n",
    "                    chunk = waveform[:, chunk_start:chunk_end]\n",
    "                    output_file = os.path.join(output_folder, f\"{base_name}_temp_chunk{i}.wav\")\n",
    "                    torchaudio.save(output_file, chunk, sample_rate=target_sr)\n",
    "        \n",
    "                    # Process the temporary WAV file\n",
    "                    tekst = process_transcribe(input_file, processor0, model0)\n",
    "    \n",
    "                    # Add time marker\n",
    "                    time = format_time(chunk_start / target_sr)\n",
    "                    print(f\"[{time}] {tekst}\")\n",
    "        \n",
    "                    # Delete the temporary WAV file after processing\n",
    "                    os.remove(output_file)\n",
    "        \n",
    "                    chunk_start = chunk_end\n",
    "                    \n",
    "            def format_time(seconds):\n",
    "                minutes = int(seconds // 60)\n",
    "                seconds = int(seconds % 60)\n",
    "                return f\"{minutes:02d}:{seconds:02d}\"\n",
    "        \n",
    "            # Process the remaining audio if any\n",
    "            if chunk_start < waveform.size(1):\n",
    "                chunk = waveform[:, chunk_start:]\n",
    "                output_file = os.path.join(output_folder, f\"{base_name}_temp_chunk{len(silence_points)}.wav\")\n",
    "                torchaudio.save(output_file, chunk, sample_rate=target_sr)\n",
    "                tekst = process_transcribe(input_file, processor0, model0)\n",
    "                time = format_time(chunk_start / target_sr)\n",
    "                print(f\"[{time}] {tekst}\")\n",
    "                os.remove(output_file)\n",
    "\n",
    "\n",
    "\n",
    "\n",
    "\n",
    "    #### L M #########\n",
    "    #\n",
    "    #### processor0lm, model0lm\n",
    "    def process_transcribe_lm(input_file, processor, model):\n",
    "    \n",
    "        if debug_printing:\n",
    "            print(f\"input_file type {type(input_file)}\")\n",
    "            print(f\"input_file {input_file}\")\n",
    "        # Load audio and perform ASR using wav2vec2 with LM\n",
    "        speech, sample_rate = torchaudio.load(input_file)\n",
    "        \n",
    "        # Check if resampling is needed\n",
    "        target_sr = 16000  # Example target sampling rate\n",
    "        if sample_rate != target_sr:\n",
    "            resampler = torchaudio.transforms.Resample(orig_freq=sample_rate, new_freq=target_sr)\n",
    "            speech = resampler(speech)\n",
    "        \n",
    "        # Process the speech with the processor\n",
    "        input_values = processor(speech, sampling_rate=target_sr, return_tensors=\"pt\").input_values.to(device)\n",
    "    \n",
    "        if debug_printing:\n",
    "            print(\"Input values shape:\", input_values.shape)\n",
    "    \n",
    "        # Ensure input_values has correct shape for model0lm\n",
    "        input_values = input_values.squeeze(0)  # Assuming batch_size=1\n",
    "    \n",
    "        if debug_printing:\n",
    "            print(\"Adjusted input values shape:\", input_values.shape)\n",
    "    \n",
    "        # Perform inference\n",
    "        with torch.no_grad():  # Inference mode\n",
    "            logits = model(input_values).logits\n",
    "    \n",
    "        if debug_printing:\n",
    "            print(\"Logits shape after processing:\", logits.shape)\n",
    "            #print(\"Logits max value:\", np.amax(logits, axis=1))\n",
    "    \n",
    "        # if debug_printing:\n",
    "        #     print(\"Logits shape:\", logits.shape)\n",
    "    \n",
    "        # Decode the predicted IDs\n",
    "        transcriptions = processor.batch_decode(logits.numpy()).text\n",
    "\n",
    "        if clear_lm_print == True:\n",
    "            clear_output()\n",
    "        \n",
    "        # Ensure transcription is returned as a string\n",
    "        transcription = transcriptions[0] if transcriptions else \"\"  # Assuming batch_size=1\n",
    "\n",
    "        if debug_printing:\n",
    "            print(\"Transcription LM:\", transcription)\n",
    "    \n",
    "        return transcription\n",
    "    \n",
    "    \n",
    "    \n",
    "    def transcribe_lm(input_file, output_folder, target_sr=target_sr, TIME_CHUNK=TIME_CHUNK):\n",
    "        # Load the audio\n",
    "        waveform, orig_sr = torchaudio.load(input_file)\n",
    "    \n",
    "        # Check if resampling is needed\n",
    "        if orig_sr != target_sr:\n",
    "            resampler = torchaudio.transforms.Resample(orig_freq=orig_sr, new_freq=target_sr)\n",
    "            waveform = resampler(waveform)\n",
    "    \n",
    "        # Determine the output file name and format (always WAV)\n",
    "        base_name = os.path.splitext(os.path.basename(input_file))[0]\n",
    "    \n",
    "        # Convert waveform to numpy array for easier processing\n",
    "        waveform_np = waveform.squeeze().numpy()\n",
    "    \n",
    "       \n",
    "        if testing_asr:\n",
    "    ################### RUN THE WHOLE AUDIO FILES ##########################\n",
    "            tekst = process_transcribe_lm(input_file, processor0lm, model0lm)\n",
    "           \n",
    "            if debug_printing == True:\n",
    "                print(f\"LM p_t_l Transcription for {base_name}: {tekst}\")\n",
    "            print(tekst)\n",
    "        \n",
    "            #return tekst\n",
    "    \n",
    "        else:\n",
    "            # Function to detect silence points\n",
    "            def find_silence_points(signal, threshold, min_silence_length, sr):\n",
    "                silence_points = []\n",
    "                min_silence_samples = int(min_silence_length * sr)\n",
    "                is_silence = np.abs(signal) < threshold\n",
    "                silence_length = 0\n",
    "                for i in range(len(is_silence)):\n",
    "                    if is_silence[i]:\n",
    "                        silence_length += 1\n",
    "                        if silence_length >= min_silence_samples:\n",
    "                            silence_points.append(i)\n",
    "                    else:\n",
    "                        silence_length = 0\n",
    "                return silence_points\n",
    "    \n",
    "    \n",
    "            # Find silence points in the audio\n",
    "            silence_points = find_silence_points(waveform_np, SILENCE_THRESHOLD, MIN_SILENCE_LENGTH, target_sr)\n",
    "        \n",
    "            if debug_printing == True:\n",
    "        \n",
    "                print(f\"Plotting point where silence ({len(silence_points)} points) has been detected in {input_file}\")\n",
    "                # Plot the waveform and silence points\n",
    "                plt.figure(figsize=(15, 5))\n",
    "                plt.plot(waveform_np, label='Waveform')\n",
    "                plt.scatter(silence_points, waveform_np[silence_points], color='red', marker='x', label='Silence Points')\n",
    "                plt.xlabel('Samples')\n",
    "                plt.ylabel('Amplitude')\n",
    "                plt.title('Waveform with Silence Points')\n",
    "                plt.legend()\n",
    "                plt.show()\n",
    "        \n",
    "            # Split the audio at silence points\n",
    "            chunk_start = 0\n",
    "            for i, point in enumerate(silence_points):\n",
    "                chunk_end = point\n",
    "                if chunk_end - chunk_start >= TIME_CHUNK * target_sr:\n",
    "                    chunk = waveform[:, chunk_start:chunk_end]\n",
    "                    output_file = os.path.join(output_folder, f\"{base_name}_temp_chunk{i}.wav\")\n",
    "                    torchaudio.save(output_file, chunk, sample_rate=target_sr)\n",
    "        \n",
    "                    # Process the temporary WAV file\n",
    "    ####################################################################\n",
    "                    tekst = process_transcribe_lm(input_file, processor0lm, model0lm)\n",
    "                    time = format_time(chunk_start / target_sr)\n",
    "                    print(f\"[{time}] {tekst}\")\n",
    "        \n",
    "                    # Optionally, you can delete the temporary WAV file after processing\n",
    "                    os.remove(output_file)\n",
    "        \n",
    "                    chunk_start = chunk_end\n",
    "                    \n",
    "            def format_time(seconds):\n",
    "                minutes = int(seconds // 60)\n",
    "                seconds = int(seconds % 60)\n",
    "                return f\"{minutes:02d}:{seconds:02d}\"\n",
    "        \n",
    "            # Process the remaining audio if any\n",
    "            if chunk_start < waveform.size(1):\n",
    "                chunk = waveform[:, chunk_start:]\n",
    "                output_file = os.path.join(output_folder, f\"{base_name}_temp_chunk{len(silence_points)}.wav\")\n",
    "                torchaudio.save(output_file, chunk, sample_rate=target_sr)\n",
    "    ####################################################################\n",
    "                tekst = process_transcribe_lm(input_file, processor, model)\n",
    "                \n",
    "                time = format_time(chunk_start / target_sr)\n",
    "                print(f\"[{time}] {tekst}\")\n",
    "                os.remove(output_file)\n",
    "\n",
    "\n",
    "print(f\"Transcription function defined and active: \\nSplitting audio in: {TIME_CHUNK}s segments (dynamically). \\n\")\n"
   ]
  },
  {
   "cell_type": "markdown",
   "metadata": {
    "id": "x_ZwYCvBSBtG"
   },
   "source": [
    "## [6] Quick test to verify"
   ]
  },
  {
   "cell_type": "code",
   "execution_count": 23,
   "metadata": {
    "execution": {
     "iopub.execute_input": "2024-06-20T18:23:37.663290Z",
     "iopub.status.busy": "2024-06-20T18:23:37.662300Z",
     "iopub.status.idle": "2024-06-20T18:23:37.665285Z",
     "shell.execute_reply": "2024-06-20T18:23:37.665285Z",
     "shell.execute_reply.started": "2024-06-20T18:23:37.662300Z"
    }
   },
   "outputs": [],
   "source": [
    "debug_printing = False"
   ]
  },
  {
   "cell_type": "code",
   "execution_count": 28,
   "metadata": {
    "execution": {
     "iopub.execute_input": "2024-06-20T18:25:59.190932Z",
     "iopub.status.busy": "2024-06-20T18:25:59.189945Z",
     "iopub.status.idle": "2024-06-20T18:25:59.193450Z",
     "shell.execute_reply": "2024-06-20T18:25:59.193450Z",
     "shell.execute_reply.started": "2024-06-20T18:25:59.190932Z"
    }
   },
   "outputs": [],
   "source": [
    "path_to_pshr_wav2vec2_l = r\"D:\\ASR\\ParlaspeechHR\\wav2vec2-large-slavih-hr\\wav2vec2-large-slavic-parlaspeech-hr\"\n",
    "path_to_pshr_wav2vec2_l_lm = r\"D:\\ASR\\ParlaspeechHR\\wav2vec2-large-slavic-hr-lm-custom\"\n",
    "\n",
    "#test_audio_path_pc = r\"D:\\ASR\\ParlaspeechHR\\wav2vec2-large-slavic-hr-lm\\nela_film_review.ogg\" # WORKS WELL\n",
    "test_audio_path_pc = r\"D:\\ASR\\ParlaspeechHR\\ivan_snimka.opus\""
   ]
  },
  {
   "cell_type": "code",
   "execution_count": 29,
   "metadata": {
    "colab": {
     "base_uri": "https://localhost:8080/"
    },
    "execution": {
     "iopub.execute_input": "2024-06-20T18:25:59.431065Z",
     "iopub.status.busy": "2024-06-20T18:25:59.430067Z",
     "iopub.status.idle": "2024-06-20T18:26:10.309625Z",
     "shell.execute_reply": "2024-06-20T18:26:10.309625Z",
     "shell.execute_reply.started": "2024-06-20T18:25:59.430067Z"
    },
    "executionInfo": {
     "elapsed": 27946,
     "status": "ok",
     "timestamp": 1718360448610,
     "user": {
      "displayName": "Ivan Porupski",
      "userId": "03127310887960034948"
     },
     "user_tz": -120
    },
    "id": "qovFsXvCNTEc",
    "outputId": "d50a5b1a-a99b-43aa-d938-6b758934dbd4"
   },
   "outputs": [
    {
     "name": "stdout",
     "output_type": "stream",
     "text": [
      "No chunking. Per file basis. (testing_asr = True)\n",
      "\n",
      "sada ti šaljem glasovnu poruku i ne znam šta pričam ali evo pričam znači ovo tu mi je trebalo jedno 30 sati da dođem do ovog trenutka pričem normlno razgovjetno i nadam se da će transkripcija biti dobra naime ja to nisam izmislio nego su to zapravo r slovensa uzeli od facboka model i strenirali ga na govoru iz parlamenta specifično za hrvatski jeziki\n",
      "\n",
      "\n",
      "\n"
     ]
    },
    {
     "name": "stderr",
     "output_type": "stream",
     "text": [
      "Parallel batch decoding is not currently supported in this platform. Falling back to sequential decoding.\n"
     ]
    },
    {
     "name": "stdout",
     "output_type": "stream",
     "text": [
      "sada ti šaljem glasovnu poruku i ne znam šta pričam ali evo pričam znači ovo tu mi je trebalo jedno 30 sati da dođem do ovog trenutka pričam normalno razgovjetn i nadam se da će transkripcija biti dobra naime ja to nisam izmislio nego su to zapravo tri slovenca uzeli od facebooka model i strenirali ga na govoru iz parlamenta specifično za hrvatski jezik i\n"
     ]
    }
   ],
   "source": [
    "if testing_asr == True:\n",
    "    print(f\"No chunking. Per file basis. (testing_asr = {testing_asr})\\n\")\n",
    "else:\n",
    "    print(f\"Chunking audio! Using silence points. (testing_asr = {testing_asr})\\n\")\n",
    "\n",
    "\n",
    "if google_colabbing == True:\n",
    "\n",
    "    test_audio_path = \"/content/drive/MyDrive/pytorch/wav2vec2-large-slavic-hr-lm/ivan_snimka.opus\"\n",
    "    test_audio_temp = \"/content/wav2vec2-large-slavic-parlaspeech-hr/temp\"\n",
    "    \n",
    "else:\n",
    "\n",
    "    if make_model == \"non\":\n",
    "        # ACOUSTIC MODEL\n",
    "        test_audio_path = test_audio_path_pc\n",
    "        test_audio_temp = path_to_pshr_wav2vec2_l + r\"\\temp\"\n",
    "        transcribe(test_audio_path, test_audio_temp, target_sr=target_sr, TIME_CHUNK=TIME_CHUNK)\n",
    "\n",
    "    if make_model == \"lm\":\n",
    "        # LM MODEL\n",
    "        test_audio_path = test_audio_path_pc\n",
    "        test_audio_temp_lm = path_to_pshr_wav2vec2_l_lm + r\"\\temp\"\n",
    "        transcribe_lm(test_audio_path, test_audio_temp_lm, target_sr=target_sr, TIME_CHUNK=TIME_CHUNK)\n",
    "\n",
    "    if make_model == \"both\":\n",
    "        # ACOUSTIC MODEL\n",
    "        test_audio_path = test_audio_path_pc\n",
    "        test_audio_temp = path_to_pshr_wav2vec2_l + r\"\\temp\"\n",
    "        transcribe(test_audio_path, test_audio_temp, target_sr=target_sr, TIME_CHUNK=TIME_CHUNK)\n",
    "        print(f\"\\n\\n\")\n",
    "        # LM MODEL\n",
    "        test_audio_temp_lm = path_to_pshr_wav2vec2_l_lm + r\"\\temp\"\n",
    "        transcribe_lm(test_audio_path, test_audio_temp_lm, target_sr=target_sr, TIME_CHUNK=TIME_CHUNK)\n"
   ]
  },
  {
   "cell_type": "code",
   "execution_count": 30,
   "metadata": {
    "execution": {
     "iopub.execute_input": "2024-06-20T18:26:20.110446Z",
     "iopub.status.busy": "2024-06-20T18:26:20.110446Z",
     "iopub.status.idle": "2024-06-20T18:26:20.114364Z",
     "shell.execute_reply": "2024-06-20T18:26:20.114364Z",
     "shell.execute_reply.started": "2024-06-20T18:26:20.110446Z"
    }
   },
   "outputs": [
    {
     "name": "stdout",
     "output_type": "stream",
     "text": [
      "Vocabulary size NON: 50, LM: 50\n"
     ]
    }
   ],
   "source": [
    "# Check the vocabulary size of the processor\n",
    "\n",
    "if make_model == \"non\":\n",
    "        # ACOUSTIC MODEL\n",
    "        vocab_size = len(processor0.tokenizer.get_vocab())\n",
    "        print(f\"Vocabulary size NON: {vocab_size}\")\n",
    "\n",
    "if make_model == \"lm\":\n",
    "        # LM MODEL\n",
    "        vocab_size_lm = len(processor0lm.tokenizer.get_vocab())\n",
    "        print(f\"Vocabulary size LM: {vocab_size_lm}\")\n",
    "\n",
    "if make_model == \"both\":\n",
    "        vocab_size = len(processor0.tokenizer.get_vocab())\n",
    "        vocab_size_lm = len(processor0lm.tokenizer.get_vocab())\n",
    "        \n",
    "        print(f\"Vocabulary size NON: {vocab_size}, LM: {vocab_size_lm}\")"
   ]
  },
  {
   "cell_type": "markdown",
   "metadata": {
    "id": "zENOebskRMRG"
   },
   "source": [
    "# MODEL IS NOW OPERATIONAL"
   ]
  },
  {
   "cell_type": "markdown",
   "metadata": {
    "id": "R8dG337mSHjb"
   },
   "source": [
    "## [7] Prepare to run ling analysis"
   ]
  },
  {
   "cell_type": "code",
   "execution_count": 31,
   "metadata": {
    "execution": {
     "iopub.execute_input": "2024-06-20T18:26:26.446386Z",
     "iopub.status.busy": "2024-06-20T18:26:26.446386Z",
     "iopub.status.idle": "2024-06-20T18:26:32.329535Z",
     "shell.execute_reply": "2024-06-20T18:26:32.329535Z",
     "shell.execute_reply.started": "2024-06-20T18:26:26.446386Z"
    },
    "id": "uXKBhHqgNS7M"
   },
   "outputs": [
    {
     "name": "stdout",
     "output_type": "stream",
     "text": [
      "Number of audio files in 'D:\\ParlaSpeech-HR.v1.0\\raw': 403925\n",
      "\n",
      "Number of entries in 'D:\\ParlaSpeech-HR.v1.0\\ParlaSpeech-HR.v1.0.jsonl': 403925\n",
      "\n",
      "CPU times: total: 766 ms\n",
      "Wall time: 5.88 s\n"
     ]
    }
   ],
   "source": [
    "%%time\n",
    "\n",
    "import os\n",
    "\n",
    "# Directory containing audio files\n",
    "path_to_pshr_raw_audio_data = r\"D:\\ParlaSpeech-HR.v1.0\\raw\"\n",
    "\n",
    "# List all files in the directory\n",
    "audio_files = os.listdir(path_to_pshr_raw_audio_data)\n",
    "\n",
    "# Count the number of audio files\n",
    "num_audio_files = len(audio_files)\n",
    "\n",
    "print(f\"Number of audio files in '{path_to_pshr_raw_audio_data}': {num_audio_files}\\n\")\n",
    "\n",
    "# JSONL file containing metadata\n",
    "path_to_pshr_raw_jsonl = r\"D:\\ParlaSpeech-HR.v1.0\\ParlaSpeech-HR.v1.0.jsonl\"\n",
    "\n",
    "# Counting lines in the JSONL file\n",
    "num_entries = 0\n",
    "with open(path_to_pshr_raw_jsonl, 'r', encoding='utf-8') as f:\n",
    "    for line in f:\n",
    "        num_entries += 1\n",
    "\n",
    "print(f\"Number of entries in '{path_to_pshr_raw_jsonl}': {num_entries}\\n\")\n"
   ]
  },
  {
   "cell_type": "markdown",
   "metadata": {
    "jp-MarkdownHeadingCollapsed": true
   },
   "source": [
    "## Napraviti manji korpus od 120GB"
   ]
  },
  {
   "cell_type": "code",
   "execution_count": 15,
   "metadata": {
    "execution": {
     "iopub.execute_input": "2024-06-19T15:23:12.974743Z",
     "iopub.status.busy": "2024-06-19T15:23:12.973745Z",
     "iopub.status.idle": "2024-06-19T15:23:22.300509Z",
     "shell.execute_reply": "2024-06-19T15:23:22.300509Z",
     "shell.execute_reply.started": "2024-06-19T15:23:12.974743Z"
    }
   },
   "outputs": [
    {
     "name": "stdout",
     "output_type": "stream",
     "text": [
      "Number of audio files in 'D:\\ParlaSpeech-HR.v1.0\\raw': 403925\n",
      "\n",
      "Selected 10 random audio files and their metadata have been copied to the new locations.\n",
      "Audio files saved in: \n",
      "D:\\ParlaSpeech-HR.v1.0\\test_audio\n",
      "\n",
      "Metadata saved in: \n",
      "D:\\ParlaSpeech-HR.v1.0\\test_audio.jsonl\n",
      "\n",
      "CPU times: total: 9.22 s\n",
      "Wall time: 9.32 s\n"
     ]
    }
   ],
   "source": [
    "%%time\n",
    "\n",
    "import os\n",
    "import random\n",
    "import shutil\n",
    "import json\n",
    "\n",
    "# Constants\n",
    "n = 10  # Number of random samples to select\n",
    "path_to_pshr_raw_audio_data = r\"D:\\ParlaSpeech-HR.v1.0\\raw\"\n",
    "path_to_pshr_raw_jsonl = r\"D:\\ParlaSpeech-HR.v1.0\\ParlaSpeech-HR.v1.0.jsonl\"\n",
    "output_audio_directory = r\"D:\\ParlaSpeech-HR.v1.0\\test_audio\"\n",
    "output_jsonl_file = r\"D:\\ParlaSpeech-HR.v1.0\\test_audio.jsonl\"\n",
    "\n",
    "\n",
    "# Ensure the output directory exists\n",
    "os.makedirs(output_audio_directory, exist_ok=True)\n",
    "\n",
    "# List all audio files\n",
    "audio_files = os.listdir(path_to_pshr_raw_audio_data)\n",
    "\n",
    "# Count the number of audio files\n",
    "num_audio_files = len(audio_files)\n",
    "print(f\"Number of audio files in '{path_to_pshr_raw_audio_data}': {num_audio_files}\\n\")\n",
    "\n",
    "# Randomly select n audio files\n",
    "selected_audio_files = random.sample(audio_files, n)\n",
    "\n",
    "# Initialize a list to hold the selected JSONL lines\n",
    "selected_jsonl_lines = []\n",
    "\n",
    "# Read the JSONL file and collect corresponding lines for the selected audio files\n",
    "with open(path_to_pshr_raw_jsonl, 'r', encoding='utf-8') as f:\n",
    "    for line in f:\n",
    "        data = json.loads(line.strip())\n",
    "        audio_filename = os.path.basename(data['path'])\n",
    "        if audio_filename in selected_audio_files:\n",
    "            selected_jsonl_lines.append(line)\n",
    "\n",
    "# Save the selected JSONL lines to a new JSONL file\n",
    "with open(output_jsonl_file, 'w', encoding='utf-8') as f:\n",
    "    f.writelines(selected_jsonl_lines)\n",
    "\n",
    "# Copy selected audio files to the new directory\n",
    "for audio_file in selected_audio_files:\n",
    "    src = os.path.join(path_to_pshr_raw_audio_data, audio_file)\n",
    "    dst = os.path.join(output_audio_directory, audio_file)\n",
    "    shutil.copy(src, dst)\n",
    "\n",
    "\n",
    "print(f\"Selected {n} random audio files and their metadata have been copied to the new locations.\")\n",
    "print(f\"Audio files saved in: \\n{output_audio_directory}\\n\")\n",
    "print(f\"Metadata saved in: \\n{output_jsonl_file}\\n\")\n"
   ]
  },
  {
   "cell_type": "code",
   "execution_count": null,
   "metadata": {},
   "outputs": [],
   "source": [
    "import json\n",
    "\n",
    "# Path to the JSONL file\n",
    "path_to_jsonl_file = r\"D:\\ParlaSpeech-HR.v1.0\\test_audio.jsonl\"\n",
    "\n",
    "# Read and print the JSONL content\n",
    "with open(path_to_jsonl_file, 'r', encoding='utf-8') as f:\n",
    "    for line in f:\n",
    "        # Parse the JSON line\n",
    "        data = json.loads(line.strip())\n",
    "        # Print the parsed data\n",
    "        print(json.dumps(data, ensure_ascii=False, indent=2))  # ensure_ascii=False to print Unicode characters correctly\n"
   ]
  },
  {
   "cell_type": "code",
   "execution_count": null,
   "metadata": {},
   "outputs": [],
   "source": [
    "import chardet\n",
    "import json\n",
    "\n",
    "# Path to the JSONL file\n",
    "path_to_jsonl_file = r\"D:\\ParlaSpeech-HR.v1.0\\test_audio.jsonl\"\n",
    "\n",
    "# Detect file encoding\n",
    "with open(path_to_jsonl_file, 'rb') as f:\n",
    "    raw_data = f.read()\n",
    "    result = chardet.detect(raw_data)\n",
    "    encoding = result['encoding']\n",
    "    print(f\"Detected encoding: {encoding}\")\n",
    "\n",
    "# Read and print the JSONL content using the detected encoding\n",
    "with open(path_to_jsonl_file, 'r', encoding=encoding) as f:\n",
    "    for line in f:\n",
    "        # Parse the JSON line\n",
    "        data = json.loads(line.strip())\n",
    "        # Print the parsed data\n",
    "        print(json.dumps(data, ensure_ascii=False, indent=2))  # ensure_ascii=False to print Unicode characters correctly\n"
   ]
  },
  {
   "cell_type": "code",
   "execution_count": null,
   "metadata": {},
   "outputs": [],
   "source": [
    "import json\n",
    "\n",
    "# Path to the JSONL file\n",
    "path_to_jsonl_file = r\"D:\\ParlaSpeech-HR.v1.0\\test_audio.jsonl\"\n",
    "\n",
    "# Read and print the JSONL content as UTF-8\n",
    "with open(path_to_jsonl_file, 'r', encoding='utf-8') as f:\n",
    "    for line in f:\n",
    "        # Parse the JSON line\n",
    "        data = json.loads(line.strip())\n",
    "        # Print the parsed data with proper Unicode representation\n",
    "        print(json.dumps(data, ensure_ascii=False, indent=2))\n"
   ]
  },
  {
   "cell_type": "markdown",
   "metadata": {},
   "source": [
    "## Nastavak normalno"
   ]
  },
  {
   "cell_type": "code",
   "execution_count": 32,
   "metadata": {
    "execution": {
     "iopub.execute_input": "2024-06-20T18:26:32.330533Z",
     "iopub.status.busy": "2024-06-20T18:26:32.330533Z",
     "iopub.status.idle": "2024-06-20T18:26:32.335589Z",
     "shell.execute_reply": "2024-06-20T18:26:32.335589Z",
     "shell.execute_reply.started": "2024-06-20T18:26:32.330533Z"
    }
   },
   "outputs": [
    {
     "name": "stdout",
     "output_type": "stream",
     "text": [
      "audio_transcriptions: {'seg.-k1z8behXXg_14758.42-14778.39.flac': ['km', 'i', 'distribuira', 'ih', 'na', 'nekih', 'dvije', 'tisuće', 'šesto', 'priključaka', 'zahvaća', 'još', 'rubne', 'dijelove', 'nekih', 'drugih', 'lokalnih', 'jedinica', 'mogu', 'reć', 'da', 'ima', 'samo', 'osam', 'zaposlenih', 'ukupno', 'prihode', 'u', 'iznosu', 'od', 'četiriosam', 'milijuna', 'kuna', 'vrijednost', 'imovine', 'društva', 'četrdeset', 'pet', 'milijuna', 'kuna', 'evo', 'dvije', 'tisuće', 'četrnaest', 'do', 'dvije', 'tisuće', 'osamnaest', 'je', 'realizirano', 'je', 'ukupno'], 'seg.qNpeHxO0WzA_1967.6-1986.11.flac': ['primjeni', 'željezničkih', 'paketa', 'kojima', 'se', 'postupno', 'i', 'nezaustavljivo', 'stvara', 'jedinstveni', 'europski', 'željeznički', 'prostor', 'provedba', 'ovog', 'zakona', 'nema', 'financijski', 'utjecaj', 'na', 'državni', 'proračun', 'hvala', 'lijepo', 'zahvaljujem', 'ministru', 'imamo', 'sedam', 'replika', 'prvi', 'je', 'kolega', 'kirin', 'izvolite']}\n"
     ]
    }
   ],
   "source": [
    "import os\n",
    "import json\n",
    "\n",
    "# Paths to your data\n",
    "path_to_pshr_raw_audio_data = r\"D:\\ParlaSpeech-HR.v1.0\\raw\"\n",
    "path_to_pshr_raw_jsonl = r\"D:\\ParlaSpeech-HR.v1.0\\ParlaSpeech-HR.v1.0.jsonl\"\n",
    "\n",
    "# Limit number of transcriptions to print\n",
    "limit = 2\n",
    "count = 0\n",
    "\n",
    "# Read JSONL file\n",
    "audio_transcriptions = {}\n",
    "with open(path_to_pshr_raw_jsonl, 'r', encoding='utf-8') as jsonl_file:\n",
    "    for line in jsonl_file:\n",
    "        if count >= limit:\n",
    "            break\n",
    "        \n",
    "        data = json.loads(line.strip())\n",
    "        audio_filename = os.path.basename(data['path'])\n",
    "        audio_transcriptions[audio_filename] = data['norm_words']  # Use 'norm_words' or other transcription field\n",
    "        \n",
    "        count += 1\n",
    "        \n",
    "audio_transcriptions = dict(sorted(audio_transcriptions.items()))\n",
    "\n",
    "print(f\"audio_transcriptions: {audio_transcriptions}\")\n"
   ]
  },
  {
   "cell_type": "markdown",
   "metadata": {},
   "source": [
    "### Generiranje audio_transcriptions dict(sorted)"
   ]
  },
  {
   "cell_type": "code",
   "execution_count": 33,
   "metadata": {
    "execution": {
     "iopub.execute_input": "2024-06-20T18:26:32.574947Z",
     "iopub.status.busy": "2024-06-20T18:26:32.573949Z",
     "iopub.status.idle": "2024-06-20T18:26:44.828453Z",
     "shell.execute_reply": "2024-06-20T18:26:44.828453Z",
     "shell.execute_reply.started": "2024-06-20T18:26:32.574947Z"
    }
   },
   "outputs": [
    {
     "name": "stdout",
     "output_type": "stream",
     "text": [
      "FULL AUDIO_TRANSCRIPTIONS HERE\n",
      "CPU times: total: 12.2 s\n",
      "Wall time: 12.2 s\n"
     ]
    }
   ],
   "source": [
    "%%time\n",
    "\n",
    "print(f\"FULL AUDIO_TRANSCRIPTIONS HERE\")\n",
    "\n",
    "import os\n",
    "import json\n",
    "\n",
    "# Paths to your data\n",
    "path_to_pshr_raw_audio_data = r\"D:\\ParlaSpeech-HR.v1.0\\raw\"\n",
    "path_to_pshr_raw_jsonl = r\"D:\\ParlaSpeech-HR.v1.0\\ParlaSpeech-HR.v1.0.jsonl\"\n",
    "\n",
    "# Read JSONL file\n",
    "audio_transcriptions = {}\n",
    "with open(path_to_pshr_raw_jsonl, 'r', encoding='utf-8') as jsonl_file:\n",
    "    for line in jsonl_file:\n",
    "        data = json.loads(line.strip())\n",
    "        audio_filename = os.path.basename(data['path'])\n",
    "        audio_transcriptions[audio_filename] = data['norm_words']  # Use 'norm_words' or other transcription field\n",
    "\n",
    "audio_transcriptions = dict(sorted(audio_transcriptions.items()))\n",
    "\n"
   ]
  },
  {
   "cell_type": "code",
   "execution_count": 34,
   "metadata": {
    "execution": {
     "iopub.execute_input": "2024-06-20T18:26:44.829447Z",
     "iopub.status.busy": "2024-06-20T18:26:44.829447Z",
     "iopub.status.idle": "2024-06-20T18:26:45.033167Z",
     "shell.execute_reply": "2024-06-20T18:26:45.032639Z",
     "shell.execute_reply.started": "2024-06-20T18:26:44.829447Z"
    }
   },
   "outputs": [
    {
     "name": "stdout",
     "output_type": "stream",
     "text": [
      "Displaying first 3 audio names w/ transcription:\n",
      "\n",
      "debug_printing: False\n",
      "\n",
      "Correlating audio files with transcriptions:\n",
      "\n",
      "Audio File:\n",
      "seg.-EO06cT21uY_10038.21-10054.64.flac\n",
      "\n",
      "Transcription:\n",
      "lijepo kolegice i kolege nemojte se vi varda hihotat prije četirig ste izdali birače sad jedva čekam da vidim kako će vas nagradit jedva čekam hvala lijepo kolegice i kolega kolege zastupnici g potpredsjedniče\n",
      "------------------------------\n",
      "\n",
      "\n",
      "Audio File:\n",
      "seg.-EO06cT21uY_10111.7-10131.55.flac\n",
      "\n",
      "Transcription:\n",
      "hadeze želi pokušati dati obećanje za šest mjeseci da će neki građani dobiti osam stotina kuna i jedina svrha ovog zakona su je kampanja odnosno izbori i predizborna kampanja jer kako drugačije objasniti da niste dali kada\n",
      "------------------------------\n",
      "\n",
      "\n",
      "Audio File:\n",
      "seg.-EO06cT21uY_10131.55-10147.16.flac\n",
      "\n",
      "Transcription:\n",
      "ste imali rast tri posto a sada predlaže kao fol g aladrović i plenković se brinu za naše starije sugrađane i evo kad ćemo imati pad od deset posto izdvojili su osamsto kuna\n",
      "------------------------------\n",
      "\n",
      "\n",
      "CPU times: total: 188 ms\n",
      "Wall time: 198 ms\n"
     ]
    }
   ],
   "source": [
    "%%time\n",
    "\n",
    "# Print limited number of audio_transcriptions\n",
    "limit = 3\n",
    "count = 0\n",
    "\n",
    "print(f\"Displaying first {limit} audio names w/ transcription:\\n\")\n",
    "\n",
    "# List all files in the directory\n",
    "all_files = os.listdir(path_to_pshr_raw_audio_data)\n",
    "\n",
    "# Sort the files alphabetically or by any other criteria, if needed\n",
    "all_files.sort()\n",
    "\n",
    "# Select the first 10 files\n",
    "first_10_files = all_files[:10]\n",
    "\n",
    "print(f\"debug_printing: {debug_printing}\")\n",
    "\n",
    "if debug_printing == True:\n",
    "    # Debug prints\n",
    "    print(\"First 10 Files:\")\n",
    "    print(first_10_files)\n",
    "    print(\"\\nAudio Transcriptions:\")\n",
    "\n",
    "for filename, transcription in audio_transcriptions.items():\n",
    "    if count >= limit:\n",
    "        break\n",
    "    if debug_printing == True:\n",
    "        print(f\"{filename}: {transcription}\")\n",
    "    count += 1\n",
    "\n",
    "# Step 3: Correlate audio files with transcriptions (limiting to 'limit' iterations)\n",
    "print(\"\\nCorrelating audio files with transcriptions:\\n\")\n",
    "for i, audio_file in enumerate(first_10_files[:limit]):\n",
    "    if audio_file in audio_transcriptions:\n",
    "        transcription = ' '.join(audio_transcriptions[audio_file])\n",
    "        print(f\"Audio File:\\n{audio_file}\\n\\nTranscription:\\n{transcription}\")\n",
    "    else:\n",
    "        print(f\"No transcription found for {audio_file}\")\n",
    "    \n",
    "    # Add a separator between iterations for clarity, except after the last item\n",
    "    if i < (limit):\n",
    "        print(\"-\" * 30)\n",
    "        print(\"\\n\")\n"
   ]
  },
  {
   "cell_type": "markdown",
   "metadata": {},
   "source": [
    "# TESTING TRANSCRIPTIONS now"
   ]
  },
  {
   "cell_type": "markdown",
   "metadata": {},
   "source": [
    "## * def tokenize_text, normalize_numbers"
   ]
  },
  {
   "cell_type": "code",
   "execution_count": 35,
   "metadata": {
    "execution": {
     "iopub.execute_input": "2024-06-20T18:26:45.034141Z",
     "iopub.status.busy": "2024-06-20T18:26:45.033167Z",
     "iopub.status.idle": "2024-06-20T18:26:45.788533Z",
     "shell.execute_reply": "2024-06-20T18:26:45.788533Z",
     "shell.execute_reply.started": "2024-06-20T18:26:45.034141Z"
    }
   },
   "outputs": [
    {
     "name": "stdout",
     "output_type": "stream",
     "text": [
      "Functions def tokenize_text and def normalize_numbers online.\n"
     ]
    }
   ],
   "source": [
    "## NEW\n",
    "\n",
    "import os\n",
    "from jiwer import wer\n",
    "from fuzzywuzzy import fuzz\n",
    "\n",
    "similarity_threshold = 80  # Example threshold, can be adjusted based on requirements\n",
    "max_search_distance = 5  # Maximum number of tokens to search ahead for a match\n",
    "\n",
    "# Function to tokenize text by removing dots and commas, then splitting into tokens\n",
    "def tokenize_text(text):\n",
    "    # Remove dots and commas\n",
    "    if debug_printing == True:\n",
    "        print(f\"Type of text: {type(text)}\")\n",
    "    \n",
    "    text = text.replace('.', '').replace(',', '')\n",
    "    # Convert to lowercase and split into tokens\n",
    "    tokens = text.lower().split()\n",
    "    return tokens\n",
    "\n",
    "# Function to normalize numbers within tokens\n",
    "def normalize_numbers(tokens, norm_nums):\n",
    "    def decompose_number(num):\n",
    "        components = []\n",
    "        if num >= 1000:\n",
    "            thousands = num // 1000 * 1000\n",
    "            components.append(thousands)\n",
    "            num %= 1000\n",
    "        if num >= 100:\n",
    "            hundreds = num // 100 * 100\n",
    "            components.append(hundreds)\n",
    "            num %= 100\n",
    "        if num >= 20:\n",
    "            tens = num // 10 * 10\n",
    "            components.append(tens)\n",
    "            num %= 10\n",
    "        if num > 0:\n",
    "            components.append(num)\n",
    "        return components\n",
    "\n",
    "    normalized_tokens = []\n",
    "    for token in tokens:\n",
    "        if token.isdigit():\n",
    "            num = int(token)\n",
    "            components = decompose_number(num)\n",
    "            for component in components:\n",
    "                if component in norm_nums:\n",
    "                    normalized_tokens.append(norm_nums[component])\n",
    "        elif token.lower() in norm_nums:\n",
    "            normalized_tokens.append(norm_nums[token.lower()])\n",
    "        else:\n",
    "            normalized_tokens.append(token)\n",
    "    \n",
    "    # Flatten the list in case there are combined tokens like \"dvije tisuće\"\n",
    "    flattened_tokens = []\n",
    "    for token in normalized_tokens:\n",
    "        if ' ' in token:\n",
    "            flattened_tokens.extend(token.split())\n",
    "        else:\n",
    "            flattened_tokens.append(token)\n",
    "    \n",
    "    return flattened_tokens\n",
    "    \n",
    "\n",
    "print(f\"Functions def tokenize_text and def normalize_numbers online.\")"
   ]
  },
  {
   "cell_type": "markdown",
   "metadata": {},
   "source": [
    "## def align_tokens"
   ]
  },
  {
   "cell_type": "code",
   "execution_count": 36,
   "metadata": {
    "execution": {
     "iopub.execute_input": "2024-06-20T18:26:45.790528Z",
     "iopub.status.busy": "2024-06-20T18:26:45.789529Z",
     "iopub.status.idle": "2024-06-20T18:26:45.797586Z",
     "shell.execute_reply": "2024-06-20T18:26:45.797586Z",
     "shell.execute_reply.started": "2024-06-20T18:26:45.790528Z"
    }
   },
   "outputs": [
    {
     "name": "stdout",
     "output_type": "stream",
     "text": [
      "Function def align_tokens online.\n"
     ]
    }
   ],
   "source": [
    "from fuzzywuzzy import fuzz\n",
    "\n",
    "def align_tokens(original_tokens, asr_tokens, similarity_threshold, substitution_threshold=60, max_search_distance=5, debug_printing=False):\n",
    "    aligned_asr_tokens = []\n",
    "    asr_index = 0\n",
    "    matched_indices = set()  # To track indices in asr_tokens that have been matched\n",
    "    asr_substitutions = 0  # Count of substitutions\n",
    "    \n",
    "    for original_token_index, original_token in enumerate(original_tokens):\n",
    "        found_match = False\n",
    "        search_end = min(asr_index + max_search_distance, len(asr_tokens))\n",
    "        \n",
    "        for i in range(asr_index, search_end):\n",
    "            if i in matched_indices:\n",
    "                continue  # Skip already matched tokens\n",
    "            \n",
    "            asr_token = asr_tokens[i]\n",
    "            similarity = fuzz.ratio(original_token, asr_token)\n",
    "            \n",
    "            if debug_printing:\n",
    "                print(f\"Comparing original token '{original_token}' with ASR token '{asr_token}': Similarity = {similarity}\")\n",
    "                \n",
    "            if similarity >= similarity_threshold:\n",
    "                # Found a match, so align both original and ASR tokens\n",
    "                aligned_asr_tokens.append(asr_token)\n",
    "                asr_index = i + 1  # Move the ASR index forward\n",
    "                found_match = True\n",
    "                matched_indices.add(i)\n",
    "                \n",
    "                if debug_printing:\n",
    "                    print(f\"Match found for '{original_token}' with '{asr_token}'\")\n",
    "                    \n",
    "                break\n",
    "            elif similarity >= substitution_threshold:\n",
    "                # If the similarity is high enough but not a perfect match, count as substitution\n",
    "                aligned_asr_tokens.append(asr_token)\n",
    "                asr_index = i + 1  # Move the ASR index forward\n",
    "                asr_substitutions += 1\n",
    "                found_match = True\n",
    "                matched_indices.add(i)\n",
    "                \n",
    "                if debug_printing:\n",
    "                    print(f\"Substitution found for '{original_token}' with '{asr_token}'\")\n",
    "                    \n",
    "                break\n",
    "        \n",
    "        if not found_match:\n",
    "            # No match found within the search distance, consider it a deletion\n",
    "            aligned_asr_tokens.append(None)  # Mark deletion with None\n",
    "            \n",
    "            if debug_printing:\n",
    "                print(f\"No match found for '{original_token}', handling as deletion...\")\n",
    "    \n",
    "    # Calculate additions (tokens in asr_tokens not matched with any original token)\n",
    "    asr_addition = len([token for i, token in enumerate(asr_tokens) if i not in matched_indices])\n",
    "    \n",
    "    if debug_printing:\n",
    "        print(f\"Aligned ASR tokens: {aligned_asr_tokens}\\n\")\n",
    "        \n",
    "    return aligned_asr_tokens, asr_addition, asr_substitutions\n",
    "\n",
    "print(f\"Function def align_tokens online.\")\n",
    "\n"
   ]
  },
  {
   "cell_type": "markdown",
   "metadata": {},
   "source": [
    "## Definiranje znamenki (robustnost)"
   ]
  },
  {
   "cell_type": "code",
   "execution_count": 37,
   "metadata": {
    "execution": {
     "iopub.execute_input": "2024-06-20T18:26:45.798582Z",
     "iopub.status.busy": "2024-06-20T18:26:45.798582Z",
     "iopub.status.idle": "2024-06-20T18:26:45.804570Z",
     "shell.execute_reply": "2024-06-20T18:26:45.804570Z",
     "shell.execute_reply.started": "2024-06-20T18:26:45.798582Z"
    }
   },
   "outputs": [],
   "source": [
    "# Define the mappings for numbers in Croatian\n",
    "norm_nums = {\n",
    "    1: 'jedan',\n",
    "    2: 'dva',\n",
    "    3: 'tri',\n",
    "    4: 'četiri',\n",
    "    5: 'pet',\n",
    "    6: 'šest',\n",
    "    7: 'sedam',\n",
    "    8: 'osam',\n",
    "    9: 'devet',\n",
    "    10: 'deset',\n",
    "    11: 'jedanaest',\n",
    "    12: 'dvanaest',\n",
    "    13: 'trinaest',\n",
    "    14: 'četrnaest',\n",
    "    15: 'petnaest',\n",
    "    16: 'šesnaest',\n",
    "    17: 'sedamnaest',\n",
    "    18: 'osamnaest',\n",
    "    19: 'devetnaest',\n",
    "    20: 'dvadeset',\n",
    "    30: 'trideset',\n",
    "    40: 'četrdeset',\n",
    "    50: 'pedeset',\n",
    "    60: 'šezdeset',\n",
    "    70: 'sedamdeset',\n",
    "    80: 'osamdeset',\n",
    "    90: 'devedeset',\n",
    "    100: 'sto',\n",
    "    200: 'dvjesto',\n",
    "    300: 'tristo',\n",
    "    400: 'četiristo',\n",
    "    500: 'petsto',\n",
    "    600: 'šesto',\n",
    "    700: 'sedamsto',\n",
    "    800: 'osamsto',\n",
    "    900: 'devetsto',\n",
    "    1000: 'tisuća',\n",
    "    2000: 'dvije tisuće',  # Two thousand\n",
    "    3000: 'tri tisuće',    # Three thousand\n",
    "    4000: 'četiri tisuće', # Four thousand\n",
    "    5000: 'pet tisuća',    # Five thousand\n",
    "    6000: 'šest tisuća',   # Six thousand\n",
    "    7000: 'sedam tisuća',  # Seven thousand\n",
    "    8000: 'osam tisuća',   # Eight thousand\n",
    "    9000: 'devet tisuća',  # Nine thousand\n",
    "}\n",
    "\n",
    "# Create the reverse mapping for Croatian numbers\n",
    "norm_nums_reverse = {value: key for key, value in norm_nums.items()}\n"
   ]
  },
  {
   "cell_type": "code",
   "execution_count": 38,
   "metadata": {
    "execution": {
     "iopub.execute_input": "2024-06-20T18:26:45.805567Z",
     "iopub.status.busy": "2024-06-20T18:26:45.805567Z",
     "iopub.status.idle": "2024-06-20T18:26:45.808645Z",
     "shell.execute_reply": "2024-06-20T18:26:45.808645Z",
     "shell.execute_reply.started": "2024-06-20T18:26:45.805567Z"
    }
   },
   "outputs": [
    {
     "name": "stdout",
     "output_type": "stream",
     "text": [
      "Tokens: ['ovo', 'je', '2012', 'godina', 'zar', 'ne']\n",
      "Normalized Tokens: ['ovo', 'je', 'dvije', 'tisuće', 'dvanaest', 'godina', 'zar', 'ne']\n"
     ]
    }
   ],
   "source": [
    "# Example usage\n",
    "tekst = \"Ovo je 2012. godina, zar ne\"\n",
    "\n",
    "asr_tokens = tokenize_text(tekst)\n",
    "print(\"Tokens:\", asr_tokens)\n",
    "\n",
    "normalized_tokens = normalize_numbers(asr_tokens, norm_nums)\n",
    "normalized_tokens = normalized_tokens\n",
    "print(\"Normalized Tokens:\", normalized_tokens)\n",
    "\n",
    "# Expected output\n",
    "# Tokens: ['ovo', 'je', '2012', 'godina', 'zar', 'ne']\n",
    "# Normalized Tokens: ['ovo', 'je', 'dvije', 'tisuće', 'dvanaest', 'godina', 'zar', 'ne']"
   ]
  },
  {
   "cell_type": "markdown",
   "metadata": {},
   "source": [
    "## Setting up CER calcs"
   ]
  },
  {
   "cell_type": "code",
   "execution_count": 39,
   "metadata": {
    "execution": {
     "iopub.execute_input": "2024-06-20T18:26:47.022236Z",
     "iopub.status.busy": "2024-06-20T18:26:47.022236Z",
     "iopub.status.idle": "2024-06-20T18:26:47.036843Z",
     "shell.execute_reply": "2024-06-20T18:26:47.036843Z",
     "shell.execute_reply.started": "2024-06-20T18:26:47.022236Z"
    }
   },
   "outputs": [
    {
     "name": "stdout",
     "output_type": "stream",
     "text": [
      "CER: 0.25\n",
      "Substitutions: 2\n",
      "Insertions: 1\n",
      "Deletions: 1\n"
     ]
    }
   ],
   "source": [
    "def calculate_cer(original_tokens, aligned_asr_tokens):\n",
    "    substitutions = 0\n",
    "    insertions = 0\n",
    "    deletions = 0\n",
    "    total_characters = sum(len(token) for token in original_tokens)\n",
    "    \n",
    "    for orig_token, asr_token in zip(original_tokens, aligned_asr_tokens):\n",
    "        if asr_token is None:\n",
    "            # Count each character in the original token as a deletion\n",
    "            deletions += len(orig_token)\n",
    "        else:\n",
    "            # Calculate the character-level Levenshtein distance\n",
    "            orig_chars = list(orig_token)\n",
    "            asr_chars = list(asr_token)\n",
    "            len_orig = len(orig_chars)\n",
    "            len_asr = len(asr_chars)\n",
    "            \n",
    "            # Initialize the distance matrix\n",
    "            d = [[0] * (len_asr + 1) for _ in range(len_orig + 1)]\n",
    "            \n",
    "            for i in range(len_orig + 1):\n",
    "                d[i][0] = i\n",
    "            for j in range(len_asr + 1):\n",
    "                d[0][j] = j\n",
    "            \n",
    "            for i in range(1, len_orig + 1):\n",
    "                for j in range(1, len_asr + 1):\n",
    "                    if orig_chars[i - 1] == asr_chars[j - 1]:\n",
    "                        cost = 0\n",
    "                    else:\n",
    "                        cost = 1\n",
    "                    d[i][j] = min(\n",
    "                        d[i - 1][j] + 1,    # Deletion\n",
    "                        d[i][j - 1] + 1,    # Insertion\n",
    "                        d[i - 1][j - 1] + cost  # Substitution\n",
    "                    )\n",
    "            \n",
    "            # The Levenshtein distance is the number of edits required\n",
    "            levenshtein_distance = d[len_orig][len_asr]\n",
    "            \n",
    "            # Calculate the number of deletions, insertions, and substitutions\n",
    "            # from the distance matrix\n",
    "            i = len_orig\n",
    "            j = len_asr\n",
    "            while i > 0 and j > 0:\n",
    "                if orig_chars[i - 1] == asr_chars[j - 1]:\n",
    "                    i -= 1\n",
    "                    j -= 1\n",
    "                elif d[i][j] == d[i - 1][j - 1] + 1:\n",
    "                    substitutions += 1\n",
    "                    i -= 1\n",
    "                    j -= 1\n",
    "                elif d[i][j] == d[i - 1][j] + 1:\n",
    "                    deletions += 1\n",
    "                    i -= 1\n",
    "                elif d[i][j] == d[i][j - 1] + 1:\n",
    "                    insertions += 1\n",
    "                    j -= 1\n",
    "            \n",
    "            # Remaining deletions and insertions\n",
    "            while i > 0:\n",
    "                deletions += 1\n",
    "                i -= 1\n",
    "            while j > 0:\n",
    "                insertions += 1\n",
    "                j -= 1\n",
    "    \n",
    "    cer = (substitutions + insertions + deletions) / total_characters\n",
    "    return cer, substitutions, insertions, deletions\n",
    "\n",
    "# Example usage\n",
    "original_tokens = ['ministar', 'ne', 'možete']\n",
    "aligned_asr_tokens = ['ministaro', 'en', 'možet']\n",
    "\n",
    "cer, substitutions, insertions, deletions = calculate_cer(original_tokens, aligned_asr_tokens)\n",
    "print(f\"CER: {cer}\")\n",
    "print(f\"Substitutions: {substitutions}\")\n",
    "print(f\"Insertions: {insertions}\")\n",
    "print(f\"Deletions: {deletions}\")\n"
   ]
  },
  {
   "cell_type": "markdown",
   "metadata": {},
   "source": [
    "## Run WER and CER matching"
   ]
  },
  {
   "cell_type": "code",
   "execution_count": 76,
   "metadata": {
    "execution": {
     "iopub.execute_input": "2024-06-20T19:35:32.208803Z",
     "iopub.status.busy": "2024-06-20T19:35:32.208803Z",
     "iopub.status.idle": "2024-06-20T19:35:32.216782Z",
     "shell.execute_reply": "2024-06-20T19:35:32.216782Z",
     "shell.execute_reply.started": "2024-06-20T19:35:32.208803Z"
    }
   },
   "outputs": [
    {
     "name": "stdout",
     "output_type": "stream",
     "text": [
      "Loading WER_results for CURRENT VERSION...\n",
      "Loaded WER_results from: D:\\ASR\\ParlaspeechHR\\WER_results_v5.0.json\n"
     ]
    }
   ],
   "source": [
    "debug_printing = False\n",
    "WER_results = []\n",
    "\n",
    "import os\n",
    "import json\n",
    "\n",
    "\n",
    "dict_file_path = path_to_pshr_models\n",
    "wer_plot_save_path = path_to_pshr_models\n",
    "cer_plot_save_path = path_to_pshr_models\n",
    "\n",
    "dict_main_name = f\"WER_results_{work_version}.json\"\n",
    "\n",
    "old_default_version = \"v5.0\"\n",
    "old_dict_main_name = f\"WER_results_{old_default_version}.json\"\n",
    "\n",
    "\n",
    "dict_file_path_full = os.path.join(dict_file_path, dict_main_name)\n",
    "old_dict_file_path_full = os.path.join(dict_file_path, old_dict_main_name)\n",
    "\n",
    "# Check if the file for the current work version exists\n",
    "if os.path.exists(dict_file_path_full):\n",
    "    print(f\"Loading WER_results for CURRENT VERSION...\")\n",
    "    # Load existing data from JSON file for current version\n",
    "    with open(dict_file_path_full, \"r\") as f:\n",
    "        WER_results = json.load(f)\n",
    "    print(f\"Loaded WER_results from: {dict_file_path_full}\")\n",
    "    wer_plot_from_version = dict_main_name\n",
    "    cer_plot_from_version = dict_main_name\n",
    "    \n",
    "\n",
    "# Check if the file for the old default version exists\n",
    "elif os.path.exists(old_dict_file_path_full):\n",
    "    print(f\"Loading WER_results for OLD DEFAULT VERSION...\")\n",
    "    # Load existing data from JSON file for old default version\n",
    "    with open(old_dict_file_path_full, \"r\") as f:\n",
    "        WER_results = json.load(f)\n",
    "    print(f\"Loaded WER_results from: {old_dict_file_path_full}\")\n",
    "    wer_plot_from_version = old_dict_main_name\n",
    "    cer_plot_from_version = old_dict_main_name\n",
    "\n",
    "# Neither file exists, initialize WER_results as an empty list\n",
    "else:\n",
    "    WER_results = []\n",
    "    print(f\"No WER_results Dict found for either current or old default version.\\nMaking a new empty one...\")\n",
    "\n"
   ]
  },
  {
   "cell_type": "code",
   "execution_count": 49,
   "metadata": {
    "execution": {
     "iopub.execute_input": "2024-06-20T18:28:50.838438Z",
     "iopub.status.busy": "2024-06-20T18:28:50.838438Z",
     "iopub.status.idle": "2024-06-20T18:28:50.840622Z",
     "shell.execute_reply": "2024-06-20T18:28:50.840622Z",
     "shell.execute_reply.started": "2024-06-20T18:28:50.838438Z"
    }
   },
   "outputs": [],
   "source": [
    "debug_printing=True\n",
    "clear_lm_print = False"
   ]
  },
  {
   "cell_type": "code",
   "execution_count": 50,
   "metadata": {
    "execution": {
     "iopub.execute_input": "2024-06-20T18:28:51.076712Z",
     "iopub.status.busy": "2024-06-20T18:28:51.076712Z",
     "iopub.status.idle": "2024-06-20T18:28:51.079437Z",
     "shell.execute_reply": "2024-06-20T18:28:51.079437Z",
     "shell.execute_reply.started": "2024-06-20T18:28:51.076712Z"
    }
   },
   "outputs": [],
   "source": [
    "debug_printing=False\n",
    "clear_lm_print = True"
   ]
  },
  {
   "cell_type": "code",
   "execution_count": 46,
   "metadata": {
    "execution": {
     "iopub.execute_input": "2024-06-20T18:27:52.852762Z",
     "iopub.status.busy": "2024-06-20T18:27:52.852762Z",
     "iopub.status.idle": "2024-06-20T18:27:52.856798Z",
     "shell.execute_reply": "2024-06-20T18:27:52.856263Z",
     "shell.execute_reply.started": "2024-06-20T18:27:52.852762Z"
    }
   },
   "outputs": [],
   "source": [
    "WER_results = []"
   ]
  },
  {
   "cell_type": "code",
   "execution_count": 47,
   "metadata": {
    "execution": {
     "iopub.execute_input": "2024-06-20T18:27:53.141044Z",
     "iopub.status.busy": "2024-06-20T18:27:53.141044Z",
     "iopub.status.idle": "2024-06-20T18:27:53.145033Z",
     "shell.execute_reply": "2024-06-20T18:27:53.145033Z",
     "shell.execute_reply.started": "2024-06-20T18:27:53.141044Z"
    }
   },
   "outputs": [
    {
     "name": "stdout",
     "output_type": "stream",
     "text": [
      "both\n"
     ]
    }
   ],
   "source": [
    "print(make_model)"
   ]
  },
  {
   "cell_type": "code",
   "execution_count": 77,
   "metadata": {
    "execution": {
     "iopub.execute_input": "2024-06-20T19:35:43.289050Z",
     "iopub.status.busy": "2024-06-20T19:35:43.289050Z",
     "iopub.status.idle": "2024-06-20T19:45:12.211193Z",
     "shell.execute_reply": "2024-06-20T19:45:12.210201Z",
     "shell.execute_reply.started": "2024-06-20T19:35:43.289050Z"
    }
   },
   "outputs": [
    {
     "name": "stderr",
     "output_type": "stream",
     "text": [
      "Run 10: 100%|██████████████████████████████████████████████████████████████████████████| 10/10 [00:49<00:00,  4.98s/it]"
     ]
    },
    {
     "name": "stdout",
     "output_type": "stream",
     "text": [
      "\n",
      "Saved dict to: D:\\ASR\\ParlaspeechHR\\  \n",
      "\n",
      "Filename: WER_results_v5.0.json\n",
      "\n",
      "Number of runs: 10\n",
      "Total number of audio processed: 100\n",
      "\n",
      "Number of WER_results: 606\n",
      "\n",
      "CPU times: total: 56min 1s\n",
      "Wall time: 9min 28s\n"
     ]
    },
    {
     "name": "stderr",
     "output_type": "stream",
     "text": [
      "\n"
     ]
    }
   ],
   "source": [
    "%%time\n",
    "\n",
    "# treba 4s po jednom audio fileu\n",
    "\n",
    "import random\n",
    "from tqdm import tqdm\n",
    "import json\n",
    "\n",
    "\n",
    "# Variables to accumulate metrics\n",
    "num_runs = 10  # Number of runs to average over (SAVES DICT EACH RUN)\n",
    "max_files_to_process = 10  # Number of files to process per run (10 files x 2 models) = 1 min) # about 10min = 100 entries, 1h = 600 entries\n",
    "\n",
    "\n",
    "\n",
    "transcription_list = list(audio_transcriptions.items())\n",
    "\n",
    "# Iterate over each run\n",
    "for run in range(num_runs):\n",
    "    total_asr_deletions = 0\n",
    "    total_asr_additions = 0\n",
    "    total_asr_substitutions = 0  # Total substitutions across all files\n",
    "    total_tokens = 0\n",
    "    total_asr_deletions_lm = 0\n",
    "    total_asr_additions_lm = 0\n",
    "    total_asr_substitutions_lm = 0\n",
    "\n",
    "    total_cer_deletions = 0\n",
    "    total_cer_additions = 0\n",
    "    total_cer_substitutions = 0\n",
    "    total_cer_deletions_lm = 0\n",
    "    total_cer_additions_lm = 0\n",
    "    total_cer_substitutions_lm = 0\n",
    "\n",
    "    \n",
    "    n = 0  # Number of files processed\n",
    "\n",
    "    \n",
    "    # Shuffle the transcription list for each run if needed\n",
    "    if shuffle_transcript == True:\n",
    "        random.shuffle(transcription_list)\n",
    "\n",
    "\n",
    "    \n",
    "    # Use tqdm to show progress for processing each file in the run\n",
    "    with tqdm(total=max_files_to_process, desc=f\"Run {run+1}\") as pbar:\n",
    "        # Process up to max_files_to_process files for this run\n",
    "        run_results = []\n",
    "        for file_idx in range(min(max_files_to_process, len(transcription_list))):  # Ensure we don't exceed the list length\n",
    "            input_file, transcription = transcription_list[file_idx]\n",
    "\n",
    "            # Get original transcription from dictionary\n",
    "            original_transcription = ' '.join(audio_transcriptions[input_file])\n",
    "            \n",
    "            # Tokenize both transcriptions\n",
    "            original_tokens = tokenize_text(original_transcription)\n",
    "\n",
    "            cer_total_tokens = sum(len(token) for token in original_tokens)\n",
    "\n",
    "            total_tokens = len(original_tokens)\n",
    "\n",
    "            \n",
    "            if make_model == \"non\":\n",
    "                asr_deletion_lm = None\n",
    "                asr_addition_lm = None\n",
    "                asr_substitutions_lm = None\n",
    "                cer_deletion_lm = None\n",
    "                cer_addition_lm = None\n",
    "                cer_substitutions_lm = None\n",
    "                \n",
    "                tekst = process_transcribe(os.path.join(path_to_pshr_raw_audio_data, input_file), processor0, model0)\n",
    "                \n",
    "                asr_tokens = tokenize_text(tekst)\n",
    "            \n",
    "                # Normalize numbers in ASR tokens\n",
    "                normalized_asr_tokens = normalize_numbers(asr_tokens, norm_nums)\n",
    "                if debug_printing:\n",
    "                    print(\"doing the big align\")\n",
    "                \n",
    "                # Correct unpacking if align_tokens returns aligned_asr_tokens and asr_addition\n",
    "                aligned_asr_tokens, asr_addition, asr_substitutions = align_tokens(original_tokens,\n",
    "                                                                                   normalized_asr_tokens,\n",
    "                                                                                   similarity_threshold=similarity_threshold)\n",
    "    \n",
    "                if debug_printing:\n",
    "                    print(\"counting delets\")\n",
    "                    \n",
    "                asr_deletion = aligned_asr_tokens.count(None)\n",
    "            \n",
    "                if debug_printing:\n",
    "                    print(\"doing subs\")\n",
    "                \n",
    "                total_asr_substitutions += asr_substitutions\n",
    "\n",
    "                if debug_printing:\n",
    "                    print(\"subs don\")\n",
    "\n",
    "                # Accumulate metrics\n",
    "                total_asr_deletions += asr_deletion\n",
    "                total_asr_additions += asr_addition\n",
    "\n",
    "            ###### ADING CER \n",
    "                cer, cer_substitutions, cer_addition, cer_deletion = calculate_cer(original_tokens, aligned_asr_tokens)\n",
    "\n",
    "\n",
    "            \n",
    "        ####### DOING THE SAME FOR LM MODEL NOW ################\n",
    "            \n",
    "            if make_model == \"lm\":\n",
    "                asr_deletion = None\n",
    "                asr_addition = None\n",
    "                asr_substitutions = None\n",
    "                cer_deletion = None\n",
    "                cer_addition = None\n",
    "                cer_substitutions = None\n",
    "                \n",
    "                tekst_lm = process_transcribe_lm(os.path.join(path_to_pshr_raw_audio_data, input_file), processor0lm, model0lm)\n",
    "    \n",
    "                \n",
    "                asr_tokens_lm = tokenize_text(tekst_lm)\n",
    "            \n",
    "                # Normalize numbers in ASR tokens\n",
    "                normalized_asr_tokens_lm = normalize_numbers(asr_tokens_lm, norm_nums)\n",
    "            \n",
    "                # Align ASR tokens with original tokens based on character similarity\n",
    "                aligned_asr_tokens_lm, asr_addition_lm, asr_substitutions_lm = align_tokens(original_tokens,\n",
    "                                                                                            normalized_asr_tokens_lm,\n",
    "                                                                                            similarity_threshold=similarity_threshold)\n",
    "    \n",
    "                asr_deletion_lm = aligned_asr_tokens_lm.count(None)\n",
    "\n",
    "                total_asr_substitutions_lm += asr_substitutions_lm\n",
    "            \n",
    "                # Accumulate metrics\n",
    "                total_asr_deletions_lm += asr_deletion_lm\n",
    "                total_asr_additions_lm += asr_addition_lm\n",
    "                \n",
    "                \n",
    "                cer_lm, cer_substitutions_lm, cer_addition_lm, cer_deletion_lm = calculate_cer(original_tokens, aligned_asr_tokens_lm)\n",
    "                \n",
    "                \n",
    "\n",
    "\n",
    "            if make_model == \"both\":\n",
    "                \n",
    "                tekst = process_transcribe(os.path.join(path_to_pshr_raw_audio_data, input_file), processor0, model0)\n",
    "                \n",
    "                asr_tokens = tokenize_text(tekst)\n",
    "            \n",
    "                # Normalize numbers in ASR tokens\n",
    "                normalized_asr_tokens = normalize_numbers(asr_tokens, norm_nums)\n",
    "                if debug_printing:\n",
    "                    print(\"doing the big align\")\n",
    "                \n",
    "                # Correct unpacking if align_tokens returns aligned_asr_tokens and asr_addition\n",
    "                aligned_asr_tokens, asr_addition, asr_substitutions = align_tokens(original_tokens,\n",
    "                                                                                   normalized_asr_tokens,\n",
    "                                                                                   similarity_threshold=similarity_threshold)\n",
    "    \n",
    "   \n",
    "                    \n",
    "                asr_deletion = aligned_asr_tokens.count(None)\n",
    "            \n",
    "\n",
    "                # Accumulate metrics\n",
    "                total_asr_deletions += asr_deletion\n",
    "                total_asr_additions += asr_addition\n",
    "                total_asr_substitutions += asr_substitutions\n",
    "\n",
    "                cer, cer_substitutions, cer_addition, cer_deletion = calculate_cer(original_tokens, aligned_asr_tokens)\n",
    "\n",
    "                total_cer_deletions += cer_deletion\n",
    "                total_cer_additions += cer_addition\n",
    "                total_cer_substitutions += cer_substitutions\n",
    "\n",
    "\n",
    "\n",
    "                \n",
    "\n",
    "                ### LM PART\n",
    "                tekst_lm = process_transcribe_lm(os.path.join(path_to_pshr_raw_audio_data, input_file), processor0lm, model0lm)\n",
    "                \n",
    "                \n",
    "                asr_tokens_lm = tokenize_text(tekst_lm)\n",
    "            \n",
    "                # Normalize numbers in ASR tokens\n",
    "                normalized_asr_tokens_lm = normalize_numbers(asr_tokens_lm, norm_nums)\n",
    "            \n",
    "                # Align ASR tokens with original tokens based on character similarity\n",
    "                aligned_asr_tokens_lm, asr_addition_lm, asr_substitutions_lm = align_tokens(original_tokens,\n",
    "                                                                                            normalized_asr_tokens_lm,\n",
    "                                                                                            similarity_threshold=similarity_threshold)\n",
    "    \n",
    "                asr_deletion_lm = aligned_asr_tokens_lm.count(None)\n",
    "\n",
    "                \n",
    "            \n",
    "                # Accumulate metrics\n",
    "                total_asr_deletions_lm += asr_deletion_lm\n",
    "                total_asr_additions_lm += asr_addition_lm\n",
    "                total_asr_substitutions_lm += asr_substitutions_lm\n",
    "                \n",
    "                cer_lm, cer_substitutions_lm, cer_addition_lm, cer_deletion_lm = calculate_cer(original_tokens, aligned_asr_tokens_lm)\n",
    "\n",
    "                total_cer_deletions_lm += cer_deletion_lm\n",
    "                total_cer_additions_lm += cer_addition_lm\n",
    "                total_cer_substitutions_lm += cer_substitutions_lm\n",
    "\n",
    "            \n",
    "\n",
    "                \n",
    "            n += 1\n",
    "    \n",
    "                \n",
    "            # Store individual file results for this run including substitutions\n",
    "            file_result = {\n",
    "                \"input_file\": input_file,\n",
    "                \"wer_tokens\": total_tokens,\n",
    "                \"wer_deletions\": asr_deletion,\n",
    "                \"wer_additions\": asr_addition,\n",
    "                \"wer_substitutions\": asr_substitutions,\n",
    "                \"wer_deletions_lm\": asr_deletion_lm,\n",
    "                \"wer_additions_lm\": asr_addition_lm,\n",
    "                \"wer_substitutions_lm\": asr_substitutions_lm,\n",
    "                \"cer_tokens\": cer_total_tokens,\n",
    "                \"cer_deletions\": cer_deletion,\n",
    "                \"cer_additions\": cer_addition,\n",
    "                \"cer_substitutions\": cer_substitutions,\n",
    "                \"cer_deletions_lm\": cer_deletion_lm,\n",
    "                \"cer_additions_lm\": cer_addition_lm,\n",
    "                \"cer_substitutions_lm\": cer_substitutions_lm,\n",
    "                \"make_model\": make_model\n",
    "            }\n",
    "\n",
    "            WER_results.append(file_result)  # Append to WER_results\n",
    "            \n",
    "            # Update tqdm progress bar\n",
    "            pbar.update(1)\n",
    "    \n",
    "            # Print or use the error metric for each file as needed\n",
    "            if debug_printing == True:\n",
    "                print(f\"make_model: {make_model}\")\n",
    "                print(f\"Transcription {input_file}: {tekst}\")\n",
    "                print(f\"original_tokens: \\n{original_tokens}\\n\")\n",
    "                print(f\"Total WER Tokens: {len(original_tokens)}\")\n",
    "                print(f\"Total CER Tokens: {cer_total_tokens}\\n\\n\")\n",
    "                \n",
    "                \n",
    "                if make_model == \"non\":\n",
    "                    print(f\"Total WER Tokens non: {len(asr_tokens)}\")\n",
    "                    print(f\"Total CER Tokens non: {sum(len(token) for token in asr_tokens)}\\n\\n\")\n",
    "                    \n",
    "                    print(f\"asr_tokens: \\n{asr_tokens}\\n\")\n",
    "                    print(f\"normalized_asr_tokens: \\n{normalized_asr_tokens}\\n\")\n",
    "                    print(f\"aligned_asr_tokens: \\n{aligned_asr_tokens}\\n\")\n",
    "                    print(f\"WER Deletions: {asr_deletion}\")\n",
    "                    print(f\"WER Additions: {asr_addition}\")\n",
    "                    print(f\"WER Substitutions: {asr_substitutions}\\n\")\n",
    "                    print(f\"CER Deletions: {cer_deletion}\")\n",
    "                    print(f\"CER Additions: {cer_addition}\")\n",
    "                    print(f\"CER Substitutions: {cer_substitutions}\\n\")\n",
    "                \n",
    "                if make_model == \"lm\":\n",
    "                    print(f\"Total WER Tokens lm: {len(asr_tokens_lm)}\")\n",
    "                    print(f\"Total CER Tokens lm: {sum(len(token) for token in asr_tokens_lm)}\\n\\n\")\n",
    "                    \n",
    "                    print(f\"asr_tokens_lm: \\n{asr_tokens_lm}\\n\")\n",
    "                    print(f\"normalized_asr_tokens LM: \\n{normalized_asr_tokens_lm}\\n\")\n",
    "                    print(f\"aligned_asr_tokens LM: \\n{aligned_asr_tokens_lm}\\n\")\n",
    "                    print(f\"WER Deletions: {asr_deletion_lm}\")\n",
    "                    print(f\"WER Additions: {asr_addition_lm}\")\n",
    "                    print(f\"WER Substitutions: {asr_substitutions_lm}\\n\")\n",
    "                    print(f\"CER Deletions: {cer_deletion_lm}\")\n",
    "                    print(f\"CER Additions: {cer_addition_lm}\")\n",
    "                    print(f\"CER Substitutions: {cer_substitutions_lm}\\n\")\n",
    "\n",
    "                if make_model == \"both\":\n",
    "                    print(f\"Total WER Tokens non: {len(asr_tokens)}\")\n",
    "                    print(f\"Total CER Tokens non: {sum(len(token) for token in asr_tokens)}\\n\\n\")\n",
    "                    print(f\"Total WER Tokens lm: {len(asr_tokens_lm)}\")\n",
    "                    print(f\"Total CER Tokens lm: {sum(len(token) for token in asr_tokens_lm)}\\n\\n\")\n",
    "                    \n",
    "                    print(f\"asr_tokens: \\n{asr_tokens}\\n\")\n",
    "                    print(f\"normalized_asr_tokens: \\n{normalized_asr_tokens}\\n\")\n",
    "                    print(f\"aligned_asr_tokens: \\n{aligned_asr_tokens}\\n\")\n",
    "                    print(f\"WER Deletions: {asr_deletion}\")\n",
    "                    print(f\"WER Additions: {asr_addition}\")\n",
    "                    print(f\"WER Substitutions: {asr_substitutions}\\n\")\n",
    "                    print(f\"CER Deletions: {cer_deletion}\")\n",
    "                    print(f\"CER Additions: {cer_addition}\")\n",
    "                    print(f\"CER Substitutions: {cer_substitutions}\\n\")\n",
    "                    print(f\"asr_tokens_lm: \\n{asr_tokens_lm}\\n\")\n",
    "                    print(f\"normalized_asr_tokens LM: \\n{normalized_asr_tokens_lm}\\n\")\n",
    "                    print(f\"aligned_asr_tokens LM: \\n{aligned_asr_tokens_lm}\\n\")\n",
    "                    print(f\"WER Deletions LM: {asr_deletion_lm}\")\n",
    "                    print(f\"WER Additions LM: {asr_addition_lm}\")\n",
    "                    print(f\"WER Substitutions LM: {asr_substitutions_lm}\\n\")\n",
    "                    print(f\"CER Deletions LM: {cer_deletion_lm}\")\n",
    "                    print(f\"CER Additions LM: {cer_addition_lm}\")\n",
    "                    print(f\"CER Substitutions LM: {cer_substitutions_lm}\\n\")\n",
    "                    \n",
    "\n",
    "      \n",
    "        with open(dict_file_path_full, \"w\") as f:\n",
    "            json.dump(WER_results, f, indent=4)\n",
    "            \n",
    "\n",
    "        print(f\"\\nSaved dict to: {dict_file_path}\\  \\n\\nFilename: {dict_main_name}\\n\")\n",
    "\n",
    "# Print number of runs\n",
    "print(f\"Number of runs: {num_runs}\")\n",
    "print(f\"Total number of audio processed: {max_files_to_process*num_runs}\\n\")\n",
    "print(f\"Number of WER_results: {len(WER_results)}\\n\")\n"
   ]
  },
  {
   "cell_type": "code",
   "execution_count": 29,
   "metadata": {
    "execution": {
     "iopub.execute_input": "2024-06-20T18:19:32.429988Z",
     "iopub.status.busy": "2024-06-20T18:19:32.429988Z",
     "iopub.status.idle": "2024-06-20T18:19:32.433595Z",
     "shell.execute_reply": "2024-06-20T18:19:32.433595Z",
     "shell.execute_reply.started": "2024-06-20T18:19:32.429988Z"
    }
   },
   "outputs": [
    {
     "name": "stdout",
     "output_type": "stream",
     "text": [
      "[{'input_file': 'seg.Kjyn-8vCedk_16709.79-16729.59.flac', 'wer_tokens': 56, 'wer_deletions': 0, 'wer_additions': 0, 'wer_substitutions': 0, 'wer_deletions_lm': 0, 'wer_additions_lm': 0, 'wer_substitutions_lm': 0, 'cer_tokens': 240, 'cer_deletions': 0, 'cer_additions': 0, 'cer_substitutions': 0, 'cer_deletions_lm': 0, 'cer_additions_lm': 0, 'cer_substitutions_lm': 0, 'make_model': 'both'}, {'input_file': 'seg.HOAbJ0y5JQA_2924.19-2942.05.flac', 'wer_tokens': 42, 'wer_deletions': 6, 'wer_additions': 3, 'wer_substitutions': 2, 'wer_deletions_lm': 2, 'wer_additions_lm': 1, 'wer_substitutions_lm': 2, 'cer_tokens': 192, 'cer_deletions': 19, 'cer_additions': 4, 'cer_substitutions': 0, 'cer_deletions_lm': 4, 'cer_additions_lm': 2, 'cer_substitutions_lm': 0, 'make_model': 'both'}, {'input_file': 'seg.3yovjfGU6y4_20703.09-20706.14.flac', 'wer_tokens': 4, 'wer_deletions': 0, 'wer_additions': 0, 'wer_substitutions': 3, 'wer_deletions_lm': 0, 'wer_additions_lm': 0, 'wer_substitutions_lm': 3, 'cer_tokens': 18, 'cer_deletions': 5, 'cer_additions': 0, 'cer_substitutions': 4, 'cer_deletions_lm': 5, 'cer_additions_lm': 0, 'cer_substitutions_lm': 4, 'make_model': 'both'}]\n"
     ]
    }
   ],
   "source": [
    "print(WER_results)"
   ]
  },
  {
   "cell_type": "markdown",
   "metadata": {},
   "source": [
    "### Results WER_results"
   ]
  },
  {
   "cell_type": "code",
   "execution_count": 78,
   "metadata": {
    "execution": {
     "iopub.execute_input": "2024-06-20T19:45:17.519803Z",
     "iopub.status.busy": "2024-06-20T19:45:17.519803Z",
     "iopub.status.idle": "2024-06-20T19:45:17.532098Z",
     "shell.execute_reply": "2024-06-20T19:45:17.532098Z",
     "shell.execute_reply.started": "2024-06-20T19:45:17.519803Z"
    }
   },
   "outputs": [
    {
     "name": "stdout",
     "output_type": "stream",
     "text": [
      "Overall Total Original Tokens (WER): 21710\n",
      "\n",
      "Overall Total WER Deletions (Non-LM): 938\n",
      "Overall Total WER Additions (Non-LM): 719\n",
      "Overall Total WER Substitutions (Non-LM): 420\n",
      "\n",
      "Overall Total WER Deletions (LM): 858\n",
      "Overall Total WER Additions (LM): 621\n",
      "Overall Total WER Substitutions (LM): 277\n",
      "\n",
      "Overall Word Error Rate (WER) - Non-LM: 0.0957\n",
      "Overall Word Error Rate (WER) - LM: 0.0809\n",
      "\n",
      "\n",
      "Overall Total Original Tokens (CER): 110298\n",
      "\n",
      "Overall Total CER Deletions (Non-LM): 5144\n",
      "Overall Total CER Additions (Non-LM): 606\n",
      "Overall Total CER Substitutions (Non-LM): 442\n",
      "\n",
      "Overall Total CER Deletions (LM): 4805\n",
      "Overall Total CER Additions (LM): 245\n",
      "Overall Total CER Substitutions (LM): 265\n",
      "\n",
      "Overall Character Error Rate (CER) - Non-LM: 0.0561\n",
      "Overall Character Error Rate (CER) - LM: 0.0482\n",
      "\n",
      "\n",
      "Number of individual files processed: 606\n",
      "\n"
     ]
    }
   ],
   "source": [
    "# Initialize variables to accumulate totals for WER\n",
    "overall_total_wer_deletions = 0\n",
    "overall_total_wer_additions = 0\n",
    "overall_total_wer_substitutions = 0\n",
    "overall_total_wer_tokens = 0\n",
    "\n",
    "overall_total_wer_deletions_lm = 0\n",
    "overall_total_wer_additions_lm = 0\n",
    "overall_total_wer_substitutions_lm = 0\n",
    "\n",
    "# Initialize variables to accumulate totals for CER\n",
    "overall_total_cer_deletions = 0\n",
    "overall_total_cer_additions = 0\n",
    "overall_total_cer_substitutions = 0\n",
    "overall_total_cer_tokens = 0\n",
    "\n",
    "overall_total_cer_deletions_lm = 0\n",
    "overall_total_cer_additions_lm = 0\n",
    "overall_total_cer_substitutions_lm = 0\n",
    "\n",
    "total_files_with_error_rate = 0\n",
    "overall_total_error_rate = 0\n",
    "\n",
    "# Iterate through WER_results\n",
    "for result in WER_results:\n",
    "    if isinstance(result, dict):\n",
    "        # WER calculations\n",
    "        if result.get(\"wer_deletions\") is not None:\n",
    "            overall_total_wer_deletions += result.get(\"wer_deletions\", 0)\n",
    "        if result.get(\"wer_additions\") is not None:\n",
    "            overall_total_wer_additions += result.get(\"wer_additions\", 0)\n",
    "        if result.get(\"wer_substitutions\") is not None:\n",
    "            overall_total_wer_substitutions += result.get(\"wer_substitutions\", 0)\n",
    "        \n",
    "        overall_total_wer_tokens += result.get(\"wer_tokens\", 0)\n",
    "        \n",
    "        overall_total_wer_deletions_lm += result.get(\"wer_deletions_lm\", 0)\n",
    "        overall_total_wer_additions_lm += result.get(\"wer_additions_lm\", 0)\n",
    "        overall_total_wer_substitutions_lm += result.get(\"wer_substitutions_lm\", 0)\n",
    "        \n",
    "        # CER calculations\n",
    "        if result.get(\"cer_deletions\") is not None:\n",
    "            overall_total_cer_deletions += result.get(\"cer_deletions\", 0)\n",
    "        if result.get(\"cer_additions\") is not None:\n",
    "            overall_total_cer_additions += result.get(\"cer_additions\", 0)\n",
    "        if result.get(\"cer_substitutions\") is not None:\n",
    "            overall_total_cer_substitutions += result.get(\"cer_substitutions\", 0)\n",
    "        \n",
    "        overall_total_cer_tokens += result.get(\"cer_tokens\", 0)\n",
    "        \n",
    "        overall_total_cer_deletions_lm += result.get(\"cer_deletions_lm\", 0)\n",
    "        overall_total_cer_additions_lm += result.get(\"cer_additions_lm\", 0)\n",
    "        overall_total_cer_substitutions_lm += result.get(\"cer_substitutions_lm\", 0)\n",
    "        \n",
    "        if \"error_rate\" in result:\n",
    "            total_files_with_error_rate += 1\n",
    "            overall_total_error_rate += result[\"error_rate\"]\n",
    "\n",
    "# Calculate overall metrics\n",
    "overall_wer = (overall_total_wer_deletions + overall_total_wer_additions + overall_total_wer_substitutions) / overall_total_wer_tokens if overall_total_wer_tokens > 0 else 0\n",
    "overall_wer_lm = (overall_total_wer_deletions_lm + overall_total_wer_additions_lm + overall_total_wer_substitutions_lm) / overall_total_wer_tokens if overall_total_wer_tokens > 0 else 0\n",
    "\n",
    "overall_cer = (overall_total_cer_deletions + overall_total_cer_additions + overall_total_cer_substitutions) / overall_total_cer_tokens if overall_total_cer_tokens > 0 else 0\n",
    "overall_cer_lm = (overall_total_cer_deletions_lm + overall_total_cer_additions_lm + overall_total_cer_substitutions_lm) / overall_total_cer_tokens if overall_total_cer_tokens > 0 else 0\n",
    "\n",
    "# Print overall totals including substitutions for non-LM and LM results for WER and CER\n",
    "print(f\"Overall Total Original Tokens (WER): {overall_total_wer_tokens}\\n\")\n",
    "print(f\"Overall Total WER Deletions (Non-LM): {overall_total_wer_deletions}\")\n",
    "print(f\"Overall Total WER Additions (Non-LM): {overall_total_wer_additions}\")\n",
    "print(f\"Overall Total WER Substitutions (Non-LM): {overall_total_wer_substitutions}\\n\")\n",
    "\n",
    "print(f\"Overall Total WER Deletions (LM): {overall_total_wer_deletions_lm}\")\n",
    "print(f\"Overall Total WER Additions (LM): {overall_total_wer_additions_lm}\")\n",
    "print(f\"Overall Total WER Substitutions (LM): {overall_total_wer_substitutions_lm}\\n\")\n",
    "\n",
    "print(f\"Overall Word Error Rate (WER) - Non-LM: {overall_wer:.4f}\")\n",
    "print(f\"Overall Word Error Rate (WER) - LM: {overall_wer_lm:.4f}\\n\\n\")\n",
    "\n",
    "print(f\"Overall Total Original Tokens (CER): {overall_total_cer_tokens}\\n\")\n",
    "print(f\"Overall Total CER Deletions (Non-LM): {overall_total_cer_deletions}\")\n",
    "print(f\"Overall Total CER Additions (Non-LM): {overall_total_cer_additions}\")\n",
    "print(f\"Overall Total CER Substitutions (Non-LM): {overall_total_cer_substitutions}\\n\")\n",
    "\n",
    "print(f\"Overall Total CER Deletions (LM): {overall_total_cer_deletions_lm}\")\n",
    "print(f\"Overall Total CER Additions (LM): {overall_total_cer_additions_lm}\")\n",
    "print(f\"Overall Total CER Substitutions (LM): {overall_total_cer_substitutions_lm}\\n\")\n",
    "\n",
    "print(f\"Overall Character Error Rate (CER) - Non-LM: {overall_cer:.4f}\")\n",
    "print(f\"Overall Character Error Rate (CER) - LM: {overall_cer_lm:.4f}\\n\")\n",
    "\n",
    "# Print number of individual files processed\n",
    "num_files_processed = len([result for result in WER_results if isinstance(result, dict)])\n",
    "print(f\"\\nNumber of individual files processed: {num_files_processed}\\n\")\n"
   ]
  },
  {
   "cell_type": "markdown",
   "metadata": {},
   "source": [
    "### WER Plotting"
   ]
  },
  {
   "cell_type": "code",
   "execution_count": 81,
   "metadata": {
    "execution": {
     "iopub.execute_input": "2024-06-20T19:46:38.335269Z",
     "iopub.status.busy": "2024-06-20T19:46:38.335269Z",
     "iopub.status.idle": "2024-06-20T19:46:38.975466Z",
     "shell.execute_reply": "2024-06-20T19:46:38.974466Z",
     "shell.execute_reply.started": "2024-06-20T19:46:38.335269Z"
    }
   },
   "outputs": [
    {
     "name": "stdout",
     "output_type": "stream",
     "text": [
      "Saving plot: D:\\ASR\\ParlaspeechHR\\WER_results_v5.0.png\n"
     ]
    },
    {
     "data": {
      "image/png": "[encoded data removed]",
      "text/plain": [
       "<Figure size 1000x600 with 1 Axes>"
      ]
     },
     "metadata": {},
     "output_type": "display_data"
    }
   ],
   "source": [
    "import matplotlib.pyplot as plt\n",
    "import numpy as np\n",
    "\n",
    "# Initialize lists to store the number of files processed and the corresponding WER values for both models\n",
    "num_files_processed = []\n",
    "wer_values_non_lm = []\n",
    "wer_values_lm = []\n",
    "\n",
    "# Iterate over the number of files processed\n",
    "for i in range(1, len(WER_results) + 1):\n",
    "    # Initialize variables to accumulate totals for both models\n",
    "    overall_total_asr_deletions_non_lm = 0\n",
    "    overall_total_asr_additions_non_lm = 0\n",
    "    overall_total_asr_substitutions_non_lm = 0\n",
    "    overall_total_tokens_non_lm = 0\n",
    "    \n",
    "    overall_total_asr_deletions_lm = 0\n",
    "    overall_total_asr_additions_lm = 0\n",
    "    overall_total_asr_substitutions_lm = 0\n",
    "    \n",
    "    # Calculate overall totals for both models for the first i files\n",
    "    for result in WER_results[:i]:\n",
    "        if isinstance(result, dict):\n",
    "            overall_total_asr_deletions_non_lm += result.get(\"wer_deletions\", 0)\n",
    "            overall_total_asr_additions_non_lm += result.get(\"wer_additions\", 0)\n",
    "            overall_total_asr_substitutions_non_lm += result.get(\"wer_substitutions\", 0)\n",
    "            overall_total_tokens_non_lm += result.get(\"wer_tokens\", 0)\n",
    "            \n",
    "            overall_total_asr_deletions_lm += result.get(\"wer_deletions_lm\", 0)\n",
    "            overall_total_asr_additions_lm += result.get(\"wer_additions_lm\", 0)\n",
    "            overall_total_asr_substitutions_lm += result.get(\"wer_substitutions_lm\", 0)\n",
    "    \n",
    "    # Calculate WER for both models\n",
    "    if overall_total_tokens_non_lm > 0:\n",
    "        wer_non_lm = (overall_total_asr_deletions_non_lm + overall_total_asr_additions_non_lm + overall_total_asr_substitutions_non_lm) / overall_total_tokens_non_lm\n",
    "    else:\n",
    "        wer_non_lm = 0\n",
    "    \n",
    "    if overall_total_tokens_non_lm > 0:\n",
    "        wer_lm = (overall_total_asr_deletions_lm + overall_total_asr_additions_lm + overall_total_asr_substitutions_lm) / overall_total_tokens_non_lm\n",
    "    else:\n",
    "        wer_lm = 0\n",
    "    \n",
    "    # Append the number of files processed and the WER values to the lists\n",
    "    num_files_processed.append(i)\n",
    "    wer_values_non_lm.append(wer_non_lm)\n",
    "    wer_values_lm.append(wer_lm)\n",
    "\n",
    "# Define a function to calculate the moving average\n",
    "def moving_average(values, window):\n",
    "    weights = np.repeat(1.0, window) / window\n",
    "    sma = np.convolve(values, weights, 'valid')\n",
    "    return sma\n",
    "\n",
    "# Calculate the moving average of the WER values for both models with a window size\n",
    "window_size = 50  # Adjust this value as needed\n",
    "smoothed_wer_values_non_lm = moving_average(wer_values_non_lm, window_size)\n",
    "smoothed_wer_values_lm = moving_average(wer_values_lm, window_size)\n",
    "\n",
    "# Adjust the num_files_processed to match the length of the smoothed WER values\n",
    "adjusted_num_files_processed = num_files_processed[window_size-1:]\n",
    "\n",
    "# Plot the WER values and the smoothed WER values for both models\n",
    "plt.figure(figsize=(10, 6))\n",
    "plt.plot(adjusted_num_files_processed, smoothed_wer_values_non_lm, marker='o', linestyle='-', color='b', alpha=0.3, label='Smoothed WER (Non-LM)')\n",
    "plt.plot(adjusted_num_files_processed, smoothed_wer_values_lm, marker='o', linestyle='-', color='r', alpha=0.3, label='Smoothed WER (LM)')\n",
    "plt.xlabel('Number of Files Processed')\n",
    "plt.ylabel('Word Error Rate (WER)')\n",
    "plt.title('WER Variation with Number of Files Processed')\n",
    "plt.legend()\n",
    "plt.grid(True)\n",
    "\n",
    "\n",
    "# Add text at the bottom of the plot\n",
    "wer_plot_from_version2 = wer_plot_from_version[:-4] + \"png\"\n",
    "\n",
    "wer_plot_save = os.path.join(wer_plot_save_path, wer_plot_from_version2)\n",
    "\n",
    "bottom_text = f\"Source dict: {wer_plot_from_version[:-4]} Code work version:{work_version}. Smoothed window size: {window_size}.\"\n",
    "plt.figtext(0.5, 0.001, bottom_text, wrap=True, horizontalalignment='center', fontsize=12)\n",
    "\n",
    "plt.savefig(wer_plot_save, dpi=300, bbox_inches='tight')\n",
    "print(f\"Saving plot: {wer_plot_save}\")\n",
    "\n",
    "plt.show()"
   ]
  },
  {
   "cell_type": "markdown",
   "metadata": {},
   "source": [
    "### CER Plotting"
   ]
  },
  {
   "cell_type": "code",
   "execution_count": 82,
   "metadata": {
    "execution": {
     "iopub.execute_input": "2024-06-20T19:47:02.919664Z",
     "iopub.status.busy": "2024-06-20T19:47:02.919664Z",
     "iopub.status.idle": "2024-06-20T19:47:03.562082Z",
     "shell.execute_reply": "2024-06-20T19:47:03.562082Z",
     "shell.execute_reply.started": "2024-06-20T19:47:02.919664Z"
    }
   },
   "outputs": [
    {
     "name": "stdout",
     "output_type": "stream",
     "text": [
      "Saving plot: D:\\ASR\\ParlaspeechHR\\CER_results_v5.0.png\n"
     ]
    },
    {
     "data": {
      "image/png": "[encoded data removed]",
      "text/plain": [
       "<Figure size 1000x600 with 1 Axes>"
      ]
     },
     "metadata": {},
     "output_type": "display_data"
    }
   ],
   "source": [
    "import matplotlib.pyplot as plt\n",
    "import numpy as np\n",
    "import os\n",
    "\n",
    "# Initialize lists to store the number of files processed and the corresponding CER values for both models\n",
    "num_files_processed = []\n",
    "cer_values_non_lm = []\n",
    "cer_values_lm = []\n",
    "\n",
    "# Iterate over the number of files processed\n",
    "for i in range(1, len(WER_results) + 1):\n",
    "    # Initialize variables to accumulate totals for both models\n",
    "    overall_total_cer_deletions_non_lm = 0\n",
    "    overall_total_cer_additions_non_lm = 0\n",
    "    overall_total_cer_substitutions_non_lm = 0\n",
    "    overall_total_cer_tokens_non_lm = 0\n",
    "    \n",
    "    overall_total_cer_deletions_lm = 0\n",
    "    overall_total_cer_additions_lm = 0\n",
    "    overall_total_cer_substitutions_lm = 0\n",
    "    \n",
    "    # Calculate overall totals for both models for the first i files\n",
    "    for result in WER_results[:i]:\n",
    "        if isinstance(result, dict):\n",
    "            if result.get(\"cer_deletions\") is not None:\n",
    "                overall_total_cer_deletions_non_lm += result.get(\"cer_deletions\", 0)\n",
    "            if result.get(\"cer_additions\") is not None:\n",
    "                overall_total_cer_additions_non_lm += result.get(\"cer_additions\", 0)\n",
    "            if result.get(\"cer_substitutions\") is not None:\n",
    "                overall_total_cer_substitutions_non_lm += result.get(\"cer_substitutions\", 0)\n",
    "            overall_total_cer_tokens_non_lm += result.get(\"cer_tokens\", 0)\n",
    "            \n",
    "            overall_total_cer_deletions_lm += result.get(\"cer_deletions_lm\", 0)\n",
    "            overall_total_cer_additions_lm += result.get(\"cer_additions_lm\", 0)\n",
    "            overall_total_cer_substitutions_lm += result.get(\"cer_substitutions_lm\", 0)\n",
    "    \n",
    "    # Calculate CER for both models\n",
    "    if overall_total_cer_tokens_non_lm > 0:\n",
    "        cer_non_lm = (overall_total_cer_deletions_non_lm + overall_total_cer_additions_non_lm + overall_total_cer_substitutions_non_lm) / overall_total_cer_tokens_non_lm\n",
    "    else:\n",
    "        cer_non_lm = 0\n",
    "    \n",
    "    if overall_total_cer_tokens_non_lm > 0:\n",
    "        cer_lm = (overall_total_cer_deletions_lm + overall_total_cer_additions_lm + overall_total_cer_substitutions_lm) / overall_total_cer_tokens_non_lm\n",
    "    else:\n",
    "        cer_lm = 0\n",
    "    \n",
    "    # Append the number of files processed and the CER values to the lists\n",
    "    num_files_processed.append(i)\n",
    "    cer_values_non_lm.append(cer_non_lm)\n",
    "    cer_values_lm.append(cer_lm)\n",
    "\n",
    "# Define a function to calculate the moving average\n",
    "def moving_average(values, window):\n",
    "    weights = np.repeat(1.0, window) / window\n",
    "    sma = np.convolve(values, weights, 'valid')\n",
    "    return sma\n",
    "\n",
    "# Calculate the moving average of the CER values for both models with a window size\n",
    "#window_size = 10  # Adjust this value as needed\n",
    "smoothed_cer_values_non_lm = moving_average(cer_values_non_lm, window_size)\n",
    "smoothed_cer_values_lm = moving_average(cer_values_lm, window_size)\n",
    "\n",
    "# Adjust the num_files_processed to match the length of the smoothed CER values\n",
    "adjusted_num_files_processed = num_files_processed[window_size-1:]\n",
    "\n",
    "# Plot the CER values and the smoothed CER values for both models\n",
    "plt.figure(figsize=(10, 6))\n",
    "plt.plot(adjusted_num_files_processed, smoothed_cer_values_non_lm, marker='o', linestyle='-', color='b', alpha=0.3, label='Smoothed CER (Non-LM)')\n",
    "plt.plot(adjusted_num_files_processed, smoothed_cer_values_lm, marker='o', linestyle='-', color='r', alpha=0.3, label='Smoothed CER (LM)')\n",
    "plt.xlabel('Number of Files Processed')\n",
    "plt.ylabel('Character Error Rate (CER)')\n",
    "plt.title('CER Variation with Number of Files Processed')\n",
    "plt.legend()\n",
    "plt.grid(True)\n",
    "\n",
    "# Add text at the bottom of the plot\n",
    "cer_plot_from_version2 = \"CER\" + cer_plot_from_version[3:-4] + \"png\"\n",
    "cer_plot_save = os.path.join(cer_plot_save_path, cer_plot_from_version2)\n",
    "\n",
    "bottom_text = f\"Source dict: {cer_plot_from_version[:-4]} Code work version:{work_version}. Smoothed window size: {window_size}.\"\n",
    "plt.figtext(0.5, 0.001, bottom_text, wrap=True, horizontalalignment='center', fontsize=12)\n",
    "\n",
    "plt.savefig(cer_plot_save, dpi=300, bbox_inches='tight')\n",
    "print(f\"Saving plot: {cer_plot_save}\")\n",
    "\n",
    "plt.show()\n"
   ]
  },
  {
   "cell_type": "code",
   "execution_count": null,
   "metadata": {},
   "outputs": [],
   "source": []
  },
  {
   "cell_type": "code",
   "execution_count": null,
   "metadata": {},
   "outputs": [],
   "source": []
  },
  {
   "cell_type": "markdown",
   "metadata": {},
   "source": [
    "## Sample size? Statistical Nightmare"
   ]
  },
  {
   "cell_type": "code",
   "execution_count": 67,
   "metadata": {
    "execution": {
     "iopub.execute_input": "2024-06-20T19:13:33.001167Z",
     "iopub.status.busy": "2024-06-20T19:13:33.001167Z",
     "iopub.status.idle": "2024-06-20T19:13:34.438096Z",
     "shell.execute_reply": "2024-06-20T19:13:34.438096Z",
     "shell.execute_reply.started": "2024-06-20T19:13:33.001167Z"
    }
   },
   "outputs": [
    {
     "name": "stdout",
     "output_type": "stream",
     "text": [
      "Note: you may need to restart the kernel to use updated packages.\n"
     ]
    },
    {
     "name": "stderr",
     "output_type": "stream",
     "text": [
      "WARNING: Skipping C:\\Users\\Public\\anaconda3\\envs\\PyPhon\\Lib\\site-packages\\pandas-2.1.4.dist-info due to invalid metadata entry 'name'\n",
      "WARNING: Package(s) not found: statsmodels\n"
     ]
    }
   ],
   "source": [
    "pip show statsmodels"
   ]
  },
  {
   "cell_type": "markdown",
   "metadata": {},
   "source": [
    "### NEW STATS"
   ]
  },
  {
   "cell_type": "code",
   "execution_count": 70,
   "metadata": {
    "execution": {
     "iopub.execute_input": "2024-06-20T19:31:33.566871Z",
     "iopub.status.busy": "2024-06-20T19:31:33.566871Z",
     "iopub.status.idle": "2024-06-20T19:31:33.714545Z",
     "shell.execute_reply": "2024-06-20T19:31:33.714545Z",
     "shell.execute_reply.started": "2024-06-20T19:31:33.566871Z"
    }
   },
   "outputs": [
    {
     "ename": "ModuleNotFoundError",
     "evalue": "No module named 'statsmodels'",
     "output_type": "error",
     "traceback": [
      "\u001b[1;31m---------------------------------------------------------------------------\u001b[0m",
      "\u001b[1;31mModuleNotFoundError\u001b[0m                       Traceback (most recent call last)",
      "Cell \u001b[1;32mIn[70], line 3\u001b[0m\n\u001b[0;32m      1\u001b[0m \u001b[38;5;28;01mimport\u001b[39;00m \u001b[38;5;21;01mnumpy\u001b[39;00m \u001b[38;5;28;01mas\u001b[39;00m \u001b[38;5;21;01mnp\u001b[39;00m\n\u001b[0;32m      2\u001b[0m \u001b[38;5;28;01mimport\u001b[39;00m \u001b[38;5;21;01mmatplotlib\u001b[39;00m\u001b[38;5;21;01m.\u001b[39;00m\u001b[38;5;21;01mpyplot\u001b[39;00m \u001b[38;5;28;01mas\u001b[39;00m \u001b[38;5;21;01mplt\u001b[39;00m\n\u001b[1;32m----> 3\u001b[0m \u001b[38;5;28;01mfrom\u001b[39;00m \u001b[38;5;21;01mstatsmodels\u001b[39;00m\u001b[38;5;21;01m.\u001b[39;00m\u001b[38;5;21;01mstats\u001b[39;00m\u001b[38;5;21;01m.\u001b[39;00m\u001b[38;5;21;01mpower\u001b[39;00m \u001b[38;5;28;01mimport\u001b[39;00m TTestIndPower\n\u001b[0;32m      5\u001b[0m \u001b[38;5;66;03m# Load the text data\u001b[39;00m\n\u001b[0;32m      6\u001b[0m \u001b[38;5;28;01mdef\u001b[39;00m \u001b[38;5;21mload_text_data\u001b[39m(file_path):\n",
      "\u001b[1;31mModuleNotFoundError\u001b[0m: No module named 'statsmodels'"
     ]
    }
   ],
   "source": [
    "%%time\n",
    "\n",
    "import numpy as np\n",
    "import matplotlib.pyplot as plt\n",
    "from statsmodels.stats.power import TTestIndPower\n",
    "\n",
    "# Load the text data\n",
    "def load_text_data(file_path):\n",
    "    with open(file_path, 'r') as file:\n",
    "        sentences = file.readlines()\n",
    "    sentences = [sentence.strip() for sentence in sentences]\n",
    "    return sentences\n",
    "\n",
    "# Compute WER and CER (dummy function, replace with actual calculation)\n",
    "def compute_wer_cer(sentences):\n",
    "    wer_tokens = np.random.normal(loc=10, scale=2, size=len(sentences))  # Replace with actual WER calculation\n",
    "    cer_tokens = np.random.normal(loc=5, scale=1, size=len(sentences))   # Replace with actual CER calculation\n",
    "    return wer_tokens, cer_tokens\n",
    "\n",
    "# Estimate sample size for a two-sample t-test\n",
    "def estimate_sample_size(effect_size, alpha=0.05, power=0.8):\n",
    "    analysis = TTestIndPower()\n",
    "    sample_size = analysis.solve_power(effect_size=effect_size, alpha=alpha, power=power)\n",
    "    return int(np.ceil(sample_size))\n",
    "\n",
    "# Load data\n",
    "file_path_sens = r\"D:\\ParlaSpeech-HR.v1.0\\kenlm_lmplz_to_arpa_v4.4.txt\"\n",
    "sentences = load_text_data(file_path_sens)\n",
    "\n",
    "# Compute WER and CER\n",
    "wer_tokens, cer_tokens = compute_wer_cer(file_path_sens)\n",
    "\n",
    "print(f\"Loaded data from:\\n {file_path_sens}\")"
   ]
  },
  {
   "cell_type": "code",
   "execution_count": null,
   "metadata": {},
   "outputs": [],
   "source": [
    "print(wer_tokens, cer_tokens)"
   ]
  },
  {
   "cell_type": "code",
   "execution_count": null,
   "metadata": {},
   "outputs": [],
   "source": []
  },
  {
   "cell_type": "code",
   "execution_count": null,
   "metadata": {},
   "outputs": [],
   "source": [
    "# Calculate descriptive statistics\n",
    "wer_mean = np.mean(wer_tokens)\n",
    "wer_std = np.std(wer_tokens)\n",
    "cer_mean = np.mean(cer_tokens)\n",
    "cer_std = np.std(cer_tokens)\n",
    "\n",
    "# Print summary statistics\n",
    "print(f\"WER - Mean: {wer_mean:.2f}, Std: {wer_std:.2f}\")\n",
    "print(f\"CER - Mean: {cer_mean:.2f}, Std: {cer_std:.2f}\")\n",
    "\n",
    "# Estimate the sample size needed\n",
    "# Assuming a medium effect size (Cohen's d = 0.5) for WER and CER\n",
    "wer_effect_size = 0.5  # Adjust based on your specific scenario\n",
    "cer_effect_size = 0.5  # Adjust based on your specific scenario\n",
    "\n",
    "wer_sample_size = estimate_sample_size(effect_size=wer_effect_size)\n",
    "cer_sample_size = estimate_sample_size(effect_size=cer_effect_size)\n",
    "\n",
    "print(f\"Estimated sample size for WER: {wer_sample_size}\")\n",
    "print(f\"Estimated sample size for CER: {cer_sample_size}\")\n",
    "\n",
    "# Create histograms to visualize distribution\n",
    "plt.figure(figsize=(12, 5))\n",
    "\n",
    "plt.subplot(1, 2, 1)\n",
    "plt.hist(wer_tokens, bins=50, edgecolor='black')\n",
    "plt.title('Histogram of WER Tokens')\n",
    "plt.xlabel('WER Tokens')\n",
    "plt.ylabel('Frequency')\n",
    "\n",
    "plt.subplot(1, 2, 2)\n",
    "plt.hist(cer_tokens, bins=50, edgecolor='black')\n",
    "plt.title('Histogram of CER Tokens')\n",
    "plt.xlabel('CER Tokens')\n",
    "plt.ylabel('Frequency')\n",
    "\n",
    "plt.tight_layout()\n",
    "plt.show()\n"
   ]
  },
  {
   "cell_type": "code",
   "execution_count": null,
   "metadata": {},
   "outputs": [],
   "source": []
  },
  {
   "cell_type": "code",
   "execution_count": null,
   "metadata": {},
   "outputs": [],
   "source": []
  },
  {
   "cell_type": "code",
   "execution_count": null,
   "metadata": {},
   "outputs": [],
   "source": []
  },
  {
   "cell_type": "code",
   "execution_count": null,
   "metadata": {},
   "outputs": [],
   "source": []
  },
  {
   "cell_type": "markdown",
   "metadata": {},
   "source": [
    "### OLD STATS"
   ]
  },
  {
   "cell_type": "code",
   "execution_count": 66,
   "metadata": {
    "execution": {
     "iopub.execute_input": "2024-06-20T19:13:14.066542Z",
     "iopub.status.busy": "2024-06-20T19:13:14.066542Z",
     "iopub.status.idle": "2024-06-20T19:13:15.614771Z",
     "shell.execute_reply": "2024-06-20T19:13:15.614771Z",
     "shell.execute_reply.started": "2024-06-20T19:13:14.066542Z"
    }
   },
   "outputs": [
    {
     "ename": "ModuleNotFoundError",
     "evalue": "No module named 'statsmodels'",
     "output_type": "error",
     "traceback": [
      "\u001b[1;31m---------------------------------------------------------------------------\u001b[0m",
      "\u001b[1;31mModuleNotFoundError\u001b[0m                       Traceback (most recent call last)",
      "Cell \u001b[1;32mIn[66], line 1\u001b[0m\n\u001b[1;32m----> 1\u001b[0m \u001b[38;5;28;01mimport\u001b[39;00m \u001b[38;5;21;01mstatsmodels\u001b[39;00m\u001b[38;5;21;01m.\u001b[39;00m\u001b[38;5;21;01mstats\u001b[39;00m\u001b[38;5;21;01m.\u001b[39;00m\u001b[38;5;21;01mapi\u001b[39;00m \u001b[38;5;28;01mas\u001b[39;00m \u001b[38;5;21;01msms\u001b[39;00m\n\u001b[0;32m      3\u001b[0m \u001b[38;5;66;03m# Define parameters for sample size calculation\u001b[39;00m\n\u001b[0;32m      4\u001b[0m effect_size \u001b[38;5;241m=\u001b[39m \u001b[38;5;241m0.5\u001b[39m  \u001b[38;5;66;03m# Expected effect size (difference in means divided by standard deviation)\u001b[39;00m\n",
      "\u001b[1;31mModuleNotFoundError\u001b[0m: No module named 'statsmodels'"
     ]
    }
   ],
   "source": [
    "import statsmodels.stats.api as sms\n",
    "\n",
    "# Define parameters for sample size calculation\n",
    "effect_size = 0.5  # Expected effect size (difference in means divided by standard deviation)\n",
    "alpha = 0.001  # Significance level (typically 0.05 or 0.01 for 95% or 99% confidence)\n",
    "power = 0.9 # Desired statistical power (typically 0.8 or 0.9)\n",
    "\n",
    "# Calculate sample size for each group (assuming equal sample sizes for simplicity)\n",
    "total_population = 403925  # Total population size\n",
    "sample_size_needed = sms.tt_ind_solve_power(effect_size=effect_size, alpha=alpha, power=power, ratio=1.0, alternative='two-sided')\n",
    "\n",
    "# Print the calculated sample size\n",
    "print(f\"Required sample size per group: {sample_size_needed:.0f}\")\n",
    "\n",
    "# Calculate how many groups you can sample from total population\n",
    "# For simplicity, assuming that you have a large enough population to draw multiple samples\n",
    "num_groups = total_population / sample_size_needed\n",
    "\n",
    "# Print the number of groups\n",
    "print(f\"Number of groups you can sample: {num_groups:.0f}\")\n"
   ]
  },
  {
   "cell_type": "code",
   "execution_count": 68,
   "metadata": {
    "execution": {
     "iopub.execute_input": "2024-06-20T19:13:47.594230Z",
     "iopub.status.busy": "2024-06-20T19:13:47.594230Z",
     "iopub.status.idle": "2024-06-20T19:13:49.828112Z",
     "shell.execute_reply": "2024-06-20T19:13:49.828112Z",
     "shell.execute_reply.started": "2024-06-20T19:13:47.594230Z"
    }
   },
   "outputs": [
    {
     "name": "stdout",
     "output_type": "stream",
     "text": [
      "Sample Size: 600\n",
      "Estimated Standard Deviation (sigma): 10\n",
      "Confidence Interval (CI) for 99.0% confidence level: [-1.0516, 1.0516]\n"
     ]
    }
   ],
   "source": [
    "import scipy.stats as stats\n",
    "\n",
    "# Define parameters\n",
    "sample_size = 600\n",
    "sigma = 10  # Estimated standard deviation\n",
    "confidence_level = 0.99  # 95% confidence level\n",
    "\n",
    "# Find the z-score for the desired confidence level\n",
    "z = stats.norm.ppf((1 + confidence_level) / 2)  # For a two-tailed test\n",
    "\n",
    "# Calculate the margin of error (MOE)\n",
    "MOE = z * (sigma / (sample_size ** 0.5))\n",
    "\n",
    "# Calculate the confidence interval (CI)\n",
    "mean_estimate = 0  # Replace with your mean estimate if known\n",
    "CI_low = mean_estimate - MOE\n",
    "CI_high = mean_estimate + MOE\n",
    "\n",
    "# Print results\n",
    "print(f\"Sample Size: {sample_size}\")\n",
    "print(f\"Estimated Standard Deviation (sigma): {sigma}\")\n",
    "print(f\"Confidence Interval (CI) for {confidence_level * 100}% confidence level: [{CI_low:.4f}, {CI_high:.4f}]\")\n"
   ]
  },
  {
   "cell_type": "code",
   "execution_count": 176,
   "metadata": {
    "execution": {
     "iopub.execute_input": "2024-06-18T01:52:47.519960Z",
     "iopub.status.busy": "2024-06-18T01:52:47.519960Z",
     "iopub.status.idle": "2024-06-18T01:52:47.809651Z",
     "shell.execute_reply": "2024-06-18T01:52:47.809651Z",
     "shell.execute_reply.started": "2024-06-18T01:52:47.519960Z"
    }
   },
   "outputs": [
    {
     "name": "stdout",
     "output_type": "stream",
     "text": [
      "WER - Mean: 36.61, Std: 13.32\n",
      "CER - Mean: 186.10, Std: 64.96\n"
     ]
    },
    {
     "data": {
      "image/png": "[encoded data removed]",
      "text/plain": [
       "<Figure size 1200x500 with 2 Axes>"
      ]
     },
     "metadata": {},
     "output_type": "display_data"
    }
   ],
   "source": [
    "import numpy as np\n",
    "import matplotlib.pyplot as plt\n",
    "\n",
    "# Extract WER and CER metrics into lists\n",
    "wer_tokens = [result[\"wer_tokens\"] for result in WER_results]\n",
    "cer_tokens = [result[\"cer_tokens\"] for result in WER_results]\n",
    "\n",
    "# Calculate descriptive statistics\n",
    "wer_mean = np.mean(wer_tokens)\n",
    "wer_std = np.std(wer_tokens)\n",
    "cer_mean = np.mean(cer_tokens)\n",
    "cer_std = np.std(cer_tokens)\n",
    "\n",
    "# Print summary statistics\n",
    "print(f\"WER - Mean: {wer_mean:.2f}, Std: {wer_std:.2f}\")\n",
    "print(f\"CER - Mean: {cer_mean:.2f}, Std: {cer_std:.2f}\")\n",
    "\n",
    "# Create histograms to visualize distribution\n",
    "plt.figure(figsize=(12, 5))\n",
    "\n",
    "plt.subplot(1, 2, 1)\n",
    "plt.hist(wer_tokens, bins=50, edgecolor='black')\n",
    "plt.title('Histogram of WER Tokens')\n",
    "plt.xlabel('WER Tokens')\n",
    "plt.ylabel('Frequency')\n",
    "\n",
    "plt.subplot(1, 2, 2)\n",
    "plt.hist(cer_tokens, bins=50, edgecolor='black')\n",
    "plt.title('Histogram of CER Tokens')\n",
    "plt.xlabel('CER Tokens')\n",
    "plt.ylabel('Frequency')\n",
    "\n",
    "plt.tight_layout()\n",
    "plt.show()\n"
   ]
  },
  {
   "cell_type": "code",
   "execution_count": 161,
   "metadata": {
    "execution": {
     "iopub.execute_input": "2024-06-18T01:34:53.425499Z",
     "iopub.status.busy": "2024-06-18T01:34:53.425499Z",
     "iopub.status.idle": "2024-06-18T01:34:53.433885Z",
     "shell.execute_reply": "2024-06-18T01:34:53.433885Z",
     "shell.execute_reply.started": "2024-06-18T01:34:53.425499Z"
    }
   },
   "outputs": [],
   "source": [
    "import numpy as np\n",
    "from scipy.stats import ttest_ind, f_oneway\n",
    "import statsmodels.stats.api as sms# Assuming results_list is your list of dictionaries with the relevant data\n",
    "\n",
    "wer_non_lm = []\n",
    "wer_lm = []\n",
    "cer_non_lm = []\n",
    "cer_lm = []\n",
    "\n",
    "for result in WER_results:\n",
    "    wer_rate = (result[\"wer_deletions\"] + result[\"wer_additions\"] + result[\"wer_substitutions\"]) / result[\"wer_tokens\"] if result[\"wer_tokens\"] > 0 else 0\n",
    "    wer_rate_lm = (result[\"wer_deletions_lm\"] + result[\"wer_additions_lm\"] + result[\"wer_substitutions_lm\"]) / result[\"wer_tokens\"] if result[\"wer_tokens\"] > 0 else 0\n",
    "\n",
    "    cer_rate = (result[\"cer_deletions\"] + result[\"cer_additions\"] + result[\"cer_substitutions\"]) / result[\"cer_tokens\"] if result[\"cer_tokens\"] > 0 else 0\n",
    "    cer_rate_lm = (result[\"cer_deletions_lm\"] + result[\"cer_additions_lm\"] + result[\"cer_substitutions_lm\"]) / result[\"cer_tokens\"] if result[\"cer_tokens\"] > 0 else 0\n",
    "\n",
    "    wer_non_lm.append(wer_rate)\n",
    "    wer_lm.append(wer_rate_lm)\n",
    "    cer_non_lm.append(cer_rate)\n",
    "    cer_lm.append(cer_rate_lm)\n",
    "\n",
    "# Print the calculated WER and CER rates for non-LM and LM\n",
    "# print(f\"WER rates (Non-LM): {wer_non_lm}\")\n",
    "# print(f\"WER rates (LM): {wer_lm}\")\n",
    "# print(f\"CER rates (Non-LM): {cer_non_lm}\")\n",
    "# print(f\"CER rates (LM): {cer_lm}\")"
   ]
  },
  {
   "cell_type": "code",
   "execution_count": 169,
   "metadata": {
    "execution": {
     "iopub.execute_input": "2024-06-18T01:43:39.201206Z",
     "iopub.status.busy": "2024-06-18T01:43:39.200209Z",
     "iopub.status.idle": "2024-06-18T01:43:39.207190Z",
     "shell.execute_reply": "2024-06-18T01:43:39.207190Z",
     "shell.execute_reply.started": "2024-06-18T01:43:39.201206Z"
    }
   },
   "outputs": [
    {
     "name": "stdout",
     "output_type": "stream",
     "text": [
      "WER Non-LM: Mean=0.0834, CI=(0.0749, 0.0919)\n",
      "WER LM: Mean=0.1655, CI=(0.1521, 0.1790)\n",
      "CER Non-LM: Mean=0.0495, CI=(0.0439, 0.0550)\n",
      "CER LM: Mean=0.1056, CI=(0.0964, 0.1148)\n"
     ]
    }
   ],
   "source": [
    "# Calculate confidence intervals\n",
    "def confidence_interval(data, confidence=0.95):\n",
    "    n = len(data)\n",
    "    mean = np.mean(data)\n",
    "    sem = stats.sem(data)\n",
    "    h = sem * stats.t.ppf((1 + confidence) / 2, n - 1)\n",
    "    return mean, mean - h, mean + h\n",
    "\n",
    "wer_non_lm_ci = confidence_interval(wer_non_lm)\n",
    "wer_lm_ci = confidence_interval(wer_lm)\n",
    "cer_non_lm_ci = confidence_interval(cer_non_lm)\n",
    "cer_lm_ci = confidence_interval(cer_lm)\n",
    "\n",
    "print(f\"WER Non-LM: Mean={wer_non_lm_ci[0]:.4f}, CI=({wer_non_lm_ci[1]:.4f}, {wer_non_lm_ci[2]:.4f})\")\n",
    "print(f\"WER LM: Mean={wer_lm_ci[0]:.4f}, CI=({wer_lm_ci[1]:.4f}, {wer_lm_ci[2]:.4f})\")\n",
    "print(f\"CER Non-LM: Mean={cer_non_lm_ci[0]:.4f}, CI=({cer_non_lm_ci[1]:.4f}, {cer_non_lm_ci[2]:.4f})\")\n",
    "print(f\"CER LM: Mean={cer_lm_ci[0]:.4f}, CI=({cer_lm_ci[1]:.4f}, {cer_lm_ci[2]:.4f})\")"
   ]
  },
  {
   "cell_type": "code",
   "execution_count": 171,
   "metadata": {
    "execution": {
     "iopub.execute_input": "2024-06-18T01:48:27.901829Z",
     "iopub.status.busy": "2024-06-18T01:48:27.901829Z",
     "iopub.status.idle": "2024-06-18T01:48:27.910135Z",
     "shell.execute_reply": "2024-06-18T01:48:27.910135Z",
     "shell.execute_reply.started": "2024-06-18T01:48:27.901829Z"
    }
   },
   "outputs": [
    {
     "name": "stdout",
     "output_type": "stream",
     "text": [
      "Pearson's correlation coefficient between WER and CER rates for Non-LM: 0.92\n",
      "P-value: 0.0000\n",
      "\n",
      "Pearson's correlation coefficient between WER and CER rates for LM: 0.95\n",
      "P-value: 0.0000\n"
     ]
    }
   ],
   "source": [
    "import scipy.stats as stats\n",
    "\n",
    "# Calculate Pearson's correlation coefficient for WER and CER rates\n",
    "correlation_wer_non_lm, p_value_wer_non_lm = stats.pearsonr(wer_non_lm, cer_non_lm)\n",
    "correlation_wer_lm, p_value_wer_lm = stats.pearsonr(wer_lm, cer_lm)\n",
    "\n",
    "print(f\"Pearson's correlation coefficient between WER and CER rates for Non-LM: {correlation_wer_non_lm:.2f}\")\n",
    "print(f\"P-value: {p_value_wer_non_lm:.4f}\\n\")\n",
    "\n",
    "print(f\"Pearson's correlation coefficient between WER and CER rates for LM: {correlation_wer_lm:.2f}\")\n",
    "print(f\"P-value: {p_value_wer_lm:.4f}\")\n"
   ]
  },
  {
   "cell_type": "code",
   "execution_count": 162,
   "metadata": {
    "execution": {
     "iopub.execute_input": "2024-06-18T01:35:05.768836Z",
     "iopub.status.busy": "2024-06-18T01:35:05.767839Z",
     "iopub.status.idle": "2024-06-18T01:35:05.774820Z",
     "shell.execute_reply": "2024-06-18T01:35:05.774820Z",
     "shell.execute_reply.started": "2024-06-18T01:35:05.768836Z"
    }
   },
   "outputs": [
    {
     "name": "stdout",
     "output_type": "stream",
     "text": [
      "WER T-test: t-statistic = -10.139, p-value = 0.000\n",
      "CER T-test: t-statistic = -10.264, p-value = 0.000\n"
     ]
    }
   ],
   "source": [
    "# Perform t-tests for WER\n",
    "wer_t_stat, wer_p_value = ttest_ind(wer_non_lm, wer_lm)\n",
    "print(f\"WER T-test: t-statistic = {wer_t_stat:.3f}, p-value = {wer_p_value:.3f}\")\n",
    "\n",
    "# Perform t-tests for CER\n",
    "cer_t_stat, cer_p_value = ttest_ind(cer_non_lm, cer_lm)\n",
    "print(f\"CER T-test: t-statistic = {cer_t_stat:.3f}, p-value = {cer_p_value:.3f}\")\n"
   ]
  },
  {
   "cell_type": "code",
   "execution_count": 163,
   "metadata": {
    "execution": {
     "iopub.execute_input": "2024-06-18T01:35:21.535409Z",
     "iopub.status.busy": "2024-06-18T01:35:21.535409Z",
     "iopub.status.idle": "2024-06-18T01:35:21.550933Z",
     "shell.execute_reply": "2024-06-18T01:35:21.550933Z",
     "shell.execute_reply.started": "2024-06-18T01:35:21.535409Z"
    }
   },
   "outputs": [
    {
     "name": "stdout",
     "output_type": "stream",
     "text": [
      "WER ANOVA: F-statistic = 102.792, p-value = 0.000\n",
      "CER ANOVA: F-statistic = 105.346, p-value = 0.000\n"
     ]
    }
   ],
   "source": [
    "# Assuming you have more groups, for example:\n",
    "wer_group1 = wer_non_lm\n",
    "wer_group2 = wer_lm\n",
    "# Add other groups if needed\n",
    "\n",
    "# Perform ANOVA for WER\n",
    "wer_f_stat, wer_p_value = f_oneway(wer_group1, wer_group2)\n",
    "print(f\"WER ANOVA: F-statistic = {wer_f_stat:.3f}, p-value = {wer_p_value:.3f}\")\n",
    "\n",
    "# Assuming you have more groups, for example:\n",
    "cer_group1 = cer_non_lm\n",
    "cer_group2 = cer_lm\n",
    "# Add other groups if needed\n",
    "\n",
    "# Perform ANOVA for CER\n",
    "cer_f_stat, cer_p_value = f_oneway(cer_group1, cer_group2)\n",
    "print(f\"CER ANOVA: F-statistic = {cer_f_stat:.3f}, p-value = {cer_p_value:.3f}\")\n"
   ]
  },
  {
   "cell_type": "code",
   "execution_count": 164,
   "metadata": {
    "execution": {
     "iopub.execute_input": "2024-06-18T01:35:50.254452Z",
     "iopub.status.busy": "2024-06-18T01:35:50.254452Z",
     "iopub.status.idle": "2024-06-18T01:35:50.268436Z",
     "shell.execute_reply": "2024-06-18T01:35:50.268436Z",
     "shell.execute_reply.started": "2024-06-18T01:35:50.254452Z"
    }
   },
   "outputs": [
    {
     "name": "stdout",
     "output_type": "stream",
     "text": [
      "WER Confidence Interval: (0.07344274844841658, 0.09210594100831151)\n",
      "CER Confidence Interval: (0.04328806886773624, 0.05547488908062649)\n"
     ]
    }
   ],
   "source": [
    "# Define the sample size you can afford\n",
    "sample_size = 600  # Your actual sample size\n",
    "\n",
    "# Calculate the confidence interval for WER\n",
    "wer_conf_interval = sms.DescrStatsW(wer_non_lm[:sample_size]).tconfint_mean()\n",
    "print(f\"WER Confidence Interval: {wer_conf_interval}\")\n",
    "\n",
    "# Calculate the confidence interval for CER\n",
    "cer_conf_interval = sms.DescrStatsW(cer_non_lm[:sample_size]).tconfint_mean()\n",
    "print(f\"CER Confidence Interval: {cer_conf_interval}\")\n"
   ]
  },
  {
   "cell_type": "code",
   "execution_count": 168,
   "metadata": {
    "execution": {
     "iopub.execute_input": "2024-06-18T01:42:46.750578Z",
     "iopub.status.busy": "2024-06-18T01:42:46.750578Z",
     "iopub.status.idle": "2024-06-18T01:42:46.761749Z",
     "shell.execute_reply": "2024-06-18T01:42:46.761749Z",
     "shell.execute_reply.started": "2024-06-18T01:42:46.750578Z"
    }
   },
   "outputs": [
    {
     "name": "stdout",
     "output_type": "stream",
     "text": [
      "Required sample size per group for effect size 0.1: 1571\n",
      "Power with sample size of 600: 0.4094\n"
     ]
    }
   ],
   "source": [
    "import statsmodels.stats.api as sms\n",
    "\n",
    "# Define the parameters for the sample size calculation\n",
    "effect_size = 0.1  # This is a commonly used medium effect size\n",
    "alpha = 0.05  # Significance level\n",
    "power = 0.8  # Desired statistical power\n",
    "\n",
    "# Calculate the sample size needed for the given effect size, alpha, and power\n",
    "sample_size_needed = sms.tt_ind_solve_power(effect_size=effect_size, alpha=alpha, power=power, ratio=1.0, alternative='two-sided')\n",
    "\n",
    "print(f\"Required sample size per group for effect size {effect_size}: {sample_size_needed:.0f}\")\n",
    "\n",
    "# Check if the sample size of 600 is adequate for the given power and effect size\n",
    "power_given_sample_size = sms.tt_ind_solve_power(effect_size=effect_size, alpha=alpha, nobs1=600, ratio=1.0, alternative='two-sided')\n",
    "\n",
    "print(f\"Power with sample size of 600: {power_given_sample_size:.4f}\")\n"
   ]
  },
  {
   "cell_type": "code",
   "execution_count": null,
   "metadata": {},
   "outputs": [],
   "source": []
  },
  {
   "cell_type": "code",
   "execution_count": null,
   "metadata": {},
   "outputs": [],
   "source": []
  },
  {
   "cell_type": "markdown",
   "metadata": {},
   "source": [
    "# x scrap later"
   ]
  },
  {
   "cell_type": "code",
   "execution_count": null,
   "metadata": {},
   "outputs": [],
   "source": []
  },
  {
   "cell_type": "markdown",
   "metadata": {},
   "source": [
    "# Log info"
   ]
  },
  {
   "cell_type": "raw",
   "metadata": {},
   "source": [
    "PRIMJER normalize_number POBOLJŠANJE WER\n",
    "15 lip 2024 21:14h\n",
    "\n",
    "original_tokens: \n",
    "['i', 'bit', 'ću', 'malo', 'neskroman', 'vi', 'mi', 'to', 'nećete', 'zamjeriti', 'mi', 'smo', 'pokazali', 'da', 'možemo', 'kao', 'manja', 'država', 'potaknuti', 'kolege', 'da', 'se', 'promjene', 'kriteriji', 'u', 'poglavlju', 'dvadeset', 'tri']\n",
    "\n",
    "asr_tokens: \n",
    "['i', 'bit', 'će', 'malo', 'neshroman', 'i', 'mi', 'to', 'nećete', 'zamjeriti', 'mi', 'smo', 'pokazali', 'da', 'možemo', 'kao', 'manja', 'država', 'potaknuti', 'kolege', 'da', 'se', 'promijene', 'kriteriji', 'u', 'poglavlju', '23']\n",
    "\n",
    "normalized_asr_tokens: \n",
    "['i', 'bit', 'će', 'malo', 'neshroman', 'i', 'mi', 'to', 'nećete', 'zamjeriti', 'mi', 'smo', 'pokazali', 'da', 'možemo', 'kao', 'manja', 'država', 'potaknuti', 'kolege', 'da', 'se', 'promijene', 'kriteriji', 'u', 'poglavlju', 'dvadeset', 'tri']\n",
    "\n",
    "aligned_asr_tokens: \n",
    "['i', 'bit', 'će', 'malo', 'neshroman', 'i', 'mi', 'to', 'nećete', 'zamjeriti', 'mi', 'smo', 'pokazali', 'da', 'možemo', 'kao', 'manja', 'država', 'potaknuti', 'kolege', 'da', 'se', 'promijene', 'kriteriji', 'u', 'poglavlju', 'dvadeset', 'tri']"
   ]
  },
  {
   "cell_type": "raw",
   "metadata": {},
   "source": [
    "Transcription-depadded: stopa poreza na dobit smanjivala za manje i za male poduzetnike i opća stopa koja je bila 20 na 18 a za male na 12 znači unatoč tome prihodi od poreza na dobit su porasli\n",
    "Type of text: <class 'str'>\n",
    "doing the big align\n",
    "counting delets\n",
    "doing subs\n",
    "subs don\n",
    "make_model: non\n",
    "Transcription seg.9QefQWet3Gg_1786.3-1805.46.flac: stopa poreza na dobit smanjivala za manje i za male poduzetnike i opća stopa koja je bila 20 na 18 a za male na 12 znači unatoč tome prihodi od poreza na dobit su porasli\n",
    "original_tokens: \n",
    "['stopa', 'poreza', 'na', 'dobit', 'smanjivala', 'za', 'manje', 'i', 'za', 'male', 'poduzetnike', 'i', 'opća', 'stopa', 'koja', 'je', 'bila', 'dvadeset', 'posto', 'na', 'osamnaest', 'a', 'za', 'male', 'na', 'dvanaest', 'znači', 'unatoč', 'tome', 'prihodi', 'od', 'poreza', 'na', 'dobit', 'su', 'porasli']\n",
    "\n",
    "asr_tokens: \n",
    "['stopa', 'poreza', 'na', 'dobit', 'smanjivala', 'za', 'manje', 'i', 'za', 'male', 'poduzetnike', 'i', 'opća', 'stopa', 'koja', 'je', 'bila', '20', 'na', '18', 'a', 'za', 'male', 'na', '12', 'znači', 'unatoč', 'tome', 'prihodi', 'od', 'poreza', 'na', 'dobit', 'su', 'porasli']\n",
    "\n",
    "normalized_asr_tokens: \n",
    "['stopa', 'poreza', 'na', 'dobit', 'smanjivala', 'za', 'manje', 'i', 'za', 'male', 'poduzetnike', 'i', 'opća', 'stopa', 'koja', 'je', 'bila', 'dvadeset', 'na', 'osamnaest', 'a', 'za', 'male', 'na', 'dvanaest', 'znači', 'unatoč', 'tome', 'prihodi', 'od', 'poreza', 'na', 'dobit', 'su', 'porasli']\n",
    "\n",
    "aligned_asr_tokens: \n",
    "['stopa', 'poreza', 'na', 'dobit', 'smanjivala', 'za', 'manje', 'i', 'za', 'male', 'poduzetnike', 'i', 'opća', 'stopa', 'koja', 'je', 'bila', 'dvadeset', None, 'na', 'osamnaest', 'a', 'za', 'male', 'na', 'dvanaest', 'znači', 'unatoč', 'tome', 'prihodi', 'od', 'poreza', 'na', 'dobit', 'su', 'porasli']\n",
    "\n",
    "ASR Deletions: 1\n",
    "ASR Additions: 0\n",
    "ASR Substitutions: 0\n",
    "\n",
    "Total Tokens: 36"
   ]
  },
  {
   "cell_type": "raw",
   "metadata": {},
   "source": [
    "WORKING WITH v3.6 ## BOTH W and W/out LM WORKING\n",
    "CHECKED 17 lip 2024 23:38h\n",
    "\n",
    "VERSIONS OF PYTORCH\n",
    "\n",
    "Name: torch\n",
    "Version: 2.3.1\n",
    "Summary: Tensors and Dynamic neural networks in Python with strong GPU acceleration\n",
    "Home-page: https://pytorch.org/\n",
    "Author: PyTorch Team\n",
    "Author-email: packages@pytorch.org\n",
    "License: BSD-3\n",
    "Location: C:\\Users\\Public\\anaconda3\\envs\\PyPhon\\Lib\\site-packages\n",
    "Requires: filelock, fsspec, jinja2, mkl, networkx, sympy, typing-extensions\n",
    "Required-by: accelerate, optimum, sentence-transformers, torchaudio, torchvision\n",
    "WARNING: Skipping C:\\Users\\Public\\anaconda3\\envs\\PyPhon\\Lib\\site-packages\\pandas-2.1.4.dist-info due to invalid metadata entry 'name'\n",
    "Name: torchvision\n",
    "Version: 0.18.1\n",
    "Summary: image and video datasets and models for torch deep learning\n",
    "Home-page: https://github.com/pytorch/vision\n",
    "Author: PyTorch Core Team\n",
    "Author-email: soumith@pytorch.org\n",
    "License: BSD\n",
    "Location: C:\\Users\\Public\\anaconda3\\envs\\PyPhon\\Lib\\site-packages\n",
    "Requires: numpy, pillow, torch\n",
    "Required-by: sentence-transformers\n",
    "WARNING: Skipping C:\\Users\\Public\\anaconda3\\envs\\PyPhon\\Lib\\site-packages\\pandas-2.1.4.dist-info due to invalid metadata entry 'name'\n",
    "Name: torchaudio\n",
    "Version: 2.3.1\n",
    "Summary: An audio package for PyTorch\n",
    "Home-page: https://github.com/pytorch/audio\n",
    "Author: Soumith Chintala, David Pollack, Sean Naren, Peter Goldsborough, Moto Hira, Caroline Chen, Jeff Hwang, Zhaoheng Ni, Xiaohui Zhang\n",
    "Author-email: soumith@pytorch.org\n",
    "License: \n",
    "Location: C:\\Users\\Public\\anaconda3\\envs\\PyPhon\\Lib\\site-packages\n",
    "Requires: torch\n",
    "Required-by: \n",
    "WARNING: Skipping C:\\Users\\Public\\anaconda3\\envs\\PyPhon\\Lib\\site-packages\\pandas-2.1.4.dist-info due to invalid metadata entry 'name'"
   ]
  },
  {
   "cell_type": "raw",
   "metadata": {
    "execution": {
     "iopub.execute_input": "2024-06-15T14:04:14.696510Z",
     "iopub.status.busy": "2024-06-15T14:04:14.696510Z",
     "iopub.status.idle": "2024-06-15T14:04:14.699823Z",
     "shell.execute_reply": "2024-06-15T14:04:14.699823Z",
     "shell.execute_reply.started": "2024-06-15T14:04:14.696510Z"
    }
   },
   "source": [
    "WORKING WITH v3.0 ## BOTH W and W/out LM WORKING\n",
    "CHECKED 15 lip 2024 17:45h\n",
    "\n",
    "VERSIONS OF PYTORCH\n",
    "\n",
    "Name: torch\n",
    "Version: 2.1.2\n",
    "Summary: Tensors and Dynamic neural networks in Python with strong GPU acceleration\n",
    "Home-page: https://pytorch.org/\n",
    "Author: PyTorch Team\n",
    "Author-email: packages@pytorch.org\n",
    "License: BSD-3\n",
    "Location: C:\\Users\\Public\\anaconda3\\envs\\PyPhon\\Lib\\site-packages\n",
    "Requires: filelock, fsspec, jinja2, networkx, sympy, typing-extensions\n",
    "Required-by: accelerate, optimum, sentence-transformers, torchaudio, torchvision\n",
    "WARNING: Skipping C:\\Users\\Public\\anaconda3\\envs\\PyPhon\\Lib\\site-packages\\pandas-2.1.4.dist-info due to invalid metadata entry 'name'\n",
    "Name: torchvision\n",
    "Version: 0.16.2\n",
    "Summary: image and video datasets and models for torch deep learning\n",
    "Home-page: https://github.com/pytorch/vision\n",
    "Author: PyTorch Core Team\n",
    "Author-email: soumith@pytorch.org\n",
    "License: BSD\n",
    "Location: C:\\Users\\Public\\anaconda3\\envs\\PyPhon\\Lib\\site-packages\n",
    "Requires: numpy, pillow, requests, torch\n",
    "Required-by: sentence-transformers\n",
    "WARNING: Skipping C:\\Users\\Public\\anaconda3\\envs\\PyPhon\\Lib\\site-packages\\pandas-2.1.4.dist-info due to invalid metadata entry 'name'\n",
    "Name: torchaudio\n",
    "Version: 2.3.1\n",
    "Summary: An audio package for PyTorch\n",
    "Home-page: https://github.com/pytorch/audio\n",
    "Author: Soumith Chintala, David Pollack, Sean Naren, Peter Goldsborough, Moto Hira, Caroline Chen, Jeff Hwang, Zhaoheng Ni, Xiaohui Zhang\n",
    "Author-email: soumith@pytorch.org\n",
    "License: \n",
    "Location: C:\\Users\\Public\\anaconda3\\envs\\PyPhon\\Lib\\site-packages\n",
    "Requires: torch\n",
    "Required-by: "
   ]
  },
  {
   "cell_type": "code",
   "execution_count": null,
   "metadata": {},
   "outputs": [],
   "source": []
  }
 ],
 "metadata": {
  "colab": {
   "authorship_tag": "ABX9TyO3uz19EkBaZsrjq2rN6rV0",
   "provenance": [
    {
     "file_id": "1T9A_vTHdaB2oOuRCRRwTTAHs1379J-6l",
     "timestamp": 1718361648667
    }
   ],
   "toc_visible": true
  },
  "kernelspec": {
   "display_name": "PyPhon",
   "language": "python",
   "name": "pyphon"
  },
  "language_info": {
   "codemirror_mode": {
    "name": "ipython",
    "version": 3
   },
   "file_extension": ".py",
   "mimetype": "text/x-python",
   "name": "python",
   "nbconvert_exporter": "python",
   "pygments_lexer": "ipython3",
   "version": "3.11.9"
  }
 },
 "nbformat": 4,
 "nbformat_minor": 4
}
