{
 "cells": [
  {
   "cell_type": "markdown",
   "metadata": {
    "id": "i41M-W8THOQu"
   },
   "source": [
    "# Running ParlaSpeechHR Models"
   ]
  },
  {
   "cell_type": "markdown",
   "metadata": {
    "id": "ESbAn_EQRYyT"
   },
   "source": [
    "## [0] Start here:"
   ]
  },
  {
   "cell_type": "code",
   "execution_count": 2,
   "metadata": {
    "execution": {
     "iopub.execute_input": "2024-06-18T01:54:17.528524Z",
     "iopub.status.busy": "2024-06-18T01:54:17.528524Z",
     "iopub.status.idle": "2024-06-18T01:54:17.539088Z",
     "shell.execute_reply": "2024-06-18T01:54:17.539088Z",
     "shell.execute_reply.started": "2024-06-18T01:54:17.528524Z"
    }
   },
   "outputs": [],
   "source": [
    "make_model = \"both\" ## Options \"non\" for just acoustic model, \"lm\" for acoustic+LM, and \"both\" for both\"\n",
    "\n",
    "google_colabbing = False\n",
    "debug_printing = True\n",
    "\n",
    "testing_asr = True # if False, cuts audio into chunks\n",
    "shuffle_transcript = True"
   ]
  },
  {
   "cell_type": "code",
   "execution_count": 1,
   "metadata": {
    "colab": {
     "base_uri": "https://localhost:8080/"
    },
    "execution": {
     "iopub.execute_input": "2024-06-18T01:54:16.558556Z",
     "iopub.status.busy": "2024-06-18T01:54:16.558556Z",
     "iopub.status.idle": "2024-06-18T01:54:16.566725Z",
     "shell.execute_reply": "2024-06-18T01:54:16.566725Z",
     "shell.execute_reply.started": "2024-06-18T01:54:16.558556Z"
    },
    "executionInfo": {
     "elapsed": 341,
     "status": "ok",
     "timestamp": 1718358967568,
     "user": {
      "displayName": "Ivan Porupski",
      "userId": "03127310887960034948"
     },
     "user_tz": -120
    },
    "id": "hXbSzO_hGn2a",
    "outputId": "93214040-342d-47cd-b2d5-ef7bf1304c60"
   },
   "outputs": [
    {
     "name": "stdout",
     "output_type": "stream",
     "text": [
      "v4.0\n"
     ]
    }
   ],
   "source": [
    "work_version_num = 4.0\n",
    "word_version_preffix = \"\"\n",
    "word_version_suffix = \"\"\n",
    "work_version = f\"{word_version_preffix}v{work_version_num}{word_version_suffix}\"\n",
    "\n",
    "print(work_version)"
   ]
  },
  {
   "cell_type": "markdown",
   "metadata": {
    "jp-MarkdownHeadingCollapsed": true
   },
   "source": [
    "## [INFO ABOUT MACHINE]"
   ]
  },
  {
   "cell_type": "code",
   "execution_count": 7,
   "metadata": {
    "execution": {
     "iopub.execute_input": "2024-06-16T12:10:09.511233Z",
     "iopub.status.busy": "2024-06-16T12:10:09.511233Z",
     "iopub.status.idle": "2024-06-16T12:10:09.513830Z",
     "shell.execute_reply": "2024-06-16T12:10:09.513830Z",
     "shell.execute_reply.started": "2024-06-16T12:10:09.511233Z"
    }
   },
   "outputs": [],
   "source": [
    "### NEED TO REINSTALL PYTORCH WITH CUDA ENABLED AND TRY AGAIN I GUESS"
   ]
  },
  {
   "cell_type": "code",
   "execution_count": 8,
   "metadata": {
    "execution": {
     "iopub.execute_input": "2024-06-16T12:10:09.703821Z",
     "iopub.status.busy": "2024-06-16T12:10:09.703821Z",
     "iopub.status.idle": "2024-06-16T12:10:11.121046Z",
     "shell.execute_reply": "2024-06-16T12:10:11.121046Z",
     "shell.execute_reply.started": "2024-06-16T12:10:09.703821Z"
    }
   },
   "outputs": [
    {
     "name": "stdout",
     "output_type": "stream",
     "text": [
      "Processor: 11th Gen Intel(R) Core(TM) i5-11600 @ 2.80GHz\n",
      "Architecture: X86_64\n",
      "Cores: 12\n"
     ]
    }
   ],
   "source": [
    "import cpuinfo\n",
    "\n",
    "info = cpuinfo.get_cpu_info()\n",
    "\n",
    "print(\"Processor:\", info[\"brand_raw\"])\n",
    "print(\"Architecture:\", info[\"arch\"])\n",
    "print(\"Cores:\", info[\"count\"])"
   ]
  },
  {
   "cell_type": "code",
   "execution_count": 9,
   "metadata": {
    "execution": {
     "iopub.execute_input": "2024-06-16T12:10:11.123038Z",
     "iopub.status.busy": "2024-06-16T12:10:11.122040Z",
     "iopub.status.idle": "2024-06-16T12:10:12.136676Z",
     "shell.execute_reply": "2024-06-16T12:10:12.136676Z",
     "shell.execute_reply.started": "2024-06-16T12:10:11.123038Z"
    }
   },
   "outputs": [
    {
     "name": "stdout",
     "output_type": "stream",
     "text": [
      "Platform: NVIDIA CUDA\n",
      "Vendor: NVIDIA Corporation\n",
      "Version: OpenCL 1.2 CUDA 11.1.96\n",
      "\n",
      "Device: GeForce GTX 760\n",
      "Type: ALL | GPU\n",
      "Max Compute Units: 6\n",
      "Max Work Item Dimensions: 3\n",
      "Max Work Group Size: 1024\n",
      "Max Clock Frequency: 1150 MHz\n",
      "Global Memory Size: 4.00 GB\n",
      "Local Memory Size: 48.00 KB\n",
      "Max Memory Allocation Size: 1.00 GB\n",
      "OpenCL Version: OpenCL C 1.2 \n",
      "Driver Version: 456.71\n",
      "Platform: Intel(R) OpenCL HD Graphics\n",
      "Vendor: Intel(R) Corporation\n",
      "Version: OpenCL 3.0 \n",
      "\n",
      "Device: Intel(R) UHD Graphics 750\n",
      "Type: ALL | GPU\n",
      "Max Compute Units: 32\n",
      "Max Work Item Dimensions: 3\n",
      "Max Work Group Size: 256\n",
      "Max Clock Frequency: 1300 MHz\n",
      "Global Memory Size: 6.32 GB\n",
      "Local Memory Size: 64.00 KB\n",
      "Max Memory Allocation Size: 3.16 GB\n",
      "OpenCL Version: OpenCL C 1.2 \n",
      "Driver Version: 30.0.101.1273\n",
      "Platform: Intel(R) OpenCL\n",
      "Vendor: Intel(R) Corporation\n",
      "Version: OpenCL 3.0 WINDOWS\n",
      "\n",
      "Device: 11th Gen Intel(R) Core(TM) i5-11600 @ 2.80GHz\n",
      "Type: ALL | CPU\n",
      "Max Compute Units: 12\n",
      "Max Work Item Dimensions: 3\n",
      "Max Work Group Size: 8192\n",
      "Max Clock Frequency: 2800 MHz\n",
      "Global Memory Size: 15.80 GB\n",
      "Local Memory Size: 32.00 KB\n",
      "Max Memory Allocation Size: 7.90 GB\n",
      "OpenCL Version: OpenCL C 3.0 \n",
      "Driver Version: 2023.16.6.0.28_042959\n"
     ]
    }
   ],
   "source": [
    "#!pip install pyopencl\n",
    "\n",
    "import pyopencl as cl\n",
    "\n",
    "# Get a list of all available platforms\n",
    "platforms = cl.get_platforms()\n",
    "\n",
    "for platform in platforms:\n",
    "    print(f\"Platform: {platform.name}\")\n",
    "    print(f\"Vendor: {platform.vendor}\")\n",
    "    print(f\"Version: {platform.version}\")\n",
    "\n",
    "    # Get a list of all available devices for the current platform\n",
    "    devices = platform.get_devices()\n",
    "    for device in devices:\n",
    "        print(f\"\\nDevice: {device.name}\")\n",
    "        print(f\"Type: {cl.device_type.to_string(device.type)}\")\n",
    "        print(f\"Max Compute Units: {device.max_compute_units}\")\n",
    "        print(f\"Max Work Item Dimensions: {device.max_work_item_dimensions}\")\n",
    "        print(f\"Max Work Group Size: {device.max_work_group_size}\")\n",
    "        print(f\"Max Clock Frequency: {device.max_clock_frequency} MHz\")\n",
    "        print(f\"Global Memory Size: {device.global_mem_size / (1024 ** 3):.2f} GB\")\n",
    "        print(f\"Local Memory Size: {device.local_mem_size / 1024:.2f} KB\")\n",
    "        print(f\"Max Memory Allocation Size: {device.max_mem_alloc_size / (1024 ** 3):.2f} GB\")\n",
    "        print(f\"OpenCL Version: {device.opencl_c_version}\")\n",
    "        print(f\"Driver Version: {device.driver_version}\")\n"
   ]
  },
  {
   "cell_type": "markdown",
   "metadata": {},
   "source": [
    "CPU VERSION:\n",
    "Device: 11th Gen Intel(R) Core(TM) i5-11600 @ 2.80GHz\r\n",
    "Type: ALL | CPU\r\n",
    "Max Compute Units: 12\r\n",
    "Max Work Item Dimensions: 3\r\n",
    "Max Work Group Size: 8192\r\n",
    "Max Clock Frequency: 2800 MHz\r\n",
    "Global Memory Size: 15.80 GB\r\n",
    "Local Memory Size: 32.00 KB\r\n",
    "Max Memory Allocation Size: 7.90 GB\r\n",
    "OpenCL Version: OpenCL C 3.0 \r\n",
    "Driver Version: 2023.16.6.0.28_042959"
   ]
  },
  {
   "cell_type": "code",
   "execution_count": 3,
   "metadata": {
    "execution": {
     "iopub.execute_input": "2024-06-17T21:37:24.900140Z",
     "iopub.status.busy": "2024-06-17T21:37:24.900140Z",
     "iopub.status.idle": "2024-06-17T21:37:31.069861Z",
     "shell.execute_reply": "2024-06-17T21:37:31.069861Z",
     "shell.execute_reply.started": "2024-06-17T21:37:24.900140Z"
    }
   },
   "outputs": [
    {
     "name": "stdout",
     "output_type": "stream",
     "text": [
      "Name: torch\n",
      "Version: 2.3.1\n",
      "Summary: Tensors and Dynamic neural networks in Python with strong GPU acceleration\n",
      "Home-page: https://pytorch.org/\n",
      "Author: PyTorch Team\n",
      "Author-email: packages@pytorch.org\n",
      "License: BSD-3\n",
      "Location: C:\\Users\\Public\\anaconda3\\envs\\PyPhon\\Lib\\site-packages\n",
      "Requires: filelock, fsspec, jinja2, mkl, networkx, sympy, typing-extensions\n",
      "Required-by: accelerate, optimum, sentence-transformers, torchaudio, torchvision\n"
     ]
    },
    {
     "name": "stderr",
     "output_type": "stream",
     "text": [
      "WARNING: Skipping C:\\Users\\Public\\anaconda3\\envs\\PyPhon\\Lib\\site-packages\\pandas-2.1.4.dist-info due to invalid metadata entry 'name'\n"
     ]
    },
    {
     "name": "stdout",
     "output_type": "stream",
     "text": [
      "Name: torchvision\n",
      "Version: 0.18.1\n",
      "Summary: image and video datasets and models for torch deep learning\n",
      "Home-page: https://github.com/pytorch/vision\n",
      "Author: PyTorch Core Team\n",
      "Author-email: soumith@pytorch.org\n",
      "License: BSD\n",
      "Location: C:\\Users\\Public\\anaconda3\\envs\\PyPhon\\Lib\\site-packages\n",
      "Requires: numpy, pillow, torch\n",
      "Required-by: sentence-transformers\n"
     ]
    },
    {
     "name": "stderr",
     "output_type": "stream",
     "text": [
      "WARNING: Skipping C:\\Users\\Public\\anaconda3\\envs\\PyPhon\\Lib\\site-packages\\pandas-2.1.4.dist-info due to invalid metadata entry 'name'\n"
     ]
    },
    {
     "name": "stdout",
     "output_type": "stream",
     "text": [
      "Name: torchaudio\n",
      "Version: 2.3.1\n",
      "Summary: An audio package for PyTorch\n",
      "Home-page: https://github.com/pytorch/audio\n",
      "Author: Soumith Chintala, David Pollack, Sean Naren, Peter Goldsborough, Moto Hira, Caroline Chen, Jeff Hwang, Zhaoheng Ni, Xiaohui Zhang\n",
      "Author-email: soumith@pytorch.org\n",
      "License: \n",
      "Location: C:\\Users\\Public\\anaconda3\\envs\\PyPhon\\Lib\\site-packages\n",
      "Requires: torch\n",
      "Required-by: \n"
     ]
    },
    {
     "name": "stderr",
     "output_type": "stream",
     "text": [
      "WARNING: Skipping C:\\Users\\Public\\anaconda3\\envs\\PyPhon\\Lib\\site-packages\\pandas-2.1.4.dist-info due to invalid metadata entry 'name'\n"
     ]
    }
   ],
   "source": [
    "!pip show torch\n",
    "!pip show torchvision\n",
    "!pip show torchaudio"
   ]
  },
  {
   "cell_type": "code",
   "execution_count": 7,
   "metadata": {
    "execution": {
     "iopub.execute_input": "2024-06-17T21:34:56.470191Z",
     "iopub.status.busy": "2024-06-17T21:34:56.470191Z",
     "iopub.status.idle": "2024-06-17T21:35:10.443133Z",
     "shell.execute_reply": "2024-06-17T21:35:10.443133Z",
     "shell.execute_reply.started": "2024-06-17T21:34:56.470191Z"
    }
   },
   "outputs": [
    {
     "name": "stdout",
     "output_type": "stream",
     "text": [
      "torch version (pip): torch not found via pip.\n",
      "torchvision version (pip): torchvision not found via pip.\n",
      "torchaudio version (pip): torchaudio not found via pip.\n",
      "torch version (conda): torch not found via conda.\n",
      "torchvision version (conda): torchvision not found via conda.\n",
      "torchaudio version (conda): torchaudio not found via conda.\n"
     ]
    }
   ],
   "source": [
    "import subprocess\n",
    "import shutil\n",
    "\n",
    "def command_exists(command):\n",
    "    return shutil.which(command) is not None\n",
    "\n",
    "def get_pip_version(package_name):\n",
    "    if not command_exists(\"pip\"):\n",
    "        return f\"pip is not installed on this system.\"\n",
    "    result = subprocess.run([\"pip\", \"show\", package_name], capture_output=True, text=True)\n",
    "    for line in result.stdout.splitlines():\n",
    "        if line.startswith(\"Version:\"):\n",
    "            return line.split(\" \")[-1]\n",
    "    return f\"{package_name} not found via pip.\"\n",
    "\n",
    "def get_conda_version(package_name):\n",
    "    if not command_exists(\"conda\"):\n",
    "        return f\"conda is not installed on this system.\"\n",
    "    result = subprocess.run([\"conda\", \"list\", package_name], capture_output=True, text=True)\n",
    "    for line in result.stdout.splitlines():\n",
    "        if line.startswith(package_name):\n",
    "            return line.split()[1]\n",
    "    return f\"{package_name} not found via conda.\"\n",
    "\n",
    "# Get versions using pip\n",
    "torch_version = get_pip_version(\"torch\")\n",
    "torchvision_version = get_pip_version(\"torchvision\")\n",
    "torchaudio_version = get_pip_version(\"torchaudio\")\n",
    "\n",
    "print(f\"torch version (pip): {torch_version}\")\n",
    "print(f\"torchvision version (pip): {torchvision_version}\")\n",
    "print(f\"torchaudio version (pip): {torchaudio_version}\")\n",
    "\n",
    "# Get versions using conda\n",
    "torch_version_conda = get_conda_version(\"torch\")\n",
    "torchvision_version_conda = get_conda_version(\"torchvision\")\n",
    "torchaudio_version_conda = get_conda_version(\"torchaudio\")\n",
    "\n",
    "print(f\"torch version (conda): {torch_version_conda}\")\n",
    "print(f\"torchvision version (conda): {torchvision_version_conda}\")\n",
    "print(f\"torchaudio version (conda): {torchaudio_version_conda}\")\n"
   ]
  },
  {
   "cell_type": "code",
   "execution_count": 126,
   "metadata": {
    "execution": {
     "iopub.execute_input": "2024-06-17T21:28:28.198253Z",
     "iopub.status.busy": "2024-06-17T21:28:28.198253Z",
     "iopub.status.idle": "2024-06-17T21:28:28.202220Z",
     "shell.execute_reply": "2024-06-17T21:28:28.202220Z",
     "shell.execute_reply.started": "2024-06-17T21:28:28.198253Z"
    }
   },
   "outputs": [
    {
     "name": "stdout",
     "output_type": "stream",
     "text": [
      "CUDA not available or GPU is too old.\n",
      "device set to: CPU (cpu)\n"
     ]
    }
   ],
   "source": [
    "import torch\n",
    "\n",
    "\n",
    "if torch.cuda.is_available() and torch.cuda.get_device_capability(0)[0] >= 3.7:\n",
    "    device = torch.device(\"cuda:0\")  # Use GPU\n",
    "    print(\"Using GPU:\", torch.cuda.get_device_name(0))\n",
    "    print(\"CUDA available:\", torch.cuda.is_available())\n",
    "    print(\"CUDA version:\", torch.version.cuda)\n",
    "    print(\"cuDNN version:\", torch.backends.cudnn.version())\n",
    "    print(\"Device Name:\", torch.cuda.get_device_name(0))\n",
    "else:\n",
    "    device = torch.device(\"cpu\")  # Use CPU\n",
    "    print(\"CUDA not available or GPU is too old.\")\n",
    "    print(f\"device set to: CPU ({device})\")\n",
    "    "
   ]
  },
  {
   "cell_type": "markdown",
   "metadata": {
    "id": "Z0vOINi-RVG-",
    "jp-MarkdownHeadingCollapsed": true
   },
   "source": [
    "## [1] Install all required packages"
   ]
  },
  {
   "cell_type": "code",
   "execution_count": 134,
   "metadata": {
    "colab": {
     "base_uri": "https://localhost:8080/"
    },
    "execution": {
     "iopub.execute_input": "2024-06-17T21:32:06.473969Z",
     "iopub.status.busy": "2024-06-17T21:32:06.473969Z",
     "iopub.status.idle": "2024-06-17T21:32:06.490887Z",
     "shell.execute_reply": "2024-06-17T21:32:06.490887Z",
     "shell.execute_reply.started": "2024-06-17T21:32:06.473969Z"
    },
    "executionInfo": {
     "elapsed": 4872,
     "status": "ok",
     "timestamp": 1718358985791,
     "user": {
      "displayName": "Ivan Porupski",
      "userId": "03127310887960034948"
     },
     "user_tz": -120
    },
    "id": "Y-1HeiN2HWYh",
    "outputId": "3e4fc84f-371f-455b-cafb-e8d2fcd8837a"
   },
   "outputs": [
    {
     "name": "stdout",
     "output_type": "stream",
     "text": [
      "transformers: All good.\n",
      "pydub: All good.\n",
      "torch: All good.\n",
      "torchaudio: All good.\n",
      "pyctcdecode: All good.\n",
      "jiwer: All good.\n",
      "nltk: All good.\n",
      "fuzzywuzzy: All good.\n",
      "All good. Every essential package is present to make the code work.\n"
     ]
    },
    {
     "name": "stderr",
     "output_type": "stream",
     "text": [
      "[nltk_data] Downloading package punkt to C:\\Users\\Mr Cab\n",
      "[nltk_data]     Driver\\AppData\\Roaming\\nltk_data...\n",
      "[nltk_data]   Package punkt is already up-to-date!\n"
     ]
    }
   ],
   "source": [
    "#!pip install ipython\n",
    "from IPython.display import clear_output\n",
    "\n",
    "try:\n",
    "    import transformers\n",
    "    print(\"transformers: All good.\")\n",
    "except ImportError:\n",
    "    !pip install transformers\n",
    "    print(\"transformers: Installed.\")\n",
    "\n",
    "try:\n",
    "    import pydub\n",
    "    print(\"pydub: All good.\")\n",
    "except ImportError:\n",
    "    !pip install pydub\n",
    "    print(\"pydub: Installed.\")\n",
    "\n",
    "try:\n",
    "    import torch\n",
    "    print(\"torch: All good.\")\n",
    "except ImportError:\n",
    "    !conda install pytorch torchvision torchaudio cpuonly -c pytorch\n",
    "    # !pip3 install torch torchvision torchaudio --index-url https://download.pytorch.org/whl/cpu\n",
    "\n",
    "try:\n",
    "    import torchaudio\n",
    "    print(\"torchaudio: All good.\")\n",
    "except ImportError:\n",
    "    !pip install torchaudio\n",
    "    print(\"torchaudio: Installed.\")\n",
    "\n",
    "try:\n",
    "    import pyctcdecode\n",
    "    print(\"pyctcdecode: All good.\")\n",
    "except ImportError:\n",
    "    !pip install pyctcdecode\n",
    "    print(\"pyctcdecode: Installed.\")\n",
    "\n",
    "try:\n",
    "    import jiwer\n",
    "    print(\"jiwer: All good.\")\n",
    "except ImportError:\n",
    "    !pip install jiwer\n",
    "    print(\"jiwer: Installed.\")\n",
    "\n",
    "try:\n",
    "    import nltk\n",
    "    nltk.download('punkt')\n",
    "    print(\"nltk: All good.\")\n",
    "except ImportError:\n",
    "    !pip install nltk\n",
    "    print(\"nltk: Installed.\")\n",
    "\n",
    "try:\n",
    "    from fuzzywuzzy import fuzz\n",
    "    print(\"fuzzywuzzy: All good.\")\n",
    "except ImportError:   \n",
    "    !pip install fuzzywuzzy\n",
    "    print(\"fuzzywuzzy: Installed.\")\n",
    "\n",
    "#clear_output(wait=True) # clean the mess\n",
    "print(f\"All good. Every essential package is present to make the code work.\")"
   ]
  },
  {
   "cell_type": "code",
   "execution_count": 7,
   "metadata": {
    "colab": {
     "base_uri": "https://localhost:8080/"
    },
    "execution": {
     "iopub.execute_input": "2024-06-17T20:35:23.559292Z",
     "iopub.status.busy": "2024-06-17T20:35:23.559292Z",
     "iopub.status.idle": "2024-06-17T20:35:23.563255Z",
     "shell.execute_reply": "2024-06-17T20:35:23.563255Z",
     "shell.execute_reply.started": "2024-06-17T20:35:23.559292Z"
    },
    "executionInfo": {
     "elapsed": 297,
     "status": "ok",
     "timestamp": 1718358989147,
     "user": {
      "displayName": "Ivan Porupski",
      "userId": "03127310887960034948"
     },
     "user_tz": -120
    },
    "id": "QpXmeQkhHSMy",
    "outputId": "18d66a32-7b49-4cac-ed0e-2f4d4bb4c771"
   },
   "outputs": [
    {
     "name": "stdout",
     "output_type": "stream",
     "text": [
      "All good. kenlm is present to make the LM model.\n"
     ]
    }
   ],
   "source": [
    "try:\n",
    "    import kenlm\n",
    "    print(f\"All good. kenlm is present to make the LM model.\")\n",
    "except ImportError:\n",
    "    !pip install https://github.com/kpu/kenlm/archive/master.zip # requires runtime restart\n",
    "    import os\n",
    "    os.kill(os.getpid(), 9) # restart automatically"
   ]
  },
  {
   "cell_type": "markdown",
   "metadata": {
    "id": "7bkH_9mFRi5n"
   },
   "source": [
    "## [2] Defining all paths"
   ]
  },
  {
   "cell_type": "code",
   "execution_count": 3,
   "metadata": {
    "execution": {
     "iopub.execute_input": "2024-06-17T22:28:55.792038Z",
     "iopub.status.busy": "2024-06-17T22:28:55.792038Z",
     "iopub.status.idle": "2024-06-17T22:28:55.796273Z",
     "shell.execute_reply": "2024-06-17T22:28:55.796273Z",
     "shell.execute_reply.started": "2024-06-17T22:28:55.792038Z"
    },
    "executionInfo": {
     "elapsed": 2,
     "status": "ok",
     "timestamp": 1718358968575,
     "user": {
      "displayName": "Ivan Porupski",
      "userId": "03127310887960034948"
     },
     "user_tz": -120
    },
    "id": "PnFUfYq5HPsy"
   },
   "outputs": [],
   "source": [
    "path_to_pshr_raw_audio_data = r\"D:\\ParlaSpeech-HR.v1.0\\raw\"\n",
    "path_to_pshr_raw_jsonl = r\"D:\\ParlaSpeech-HR.v1.0\\ParlaSpeech-HR.v1.0.jsonl\"\n",
    "\n",
    "path_to_pshr_models = r\"D:\\ASR\\ParlaspeechHR\"\n",
    "path_to_pshr_wav2vec2_l = r\"D:\\ASR\\ParlaspeechHR\\wav2vec2-large-slavih-hr\"\n",
    "path_to_pshr_wav2vec2_l_lm = r\"D:\\ASR\\ParlaspeechHR\\wav2vec2-large-slavic-hr-lm\"\n",
    "\n",
    "test_audio_path = r\"D:\\ASR\\ParlaspeechHR\\wav2vec2-large-slavic-hr-lm\\nela_film_review.ogg\""
   ]
  },
  {
   "cell_type": "code",
   "execution_count": 4,
   "metadata": {
    "colab": {
     "base_uri": "https://localhost:8080/"
    },
    "execution": {
     "iopub.execute_input": "2024-06-17T22:28:56.016659Z",
     "iopub.status.busy": "2024-06-17T22:28:56.016659Z",
     "iopub.status.idle": "2024-06-17T22:28:56.019444Z",
     "shell.execute_reply": "2024-06-17T22:28:56.019444Z",
     "shell.execute_reply.started": "2024-06-17T22:28:56.016659Z"
    },
    "executionInfo": {
     "elapsed": 2210,
     "status": "ok",
     "timestamp": 1718358996758,
     "user": {
      "displayName": "Ivan Porupski",
      "userId": "03127310887960034948"
     },
     "user_tz": -120
    },
    "id": "aDFTbiSfHyu9",
    "outputId": "828f1e69-1cba-46eb-a187-0ad01bc92414"
   },
   "outputs": [],
   "source": [
    "# # Mount gdrive and place path (private, no download)\n",
    "# from google.colab import drive\n",
    "# drive.mount(\"/content/drive\")\n",
    "\n",
    "# model_file_path = \"/content/drive/MyDrive/pytorch/wav2vec2-large-slavic-hr\"\n",
    "# output_folder = \"/content/drive/MyDrive/pytorch/wav2vec2-large-slavic-hr/temp\"\n",
    "\n",
    "# model_file_path_lm = \"/content/drive/MyDrive/pytorch/wav2vec2-large-slavic-hr-lm\"\n",
    "# output_folder_lm = \"/content/drive/MyDrive/pytorch/wav2vec2-large-slavic-hr-lm/temp\""
   ]
  },
  {
   "cell_type": "markdown",
   "metadata": {
    "id": "hKlYE54RRsUH"
   },
   "source": [
    "## [3] Downloading wav2vec2 (plain or WithLM)"
   ]
  },
  {
   "cell_type": "code",
   "execution_count": 5,
   "metadata": {
    "colab": {
     "base_uri": "https://localhost:8080/"
    },
    "execution": {
     "iopub.execute_input": "2024-06-17T22:28:56.384628Z",
     "iopub.status.busy": "2024-06-17T22:28:56.384628Z",
     "iopub.status.idle": "2024-06-17T22:28:56.391119Z",
     "shell.execute_reply": "2024-06-17T22:28:56.391119Z",
     "shell.execute_reply.started": "2024-06-17T22:28:56.384628Z"
    },
    "executionInfo": {
     "elapsed": 298,
     "status": "ok",
     "timestamp": 1718359439487,
     "user": {
      "displayName": "Ivan Porupski",
      "userId": "03127310887960034948"
     },
     "user_tz": -120
    },
    "id": "65WVbDBfIgUw",
    "outputId": "16f08152-bfbd-4c0f-d16a-334b4fdaef48"
   },
   "outputs": [
    {
     "name": "stdout",
     "output_type": "stream",
     "text": [
      "wav2vec2-large-slavic-parlaspeech-hr already exists.\n",
      "wav2vec2-large-slavic-parlaspeech-hr-lm already exists.\n",
      "\n",
      "Using model from path: D:\\ASR\\ParlaspeechHR\\wav2vec2-large-slavic-hr\n",
      "Using LM model from path: D:\\ASR\\ParlaspeechHR\\wav2vec2-large-slavic-hr-lm\n",
      "\n",
      "Running locally, BOTH GOOD, good luck\n"
     ]
    }
   ],
   "source": [
    "import os\n",
    "import subprocess\n",
    "\n",
    "if google_colabbing:\n",
    "    from google.colab import drive\n",
    "    drive.mount(\"/content/drive\")\n",
    "\n",
    "    # Check if the directory exists\n",
    "    if not os.path.exists(\"/content/wav2vec2-large-slavic-parlaspeech-hr\"):\n",
    "        # Clone the repository if it doesn't exist\n",
    "        print(f\"Downloading to GDRIVE ~2 GB! /wav2vec2-large-slavic-parlaspeech-hr\")\n",
    "        subprocess.run(\"git clone https://huggingface.co/classla/wav2vec2-large-slavic-parlaspeech-hr\", shell=True, check=True)\n",
    "        os.makedirs(\"/content/wav2vec2-large-slavic-parlaspeech-hr/temp\", exist_ok=True)\n",
    "    else:\n",
    "        print(\"wav2vec2-large-slavic-parlaspeech-hr already exists.\")\n",
    "\n",
    "    model_file_path = \"/content/wav2vec2-large-slavic-parlaspeech-hr\"\n",
    "    print(f\"\\nUsing model from path: {model_file_path}\")\n",
    "\n",
    "else:\n",
    "    path_to_pshr_wav2vec2_l = r\"D:\\ASR\\ParlaspeechHR\\wav2vec2-large-slavic-hr\"\n",
    "    path_to_pshr_wav2vec2_l_lm = r\"D:\\ASR\\ParlaspeechHR\\wav2vec2-large-slavic-hr-lm\"\n",
    "\n",
    "    # Check if the directories exist and clone if they don't\n",
    "    if not os.path.exists(path_to_pshr_wav2vec2_l):\n",
    "        print(f\"Downloading LOCALLY ~2 GB! /wav2vec2-large-slavic-parlaspeech-hr\")\n",
    "        subprocess.run(f\"git clone https://huggingface.co/classla/wav2vec2-large-slavic-parlaspeech-hr {path_to_pshr_wav2vec2_l}\", shell=True, check=True)\n",
    "        os.makedirs(f\"{path_to_pshr_wav2vec2_l}/temp\", exist_ok=True)\n",
    "    else:\n",
    "        print(\"wav2vec2-large-slavic-parlaspeech-hr already exists.\")\n",
    "\n",
    "    if not os.path.exists(path_to_pshr_wav2vec2_l_lm):\n",
    "        print(f\"Downloading LOCALLY ~2 GB! /wav2vec2-large-slavic-parlaspeech-hr-LM\")\n",
    "        subprocess.run(f\"git clone https://huggingface.co/classla/wav2vec2-large-slavic-parlaspeech-hr-lm {path_to_pshr_wav2vec2_l_lm}\", shell=True, check=True)\n",
    "        os.makedirs(f\"{path_to_pshr_wav2vec2_l_lm}/temp\", exist_ok=True)\n",
    "    else:\n",
    "        print(\"wav2vec2-large-slavic-parlaspeech-hr-lm already exists.\")\n",
    "\n",
    "    model_file_path = path_to_pshr_wav2vec2_l\n",
    "    model_lm_file_path = path_to_pshr_wav2vec2_l_lm\n",
    "    print(f\"\\nUsing model from path: {model_file_path}\")\n",
    "    print(f\"Using LM model from path: {model_lm_file_path}\\n\")\n",
    "\n",
    "print(\"Running locally, BOTH GOOD, good luck\")\n"
   ]
  },
  {
   "cell_type": "markdown",
   "metadata": {
    "id": "ay3Tr6dBR0gn"
   },
   "source": [
    "## [4] Initilize the model!"
   ]
  },
  {
   "cell_type": "code",
   "execution_count": 6,
   "metadata": {
    "colab": {
     "base_uri": "https://localhost:8080/"
    },
    "execution": {
     "iopub.execute_input": "2024-06-17T22:28:56.744953Z",
     "iopub.status.busy": "2024-06-17T22:28:56.744953Z",
     "iopub.status.idle": "2024-06-17T22:29:06.106880Z",
     "shell.execute_reply": "2024-06-17T22:29:06.106453Z",
     "shell.execute_reply.started": "2024-06-17T22:28:56.744953Z"
    },
    "executionInfo": {
     "elapsed": 300,
     "status": "ok",
     "timestamp": 1718361529289,
     "user": {
      "displayName": "Ivan Porupski",
      "userId": "03127310887960034948"
     },
     "user_tz": -120
    },
    "id": "KbCTLV-yHiZh",
    "outputId": "97943b4f-e296-416a-e5b5-d25330207698"
   },
   "outputs": [
    {
     "name": "stderr",
     "output_type": "stream",
     "text": [
      "C:\\Users\\Public\\anaconda3\\envs\\PyPhon\\Lib\\site-packages\\transformers\\utils\\generic.py:441: UserWarning: torch.utils._pytree._register_pytree_node is deprecated. Please use torch.utils._pytree.register_pytree_node instead.\n",
      "  _torch_pytree._register_pytree_node(\n",
      "C:\\Users\\Public\\anaconda3\\envs\\PyPhon\\Lib\\site-packages\\transformers\\utils\\generic.py:309: UserWarning: torch.utils._pytree._register_pytree_node is deprecated. Please use torch.utils._pytree.register_pytree_node instead.\n",
      "  _torch_pytree._register_pytree_node(\n",
      "C:\\Users\\Public\\anaconda3\\envs\\PyPhon\\Lib\\site-packages\\transformers\\utils\\generic.py:309: UserWarning: torch.utils._pytree._register_pytree_node is deprecated. Please use torch.utils._pytree.register_pytree_node instead.\n",
      "  _torch_pytree._register_pytree_node(\n",
      "C:\\Users\\Public\\anaconda3\\envs\\PyPhon\\Lib\\site-packages\\transformers\\utils\\generic.py:309: UserWarning: torch.utils._pytree._register_pytree_node is deprecated. Please use torch.utils._pytree.register_pytree_node instead.\n",
      "  _torch_pytree._register_pytree_node(\n"
     ]
    },
    {
     "name": "stdout",
     "output_type": "stream",
     "text": [
      "CUDA not available or GPU is too old.\n",
      "device set to: CPU (cpu)\n",
      "\n",
      "device: cpu\n",
      "\n",
      "Making tokenizer0...\n",
      "Making feature_extractor0...\n",
      "Making processor0...\n",
      "Making model0... device cpu\n"
     ]
    },
    {
     "name": "stderr",
     "output_type": "stream",
     "text": [
      "Some weights of the model checkpoint at D:\\ASR\\ParlaspeechHR\\wav2vec2-large-slavic-hr were not used when initializing Wav2Vec2ForCTC: ['wav2vec2.encoder.pos_conv_embed.conv.weight_v', 'wav2vec2.encoder.pos_conv_embed.conv.weight_g']\n",
      "- This IS expected if you are initializing Wav2Vec2ForCTC from the checkpoint of a model trained on another task or with another architecture (e.g. initializing a BertForSequenceClassification model from a BertForPreTraining model).\n",
      "- This IS NOT expected if you are initializing Wav2Vec2ForCTC from the checkpoint of a model that you expect to be exactly identical (initializing a BertForSequenceClassification model from a BertForSequenceClassification model).\n",
      "Some weights of Wav2Vec2ForCTC were not initialized from the model checkpoint at D:\\ASR\\ParlaspeechHR\\wav2vec2-large-slavic-hr and are newly initialized: ['wav2vec2.encoder.pos_conv_embed.conv.parametrizations.weight.original0', 'wav2vec2.encoder.pos_conv_embed.conv.parametrizations.weight.original1']\n",
      "You should probably TRAIN this model on a down-stream task to be able to use it for predictions and inference.\n",
      "Special tokens have been added in the vocabulary, make sure the associated word embeddings are fine-tuned or trained.\n"
     ]
    },
    {
     "name": "stdout",
     "output_type": "stream",
     "text": [
      "Deleted tokenizer0 and feat_extractor0.\n",
      "Non-LM components are active.\n",
      "Making processor0lm...\n"
     ]
    },
    {
     "name": "stderr",
     "output_type": "stream",
     "text": [
      "Only 1 unigrams passed as vocabulary. Is this small or artificial data?\n"
     ]
    },
    {
     "name": "stdout",
     "output_type": "stream",
     "text": [
      "Making tokenizer0lm...\n",
      "Making feature_extractor0lm...\n",
      "Making model0lm... device cpu\n"
     ]
    },
    {
     "name": "stderr",
     "output_type": "stream",
     "text": [
      "Some weights of the model checkpoint at D:\\ASR\\ParlaspeechHR\\wav2vec2-large-slavic-hr-lm were not used when initializing Wav2Vec2ForCTC: ['wav2vec2.encoder.pos_conv_embed.conv.weight_v', 'wav2vec2.encoder.pos_conv_embed.conv.weight_g']\n",
      "- This IS expected if you are initializing Wav2Vec2ForCTC from the checkpoint of a model trained on another task or with another architecture (e.g. initializing a BertForSequenceClassification model from a BertForPreTraining model).\n",
      "- This IS NOT expected if you are initializing Wav2Vec2ForCTC from the checkpoint of a model that you expect to be exactly identical (initializing a BertForSequenceClassification model from a BertForSequenceClassification model).\n",
      "Some weights of Wav2Vec2ForCTC were not initialized from the model checkpoint at D:\\ASR\\ParlaspeechHR\\wav2vec2-large-slavic-hr-lm and are newly initialized: ['wav2vec2.encoder.pos_conv_embed.conv.parametrizations.weight.original0', 'wav2vec2.encoder.pos_conv_embed.conv.parametrizations.weight.original1']\n",
      "You should probably TRAIN this model on a down-stream task to be able to use it for predictions and inference.\n"
     ]
    },
    {
     "name": "stdout",
     "output_type": "stream",
     "text": [
      "Deleted tokenizer0lm and feat_extractor0lm.\n",
      "Non-LM components are active.\n",
      "\n",
      "LM components are active.\n"
     ]
    }
   ],
   "source": [
    "from transformers import (\n",
    "    Wav2Vec2Processor,\n",
    "    Wav2Vec2ProcessorWithLM,\n",
    "    Wav2Vec2ForCTC,\n",
    "    Wav2Vec2FeatureExtractor,\n",
    "    Wav2Vec2CTCTokenizer,\n",
    "    Wav2Vec2Config,\n",
    "    AutoModelForCTC,\n",
    "    AutoProcessor,\n",
    ")\n",
    "import torch\n",
    "import os\n",
    "import kenlm\n",
    "from pyctcdecode import BeamSearchDecoderCTC, build_ctcdecoder\n",
    "\n",
    "# Set device as GPU, default is CPU\n",
    "if torch.cuda.is_available() and torch.cuda.get_device_capability(0)[0] >= 3.7:\n",
    "    device = torch.device(\"cuda:0\")\n",
    "    print(\"Using GPU:\", torch.cuda.get_device_name(0))\n",
    "    print(\"CUDA available:\", torch.cuda.is_available())\n",
    "    print(\"CUDA version:\", torch.version.cuda)\n",
    "    print(\"cuDNN version:\", torch.backends.cudnn.version())\n",
    "    print(\"Device Name:\", torch.cuda.get_device_name(0))\n",
    "else:\n",
    "    device = torch.device(\"cpu\")\n",
    "    print(\"CUDA not available or GPU is too old.\")\n",
    "    print(f\"device set to: CPU ({device})\\n\")\n",
    "    \n",
    "print(f\"device: {device}\\n\")\n",
    "\n",
    "config_file_path = os.path.join(model_file_path, \"config.json\")\n",
    "config_lm_file_path = os.path.join(model_lm_file_path, \"config.json\")\n",
    "#config_json = Wav2Vec2Config.from_json_file(config_file_path)\n",
    "\n",
    "# Make the non-LM model components\n",
    "def make_non_lm_components(model_file_path, device):\n",
    "    # Make the tokenizer\n",
    "    print(f\"Making tokenizer0...\")\n",
    "    tokenizer0 = Wav2Vec2CTCTokenizer(\n",
    "                                    os.path.join(model_file_path, \"vocab.json\"),\n",
    "                                    unk_token=\"[UNK]\",\n",
    "                                    pad_token=\"[PAD]\",\n",
    "                                    word_delimiter_token=\"|\"\n",
    "                                )\n",
    "\n",
    "    # Make feature extractor\n",
    "    print(f\"Making feature_extractor0...\")\n",
    "    feature_extractor0 = Wav2Vec2FeatureExtractor(\n",
    "                                    feature_size=1,\n",
    "                                    sampling_rate=16000,\n",
    "                                    padding_value=0.0,\n",
    "                                    do_normalize=True,\n",
    "                                    return_attention_mask=True\n",
    "                                )\n",
    "\n",
    "    # Make the processor\n",
    "    print(f\"Making processor0...\")\n",
    "    processor0 = Wav2Vec2Processor(tokenizer=tokenizer0, feature_extractor=feature_extractor0)\n",
    "\n",
    "    # Make the model\n",
    "    print(f\"Making model0... device {device}\")\n",
    "    model0 = Wav2Vec2ForCTC.from_pretrained(model_file_path, config=config_file_path).to(device)\n",
    "    model0.eval()\n",
    "    \n",
    "    del tokenizer0\n",
    "    del feature_extractor0\n",
    "    \n",
    "    print(f\"Deleted tokenizer0 and feat_extractor0.\\nNon-LM components are active.\")\n",
    "    return processor0, model0\n",
    "\n",
    "#processor0, model0 = make_non_lm_components(model_file_path, device)\n",
    "\n",
    "# Make the LM model components\n",
    "def make_lm_components(model_lm_file_path, device):\n",
    "    \n",
    "    print(f\"Making processor0lm...\")\n",
    "    #processor0lm = AutoProcessor.from_pretrained(model_lm_file_path)\n",
    "    processor0lm = Wav2Vec2ProcessorWithLM.from_pretrained(model_lm_file_path)\n",
    "\n",
    "    vocab_lm_path = os.path.join(model_lm_file_path, \"vocab.json\")\n",
    "    \n",
    "    print(f\"Making tokenizer0lm...\")\n",
    "    tokenizer0lm = Wav2Vec2CTCTokenizer(\n",
    "        vocab_lm_path,\n",
    "        unk_token=\"[UNK]\",\n",
    "        pad_token=\"[PAD]\",\n",
    "        word_delimiter_token=\"|\"\n",
    "    )\n",
    "    print(f\"Making feature_extractor0lm...\")\n",
    "    feature_extractor0lm = Wav2Vec2FeatureExtractor(\n",
    "        feature_size=1,\n",
    "        sampling_rate=16000,\n",
    "        padding_value=0.0,\n",
    "        do_normalize=True,\n",
    "        return_attention_mask=True\n",
    "    )\n",
    "    print(f\"Making model0lm... device {device}\")\n",
    "    model0lm = Wav2Vec2ForCTC.from_pretrained(model_lm_file_path, config=config_lm_file_path).to(device) ##aded config_lm_file_path\n",
    "    model0lm.eval()\n",
    "\n",
    "    del tokenizer0lm\n",
    "    del feature_extractor0lm\n",
    "    \n",
    "    print(f\"Deleted tokenizer0lm and feat_extractor0lm.\\nNon-LM components are active.\")\n",
    "\n",
    "    print(f\"\\nLM components are active.\")\n",
    "    return processor0lm, model0lm\n",
    "\n",
    "#processor0lm, model0lm = make_lm_components(model_lm_file_path, device)\n",
    "\n",
    "if make_model == \"non\":\n",
    "    processor0, model0 = make_non_lm_components(model_file_path, device)\n",
    "    \n",
    "elif make_model == \"lm\":\n",
    "    processor0lm, model0lm = make_lm_components(model_lm_file_path, device)\n",
    "    \n",
    "elif make_model == \"both\":\n",
    "    processor0, model0 = make_non_lm_components(model_file_path, device)\n",
    "    processor0lm, model0lm = make_lm_components(model_lm_file_path, device)\n",
    "    \n",
    "else:\n",
    "    print(\"Invalid value for make_model. Please choose 'non', 'lm', or 'both'.\")"
   ]
  },
  {
   "cell_type": "markdown",
   "metadata": {
    "id": "c8eTi90-R7E_"
   },
   "source": [
    "## [5] Define cutting down into temp chunks (now with DYNAMICS)"
   ]
  },
  {
   "cell_type": "markdown",
   "metadata": {},
   "source": [
    "## * def process_transcribe for both"
   ]
  },
  {
   "cell_type": "code",
   "execution_count": 114,
   "metadata": {
    "execution": {
     "iopub.execute_input": "2024-06-18T00:38:57.137230Z",
     "iopub.status.busy": "2024-06-18T00:38:57.136233Z",
     "iopub.status.idle": "2024-06-18T00:38:57.160583Z",
     "shell.execute_reply": "2024-06-18T00:38:57.160583Z",
     "shell.execute_reply.started": "2024-06-18T00:38:57.137230Z"
    }
   },
   "outputs": [
    {
     "name": "stdout",
     "output_type": "stream",
     "text": [
      "Is debug_printing on? False\n",
      "\n",
      "make_model? both\n",
      "\n",
      "Transcription function defined and active: \n",
      "Splitting audio in: 20s segments (dynamically). \n",
      "\n"
     ]
    }
   ],
   "source": [
    "import torchaudio\n",
    "import numpy as np\n",
    "from pydub import AudioSegment\n",
    "import matplotlib.pyplot as plt\n",
    "from IPython.display import clear_output\n",
    "\n",
    "TIME_CHUNK = 20\n",
    "target_sr = 16000\n",
    "\n",
    "SILENCE_THRESHOLD = 0.01  # Threshold to detect silence\n",
    "MIN_SILENCE_LENGTH = 0.5  # Minimum length of silence to be considered a split point in seconds\n",
    "\n",
    "print(f\"Is debug_printing on? {debug_printing}\\n\")\n",
    "\n",
    "print(f\"make_model? {make_model}\\n\")\n",
    "\n",
    "\n",
    "if make_model == \"non\":\n",
    "### PROCESSING ENGINE ###\n",
    "#\n",
    "#### processor0, model0\n",
    "    def process_transcribe(input_file, processor, model): \n",
    "        \n",
    "            # Begin processing:\n",
    "            speech, sample_rate = torchaudio.load(input_file)\n",
    "    \n",
    "            # Check if resampling is needed\n",
    "            if sample_rate != target_sr:\n",
    "                resampler = torchaudio.transforms.Resample(orig_freq=sample_rate, new_freq=target_sr)\n",
    "                speech = resampler(speech)\n",
    "    \n",
    "            # Process the speech with the processor\n",
    "            input_values = processor(speech, sampling_rate=target_sr, return_tensors=\"pt\").input_values.to(device)\n",
    "    \n",
    "            if debug_printing == True:\n",
    "              print(input_values.shape)\n",
    "    \n",
    "            if input_values.dim() == 3:  # If the shape is [1, 1, audio_length]\n",
    "                input_values = input_values.squeeze(0)  # Squeeze to [1, audio_length]\n",
    "    \n",
    "            if debug_printing == True:\n",
    "              print(input_values.shape)\n",
    "    \n",
    "            # Perform inference\n",
    "            with torch.no_grad():\n",
    "                logits = model(input_values).logits\n",
    "    \n",
    "            if debug_printing == True:\n",
    "             print(\"Logits shape:\", logits.shape)\n",
    "    \n",
    "            # Get the predicted token IDs (greedy decoding)\n",
    "            predicted_ids = torch.argmax(logits, dim=-1)\n",
    "    \n",
    "            if debug_printing == True:\n",
    "              print(\"Predicted IDs shape:\", predicted_ids.shape)\n",
    "    \n",
    "            # Convert predicted IDs to numpy array\n",
    "            predicted_ids = predicted_ids.cpu().numpy()\n",
    "    \n",
    "            if debug_printing == True:\n",
    "              print(\"Predicted IDs (numpy):\", predicted_ids)\n",
    "    \n",
    "            # Decode the predicted IDs\n",
    "            transcription = processor.batch_decode(predicted_ids)[0]\n",
    "    \n",
    "            transcription = transcription.replace(\"<pad>\", \"\").strip() ## čak kad je i solo non-lm, opet stavlja <pad>\n",
    "    \n",
    "            if debug_printing == True:\n",
    "              print(\"Transcription NON:\", transcription)\n",
    "                \n",
    "    \n",
    "            return transcription\n",
    "    \n",
    "    \n",
    "    \n",
    "    def transcribe(input_file, output_folder, target_sr=target_sr, TIME_CHUNK=TIME_CHUNK):\n",
    "        # Load the audio\n",
    "        waveform, orig_sr = torchaudio.load(input_file)\n",
    "    \n",
    "        # Check if resampling is needed\n",
    "        if orig_sr != target_sr:\n",
    "            resampler = torchaudio.transforms.Resample(orig_freq=orig_sr, new_freq=target_sr)\n",
    "            waveform = resampler(waveform)\n",
    "    \n",
    "        # Determine the output file name and format (always WAV)\n",
    "        base_name = os.path.splitext(os.path.basename(input_file))[0]\n",
    "    \n",
    "        # Convert waveform to numpy array for easier processing\n",
    "        waveform_np = waveform.squeeze().numpy()\n",
    "    \n",
    "    \n",
    "    ################### RUN THE WHOLE AUDIO FILES ##########################\n",
    "        if testing_asr == True:\n",
    "                # Directly process the entire audio without chunking\n",
    "                #output_file = os.path.join(output_folder, f\"{base_name}_whole.wav\")\n",
    "                #torchaudio.save(output_file, waveform, sample_rate=target_sr)\n",
    "                tekst = process_transcribe(input_file, processor0, model0)\n",
    "                # print(f\"Transcription for {base_name}: {tekst}\")\n",
    "                print(tekst)\n",
    "                #os.remove(output_file)  # Optionally delete the temporary WAV file\n",
    "        \n",
    "    ######### ELSE CHUNKS BASED ON TIME_CHUNK INCREMENTS ##################\n",
    "        else:\n",
    "            # Function to detect silence points\n",
    "            def find_silence_points(signal, threshold, min_silence_length, sr):\n",
    "                silence_points = []\n",
    "                min_silence_samples = int(min_silence_length * sr)\n",
    "                is_silence = np.abs(signal) < threshold\n",
    "                silence_length = 0\n",
    "                for i in range(len(is_silence)):\n",
    "                    if is_silence[i]:\n",
    "                        silence_length += 1\n",
    "                        if silence_length >= min_silence_samples:\n",
    "                            silence_points.append(i)\n",
    "                    else:\n",
    "                        silence_length = 0\n",
    "                return silence_points\n",
    "    \n",
    "    \n",
    "            # Find silence points in the audio\n",
    "            silence_points = find_silence_points(waveform_np, SILENCE_THRESHOLD, MIN_SILENCE_LENGTH, target_sr)\n",
    "        \n",
    "            if debug_printing == True:\n",
    "        \n",
    "                print(f\"Plotting point where silence ({len(silence_points)} points) has been detected in {input_file}\")\n",
    "                # Plot the waveform and silence points\n",
    "                plt.figure(figsize=(15, 5))\n",
    "                plt.plot(waveform_np, label='Waveform')\n",
    "                plt.scatter(silence_points, waveform_np[silence_points], color='red', marker='x', label='Silence Points')\n",
    "                plt.xlabel('Samples')\n",
    "                plt.ylabel('Amplitude')\n",
    "                plt.title('Waveform with Silence Points')\n",
    "                plt.legend()\n",
    "                plt.show()\n",
    "        \n",
    "            # Split the audio at silence points\n",
    "            chunk_start = 0\n",
    "            for i, point in enumerate(silence_points):\n",
    "                chunk_end = point\n",
    "                if chunk_end - chunk_start >= TIME_CHUNK * target_sr:\n",
    "                    chunk = waveform[:, chunk_start:chunk_end]\n",
    "                    output_file = os.path.join(output_folder, f\"{base_name}_temp_chunk{i}.wav\")\n",
    "                    torchaudio.save(output_file, chunk, sample_rate=target_sr)\n",
    "        \n",
    "                    # Process the temporary WAV file\n",
    "                    tekst = process_transcribe(input_file, processor0, model0)\n",
    "    \n",
    "                    # Add time marker\n",
    "                    time = format_time(chunk_start / target_sr)\n",
    "                    print(f\"[{time}] {tekst}\")\n",
    "        \n",
    "                    # Delete the temporary WAV file after processing\n",
    "                    os.remove(output_file)\n",
    "        \n",
    "                    chunk_start = chunk_end\n",
    "                    \n",
    "            def format_time(seconds):\n",
    "                minutes = int(seconds // 60)\n",
    "                seconds = int(seconds % 60)\n",
    "                return f\"{minutes:02d}:{seconds:02d}\"\n",
    "        \n",
    "            # Process the remaining audio if any\n",
    "            if chunk_start < waveform.size(1):\n",
    "                chunk = waveform[:, chunk_start:]\n",
    "                output_file = os.path.join(output_folder, f\"{base_name}_temp_chunk{len(silence_points)}.wav\")\n",
    "                torchaudio.save(output_file, chunk, sample_rate=target_sr)\n",
    "                tekst = process_transcribe(input_file, processor0, model0)\n",
    "                time = format_time(chunk_start / target_sr)\n",
    "                print(f\"[{time}] {tekst}\")\n",
    "                os.remove(output_file)\n",
    "\n",
    "\n",
    "\n",
    "if make_model == \"lm\":\n",
    "\n",
    "    #### L M #########\n",
    "    #\n",
    "    #### processor0lm, model0lm\n",
    "    def process_transcribe_lm(input_file, processor, model):\n",
    "    \n",
    "        if debug_printing:\n",
    "            print(f\"input_file type {type(input_file)}\")\n",
    "            print(f\"input_file {input_file}\")\n",
    "        # Load audio and perform ASR using wav2vec2 with LM\n",
    "        speech, sample_rate = torchaudio.load(input_file)\n",
    "        \n",
    "        # Check if resampling is needed\n",
    "        target_sr = 16000  # Example target sampling rate\n",
    "        if sample_rate != target_sr:\n",
    "            resampler = torchaudio.transforms.Resample(orig_freq=sample_rate, new_freq=target_sr)\n",
    "            speech = resampler(speech)\n",
    "        \n",
    "        # Process the speech with the processor\n",
    "        input_values = processor(speech, sampling_rate=target_sr, return_tensors=\"pt\").input_values.to(device)\n",
    "    \n",
    "        if debug_printing:\n",
    "            print(\"Input values shape:\", input_values.shape)\n",
    "    \n",
    "        # Ensure input_values has correct shape for model0lm\n",
    "        input_values = input_values.squeeze(0)  # Assuming batch_size=1\n",
    "    \n",
    "        if debug_printing:\n",
    "            print(\"Adjusted input values shape:\", input_values.shape)\n",
    "    \n",
    "        # Perform inference\n",
    "        with torch.no_grad():  # Inference mode\n",
    "            logits = model(input_values).logits\n",
    "    \n",
    "        if debug_printing:\n",
    "            print(\"Logits shape after processing:\", logits.shape)\n",
    "            #print(\"Logits max value:\", np.amax(logits, axis=1))\n",
    "    \n",
    "        # if debug_printing:\n",
    "        #     print(\"Logits shape:\", logits.shape)\n",
    "    \n",
    "        # Decode the predicted IDs\n",
    "        transcriptions = processor.batch_decode(logits.numpy()).text\n",
    "\n",
    "        if debug_printing == False:\n",
    "            clear_output()\n",
    "\n",
    "    \n",
    "        # Ensure transcription is returned as a string\n",
    "        transcription = transcriptions[0] if transcriptions else \"\"  # Assuming batch_size=1\n",
    "\n",
    "        if debug_printing == True:\n",
    "            print(\"Transcription LM:\", transcription)\n",
    "    \n",
    "        return transcription\n",
    "    \n",
    "    \n",
    "    \n",
    "    def transcribe_lm(input_file, output_folder, target_sr=target_sr, TIME_CHUNK=TIME_CHUNK):\n",
    "        # Load the audio\n",
    "        waveform, orig_sr = torchaudio.load(input_file)\n",
    "    \n",
    "        # Check if resampling is needed\n",
    "        if orig_sr != target_sr:\n",
    "            resampler = torchaudio.transforms.Resample(orig_freq=orig_sr, new_freq=target_sr)\n",
    "            waveform = resampler(waveform)\n",
    "    \n",
    "        # Determine the output file name and format (always WAV)\n",
    "        base_name = os.path.splitext(os.path.basename(input_file))[0]\n",
    "    \n",
    "        # Convert waveform to numpy array for easier processing\n",
    "        waveform_np = waveform.squeeze().numpy()\n",
    "    \n",
    "       \n",
    "        if testing_asr:\n",
    "    ################### RUN THE WHOLE AUDIO FILES ##########################\n",
    "            tekst = process_transcribe_lm(input_file, processor0lm, model0lm)\n",
    "           \n",
    "            if debug_printing == True:\n",
    "                print(f\"LM p_t_l Transcription for {base_name}: {tekst}\")\n",
    "        \n",
    "            #return tekst\n",
    "    \n",
    "        else:\n",
    "            # Function to detect silence points\n",
    "            def find_silence_points(signal, threshold, min_silence_length, sr):\n",
    "                silence_points = []\n",
    "                min_silence_samples = int(min_silence_length * sr)\n",
    "                is_silence = np.abs(signal) < threshold\n",
    "                silence_length = 0\n",
    "                for i in range(len(is_silence)):\n",
    "                    if is_silence[i]:\n",
    "                        silence_length += 1\n",
    "                        if silence_length >= min_silence_samples:\n",
    "                            silence_points.append(i)\n",
    "                    else:\n",
    "                        silence_length = 0\n",
    "                return silence_points\n",
    "    \n",
    "    \n",
    "            # Find silence points in the audio\n",
    "            silence_points = find_silence_points(waveform_np, SILENCE_THRESHOLD, MIN_SILENCE_LENGTH, target_sr)\n",
    "        \n",
    "            if debug_printing == True:\n",
    "        \n",
    "                print(f\"Plotting point where silence ({len(silence_points)} points) has been detected in {input_file}\")\n",
    "                # Plot the waveform and silence points\n",
    "                plt.figure(figsize=(15, 5))\n",
    "                plt.plot(waveform_np, label='Waveform')\n",
    "                plt.scatter(silence_points, waveform_np[silence_points], color='red', marker='x', label='Silence Points')\n",
    "                plt.xlabel('Samples')\n",
    "                plt.ylabel('Amplitude')\n",
    "                plt.title('Waveform with Silence Points')\n",
    "                plt.legend()\n",
    "                plt.show()\n",
    "        \n",
    "            # Split the audio at silence points\n",
    "            chunk_start = 0\n",
    "            for i, point in enumerate(silence_points):\n",
    "                chunk_end = point\n",
    "                if chunk_end - chunk_start >= TIME_CHUNK * target_sr:\n",
    "                    chunk = waveform[:, chunk_start:chunk_end]\n",
    "                    output_file = os.path.join(output_folder, f\"{base_name}_temp_chunk{i}.wav\")\n",
    "                    torchaudio.save(output_file, chunk, sample_rate=target_sr)\n",
    "        \n",
    "                    # Process the temporary WAV file\n",
    "    ####################################################################\n",
    "                    tekst = process_transcribe_lm(input_file, processor0lm, model0lm)\n",
    "                    time = format_time(chunk_start / target_sr)\n",
    "                    print(f\"[{time}] {tekst}\")\n",
    "        \n",
    "                    # Optionally, you can delete the temporary WAV file after processing\n",
    "                    os.remove(output_file)\n",
    "        \n",
    "                    chunk_start = chunk_end\n",
    "                    \n",
    "            def format_time(seconds):\n",
    "                minutes = int(seconds // 60)\n",
    "                seconds = int(seconds % 60)\n",
    "                return f\"{minutes:02d}:{seconds:02d}\"\n",
    "        \n",
    "            # Process the remaining audio if any\n",
    "            if chunk_start < waveform.size(1):\n",
    "                chunk = waveform[:, chunk_start:]\n",
    "                output_file = os.path.join(output_folder, f\"{base_name}_temp_chunk{len(silence_points)}.wav\")\n",
    "                torchaudio.save(output_file, chunk, sample_rate=target_sr)\n",
    "    ####################################################################\n",
    "                tekst = process_transcribe_lm(input_file, processor, model)\n",
    "                \n",
    "                time = format_time(chunk_start / target_sr)\n",
    "                print(f\"[{time}] {tekst}\")\n",
    "                os.remove(output_file)\n",
    "\n",
    "\n",
    "print(f\"Transcription function defined and active: \\nSplitting audio in: {TIME_CHUNK}s segments (dynamically). \\n\")\n"
   ]
  },
  {
   "cell_type": "code",
   "execution_count": 115,
   "metadata": {
    "execution": {
     "iopub.execute_input": "2024-06-18T00:38:57.643690Z",
     "iopub.status.busy": "2024-06-18T00:38:57.643690Z",
     "iopub.status.idle": "2024-06-18T00:38:57.666887Z",
     "shell.execute_reply": "2024-06-18T00:38:57.666887Z",
     "shell.execute_reply.started": "2024-06-18T00:38:57.643690Z"
    }
   },
   "outputs": [
    {
     "name": "stdout",
     "output_type": "stream",
     "text": [
      "Is debug_printing on? False\n",
      "\n",
      "doing: both, meaning you need this one\n",
      "\n",
      "Transcription function defined and active: \n",
      "Splitting audio in: 20s segments (dynamically). \n",
      "\n"
     ]
    }
   ],
   "source": [
    "### THE SAME BUT FOR BOTH\n",
    "\n",
    "from IPython.display import clear_output\n",
    "import torchaudio\n",
    "import numpy as np\n",
    "from pydub import AudioSegment\n",
    "import matplotlib.pyplot as plt\n",
    "\n",
    "TIME_CHUNK = 20\n",
    "target_sr = 16000\n",
    "\n",
    "SILENCE_THRESHOLD = 0.01  # Threshold to detect silence\n",
    "MIN_SILENCE_LENGTH = 0.5  # Minimum length of silence to be considered a split point in seconds\n",
    "\n",
    "print(f\"Is debug_printing on? {debug_printing}\\n\")\n",
    "\n",
    "\n",
    "if make_model == \"both\":\n",
    "### PROCESSING ENGINE ###\n",
    "    print(f\"doing: {make_model}, meaning you need this one\\n\")\n",
    "#### processor0, model0\n",
    "    def process_transcribe(input_file, processor, model): \n",
    "        \n",
    "            # Begin processing:\n",
    "            speech, sample_rate = torchaudio.load(input_file)\n",
    "    \n",
    "            # Check if resampling is needed\n",
    "            if sample_rate != target_sr:\n",
    "                resampler = torchaudio.transforms.Resample(orig_freq=sample_rate, new_freq=target_sr)\n",
    "                speech = resampler(speech)\n",
    "    \n",
    "            # Process the speech with the processor\n",
    "            input_values = processor(speech, sampling_rate=target_sr, return_tensors=\"pt\").input_values.to(device)\n",
    "    \n",
    "            if debug_printing == True:\n",
    "              print(input_values.shape)\n",
    "    \n",
    "            if input_values.dim() == 3:  # If the shape is [1, 1, audio_length]\n",
    "                input_values = input_values.squeeze(0)  # Squeeze to [1, audio_length]\n",
    "    \n",
    "            if debug_printing == True:\n",
    "              print(input_values.shape)\n",
    "    \n",
    "            # Perform inference\n",
    "            with torch.no_grad():\n",
    "                logits = model(input_values).logits\n",
    "    \n",
    "            if debug_printing == True:\n",
    "             print(\"Logits shape:\", logits.shape)\n",
    "    \n",
    "            # Get the predicted token IDs (greedy decoding)\n",
    "            predicted_ids = torch.argmax(logits, dim=-1)\n",
    "    \n",
    "            if debug_printing == True:\n",
    "              print(\"Predicted IDs shape:\", predicted_ids.shape)\n",
    "    \n",
    "            # Convert predicted IDs to numpy array\n",
    "            predicted_ids = predicted_ids.cpu().numpy()\n",
    "    \n",
    "            if debug_printing == True:\n",
    "              print(\"Predicted IDs (numpy):\", predicted_ids)\n",
    "    \n",
    "            # Decode the predicted IDs\n",
    "            transcription = processor.batch_decode(predicted_ids)[0]\n",
    "    \n",
    "            transcription = transcription.replace(\"<pad>\", \"\").strip() ## čak kad je i solo non-lm, opet stavlja <pad>\n",
    "    \n",
    "            if debug_printing == True:\n",
    "              print(\"Transcription NON:\", transcription)\n",
    "                \n",
    "    \n",
    "            return transcription\n",
    "    \n",
    "    \n",
    "    \n",
    "    def transcribe(input_file, output_folder, target_sr=target_sr, TIME_CHUNK=TIME_CHUNK):\n",
    "        # Load the audio\n",
    "        waveform, orig_sr = torchaudio.load(input_file)\n",
    "    \n",
    "        # Check if resampling is needed\n",
    "        if orig_sr != target_sr:\n",
    "            resampler = torchaudio.transforms.Resample(orig_freq=orig_sr, new_freq=target_sr)\n",
    "            waveform = resampler(waveform)\n",
    "    \n",
    "        # Determine the output file name and format (always WAV)\n",
    "        base_name = os.path.splitext(os.path.basename(input_file))[0]\n",
    "    \n",
    "        # Convert waveform to numpy array for easier processing\n",
    "        waveform_np = waveform.squeeze().numpy()\n",
    "    \n",
    "    \n",
    "    ################### RUN THE WHOLE AUDIO FILES ##########################\n",
    "        if testing_asr == True:\n",
    "                # Directly process the entire audio without chunking\n",
    "                #output_file = os.path.join(output_folder, f\"{base_name}_whole.wav\")\n",
    "                #torchaudio.save(output_file, waveform, sample_rate=target_sr)\n",
    "                tekst = process_transcribe(input_file, processor0, model0)\n",
    "                # print(f\"Transcription for {base_name}: {tekst}\")\n",
    "                print(tekst)\n",
    "                #os.remove(output_file)  # Optionally delete the temporary WAV file\n",
    "        \n",
    "    ######### ELSE CHUNKS BASED ON TIME_CHUNK INCREMENTS ##################\n",
    "        else:\n",
    "            # Function to detect silence points\n",
    "            def find_silence_points(signal, threshold, min_silence_length, sr):\n",
    "                silence_points = []\n",
    "                min_silence_samples = int(min_silence_length * sr)\n",
    "                is_silence = np.abs(signal) < threshold\n",
    "                silence_length = 0\n",
    "                for i in range(len(is_silence)):\n",
    "                    if is_silence[i]:\n",
    "                        silence_length += 1\n",
    "                        if silence_length >= min_silence_samples:\n",
    "                            silence_points.append(i)\n",
    "                    else:\n",
    "                        silence_length = 0\n",
    "                return silence_points\n",
    "    \n",
    "    \n",
    "            # Find silence points in the audio\n",
    "            silence_points = find_silence_points(waveform_np, SILENCE_THRESHOLD, MIN_SILENCE_LENGTH, target_sr)\n",
    "        \n",
    "            if debug_printing == True:\n",
    "        \n",
    "                print(f\"Plotting point where silence ({len(silence_points)} points) has been detected in {input_file}\")\n",
    "                # Plot the waveform and silence points\n",
    "                plt.figure(figsize=(15, 5))\n",
    "                plt.plot(waveform_np, label='Waveform')\n",
    "                plt.scatter(silence_points, waveform_np[silence_points], color='red', marker='x', label='Silence Points')\n",
    "                plt.xlabel('Samples')\n",
    "                plt.ylabel('Amplitude')\n",
    "                plt.title('Waveform with Silence Points')\n",
    "                plt.legend()\n",
    "                plt.show()\n",
    "        \n",
    "            # Split the audio at silence points\n",
    "            chunk_start = 0\n",
    "            for i, point in enumerate(silence_points):\n",
    "                chunk_end = point\n",
    "                if chunk_end - chunk_start >= TIME_CHUNK * target_sr:\n",
    "                    chunk = waveform[:, chunk_start:chunk_end]\n",
    "                    output_file = os.path.join(output_folder, f\"{base_name}_temp_chunk{i}.wav\")\n",
    "                    torchaudio.save(output_file, chunk, sample_rate=target_sr)\n",
    "        \n",
    "                    # Process the temporary WAV file\n",
    "                    tekst = process_transcribe(input_file, processor0, model0)\n",
    "    \n",
    "                    # Add time marker\n",
    "                    time = format_time(chunk_start / target_sr)\n",
    "                    print(f\"[{time}] {tekst}\")\n",
    "        \n",
    "                    # Delete the temporary WAV file after processing\n",
    "                    os.remove(output_file)\n",
    "        \n",
    "                    chunk_start = chunk_end\n",
    "                    \n",
    "            def format_time(seconds):\n",
    "                minutes = int(seconds // 60)\n",
    "                seconds = int(seconds % 60)\n",
    "                return f\"{minutes:02d}:{seconds:02d}\"\n",
    "        \n",
    "            # Process the remaining audio if any\n",
    "            if chunk_start < waveform.size(1):\n",
    "                chunk = waveform[:, chunk_start:]\n",
    "                output_file = os.path.join(output_folder, f\"{base_name}_temp_chunk{len(silence_points)}.wav\")\n",
    "                torchaudio.save(output_file, chunk, sample_rate=target_sr)\n",
    "                tekst = process_transcribe(input_file, processor0, model0)\n",
    "                time = format_time(chunk_start / target_sr)\n",
    "                print(f\"[{time}] {tekst}\")\n",
    "                os.remove(output_file)\n",
    "\n",
    "\n",
    "\n",
    "\n",
    "\n",
    "    #### L M #########\n",
    "    #\n",
    "    #### processor0lm, model0lm\n",
    "    def process_transcribe_lm(input_file, processor, model):\n",
    "    \n",
    "        if debug_printing:\n",
    "            print(f\"input_file type {type(input_file)}\")\n",
    "            print(f\"input_file {input_file}\")\n",
    "        # Load audio and perform ASR using wav2vec2 with LM\n",
    "        speech, sample_rate = torchaudio.load(input_file)\n",
    "        \n",
    "        # Check if resampling is needed\n",
    "        target_sr = 16000  # Example target sampling rate\n",
    "        if sample_rate != target_sr:\n",
    "            resampler = torchaudio.transforms.Resample(orig_freq=sample_rate, new_freq=target_sr)\n",
    "            speech = resampler(speech)\n",
    "        \n",
    "        # Process the speech with the processor\n",
    "        input_values = processor(speech, sampling_rate=target_sr, return_tensors=\"pt\").input_values.to(device)\n",
    "    \n",
    "        if debug_printing:\n",
    "            print(\"Input values shape:\", input_values.shape)\n",
    "    \n",
    "        # Ensure input_values has correct shape for model0lm\n",
    "        input_values = input_values.squeeze(0)  # Assuming batch_size=1\n",
    "    \n",
    "        if debug_printing:\n",
    "            print(\"Adjusted input values shape:\", input_values.shape)\n",
    "    \n",
    "        # Perform inference\n",
    "        with torch.no_grad():  # Inference mode\n",
    "            logits = model(input_values).logits\n",
    "    \n",
    "        if debug_printing:\n",
    "            print(\"Logits shape after processing:\", logits.shape)\n",
    "            #print(\"Logits max value:\", np.amax(logits, axis=1))\n",
    "    \n",
    "        # if debug_printing:\n",
    "        #     print(\"Logits shape:\", logits.shape)\n",
    "    \n",
    "        # Decode the predicted IDs\n",
    "        transcriptions = processor.batch_decode(logits.numpy()).text\n",
    "\n",
    "        if debug_printing == False:\n",
    "            clear_output()\n",
    "        \n",
    "        # Ensure transcription is returned as a string\n",
    "        transcription = transcriptions[0] if transcriptions else \"\"  # Assuming batch_size=1\n",
    "\n",
    "        if debug_printing:\n",
    "            print(\"Transcription LM:\", transcription)\n",
    "    \n",
    "        return transcription\n",
    "    \n",
    "    \n",
    "    \n",
    "    def transcribe_lm(input_file, output_folder, target_sr=target_sr, TIME_CHUNK=TIME_CHUNK):\n",
    "        # Load the audio\n",
    "        waveform, orig_sr = torchaudio.load(input_file)\n",
    "    \n",
    "        # Check if resampling is needed\n",
    "        if orig_sr != target_sr:\n",
    "            resampler = torchaudio.transforms.Resample(orig_freq=orig_sr, new_freq=target_sr)\n",
    "            waveform = resampler(waveform)\n",
    "    \n",
    "        # Determine the output file name and format (always WAV)\n",
    "        base_name = os.path.splitext(os.path.basename(input_file))[0]\n",
    "    \n",
    "        # Convert waveform to numpy array for easier processing\n",
    "        waveform_np = waveform.squeeze().numpy()\n",
    "    \n",
    "       \n",
    "        if testing_asr:\n",
    "    ################### RUN THE WHOLE AUDIO FILES ##########################\n",
    "            tekst = process_transcribe_lm(input_file, processor0lm, model0lm)\n",
    "           \n",
    "            if debug_printing == True:\n",
    "                print(f\"LM p_t_l Transcription for {base_name}: {tekst}\")\n",
    "        \n",
    "            #return tekst\n",
    "    \n",
    "        else:\n",
    "            # Function to detect silence points\n",
    "            def find_silence_points(signal, threshold, min_silence_length, sr):\n",
    "                silence_points = []\n",
    "                min_silence_samples = int(min_silence_length * sr)\n",
    "                is_silence = np.abs(signal) < threshold\n",
    "                silence_length = 0\n",
    "                for i in range(len(is_silence)):\n",
    "                    if is_silence[i]:\n",
    "                        silence_length += 1\n",
    "                        if silence_length >= min_silence_samples:\n",
    "                            silence_points.append(i)\n",
    "                    else:\n",
    "                        silence_length = 0\n",
    "                return silence_points\n",
    "    \n",
    "    \n",
    "            # Find silence points in the audio\n",
    "            silence_points = find_silence_points(waveform_np, SILENCE_THRESHOLD, MIN_SILENCE_LENGTH, target_sr)\n",
    "        \n",
    "            if debug_printing == True:\n",
    "        \n",
    "                print(f\"Plotting point where silence ({len(silence_points)} points) has been detected in {input_file}\")\n",
    "                # Plot the waveform and silence points\n",
    "                plt.figure(figsize=(15, 5))\n",
    "                plt.plot(waveform_np, label='Waveform')\n",
    "                plt.scatter(silence_points, waveform_np[silence_points], color='red', marker='x', label='Silence Points')\n",
    "                plt.xlabel('Samples')\n",
    "                plt.ylabel('Amplitude')\n",
    "                plt.title('Waveform with Silence Points')\n",
    "                plt.legend()\n",
    "                plt.show()\n",
    "        \n",
    "            # Split the audio at silence points\n",
    "            chunk_start = 0\n",
    "            for i, point in enumerate(silence_points):\n",
    "                chunk_end = point\n",
    "                if chunk_end - chunk_start >= TIME_CHUNK * target_sr:\n",
    "                    chunk = waveform[:, chunk_start:chunk_end]\n",
    "                    output_file = os.path.join(output_folder, f\"{base_name}_temp_chunk{i}.wav\")\n",
    "                    torchaudio.save(output_file, chunk, sample_rate=target_sr)\n",
    "        \n",
    "                    # Process the temporary WAV file\n",
    "    ####################################################################\n",
    "                    tekst = process_transcribe_lm(input_file, processor0lm, model0lm)\n",
    "                    time = format_time(chunk_start / target_sr)\n",
    "                    print(f\"[{time}] {tekst}\")\n",
    "        \n",
    "                    # Optionally, you can delete the temporary WAV file after processing\n",
    "                    os.remove(output_file)\n",
    "        \n",
    "                    chunk_start = chunk_end\n",
    "                    \n",
    "            def format_time(seconds):\n",
    "                minutes = int(seconds // 60)\n",
    "                seconds = int(seconds % 60)\n",
    "                return f\"{minutes:02d}:{seconds:02d}\"\n",
    "        \n",
    "            # Process the remaining audio if any\n",
    "            if chunk_start < waveform.size(1):\n",
    "                chunk = waveform[:, chunk_start:]\n",
    "                output_file = os.path.join(output_folder, f\"{base_name}_temp_chunk{len(silence_points)}.wav\")\n",
    "                torchaudio.save(output_file, chunk, sample_rate=target_sr)\n",
    "    ####################################################################\n",
    "                tekst = process_transcribe_lm(input_file, processor, model)\n",
    "                \n",
    "                time = format_time(chunk_start / target_sr)\n",
    "                print(f\"[{time}] {tekst}\")\n",
    "                os.remove(output_file)\n",
    "\n",
    "\n",
    "print(f\"Transcription function defined and active: \\nSplitting audio in: {TIME_CHUNK}s segments (dynamically). \\n\")\n"
   ]
  },
  {
   "cell_type": "markdown",
   "metadata": {
    "id": "x_ZwYCvBSBtG"
   },
   "source": [
    "## [6] Quick test to verify"
   ]
  },
  {
   "cell_type": "code",
   "execution_count": 99,
   "metadata": {
    "execution": {
     "iopub.execute_input": "2024-06-17T23:47:23.213581Z",
     "iopub.status.busy": "2024-06-17T23:47:23.213581Z",
     "iopub.status.idle": "2024-06-17T23:47:23.216244Z",
     "shell.execute_reply": "2024-06-17T23:47:23.216244Z",
     "shell.execute_reply.started": "2024-06-17T23:47:23.213581Z"
    }
   },
   "outputs": [],
   "source": [
    "debug_printing = False"
   ]
  },
  {
   "cell_type": "code",
   "execution_count": 23,
   "metadata": {
    "execution": {
     "iopub.execute_input": "2024-06-17T22:32:37.936749Z",
     "iopub.status.busy": "2024-06-17T22:32:37.936749Z",
     "iopub.status.idle": "2024-06-17T22:32:37.939989Z",
     "shell.execute_reply": "2024-06-17T22:32:37.939989Z",
     "shell.execute_reply.started": "2024-06-17T22:32:37.936749Z"
    }
   },
   "outputs": [],
   "source": [
    "path_to_pshr_wav2vec2_l = r\"D:\\ASR\\ParlaspeechHR\\wav2vec2-large-slavih-hr\\wav2vec2-large-slavic-parlaspeech-hr\"\n",
    "path_to_pshr_wav2vec2_l_lm = r\"D:\\ASR\\ParlaspeechHR\\wav2vec2-large-slavic-hr-lm\"\n",
    "\n",
    "#test_audio_path_pc = r\"D:\\ASR\\ParlaspeechHR\\wav2vec2-large-slavic-hr-lm\\nela_film_review.ogg\" # WORKS WELL\n",
    "test_audio_path_pc = r\"D:\\ASR\\ParlaspeechHR\\ivan_snimka.opus\""
   ]
  },
  {
   "cell_type": "code",
   "execution_count": 24,
   "metadata": {
    "colab": {
     "base_uri": "https://localhost:8080/"
    },
    "execution": {
     "iopub.execute_input": "2024-06-17T22:32:38.328837Z",
     "iopub.status.busy": "2024-06-17T22:32:38.328837Z",
     "iopub.status.idle": "2024-06-17T22:32:52.890447Z",
     "shell.execute_reply": "2024-06-17T22:32:52.889949Z",
     "shell.execute_reply.started": "2024-06-17T22:32:38.328837Z"
    },
    "executionInfo": {
     "elapsed": 27946,
     "status": "ok",
     "timestamp": 1718360448610,
     "user": {
      "displayName": "Ivan Porupski",
      "userId": "03127310887960034948"
     },
     "user_tz": -120
    },
    "id": "qovFsXvCNTEc",
    "outputId": "d50a5b1a-a99b-43aa-d938-6b758934dbd4"
   },
   "outputs": [
    {
     "name": "stdout",
     "output_type": "stream",
     "text": [
      "No chunking. Per file basis. (testing_asr = True)\n",
      "\n",
      "sada ti šaljem glasovnu poruku i ne znam šta pričam ali evo pričam znači ovo tu mi je trebalo jedno 30 sati da dođem do ovog trenutka pričem normlno razgovjetno i nadam se da će transkripcija biti dobra naime ja to nisam izmislio nego su to zapravo r slovensa uzeli od facboka model i strenirali ga na govoru iz parlamenta specifično za hrvatski jeziki\n",
      "\n",
      "\n",
      "\n"
     ]
    },
    {
     "name": "stderr",
     "output_type": "stream",
     "text": [
      "Parallel batch decoding is not currently supported in this platform. Falling back to sequential decoding.\n"
     ]
    },
    {
     "name": "stdout",
     "output_type": "stream",
     "text": [
      "Transcription: sada ti šaljem glasovnu poruku i ne znam šta pričamali evopričam znači ovo tu mi je trebalo jedno 30sati da dođem do ovog trenutka pričemnoralo razgovjetno i nadam se daće transkripcija biti dobra naime ja to nisam izmislio nego su tozapravo 3 slovensa uzeli od facboka model istreniraliga na govoru iz parlamenta specifično za hrvatski jeziku\n"
     ]
    }
   ],
   "source": [
    "if testing_asr == True:\n",
    "    print(f\"No chunking. Per file basis. (testing_asr = {testing_asr})\\n\")\n",
    "else:\n",
    "    print(f\"Chunking audio! Using silence points. (testing_asr = {testing_asr})\\n\")\n",
    "\n",
    "\n",
    "if google_colabbing == True:\n",
    "\n",
    "    test_audio_path = \"/content/drive/MyDrive/pytorch/wav2vec2-large-slavic-hr-lm/ivan_snimka.opus\"\n",
    "    test_audio_temp = \"/content/wav2vec2-large-slavic-parlaspeech-hr/temp\"\n",
    "    \n",
    "else:\n",
    "\n",
    "    if make_model == \"non\":\n",
    "        # ACOUSTIC MODEL\n",
    "        test_audio_path = test_audio_path_pc\n",
    "        test_audio_temp = path_to_pshr_wav2vec2_l + r\"\\temp\"\n",
    "        transcribe(test_audio_path, test_audio_temp, target_sr=target_sr, TIME_CHUNK=TIME_CHUNK)\n",
    "\n",
    "    if make_model == \"lm\":\n",
    "        # LM MODEL\n",
    "        test_audio_path = test_audio_path_pc\n",
    "        test_audio_temp_lm = path_to_pshr_wav2vec2_l_lm + r\"\\temp\"\n",
    "        transcribe_lm(test_audio_path, test_audio_temp_lm, target_sr=target_sr, TIME_CHUNK=TIME_CHUNK)\n",
    "\n",
    "    if make_model == \"both\":\n",
    "        # ACOUSTIC MODEL\n",
    "        test_audio_path = test_audio_path_pc\n",
    "        test_audio_temp = path_to_pshr_wav2vec2_l + r\"\\temp\"\n",
    "        transcribe(test_audio_path, test_audio_temp, target_sr=target_sr, TIME_CHUNK=TIME_CHUNK)\n",
    "        print(f\"\\n\\n\")\n",
    "        # LM MODEL\n",
    "        test_audio_temp_lm = path_to_pshr_wav2vec2_l_lm + r\"\\temp\"\n",
    "        transcribe_lm(test_audio_path, test_audio_temp_lm, target_sr=target_sr, TIME_CHUNK=TIME_CHUNK)\n"
   ]
  },
  {
   "cell_type": "code",
   "execution_count": 25,
   "metadata": {
    "execution": {
     "iopub.execute_input": "2024-06-17T22:32:56.700740Z",
     "iopub.status.busy": "2024-06-17T22:32:56.700740Z",
     "iopub.status.idle": "2024-06-17T22:32:56.709297Z",
     "shell.execute_reply": "2024-06-17T22:32:56.709297Z",
     "shell.execute_reply.started": "2024-06-17T22:32:56.700740Z"
    }
   },
   "outputs": [
    {
     "name": "stdout",
     "output_type": "stream",
     "text": [
      "Vocabulary size NON: 51, LM: 51\n"
     ]
    }
   ],
   "source": [
    "# Check the vocabulary size of the processor\n",
    "\n",
    "if make_model == \"non\":\n",
    "        # ACOUSTIC MODEL\n",
    "        vocab_size = len(processor0.tokenizer.get_vocab())\n",
    "        print(f\"Vocabulary size NON: {vocab_size}\")\n",
    "\n",
    "if make_model == \"lm\":\n",
    "        # LM MODEL\n",
    "        vocab_size_lm = len(processor0lm.tokenizer.get_vocab())\n",
    "        print(f\"Vocabulary size LM: {vocab_size_lm}\")\n",
    "\n",
    "if make_model == \"both\":\n",
    "        vocab_size = len(processor0.tokenizer.get_vocab())\n",
    "        vocab_size_lm = len(processor0lm.tokenizer.get_vocab())\n",
    "        \n",
    "        print(f\"Vocabulary size NON: {vocab_size}, LM: {vocab_size_lm}\")"
   ]
  },
  {
   "cell_type": "markdown",
   "metadata": {
    "id": "zENOebskRMRG"
   },
   "source": [
    "# MODEL IS NOW OPERATIONAL"
   ]
  },
  {
   "cell_type": "markdown",
   "metadata": {
    "id": "R8dG337mSHjb"
   },
   "source": [
    "## [7] Prepare to run ling analysis"
   ]
  },
  {
   "cell_type": "code",
   "execution_count": 26,
   "metadata": {
    "execution": {
     "iopub.execute_input": "2024-06-17T22:33:00.821646Z",
     "iopub.status.busy": "2024-06-17T22:33:00.821646Z",
     "iopub.status.idle": "2024-06-17T22:33:02.827216Z",
     "shell.execute_reply": "2024-06-17T22:33:02.826917Z",
     "shell.execute_reply.started": "2024-06-17T22:33:00.821646Z"
    },
    "id": "uXKBhHqgNS7M"
   },
   "outputs": [
    {
     "name": "stdout",
     "output_type": "stream",
     "text": [
      "Number of audio files in 'D:\\ParlaSpeech-HR.v1.0\\raw': 403925\n",
      "\n",
      "Number of entries in 'D:\\ParlaSpeech-HR.v1.0\\ParlaSpeech-HR.v1.0.jsonl': 403925\n",
      "\n",
      "CPU times: total: 703 ms\n",
      "Wall time: 2 s\n"
     ]
    }
   ],
   "source": [
    "%%time\n",
    "\n",
    "import os\n",
    "\n",
    "# Directory containing audio files\n",
    "path_to_pshr_raw_audio_data = r\"D:\\ParlaSpeech-HR.v1.0\\raw\"\n",
    "\n",
    "# List all files in the directory\n",
    "audio_files = os.listdir(path_to_pshr_raw_audio_data)\n",
    "\n",
    "# Count the number of audio files\n",
    "num_audio_files = len(audio_files)\n",
    "\n",
    "print(f\"Number of audio files in '{path_to_pshr_raw_audio_data}': {num_audio_files}\\n\")\n",
    "\n",
    "# JSONL file containing metadata\n",
    "path_to_pshr_raw_jsonl = r\"D:\\ParlaSpeech-HR.v1.0\\ParlaSpeech-HR.v1.0.jsonl\"\n",
    "\n",
    "# Counting lines in the JSONL file\n",
    "num_entries = 0\n",
    "with open(path_to_pshr_raw_jsonl, 'r', encoding='utf-8') as f:\n",
    "    for line in f:\n",
    "        num_entries += 1\n",
    "\n",
    "print(f\"Number of entries in '{path_to_pshr_raw_jsonl}': {num_entries}\\n\")\n"
   ]
  },
  {
   "cell_type": "code",
   "execution_count": 27,
   "metadata": {
    "execution": {
     "iopub.execute_input": "2024-06-17T22:33:02.828213Z",
     "iopub.status.busy": "2024-06-17T22:33:02.828213Z",
     "iopub.status.idle": "2024-06-17T22:33:02.832846Z",
     "shell.execute_reply": "2024-06-17T22:33:02.832846Z",
     "shell.execute_reply.started": "2024-06-17T22:33:02.828213Z"
    }
   },
   "outputs": [
    {
     "name": "stdout",
     "output_type": "stream",
     "text": [
      "audio_transcriptions: {'seg.-k1z8behXXg_14758.42-14778.39.flac': ['km', 'i', 'distribuira', 'ih', 'na', 'nekih', 'dvije', 'tisuće', 'šesto', 'priključaka', 'zahvaća', 'još', 'rubne', 'dijelove', 'nekih', 'drugih', 'lokalnih', 'jedinica', 'mogu', 'reć', 'da', 'ima', 'samo', 'osam', 'zaposlenih', 'ukupno', 'prihode', 'u', 'iznosu', 'od', 'četiriosam', 'milijuna', 'kuna', 'vrijednost', 'imovine', 'društva', 'četrdeset', 'pet', 'milijuna', 'kuna', 'evo', 'dvije', 'tisuće', 'četrnaest', 'do', 'dvije', 'tisuće', 'osamnaest', 'je', 'realizirano', 'je', 'ukupno'], 'seg.qNpeHxO0WzA_1967.6-1986.11.flac': ['primjeni', 'željezničkih', 'paketa', 'kojima', 'se', 'postupno', 'i', 'nezaustavljivo', 'stvara', 'jedinstveni', 'europski', 'željeznički', 'prostor', 'provedba', 'ovog', 'zakona', 'nema', 'financijski', 'utjecaj', 'na', 'državni', 'proračun', 'hvala', 'lijepo', 'zahvaljujem', 'ministru', 'imamo', 'sedam', 'replika', 'prvi', 'je', 'kolega', 'kirin', 'izvolite']}\n"
     ]
    }
   ],
   "source": [
    "import os\n",
    "import json\n",
    "\n",
    "# Paths to your data\n",
    "path_to_pshr_raw_audio_data = r\"D:\\ParlaSpeech-HR.v1.0\\raw\"\n",
    "path_to_pshr_raw_jsonl = r\"D:\\ParlaSpeech-HR.v1.0\\ParlaSpeech-HR.v1.0.jsonl\"\n",
    "\n",
    "# Limit number of transcriptions to print\n",
    "limit = 2\n",
    "count = 0\n",
    "\n",
    "# Read JSONL file\n",
    "audio_transcriptions = {}\n",
    "with open(path_to_pshr_raw_jsonl, 'r', encoding='utf-8') as jsonl_file:\n",
    "    for line in jsonl_file:\n",
    "        if count >= limit:\n",
    "            break\n",
    "        \n",
    "        data = json.loads(line.strip())\n",
    "        audio_filename = os.path.basename(data['path'])\n",
    "        audio_transcriptions[audio_filename] = data['norm_words']  # Use 'norm_words' or other transcription field\n",
    "        \n",
    "        count += 1\n",
    "        \n",
    "audio_transcriptions = dict(sorted(audio_transcriptions.items()))\n",
    "\n",
    "print(f\"audio_transcriptions: {audio_transcriptions}\")\n"
   ]
  },
  {
   "cell_type": "markdown",
   "metadata": {},
   "source": [
    "### Generiranje audio_transcriptions dict(sorted)"
   ]
  },
  {
   "cell_type": "code",
   "execution_count": 28,
   "metadata": {
    "execution": {
     "iopub.execute_input": "2024-06-17T22:33:03.312751Z",
     "iopub.status.busy": "2024-06-17T22:33:03.312751Z",
     "iopub.status.idle": "2024-06-17T22:33:15.266647Z",
     "shell.execute_reply": "2024-06-17T22:33:15.266647Z",
     "shell.execute_reply.started": "2024-06-17T22:33:03.312751Z"
    }
   },
   "outputs": [
    {
     "name": "stdout",
     "output_type": "stream",
     "text": [
      "FULL AUDIO_TRANSCRIPTIONS HERE\n",
      "CPU times: total: 11.9 s\n",
      "Wall time: 11.9 s\n"
     ]
    }
   ],
   "source": [
    "%%time\n",
    "\n",
    "print(f\"FULL AUDIO_TRANSCRIPTIONS HERE\")\n",
    "\n",
    "import os\n",
    "import json\n",
    "\n",
    "# Paths to your data\n",
    "path_to_pshr_raw_audio_data = r\"D:\\ParlaSpeech-HR.v1.0\\raw\"\n",
    "path_to_pshr_raw_jsonl = r\"D:\\ParlaSpeech-HR.v1.0\\ParlaSpeech-HR.v1.0.jsonl\"\n",
    "\n",
    "# Read JSONL file\n",
    "audio_transcriptions = {}\n",
    "with open(path_to_pshr_raw_jsonl, 'r', encoding='utf-8') as jsonl_file:\n",
    "    for line in jsonl_file:\n",
    "        data = json.loads(line.strip())\n",
    "        audio_filename = os.path.basename(data['path'])\n",
    "        audio_transcriptions[audio_filename] = data['norm_words']  # Use 'norm_words' or other transcription field\n",
    "\n",
    "audio_transcriptions = dict(sorted(audio_transcriptions.items()))\n",
    "\n"
   ]
  },
  {
   "cell_type": "code",
   "execution_count": 29,
   "metadata": {
    "execution": {
     "iopub.execute_input": "2024-06-17T22:33:15.266647Z",
     "iopub.status.busy": "2024-06-17T22:33:15.266647Z",
     "iopub.status.idle": "2024-06-17T22:33:15.423898Z",
     "shell.execute_reply": "2024-06-17T22:33:15.423317Z",
     "shell.execute_reply.started": "2024-06-17T22:33:15.266647Z"
    }
   },
   "outputs": [
    {
     "name": "stdout",
     "output_type": "stream",
     "text": [
      "Displaying first 3 audio names w/ transcription:\n",
      "\n",
      "debug_printing: False\n",
      "\n",
      "Correlating audio files with transcriptions:\n",
      "\n",
      "Audio File:\n",
      "seg.-EO06cT21uY_10038.21-10054.64.flac\n",
      "\n",
      "Transcription:\n",
      "lijepo kolegice i kolege nemojte se vi varda hihotat prije četirig ste izdali birače sad jedva čekam da vidim kako će vas nagradit jedva čekam hvala lijepo kolegice i kolega kolege zastupnici g potpredsjedniče\n",
      "------------------------------\n",
      "\n",
      "\n",
      "Audio File:\n",
      "seg.-EO06cT21uY_10111.7-10131.55.flac\n",
      "\n",
      "Transcription:\n",
      "hadeze želi pokušati dati obećanje za šest mjeseci da će neki građani dobiti osam stotina kuna i jedina svrha ovog zakona su je kampanja odnosno izbori i predizborna kampanja jer kako drugačije objasniti da niste dali kada\n",
      "------------------------------\n",
      "\n",
      "\n",
      "Audio File:\n",
      "seg.-EO06cT21uY_10131.55-10147.16.flac\n",
      "\n",
      "Transcription:\n",
      "ste imali rast tri posto a sada predlaže kao fol g aladrović i plenković se brinu za naše starije sugrađane i evo kad ćemo imati pad od deset posto izdvojili su osamsto kuna\n",
      "------------------------------\n",
      "\n",
      "\n",
      "CPU times: total: 141 ms\n",
      "Wall time: 145 ms\n"
     ]
    }
   ],
   "source": [
    "%%time\n",
    "\n",
    "# Print limited number of audio_transcriptions\n",
    "limit = 3\n",
    "count = 0\n",
    "\n",
    "print(f\"Displaying first {limit} audio names w/ transcription:\\n\")\n",
    "\n",
    "# List all files in the directory\n",
    "all_files = os.listdir(path_to_pshr_raw_audio_data)\n",
    "\n",
    "# Sort the files alphabetically or by any other criteria, if needed\n",
    "all_files.sort()\n",
    "\n",
    "# Select the first 10 files\n",
    "first_10_files = all_files[:10]\n",
    "\n",
    "print(f\"debug_printing: {debug_printing}\")\n",
    "\n",
    "if debug_printing == True:\n",
    "    # Debug prints\n",
    "    print(\"First 10 Files:\")\n",
    "    print(first_10_files)\n",
    "    print(\"\\nAudio Transcriptions:\")\n",
    "\n",
    "for filename, transcription in audio_transcriptions.items():\n",
    "    if count >= limit:\n",
    "        break\n",
    "    if debug_printing == True:\n",
    "        print(f\"{filename}: {transcription}\")\n",
    "    count += 1\n",
    "\n",
    "# Step 3: Correlate audio files with transcriptions (limiting to 'limit' iterations)\n",
    "print(\"\\nCorrelating audio files with transcriptions:\\n\")\n",
    "for i, audio_file in enumerate(first_10_files[:limit]):\n",
    "    if audio_file in audio_transcriptions:\n",
    "        transcription = ' '.join(audio_transcriptions[audio_file])\n",
    "        print(f\"Audio File:\\n{audio_file}\\n\\nTranscription:\\n{transcription}\")\n",
    "    else:\n",
    "        print(f\"No transcription found for {audio_file}\")\n",
    "    \n",
    "    # Add a separator between iterations for clarity, except after the last item\n",
    "    if i < (limit):\n",
    "        print(\"-\" * 30)\n",
    "        print(\"\\n\")\n"
   ]
  },
  {
   "cell_type": "markdown",
   "metadata": {},
   "source": [
    "# TESTING TRANSCRIPTIONS now"
   ]
  },
  {
   "cell_type": "markdown",
   "metadata": {},
   "source": [
    "## * def tokenize_text, normalize_numbers"
   ]
  },
  {
   "cell_type": "code",
   "execution_count": 31,
   "metadata": {
    "execution": {
     "iopub.execute_input": "2024-06-17T22:33:15.900223Z",
     "iopub.status.busy": "2024-06-17T22:33:15.900223Z",
     "iopub.status.idle": "2024-06-17T22:33:15.907837Z",
     "shell.execute_reply": "2024-06-17T22:33:15.907837Z",
     "shell.execute_reply.started": "2024-06-17T22:33:15.900223Z"
    }
   },
   "outputs": [
    {
     "name": "stdout",
     "output_type": "stream",
     "text": [
      "Functions def tokenize_text and def normalize_numbers online.\n"
     ]
    }
   ],
   "source": [
    "## NEW\n",
    "\n",
    "import os\n",
    "from jiwer import wer\n",
    "from fuzzywuzzy import fuzz\n",
    "\n",
    "similarity_threshold = 80  # Example threshold, can be adjusted based on requirements\n",
    "max_search_distance = 5  # Maximum number of tokens to search ahead for a match\n",
    "\n",
    "# Function to tokenize text by removing dots and commas, then splitting into tokens\n",
    "def tokenize_text(text):\n",
    "    # Remove dots and commas\n",
    "    if debug_printing == True:\n",
    "        print(f\"Type of text: {type(text)}\")\n",
    "    \n",
    "    text = text.replace('.', '').replace(',', '')\n",
    "    # Convert to lowercase and split into tokens\n",
    "    tokens = text.lower().split()\n",
    "    return tokens\n",
    "\n",
    "# Function to normalize numbers within tokens\n",
    "def normalize_numbers(tokens, norm_nums):\n",
    "    def decompose_number(num):\n",
    "        components = []\n",
    "        if num >= 1000:\n",
    "            thousands = num // 1000 * 1000\n",
    "            components.append(thousands)\n",
    "            num %= 1000\n",
    "        if num >= 100:\n",
    "            hundreds = num // 100 * 100\n",
    "            components.append(hundreds)\n",
    "            num %= 100\n",
    "        if num >= 20:\n",
    "            tens = num // 10 * 10\n",
    "            components.append(tens)\n",
    "            num %= 10\n",
    "        if num > 0:\n",
    "            components.append(num)\n",
    "        return components\n",
    "\n",
    "    normalized_tokens = []\n",
    "    for token in tokens:\n",
    "        if token.isdigit():\n",
    "            num = int(token)\n",
    "            components = decompose_number(num)\n",
    "            for component in components:\n",
    "                if component in norm_nums:\n",
    "                    normalized_tokens.append(norm_nums[component])\n",
    "        elif token.lower() in norm_nums:\n",
    "            normalized_tokens.append(norm_nums[token.lower()])\n",
    "        else:\n",
    "            normalized_tokens.append(token)\n",
    "    \n",
    "    # Flatten the list in case there are combined tokens like \"dvije tisuće\"\n",
    "    flattened_tokens = []\n",
    "    for token in normalized_tokens:\n",
    "        if ' ' in token:\n",
    "            flattened_tokens.extend(token.split())\n",
    "        else:\n",
    "            flattened_tokens.append(token)\n",
    "    \n",
    "    return flattened_tokens\n",
    "    \n",
    "\n",
    "print(f\"Functions def tokenize_text and def normalize_numbers online.\")"
   ]
  },
  {
   "cell_type": "markdown",
   "metadata": {},
   "source": [
    "## def align_tokens"
   ]
  },
  {
   "cell_type": "code",
   "execution_count": 32,
   "metadata": {
    "execution": {
     "iopub.execute_input": "2024-06-17T22:33:15.909826Z",
     "iopub.status.busy": "2024-06-17T22:33:15.909826Z",
     "iopub.status.idle": "2024-06-17T22:33:15.916941Z",
     "shell.execute_reply": "2024-06-17T22:33:15.916941Z",
     "shell.execute_reply.started": "2024-06-17T22:33:15.909826Z"
    }
   },
   "outputs": [
    {
     "name": "stdout",
     "output_type": "stream",
     "text": [
      "Function def align_tokens online.\n"
     ]
    }
   ],
   "source": [
    "from fuzzywuzzy import fuzz\n",
    "\n",
    "def align_tokens(original_tokens, asr_tokens, similarity_threshold, substitution_threshold=60, max_search_distance=5, debug_printing=False):\n",
    "    aligned_asr_tokens = []\n",
    "    asr_index = 0\n",
    "    matched_indices = set()  # To track indices in asr_tokens that have been matched\n",
    "    asr_substitutions = 0  # Count of substitutions\n",
    "    \n",
    "    for original_token_index, original_token in enumerate(original_tokens):\n",
    "        found_match = False\n",
    "        search_end = min(asr_index + max_search_distance, len(asr_tokens))\n",
    "        \n",
    "        for i in range(asr_index, search_end):\n",
    "            if i in matched_indices:\n",
    "                continue  # Skip already matched tokens\n",
    "            \n",
    "            asr_token = asr_tokens[i]\n",
    "            similarity = fuzz.ratio(original_token, asr_token)\n",
    "            \n",
    "            if debug_printing:\n",
    "                print(f\"Comparing original token '{original_token}' with ASR token '{asr_token}': Similarity = {similarity}\")\n",
    "                \n",
    "            if similarity >= similarity_threshold:\n",
    "                # Found a match, so align both original and ASR tokens\n",
    "                aligned_asr_tokens.append(asr_token)\n",
    "                asr_index = i + 1  # Move the ASR index forward\n",
    "                found_match = True\n",
    "                matched_indices.add(i)\n",
    "                \n",
    "                if debug_printing:\n",
    "                    print(f\"Match found for '{original_token}' with '{asr_token}'\")\n",
    "                    \n",
    "                break\n",
    "            elif similarity >= substitution_threshold:\n",
    "                # If the similarity is high enough but not a perfect match, count as substitution\n",
    "                aligned_asr_tokens.append(asr_token)\n",
    "                asr_index = i + 1  # Move the ASR index forward\n",
    "                asr_substitutions += 1\n",
    "                found_match = True\n",
    "                matched_indices.add(i)\n",
    "                \n",
    "                if debug_printing:\n",
    "                    print(f\"Substitution found for '{original_token}' with '{asr_token}'\")\n",
    "                    \n",
    "                break\n",
    "        \n",
    "        if not found_match:\n",
    "            # No match found within the search distance, consider it a deletion\n",
    "            aligned_asr_tokens.append(None)  # Mark deletion with None\n",
    "            \n",
    "            if debug_printing:\n",
    "                print(f\"No match found for '{original_token}', handling as deletion...\")\n",
    "    \n",
    "    # Calculate additions (tokens in asr_tokens not matched with any original token)\n",
    "    asr_addition = len([token for i, token in enumerate(asr_tokens) if i not in matched_indices])\n",
    "    \n",
    "    if debug_printing:\n",
    "        print(f\"Aligned ASR tokens: {aligned_asr_tokens}\\n\")\n",
    "        \n",
    "    return aligned_asr_tokens, asr_addition, asr_substitutions\n",
    "\n",
    "print(f\"Function def align_tokens online.\")"
   ]
  },
  {
   "cell_type": "markdown",
   "metadata": {},
   "source": [
    "## Definiranje znamenki (robustnost)"
   ]
  },
  {
   "cell_type": "code",
   "execution_count": 33,
   "metadata": {
    "execution": {
     "iopub.execute_input": "2024-06-17T22:33:15.916941Z",
     "iopub.status.busy": "2024-06-17T22:33:15.916941Z",
     "iopub.status.idle": "2024-06-17T22:33:15.934848Z",
     "shell.execute_reply": "2024-06-17T22:33:15.932345Z",
     "shell.execute_reply.started": "2024-06-17T22:33:15.916941Z"
    }
   },
   "outputs": [],
   "source": [
    "# Define the mappings for numbers in Croatian\n",
    "norm_nums = {\n",
    "    1: 'jedan',\n",
    "    2: 'dva',\n",
    "    3: 'tri',\n",
    "    4: 'četiri',\n",
    "    5: 'pet',\n",
    "    6: 'šest',\n",
    "    7: 'sedam',\n",
    "    8: 'osam',\n",
    "    9: 'devet',\n",
    "    10: 'deset',\n",
    "    11: 'jedanaest',\n",
    "    12: 'dvanaest',\n",
    "    13: 'trinaest',\n",
    "    14: 'četrnaest',\n",
    "    15: 'petnaest',\n",
    "    16: 'šesnaest',\n",
    "    17: 'sedamnaest',\n",
    "    18: 'osamnaest',\n",
    "    19: 'devetnaest',\n",
    "    20: 'dvadeset',\n",
    "    30: 'trideset',\n",
    "    40: 'četrdeset',\n",
    "    50: 'pedeset',\n",
    "    60: 'šezdeset',\n",
    "    70: 'sedamdeset',\n",
    "    80: 'osamdeset',\n",
    "    90: 'devedeset',\n",
    "    100: 'sto',\n",
    "    200: 'dvjesto',\n",
    "    300: 'tristo',\n",
    "    400: 'četiristo',\n",
    "    500: 'petsto',\n",
    "    600: 'šesto',\n",
    "    700: 'sedamsto',\n",
    "    800: 'osamsto',\n",
    "    900: 'devetsto',\n",
    "    1000: 'tisuća',\n",
    "    2000: 'dvije tisuće',  # Two thousand\n",
    "    3000: 'tri tisuće',    # Three thousand\n",
    "    4000: 'četiri tisuće', # Four thousand\n",
    "    5000: 'pet tisuća',    # Five thousand\n",
    "    6000: 'šest tisuća',   # Six thousand\n",
    "    7000: 'sedam tisuća',  # Seven thousand\n",
    "    8000: 'osam tisuća',   # Eight thousand\n",
    "    9000: 'devet tisuća',  # Nine thousand\n",
    "}\n",
    "\n",
    "# Create the reverse mapping for Croatian numbers\n",
    "norm_nums_reverse = {value: key for key, value in norm_nums.items()}\n"
   ]
  },
  {
   "cell_type": "code",
   "execution_count": 35,
   "metadata": {
    "execution": {
     "iopub.execute_input": "2024-06-17T22:33:17.041922Z",
     "iopub.status.busy": "2024-06-17T22:33:17.041922Z",
     "iopub.status.idle": "2024-06-17T22:33:17.045912Z",
     "shell.execute_reply": "2024-06-17T22:33:17.045912Z",
     "shell.execute_reply.started": "2024-06-17T22:33:17.041922Z"
    }
   },
   "outputs": [
    {
     "name": "stdout",
     "output_type": "stream",
     "text": [
      "Tokens: ['ovo', 'je', '2012', 'godina', 'zar', 'ne']\n",
      "Normalized Tokens: ['ovo', 'je', 'dvije', 'tisuće', 'dvanaest', 'godina', 'zar', 'ne']\n"
     ]
    }
   ],
   "source": [
    "# Example usage\n",
    "tekst = \"Ovo je 2012. godina, zar ne\"\n",
    "\n",
    "asr_tokens = tokenize_text(tekst)\n",
    "print(\"Tokens:\", asr_tokens)\n",
    "\n",
    "normalized_tokens = normalize_numbers(asr_tokens, norm_nums)\n",
    "normalized_tokens = normalized_tokens\n",
    "print(\"Normalized Tokens:\", normalized_tokens)\n",
    "\n",
    "# Expected output\n",
    "# Tokens: ['ovo', 'je', '2012', 'godina', 'zar', 'ne']\n",
    "# Normalized Tokens: ['ovo', 'je', 'dvije', 'tisuće', 'dvanaest', 'godina', 'zar', 'ne']"
   ]
  },
  {
   "cell_type": "markdown",
   "metadata": {},
   "source": [
    "## Setting up CER calcs"
   ]
  },
  {
   "cell_type": "code",
   "execution_count": 50,
   "metadata": {
    "execution": {
     "iopub.execute_input": "2024-06-17T22:43:36.697166Z",
     "iopub.status.busy": "2024-06-17T22:43:36.697166Z",
     "iopub.status.idle": "2024-06-17T22:43:36.706147Z",
     "shell.execute_reply": "2024-06-17T22:43:36.706147Z",
     "shell.execute_reply.started": "2024-06-17T22:43:36.697166Z"
    }
   },
   "outputs": [
    {
     "name": "stdout",
     "output_type": "stream",
     "text": [
      "CER: 0.25\n",
      "Substitutions: 2\n",
      "Insertions: 1\n",
      "Deletions: 1\n"
     ]
    }
   ],
   "source": [
    "def calculate_cer(original_tokens, aligned_asr_tokens):\n",
    "    substitutions = 0\n",
    "    insertions = 0\n",
    "    deletions = 0\n",
    "    total_characters = sum(len(token) for token in original_tokens)\n",
    "    \n",
    "    for orig_token, asr_token in zip(original_tokens, aligned_asr_tokens):\n",
    "        if asr_token is None:\n",
    "            # Count each character in the original token as a deletion\n",
    "            deletions += len(orig_token)\n",
    "        else:\n",
    "            # Calculate the character-level Levenshtein distance\n",
    "            orig_chars = list(orig_token)\n",
    "            asr_chars = list(asr_token)\n",
    "            len_orig = len(orig_chars)\n",
    "            len_asr = len(asr_chars)\n",
    "            \n",
    "            # Initialize the distance matrix\n",
    "            d = [[0] * (len_asr + 1) for _ in range(len_orig + 1)]\n",
    "            \n",
    "            for i in range(len_orig + 1):\n",
    "                d[i][0] = i\n",
    "            for j in range(len_asr + 1):\n",
    "                d[0][j] = j\n",
    "            \n",
    "            for i in range(1, len_orig + 1):\n",
    "                for j in range(1, len_asr + 1):\n",
    "                    if orig_chars[i - 1] == asr_chars[j - 1]:\n",
    "                        cost = 0\n",
    "                    else:\n",
    "                        cost = 1\n",
    "                    d[i][j] = min(\n",
    "                        d[i - 1][j] + 1,    # Deletion\n",
    "                        d[i][j - 1] + 1,    # Insertion\n",
    "                        d[i - 1][j - 1] + cost  # Substitution\n",
    "                    )\n",
    "            \n",
    "            # The Levenshtein distance is the number of edits required\n",
    "            levenshtein_distance = d[len_orig][len_asr]\n",
    "            \n",
    "            # Calculate the number of deletions, insertions, and substitutions\n",
    "            # from the distance matrix\n",
    "            i = len_orig\n",
    "            j = len_asr\n",
    "            while i > 0 and j > 0:\n",
    "                if orig_chars[i - 1] == asr_chars[j - 1]:\n",
    "                    i -= 1\n",
    "                    j -= 1\n",
    "                elif d[i][j] == d[i - 1][j - 1] + 1:\n",
    "                    substitutions += 1\n",
    "                    i -= 1\n",
    "                    j -= 1\n",
    "                elif d[i][j] == d[i - 1][j] + 1:\n",
    "                    deletions += 1\n",
    "                    i -= 1\n",
    "                elif d[i][j] == d[i][j - 1] + 1:\n",
    "                    insertions += 1\n",
    "                    j -= 1\n",
    "            \n",
    "            # Remaining deletions and insertions\n",
    "            while i > 0:\n",
    "                deletions += 1\n",
    "                i -= 1\n",
    "            while j > 0:\n",
    "                insertions += 1\n",
    "                j -= 1\n",
    "    \n",
    "    cer = (substitutions + insertions + deletions) / total_characters\n",
    "    return cer, substitutions, insertions, deletions\n",
    "\n",
    "# Example usage\n",
    "original_tokens = ['ministar', 'ne', 'možete']\n",
    "aligned_asr_tokens = ['ministaro', 'en', 'možet']\n",
    "\n",
    "cer, substitutions, insertions, deletions = calculate_cer(original_tokens, aligned_asr_tokens)\n",
    "print(f\"CER: {cer}\")\n",
    "print(f\"Substitutions: {substitutions}\")\n",
    "print(f\"Insertions: {insertions}\")\n",
    "print(f\"Deletions: {deletions}\")\n"
   ]
  },
  {
   "cell_type": "markdown",
   "metadata": {},
   "source": [
    "## Run WER and CER matching"
   ]
  },
  {
   "cell_type": "code",
   "execution_count": 116,
   "metadata": {
    "execution": {
     "iopub.execute_input": "2024-06-18T00:39:06.675796Z",
     "iopub.status.busy": "2024-06-18T00:39:06.675796Z",
     "iopub.status.idle": "2024-06-18T00:39:06.685385Z",
     "shell.execute_reply": "2024-06-18T00:39:06.685385Z",
     "shell.execute_reply.started": "2024-06-18T00:39:06.675796Z"
    }
   },
   "outputs": [
    {
     "name": "stdout",
     "output_type": "stream",
     "text": [
      "Loading WER_results for CURRENT VERSION...\n",
      "Loaded WER_results from: D:\\ASR\\ParlaspeechHR\\WER_results_v3.7.json\n"
     ]
    }
   ],
   "source": [
    "debug_printing = False\n",
    "WER_results = []\n",
    "\n",
    "import os\n",
    "import json\n",
    "\n",
    "\n",
    "dict_file_path = path_to_pshr_models\n",
    "wer_plot_save_path = path_to_pshr_models\n",
    "cer_plot_save_path = path_to_pshr_models\n",
    "\n",
    "dict_main_name = f\"WER_results_{work_version}.json\"\n",
    "\n",
    "old_default_version = \"v3.7\"\n",
    "old_dict_main_name = f\"WER_results_{old_default_version}.json\"\n",
    "\n",
    "\n",
    "dict_file_path_full = os.path.join(dict_file_path, dict_main_name)\n",
    "old_dict_file_path_full = os.path.join(dict_file_path, old_dict_main_name)\n",
    "\n",
    "# Check if the file for the current work version exists\n",
    "if os.path.exists(dict_file_path_full):\n",
    "    print(f\"Loading WER_results for CURRENT VERSION...\")\n",
    "    # Load existing data from JSON file for current version\n",
    "    with open(dict_file_path_full, \"r\") as f:\n",
    "        WER_results = json.load(f)\n",
    "    print(f\"Loaded WER_results from: {dict_file_path_full}\")\n",
    "    wer_plot_from_version = dict_main_name\n",
    "    cer_plot_from_version = dict_main_name\n",
    "    \n",
    "\n",
    "# Check if the file for the old default version exists\n",
    "elif os.path.exists(old_dict_file_path_full):\n",
    "    print(f\"Loading WER_results for OLD DEFAULT VERSION...\")\n",
    "    # Load existing data from JSON file for old default version\n",
    "    with open(old_dict_file_path_full, \"r\") as f:\n",
    "        WER_results = json.load(f)\n",
    "    print(f\"Loaded WER_results from: {old_dict_file_path_full}\")\n",
    "    wer_plot_from_version = old_dict_main_name\n",
    "    cer_plot_from_version = old_dict_main_name\n",
    "\n",
    "# Neither file exists, initialize WER_results as an empty list\n",
    "else:\n",
    "    WER_results = []\n",
    "    print(f\"No WER_results Dict found for either current or old default version.\\nMaking a new empty one...\")\n",
    "\n"
   ]
  },
  {
   "cell_type": "code",
   "execution_count": 117,
   "metadata": {
    "execution": {
     "iopub.execute_input": "2024-06-18T00:39:08.396763Z",
     "iopub.status.busy": "2024-06-18T00:39:08.395768Z",
     "iopub.status.idle": "2024-06-18T00:39:08.398751Z",
     "shell.execute_reply": "2024-06-18T00:39:08.398751Z",
     "shell.execute_reply.started": "2024-06-18T00:39:08.396763Z"
    }
   },
   "outputs": [],
   "source": [
    "debug_printing=False"
   ]
  },
  {
   "cell_type": "code",
   "execution_count": 118,
   "metadata": {
    "execution": {
     "iopub.execute_input": "2024-06-18T00:39:08.701568Z",
     "iopub.status.busy": "2024-06-18T00:39:08.700563Z",
     "iopub.status.idle": "2024-06-18T00:39:08.704634Z",
     "shell.execute_reply": "2024-06-18T00:39:08.704549Z",
     "shell.execute_reply.started": "2024-06-18T00:39:08.701568Z"
    }
   },
   "outputs": [
    {
     "name": "stdout",
     "output_type": "stream",
     "text": [
      "both\n"
     ]
    }
   ],
   "source": [
    "print(make_model)"
   ]
  },
  {
   "cell_type": "code",
   "execution_count": 119,
   "metadata": {
    "execution": {
     "iopub.execute_input": "2024-06-18T00:39:19.629947Z",
     "iopub.status.busy": "2024-06-18T00:39:19.629947Z",
     "iopub.status.idle": "2024-06-18T00:50:11.547595Z",
     "shell.execute_reply": "2024-06-18T00:50:11.547595Z",
     "shell.execute_reply.started": "2024-06-18T00:39:19.629947Z"
    }
   },
   "outputs": [
    {
     "name": "stderr",
     "output_type": "stream",
     "text": [
      "Run 10: 100%|██████████████████████████████████████████████████████████████████████████| 10/10 [01:05<00:00,  6.51s/it]"
     ]
    },
    {
     "name": "stdout",
     "output_type": "stream",
     "text": [
      "\n",
      "Saved dict to: D:\\ASR\\ParlaspeechHR\\  \n",
      "\n",
      "Filename: WER_results_v3.7.json\n",
      "\n",
      "Number of runs: 10\n",
      "Total number of audio processed: 100\n",
      "\n",
      "Number of WER_results: 700\n",
      "\n",
      "CPU times: total: 1h 40min 38s\n",
      "Wall time: 10min 51s\n"
     ]
    },
    {
     "name": "stderr",
     "output_type": "stream",
     "text": [
      "\n"
     ]
    }
   ],
   "source": [
    "%%time\n",
    "\n",
    "# treba 4s po jednom audio fileu\n",
    "\n",
    "import random\n",
    "from tqdm import tqdm\n",
    "import json\n",
    "\n",
    "\n",
    "# Variables to accumulate metrics\n",
    "num_runs = 10  # Number of runs to average over (SAVES DICT EACH RUN)\n",
    "max_files_to_process = 10  # Number of files to process per run (10 files x 2 models) = 1 min) # about 10min = 100 entries, 1h = 600 entries\n",
    "\n",
    "\n",
    "\n",
    "transcription_list = list(audio_transcriptions.items())\n",
    "\n",
    "# Iterate over each run\n",
    "for run in range(num_runs):\n",
    "    total_asr_deletions = 0\n",
    "    total_asr_additions = 0\n",
    "    total_asr_substitutions = 0  # Total substitutions across all files\n",
    "    total_tokens = 0\n",
    "    total_asr_deletions_lm = 0\n",
    "    total_asr_additions_lm = 0\n",
    "    total_asr_substitutions_lm = 0\n",
    "\n",
    "    total_cer_deletions = 0\n",
    "    total_cer_additions = 0\n",
    "    total_cer_substitutions = 0\n",
    "    total_cer_deletions_lm = 0\n",
    "    total_cer_additions_lm = 0\n",
    "    total_cer_substitutions_lm = 0\n",
    "\n",
    "    \n",
    "    n = 0  # Number of files processed\n",
    "\n",
    "    \n",
    "    # Shuffle the transcription list for each run if needed\n",
    "    if shuffle_transcript == True:\n",
    "        random.shuffle(transcription_list)\n",
    "\n",
    "\n",
    "    \n",
    "    # Use tqdm to show progress for processing each file in the run\n",
    "    with tqdm(total=max_files_to_process, desc=f\"Run {run+1}\") as pbar:\n",
    "        # Process up to max_files_to_process files for this run\n",
    "        run_results = []\n",
    "        for file_idx in range(min(max_files_to_process, len(transcription_list))):  # Ensure we don't exceed the list length\n",
    "            input_file, transcription = transcription_list[file_idx]\n",
    "\n",
    "            # Get original transcription from dictionary\n",
    "            original_transcription = ' '.join(audio_transcriptions[input_file])\n",
    "            \n",
    "            # Tokenize both transcriptions\n",
    "            original_tokens = tokenize_text(original_transcription)\n",
    "\n",
    "            cer_total_tokens = sum(len(token) for token in original_tokens)\n",
    "\n",
    "            total_tokens = len(original_tokens)\n",
    "\n",
    "            \n",
    "            if make_model == \"non\":\n",
    "                asr_deletion_lm = None\n",
    "                asr_addition_lm = None\n",
    "                asr_substitutions_lm = None\n",
    "                cer_deletion_lm = None\n",
    "                cer_addition_lm = None\n",
    "                cer_substitutions_lm = None\n",
    "                \n",
    "                tekst = process_transcribe(os.path.join(path_to_pshr_raw_audio_data, input_file), processor0, model0)\n",
    "                \n",
    "                asr_tokens = tokenize_text(tekst)\n",
    "            \n",
    "                # Normalize numbers in ASR tokens\n",
    "                normalized_asr_tokens = normalize_numbers(asr_tokens, norm_nums)\n",
    "                if debug_printing:\n",
    "                    print(\"doing the big align\")\n",
    "                \n",
    "                # Correct unpacking if align_tokens returns aligned_asr_tokens and asr_addition\n",
    "                aligned_asr_tokens, asr_addition, asr_substitutions = align_tokens(original_tokens, normalized_asr_tokens, similarity_threshold=similarity_threshold)\n",
    "    \n",
    "                if debug_printing:\n",
    "                    print(\"counting delets\")\n",
    "                    \n",
    "                asr_deletion = aligned_asr_tokens.count(None)\n",
    "            \n",
    "                if debug_printing:\n",
    "                    print(\"doing subs\")\n",
    "                \n",
    "                total_asr_substitutions += asr_substitutions\n",
    "\n",
    "                if debug_printing:\n",
    "                    print(\"subs don\")\n",
    "\n",
    "                # Accumulate metrics\n",
    "                total_asr_deletions += asr_deletion\n",
    "                total_asr_additions += asr_addition\n",
    "\n",
    "            ###### ADING CER \n",
    "                cer, cer_substitutions, cer_addition, cer_deletion = calculate_cer(original_tokens, aligned_asr_tokens)\n",
    "\n",
    "\n",
    "            \n",
    "        ####### DOING THE SAME FOR LM MODEL NOW ################\n",
    "            \n",
    "            if make_model == \"lm\":\n",
    "                asr_deletion = None\n",
    "                asr_addition = None\n",
    "                asr_substitutions = None\n",
    "                cer_deletion = None\n",
    "                cer_addition = None\n",
    "                cer_substitutions = None\n",
    "                \n",
    "                tekst_lm = process_transcribe_lm(os.path.join(path_to_pshr_raw_audio_data, input_file), processor0lm, model0lm)\n",
    "    \n",
    "                \n",
    "                asr_tokens_lm = tokenize_text(tekst_lm)\n",
    "            \n",
    "                # Normalize numbers in ASR tokens\n",
    "                normalized_asr_tokens_lm = normalize_numbers(asr_tokens_lm, norm_nums)\n",
    "            \n",
    "                # Align ASR tokens with original tokens based on character similarity\n",
    "                aligned_asr_tokens_lm, asr_addition_lm, asr_substitutions_lm = align_tokens(original_tokens, normalized_asr_tokens_lm, similarity_threshold=similarity_threshold)\n",
    "    \n",
    "                asr_deletion_lm = aligned_asr_tokens_lm.count(None)\n",
    "\n",
    "                total_asr_substitutions_lm += asr_substitutions_lm\n",
    "            \n",
    "                # Accumulate metrics\n",
    "                total_asr_deletions_lm += asr_deletion_lm\n",
    "                total_asr_additions_lm += asr_addition_lm\n",
    "                \n",
    "                \n",
    "                cer_lm, cer_substitutions_lm, cer_addition_lm, cer_deletion_lm = calculate_cer(original_tokens, aligned_asr_tokens_lm)\n",
    "                \n",
    "                \n",
    "\n",
    "\n",
    "            if make_model == \"both\":\n",
    "                \n",
    "                tekst = process_transcribe(os.path.join(path_to_pshr_raw_audio_data, input_file), processor0, model0)\n",
    "                \n",
    "                asr_tokens = tokenize_text(tekst)\n",
    "            \n",
    "                # Normalize numbers in ASR tokens\n",
    "                normalized_asr_tokens = normalize_numbers(asr_tokens, norm_nums)\n",
    "                if debug_printing:\n",
    "                    print(\"doing the big align\")\n",
    "                \n",
    "                # Correct unpacking if align_tokens returns aligned_asr_tokens and asr_addition\n",
    "                aligned_asr_tokens, asr_addition, asr_substitutions = align_tokens(original_tokens, normalized_asr_tokens, similarity_threshold=similarity_threshold)\n",
    "    \n",
    "   \n",
    "                    \n",
    "                asr_deletion = aligned_asr_tokens.count(None)\n",
    "            \n",
    "\n",
    "                # Accumulate metrics\n",
    "                total_asr_deletions += asr_deletion\n",
    "                total_asr_additions += asr_addition\n",
    "                total_asr_substitutions += asr_substitutions\n",
    "\n",
    "                cer, cer_substitutions, cer_addition, cer_deletion = calculate_cer(original_tokens, aligned_asr_tokens)\n",
    "\n",
    "                total_cer_deletions += cer_deletion\n",
    "                total_cer_additions += cer_addition\n",
    "                total_cer_substitutions += cer_substitutions\n",
    "\n",
    "\n",
    "\n",
    "                \n",
    "\n",
    "                ### LM PART\n",
    "                tekst_lm = process_transcribe_lm(os.path.join(path_to_pshr_raw_audio_data, input_file), processor0lm, model0lm)\n",
    "                \n",
    "                \n",
    "                asr_tokens_lm = tokenize_text(tekst_lm)\n",
    "            \n",
    "                # Normalize numbers in ASR tokens\n",
    "                normalized_asr_tokens_lm = normalize_numbers(asr_tokens_lm, norm_nums)\n",
    "            \n",
    "                # Align ASR tokens with original tokens based on character similarity\n",
    "                aligned_asr_tokens_lm, asr_addition_lm, asr_substitutions_lm = align_tokens(original_tokens, normalized_asr_tokens_lm, similarity_threshold=similarity_threshold)\n",
    "    \n",
    "                asr_deletion_lm = aligned_asr_tokens_lm.count(None)\n",
    "\n",
    "                \n",
    "            \n",
    "                # Accumulate metrics\n",
    "                total_asr_deletions_lm += asr_deletion_lm\n",
    "                total_asr_additions_lm += asr_addition_lm\n",
    "                total_asr_substitutions_lm += asr_substitutions_lm\n",
    "                \n",
    "                cer_lm, cer_substitutions_lm, cer_addition_lm, cer_deletion_lm = calculate_cer(original_tokens, aligned_asr_tokens_lm)\n",
    "\n",
    "                total_cer_deletions_lm += cer_deletion_lm\n",
    "                total_cer_additions_lm += cer_addition_lm\n",
    "                total_cer_substitutions_lm += cer_substitutions_lm\n",
    "\n",
    "            \n",
    "\n",
    "                \n",
    "            n += 1\n",
    "    \n",
    "                \n",
    "            # Store individual file results for this run including substitutions\n",
    "            file_result = {\n",
    "                \"input_file\": input_file,\n",
    "                \"wer_tokens\": total_tokens,\n",
    "                \"wer_deletions\": asr_deletion,\n",
    "                \"wer_additions\": asr_addition,\n",
    "                \"wer_substitutions\": asr_substitutions,\n",
    "                \"wer_deletions_lm\": asr_deletion_lm,\n",
    "                \"wer_additions_lm\": asr_addition_lm,\n",
    "                \"wer_substitutions_lm\": asr_substitutions_lm,\n",
    "                \"cer_tokens\": cer_total_tokens,\n",
    "                \"cer_deletions\": cer_deletion,\n",
    "                \"cer_additions\": cer_addition,\n",
    "                \"cer_substitutions\": cer_substitutions,\n",
    "                \"cer_deletions_lm\": cer_deletion_lm,\n",
    "                \"cer_additions_lm\": cer_addition_lm,\n",
    "                \"cer_substitutions_lm\": cer_substitutions_lm,\n",
    "                \"make_model\": make_model\n",
    "            }\n",
    "\n",
    "            WER_results.append(file_result)  # Append to WER_results\n",
    "            \n",
    "            # Update tqdm progress bar\n",
    "            pbar.update(1)\n",
    "    \n",
    "            # Print or use the error metric for each file as needed\n",
    "            if debug_printing == True:\n",
    "                print(f\"make_model: {make_model}\")\n",
    "                print(f\"Transcription {input_file}: {tekst}\")\n",
    "                print(f\"original_tokens: \\n{original_tokens}\\n\")\n",
    "                print(f\"Total WER Tokens: {len(original_tokens)}\")\n",
    "                print(f\"Total CER Tokens: {cer_total_tokens}\\n\\n\")\n",
    "                \n",
    "                \n",
    "                if make_model == \"non\":\n",
    "                    print(f\"asr_tokens: \\n{asr_tokens}\\n\")\n",
    "                    print(f\"normalized_asr_tokens: \\n{normalized_asr_tokens}\\n\")\n",
    "                    print(f\"aligned_asr_tokens: \\n{aligned_asr_tokens}\\n\")\n",
    "                    print(f\"WER Deletions: {asr_deletion}\")\n",
    "                    print(f\"WER Additions: {asr_addition}\")\n",
    "                    print(f\"WER Substitutions: {asr_substitutions}\\n\")\n",
    "                    print(f\"CER Deletions: {cer_deletion}\")\n",
    "                    print(f\"CER Additions: {cer_addition}\")\n",
    "                    print(f\"CER Substitutions: {cer_substitutions}\\n\")\n",
    "                \n",
    "                if make_model == \"lm\":\n",
    "                    print(f\"asr_tokens_lm: \\n{asr_tokens_lm}\\n\")\n",
    "                    print(f\"normalized_asr_tokens LM: \\n{normalized_asr_tokens_lm}\\n\")\n",
    "                    print(f\"aligned_asr_tokens LM: \\n{aligned_asr_tokens_lm}\\n\")\n",
    "                    print(f\"WER Deletions: {asr_deletion_lm}\")\n",
    "                    print(f\"WER Additions: {asr_addition_lm}\")\n",
    "                    print(f\"WER Substitutions: {asr_substitutions_lm}\\n\")\n",
    "                    print(f\"CER Deletions: {cer_deletion_lm}\")\n",
    "                    print(f\"CER Additions: {cer_addition_lm}\")\n",
    "                    print(f\"CER Substitutions: {cer_substitutions_lm}\\n\")\n",
    "\n",
    "                if make_model == \"both\":\n",
    "                    print(f\"asr_tokens: \\n{asr_tokens}\\n\")\n",
    "                    print(f\"normalized_asr_tokens: \\n{normalized_asr_tokens}\\n\")\n",
    "                    print(f\"aligned_asr_tokens: \\n{aligned_asr_tokens}\\n\")\n",
    "                    print(f\"WER Deletions: {asr_deletion}\")\n",
    "                    print(f\"WER Additions: {asr_addition}\")\n",
    "                    print(f\"WER Substitutions: {asr_substitutions}\\n\")\n",
    "                    print(f\"CER Deletions: {cer_deletion}\")\n",
    "                    print(f\"CER Additions: {cer_addition}\")\n",
    "                    print(f\"CER Substitutions: {cer_substitutions}\\n\")\n",
    "                    print(f\"asr_tokens_lm: \\n{asr_tokens_lm}\\n\")\n",
    "                    print(f\"normalized_asr_tokens LM: \\n{normalized_asr_tokens_lm}\\n\")\n",
    "                    print(f\"aligned_asr_tokens LM: \\n{aligned_asr_tokens_lm}\\n\")\n",
    "                    print(f\"WER Deletions LM: {asr_deletion_lm}\")\n",
    "                    print(f\"WER Additions LM: {asr_addition_lm}\")\n",
    "                    print(f\"WER Substitutions LM: {asr_substitutions_lm}\\n\")\n",
    "                    print(f\"CER Deletions LM: {cer_deletion_lm}\")\n",
    "                    print(f\"CER Additions LM: {cer_addition_lm}\")\n",
    "                    print(f\"CER Substitutions LM: {cer_substitutions_lm}\\n\")\n",
    "                    \n",
    "\n",
    "      \n",
    "        with open(dict_file_path_full, \"w\") as f:\n",
    "            json.dump(WER_results, f, indent=4)\n",
    "            \n",
    "\n",
    "        print(f\"\\nSaved dict to: {dict_file_path}\\  \\n\\nFilename: {dict_main_name}\\n\")\n",
    "\n",
    "# Print number of runs\n",
    "print(f\"Number of runs: {num_runs}\")\n",
    "print(f\"Total number of audio processed: {max_files_to_process*num_runs}\\n\")\n",
    "print(f\"Number of WER_results: {len(WER_results)}\\n\")\n"
   ]
  },
  {
   "cell_type": "code",
   "execution_count": null,
   "metadata": {},
   "outputs": [],
   "source": [
    "print(WER_results)"
   ]
  },
  {
   "cell_type": "markdown",
   "metadata": {},
   "source": [
    "### Results WER_results"
   ]
  },
  {
   "cell_type": "code",
   "execution_count": 113,
   "metadata": {
    "execution": {
     "iopub.execute_input": "2024-06-18T00:36:58.508850Z",
     "iopub.status.busy": "2024-06-18T00:36:58.508850Z",
     "iopub.status.idle": "2024-06-18T00:36:58.520345Z",
     "shell.execute_reply": "2024-06-18T00:36:58.520345Z",
     "shell.execute_reply.started": "2024-06-18T00:36:58.508850Z"
    }
   },
   "outputs": [
    {
     "name": "stdout",
     "output_type": "stream",
     "text": [
      "Overall Total Original Tokens (WER): 22148\n",
      "\n",
      "Overall Total WER Deletions (Non-LM): 818\n",
      "Overall Total WER Additions (Non-LM): 621\n",
      "Overall Total WER Substitutions (Non-LM): 395\n",
      "\n",
      "Overall Total WER Deletions (LM): 2538\n",
      "Overall Total WER Additions (LM): 837\n",
      "Overall Total WER Substitutions (LM): 549\n",
      "\n",
      "Overall Word Error Rate (WER) - Non-LM: 0.0828\n",
      "Overall Word Error Rate (WER) - LM: 0.1772\n",
      "\n",
      "\n",
      "Overall Total Original Tokens (CER): 112759\n",
      "\n",
      "Overall Total CER Deletions (Non-LM): 4365\n",
      "Overall Total CER Additions (Non-LM): 707\n",
      "Overall Total CER Substitutions (Non-LM): 399\n",
      "\n",
      "Overall Total CER Deletions (LM): 10069\n",
      "Overall Total CER Additions (LM): 1948\n",
      "Overall Total CER Substitutions (LM): 255\n",
      "\n",
      "Overall Character Error Rate (CER) - Non-LM: 0.0485\n",
      "Overall Character Error Rate (CER) - LM: 0.1088\n",
      "\n",
      "\n",
      "Number of individual files processed: 600\n",
      "\n"
     ]
    }
   ],
   "source": [
    "# Initialize variables to accumulate totals for WER\n",
    "overall_total_wer_deletions = 0\n",
    "overall_total_wer_additions = 0\n",
    "overall_total_wer_substitutions = 0\n",
    "overall_total_wer_tokens = 0\n",
    "\n",
    "overall_total_wer_deletions_lm = 0\n",
    "overall_total_wer_additions_lm = 0\n",
    "overall_total_wer_substitutions_lm = 0\n",
    "\n",
    "# Initialize variables to accumulate totals for CER\n",
    "overall_total_cer_deletions = 0\n",
    "overall_total_cer_additions = 0\n",
    "overall_total_cer_substitutions = 0\n",
    "overall_total_cer_tokens = 0\n",
    "\n",
    "overall_total_cer_deletions_lm = 0\n",
    "overall_total_cer_additions_lm = 0\n",
    "overall_total_cer_substitutions_lm = 0\n",
    "\n",
    "total_files_with_error_rate = 0\n",
    "overall_total_error_rate = 0\n",
    "\n",
    "# Iterate through WER_results\n",
    "for result in WER_results:\n",
    "    if isinstance(result, dict):\n",
    "        # WER calculations\n",
    "        if result.get(\"wer_deletions\") is not None:\n",
    "            overall_total_wer_deletions += result.get(\"wer_deletions\", 0)\n",
    "        if result.get(\"wer_additions\") is not None:\n",
    "            overall_total_wer_additions += result.get(\"wer_additions\", 0)\n",
    "        if result.get(\"wer_substitutions\") is not None:\n",
    "            overall_total_wer_substitutions += result.get(\"wer_substitutions\", 0)\n",
    "        \n",
    "        overall_total_wer_tokens += result.get(\"wer_tokens\", 0)\n",
    "        \n",
    "        overall_total_wer_deletions_lm += result.get(\"wer_deletions_lm\", 0)\n",
    "        overall_total_wer_additions_lm += result.get(\"wer_additions_lm\", 0)\n",
    "        overall_total_wer_substitutions_lm += result.get(\"wer_substitutions_lm\", 0)\n",
    "        \n",
    "        # CER calculations\n",
    "        if result.get(\"cer_deletions\") is not None:\n",
    "            overall_total_cer_deletions += result.get(\"cer_deletions\", 0)\n",
    "        if result.get(\"cer_additions\") is not None:\n",
    "            overall_total_cer_additions += result.get(\"cer_additions\", 0)\n",
    "        if result.get(\"cer_substitutions\") is not None:\n",
    "            overall_total_cer_substitutions += result.get(\"cer_substitutions\", 0)\n",
    "        \n",
    "        overall_total_cer_tokens += result.get(\"cer_tokens\", 0)\n",
    "        \n",
    "        overall_total_cer_deletions_lm += result.get(\"cer_deletions_lm\", 0)\n",
    "        overall_total_cer_additions_lm += result.get(\"cer_additions_lm\", 0)\n",
    "        overall_total_cer_substitutions_lm += result.get(\"cer_substitutions_lm\", 0)\n",
    "        \n",
    "        if \"error_rate\" in result:\n",
    "            total_files_with_error_rate += 1\n",
    "            overall_total_error_rate += result[\"error_rate\"]\n",
    "\n",
    "# Calculate overall metrics\n",
    "overall_wer = (overall_total_wer_deletions + overall_total_wer_additions + overall_total_wer_substitutions) / overall_total_wer_tokens if overall_total_wer_tokens > 0 else 0\n",
    "overall_wer_lm = (overall_total_wer_deletions_lm + overall_total_wer_additions_lm + overall_total_wer_substitutions_lm) / overall_total_wer_tokens if overall_total_wer_tokens > 0 else 0\n",
    "\n",
    "overall_cer = (overall_total_cer_deletions + overall_total_cer_additions + overall_total_cer_substitutions) / overall_total_cer_tokens if overall_total_cer_tokens > 0 else 0\n",
    "overall_cer_lm = (overall_total_cer_deletions_lm + overall_total_cer_additions_lm + overall_total_cer_substitutions_lm) / overall_total_cer_tokens if overall_total_cer_tokens > 0 else 0\n",
    "\n",
    "# Print overall totals including substitutions for non-LM and LM results for WER and CER\n",
    "print(f\"Overall Total Original Tokens (WER): {overall_total_wer_tokens}\\n\")\n",
    "print(f\"Overall Total WER Deletions (Non-LM): {overall_total_wer_deletions}\")\n",
    "print(f\"Overall Total WER Additions (Non-LM): {overall_total_wer_additions}\")\n",
    "print(f\"Overall Total WER Substitutions (Non-LM): {overall_total_wer_substitutions}\\n\")\n",
    "\n",
    "print(f\"Overall Total WER Deletions (LM): {overall_total_wer_deletions_lm}\")\n",
    "print(f\"Overall Total WER Additions (LM): {overall_total_wer_additions_lm}\")\n",
    "print(f\"Overall Total WER Substitutions (LM): {overall_total_wer_substitutions_lm}\\n\")\n",
    "\n",
    "print(f\"Overall Word Error Rate (WER) - Non-LM: {overall_wer:.4f}\")\n",
    "print(f\"Overall Word Error Rate (WER) - LM: {overall_wer_lm:.4f}\\n\\n\")\n",
    "\n",
    "print(f\"Overall Total Original Tokens (CER): {overall_total_cer_tokens}\\n\")\n",
    "print(f\"Overall Total CER Deletions (Non-LM): {overall_total_cer_deletions}\")\n",
    "print(f\"Overall Total CER Additions (Non-LM): {overall_total_cer_additions}\")\n",
    "print(f\"Overall Total CER Substitutions (Non-LM): {overall_total_cer_substitutions}\\n\")\n",
    "\n",
    "print(f\"Overall Total CER Deletions (LM): {overall_total_cer_deletions_lm}\")\n",
    "print(f\"Overall Total CER Additions (LM): {overall_total_cer_additions_lm}\")\n",
    "print(f\"Overall Total CER Substitutions (LM): {overall_total_cer_substitutions_lm}\\n\")\n",
    "\n",
    "print(f\"Overall Character Error Rate (CER) - Non-LM: {overall_cer:.4f}\")\n",
    "print(f\"Overall Character Error Rate (CER) - LM: {overall_cer_lm:.4f}\\n\")\n",
    "\n",
    "# Print number of individual files processed\n",
    "num_files_processed = len([result for result in WER_results if isinstance(result, dict)])\n",
    "print(f\"\\nNumber of individual files processed: {num_files_processed}\\n\")\n"
   ]
  },
  {
   "cell_type": "markdown",
   "metadata": {},
   "source": [
    "### WER Plotting"
   ]
  },
  {
   "cell_type": "code",
   "execution_count": 124,
   "metadata": {
    "execution": {
     "iopub.execute_input": "2024-06-18T00:55:36.763323Z",
     "iopub.status.busy": "2024-06-18T00:55:36.763323Z",
     "iopub.status.idle": "2024-06-18T00:55:37.398832Z",
     "shell.execute_reply": "2024-06-18T00:55:37.398832Z",
     "shell.execute_reply.started": "2024-06-18T00:55:36.763323Z"
    }
   },
   "outputs": [
    {
     "name": "stdout",
     "output_type": "stream",
     "text": [
      "Saving plot: D:\\ASR\\ParlaspeechHR\\WER_results_v3.7.png\n"
     ]
    },
    {
     "data": {
      "image/png": "[encoded data removed]",
      "text/plain": [
       "<Figure size 1000x600 with 1 Axes>"
      ]
     },
     "metadata": {},
     "output_type": "display_data"
    }
   ],
   "source": [
    "import matplotlib.pyplot as plt\n",
    "import numpy as np\n",
    "\n",
    "# Initialize lists to store the number of files processed and the corresponding WER values for both models\n",
    "num_files_processed = []\n",
    "wer_values_non_lm = []\n",
    "wer_values_lm = []\n",
    "\n",
    "# Iterate over the number of files processed\n",
    "for i in range(1, len(WER_results) + 1):\n",
    "    # Initialize variables to accumulate totals for both models\n",
    "    overall_total_asr_deletions_non_lm = 0\n",
    "    overall_total_asr_additions_non_lm = 0\n",
    "    overall_total_asr_substitutions_non_lm = 0\n",
    "    overall_total_tokens_non_lm = 0\n",
    "    \n",
    "    overall_total_asr_deletions_lm = 0\n",
    "    overall_total_asr_additions_lm = 0\n",
    "    overall_total_asr_substitutions_lm = 0\n",
    "    \n",
    "    # Calculate overall totals for both models for the first i files\n",
    "    for result in WER_results[:i]:\n",
    "        if isinstance(result, dict):\n",
    "            overall_total_asr_deletions_non_lm += result.get(\"wer_deletions\", 0)\n",
    "            overall_total_asr_additions_non_lm += result.get(\"wer_additions\", 0)\n",
    "            overall_total_asr_substitutions_non_lm += result.get(\"wer_substitutions\", 0)\n",
    "            overall_total_tokens_non_lm += result.get(\"wer_tokens\", 0)\n",
    "            \n",
    "            overall_total_asr_deletions_lm += result.get(\"wer_deletions_lm\", 0)\n",
    "            overall_total_asr_additions_lm += result.get(\"wer_additions_lm\", 0)\n",
    "            overall_total_asr_substitutions_lm += result.get(\"wer_substitutions_lm\", 0)\n",
    "    \n",
    "    # Calculate WER for both models\n",
    "    if overall_total_tokens_non_lm > 0:\n",
    "        wer_non_lm = (overall_total_asr_deletions_non_lm + overall_total_asr_additions_non_lm + overall_total_asr_substitutions_non_lm) / overall_total_tokens_non_lm\n",
    "    else:\n",
    "        wer_non_lm = 0\n",
    "    \n",
    "    if overall_total_tokens_non_lm > 0:\n",
    "        wer_lm = (overall_total_asr_deletions_lm + overall_total_asr_additions_lm + overall_total_asr_substitutions_lm) / overall_total_tokens_non_lm\n",
    "    else:\n",
    "        wer_lm = 0\n",
    "    \n",
    "    # Append the number of files processed and the WER values to the lists\n",
    "    num_files_processed.append(i)\n",
    "    wer_values_non_lm.append(wer_non_lm)\n",
    "    wer_values_lm.append(wer_lm)\n",
    "\n",
    "# Define a function to calculate the moving average\n",
    "def moving_average(values, window):\n",
    "    weights = np.repeat(1.0, window) / window\n",
    "    sma = np.convolve(values, weights, 'valid')\n",
    "    return sma\n",
    "\n",
    "# Calculate the moving average of the WER values for both models with a window size\n",
    "window_size = 10  # Adjust this value as needed\n",
    "smoothed_wer_values_non_lm = moving_average(wer_values_non_lm, window_size)\n",
    "smoothed_wer_values_lm = moving_average(wer_values_lm, window_size)\n",
    "\n",
    "# Adjust the num_files_processed to match the length of the smoothed WER values\n",
    "adjusted_num_files_processed = num_files_processed[window_size-1:]\n",
    "\n",
    "# Plot the WER values and the smoothed WER values for both models\n",
    "plt.figure(figsize=(10, 6))\n",
    "plt.plot(adjusted_num_files_processed, smoothed_wer_values_lm, marker='o', linestyle='-', color='r', alpha=0.3, label='Smoothed WER (LM)')\n",
    "plt.plot(adjusted_num_files_processed, smoothed_wer_values_non_lm, marker='o', linestyle='-', color='b', alpha=0.3, label='Smoothed WER (Non-LM)')\n",
    "plt.xlabel('Number of Files Processed')\n",
    "plt.ylabel('Word Error Rate (WER)')\n",
    "plt.title('WER Variation with Number of Files Processed')\n",
    "plt.legend()\n",
    "plt.grid(True)\n",
    "\n",
    "\n",
    "# Add text at the bottom of the plot\n",
    "wer_plot_from_version2 = wer_plot_from_version[:-4] + \"png\"\n",
    "\n",
    "wer_plot_save = os.path.join(wer_plot_save_path, wer_plot_from_version2)\n",
    "\n",
    "bottom_text = f\"Source dict: {wer_plot_from_version[:-4]} Code work version:{work_version}. Smoothed window size: {window_size}.\"\n",
    "plt.figtext(0.5, 0.001, bottom_text, wrap=True, horizontalalignment='center', fontsize=12)\n",
    "\n",
    "plt.savefig(wer_plot_save, dpi=300, bbox_inches='tight')\n",
    "print(f\"Saving plot: {wer_plot_save}\")\n",
    "\n",
    "plt.show()"
   ]
  },
  {
   "cell_type": "markdown",
   "metadata": {},
   "source": [
    "### CER Plotting"
   ]
  },
  {
   "cell_type": "code",
   "execution_count": 123,
   "metadata": {
    "execution": {
     "iopub.execute_input": "2024-06-18T00:55:27.851264Z",
     "iopub.status.busy": "2024-06-18T00:55:27.851264Z",
     "iopub.status.idle": "2024-06-18T00:55:28.548356Z",
     "shell.execute_reply": "2024-06-18T00:55:28.548356Z",
     "shell.execute_reply.started": "2024-06-18T00:55:27.851264Z"
    }
   },
   "outputs": [
    {
     "name": "stdout",
     "output_type": "stream",
     "text": [
      "Saving plot: D:\\ASR\\ParlaspeechHR\\CER_results_v3.7.png\n"
     ]
    },
    {
     "data": {
      "image/png": "[encoded data removed]",
      "text/plain": [
       "<Figure size 1000x600 with 1 Axes>"
      ]
     },
     "metadata": {},
     "output_type": "display_data"
    }
   ],
   "source": [
    "import matplotlib.pyplot as plt\n",
    "import numpy as np\n",
    "import os\n",
    "\n",
    "# Initialize lists to store the number of files processed and the corresponding CER values for both models\n",
    "num_files_processed = []\n",
    "cer_values_non_lm = []\n",
    "cer_values_lm = []\n",
    "\n",
    "# Iterate over the number of files processed\n",
    "for i in range(1, len(WER_results) + 1):\n",
    "    # Initialize variables to accumulate totals for both models\n",
    "    overall_total_cer_deletions_non_lm = 0\n",
    "    overall_total_cer_additions_non_lm = 0\n",
    "    overall_total_cer_substitutions_non_lm = 0\n",
    "    overall_total_cer_tokens_non_lm = 0\n",
    "    \n",
    "    overall_total_cer_deletions_lm = 0\n",
    "    overall_total_cer_additions_lm = 0\n",
    "    overall_total_cer_substitutions_lm = 0\n",
    "    \n",
    "    # Calculate overall totals for both models for the first i files\n",
    "    for result in WER_results[:i]:\n",
    "        if isinstance(result, dict):\n",
    "            if result.get(\"cer_deletions\") is not None:\n",
    "                overall_total_cer_deletions_non_lm += result.get(\"cer_deletions\", 0)\n",
    "            if result.get(\"cer_additions\") is not None:\n",
    "                overall_total_cer_additions_non_lm += result.get(\"cer_additions\", 0)\n",
    "            if result.get(\"cer_substitutions\") is not None:\n",
    "                overall_total_cer_substitutions_non_lm += result.get(\"cer_substitutions\", 0)\n",
    "            overall_total_cer_tokens_non_lm += result.get(\"cer_tokens\", 0)\n",
    "            \n",
    "            overall_total_cer_deletions_lm += result.get(\"cer_deletions_lm\", 0)\n",
    "            overall_total_cer_additions_lm += result.get(\"cer_additions_lm\", 0)\n",
    "            overall_total_cer_substitutions_lm += result.get(\"cer_substitutions_lm\", 0)\n",
    "    \n",
    "    # Calculate CER for both models\n",
    "    if overall_total_cer_tokens_non_lm > 0:\n",
    "        cer_non_lm = (overall_total_cer_deletions_non_lm + overall_total_cer_additions_non_lm + overall_total_cer_substitutions_non_lm) / overall_total_cer_tokens_non_lm\n",
    "    else:\n",
    "        cer_non_lm = 0\n",
    "    \n",
    "    if overall_total_cer_tokens_non_lm > 0:\n",
    "        cer_lm = (overall_total_cer_deletions_lm + overall_total_cer_additions_lm + overall_total_cer_substitutions_lm) / overall_total_cer_tokens_non_lm\n",
    "    else:\n",
    "        cer_lm = 0\n",
    "    \n",
    "    # Append the number of files processed and the CER values to the lists\n",
    "    num_files_processed.append(i)\n",
    "    cer_values_non_lm.append(cer_non_lm)\n",
    "    cer_values_lm.append(cer_lm)\n",
    "\n",
    "# Define a function to calculate the moving average\n",
    "def moving_average(values, window):\n",
    "    weights = np.repeat(1.0, window) / window\n",
    "    sma = np.convolve(values, weights, 'valid')\n",
    "    return sma\n",
    "\n",
    "# Calculate the moving average of the CER values for both models with a window size\n",
    "window_size = 10  # Adjust this value as needed\n",
    "smoothed_cer_values_non_lm = moving_average(cer_values_non_lm, window_size)\n",
    "smoothed_cer_values_lm = moving_average(cer_values_lm, window_size)\n",
    "\n",
    "# Adjust the num_files_processed to match the length of the smoothed CER values\n",
    "adjusted_num_files_processed = num_files_processed[window_size-1:]\n",
    "\n",
    "# Plot the CER values and the smoothed CER values for both models\n",
    "plt.figure(figsize=(10, 6))\n",
    "plt.plot(adjusted_num_files_processed, smoothed_cer_values_lm, marker='o', linestyle='-', color='r', alpha=0.3, label='Smoothed CER (LM)')\n",
    "plt.plot(adjusted_num_files_processed, smoothed_cer_values_non_lm, marker='o', linestyle='-', color='b', alpha=0.3, label='Smoothed CER (Non-LM)')\n",
    "plt.xlabel('Number of Files Processed')\n",
    "plt.ylabel('Character Error Rate (CER)')\n",
    "plt.title('CER Variation with Number of Files Processed')\n",
    "plt.legend()\n",
    "plt.grid(True)\n",
    "\n",
    "# Add text at the bottom of the plot\n",
    "cer_plot_from_version2 = \"CER\" + cer_plot_from_version[3:-4] + \"png\"\n",
    "cer_plot_save = os.path.join(cer_plot_save_path, cer_plot_from_version2)\n",
    "\n",
    "bottom_text = f\"Source dict: {cer_plot_from_version[:-4]} Code work version:{work_version}. Smoothed window size: {window_size}.\"\n",
    "plt.figtext(0.5, 0.001, bottom_text, wrap=True, horizontalalignment='center', fontsize=12)\n",
    "\n",
    "plt.savefig(cer_plot_save, dpi=300, bbox_inches='tight')\n",
    "print(f\"Saving plot: {cer_plot_save}\")\n",
    "\n",
    "plt.show()\n"
   ]
  },
  {
   "cell_type": "code",
   "execution_count": null,
   "metadata": {},
   "outputs": [],
   "source": []
  },
  {
   "cell_type": "code",
   "execution_count": null,
   "metadata": {},
   "outputs": [],
   "source": []
  },
  {
   "cell_type": "markdown",
   "metadata": {},
   "source": [
    "## Sample size? Statistical Nightmare"
   ]
  },
  {
   "cell_type": "code",
   "execution_count": 154,
   "metadata": {
    "execution": {
     "iopub.execute_input": "2024-06-18T01:24:09.143895Z",
     "iopub.status.busy": "2024-06-18T01:24:09.143895Z",
     "iopub.status.idle": "2024-06-18T01:24:09.153288Z",
     "shell.execute_reply": "2024-06-18T01:24:09.153288Z",
     "shell.execute_reply.started": "2024-06-18T01:24:09.143895Z"
    }
   },
   "outputs": [
    {
     "name": "stdout",
     "output_type": "stream",
     "text": [
      "Required sample size per group: 328\n",
      "Number of groups you can sample: 1230\n"
     ]
    }
   ],
   "source": [
    "import statsmodels.stats.api as sms\n",
    "\n",
    "# Define parameters for sample size calculation\n",
    "effect_size = 0.5  # Expected effect size (difference in means divided by standard deviation)\n",
    "alpha = 0.001  # Significance level (typically 0.05 or 0.01 for 95% or 99% confidence)\n",
    "power = 0.999  # Desired statistical power (typically 0.8 or 0.9)\n",
    "\n",
    "# Calculate sample size for each group (assuming equal sample sizes for simplicity)\n",
    "total_population = 403925  # Total population size\n",
    "sample_size_needed = sms.tt_ind_solve_power(effect_size=effect_size, alpha=alpha, power=power, ratio=1.0, alternative='two-sided')\n",
    "\n",
    "# Print the calculated sample size\n",
    "print(f\"Required sample size per group: {sample_size_needed:.0f}\")\n",
    "\n",
    "# Calculate how many groups you can sample from total population\n",
    "# For simplicity, assuming that you have a large enough population to draw multiple samples\n",
    "num_groups = total_population / sample_size_needed\n",
    "\n",
    "# Print the number of groups\n",
    "print(f\"Number of groups you can sample: {num_groups:.0f}\")\n"
   ]
  },
  {
   "cell_type": "code",
   "execution_count": 142,
   "metadata": {
    "execution": {
     "iopub.execute_input": "2024-06-18T01:23:00.886255Z",
     "iopub.status.busy": "2024-06-18T01:23:00.886255Z",
     "iopub.status.idle": "2024-06-18T01:23:00.894097Z",
     "shell.execute_reply": "2024-06-18T01:23:00.894097Z",
     "shell.execute_reply.started": "2024-06-18T01:23:00.886255Z"
    }
   },
   "outputs": [
    {
     "name": "stdout",
     "output_type": "stream",
     "text": [
      "Sample Size: 600\n",
      "Estimated Standard Deviation (sigma): 10\n",
      "Confidence Interval (CI) for 99.0% confidence level: [-1.0516, 1.0516]\n"
     ]
    }
   ],
   "source": [
    "import scipy.stats as stats\n",
    "\n",
    "# Define parameters\n",
    "sample_size = 600\n",
    "sigma = 10  # Estimated standard deviation\n",
    "confidence_level = 0.99  # 95% confidence level\n",
    "\n",
    "# Find the z-score for the desired confidence level\n",
    "z = stats.norm.ppf((1 + confidence_level) / 2)  # For a two-tailed test\n",
    "\n",
    "# Calculate the margin of error (MOE)\n",
    "MOE = z * (sigma / (sample_size ** 0.5))\n",
    "\n",
    "# Calculate the confidence interval (CI)\n",
    "mean_estimate = 0  # Replace with your mean estimate if known\n",
    "CI_low = mean_estimate - MOE\n",
    "CI_high = mean_estimate + MOE\n",
    "\n",
    "# Print results\n",
    "print(f\"Sample Size: {sample_size}\")\n",
    "print(f\"Estimated Standard Deviation (sigma): {sigma}\")\n",
    "print(f\"Confidence Interval (CI) for {confidence_level * 100}% confidence level: [{CI_low:.4f}, {CI_high:.4f}]\")\n"
   ]
  },
  {
   "cell_type": "code",
   "execution_count": 176,
   "metadata": {
    "execution": {
     "iopub.execute_input": "2024-06-18T01:52:47.519960Z",
     "iopub.status.busy": "2024-06-18T01:52:47.519960Z",
     "iopub.status.idle": "2024-06-18T01:52:47.809651Z",
     "shell.execute_reply": "2024-06-18T01:52:47.809651Z",
     "shell.execute_reply.started": "2024-06-18T01:52:47.519960Z"
    }
   },
   "outputs": [
    {
     "name": "stdout",
     "output_type": "stream",
     "text": [
      "WER - Mean: 36.61, Std: 13.32\n",
      "CER - Mean: 186.10, Std: 64.96\n"
     ]
    },
    {
     "data": {
      "image/png": "[encoded data removed]",
      "text/plain": [
       "<Figure size 1200x500 with 2 Axes>"
      ]
     },
     "metadata": {},
     "output_type": "display_data"
    }
   ],
   "source": [
    "import numpy as np\n",
    "import matplotlib.pyplot as plt\n",
    "\n",
    "# Extract WER and CER metrics into lists\n",
    "wer_tokens = [result[\"wer_tokens\"] for result in WER_results]\n",
    "cer_tokens = [result[\"cer_tokens\"] for result in WER_results]\n",
    "\n",
    "# Calculate descriptive statistics\n",
    "wer_mean = np.mean(wer_tokens)\n",
    "wer_std = np.std(wer_tokens)\n",
    "cer_mean = np.mean(cer_tokens)\n",
    "cer_std = np.std(cer_tokens)\n",
    "\n",
    "# Print summary statistics\n",
    "print(f\"WER - Mean: {wer_mean:.2f}, Std: {wer_std:.2f}\")\n",
    "print(f\"CER - Mean: {cer_mean:.2f}, Std: {cer_std:.2f}\")\n",
    "\n",
    "# Create histograms to visualize distribution\n",
    "plt.figure(figsize=(12, 5))\n",
    "\n",
    "plt.subplot(1, 2, 1)\n",
    "plt.hist(wer_tokens, bins=50, edgecolor='black')\n",
    "plt.title('Histogram of WER Tokens')\n",
    "plt.xlabel('WER Tokens')\n",
    "plt.ylabel('Frequency')\n",
    "\n",
    "plt.subplot(1, 2, 2)\n",
    "plt.hist(cer_tokens, bins=50, edgecolor='black')\n",
    "plt.title('Histogram of CER Tokens')\n",
    "plt.xlabel('CER Tokens')\n",
    "plt.ylabel('Frequency')\n",
    "\n",
    "plt.tight_layout()\n",
    "plt.show()\n"
   ]
  },
  {
   "cell_type": "code",
   "execution_count": 161,
   "metadata": {
    "execution": {
     "iopub.execute_input": "2024-06-18T01:34:53.425499Z",
     "iopub.status.busy": "2024-06-18T01:34:53.425499Z",
     "iopub.status.idle": "2024-06-18T01:34:53.433885Z",
     "shell.execute_reply": "2024-06-18T01:34:53.433885Z",
     "shell.execute_reply.started": "2024-06-18T01:34:53.425499Z"
    }
   },
   "outputs": [],
   "source": [
    "import numpy as np\n",
    "from scipy.stats import ttest_ind, f_oneway\n",
    "import statsmodels.stats.api as sms# Assuming results_list is your list of dictionaries with the relevant data\n",
    "\n",
    "wer_non_lm = []\n",
    "wer_lm = []\n",
    "cer_non_lm = []\n",
    "cer_lm = []\n",
    "\n",
    "for result in WER_results:\n",
    "    wer_rate = (result[\"wer_deletions\"] + result[\"wer_additions\"] + result[\"wer_substitutions\"]) / result[\"wer_tokens\"] if result[\"wer_tokens\"] > 0 else 0\n",
    "    wer_rate_lm = (result[\"wer_deletions_lm\"] + result[\"wer_additions_lm\"] + result[\"wer_substitutions_lm\"]) / result[\"wer_tokens\"] if result[\"wer_tokens\"] > 0 else 0\n",
    "\n",
    "    cer_rate = (result[\"cer_deletions\"] + result[\"cer_additions\"] + result[\"cer_substitutions\"]) / result[\"cer_tokens\"] if result[\"cer_tokens\"] > 0 else 0\n",
    "    cer_rate_lm = (result[\"cer_deletions_lm\"] + result[\"cer_additions_lm\"] + result[\"cer_substitutions_lm\"]) / result[\"cer_tokens\"] if result[\"cer_tokens\"] > 0 else 0\n",
    "\n",
    "    wer_non_lm.append(wer_rate)\n",
    "    wer_lm.append(wer_rate_lm)\n",
    "    cer_non_lm.append(cer_rate)\n",
    "    cer_lm.append(cer_rate_lm)\n",
    "\n",
    "# Print the calculated WER and CER rates for non-LM and LM\n",
    "# print(f\"WER rates (Non-LM): {wer_non_lm}\")\n",
    "# print(f\"WER rates (LM): {wer_lm}\")\n",
    "# print(f\"CER rates (Non-LM): {cer_non_lm}\")\n",
    "# print(f\"CER rates (LM): {cer_lm}\")"
   ]
  },
  {
   "cell_type": "code",
   "execution_count": 169,
   "metadata": {
    "execution": {
     "iopub.execute_input": "2024-06-18T01:43:39.201206Z",
     "iopub.status.busy": "2024-06-18T01:43:39.200209Z",
     "iopub.status.idle": "2024-06-18T01:43:39.207190Z",
     "shell.execute_reply": "2024-06-18T01:43:39.207190Z",
     "shell.execute_reply.started": "2024-06-18T01:43:39.201206Z"
    }
   },
   "outputs": [
    {
     "name": "stdout",
     "output_type": "stream",
     "text": [
      "WER Non-LM: Mean=0.0834, CI=(0.0749, 0.0919)\n",
      "WER LM: Mean=0.1655, CI=(0.1521, 0.1790)\n",
      "CER Non-LM: Mean=0.0495, CI=(0.0439, 0.0550)\n",
      "CER LM: Mean=0.1056, CI=(0.0964, 0.1148)\n"
     ]
    }
   ],
   "source": [
    "# Calculate confidence intervals\n",
    "def confidence_interval(data, confidence=0.95):\n",
    "    n = len(data)\n",
    "    mean = np.mean(data)\n",
    "    sem = stats.sem(data)\n",
    "    h = sem * stats.t.ppf((1 + confidence) / 2, n - 1)\n",
    "    return mean, mean - h, mean + h\n",
    "\n",
    "wer_non_lm_ci = confidence_interval(wer_non_lm)\n",
    "wer_lm_ci = confidence_interval(wer_lm)\n",
    "cer_non_lm_ci = confidence_interval(cer_non_lm)\n",
    "cer_lm_ci = confidence_interval(cer_lm)\n",
    "\n",
    "print(f\"WER Non-LM: Mean={wer_non_lm_ci[0]:.4f}, CI=({wer_non_lm_ci[1]:.4f}, {wer_non_lm_ci[2]:.4f})\")\n",
    "print(f\"WER LM: Mean={wer_lm_ci[0]:.4f}, CI=({wer_lm_ci[1]:.4f}, {wer_lm_ci[2]:.4f})\")\n",
    "print(f\"CER Non-LM: Mean={cer_non_lm_ci[0]:.4f}, CI=({cer_non_lm_ci[1]:.4f}, {cer_non_lm_ci[2]:.4f})\")\n",
    "print(f\"CER LM: Mean={cer_lm_ci[0]:.4f}, CI=({cer_lm_ci[1]:.4f}, {cer_lm_ci[2]:.4f})\")"
   ]
  },
  {
   "cell_type": "code",
   "execution_count": 171,
   "metadata": {
    "execution": {
     "iopub.execute_input": "2024-06-18T01:48:27.901829Z",
     "iopub.status.busy": "2024-06-18T01:48:27.901829Z",
     "iopub.status.idle": "2024-06-18T01:48:27.910135Z",
     "shell.execute_reply": "2024-06-18T01:48:27.910135Z",
     "shell.execute_reply.started": "2024-06-18T01:48:27.901829Z"
    }
   },
   "outputs": [
    {
     "name": "stdout",
     "output_type": "stream",
     "text": [
      "Pearson's correlation coefficient between WER and CER rates for Non-LM: 0.92\n",
      "P-value: 0.0000\n",
      "\n",
      "Pearson's correlation coefficient between WER and CER rates for LM: 0.95\n",
      "P-value: 0.0000\n"
     ]
    }
   ],
   "source": [
    "import scipy.stats as stats\n",
    "\n",
    "# Calculate Pearson's correlation coefficient for WER and CER rates\n",
    "correlation_wer_non_lm, p_value_wer_non_lm = stats.pearsonr(wer_non_lm, cer_non_lm)\n",
    "correlation_wer_lm, p_value_wer_lm = stats.pearsonr(wer_lm, cer_lm)\n",
    "\n",
    "print(f\"Pearson's correlation coefficient between WER and CER rates for Non-LM: {correlation_wer_non_lm:.2f}\")\n",
    "print(f\"P-value: {p_value_wer_non_lm:.4f}\\n\")\n",
    "\n",
    "print(f\"Pearson's correlation coefficient between WER and CER rates for LM: {correlation_wer_lm:.2f}\")\n",
    "print(f\"P-value: {p_value_wer_lm:.4f}\")\n"
   ]
  },
  {
   "cell_type": "code",
   "execution_count": 162,
   "metadata": {
    "execution": {
     "iopub.execute_input": "2024-06-18T01:35:05.768836Z",
     "iopub.status.busy": "2024-06-18T01:35:05.767839Z",
     "iopub.status.idle": "2024-06-18T01:35:05.774820Z",
     "shell.execute_reply": "2024-06-18T01:35:05.774820Z",
     "shell.execute_reply.started": "2024-06-18T01:35:05.768836Z"
    }
   },
   "outputs": [
    {
     "name": "stdout",
     "output_type": "stream",
     "text": [
      "WER T-test: t-statistic = -10.139, p-value = 0.000\n",
      "CER T-test: t-statistic = -10.264, p-value = 0.000\n"
     ]
    }
   ],
   "source": [
    "# Perform t-tests for WER\n",
    "wer_t_stat, wer_p_value = ttest_ind(wer_non_lm, wer_lm)\n",
    "print(f\"WER T-test: t-statistic = {wer_t_stat:.3f}, p-value = {wer_p_value:.3f}\")\n",
    "\n",
    "# Perform t-tests for CER\n",
    "cer_t_stat, cer_p_value = ttest_ind(cer_non_lm, cer_lm)\n",
    "print(f\"CER T-test: t-statistic = {cer_t_stat:.3f}, p-value = {cer_p_value:.3f}\")\n"
   ]
  },
  {
   "cell_type": "code",
   "execution_count": 163,
   "metadata": {
    "execution": {
     "iopub.execute_input": "2024-06-18T01:35:21.535409Z",
     "iopub.status.busy": "2024-06-18T01:35:21.535409Z",
     "iopub.status.idle": "2024-06-18T01:35:21.550933Z",
     "shell.execute_reply": "2024-06-18T01:35:21.550933Z",
     "shell.execute_reply.started": "2024-06-18T01:35:21.535409Z"
    }
   },
   "outputs": [
    {
     "name": "stdout",
     "output_type": "stream",
     "text": [
      "WER ANOVA: F-statistic = 102.792, p-value = 0.000\n",
      "CER ANOVA: F-statistic = 105.346, p-value = 0.000\n"
     ]
    }
   ],
   "source": [
    "# Assuming you have more groups, for example:\n",
    "wer_group1 = wer_non_lm\n",
    "wer_group2 = wer_lm\n",
    "# Add other groups if needed\n",
    "\n",
    "# Perform ANOVA for WER\n",
    "wer_f_stat, wer_p_value = f_oneway(wer_group1, wer_group2)\n",
    "print(f\"WER ANOVA: F-statistic = {wer_f_stat:.3f}, p-value = {wer_p_value:.3f}\")\n",
    "\n",
    "# Assuming you have more groups, for example:\n",
    "cer_group1 = cer_non_lm\n",
    "cer_group2 = cer_lm\n",
    "# Add other groups if needed\n",
    "\n",
    "# Perform ANOVA for CER\n",
    "cer_f_stat, cer_p_value = f_oneway(cer_group1, cer_group2)\n",
    "print(f\"CER ANOVA: F-statistic = {cer_f_stat:.3f}, p-value = {cer_p_value:.3f}\")\n"
   ]
  },
  {
   "cell_type": "code",
   "execution_count": 164,
   "metadata": {
    "execution": {
     "iopub.execute_input": "2024-06-18T01:35:50.254452Z",
     "iopub.status.busy": "2024-06-18T01:35:50.254452Z",
     "iopub.status.idle": "2024-06-18T01:35:50.268436Z",
     "shell.execute_reply": "2024-06-18T01:35:50.268436Z",
     "shell.execute_reply.started": "2024-06-18T01:35:50.254452Z"
    }
   },
   "outputs": [
    {
     "name": "stdout",
     "output_type": "stream",
     "text": [
      "WER Confidence Interval: (0.07344274844841658, 0.09210594100831151)\n",
      "CER Confidence Interval: (0.04328806886773624, 0.05547488908062649)\n"
     ]
    }
   ],
   "source": [
    "# Define the sample size you can afford\n",
    "sample_size = 600  # Your actual sample size\n",
    "\n",
    "# Calculate the confidence interval for WER\n",
    "wer_conf_interval = sms.DescrStatsW(wer_non_lm[:sample_size]).tconfint_mean()\n",
    "print(f\"WER Confidence Interval: {wer_conf_interval}\")\n",
    "\n",
    "# Calculate the confidence interval for CER\n",
    "cer_conf_interval = sms.DescrStatsW(cer_non_lm[:sample_size]).tconfint_mean()\n",
    "print(f\"CER Confidence Interval: {cer_conf_interval}\")\n"
   ]
  },
  {
   "cell_type": "code",
   "execution_count": 168,
   "metadata": {
    "execution": {
     "iopub.execute_input": "2024-06-18T01:42:46.750578Z",
     "iopub.status.busy": "2024-06-18T01:42:46.750578Z",
     "iopub.status.idle": "2024-06-18T01:42:46.761749Z",
     "shell.execute_reply": "2024-06-18T01:42:46.761749Z",
     "shell.execute_reply.started": "2024-06-18T01:42:46.750578Z"
    }
   },
   "outputs": [
    {
     "name": "stdout",
     "output_type": "stream",
     "text": [
      "Required sample size per group for effect size 0.1: 1571\n",
      "Power with sample size of 600: 0.4094\n"
     ]
    }
   ],
   "source": [
    "import statsmodels.stats.api as sms\n",
    "\n",
    "# Define the parameters for the sample size calculation\n",
    "effect_size = 0.1  # This is a commonly used medium effect size\n",
    "alpha = 0.05  # Significance level\n",
    "power = 0.8  # Desired statistical power\n",
    "\n",
    "# Calculate the sample size needed for the given effect size, alpha, and power\n",
    "sample_size_needed = sms.tt_ind_solve_power(effect_size=effect_size, alpha=alpha, power=power, ratio=1.0, alternative='two-sided')\n",
    "\n",
    "print(f\"Required sample size per group for effect size {effect_size}: {sample_size_needed:.0f}\")\n",
    "\n",
    "# Check if the sample size of 600 is adequate for the given power and effect size\n",
    "power_given_sample_size = sms.tt_ind_solve_power(effect_size=effect_size, alpha=alpha, nobs1=600, ratio=1.0, alternative='two-sided')\n",
    "\n",
    "print(f\"Power with sample size of 600: {power_given_sample_size:.4f}\")\n"
   ]
  },
  {
   "cell_type": "code",
   "execution_count": null,
   "metadata": {},
   "outputs": [],
   "source": []
  },
  {
   "cell_type": "code",
   "execution_count": null,
   "metadata": {},
   "outputs": [],
   "source": []
  },
  {
   "cell_type": "markdown",
   "metadata": {},
   "source": [
    "# x scrap later"
   ]
  },
  {
   "cell_type": "code",
   "execution_count": null,
   "metadata": {},
   "outputs": [],
   "source": []
  },
  {
   "cell_type": "markdown",
   "metadata": {},
   "source": [
    "# Log info"
   ]
  },
  {
   "cell_type": "raw",
   "metadata": {},
   "source": [
    "PRIMJER normalize_number POBOLJŠANJE WER\n",
    "15 lip 2024 21:14h\n",
    "\n",
    "original_tokens: \n",
    "['i', 'bit', 'ću', 'malo', 'neskroman', 'vi', 'mi', 'to', 'nećete', 'zamjeriti', 'mi', 'smo', 'pokazali', 'da', 'možemo', 'kao', 'manja', 'država', 'potaknuti', 'kolege', 'da', 'se', 'promjene', 'kriteriji', 'u', 'poglavlju', 'dvadeset', 'tri']\n",
    "\n",
    "asr_tokens: \n",
    "['i', 'bit', 'će', 'malo', 'neshroman', 'i', 'mi', 'to', 'nećete', 'zamjeriti', 'mi', 'smo', 'pokazali', 'da', 'možemo', 'kao', 'manja', 'država', 'potaknuti', 'kolege', 'da', 'se', 'promijene', 'kriteriji', 'u', 'poglavlju', '23']\n",
    "\n",
    "normalized_asr_tokens: \n",
    "['i', 'bit', 'će', 'malo', 'neshroman', 'i', 'mi', 'to', 'nećete', 'zamjeriti', 'mi', 'smo', 'pokazali', 'da', 'možemo', 'kao', 'manja', 'država', 'potaknuti', 'kolege', 'da', 'se', 'promijene', 'kriteriji', 'u', 'poglavlju', 'dvadeset', 'tri']\n",
    "\n",
    "aligned_asr_tokens: \n",
    "['i', 'bit', 'će', 'malo', 'neshroman', 'i', 'mi', 'to', 'nećete', 'zamjeriti', 'mi', 'smo', 'pokazali', 'da', 'možemo', 'kao', 'manja', 'država', 'potaknuti', 'kolege', 'da', 'se', 'promijene', 'kriteriji', 'u', 'poglavlju', 'dvadeset', 'tri']"
   ]
  },
  {
   "cell_type": "raw",
   "metadata": {},
   "source": [
    "Transcription-depadded: stopa poreza na dobit smanjivala za manje i za male poduzetnike i opća stopa koja je bila 20 na 18 a za male na 12 znači unatoč tome prihodi od poreza na dobit su porasli\n",
    "Type of text: <class 'str'>\n",
    "doing the big align\n",
    "counting delets\n",
    "doing subs\n",
    "subs don\n",
    "make_model: non\n",
    "Transcription seg.9QefQWet3Gg_1786.3-1805.46.flac: stopa poreza na dobit smanjivala za manje i za male poduzetnike i opća stopa koja je bila 20 na 18 a za male na 12 znači unatoč tome prihodi od poreza na dobit su porasli\n",
    "original_tokens: \n",
    "['stopa', 'poreza', 'na', 'dobit', 'smanjivala', 'za', 'manje', 'i', 'za', 'male', 'poduzetnike', 'i', 'opća', 'stopa', 'koja', 'je', 'bila', 'dvadeset', 'posto', 'na', 'osamnaest', 'a', 'za', 'male', 'na', 'dvanaest', 'znači', 'unatoč', 'tome', 'prihodi', 'od', 'poreza', 'na', 'dobit', 'su', 'porasli']\n",
    "\n",
    "asr_tokens: \n",
    "['stopa', 'poreza', 'na', 'dobit', 'smanjivala', 'za', 'manje', 'i', 'za', 'male', 'poduzetnike', 'i', 'opća', 'stopa', 'koja', 'je', 'bila', '20', 'na', '18', 'a', 'za', 'male', 'na', '12', 'znači', 'unatoč', 'tome', 'prihodi', 'od', 'poreza', 'na', 'dobit', 'su', 'porasli']\n",
    "\n",
    "normalized_asr_tokens: \n",
    "['stopa', 'poreza', 'na', 'dobit', 'smanjivala', 'za', 'manje', 'i', 'za', 'male', 'poduzetnike', 'i', 'opća', 'stopa', 'koja', 'je', 'bila', 'dvadeset', 'na', 'osamnaest', 'a', 'za', 'male', 'na', 'dvanaest', 'znači', 'unatoč', 'tome', 'prihodi', 'od', 'poreza', 'na', 'dobit', 'su', 'porasli']\n",
    "\n",
    "aligned_asr_tokens: \n",
    "['stopa', 'poreza', 'na', 'dobit', 'smanjivala', 'za', 'manje', 'i', 'za', 'male', 'poduzetnike', 'i', 'opća', 'stopa', 'koja', 'je', 'bila', 'dvadeset', None, 'na', 'osamnaest', 'a', 'za', 'male', 'na', 'dvanaest', 'znači', 'unatoč', 'tome', 'prihodi', 'od', 'poreza', 'na', 'dobit', 'su', 'porasli']\n",
    "\n",
    "ASR Deletions: 1\n",
    "ASR Additions: 0\n",
    "ASR Substitutions: 0\n",
    "\n",
    "Total Tokens: 36"
   ]
  },
  {
   "cell_type": "raw",
   "metadata": {},
   "source": [
    "WORKING WITH v3.6 ## BOTH W and W/out LM WORKING\n",
    "CHECKED 17 lip 2024 23:38h\n",
    "\n",
    "VERSIONS OF PYTORCH\n",
    "\n",
    "Name: torch\n",
    "Version: 2.3.1\n",
    "Summary: Tensors and Dynamic neural networks in Python with strong GPU acceleration\n",
    "Home-page: https://pytorch.org/\n",
    "Author: PyTorch Team\n",
    "Author-email: packages@pytorch.org\n",
    "License: BSD-3\n",
    "Location: C:\\Users\\Public\\anaconda3\\envs\\PyPhon\\Lib\\site-packages\n",
    "Requires: filelock, fsspec, jinja2, mkl, networkx, sympy, typing-extensions\n",
    "Required-by: accelerate, optimum, sentence-transformers, torchaudio, torchvision\n",
    "WARNING: Skipping C:\\Users\\Public\\anaconda3\\envs\\PyPhon\\Lib\\site-packages\\pandas-2.1.4.dist-info due to invalid metadata entry 'name'\n",
    "Name: torchvision\n",
    "Version: 0.18.1\n",
    "Summary: image and video datasets and models for torch deep learning\n",
    "Home-page: https://github.com/pytorch/vision\n",
    "Author: PyTorch Core Team\n",
    "Author-email: soumith@pytorch.org\n",
    "License: BSD\n",
    "Location: C:\\Users\\Public\\anaconda3\\envs\\PyPhon\\Lib\\site-packages\n",
    "Requires: numpy, pillow, torch\n",
    "Required-by: sentence-transformers\n",
    "WARNING: Skipping C:\\Users\\Public\\anaconda3\\envs\\PyPhon\\Lib\\site-packages\\pandas-2.1.4.dist-info due to invalid metadata entry 'name'\n",
    "Name: torchaudio\n",
    "Version: 2.3.1\n",
    "Summary: An audio package for PyTorch\n",
    "Home-page: https://github.com/pytorch/audio\n",
    "Author: Soumith Chintala, David Pollack, Sean Naren, Peter Goldsborough, Moto Hira, Caroline Chen, Jeff Hwang, Zhaoheng Ni, Xiaohui Zhang\n",
    "Author-email: soumith@pytorch.org\n",
    "License: \n",
    "Location: C:\\Users\\Public\\anaconda3\\envs\\PyPhon\\Lib\\site-packages\n",
    "Requires: torch\n",
    "Required-by: \n",
    "WARNING: Skipping C:\\Users\\Public\\anaconda3\\envs\\PyPhon\\Lib\\site-packages\\pandas-2.1.4.dist-info due to invalid metadata entry 'name'"
   ]
  },
  {
   "cell_type": "raw",
   "metadata": {
    "execution": {
     "iopub.execute_input": "2024-06-15T14:04:14.696510Z",
     "iopub.status.busy": "2024-06-15T14:04:14.696510Z",
     "iopub.status.idle": "2024-06-15T14:04:14.699823Z",
     "shell.execute_reply": "2024-06-15T14:04:14.699823Z",
     "shell.execute_reply.started": "2024-06-15T14:04:14.696510Z"
    }
   },
   "source": [
    "WORKING WITH v3.0 ## BOTH W and W/out LM WORKING\n",
    "CHECKED 15 lip 2024 17:45h\n",
    "\n",
    "VERSIONS OF PYTORCH\n",
    "\n",
    "Name: torch\n",
    "Version: 2.1.2\n",
    "Summary: Tensors and Dynamic neural networks in Python with strong GPU acceleration\n",
    "Home-page: https://pytorch.org/\n",
    "Author: PyTorch Team\n",
    "Author-email: packages@pytorch.org\n",
    "License: BSD-3\n",
    "Location: C:\\Users\\Public\\anaconda3\\envs\\PyPhon\\Lib\\site-packages\n",
    "Requires: filelock, fsspec, jinja2, networkx, sympy, typing-extensions\n",
    "Required-by: accelerate, optimum, sentence-transformers, torchaudio, torchvision\n",
    "WARNING: Skipping C:\\Users\\Public\\anaconda3\\envs\\PyPhon\\Lib\\site-packages\\pandas-2.1.4.dist-info due to invalid metadata entry 'name'\n",
    "Name: torchvision\n",
    "Version: 0.16.2\n",
    "Summary: image and video datasets and models for torch deep learning\n",
    "Home-page: https://github.com/pytorch/vision\n",
    "Author: PyTorch Core Team\n",
    "Author-email: soumith@pytorch.org\n",
    "License: BSD\n",
    "Location: C:\\Users\\Public\\anaconda3\\envs\\PyPhon\\Lib\\site-packages\n",
    "Requires: numpy, pillow, requests, torch\n",
    "Required-by: sentence-transformers\n",
    "WARNING: Skipping C:\\Users\\Public\\anaconda3\\envs\\PyPhon\\Lib\\site-packages\\pandas-2.1.4.dist-info due to invalid metadata entry 'name'\n",
    "Name: torchaudio\n",
    "Version: 2.3.1\n",
    "Summary: An audio package for PyTorch\n",
    "Home-page: https://github.com/pytorch/audio\n",
    "Author: Soumith Chintala, David Pollack, Sean Naren, Peter Goldsborough, Moto Hira, Caroline Chen, Jeff Hwang, Zhaoheng Ni, Xiaohui Zhang\n",
    "Author-email: soumith@pytorch.org\n",
    "License: \n",
    "Location: C:\\Users\\Public\\anaconda3\\envs\\PyPhon\\Lib\\site-packages\n",
    "Requires: torch\n",
    "Required-by: "
   ]
  },
  {
   "cell_type": "code",
   "execution_count": null,
   "metadata": {},
   "outputs": [],
   "source": []
  }
 ],
 "metadata": {
  "colab": {
   "authorship_tag": "ABX9TyO3uz19EkBaZsrjq2rN6rV0",
   "provenance": [
    {
     "file_id": "1T9A_vTHdaB2oOuRCRRwTTAHs1379J-6l",
     "timestamp": 1718361648667
    }
   ],
   "toc_visible": true
  },
  "kernelspec": {
   "display_name": "PyPhon",
   "language": "python",
   "name": "pyphon"
  },
  "language_info": {
   "codemirror_mode": {
    "name": "ipython",
    "version": 3
   },
   "file_extension": ".py",
   "mimetype": "text/x-python",
   "name": "python",
   "nbconvert_exporter": "python",
   "pygments_lexer": "ipython3",
   "version": "3.11.8"
  }
 },
 "nbformat": 4,
 "nbformat_minor": 4
}
